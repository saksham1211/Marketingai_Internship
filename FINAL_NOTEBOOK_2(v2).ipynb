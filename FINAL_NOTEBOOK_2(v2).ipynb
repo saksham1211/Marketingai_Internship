{
  "nbformat": 4,
  "nbformat_minor": 0,
  "metadata": {
    "colab": {
      "name": "FINAL_NOTEBOOK_2(v2).ipynb",
      "provenance": [],
      "collapsed_sections": [
        "FzC3dsuq1SeF",
        "vnerlSOw1sfw",
        "1Gww0uiYd-Yq",
        "1XuGmWadoLRC",
        "eTRQs-lmpB0j"
      ],
      "include_colab_link": true
    },
    "kernelspec": {
      "name": "python3",
      "display_name": "Python 3"
    }
  },
  "cells": [
    {
      "cell_type": "markdown",
      "metadata": {
        "id": "view-in-github",
        "colab_type": "text"
      },
      "source": [
        "<a href=\"https://colab.research.google.com/github/saksham1211/Marketingai_Internship/blob/master/FINAL_NOTEBOOK_2(v2).ipynb\" target=\"_parent\"><img src=\"https://colab.research.google.com/assets/colab-badge.svg\" alt=\"Open In Colab\"/></a>"
      ]
    },
    {
      "cell_type": "markdown",
      "metadata": {
        "id": "ZbSXvfRJ0uSB",
        "colab_type": "text"
      },
      "source": [
        "# **FINAL NOTEBOOK 2**\n",
        "\n",
        "This notebook is a collection of three different components which are aimed to predict the category of a 401(K) investment company, based on the form given as the input.\n",
        "\n",
        "**Input:-** Form of the investment company (*PDF FORMAT*)\n",
        "\n",
        "**Output:-** *Category* ['Charles Schwab', 'Merrill Lynch', 'American Trade'..........]"
      ]
    },
    {
      "cell_type": "markdown",
      "metadata": {
        "id": "FzC3dsuq1SeF",
        "colab_type": "text"
      },
      "source": [
        "### **<------------------Upload PDF------------------>**"
      ]
    },
    {
      "cell_type": "code",
      "metadata": {
        "id": "DMXAERBEwmnR",
        "colab_type": "code",
        "outputId": "5cdec018-b60f-4009-ab3c-f42419a4611d",
        "colab": {
          "base_uri": "https://localhost:8080/",
          "height": 122
        }
      },
      "source": [
        "from google.colab import drive\n",
        "drive.mount('/content/drive')"
      ],
      "execution_count": 0,
      "outputs": [
        {
          "output_type": "stream",
          "text": [
            "Go to this URL in a browser: https://accounts.google.com/o/oauth2/auth?client_id=947318989803-6bn6qk8qdgf4n4g3pfee6491hc0brc4i.apps.googleusercontent.com&redirect_uri=urn%3aietf%3awg%3aoauth%3a2.0%3aoob&response_type=code&scope=email%20https%3a%2f%2fwww.googleapis.com%2fauth%2fdocs.test%20https%3a%2f%2fwww.googleapis.com%2fauth%2fdrive%20https%3a%2f%2fwww.googleapis.com%2fauth%2fdrive.photos.readonly%20https%3a%2f%2fwww.googleapis.com%2fauth%2fpeopleapi.readonly\n",
            "\n",
            "Enter your authorization code:\n",
            "··········\n",
            "Mounted at /content/drive\n"
          ],
          "name": "stdout"
        }
      ]
    },
    {
      "cell_type": "code",
      "metadata": {
        "id": "nD_Szg0R1Z6u",
        "colab_type": "code",
        "outputId": "4b98df30-3434-4d3c-f82d-f2fdc210f4f3",
        "colab": {
          "base_uri": "https://localhost:8080/",
          "height": 326
        }
      },
      "source": [
        "pip install pdf2jpg"
      ],
      "execution_count": 0,
      "outputs": [
        {
          "output_type": "stream",
          "text": [
            "Collecting pdf2jpg\n",
            "\u001b[?25l  Downloading https://files.pythonhosted.org/packages/c8/73/36611a5b4fe56570faf386df294483d6e0f115664f458b4e4979359fcb56/pdf2jpg-1.0.tar.gz (4.3MB)\n",
            "\u001b[K     |████████████████████████████████| 4.3MB 4.7MB/s \n",
            "\u001b[?25hCollecting img2pdf\n",
            "\u001b[?25l  Downloading https://files.pythonhosted.org/packages/65/12/6ee1a77614df6decefd88f781cf95b73acf93f0cc9eb03bd5042d116b85d/img2pdf-0.3.6.tar.gz (91kB)\n",
            "\u001b[K     |████████████████████████████████| 92kB 9.6MB/s \n",
            "\u001b[?25hRequirement already satisfied: Pillow in /usr/local/lib/python3.6/dist-packages (from img2pdf->pdf2jpg) (7.0.0)\n",
            "Building wheels for collected packages: pdf2jpg, img2pdf\n",
            "  Building wheel for pdf2jpg (setup.py) ... \u001b[?25l\u001b[?25hdone\n",
            "  Created wheel for pdf2jpg: filename=pdf2jpg-1.0-cp36-none-any.whl size=4287419 sha256=55a0fc735076e7d4ed3031f96cb22055a547683fa726e91db90b149d4daf4e41\n",
            "  Stored in directory: /root/.cache/pip/wheels/bd/dc/72/17e98df36aef90f761a81a74f84414ef16db83fdaa69739909\n",
            "  Building wheel for img2pdf (setup.py) ... \u001b[?25l\u001b[?25hdone\n",
            "  Created wheel for img2pdf: filename=img2pdf-0.3.6-cp36-none-any.whl size=39048 sha256=cd66f6b0b5d3801435232b83c4d9af77fe09f41d9eb769e47a1046a1094e4484\n",
            "  Stored in directory: /root/.cache/pip/wheels/8c/1c/68/d8764ed7988b469446ed181a656166170ec45b6b1f974f0236\n",
            "Successfully built pdf2jpg img2pdf\n",
            "Installing collected packages: img2pdf, pdf2jpg\n",
            "Successfully installed img2pdf-0.3.6 pdf2jpg-1.0\n"
          ],
          "name": "stdout"
        }
      ]
    },
    {
      "cell_type": "code",
      "metadata": {
        "id": "t_jWsHip1cOp",
        "colab_type": "code",
        "outputId": "530e072a-583a-4829-f3e7-4f3206e8e44c",
        "colab": {
          "resources": {
            "http://localhost:8080/nbextensions/google.colab/files.js": {
              "data": "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",
              "ok": true,
              "headers": [
                [
                  "content-type",
                  "application/javascript"
                ]
              ],
              "status": 200,
              "status_text": ""
            }
          },
          "base_uri": "https://localhost:8080/",
          "height": 74
        }
      },
      "source": [
        "from io import StringIO\n",
        "from google.colab import files\n",
        "uploaded = files.upload()"
      ],
      "execution_count": 0,
      "outputs": [
        {
          "output_type": "display_data",
          "data": {
            "text/html": [
              "\n",
              "     <input type=\"file\" id=\"files-a72e0f15-2c1b-4369-a89f-3f813e98643f\" name=\"files[]\" multiple disabled />\n",
              "     <output id=\"result-a72e0f15-2c1b-4369-a89f-3f813e98643f\">\n",
              "      Upload widget is only available when the cell has been executed in the\n",
              "      current browser session. Please rerun this cell to enable.\n",
              "      </output>\n",
              "      <script src=\"/nbextensions/google.colab/files.js\"></script> "
            ],
            "text/plain": [
              "<IPython.core.display.HTML object>"
            ]
          },
          "metadata": {
            "tags": []
          }
        },
        {
          "output_type": "stream",
          "text": [
            "Saving Bobby_J_Cole_.pdf to Bobby_J_Cole_.pdf\n"
          ],
          "name": "stdout"
        }
      ]
    },
    {
      "cell_type": "code",
      "metadata": {
        "id": "npMCBRsV1eNw",
        "colab_type": "code",
        "colab": {}
      },
      "source": [
        "PDF_PATH = '/content/Bobby_J_Cole_.pdf'"
      ],
      "execution_count": 0,
      "outputs": []
    },
    {
      "cell_type": "code",
      "metadata": {
        "id": "rt3PZYsa1f7c",
        "colab_type": "code",
        "colab": {}
      },
      "source": [
        "from pdf2jpg import pdf2jpg\n",
        "inputpath = PDF_PATH\n",
        "outputpath = \"/content\"\n",
        "# To convert single page\n",
        "result = pdf2jpg.convert_pdf2jpg(inputpath, outputpath, pages=\"0\")\n"
      ],
      "execution_count": 0,
      "outputs": []
    },
    {
      "cell_type": "markdown",
      "metadata": {
        "id": "aObCBLGJ1iT9",
        "colab_type": "text"
      },
      "source": [
        "**IMAGE PATH**"
      ]
    },
    {
      "cell_type": "code",
      "metadata": {
        "id": "PJCH_szx1i9j",
        "colab_type": "code",
        "colab": {}
      },
      "source": [
        "IMAGE_PATH = '/content/Bobby_J_Cole_.pdf_dir/0_Bobby_J_Cole_.pdf.jpg'"
      ],
      "execution_count": 0,
      "outputs": []
    },
    {
      "cell_type": "code",
      "metadata": {
        "id": "ns5yOXBW1mti",
        "colab_type": "code",
        "outputId": "90176022-78fe-41b8-8a11-c5890e11cc99",
        "colab": {
          "base_uri": "https://localhost:8080/",
          "height": 299
        }
      },
      "source": [
        "%pylab inline\n",
        "import matplotlib.pyplot as plt\n",
        "import matplotlib.image as mpimg\n",
        "img=mpimg.imread(IMAGE_PATH)\n",
        "imgplot = plt.imshow(img)\n",
        "axis('off')\n",
        "plt.show()\n",
        "\n",
        "print()\n",
        "print(\"SUCCESSFULLY CONVERTED PDF INTO JPG !\")"
      ],
      "execution_count": 0,
      "outputs": [
        {
          "output_type": "stream",
          "text": [
            "Populating the interactive namespace from numpy and matplotlib\n"
          ],
          "name": "stdout"
        },
        {
          "output_type": "display_data",
          "data": {
            "image/png": "[encoded data removed]",
            "text/plain": [
              "<Figure size 432x288 with 1 Axes>"
            ]
          },
          "metadata": {
            "tags": [],
            "needs_background": "light"
          }
        },
        {
          "output_type": "stream",
          "text": [
            "\n",
            "SUCCESSFULLY CONVERTED PDF INTO JPG !\n"
          ],
          "name": "stdout"
        }
      ]
    },
    {
      "cell_type": "markdown",
      "metadata": {
        "id": "vnerlSOw1sfw",
        "colab_type": "text"
      },
      "source": [
        "## **LOGO AND TYPE DETECTION (*OBJECT DETECTION*)**\n",
        "In this part of the Notebook, the converted JPEG file is given as the input and using the principles of object detection and using the YOLOV3 Framework, we predict the *name of the company* and the *type of form*.\n",
        "\n",
        "**Input:-** JPEG FILE\n",
        "\n",
        "**Output:-** *Category* ['Merrill Lynch', 'Charles Schwab'.......]  *Type* ['IRA, Client Account Transfer Form'......] "
      ]
    },
    {
      "cell_type": "code",
      "metadata": {
        "id": "vc-xNOj31wHO",
        "colab_type": "code",
        "outputId": "6fd3dfa1-ed9d-4a51-b922-5dd96c8971d2",
        "colab": {
          "base_uri": "https://localhost:8080/",
          "height": 683
        }
      },
      "source": [
        "!pip3 install tensorflow-gpu==1.13.1"
      ],
      "execution_count": 0,
      "outputs": [
        {
          "output_type": "stream",
          "text": [
            "Collecting tensorflow-gpu==1.13.1\n",
            "\u001b[?25l  Downloading https://files.pythonhosted.org/packages/7b/b1/0ad4ae02e17ddd62109cd54c291e311c4b5fd09b4d0678d3d6ce4159b0f0/tensorflow_gpu-1.13.1-cp36-cp36m-manylinux1_x86_64.whl (345.2MB)\n",
            "\u001b[K     |████████████████████████████████| 345.2MB 42kB/s \n",
            "\u001b[?25hCollecting tensorflow-estimator<1.14.0rc0,>=1.13.0\n",
            "\u001b[?25l  Downloading https://files.pythonhosted.org/packages/bb/48/13f49fc3fa0fdf916aa1419013bb8f2ad09674c275b4046d5ee669a46873/tensorflow_estimator-1.13.0-py2.py3-none-any.whl (367kB)\n",
            "\u001b[K     |████████████████████████████████| 368kB 28.5MB/s \n",
            "\u001b[?25hRequirement already satisfied: keras-preprocessing>=1.0.5 in /usr/local/lib/python3.6/dist-packages (from tensorflow-gpu==1.13.1) (1.1.2)\n",
            "Collecting tensorboard<1.14.0,>=1.13.0\n",
            "\u001b[?25l  Downloading https://files.pythonhosted.org/packages/0f/39/bdd75b08a6fba41f098b6cb091b9e8c7a80e1b4d679a581a0ccd17b10373/tensorboard-1.13.1-py3-none-any.whl (3.2MB)\n",
            "\u001b[K     |████████████████████████████████| 3.2MB 46.1MB/s \n",
            "\u001b[?25hRequirement already satisfied: gast>=0.2.0 in /usr/local/lib/python3.6/dist-packages (from tensorflow-gpu==1.13.1) (0.3.3)\n",
            "Requirement already satisfied: six>=1.10.0 in /usr/local/lib/python3.6/dist-packages (from tensorflow-gpu==1.13.1) (1.12.0)\n",
            "Requirement already satisfied: protobuf>=3.6.1 in /usr/local/lib/python3.6/dist-packages (from tensorflow-gpu==1.13.1) (3.10.0)\n",
            "Requirement already satisfied: absl-py>=0.1.6 in /usr/local/lib/python3.6/dist-packages (from tensorflow-gpu==1.13.1) (0.9.0)\n",
            "Requirement already satisfied: grpcio>=1.8.6 in /usr/local/lib/python3.6/dist-packages (from tensorflow-gpu==1.13.1) (1.29.0)\n",
            "Requirement already satisfied: numpy>=1.13.3 in /usr/local/lib/python3.6/dist-packages (from tensorflow-gpu==1.13.1) (1.18.4)\n",
            "Requirement already satisfied: wheel>=0.26 in /usr/local/lib/python3.6/dist-packages (from tensorflow-gpu==1.13.1) (0.34.2)\n",
            "Requirement already satisfied: astor>=0.6.0 in /usr/local/lib/python3.6/dist-packages (from tensorflow-gpu==1.13.1) (0.8.1)\n",
            "Requirement already satisfied: termcolor>=1.1.0 in /usr/local/lib/python3.6/dist-packages (from tensorflow-gpu==1.13.1) (1.1.0)\n",
            "Requirement already satisfied: keras-applications>=1.0.6 in /usr/local/lib/python3.6/dist-packages (from tensorflow-gpu==1.13.1) (1.0.8)\n",
            "Collecting mock>=2.0.0\n",
            "  Downloading https://files.pythonhosted.org/packages/cd/74/d72daf8dff5b6566db857cfd088907bb0355f5dd2914c4b3ef065c790735/mock-4.0.2-py3-none-any.whl\n",
            "Requirement already satisfied: markdown>=2.6.8 in /usr/local/lib/python3.6/dist-packages (from tensorboard<1.14.0,>=1.13.0->tensorflow-gpu==1.13.1) (3.2.2)\n",
            "Requirement already satisfied: werkzeug>=0.11.15 in /usr/local/lib/python3.6/dist-packages (from tensorboard<1.14.0,>=1.13.0->tensorflow-gpu==1.13.1) (1.0.1)\n",
            "Requirement already satisfied: setuptools in /usr/local/lib/python3.6/dist-packages (from protobuf>=3.6.1->tensorflow-gpu==1.13.1) (46.3.0)\n",
            "Requirement already satisfied: h5py in /usr/local/lib/python3.6/dist-packages (from keras-applications>=1.0.6->tensorflow-gpu==1.13.1) (2.10.0)\n",
            "Requirement already satisfied: importlib-metadata; python_version < \"3.8\" in /usr/local/lib/python3.6/dist-packages (from markdown>=2.6.8->tensorboard<1.14.0,>=1.13.0->tensorflow-gpu==1.13.1) (1.6.0)\n",
            "Requirement already satisfied: zipp>=0.5 in /usr/local/lib/python3.6/dist-packages (from importlib-metadata; python_version < \"3.8\"->markdown>=2.6.8->tensorboard<1.14.0,>=1.13.0->tensorflow-gpu==1.13.1) (3.1.0)\n",
            "\u001b[31mERROR: tensorflow 2.2.0 has requirement tensorboard<2.3.0,>=2.2.0, but you'll have tensorboard 1.13.1 which is incompatible.\u001b[0m\n",
            "\u001b[31mERROR: tensorflow 2.2.0 has requirement tensorflow-estimator<2.3.0,>=2.2.0, but you'll have tensorflow-estimator 1.13.0 which is incompatible.\u001b[0m\n",
            "Installing collected packages: mock, tensorflow-estimator, tensorboard, tensorflow-gpu\n",
            "  Found existing installation: tensorflow-estimator 2.2.0\n",
            "    Uninstalling tensorflow-estimator-2.2.0:\n",
            "      Successfully uninstalled tensorflow-estimator-2.2.0\n",
            "  Found existing installation: tensorboard 2.2.1\n",
            "    Uninstalling tensorboard-2.2.1:\n",
            "      Successfully uninstalled tensorboard-2.2.1\n",
            "Successfully installed mock-4.0.2 tensorboard-1.13.1 tensorflow-estimator-1.13.0 tensorflow-gpu-1.13.1\n"
          ],
          "name": "stdout"
        }
      ]
    },
    {
      "cell_type": "code",
      "metadata": {
        "id": "SHbWVcOd16f5",
        "colab_type": "code",
        "outputId": "ed84915c-a818-4b47-90de-5060a3c42d03",
        "colab": {
          "base_uri": "https://localhost:8080/",
          "height": 292
        }
      },
      "source": [
        "!pip3 install imageai --upgrade"
      ],
      "execution_count": 0,
      "outputs": [
        {
          "output_type": "stream",
          "text": [
            "Collecting imageai\n",
            "\u001b[?25l  Downloading https://files.pythonhosted.org/packages/09/99/4023e191a343fb23f01ae02ac57a5ca58037c310e8d8c62f87638a3bafc7/imageai-2.1.5-py3-none-any.whl (180kB)\n",
            "\r\u001b[K     |█▉                              | 10kB 15.8MB/s eta 0:00:01\r\u001b[K     |███▋                            | 20kB 2.6MB/s eta 0:00:01\r\u001b[K     |█████▍                          | 30kB 3.8MB/s eta 0:00:01\r\u001b[K     |███████▎                        | 40kB 2.7MB/s eta 0:00:01\r\u001b[K     |█████████                       | 51kB 3.4MB/s eta 0:00:01\r\u001b[K     |██████████▉                     | 61kB 4.0MB/s eta 0:00:01\r\u001b[K     |████████████▊                   | 71kB 4.6MB/s eta 0:00:01\r\u001b[K     |██████████████▌                 | 81kB 5.1MB/s eta 0:00:01\r\u001b[K     |████████████████▎               | 92kB 5.7MB/s eta 0:00:01\r\u001b[K     |██████████████████▏             | 102kB 4.6MB/s eta 0:00:01\r\u001b[K     |████████████████████            | 112kB 4.6MB/s eta 0:00:01\r\u001b[K     |█████████████████████▊          | 122kB 4.6MB/s eta 0:00:01\r\u001b[K     |███████████████████████▋        | 133kB 4.6MB/s eta 0:00:01\r\u001b[K     |█████████████████████████▍      | 143kB 4.6MB/s eta 0:00:01\r\u001b[K     |███████████████████████████▏    | 153kB 4.6MB/s eta 0:00:01\r\u001b[K     |█████████████████████████████   | 163kB 4.6MB/s eta 0:00:01\r\u001b[K     |██████████████████████████████▉ | 174kB 4.6MB/s eta 0:00:01\r\u001b[K     |████████████████████████████████| 184kB 4.6MB/s \n",
            "\u001b[?25hRequirement already satisfied, skipping upgrade: numpy in /usr/local/lib/python3.6/dist-packages (from imageai) (1.18.4)\n",
            "Requirement already satisfied, skipping upgrade: pillow in /usr/local/lib/python3.6/dist-packages (from imageai) (7.0.0)\n",
            "Requirement already satisfied, skipping upgrade: matplotlib in /usr/local/lib/python3.6/dist-packages (from imageai) (3.2.1)\n",
            "Requirement already satisfied, skipping upgrade: scipy in /usr/local/lib/python3.6/dist-packages (from imageai) (1.4.1)\n",
            "Requirement already satisfied, skipping upgrade: h5py in /usr/local/lib/python3.6/dist-packages (from imageai) (2.10.0)\n",
            "Requirement already satisfied, skipping upgrade: pyparsing!=2.0.4,!=2.1.2,!=2.1.6,>=2.0.1 in /usr/local/lib/python3.6/dist-packages (from matplotlib->imageai) (2.4.7)\n",
            "Requirement already satisfied, skipping upgrade: kiwisolver>=1.0.1 in /usr/local/lib/python3.6/dist-packages (from matplotlib->imageai) (1.2.0)\n",
            "Requirement already satisfied, skipping upgrade: python-dateutil>=2.1 in /usr/local/lib/python3.6/dist-packages (from matplotlib->imageai) (2.8.1)\n",
            "Requirement already satisfied, skipping upgrade: cycler>=0.10 in /usr/local/lib/python3.6/dist-packages (from matplotlib->imageai) (0.10.0)\n",
            "Requirement already satisfied, skipping upgrade: six in /usr/local/lib/python3.6/dist-packages (from h5py->imageai) (1.12.0)\n",
            "Installing collected packages: imageai\n",
            "Successfully installed imageai-2.1.5\n"
          ],
          "name": "stdout"
        }
      ]
    },
    {
      "cell_type": "code",
      "metadata": {
        "id": "RX0X9KIW2ASH",
        "colab_type": "code",
        "colab": {}
      },
      "source": [
        "from imageai.Detection.Custom import CustomObjectDetection\n",
        "\n",
        "detector = CustomObjectDetection()\n",
        "\n",
        "detector.setModelTypeAsYOLOv3()\n",
        "\n",
        "prediction_dictionary= {}\n",
        "prediction_name=[]\n",
        "prediction_probab=[]\n",
        "tick_box_field = []\n",
        "\n",
        "detector.setModelPath(\"/content/drive/My Drive/PASCAL_DATASET/models/detection_model-ex-027--loss-0007.398.h5\") \n",
        "detector.setJsonPath(\"/content/drive/My Drive/PASCAL_DATASET/json/detection_config.json\")\n",
        "detector.loadModel()\n",
        "detections = detector.detectObjectsFromImage(input_image=IMAGE_PATH, output_image_path=\"logo_detected_image.jpg\")\n",
        "for detection in detections:\n",
        "    # print(detection[\"name\"], \" : \", detection[\"percentage_probability\"], \" : \", detection[\"box_points\"])\n",
        "    prediction_name.append(detection[\"name\"])\n",
        "    prediction_probab.append(detection[\"percentage_probability\"])\n",
        "prediction_dictionary = dict(zip(prediction_probab, prediction_name))\n",
        "index1 = sorted(prediction_dictionary.keys())[-1]\n",
        "index2 = sorted(prediction_dictionary.keys())[-2]\n",
        "\n",
        "if(prediction_dictionary[index1] == \"Merrill Lynch\" or prediction_dictionary[index2] == \"Merrill Lynch\"):\n",
        "  tick_detector = CustomObjectDetection()\n",
        "\n",
        "  tick_detector.setModelTypeAsYOLOv3()\n",
        "\n",
        "  tick_detector.setModelPath(\"/content/drive/My Drive/tick_folder/models/detection_model-ex-034--loss-0009.293.h5\") \n",
        "  tick_detector.setJsonPath(\"/content/drive/My Drive/tick_folder/json/detection_config.json\")\n",
        "  tick_detector.loadModel()\n",
        "  tick_detections = tick_detector.detectObjectsFromImage(input_image=IMAGE_PATH, output_image_path=\"logo_detected_image.jpg\")\n",
        "  for detection in tick_detections:\n",
        "    # print(detection[\"name\"], \" : \", detection[\"percentage_probability\"], \" : \", detection[\"box_points\"])\n",
        "    tick_box_field.append(detection[\"name\"])\n",
        "else:\n",
        "  tick_box_field.append(\"No checkbox field is present in the form\")"
      ],
      "execution_count": 0,
      "outputs": []
    },
    {
      "cell_type": "code",
      "metadata": {
        "id": "uJPq0jaR2DFi",
        "colab_type": "code",
        "outputId": "7bca796d-128e-4cbb-bb52-4131061d7671",
        "colab": {
          "base_uri": "https://localhost:8080/",
          "height": 320
        }
      },
      "source": [
        "import numpy as np\n",
        "import cv2\n",
        "from matplotlib import pyplot as plt\n",
        "\n",
        "img = cv2.imread('/content/logo_detected_image.jpg',0)\n",
        "plt.imshow(img, cmap = 'gray', interpolation = 'bicubic')\n",
        "plt.xticks([]), plt.yticks([])\n",
        "plt.show()\n",
        "print()\n",
        "if prediction_dictionary[index1] in ['Charles Schwab', 'Merrill Lynch', 'Fidelity', 'American Funds']:\n",
        "  print(\"The company name is \", prediction_dictionary[index1])\n",
        "  print(\"Type of Form is \", prediction_dictionary[index2])\n",
        "  print(\"CheckBox Field:- \", tick_box_field[0])\n",
        "else:\n",
        "  print(\"The company name is \", prediction_dictionary[index2])\n",
        "  print(\"Type of form is \", prediction_dictionary[index1])\n",
        "  print(\"CheckBox Field:- \", tick_box_field[0])"
      ],
      "execution_count": 0,
      "outputs": [
        {
          "output_type": "display_data",
          "data": {
            "image/png": "[encoded data removed]",
            "text/plain": [
              "<Figure size 432x288 with 1 Axes>"
            ]
          },
          "metadata": {
            "tags": []
          }
        },
        {
          "output_type": "stream",
          "text": [
            "\n",
            "The company name is  Charles Schwab\n",
            "Type of Form is  IRA Account Application\n",
            "CheckBox Field:-  No checkbox field is present in the form\n"
          ],
          "name": "stdout"
        }
      ]
    },
    {
      "cell_type": "markdown",
      "metadata": {
        "id": "1Gww0uiYd-Yq",
        "colab_type": "text"
      },
      "source": [
        "## **Named Entity Recognition [NER]**\n",
        "Using the concepts of NER and OCR, we detect the text element fields in the form and then predict the category, type, and various other fields which are filled in the form.\n",
        "\n",
        "**Input:-** *FORM* [PDF/JPEG/PNG]\n",
        "\n",
        "**Output:-** *Category* ['Merrill Lynch', 'Charles Schwab'.......] *Type* ['IRA, Client Account Transfer Form'].......*Name*['Jacobs'....], *City*['New York'....]"
      ]
    },
    {
      "cell_type": "code",
      "metadata": {
        "id": "PaZ_Ee6c3TrU",
        "colab_type": "code",
        "outputId": "a6a4bab1-7769-4a20-fd19-1c744cc8269d",
        "colab": {
          "base_uri": "https://localhost:8080/",
          "height": 373
        }
      },
      "source": [
        "!pip install -U spacy"
      ],
      "execution_count": 0,
      "outputs": [
        {
          "output_type": "stream",
          "text": [
            "Requirement already up-to-date: spacy in /usr/local/lib/python3.6/dist-packages (2.2.4)\n",
            "Requirement already satisfied, skipping upgrade: murmurhash<1.1.0,>=0.28.0 in /usr/local/lib/python3.6/dist-packages (from spacy) (1.0.2)\n",
            "Requirement already satisfied, skipping upgrade: preshed<3.1.0,>=3.0.2 in /usr/local/lib/python3.6/dist-packages (from spacy) (3.0.2)\n",
            "Requirement already satisfied, skipping upgrade: setuptools in /usr/local/lib/python3.6/dist-packages (from spacy) (46.3.0)\n",
            "Requirement already satisfied, skipping upgrade: cymem<2.1.0,>=2.0.2 in /usr/local/lib/python3.6/dist-packages (from spacy) (2.0.3)\n",
            "Requirement already satisfied, skipping upgrade: srsly<1.1.0,>=1.0.2 in /usr/local/lib/python3.6/dist-packages (from spacy) (1.0.2)\n",
            "Requirement already satisfied, skipping upgrade: requests<3.0.0,>=2.13.0 in /usr/local/lib/python3.6/dist-packages (from spacy) (2.23.0)\n",
            "Requirement already satisfied, skipping upgrade: tqdm<5.0.0,>=4.38.0 in /usr/local/lib/python3.6/dist-packages (from spacy) (4.41.1)\n",
            "Requirement already satisfied, skipping upgrade: numpy>=1.15.0 in /usr/local/lib/python3.6/dist-packages (from spacy) (1.18.4)\n",
            "Requirement already satisfied, skipping upgrade: blis<0.5.0,>=0.4.0 in /usr/local/lib/python3.6/dist-packages (from spacy) (0.4.1)\n",
            "Requirement already satisfied, skipping upgrade: wasabi<1.1.0,>=0.4.0 in /usr/local/lib/python3.6/dist-packages (from spacy) (0.6.0)\n",
            "Requirement already satisfied, skipping upgrade: plac<1.2.0,>=0.9.6 in /usr/local/lib/python3.6/dist-packages (from spacy) (1.1.3)\n",
            "Requirement already satisfied, skipping upgrade: thinc==7.4.0 in /usr/local/lib/python3.6/dist-packages (from spacy) (7.4.0)\n",
            "Requirement already satisfied, skipping upgrade: catalogue<1.1.0,>=0.0.7 in /usr/local/lib/python3.6/dist-packages (from spacy) (1.0.0)\n",
            "Requirement already satisfied, skipping upgrade: urllib3!=1.25.0,!=1.25.1,<1.26,>=1.21.1 in /usr/local/lib/python3.6/dist-packages (from requests<3.0.0,>=2.13.0->spacy) (1.24.3)\n",
            "Requirement already satisfied, skipping upgrade: chardet<4,>=3.0.2 in /usr/local/lib/python3.6/dist-packages (from requests<3.0.0,>=2.13.0->spacy) (3.0.4)\n",
            "Requirement already satisfied, skipping upgrade: certifi>=2017.4.17 in /usr/local/lib/python3.6/dist-packages (from requests<3.0.0,>=2.13.0->spacy) (2020.4.5.1)\n",
            "Requirement already satisfied, skipping upgrade: idna<3,>=2.5 in /usr/local/lib/python3.6/dist-packages (from requests<3.0.0,>=2.13.0->spacy) (2.9)\n",
            "Requirement already satisfied, skipping upgrade: importlib-metadata>=0.20; python_version < \"3.8\" in /usr/local/lib/python3.6/dist-packages (from catalogue<1.1.0,>=0.0.7->spacy) (1.6.0)\n",
            "Requirement already satisfied, skipping upgrade: zipp>=0.5 in /usr/local/lib/python3.6/dist-packages (from importlib-metadata>=0.20; python_version < \"3.8\"->catalogue<1.1.0,>=0.0.7->spacy) (3.1.0)\n"
          ],
          "name": "stdout"
        }
      ]
    },
    {
      "cell_type": "code",
      "metadata": {
        "id": "ir_XsewOeOEM",
        "colab_type": "code",
        "outputId": "dcfa9a84-be9c-4131-d2c8-9403c8e1d106",
        "colab": {
          "base_uri": "https://localhost:8080/",
          "height": 491
        }
      },
      "source": [
        "# The google-cloud-vision package already installed in colab, no need to install.\n",
        "!pip install --upgrade google-cloud-vision"
      ],
      "execution_count": 0,
      "outputs": [
        {
          "output_type": "stream",
          "text": [
            "Collecting google-cloud-vision\n",
            "\u001b[?25l  Downloading https://files.pythonhosted.org/packages/0d/7f/e10d602c2dc3f749f1b78377a3357790f1da71b28e7da9e5bc20b3a9bd40/google_cloud_vision-1.0.0-py2.py3-none-any.whl (435kB)\n",
            "\u001b[K     |████████████████████████████████| 440kB 2.7MB/s \n",
            "\u001b[?25hRequirement already satisfied, skipping upgrade: google-api-core[grpc]<2.0.0dev,>=1.14.0 in /usr/local/lib/python3.6/dist-packages (from google-cloud-vision) (1.16.0)\n",
            "Requirement already satisfied, skipping upgrade: setuptools>=34.0.0 in /usr/local/lib/python3.6/dist-packages (from google-api-core[grpc]<2.0.0dev,>=1.14.0->google-cloud-vision) (46.3.0)\n",
            "Requirement already satisfied, skipping upgrade: requests<3.0.0dev,>=2.18.0 in /usr/local/lib/python3.6/dist-packages (from google-api-core[grpc]<2.0.0dev,>=1.14.0->google-cloud-vision) (2.23.0)\n",
            "Requirement already satisfied, skipping upgrade: google-auth<2.0dev,>=0.4.0 in /usr/local/lib/python3.6/dist-packages (from google-api-core[grpc]<2.0.0dev,>=1.14.0->google-cloud-vision) (1.7.2)\n",
            "Requirement already satisfied, skipping upgrade: googleapis-common-protos<2.0dev,>=1.6.0 in /usr/local/lib/python3.6/dist-packages (from google-api-core[grpc]<2.0.0dev,>=1.14.0->google-cloud-vision) (1.51.0)\n",
            "Requirement already satisfied, skipping upgrade: protobuf>=3.4.0 in /usr/local/lib/python3.6/dist-packages (from google-api-core[grpc]<2.0.0dev,>=1.14.0->google-cloud-vision) (3.10.0)\n",
            "Requirement already satisfied, skipping upgrade: pytz in /usr/local/lib/python3.6/dist-packages (from google-api-core[grpc]<2.0.0dev,>=1.14.0->google-cloud-vision) (2018.9)\n",
            "Requirement already satisfied, skipping upgrade: six>=1.10.0 in /usr/local/lib/python3.6/dist-packages (from google-api-core[grpc]<2.0.0dev,>=1.14.0->google-cloud-vision) (1.12.0)\n",
            "Requirement already satisfied, skipping upgrade: grpcio<2.0dev,>=1.8.2; extra == \"grpc\" in /usr/local/lib/python3.6/dist-packages (from google-api-core[grpc]<2.0.0dev,>=1.14.0->google-cloud-vision) (1.29.0)\n",
            "Requirement already satisfied, skipping upgrade: idna<3,>=2.5 in /usr/local/lib/python3.6/dist-packages (from requests<3.0.0dev,>=2.18.0->google-api-core[grpc]<2.0.0dev,>=1.14.0->google-cloud-vision) (2.9)\n",
            "Requirement already satisfied, skipping upgrade: chardet<4,>=3.0.2 in /usr/local/lib/python3.6/dist-packages (from requests<3.0.0dev,>=2.18.0->google-api-core[grpc]<2.0.0dev,>=1.14.0->google-cloud-vision) (3.0.4)\n",
            "Requirement already satisfied, skipping upgrade: certifi>=2017.4.17 in /usr/local/lib/python3.6/dist-packages (from requests<3.0.0dev,>=2.18.0->google-api-core[grpc]<2.0.0dev,>=1.14.0->google-cloud-vision) (2020.4.5.1)\n",
            "Requirement already satisfied, skipping upgrade: urllib3!=1.25.0,!=1.25.1,<1.26,>=1.21.1 in /usr/local/lib/python3.6/dist-packages (from requests<3.0.0dev,>=2.18.0->google-api-core[grpc]<2.0.0dev,>=1.14.0->google-cloud-vision) (1.24.3)\n",
            "Requirement already satisfied, skipping upgrade: pyasn1-modules>=0.2.1 in /usr/local/lib/python3.6/dist-packages (from google-auth<2.0dev,>=0.4.0->google-api-core[grpc]<2.0.0dev,>=1.14.0->google-cloud-vision) (0.2.8)\n",
            "Requirement already satisfied, skipping upgrade: cachetools<3.2,>=2.0.0 in /usr/local/lib/python3.6/dist-packages (from google-auth<2.0dev,>=0.4.0->google-api-core[grpc]<2.0.0dev,>=1.14.0->google-cloud-vision) (3.1.1)\n",
            "Requirement already satisfied, skipping upgrade: rsa<4.1,>=3.1.4 in /usr/local/lib/python3.6/dist-packages (from google-auth<2.0dev,>=0.4.0->google-api-core[grpc]<2.0.0dev,>=1.14.0->google-cloud-vision) (4.0)\n",
            "Requirement already satisfied, skipping upgrade: pyasn1<0.5.0,>=0.4.6 in /usr/local/lib/python3.6/dist-packages (from pyasn1-modules>=0.2.1->google-auth<2.0dev,>=0.4.0->google-api-core[grpc]<2.0.0dev,>=1.14.0->google-cloud-vision) (0.4.8)\n",
            "Installing collected packages: google-cloud-vision\n",
            "Successfully installed google-cloud-vision-1.0.0\n"
          ],
          "name": "stdout"
        },
        {
          "output_type": "display_data",
          "data": {
            "application/vnd.colab-display-data+json": {
              "pip_warning": {
                "packages": [
                  "google"
                ]
              }
            }
          },
          "metadata": {
            "tags": []
          }
        }
      ]
    },
    {
      "cell_type": "code",
      "metadata": {
        "id": "ooEQ_hWXeS2i",
        "colab_type": "code",
        "outputId": "92dba1b3-e81d-4930-cf84-431d80f09270",
        "colab": {
          "base_uri": "https://localhost:8080/",
          "height": 101
        }
      },
      "source": [
        "# Install pdf2image library\n",
        "!pip install pdf2image"
      ],
      "execution_count": 0,
      "outputs": [
        {
          "output_type": "stream",
          "text": [
            "Collecting pdf2image\n",
            "  Downloading https://files.pythonhosted.org/packages/c6/62/bf2df0547cf4e216b329a9d39a7aa6c755f02071e63e17a4b76690ebfe20/pdf2image-1.13.1-py3-none-any.whl\n",
            "Requirement already satisfied: pillow in /usr/local/lib/python3.6/dist-packages (from pdf2image) (7.0.0)\n",
            "Installing collected packages: pdf2image\n",
            "Successfully installed pdf2image-1.13.1\n"
          ],
          "name": "stdout"
        }
      ]
    },
    {
      "cell_type": "code",
      "metadata": {
        "id": "ZSFqhdATeVJZ",
        "colab_type": "code",
        "outputId": "c3b0b3ae-2a42-4270-db52-2003009e232c",
        "colab": {
          "base_uri": "https://localhost:8080/",
          "height": 286
        }
      },
      "source": [
        "# Install poppler required for pdf2image\n",
        "!apt-get install poppler-utils "
      ],
      "execution_count": 0,
      "outputs": [
        {
          "output_type": "stream",
          "text": [
            "Reading package lists... Done\n",
            "Building dependency tree       \n",
            "Reading state information... Done\n",
            "The following NEW packages will be installed:\n",
            "  poppler-utils\n",
            "0 upgraded, 1 newly installed, 0 to remove and 31 not upgraded.\n",
            "Need to get 154 kB of archives.\n",
            "After this operation, 613 kB of additional disk space will be used.\n",
            "Get:1 http://archive.ubuntu.com/ubuntu bionic-updates/main amd64 poppler-utils amd64 0.62.0-2ubuntu2.10 [154 kB]\n",
            "Fetched 154 kB in 0s (316 kB/s)\n",
            "Selecting previously unselected package poppler-utils.\n",
            "(Reading database ... 144433 files and directories currently installed.)\n",
            "Preparing to unpack .../poppler-utils_0.62.0-2ubuntu2.10_amd64.deb ...\n",
            "Unpacking poppler-utils (0.62.0-2ubuntu2.10) ...\n",
            "Setting up poppler-utils (0.62.0-2ubuntu2.10) ...\n",
            "Processing triggers for man-db (2.8.3-2ubuntu0.1) ...\n"
          ],
          "name": "stdout"
        }
      ]
    },
    {
      "cell_type": "code",
      "metadata": {
        "id": "T6_wHOTheW00",
        "colab_type": "code",
        "colab": {}
      },
      "source": [
        "import os\n",
        "from google.cloud import vision\n",
        "import io\n",
        "import pandas as pd"
      ],
      "execution_count": 0,
      "outputs": []
    },
    {
      "cell_type": "markdown",
      "metadata": {
        "id": "wnDWL5yleq-a",
        "colab_type": "text"
      },
      "source": [
        " **Extract text from images.**"
      ]
    },
    {
      "cell_type": "code",
      "metadata": {
        "id": "9gqCzy6eeae9",
        "colab_type": "code",
        "colab": {}
      },
      "source": [
        "def detect_text_from_image(path):\n",
        "    '''\n",
        "    Function to extract texts from a image using GOOGLE CLOUD VISION API.\n",
        "    Param:\n",
        "        path : Full path of image.\n",
        "    Return:\n",
        "        Extracted text.\n",
        "    '''\n",
        "    # \n",
        "    os.environ[\"GOOGLE_APPLICATION_CREDENTIALS\"] = \"/content/My First Project-dff60b5d1137.json\"\n",
        "    \"\"\"Detects text in the file.\"\"\"\n",
        "    \n",
        "    client = vision.ImageAnnotatorClient()\n",
        "\n",
        "    with io.open(path, 'rb') as image_file:\n",
        "        content = image_file.read()\n",
        "\n",
        "    image = vision.types.Image(content=content)\n",
        "\n",
        "    response = client.document_text_detection(image=image)\n",
        "    texts = response.text_annotations\n",
        "    print('Texts:')\n",
        "\n",
        "    if response.error.message:\n",
        "        raise Exception(\n",
        "            '{}\\nFor more info on error messages, check: '\n",
        "            'https://cloud.google.com/apis/design/errors'.format(\n",
        "                response.error.message))\n",
        "\n",
        "    return texts[0].description\n",
        "\n",
        "# Detect text from PDF."
      ],
      "execution_count": 0,
      "outputs": []
    },
    {
      "cell_type": "code",
      "metadata": {
        "id": "BaI9B7hTfPgA",
        "colab_type": "code",
        "outputId": "9a6a056f-7f93-4ce4-8773-a4ab2e3f7a96",
        "colab": {
          "base_uri": "https://localhost:8080/",
          "height": 70
        }
      },
      "source": [
        "detect_text_from_image('/content/drive/My Drive/DOC-NER/Merrilllynch_CRA/Allan A Cook.png')"
      ],
      "execution_count": 0,
      "outputs": [
        {
          "output_type": "stream",
          "text": [
            "Texts:\n"
          ],
          "name": "stdout"
        },
        {
          "output_type": "execute_result",
          "data": {
            "text/plain": [
              "\"DTC8862\\nACAT0671\\nA BANK OF AMERICA COMPANY\\nClient Account Transfer Form\\nMERRILLS\\nUse this form to transfer all or a portion of your account from\\nanother financial institution to your Merrill Lynch, Pierce, Fenner &\\nSmith Incorporated (“Merrill Lynch”) account.\\nFor best results, please complete the information requested below in parts 1 to 4 using ALL CAPITAL letters and\\nblack ink. If you need more room for information or signatures, use a copy of the relevant page or a blank sheet. Use\\none form for each account that you're transferring.\\nThings to know before you begin:\\nMany firms transfer assets using an automated transfer process, which typically takes 5 to 6 business days. Other\\nfirms either don't use the automated process or must process some assets manually, which takes more time. The\\nfollowing estimated time frames for manual transfers are from the date of receipt of instructions by the deli\\nfirm and may vary greatly:\\n· Equities, bonds and options, approximately 15 business days\\nRestricted securities, approximately 15 to 20 business days\\nMutual funds, up to 30 business days\\n- Foreign securities, 4 to 6 weeks\\nNote: Annuities are not transferred using this form. Please use the Merrill Lynch Annuity Transfer Form.\\nRemember to update any automatic deposits or withdrawals you've set up on the account you're transferring to\\nMerrill Lynch.\\n• Some transfers may result in tax consequences, penalties or financial risk. Consult your tax and financial\\nprofessionals before requesting this transfer.\\nIf you're rolling over assets from a 401(k) or other employer-sponsored plan, consider all of your choices. You may\\nbe able to roll over to an IRA, roll over an old 401(k) to a 401(k) at a new employer, take a distribution or leave the\\naccount where it is, depending on your unique financial needs and retirement goals. Each choice may offer different\\nbenefits and limitations including investment options and services, fees and expenses, withdrawal options, required\\nminimum distributions, tax treatment and protection from creditors and legal judgments. Additionally, there are\\nlimits to how often and when you can roll over your account. Please contact your 401(k) or other employer-sponsored\\nplan administrator for help with the transfer.\\nPart 1\\nWhere\\nyour\\naccount\\nis now\\nFIRM NAME\\nFIRM PHONE\\nCONTACT NAME\\nBlue Mountain Capital Management (541) 754-1111\\nSabrina J McKenzie\\nFIRM ADDRESS\\nCITY, STATE, ZIP\\nSearch Results 280 Park Ave 12th Floor\\nNew York, NY,10017\\nACCOUNT NUMBER\\nACCOUNT TITLE\\n60610454\\ni Allan A Cook\\nAttach all pages\\nof your most recent\\nstatement for this\\naccount to avoid\\nany delays\\nEMPLOYER ID NUMBER (If used for\\nrepo\\nACCOUNT TYPE (RETAIL/IRA etc.)\\nIRA\\nSOCIAL SECURITY NUMBER (If used for tax reporting)\\n353752495\\nAccount holders (individual accounts) or authorized signers (for business, trust, estate, etc.)\\nList all names exactly as they appear on this account.\\nTITLE (If an authorized signer)\\nNAME 1\\nAllan A Cook\\nNAME 2\\nTITLE (If an authorized signer)\\nRoth\\nO SEP\\nOther (Please specify)\\nPart 2\\nMerrill Lynch account\\nreceiving your\\ntransferred assets\\nMERRILL LYNCH ACCOUNT NUMBER ACCOUNT TYPE (Choose one)\\n335-0212\\nOCMA IRA\\nACCOUNT TITLE (Here at Merrill Lynch)\\nAllan A Cook\\nSOCIAL SECURITY NUMBER (If used for tax reporting)\\n353752495\\nEMPLOYER ID NUMBER (If used for tax reporting)\\nThis can include a\\nMerrill Lynch account\\non which you receive\\nfiduciary services\\nfrom U.S. Trust\\nAccount holders (individual accounts) or authorized signers (for business, trust, estate, etc.)\\nList all names exactly as they appear on this account. This account must have at least one owner in common with\\nyour transferring account, otherwise this process will be delayed.\\nTITLE (If an authorized signer)\\nNAME 1\\nAllan A Cook\\nNAME 2\\nTITLE (If an authorized signer)\\nEVENING PHONE\\nEMAIL\\nDAYTIME PHONE\\n(541) 754-1221\\nAllan@gmail.com\\nBRANCH CONTACT NAME\\nNICK LANE\\nBRANCH CONTACT NUMBER\\n866.848.6554\\nCODE 1566 MLPFS - 03/2018\\n\""
            ]
          },
          "metadata": {
            "tags": []
          },
          "execution_count": 8
        }
      ]
    },
    {
      "cell_type": "markdown",
      "metadata": {
        "id": "aMFiwSoZfU_D",
        "colab_type": "text"
      },
      "source": [
        "**Extract text from PDF**"
      ]
    },
    {
      "cell_type": "code",
      "metadata": {
        "id": "_6TSPC7OfR9Z",
        "colab_type": "code",
        "colab": {}
      },
      "source": [
        "from pdf2image import convert_from_path\n",
        "from pathlib import Path"
      ],
      "execution_count": 0,
      "outputs": []
    },
    {
      "cell_type": "code",
      "metadata": {
        "id": "Op4Ch8J9fZEz",
        "colab_type": "code",
        "colab": {}
      },
      "source": [
        "def detect_text_from_pdf(pdf_path, num_of_pages):\n",
        "\n",
        "    # Extract customer_name from file name. Replace ' ' by '_'\n",
        "    customer_name = Path(pdf_path).stem.replace(' ', '_')\n",
        "\n",
        "    pages = convert_from_path(pdf_path, 100, fmt = 'jpg')\n",
        "\n",
        "    pdf_text = []\n",
        "    for i, page in enumerate(pages[0:num_of_pages]):\n",
        "        temp_img_path = customer_name+ str(i) + '.jpg'\n",
        "        page.save(temp_img_path)\n",
        "        temp_text = detect_text_from_image(temp_img_path)\n",
        "        pdf_text.append(temp_text)\n",
        "        os.remove(temp_img_path)\n",
        "    return '. '.join(pdf_text).replace(\"\\n\", \" \")"
      ],
      "execution_count": 0,
      "outputs": []
    },
    {
      "cell_type": "markdown",
      "metadata": {
        "id": "ZPH1zYzbfdut",
        "colab_type": "text"
      },
      "source": [
        "**Generate list of files**"
      ]
    },
    {
      "cell_type": "code",
      "metadata": {
        "id": "q3zpdn3HfbEn",
        "colab_type": "code",
        "colab": {}
      },
      "source": [
        "from pathlib import PurePath"
      ],
      "execution_count": 0,
      "outputs": []
    },
    {
      "cell_type": "code",
      "metadata": {
        "id": "ur_8hV_Dff8n",
        "colab_type": "code",
        "colab": {}
      },
      "source": [
        "root_paths = ['/content/drive/My Drive/DOC-NER/Ameritrade Institutional',\n",
        "              '/content/drive/My Drive/DOC-NER/Merrilllynch_CRA',\n",
        "              '/content/drive/My Drive/DOC-NER/Schwab_IRA']\n",
        "\n",
        "all_files_list = []\n",
        "for root_path in root_paths:\n",
        "    for path, subdirs, files in os.walk(root_path):\n",
        "        for name in files:\n",
        "            all_files_list.append(os.path.join(path, name))"
      ],
      "execution_count": 0,
      "outputs": []
    },
    {
      "cell_type": "code",
      "metadata": {
        "id": "zAnOSDKUfl0z",
        "colab_type": "code",
        "outputId": "92ca30e6-9b56-4e4d-e12c-3a1f46160c9d",
        "colab": {
          "base_uri": "https://localhost:8080/",
          "height": 1000
        }
      },
      "source": [
        "all_files_list"
      ],
      "execution_count": 0,
      "outputs": [
        {
          "output_type": "execute_result",
          "data": {
            "text/plain": [
              "['/content/drive/My Drive/DOC-NER/Ameritrade Institutional/Zita J Rottman_.pdf',\n",
              " '/content/drive/My Drive/DOC-NER/Ameritrade Institutional/Teresa R Woods_.pdf',\n",
              " '/content/drive/My Drive/DOC-NER/Ameritrade Institutional/Susan T Green_.pdf',\n",
              " '/content/drive/My Drive/DOC-NER/Ameritrade Institutional/Robert R Sheppard_.pdf',\n",
              " '/content/drive/My Drive/DOC-NER/Ameritrade Institutional/Robert R Allan_.pdf',\n",
              " '/content/drive/My Drive/DOC-NER/Ameritrade Institutional/Robert J Barr_.pdf',\n",
              " '/content/drive/My Drive/DOC-NER/Ameritrade Institutional/Pamela E Byrd_.pdf',\n",
              " '/content/drive/My Drive/DOC-NER/Ameritrade Institutional/Nora R Mills_.pdf',\n",
              " '/content/drive/My Drive/DOC-NER/Ameritrade Institutional/Michael_C_Preston_.pdf',\n",
              " '/content/drive/My Drive/DOC-NER/Ameritrade Institutional/Mary H Craven_.pdf',\n",
              " '/content/drive/My Drive/DOC-NER/Ameritrade Institutional/Mary H Craven_ (1).pdf',\n",
              " '/content/drive/My Drive/DOC-NER/Ameritrade Institutional/Marie P Watkins_.pdf',\n",
              " '/content/drive/My Drive/DOC-NER/Ameritrade Institutional/Marie P Watkins_ (1).pdf',\n",
              " '/content/drive/My Drive/DOC-NER/Ameritrade Institutional/Linda M Rice_.pdf',\n",
              " '/content/drive/My Drive/DOC-NER/Ameritrade Institutional/Lili J Thomas_.pdf',\n",
              " '/content/drive/My Drive/DOC-NER/Ameritrade Institutional/Lili J Thomas_ (1).pdf',\n",
              " '/content/drive/My Drive/DOC-NER/Ameritrade Institutional/Kristen W Hamilton_.pdf',\n",
              " '/content/drive/My Drive/DOC-NER/Ameritrade Institutional/Joseph T Green_.pdf',\n",
              " '/content/drive/My Drive/DOC-NER/Ameritrade Institutional/Joseph T Green_ (1).pdf',\n",
              " '/content/drive/My Drive/DOC-NER/Ameritrade Institutional/Joshua T Truitt_.pdf',\n",
              " '/content/drive/My Drive/DOC-NER/Ameritrade Institutional/Joseph N Weed_.pdf',\n",
              " '/content/drive/My Drive/DOC-NER/Ameritrade Institutional/James P Osborne.pdf',\n",
              " '/content/drive/My Drive/DOC-NER/Ameritrade Institutional/James P Osborne (1).pdf',\n",
              " '/content/drive/My Drive/DOC-NER/Ameritrade Institutional/Horace H Carpenter_.pdf',\n",
              " '/content/drive/My Drive/DOC-NER/Ameritrade Institutional/Harold N Samaniego_.pdf',\n",
              " '/content/drive/My Drive/DOC-NER/Ameritrade Institutional/Floyd K Brown_.pdf',\n",
              " '/content/drive/My Drive/DOC-NER/Ameritrade Institutional/Damian C Russell.pdf',\n",
              " '/content/drive/My Drive/DOC-NER/Ameritrade Institutional/Damian C Russell (1).pdf',\n",
              " '/content/drive/My Drive/DOC-NER/Ameritrade Institutional/Christopher V Herring_.pdf',\n",
              " '/content/drive/My Drive/DOC-NER/Ameritrade Institutional/Christine S Pyne_ (1).pdf',\n",
              " '/content/drive/My Drive/DOC-NER/Ameritrade Institutional/Carl M Ecklund_ (1).pdf',\n",
              " '/content/drive/My Drive/DOC-NER/Ameritrade Institutional/Carl M Ecklund_ (2).pdf',\n",
              " '/content/drive/My Drive/DOC-NER/Ameritrade Institutional/Anne C Pugh_.pdf',\n",
              " '/content/drive/My Drive/DOC-NER/Ameritrade Institutional/Angelica E Senn_.pdf',\n",
              " '/content/drive/My Drive/DOC-NER/Ameritrade Institutional/Angelica E Senn_ (1).pdf',\n",
              " '/content/drive/My Drive/DOC-NER/Ameritrade Institutional/Andrew_H_Jones_.pdf',\n",
              " '/content/drive/My Drive/DOC-NER/Ameritrade Institutional/Allan_A_Cook_.pdf',\n",
              " '/content/drive/My Drive/DOC-NER/Ameritrade Institutional/Adrian_T_Clemens_.pdf',\n",
              " '/content/drive/My Drive/DOC-NER/Ameritrade Institutional/Adrian_T_Clemens_ (1).pdf',\n",
              " '/content/drive/My Drive/DOC-NER/Ameritrade Institutional/Addie N McClellan_.pdf',\n",
              " '/content/drive/My Drive/DOC-NER/Ameritrade Institutional/Ada J Bardsley_.pdf',\n",
              " '/content/drive/My Drive/DOC-NER/Merrilllynch_CRA/Samantha.png',\n",
              " '/content/drive/My Drive/DOC-NER/Merrilllynch_CRA/Rose R Webb.png',\n",
              " '/content/drive/My Drive/DOC-NER/Merrilllynch_CRA/Robert N Sanford.png',\n",
              " '/content/drive/My Drive/DOC-NER/Merrilllynch_CRA/Robert E Regan.png',\n",
              " '/content/drive/My Drive/DOC-NER/Merrilllynch_CRA/Richard K Kral.png',\n",
              " '/content/drive/My Drive/DOC-NER/Merrilllynch_CRA/Peter E Trosper.png',\n",
              " '/content/drive/My Drive/DOC-NER/Merrilllynch_CRA/Harold L Brooks.pdf',\n",
              " '/content/drive/My Drive/DOC-NER/Merrilllynch_CRA/Hae F Taylor.pdf',\n",
              " '/content/drive/My Drive/DOC-NER/Merrilllynch_CRA/Gina F Johnson.pdf',\n",
              " '/content/drive/My Drive/DOC-NER/Merrilllynch_CRA/Eula R Tucker.pdf',\n",
              " '/content/drive/My Drive/DOC-NER/Merrilllynch_CRA/Edna T Peres.pdf',\n",
              " '/content/drive/My Drive/DOC-NER/Merrilllynch_CRA/Edith D Alexander.pdf',\n",
              " '/content/drive/My Drive/DOC-NER/Merrilllynch_CRA/Diana J Alarcon.pdf',\n",
              " '/content/drive/My Drive/DOC-NER/Merrilllynch_CRA/Connie J Llanos.pdf',\n",
              " '/content/drive/My Drive/DOC-NER/Merrilllynch_CRA/Cletus S Russo.pdf',\n",
              " '/content/drive/My Drive/DOC-NER/Merrilllynch_CRA/Cheryl J Taylor.pdf',\n",
              " '/content/drive/My Drive/DOC-NER/Merrilllynch_CRA/Candy T Lee.pdf',\n",
              " '/content/drive/My Drive/DOC-NER/Merrilllynch_CRA/Allan A Cook.png',\n",
              " '/content/drive/My Drive/DOC-NER/Merrilllynch_CRA/Allan A Cook (1).png',\n",
              " '/content/drive/My Drive/DOC-NER/Merrilllynch_CRA/Adrian Clemens.png',\n",
              " '/content/drive/My Drive/DOC-NER/Schwab_IRA/Bobby_J_Cole_.pdf',\n",
              " '/content/drive/My Drive/DOC-NER/Schwab_IRA/Thomas_L_Dodds_.pdf',\n",
              " '/content/drive/My Drive/DOC-NER/Schwab_IRA/Tammy_M_Pereira_.pdf',\n",
              " '/content/drive/My Drive/DOC-NER/Schwab_IRA/Richard_K_Forester_.pdf',\n",
              " '/content/drive/My Drive/DOC-NER/Schwab_IRA/James_B_Adams_.pdf',\n",
              " '/content/drive/My Drive/DOC-NER/Schwab_IRA/Edmund_L_Kroeger_.pdf',\n",
              " '/content/drive/My Drive/DOC-NER/Schwab_IRA/Donna_E_Warren_.pdf',\n",
              " '/content/drive/My Drive/DOC-NER/Schwab_IRA/Daniel_P_Woods_.pdf',\n",
              " '/content/drive/My Drive/DOC-NER/Schwab_IRA/Jonathan_K_Sanchez_.pdf',\n",
              " '/content/drive/My Drive/DOC-NER/Schwab_IRA/Karen_A_Sliva_.pdf',\n",
              " '/content/drive/My Drive/DOC-NER/Schwab_IRA/Patricia_J_Kim_.pdf']"
            ]
          },
          "metadata": {
            "tags": []
          },
          "execution_count": 14
        }
      ]
    },
    {
      "cell_type": "code",
      "metadata": {
        "id": "JL90FhdTfmUY",
        "colab_type": "code",
        "outputId": "04e936f1-469a-47f4-870f-da29aee1af8c",
        "colab": {
          "base_uri": "https://localhost:8080/",
          "height": 1000
        }
      },
      "source": [
        "from tqdm import tqdm\n",
        "extracted_text = []\n",
        "customer_file_name = []\n",
        "\n",
        "for path_ in tqdm(all_files_list):\n",
        "    print(path_)\n",
        "    file_name = path_.split('/')[-1]\n",
        "    print(file_name)\n",
        "    \n",
        "    if Path(file_name).suffix == '.pdf':\n",
        "        extracted_text.append(detect_text_from_pdf(pdf_path = path_, num_of_pages = 2))\n",
        "        customer_file_name.append(file_name)\n",
        "    elif Path(file_name).suffix == '.png' or 'jpg':\n",
        "        extracted_text.append(detect_text_from_image(path_))\n",
        "        customer_file_name.append(file_name)\n",
        "    else:\n",
        "        pass"
      ],
      "execution_count": 0,
      "outputs": [
        {
          "output_type": "stream",
          "text": [
            "\r  0%|          | 0/72 [00:00<?, ?it/s]"
          ],
          "name": "stderr"
        },
        {
          "output_type": "stream",
          "text": [
            "/content/drive/My Drive/DOC-NER/Ameritrade Institutional/Zita J Rottman_.pdf\n",
            "Zita J Rottman_.pdf\n",
            "Texts:\n"
          ],
          "name": "stdout"
        },
        {
          "output_type": "stream",
          "text": [
            "\r  1%|▏         | 1/72 [00:02<02:23,  2.02s/it]"
          ],
          "name": "stderr"
        },
        {
          "output_type": "stream",
          "text": [
            "Texts:\n",
            "/content/drive/My Drive/DOC-NER/Ameritrade Institutional/Teresa R Woods_.pdf\n",
            "Teresa R Woods_.pdf\n",
            "Texts:\n"
          ],
          "name": "stdout"
        },
        {
          "output_type": "stream",
          "text": [
            "\r  3%|▎         | 2/72 [00:03<02:15,  1.93s/it]"
          ],
          "name": "stderr"
        },
        {
          "output_type": "stream",
          "text": [
            "Texts:\n",
            "/content/drive/My Drive/DOC-NER/Ameritrade Institutional/Susan T Green_.pdf\n",
            "Susan T Green_.pdf\n",
            "Texts:\n"
          ],
          "name": "stdout"
        },
        {
          "output_type": "stream",
          "text": [
            "\r  4%|▍         | 3/72 [00:05<02:07,  1.85s/it]"
          ],
          "name": "stderr"
        },
        {
          "output_type": "stream",
          "text": [
            "Texts:\n",
            "/content/drive/My Drive/DOC-NER/Ameritrade Institutional/Robert R Sheppard_.pdf\n",
            "Robert R Sheppard_.pdf\n",
            "Texts:\n"
          ],
          "name": "stdout"
        },
        {
          "output_type": "stream",
          "text": [
            "\r  6%|▌         | 4/72 [00:07<02:07,  1.87s/it]"
          ],
          "name": "stderr"
        },
        {
          "output_type": "stream",
          "text": [
            "Texts:\n",
            "/content/drive/My Drive/DOC-NER/Ameritrade Institutional/Robert R Allan_.pdf\n",
            "Robert R Allan_.pdf\n",
            "Texts:\n"
          ],
          "name": "stdout"
        },
        {
          "output_type": "stream",
          "text": [
            "\r  7%|▋         | 5/72 [00:08<02:00,  1.80s/it]"
          ],
          "name": "stderr"
        },
        {
          "output_type": "stream",
          "text": [
            "Texts:\n",
            "/content/drive/My Drive/DOC-NER/Ameritrade Institutional/Robert J Barr_.pdf\n",
            "Robert J Barr_.pdf\n",
            "Texts:\n"
          ],
          "name": "stdout"
        },
        {
          "output_type": "stream",
          "text": [
            "\r  8%|▊         | 6/72 [00:10<01:59,  1.81s/it]"
          ],
          "name": "stderr"
        },
        {
          "output_type": "stream",
          "text": [
            "Texts:\n",
            "/content/drive/My Drive/DOC-NER/Ameritrade Institutional/Pamela E Byrd_.pdf\n",
            "Pamela E Byrd_.pdf\n",
            "Texts:\n"
          ],
          "name": "stdout"
        },
        {
          "output_type": "stream",
          "text": [
            "\r 10%|▉         | 7/72 [00:12<01:55,  1.77s/it]"
          ],
          "name": "stderr"
        },
        {
          "output_type": "stream",
          "text": [
            "Texts:\n",
            "/content/drive/My Drive/DOC-NER/Ameritrade Institutional/Nora R Mills_.pdf\n",
            "Nora R Mills_.pdf\n",
            "Texts:\n"
          ],
          "name": "stdout"
        },
        {
          "output_type": "stream",
          "text": [
            "\r 11%|█         | 8/72 [00:14<01:52,  1.75s/it]"
          ],
          "name": "stderr"
        },
        {
          "output_type": "stream",
          "text": [
            "Texts:\n",
            "/content/drive/My Drive/DOC-NER/Ameritrade Institutional/Michael_C_Preston_.pdf\n",
            "Michael_C_Preston_.pdf\n",
            "Texts:\n"
          ],
          "name": "stdout"
        },
        {
          "output_type": "stream",
          "text": [
            "\r 12%|█▎        | 9/72 [00:16<01:51,  1.78s/it]"
          ],
          "name": "stderr"
        },
        {
          "output_type": "stream",
          "text": [
            "Texts:\n",
            "/content/drive/My Drive/DOC-NER/Ameritrade Institutional/Mary H Craven_.pdf\n",
            "Mary H Craven_.pdf\n",
            "Texts:\n"
          ],
          "name": "stdout"
        },
        {
          "output_type": "stream",
          "text": [
            "\r 14%|█▍        | 10/72 [00:17<01:48,  1.76s/it]"
          ],
          "name": "stderr"
        },
        {
          "output_type": "stream",
          "text": [
            "Texts:\n",
            "/content/drive/My Drive/DOC-NER/Ameritrade Institutional/Mary H Craven_ (1).pdf\n",
            "Mary H Craven_ (1).pdf\n",
            "Texts:\n"
          ],
          "name": "stdout"
        },
        {
          "output_type": "stream",
          "text": [
            "\r 15%|█▌        | 11/72 [00:19<01:40,  1.65s/it]"
          ],
          "name": "stderr"
        },
        {
          "output_type": "stream",
          "text": [
            "Texts:\n",
            "/content/drive/My Drive/DOC-NER/Ameritrade Institutional/Marie P Watkins_.pdf\n",
            "Marie P Watkins_.pdf\n",
            "Texts:\n"
          ],
          "name": "stdout"
        },
        {
          "output_type": "stream",
          "text": [
            "\r 17%|█▋        | 12/72 [00:20<01:42,  1.71s/it]"
          ],
          "name": "stderr"
        },
        {
          "output_type": "stream",
          "text": [
            "Texts:\n",
            "/content/drive/My Drive/DOC-NER/Ameritrade Institutional/Marie P Watkins_ (1).pdf\n",
            "Marie P Watkins_ (1).pdf\n",
            "Texts:\n"
          ],
          "name": "stdout"
        },
        {
          "output_type": "stream",
          "text": [
            "\r 18%|█▊        | 13/72 [00:22<01:38,  1.67s/it]"
          ],
          "name": "stderr"
        },
        {
          "output_type": "stream",
          "text": [
            "Texts:\n",
            "/content/drive/My Drive/DOC-NER/Ameritrade Institutional/Linda M Rice_.pdf\n",
            "Linda M Rice_.pdf\n",
            "Texts:\n"
          ],
          "name": "stdout"
        },
        {
          "output_type": "stream",
          "text": [
            "\r 19%|█▉        | 14/72 [00:24<01:37,  1.68s/it]"
          ],
          "name": "stderr"
        },
        {
          "output_type": "stream",
          "text": [
            "Texts:\n",
            "/content/drive/My Drive/DOC-NER/Ameritrade Institutional/Lili J Thomas_.pdf\n",
            "Lili J Thomas_.pdf\n",
            "Texts:\n"
          ],
          "name": "stdout"
        },
        {
          "output_type": "stream",
          "text": [
            "\r 21%|██        | 15/72 [00:25<01:34,  1.65s/it]"
          ],
          "name": "stderr"
        },
        {
          "output_type": "stream",
          "text": [
            "Texts:\n",
            "/content/drive/My Drive/DOC-NER/Ameritrade Institutional/Lili J Thomas_ (1).pdf\n",
            "Lili J Thomas_ (1).pdf\n",
            "Texts:\n"
          ],
          "name": "stdout"
        },
        {
          "output_type": "stream",
          "text": [
            "\r 22%|██▏       | 16/72 [00:27<01:29,  1.59s/it]"
          ],
          "name": "stderr"
        },
        {
          "output_type": "stream",
          "text": [
            "Texts:\n",
            "/content/drive/My Drive/DOC-NER/Ameritrade Institutional/Kristen W Hamilton_.pdf\n",
            "Kristen W Hamilton_.pdf\n",
            "Texts:\n"
          ],
          "name": "stdout"
        },
        {
          "output_type": "stream",
          "text": [
            "\r 24%|██▎       | 17/72 [00:28<01:24,  1.55s/it]"
          ],
          "name": "stderr"
        },
        {
          "output_type": "stream",
          "text": [
            "Texts:\n",
            "/content/drive/My Drive/DOC-NER/Ameritrade Institutional/Joseph T Green_.pdf\n",
            "Joseph T Green_.pdf\n",
            "Texts:\n"
          ],
          "name": "stdout"
        },
        {
          "output_type": "stream",
          "text": [
            "\r 25%|██▌       | 18/72 [00:30<01:22,  1.53s/it]"
          ],
          "name": "stderr"
        },
        {
          "output_type": "stream",
          "text": [
            "Texts:\n",
            "/content/drive/My Drive/DOC-NER/Ameritrade Institutional/Joseph T Green_ (1).pdf\n",
            "Joseph T Green_ (1).pdf\n",
            "Texts:\n"
          ],
          "name": "stdout"
        },
        {
          "output_type": "stream",
          "text": [
            "\r 26%|██▋       | 19/72 [00:31<01:20,  1.52s/it]"
          ],
          "name": "stderr"
        },
        {
          "output_type": "stream",
          "text": [
            "Texts:\n",
            "/content/drive/My Drive/DOC-NER/Ameritrade Institutional/Joshua T Truitt_.pdf\n",
            "Joshua T Truitt_.pdf\n",
            "Texts:\n"
          ],
          "name": "stdout"
        },
        {
          "output_type": "stream",
          "text": [
            "\r 28%|██▊       | 20/72 [00:33<01:23,  1.62s/it]"
          ],
          "name": "stderr"
        },
        {
          "output_type": "stream",
          "text": [
            "Texts:\n",
            "/content/drive/My Drive/DOC-NER/Ameritrade Institutional/Joseph N Weed_.pdf\n",
            "Joseph N Weed_.pdf\n",
            "Texts:\n"
          ],
          "name": "stdout"
        },
        {
          "output_type": "stream",
          "text": [
            "\r 29%|██▉       | 21/72 [00:35<01:22,  1.62s/it]"
          ],
          "name": "stderr"
        },
        {
          "output_type": "stream",
          "text": [
            "Texts:\n",
            "/content/drive/My Drive/DOC-NER/Ameritrade Institutional/James P Osborne.pdf\n",
            "James P Osborne.pdf\n",
            "Texts:\n"
          ],
          "name": "stdout"
        },
        {
          "output_type": "stream",
          "text": [
            "\r 31%|███       | 22/72 [00:36<01:21,  1.63s/it]"
          ],
          "name": "stderr"
        },
        {
          "output_type": "stream",
          "text": [
            "Texts:\n",
            "/content/drive/My Drive/DOC-NER/Ameritrade Institutional/James P Osborne (1).pdf\n",
            "James P Osborne (1).pdf\n",
            "Texts:\n"
          ],
          "name": "stdout"
        },
        {
          "output_type": "stream",
          "text": [
            "\r 32%|███▏      | 23/72 [00:38<01:18,  1.60s/it]"
          ],
          "name": "stderr"
        },
        {
          "output_type": "stream",
          "text": [
            "Texts:\n",
            "/content/drive/My Drive/DOC-NER/Ameritrade Institutional/Horace H Carpenter_.pdf\n",
            "Horace H Carpenter_.pdf\n",
            "Texts:\n"
          ],
          "name": "stdout"
        },
        {
          "output_type": "stream",
          "text": [
            "\r 33%|███▎      | 24/72 [00:40<01:17,  1.62s/it]"
          ],
          "name": "stderr"
        },
        {
          "output_type": "stream",
          "text": [
            "Texts:\n",
            "/content/drive/My Drive/DOC-NER/Ameritrade Institutional/Harold N Samaniego_.pdf\n",
            "Harold N Samaniego_.pdf\n",
            "Texts:\n"
          ],
          "name": "stdout"
        },
        {
          "output_type": "stream",
          "text": [
            "\r 35%|███▍      | 25/72 [00:41<01:15,  1.60s/it]"
          ],
          "name": "stderr"
        },
        {
          "output_type": "stream",
          "text": [
            "Texts:\n",
            "/content/drive/My Drive/DOC-NER/Ameritrade Institutional/Floyd K Brown_.pdf\n",
            "Floyd K Brown_.pdf\n",
            "Texts:\n"
          ],
          "name": "stdout"
        },
        {
          "output_type": "stream",
          "text": [
            "\r 36%|███▌      | 26/72 [00:43<01:16,  1.67s/it]"
          ],
          "name": "stderr"
        },
        {
          "output_type": "stream",
          "text": [
            "Texts:\n",
            "/content/drive/My Drive/DOC-NER/Ameritrade Institutional/Damian C Russell.pdf\n",
            "Damian C Russell.pdf\n",
            "Texts:\n"
          ],
          "name": "stdout"
        },
        {
          "output_type": "stream",
          "text": [
            "\r 38%|███▊      | 27/72 [00:45<01:17,  1.72s/it]"
          ],
          "name": "stderr"
        },
        {
          "output_type": "stream",
          "text": [
            "Texts:\n",
            "/content/drive/My Drive/DOC-NER/Ameritrade Institutional/Damian C Russell (1).pdf\n",
            "Damian C Russell (1).pdf\n",
            "Texts:\n"
          ],
          "name": "stdout"
        },
        {
          "output_type": "stream",
          "text": [
            "\r 39%|███▉      | 28/72 [00:46<01:15,  1.71s/it]"
          ],
          "name": "stderr"
        },
        {
          "output_type": "stream",
          "text": [
            "Texts:\n",
            "/content/drive/My Drive/DOC-NER/Ameritrade Institutional/Christopher V Herring_.pdf\n",
            "Christopher V Herring_.pdf\n",
            "Texts:\n"
          ],
          "name": "stdout"
        },
        {
          "output_type": "stream",
          "text": [
            "\r 40%|████      | 29/72 [00:48<01:13,  1.72s/it]"
          ],
          "name": "stderr"
        },
        {
          "output_type": "stream",
          "text": [
            "Texts:\n",
            "/content/drive/My Drive/DOC-NER/Ameritrade Institutional/Christine S Pyne_ (1).pdf\n",
            "Christine S Pyne_ (1).pdf\n",
            "Texts:\n"
          ],
          "name": "stdout"
        },
        {
          "output_type": "stream",
          "text": [
            "\r 42%|████▏     | 30/72 [00:50<01:11,  1.70s/it]"
          ],
          "name": "stderr"
        },
        {
          "output_type": "stream",
          "text": [
            "Texts:\n",
            "/content/drive/My Drive/DOC-NER/Ameritrade Institutional/Carl M Ecklund_ (1).pdf\n",
            "Carl M Ecklund_ (1).pdf\n",
            "Texts:\n"
          ],
          "name": "stdout"
        },
        {
          "output_type": "stream",
          "text": [
            "\r 43%|████▎     | 31/72 [00:52<01:13,  1.79s/it]"
          ],
          "name": "stderr"
        },
        {
          "output_type": "stream",
          "text": [
            "Texts:\n",
            "/content/drive/My Drive/DOC-NER/Ameritrade Institutional/Carl M Ecklund_ (2).pdf\n",
            "Carl M Ecklund_ (2).pdf\n",
            "Texts:\n"
          ],
          "name": "stdout"
        },
        {
          "output_type": "stream",
          "text": [
            "\r 44%|████▍     | 32/72 [00:53<01:06,  1.67s/it]"
          ],
          "name": "stderr"
        },
        {
          "output_type": "stream",
          "text": [
            "Texts:\n",
            "/content/drive/My Drive/DOC-NER/Ameritrade Institutional/Anne C Pugh_.pdf\n",
            "Anne C Pugh_.pdf\n",
            "Texts:\n"
          ],
          "name": "stdout"
        },
        {
          "output_type": "stream",
          "text": [
            "\r 46%|████▌     | 33/72 [00:55<01:08,  1.75s/it]"
          ],
          "name": "stderr"
        },
        {
          "output_type": "stream",
          "text": [
            "Texts:\n",
            "/content/drive/My Drive/DOC-NER/Ameritrade Institutional/Angelica E Senn_.pdf\n",
            "Angelica E Senn_.pdf\n",
            "Texts:\n"
          ],
          "name": "stdout"
        },
        {
          "output_type": "stream",
          "text": [
            "\r 47%|████▋     | 34/72 [00:57<01:08,  1.81s/it]"
          ],
          "name": "stderr"
        },
        {
          "output_type": "stream",
          "text": [
            "Texts:\n",
            "/content/drive/My Drive/DOC-NER/Ameritrade Institutional/Angelica E Senn_ (1).pdf\n",
            "Angelica E Senn_ (1).pdf\n",
            "Texts:\n"
          ],
          "name": "stdout"
        },
        {
          "output_type": "stream",
          "text": [
            "\r 49%|████▊     | 35/72 [00:59<01:05,  1.77s/it]"
          ],
          "name": "stderr"
        },
        {
          "output_type": "stream",
          "text": [
            "Texts:\n",
            "/content/drive/My Drive/DOC-NER/Ameritrade Institutional/Andrew_H_Jones_.pdf\n",
            "Andrew_H_Jones_.pdf\n",
            "Texts:\n"
          ],
          "name": "stdout"
        },
        {
          "output_type": "stream",
          "text": [
            "\r 50%|█████     | 36/72 [01:01<01:04,  1.79s/it]"
          ],
          "name": "stderr"
        },
        {
          "output_type": "stream",
          "text": [
            "Texts:\n",
            "/content/drive/My Drive/DOC-NER/Ameritrade Institutional/Allan_A_Cook_.pdf\n",
            "Allan_A_Cook_.pdf\n",
            "Texts:\n"
          ],
          "name": "stdout"
        },
        {
          "output_type": "stream",
          "text": [
            "\r 51%|█████▏    | 37/72 [01:03<01:05,  1.87s/it]"
          ],
          "name": "stderr"
        },
        {
          "output_type": "stream",
          "text": [
            "Texts:\n",
            "/content/drive/My Drive/DOC-NER/Ameritrade Institutional/Adrian_T_Clemens_.pdf\n",
            "Adrian_T_Clemens_.pdf\n",
            "Texts:\n"
          ],
          "name": "stdout"
        },
        {
          "output_type": "stream",
          "text": [
            "\r 53%|█████▎    | 38/72 [01:04<01:02,  1.85s/it]"
          ],
          "name": "stderr"
        },
        {
          "output_type": "stream",
          "text": [
            "Texts:\n",
            "/content/drive/My Drive/DOC-NER/Ameritrade Institutional/Adrian_T_Clemens_ (1).pdf\n",
            "Adrian_T_Clemens_ (1).pdf\n",
            "Texts:\n"
          ],
          "name": "stdout"
        },
        {
          "output_type": "stream",
          "text": [
            "\r 54%|█████▍    | 39/72 [01:06<01:02,  1.88s/it]"
          ],
          "name": "stderr"
        },
        {
          "output_type": "stream",
          "text": [
            "Texts:\n",
            "/content/drive/My Drive/DOC-NER/Ameritrade Institutional/Addie N McClellan_.pdf\n",
            "Addie N McClellan_.pdf\n",
            "Texts:\n"
          ],
          "name": "stdout"
        },
        {
          "output_type": "stream",
          "text": [
            "\r 56%|█████▌    | 40/72 [01:08<00:58,  1.82s/it]"
          ],
          "name": "stderr"
        },
        {
          "output_type": "stream",
          "text": [
            "Texts:\n",
            "/content/drive/My Drive/DOC-NER/Ameritrade Institutional/Ada J Bardsley_.pdf\n",
            "Ada J Bardsley_.pdf\n",
            "Texts:\n"
          ],
          "name": "stdout"
        },
        {
          "output_type": "stream",
          "text": [
            "\r 57%|█████▋    | 41/72 [01:10<00:55,  1.78s/it]"
          ],
          "name": "stderr"
        },
        {
          "output_type": "stream",
          "text": [
            "Texts:\n",
            "/content/drive/My Drive/DOC-NER/Merrilllynch_CRA/Samantha.png\n",
            "Samantha.png\n"
          ],
          "name": "stdout"
        },
        {
          "output_type": "stream",
          "text": [
            "\r 58%|█████▊    | 42/72 [01:11<00:46,  1.55s/it]"
          ],
          "name": "stderr"
        },
        {
          "output_type": "stream",
          "text": [
            "Texts:\n",
            "/content/drive/My Drive/DOC-NER/Merrilllynch_CRA/Rose R Webb.png\n",
            "Rose R Webb.png\n"
          ],
          "name": "stdout"
        },
        {
          "output_type": "stream",
          "text": [
            "\r 60%|█████▉    | 43/72 [01:12<00:39,  1.36s/it]"
          ],
          "name": "stderr"
        },
        {
          "output_type": "stream",
          "text": [
            "Texts:\n",
            "/content/drive/My Drive/DOC-NER/Merrilllynch_CRA/Robert N Sanford.png\n",
            "Robert N Sanford.png\n"
          ],
          "name": "stdout"
        },
        {
          "output_type": "stream",
          "text": [
            "\r 61%|██████    | 44/72 [01:13<00:35,  1.28s/it]"
          ],
          "name": "stderr"
        },
        {
          "output_type": "stream",
          "text": [
            "Texts:\n",
            "/content/drive/My Drive/DOC-NER/Merrilllynch_CRA/Robert E Regan.png\n",
            "Robert E Regan.png\n"
          ],
          "name": "stdout"
        },
        {
          "output_type": "stream",
          "text": [
            "\r 62%|██████▎   | 45/72 [01:14<00:32,  1.20s/it]"
          ],
          "name": "stderr"
        },
        {
          "output_type": "stream",
          "text": [
            "Texts:\n",
            "/content/drive/My Drive/DOC-NER/Merrilllynch_CRA/Richard K Kral.png\n",
            "Richard K Kral.png\n"
          ],
          "name": "stdout"
        },
        {
          "output_type": "stream",
          "text": [
            "\r 64%|██████▍   | 46/72 [01:15<00:29,  1.13s/it]"
          ],
          "name": "stderr"
        },
        {
          "output_type": "stream",
          "text": [
            "Texts:\n",
            "/content/drive/My Drive/DOC-NER/Merrilllynch_CRA/Peter E Trosper.png\n",
            "Peter E Trosper.png\n"
          ],
          "name": "stdout"
        },
        {
          "output_type": "stream",
          "text": [
            "\r 65%|██████▌   | 47/72 [01:16<00:26,  1.06s/it]"
          ],
          "name": "stderr"
        },
        {
          "output_type": "stream",
          "text": [
            "Texts:\n",
            "/content/drive/My Drive/DOC-NER/Merrilllynch_CRA/Harold L Brooks.pdf\n",
            "Harold L Brooks.pdf\n",
            "Texts:\n"
          ],
          "name": "stdout"
        },
        {
          "output_type": "stream",
          "text": [
            "\r 67%|██████▋   | 48/72 [01:17<00:30,  1.28s/it]"
          ],
          "name": "stderr"
        },
        {
          "output_type": "stream",
          "text": [
            "Texts:\n",
            "/content/drive/My Drive/DOC-NER/Merrilllynch_CRA/Hae F Taylor.pdf\n",
            "Hae F Taylor.pdf\n",
            "Texts:\n"
          ],
          "name": "stdout"
        },
        {
          "output_type": "stream",
          "text": [
            "\r 68%|██████▊   | 49/72 [01:19<00:32,  1.40s/it]"
          ],
          "name": "stderr"
        },
        {
          "output_type": "stream",
          "text": [
            "Texts:\n",
            "/content/drive/My Drive/DOC-NER/Merrilllynch_CRA/Gina F Johnson.pdf\n",
            "Gina F Johnson.pdf\n",
            "Texts:\n"
          ],
          "name": "stdout"
        },
        {
          "output_type": "stream",
          "text": [
            "\r 69%|██████▉   | 50/72 [01:21<00:33,  1.54s/it]"
          ],
          "name": "stderr"
        },
        {
          "output_type": "stream",
          "text": [
            "Texts:\n",
            "/content/drive/My Drive/DOC-NER/Merrilllynch_CRA/Eula R Tucker.pdf\n",
            "Eula R Tucker.pdf\n",
            "Texts:\n"
          ],
          "name": "stdout"
        },
        {
          "output_type": "stream",
          "text": [
            "\r 71%|███████   | 51/72 [01:23<00:34,  1.66s/it]"
          ],
          "name": "stderr"
        },
        {
          "output_type": "stream",
          "text": [
            "Texts:\n",
            "/content/drive/My Drive/DOC-NER/Merrilllynch_CRA/Edna T Peres.pdf\n",
            "Edna T Peres.pdf\n",
            "Texts:\n"
          ],
          "name": "stdout"
        },
        {
          "output_type": "stream",
          "text": [
            "\r 72%|███████▏  | 52/72 [01:25<00:35,  1.76s/it]"
          ],
          "name": "stderr"
        },
        {
          "output_type": "stream",
          "text": [
            "Texts:\n",
            "/content/drive/My Drive/DOC-NER/Merrilllynch_CRA/Edith D Alexander.pdf\n",
            "Edith D Alexander.pdf\n",
            "Texts:\n"
          ],
          "name": "stdout"
        },
        {
          "output_type": "stream",
          "text": [
            "\r 74%|███████▎  | 53/72 [01:27<00:34,  1.80s/it]"
          ],
          "name": "stderr"
        },
        {
          "output_type": "stream",
          "text": [
            "Texts:\n",
            "/content/drive/My Drive/DOC-NER/Merrilllynch_CRA/Diana J Alarcon.pdf\n",
            "Diana J Alarcon.pdf\n",
            "Texts:\n"
          ],
          "name": "stdout"
        },
        {
          "output_type": "stream",
          "text": [
            "\r 75%|███████▌  | 54/72 [01:29<00:32,  1.79s/it]"
          ],
          "name": "stderr"
        },
        {
          "output_type": "stream",
          "text": [
            "Texts:\n",
            "/content/drive/My Drive/DOC-NER/Merrilllynch_CRA/Connie J Llanos.pdf\n",
            "Connie J Llanos.pdf\n",
            "Texts:\n"
          ],
          "name": "stdout"
        },
        {
          "output_type": "stream",
          "text": [
            "\r 76%|███████▋  | 55/72 [01:30<00:30,  1.77s/it]"
          ],
          "name": "stderr"
        },
        {
          "output_type": "stream",
          "text": [
            "Texts:\n",
            "/content/drive/My Drive/DOC-NER/Merrilllynch_CRA/Cletus S Russo.pdf\n",
            "Cletus S Russo.pdf\n",
            "Texts:\n"
          ],
          "name": "stdout"
        },
        {
          "output_type": "stream",
          "text": [
            "\r 78%|███████▊  | 56/72 [01:32<00:28,  1.79s/it]"
          ],
          "name": "stderr"
        },
        {
          "output_type": "stream",
          "text": [
            "Texts:\n",
            "/content/drive/My Drive/DOC-NER/Merrilllynch_CRA/Cheryl J Taylor.pdf\n",
            "Cheryl J Taylor.pdf\n",
            "Texts:\n"
          ],
          "name": "stdout"
        },
        {
          "output_type": "stream",
          "text": [
            "\r 79%|███████▉  | 57/72 [01:34<00:27,  1.81s/it]"
          ],
          "name": "stderr"
        },
        {
          "output_type": "stream",
          "text": [
            "Texts:\n",
            "/content/drive/My Drive/DOC-NER/Merrilllynch_CRA/Candy T Lee.pdf\n",
            "Candy T Lee.pdf\n",
            "Texts:\n"
          ],
          "name": "stdout"
        },
        {
          "output_type": "stream",
          "text": [
            "\r 81%|████████  | 58/72 [01:36<00:24,  1.78s/it]"
          ],
          "name": "stderr"
        },
        {
          "output_type": "stream",
          "text": [
            "Texts:\n",
            "/content/drive/My Drive/DOC-NER/Merrilllynch_CRA/Allan A Cook.png\n",
            "Allan A Cook.png\n"
          ],
          "name": "stdout"
        },
        {
          "output_type": "stream",
          "text": [
            "\r 82%|████████▏ | 59/72 [01:36<00:19,  1.46s/it]"
          ],
          "name": "stderr"
        },
        {
          "output_type": "stream",
          "text": [
            "Texts:\n",
            "/content/drive/My Drive/DOC-NER/Merrilllynch_CRA/Allan A Cook (1).png\n",
            "Allan A Cook (1).png\n"
          ],
          "name": "stdout"
        },
        {
          "output_type": "stream",
          "text": [
            "\r 83%|████████▎ | 60/72 [01:38<00:16,  1.39s/it]"
          ],
          "name": "stderr"
        },
        {
          "output_type": "stream",
          "text": [
            "Texts:\n",
            "/content/drive/My Drive/DOC-NER/Merrilllynch_CRA/Adrian Clemens.png\n",
            "Adrian Clemens.png\n"
          ],
          "name": "stdout"
        },
        {
          "output_type": "stream",
          "text": [
            "\r 85%|████████▍ | 61/72 [01:39<00:14,  1.30s/it]"
          ],
          "name": "stderr"
        },
        {
          "output_type": "stream",
          "text": [
            "Texts:\n",
            "/content/drive/My Drive/DOC-NER/Schwab_IRA/Bobby_J_Cole_.pdf\n",
            "Bobby_J_Cole_.pdf\n",
            "Texts:\n"
          ],
          "name": "stdout"
        },
        {
          "output_type": "stream",
          "text": [
            "\r 86%|████████▌ | 62/72 [01:42<00:17,  1.76s/it]"
          ],
          "name": "stderr"
        },
        {
          "output_type": "stream",
          "text": [
            "Texts:\n",
            "/content/drive/My Drive/DOC-NER/Schwab_IRA/Thomas_L_Dodds_.pdf\n",
            "Thomas_L_Dodds_.pdf\n",
            "Texts:\n"
          ],
          "name": "stdout"
        },
        {
          "output_type": "stream",
          "text": [
            "\r 88%|████████▊ | 63/72 [01:44<00:17,  1.89s/it]"
          ],
          "name": "stderr"
        },
        {
          "output_type": "stream",
          "text": [
            "Texts:\n",
            "/content/drive/My Drive/DOC-NER/Schwab_IRA/Tammy_M_Pereira_.pdf\n",
            "Tammy_M_Pereira_.pdf\n",
            "Texts:\n"
          ],
          "name": "stdout"
        },
        {
          "output_type": "stream",
          "text": [
            "\r 89%|████████▉ | 64/72 [01:46<00:16,  2.07s/it]"
          ],
          "name": "stderr"
        },
        {
          "output_type": "stream",
          "text": [
            "Texts:\n",
            "/content/drive/My Drive/DOC-NER/Schwab_IRA/Richard_K_Forester_.pdf\n",
            "Richard_K_Forester_.pdf\n",
            "Texts:\n"
          ],
          "name": "stdout"
        },
        {
          "output_type": "stream",
          "text": [
            "\r 90%|█████████ | 65/72 [01:50<00:16,  2.42s/it]"
          ],
          "name": "stderr"
        },
        {
          "output_type": "stream",
          "text": [
            "Texts:\n",
            "/content/drive/My Drive/DOC-NER/Schwab_IRA/James_B_Adams_.pdf\n",
            "James_B_Adams_.pdf\n",
            "Texts:\n"
          ],
          "name": "stdout"
        },
        {
          "output_type": "stream",
          "text": [
            "\r 92%|█████████▏| 66/72 [01:53<00:15,  2.65s/it]"
          ],
          "name": "stderr"
        },
        {
          "output_type": "stream",
          "text": [
            "Texts:\n",
            "/content/drive/My Drive/DOC-NER/Schwab_IRA/Edmund_L_Kroeger_.pdf\n",
            "Edmund_L_Kroeger_.pdf\n",
            "Texts:\n"
          ],
          "name": "stdout"
        },
        {
          "output_type": "stream",
          "text": [
            "\r 93%|█████████▎| 67/72 [01:55<00:13,  2.66s/it]"
          ],
          "name": "stderr"
        },
        {
          "output_type": "stream",
          "text": [
            "Texts:\n",
            "/content/drive/My Drive/DOC-NER/Schwab_IRA/Donna_E_Warren_.pdf\n",
            "Donna_E_Warren_.pdf\n",
            "Texts:\n"
          ],
          "name": "stdout"
        },
        {
          "output_type": "stream",
          "text": [
            "\r 94%|█████████▍| 68/72 [01:58<00:11,  2.78s/it]"
          ],
          "name": "stderr"
        },
        {
          "output_type": "stream",
          "text": [
            "Texts:\n",
            "/content/drive/My Drive/DOC-NER/Schwab_IRA/Daniel_P_Woods_.pdf\n",
            "Daniel_P_Woods_.pdf\n",
            "Texts:\n"
          ],
          "name": "stdout"
        },
        {
          "output_type": "stream",
          "text": [
            "\r 96%|█████████▌| 69/72 [02:01<00:08,  2.77s/it]"
          ],
          "name": "stderr"
        },
        {
          "output_type": "stream",
          "text": [
            "Texts:\n",
            "/content/drive/My Drive/DOC-NER/Schwab_IRA/Jonathan_K_Sanchez_.pdf\n",
            "Jonathan_K_Sanchez_.pdf\n",
            "Texts:\n"
          ],
          "name": "stdout"
        },
        {
          "output_type": "stream",
          "text": [
            "\r 97%|█████████▋| 70/72 [02:10<00:09,  4.70s/it]"
          ],
          "name": "stderr"
        },
        {
          "output_type": "stream",
          "text": [
            "Texts:\n",
            "/content/drive/My Drive/DOC-NER/Schwab_IRA/Karen_A_Sliva_.pdf\n",
            "Karen_A_Sliva_.pdf\n",
            "Texts:\n"
          ],
          "name": "stdout"
        },
        {
          "output_type": "stream",
          "text": [
            "\r 99%|█████████▊| 71/72 [02:13<00:04,  4.11s/it]"
          ],
          "name": "stderr"
        },
        {
          "output_type": "stream",
          "text": [
            "Texts:\n",
            "/content/drive/My Drive/DOC-NER/Schwab_IRA/Patricia_J_Kim_.pdf\n",
            "Patricia_J_Kim_.pdf\n",
            "Texts:\n"
          ],
          "name": "stdout"
        },
        {
          "output_type": "stream",
          "text": [
            "100%|██████████| 72/72 [02:16<00:00,  1.89s/it]"
          ],
          "name": "stderr"
        },
        {
          "output_type": "stream",
          "text": [
            "Texts:\n"
          ],
          "name": "stdout"
        },
        {
          "output_type": "stream",
          "text": [
            "\n"
          ],
          "name": "stderr"
        }
      ]
    },
    {
      "cell_type": "code",
      "metadata": {
        "id": "wv9A7gUGfsbV",
        "colab_type": "code",
        "outputId": "9dc92d90-c385-4407-c206-01cba81258f0",
        "colab": {
          "base_uri": "https://localhost:8080/",
          "height": 54
        }
      },
      "source": [
        "print(extracted_text[0])"
      ],
      "execution_count": 0,
      "outputs": [
        {
          "output_type": "stream",
          "text": [
            "D Ameritrade Institutional Reset Form ACCOUNT TRANSFER FORM TO TRANSFER YOUR EXISTING ACCOUNT TO TD AMERITRADE Account # 896547896 Advisor Code 987456932 Case # 1 PLEASE ATTACH A COPY OF YOUR LATEST STATEMENT. TD AMERITRADE ACCOUNT INFORMATION Account Title/Registration: Zita J Rottman Social Security Number/Tax ID: Clearing Number 404711495 0188 Individual Personal Trust Limited Liability Company Roth IRA Qualified Retirement Plan (Non-Qualified) Employer Plan Type: Joint Estate Partnership/Investment Club SEP IRA Simple IRA UTMA/UGMA Corporate Traditional IRA/Rollover RA Coverdell ESA Beneficiary IRA Other: 2 INFORMATION ON THE ACCOUNT YOU ARE TRANSFERRING FROM Account Title/Registration as shown on your statement Account Number Zita JRottman 870214590 Name of Delivering Firm: NVDA Physical Address of Firm (no PO BOX): Telephone Number (required): 200 Crescent Ct #1200 (541) 754-3010 Individual Personal Trust Limited Liability Company Roth IRA Qualified Retirement Plan (Non-Qualified) Employer Plan Type Joint Estate Partnership/Investment Club SEP IRA Simple IRA Has SIMPLE IRA been funded for at least two years? Yes No UTMA/UGMA Corporate Traditional IRA/Rollover RA Coverdell ESA Beneficiary IRA Other: LIST THE ASSETS YOU WANT TO TRANSFER A. Transfer from an ACAT eligible Brokerage Firm, Bank, Insurance/Annuity Co., Trust Co., or Transfer Agent - Check box for full or partial transfer. For partial transfers, list descriptions of assets and shares. Unless otherwise indicated, TD Ameritrade will transfer in full. Please note - The ACAT system does not allow for liquidation requests. To place trades, please contact your current custodian prior to submitting the transfer request. Most banks, insurance/annuity, and trust companies require original wet-ink signature mailed to TD Ameritrade. If transferring in Alternative Investments, please obtain a copy of the Transfer In Only Alternative Investment Client Custody Agreement from your Advisor, the terms of which will apply to our custody of your Alternative Investments. No signature is required. Full Transfer - To transfer entire account, check box and Partial Transfer - List specific security. If bonds are being transferred, skip to Section 4 (if applicable), then to the Signature Section. please supply the Bond CUSIP. Description of Asset (Partial transfers only) Quantity (Indicate # of shares or \"ALL\") Description of Asset (Partial transfers only) Quantity indicate # of shares or \"ALL\") COST 300 JNJ 400 CSCO 1500 NVDA 300 For additional securities, see attached list. O Page 1 of 5 TDAI 9682 REV. 02/17 . Annuity/Life Insurance Policy: I have an annuity or life insurance policy I wish to liquidate and have the proceeds sent to TD Ameritrade. Please choose one option: Please redeem and terminate entire contract or policy on my behalf. I understand that penalties may apply. Please redeem and terminate entire contract or policy on my behalf. The entire contract or policy is penalty-free Please redeem only the penalty-free amount of $ Please withdraw a partial amount of $ The entire contract or policy is penalty-free. Certificates of Deposit (CDs): Redeem my CD immediately. I understand that penalties may apply for any withdrawals prior to maturity. Redeem my CD at maturity. Maturity date:_ Submit request at least 21 days prior to maturity. Please advise your bank not to roll over the CD to a new term. Dividend Reinvestment Plan: I am transferring positions in Book Entry form and liquidating accumulated fractional shares B. Transfer from a Mutual Fund company - Unless otherwise indicated, TD Ameritrade will transfer all shares in kind and reinvest your dividends and capital gains. I acknowledge that ineligible proprietary mutual funds and all no-load money market funds cannot be transferred in kind and must be liquidated by the mutual fund company. Fund Name or Symbol Fund Account Number (Indicate # of shares or \"AN) Quantity Credit Gains and Dividends as (Check one if transferring shares) COST 300 Reinvested shares Cash CSCO 1500 Reinvested shares Cash Handling (Check one) Transfer my shares Sell my shares, transfer cash Transfer my shares Sell my shares, transfer cash Transfer my shares Sell my shares, transfer cash Transfer my shares Sell my shares, transfer cash Transfer my shares Sell my shares transfer cash JNJ 400 Reinvested shares Cash NVDA 300 Reinvested shares Cash Reinvested shares Cash For additional mutual funds, see attached list. O To transfer Money Markets, please indicate the Money Market name or symbol if available: Liquidate Money Market: All Only: $ 790,000 Page 2 of 5 TDAI 9682 REV. 02/17 \n"
          ],
          "name": "stdout"
        }
      ]
    },
    {
      "cell_type": "code",
      "metadata": {
        "id": "UGQIJFHJg384",
        "colab_type": "code",
        "colab": {}
      },
      "source": [
        "master_df = pd.DataFrame({'file_name' : customer_file_name,\n",
        "                          'extracted_text' : extracted_text})"
      ],
      "execution_count": 0,
      "outputs": []
    },
    {
      "cell_type": "code",
      "metadata": {
        "id": "tUbezJMZg6JI",
        "colab_type": "code",
        "outputId": "50b0ce02-4390-4565-9536-552b99cbe9ee",
        "colab": {
          "base_uri": "https://localhost:8080/",
          "height": 195
        }
      },
      "source": [
        "master_df.head()"
      ],
      "execution_count": 0,
      "outputs": [
        {
          "output_type": "execute_result",
          "data": {
            "text/html": [
              "<div>\n",
              "<style scoped>\n",
              "    .dataframe tbody tr th:only-of-type {\n",
              "        vertical-align: middle;\n",
              "    }\n",
              "\n",
              "    .dataframe tbody tr th {\n",
              "        vertical-align: top;\n",
              "    }\n",
              "\n",
              "    .dataframe thead th {\n",
              "        text-align: right;\n",
              "    }\n",
              "</style>\n",
              "<table border=\"1\" class=\"dataframe\">\n",
              "  <thead>\n",
              "    <tr style=\"text-align: right;\">\n",
              "      <th></th>\n",
              "      <th>file_name</th>\n",
              "      <th>extracted_text</th>\n",
              "    </tr>\n",
              "  </thead>\n",
              "  <tbody>\n",
              "    <tr>\n",
              "      <th>0</th>\n",
              "      <td>Zita J Rottman_.pdf</td>\n",
              "      <td>D Ameritrade Institutional Reset Form ACCOUNT ...</td>\n",
              "    </tr>\n",
              "    <tr>\n",
              "      <th>1</th>\n",
              "      <td>Teresa R Woods_.pdf</td>\n",
              "      <td>D Ameritrade Institutional Reset Form ACCOUNT ...</td>\n",
              "    </tr>\n",
              "    <tr>\n",
              "      <th>2</th>\n",
              "      <td>Susan T Green_.pdf</td>\n",
              "      <td>D Ameritrade Institutional Reset Form ACCOUNT ...</td>\n",
              "    </tr>\n",
              "    <tr>\n",
              "      <th>3</th>\n",
              "      <td>Robert R Sheppard_.pdf</td>\n",
              "      <td>D Ameritrade Institutional Reset Form ACCOUNT ...</td>\n",
              "    </tr>\n",
              "    <tr>\n",
              "      <th>4</th>\n",
              "      <td>Robert R Allan_.pdf</td>\n",
              "      <td>D Ameritrade Institutional Reset Form ACCOUNT ...</td>\n",
              "    </tr>\n",
              "  </tbody>\n",
              "</table>\n",
              "</div>"
            ],
            "text/plain": [
              "                file_name                                     extracted_text\n",
              "0     Zita J Rottman_.pdf  D Ameritrade Institutional Reset Form ACCOUNT ...\n",
              "1     Teresa R Woods_.pdf  D Ameritrade Institutional Reset Form ACCOUNT ...\n",
              "2      Susan T Green_.pdf  D Ameritrade Institutional Reset Form ACCOUNT ...\n",
              "3  Robert R Sheppard_.pdf  D Ameritrade Institutional Reset Form ACCOUNT ...\n",
              "4     Robert R Allan_.pdf  D Ameritrade Institutional Reset Form ACCOUNT ..."
            ]
          },
          "metadata": {
            "tags": []
          },
          "execution_count": 18
        }
      ]
    },
    {
      "cell_type": "code",
      "metadata": {
        "id": "jvJ3UgAvg-t-",
        "colab_type": "code",
        "colab": {}
      },
      "source": [
        "master_df['FILE NAME'] = master_df['file_name'].apply(lambda x: Path(x).stem)"
      ],
      "execution_count": 0,
      "outputs": []
    },
    {
      "cell_type": "code",
      "metadata": {
        "id": "VV979KjkhC-n",
        "colab_type": "code",
        "outputId": "45a3cede-818d-4c10-cb6d-466830f1c672",
        "colab": {
          "base_uri": "https://localhost:8080/",
          "height": 195
        }
      },
      "source": [
        "master_df.head()"
      ],
      "execution_count": 0,
      "outputs": [
        {
          "output_type": "execute_result",
          "data": {
            "text/html": [
              "<div>\n",
              "<style scoped>\n",
              "    .dataframe tbody tr th:only-of-type {\n",
              "        vertical-align: middle;\n",
              "    }\n",
              "\n",
              "    .dataframe tbody tr th {\n",
              "        vertical-align: top;\n",
              "    }\n",
              "\n",
              "    .dataframe thead th {\n",
              "        text-align: right;\n",
              "    }\n",
              "</style>\n",
              "<table border=\"1\" class=\"dataframe\">\n",
              "  <thead>\n",
              "    <tr style=\"text-align: right;\">\n",
              "      <th></th>\n",
              "      <th>file_name</th>\n",
              "      <th>extracted_text</th>\n",
              "      <th>FILE NAME</th>\n",
              "    </tr>\n",
              "  </thead>\n",
              "  <tbody>\n",
              "    <tr>\n",
              "      <th>0</th>\n",
              "      <td>Zita J Rottman_.pdf</td>\n",
              "      <td>D Ameritrade Institutional Reset Form ACCOUNT ...</td>\n",
              "      <td>Zita J Rottman_</td>\n",
              "    </tr>\n",
              "    <tr>\n",
              "      <th>1</th>\n",
              "      <td>Teresa R Woods_.pdf</td>\n",
              "      <td>D Ameritrade Institutional Reset Form ACCOUNT ...</td>\n",
              "      <td>Teresa R Woods_</td>\n",
              "    </tr>\n",
              "    <tr>\n",
              "      <th>2</th>\n",
              "      <td>Susan T Green_.pdf</td>\n",
              "      <td>D Ameritrade Institutional Reset Form ACCOUNT ...</td>\n",
              "      <td>Susan T Green_</td>\n",
              "    </tr>\n",
              "    <tr>\n",
              "      <th>3</th>\n",
              "      <td>Robert R Sheppard_.pdf</td>\n",
              "      <td>D Ameritrade Institutional Reset Form ACCOUNT ...</td>\n",
              "      <td>Robert R Sheppard_</td>\n",
              "    </tr>\n",
              "    <tr>\n",
              "      <th>4</th>\n",
              "      <td>Robert R Allan_.pdf</td>\n",
              "      <td>D Ameritrade Institutional Reset Form ACCOUNT ...</td>\n",
              "      <td>Robert R Allan_</td>\n",
              "    </tr>\n",
              "  </tbody>\n",
              "</table>\n",
              "</div>"
            ],
            "text/plain": [
              "                file_name  ...           FILE NAME\n",
              "0     Zita J Rottman_.pdf  ...     Zita J Rottman_\n",
              "1     Teresa R Woods_.pdf  ...     Teresa R Woods_\n",
              "2      Susan T Green_.pdf  ...      Susan T Green_\n",
              "3  Robert R Sheppard_.pdf  ...  Robert R Sheppard_\n",
              "4     Robert R Allan_.pdf  ...     Robert R Allan_\n",
              "\n",
              "[5 rows x 3 columns]"
            ]
          },
          "metadata": {
            "tags": []
          },
          "execution_count": 20
        }
      ]
    },
    {
      "cell_type": "code",
      "metadata": {
        "id": "78TIajSOhEqJ",
        "colab_type": "code",
        "colab": {}
      },
      "source": [
        "ira_df = pd.read_csv('/content/drive/My Drive/DOC-NER/IRA.csv')"
      ],
      "execution_count": 0,
      "outputs": []
    },
    {
      "cell_type": "code",
      "metadata": {
        "id": "dptULoWJhHq0",
        "colab_type": "code",
        "outputId": "fa0b29a2-dd4f-4aed-8bcf-340fb2d27788",
        "colab": {
          "base_uri": "https://localhost:8080/",
          "height": 481
        }
      },
      "source": [
        "ira_df.head()"
      ],
      "execution_count": 0,
      "outputs": [
        {
          "output_type": "execute_result",
          "data": {
            "text/html": [
              "<div>\n",
              "<style scoped>\n",
              "    .dataframe tbody tr th:only-of-type {\n",
              "        vertical-align: middle;\n",
              "    }\n",
              "\n",
              "    .dataframe tbody tr th {\n",
              "        vertical-align: top;\n",
              "    }\n",
              "\n",
              "    .dataframe thead th {\n",
              "        text-align: right;\n",
              "    }\n",
              "</style>\n",
              "<table border=\"1\" class=\"dataframe\">\n",
              "  <thead>\n",
              "    <tr style=\"text-align: right;\">\n",
              "      <th></th>\n",
              "      <th>SLNo.</th>\n",
              "      <th>CATEGORY</th>\n",
              "      <th>FILE NAME</th>\n",
              "      <th>FILE SIZE</th>\n",
              "      <th>TITLE</th>\n",
              "      <th>DESCRIPTION</th>\n",
              "      <th>CLIENT</th>\n",
              "      <th>ADDRESS</th>\n",
              "      <th>SOCIAL SECURITY NO</th>\n",
              "      <th>RELATIONSHIP NO.</th>\n",
              "      <th>ACC NO</th>\n",
              "      <th>ACC TYPE</th>\n",
              "      <th>PHONE</th>\n",
              "      <th>CITY</th>\n",
              "      <th>EMAIL</th>\n",
              "    </tr>\n",
              "  </thead>\n",
              "  <tbody>\n",
              "    <tr>\n",
              "      <th>0</th>\n",
              "      <td>0</td>\n",
              "      <td>Merrilllynch_CRA</td>\n",
              "      <td>Adrian Clemens</td>\n",
              "      <td>298 KB</td>\n",
              "      <td>Client Account Transfer Form</td>\n",
              "      <td>Use this form to transfer all or a portion of ...</td>\n",
              "      <td>Daniel C Paul</td>\n",
              "      <td>2 Seaport Ln</td>\n",
              "      <td>545401875</td>\n",
              "      <td>335-0012</td>\n",
              "      <td>89101454</td>\n",
              "      <td>IRA</td>\n",
              "      <td>5417542545</td>\n",
              "      <td>Boston, MA,02210</td>\n",
              "      <td>Adrian@gmail.com</td>\n",
              "    </tr>\n",
              "    <tr>\n",
              "      <th>1</th>\n",
              "      <td>1</td>\n",
              "      <td>Merrilllynch_CRA</td>\n",
              "      <td>Peter E Trosper</td>\n",
              "      <td>295 KB</td>\n",
              "      <td>Client Account Transfer Form</td>\n",
              "      <td>Use this form to transfer all or a portion of ...</td>\n",
              "      <td>Grace P Lane</td>\n",
              "      <td>450 Park Ave #18</td>\n",
              "      <td>593746465</td>\n",
              "      <td>335-8978</td>\n",
              "      <td>66667894</td>\n",
              "      <td>IRA</td>\n",
              "      <td>5417543022</td>\n",
              "      <td>New York, NY,10022</td>\n",
              "      <td>pater@gmail.com</td>\n",
              "    </tr>\n",
              "    <tr>\n",
              "      <th>2</th>\n",
              "      <td>2</td>\n",
              "      <td>Merrilllynch_CRA</td>\n",
              "      <td>Richard K Kral</td>\n",
              "      <td>298 KB</td>\n",
              "      <td>Client Account Transfer Form</td>\n",
              "      <td>Use this form to transfer all or a portion of ...</td>\n",
              "      <td>Jeanette B Hughes</td>\n",
              "      <td>340 Madison Ave</td>\n",
              "      <td>344466775</td>\n",
              "      <td>335-2125</td>\n",
              "      <td>79703212</td>\n",
              "      <td>IRA</td>\n",
              "      <td>5417543888</td>\n",
              "      <td>New York, NY,10173</td>\n",
              "      <td>Richard@gmail.com</td>\n",
              "    </tr>\n",
              "    <tr>\n",
              "      <th>3</th>\n",
              "      <td>3</td>\n",
              "      <td>Merrilllynch_CRA</td>\n",
              "      <td>Robert E Regan</td>\n",
              "      <td>298 KB</td>\n",
              "      <td>Client Account Transfer Form</td>\n",
              "      <td>Use this form to transfer all or a portion of ...</td>\n",
              "      <td>Grace M Gracia</td>\n",
              "      <td>Search Results 11988 El Camino Real #600</td>\n",
              "      <td>417414892</td>\n",
              "      <td>335-0021</td>\n",
              "      <td>NaN</td>\n",
              "      <td>IRA</td>\n",
              "      <td>5417543010</td>\n",
              "      <td>San Diego, CA,92130</td>\n",
              "      <td>Robert@gmail.com</td>\n",
              "    </tr>\n",
              "    <tr>\n",
              "      <th>4</th>\n",
              "      <td>4</td>\n",
              "      <td>Merrilllynch_CRA</td>\n",
              "      <td>Rose R Webb</td>\n",
              "      <td>298 KB</td>\n",
              "      <td>Client Account Transfer Form</td>\n",
              "      <td>Use this form to transfer all or a portion of ...</td>\n",
              "      <td>Donald S Cordova</td>\n",
              "      <td>11150CA-2 #200</td>\n",
              "      <td>539236318</td>\n",
              "      <td>335-4587</td>\n",
              "      <td>22560564</td>\n",
              "      <td>IRA</td>\n",
              "      <td>5417545879</td>\n",
              "      <td>Los Angeles, CA,90025</td>\n",
              "      <td>Rose@gmail.com</td>\n",
              "    </tr>\n",
              "  </tbody>\n",
              "</table>\n",
              "</div>"
            ],
            "text/plain": [
              "   SLNo.          CATEGORY  ...                   CITY              EMAIL\n",
              "0      0  Merrilllynch_CRA  ...       Boston, MA,02210   Adrian@gmail.com\n",
              "1      1  Merrilllynch_CRA  ...     New York, NY,10022    pater@gmail.com\n",
              "2      2  Merrilllynch_CRA  ...     New York, NY,10173  Richard@gmail.com\n",
              "3      3  Merrilllynch_CRA  ...    San Diego, CA,92130   Robert@gmail.com\n",
              "4      4  Merrilllynch_CRA  ...  Los Angeles, CA,90025     Rose@gmail.com\n",
              "\n",
              "[5 rows x 15 columns]"
            ]
          },
          "metadata": {
            "tags": []
          },
          "execution_count": 22
        }
      ]
    },
    {
      "cell_type": "code",
      "metadata": {
        "id": "mww1spBShOPG",
        "colab_type": "code",
        "colab": {}
      },
      "source": [
        "final_df = pd.merge(master_df, ira_df, on='FILE NAME')"
      ],
      "execution_count": 0,
      "outputs": []
    },
    {
      "cell_type": "code",
      "metadata": {
        "id": "x5X1YSpdhe2v",
        "colab_type": "code",
        "colab": {}
      },
      "source": [
        "final_df.columns = ['file_name', 'extracted_text', 'FILE_NAME', 'SLNo', 'CATEGORY',\n",
        "       'FILE_SIZE', 'TITLE', 'DESCRIPTION', 'CLIENT', 'ADDRESS',\n",
        "       'SOCIAL_SECURITY_NO', 'RELATIONSHIP_NO', 'ACC_NO', 'ACC_TYPE', 'PHONE',\n",
        "       'CITY', 'EMAIL']"
      ],
      "execution_count": 0,
      "outputs": []
    },
    {
      "cell_type": "code",
      "metadata": {
        "id": "fjzUaXUthhqJ",
        "colab_type": "code",
        "colab": {}
      },
      "source": [
        "final_df['PHONE'] = final_df['PHONE'].apply(lambda x: '('+str(x)[:3]+')'+' '+str(x)[3:6]+'-'+str(x)[6:10])"
      ],
      "execution_count": 0,
      "outputs": []
    },
    {
      "cell_type": "code",
      "metadata": {
        "id": "brXLudShhkcj",
        "colab_type": "code",
        "colab": {}
      },
      "source": [
        "for i in final_df.columns:\n",
        "    final_df[i] = final_df[i].astype('str') "
      ],
      "execution_count": 0,
      "outputs": []
    },
    {
      "cell_type": "code",
      "metadata": {
        "id": "LDD29fTwhnLa",
        "colab_type": "code",
        "colab": {}
      },
      "source": [
        "final_df.to_csv('final_df.csv', encoding='utf-8', index=False)"
      ],
      "execution_count": 0,
      "outputs": []
    },
    {
      "cell_type": "code",
      "metadata": {
        "id": "zMTgGls6hpe6",
        "colab_type": "code",
        "outputId": "c2de2dde-2cc5-4ed6-dbac-99405e0095d0",
        "colab": {
          "base_uri": "https://localhost:8080/",
          "height": 319
        }
      },
      "source": [
        "final_df.dtypes"
      ],
      "execution_count": 0,
      "outputs": [
        {
          "output_type": "execute_result",
          "data": {
            "text/plain": [
              "file_name             object\n",
              "extracted_text        object\n",
              "FILE_NAME             object\n",
              "SLNo                  object\n",
              "CATEGORY              object\n",
              "FILE_SIZE             object\n",
              "TITLE                 object\n",
              "DESCRIPTION           object\n",
              "CLIENT                object\n",
              "ADDRESS               object\n",
              "SOCIAL_SECURITY_NO    object\n",
              "RELATIONSHIP_NO       object\n",
              "ACC_NO                object\n",
              "ACC_TYPE              object\n",
              "PHONE                 object\n",
              "CITY                  object\n",
              "EMAIL                 object\n",
              "dtype: object"
            ]
          },
          "metadata": {
            "tags": []
          },
          "execution_count": 28
        }
      ]
    },
    {
      "cell_type": "markdown",
      "metadata": {
        "id": "Tr6gERe2huKW",
        "colab_type": "text"
      },
      "source": [
        "**NER**"
      ]
    },
    {
      "cell_type": "code",
      "metadata": {
        "id": "Bo-sa-J9hrgn",
        "colab_type": "code",
        "colab": {}
      },
      "source": [
        "import itertools"
      ],
      "execution_count": 0,
      "outputs": []
    },
    {
      "cell_type": "code",
      "metadata": {
        "id": "KbCfVw35h0fC",
        "colab_type": "code",
        "colab": {}
      },
      "source": [
        "final_df = pd.read_csv(\"final_df.csv\")\n",
        "for i in final_df.columns:\n",
        "    final_df[i] = final_df[i].astype('str') "
      ],
      "execution_count": 0,
      "outputs": []
    },
    {
      "cell_type": "code",
      "metadata": {
        "id": "IJ0NwhIVh3AV",
        "colab_type": "code",
        "colab": {}
      },
      "source": [
        "final_df.columns = ['file_name', 'extracted_text', 'FILE_NAME', 'SLNo', 'CATEGORY',\n",
        "       'FILE_SIZE', 'TITLE', 'DESCRIPTION', 'CLIENT', 'ADDRESS',\n",
        "       'SOCIAL_SECURITY_NO', 'RELATIONSHIP_NO', 'ACC_NO', 'ACC_TYPE', 'PHONE',\n",
        "       'CITY', 'EMAIL']"
      ],
      "execution_count": 0,
      "outputs": []
    },
    {
      "cell_type": "code",
      "metadata": {
        "id": "FxzyzIXRh5bo",
        "colab_type": "code",
        "colab": {}
      },
      "source": [
        "final_df['TITLE'] = final_df['TITLE'].apply(lambda x: x.replace('IRA ', ''))"
      ],
      "execution_count": 0,
      "outputs": []
    },
    {
      "cell_type": "code",
      "metadata": {
        "id": "E3nJTHKth8VL",
        "colab_type": "code",
        "outputId": "19d69af3-f257-4c38-a630-86569e26bcb9",
        "colab": {
          "base_uri": "https://localhost:8080/",
          "height": 1000
        }
      },
      "source": [
        "final_df"
      ],
      "execution_count": 0,
      "outputs": [
        {
          "output_type": "execute_result",
          "data": {
            "text/html": [
              "<div>\n",
              "<style scoped>\n",
              "    .dataframe tbody tr th:only-of-type {\n",
              "        vertical-align: middle;\n",
              "    }\n",
              "\n",
              "    .dataframe tbody tr th {\n",
              "        vertical-align: top;\n",
              "    }\n",
              "\n",
              "    .dataframe thead th {\n",
              "        text-align: right;\n",
              "    }\n",
              "</style>\n",
              "<table border=\"1\" class=\"dataframe\">\n",
              "  <thead>\n",
              "    <tr style=\"text-align: right;\">\n",
              "      <th></th>\n",
              "      <th>file_name</th>\n",
              "      <th>extracted_text</th>\n",
              "      <th>FILE_NAME</th>\n",
              "      <th>SLNo</th>\n",
              "      <th>CATEGORY</th>\n",
              "      <th>FILE_SIZE</th>\n",
              "      <th>TITLE</th>\n",
              "      <th>DESCRIPTION</th>\n",
              "      <th>CLIENT</th>\n",
              "      <th>ADDRESS</th>\n",
              "      <th>SOCIAL_SECURITY_NO</th>\n",
              "      <th>RELATIONSHIP_NO</th>\n",
              "      <th>ACC_NO</th>\n",
              "      <th>ACC_TYPE</th>\n",
              "      <th>PHONE</th>\n",
              "      <th>CITY</th>\n",
              "      <th>EMAIL</th>\n",
              "    </tr>\n",
              "  </thead>\n",
              "  <tbody>\n",
              "    <tr>\n",
              "      <th>0</th>\n",
              "      <td>Zita J Rottman_.pdf</td>\n",
              "      <td>D Ameritrade Institutional Reset Form ACCOUNT ...</td>\n",
              "      <td>Zita J Rottman_</td>\n",
              "      <td>40</td>\n",
              "      <td>Ameritrade Institutional</td>\n",
              "      <td>142 KB</td>\n",
              "      <td>ACCOUNT TRANSFER FORM</td>\n",
              "      <td>A. Transfer from an ACAT eligible Brokerage Fi...</td>\n",
              "      <td>Zita J Rottman</td>\n",
              "      <td>200 Crescent Ct#1200</td>\n",
              "      <td>404711495</td>\n",
              "      <td>nan</td>\n",
              "      <td>870214590</td>\n",
              "      <td>NVDA</td>\n",
              "      <td>(541) 754-3010</td>\n",
              "      <td>nan</td>\n",
              "      <td>nan</td>\n",
              "    </tr>\n",
              "    <tr>\n",
              "      <th>1</th>\n",
              "      <td>Teresa R Woods_.pdf</td>\n",
              "      <td>D Ameritrade Institutional Reset Form ACCOUNT ...</td>\n",
              "      <td>Teresa R Woods_</td>\n",
              "      <td>59</td>\n",
              "      <td>Ameritrade Institutional</td>\n",
              "      <td>142 KB</td>\n",
              "      <td>ACCOUNT TRANSFER FORM</td>\n",
              "      <td>A. Transfer from an ACAT eligible Brokerage Fi...</td>\n",
              "      <td>Teresa R Woods</td>\n",
              "      <td>3403 Richards Avenue</td>\n",
              "      <td>139394344</td>\n",
              "      <td>nan</td>\n",
              "      <td>875032122</td>\n",
              "      <td>BABA</td>\n",
              "      <td>(541) 754-1100</td>\n",
              "      <td>nan</td>\n",
              "      <td>nan</td>\n",
              "    </tr>\n",
              "    <tr>\n",
              "      <th>2</th>\n",
              "      <td>Susan T Green_.pdf</td>\n",
              "      <td>D Ameritrade Institutional Reset Form ACCOUNT ...</td>\n",
              "      <td>Susan T Green_</td>\n",
              "      <td>28</td>\n",
              "      <td>Ameritrade Institutional</td>\n",
              "      <td>142 KB</td>\n",
              "      <td>ACCOUNT TRANSFER FORM</td>\n",
              "      <td>A. Transfer from an ACAT eligible Brokerage Fi...</td>\n",
              "      <td>Susan T Green</td>\n",
              "      <td>3116 Wright Court</td>\n",
              "      <td>517144655</td>\n",
              "      <td>nan</td>\n",
              "      <td>856901266</td>\n",
              "      <td>TGT</td>\n",
              "      <td>(541) 754-3044</td>\n",
              "      <td>nan</td>\n",
              "      <td>nan</td>\n",
              "    </tr>\n",
              "    <tr>\n",
              "      <th>3</th>\n",
              "      <td>Robert R Sheppard_.pdf</td>\n",
              "      <td>D Ameritrade Institutional Reset Form ACCOUNT ...</td>\n",
              "      <td>Robert R Sheppard_</td>\n",
              "      <td>27</td>\n",
              "      <td>Ameritrade Institutional</td>\n",
              "      <td>142 KB</td>\n",
              "      <td>ACCOUNT TRANSFER FORM</td>\n",
              "      <td>A. Transfer from an ACAT eligible Brokerage Fi...</td>\n",
              "      <td>Robert R Sheppard</td>\n",
              "      <td>3291 Hall Street</td>\n",
              "      <td>545401844</td>\n",
              "      <td>nan</td>\n",
              "      <td>987012777</td>\n",
              "      <td>NVDA</td>\n",
              "      <td>(541) 754-3222</td>\n",
              "      <td>nan</td>\n",
              "      <td>nan</td>\n",
              "    </tr>\n",
              "    <tr>\n",
              "      <th>4</th>\n",
              "      <td>Robert J Barr_.pdf</td>\n",
              "      <td>D Ameritrade Institutional Reset Form ACCOUNT ...</td>\n",
              "      <td>Robert J Barr_</td>\n",
              "      <td>26</td>\n",
              "      <td>Ameritrade Institutional</td>\n",
              "      <td>142 KB</td>\n",
              "      <td>ACCOUNT TRANSFER FORM</td>\n",
              "      <td>A. Transfer from an ACAT eligible Brokerage Fi...</td>\n",
              "      <td>Robert J Barr</td>\n",
              "      <td>4567 Willison Street</td>\n",
              "      <td>139394322</td>\n",
              "      <td>nan</td>\n",
              "      <td>875032188</td>\n",
              "      <td>BABA</td>\n",
              "      <td>(541) 754-3022</td>\n",
              "      <td>nan</td>\n",
              "      <td>nan</td>\n",
              "    </tr>\n",
              "    <tr>\n",
              "      <th>5</th>\n",
              "      <td>Pamela E Byrd_.pdf</td>\n",
              "      <td>D Ameritrade Institutional Reset Form ACCOUNT ...</td>\n",
              "      <td>Pamela E Byrd_</td>\n",
              "      <td>25</td>\n",
              "      <td>Ameritrade Institutional</td>\n",
              "      <td>142 KB</td>\n",
              "      <td>ACCOUNT TRANSFER FORM</td>\n",
              "      <td>A. Transfer from an ACAT eligible Brokerage Fi...</td>\n",
              "      <td>Pamela E Byrd</td>\n",
              "      <td>514 Stutler Lane</td>\n",
              "      <td>139394344</td>\n",
              "      <td>nan</td>\n",
              "      <td>875032122</td>\n",
              "      <td>GOOG</td>\n",
              "      <td>(541) 754-3033</td>\n",
              "      <td>nan</td>\n",
              "      <td>nan</td>\n",
              "    </tr>\n",
              "    <tr>\n",
              "      <th>6</th>\n",
              "      <td>Nora R Mills_.pdf</td>\n",
              "      <td>D Ameritrade Institutional Reset Form ACCOUNT ...</td>\n",
              "      <td>Nora R Mills_</td>\n",
              "      <td>57</td>\n",
              "      <td>Ameritrade Institutional</td>\n",
              "      <td>142 KB</td>\n",
              "      <td>ACCOUNT TRANSFER FORM</td>\n",
              "      <td>A. Transfer from an ACAT eligible Brokerage Fi...</td>\n",
              "      <td>Nora R Mills</td>\n",
              "      <td>4010 Mulberry Street</td>\n",
              "      <td>545401870</td>\n",
              "      <td>nan</td>\n",
              "      <td>987012344</td>\n",
              "      <td>JNJ</td>\n",
              "      <td>(541) 754-3055</td>\n",
              "      <td>nan</td>\n",
              "      <td>nan</td>\n",
              "    </tr>\n",
              "    <tr>\n",
              "      <th>7</th>\n",
              "      <td>Michael_C_Preston_.pdf</td>\n",
              "      <td>D Ameritrade Institutional Reset Form ACCOUNT ...</td>\n",
              "      <td>Michael_C_Preston_</td>\n",
              "      <td>48</td>\n",
              "      <td>Ameritrade Institutional</td>\n",
              "      <td>142 KB</td>\n",
              "      <td>ACCOUNT TRANSFER FORM</td>\n",
              "      <td>A. Transfer from an ACAT eligible Brokerage Fi...</td>\n",
              "      <td>Michael C Preston</td>\n",
              "      <td>4645 Hope Street</td>\n",
              "      <td>139394339</td>\n",
              "      <td>nan</td>\n",
              "      <td>875032106</td>\n",
              "      <td>BBY</td>\n",
              "      <td>(541) 754-3044</td>\n",
              "      <td>nan</td>\n",
              "      <td>nan</td>\n",
              "    </tr>\n",
              "    <tr>\n",
              "      <th>8</th>\n",
              "      <td>Mary H Craven_.pdf</td>\n",
              "      <td>D Ameritrade Institutional Reset Form ACCOUNT ...</td>\n",
              "      <td>Mary H Craven_</td>\n",
              "      <td>24</td>\n",
              "      <td>Ameritrade Institutional</td>\n",
              "      <td>142 KB</td>\n",
              "      <td>ACCOUNT TRANSFER FORM</td>\n",
              "      <td>A. Transfer from an ACAT eligible Brokerage Fi...</td>\n",
              "      <td>Mary H Craven</td>\n",
              "      <td>2397 Deans Lane</td>\n",
              "      <td>545401875</td>\n",
              "      <td>nan</td>\n",
              "      <td>987012322</td>\n",
              "      <td>JNJ</td>\n",
              "      <td>(541) 754-3055</td>\n",
              "      <td>nan</td>\n",
              "      <td>nan</td>\n",
              "    </tr>\n",
              "    <tr>\n",
              "      <th>9</th>\n",
              "      <td>Marie P Watkins_.pdf</td>\n",
              "      <td>D Ameritrade Institutional Reset Form ACCOUNT ...</td>\n",
              "      <td>Marie P Watkins_</td>\n",
              "      <td>38</td>\n",
              "      <td>Ameritrade Institutional</td>\n",
              "      <td>142 KB</td>\n",
              "      <td>ACCOUNT TRANSFER FORM</td>\n",
              "      <td>A. Transfer from an ACAT eligible Brokerage Fi...</td>\n",
              "      <td>Marie P Watkins</td>\n",
              "      <td>222 Berkeley St #15</td>\n",
              "      <td>517144661</td>\n",
              "      <td>nan</td>\n",
              "      <td>856901203</td>\n",
              "      <td>TGT</td>\n",
              "      <td>(541) 754-3012</td>\n",
              "      <td>nan</td>\n",
              "      <td>nan</td>\n",
              "    </tr>\n",
              "    <tr>\n",
              "      <th>10</th>\n",
              "      <td>Linda M Rice_.pdf</td>\n",
              "      <td>D Ameritrade Institutional Reset Form ACCOUNT ...</td>\n",
              "      <td>Linda M Rice_</td>\n",
              "      <td>56</td>\n",
              "      <td>Ameritrade Institutional</td>\n",
              "      <td>142 KB</td>\n",
              "      <td>ACCOUNT TRANSFER FORM</td>\n",
              "      <td>A. Transfer from an ACAT eligible Brokerage Fi...</td>\n",
              "      <td>Linda M Rice</td>\n",
              "      <td>4926 Hickory Heights Drive</td>\n",
              "      <td>404711411</td>\n",
              "      <td>nan</td>\n",
              "      <td>870214544</td>\n",
              "      <td>COST</td>\n",
              "      <td>(541) 754-2222</td>\n",
              "      <td>nan</td>\n",
              "      <td>nan</td>\n",
              "    </tr>\n",
              "    <tr>\n",
              "      <th>11</th>\n",
              "      <td>Lili J Thomas_.pdf</td>\n",
              "      <td>D Ameritrade Institutional Reset Form ACCOUNT ...</td>\n",
              "      <td>Lili J Thomas_</td>\n",
              "      <td>55</td>\n",
              "      <td>Ameritrade Institutional</td>\n",
              "      <td>142 KB</td>\n",
              "      <td>ACCOUNT TRANSFER FORM</td>\n",
              "      <td>A. Transfer from an ACAT eligible Brokerage Fi...</td>\n",
              "      <td>Lili J Thomas</td>\n",
              "      <td>3523 Skinner Hollow Road</td>\n",
              "      <td>404711411</td>\n",
              "      <td>nan</td>\n",
              "      <td>587102333</td>\n",
              "      <td>NFLX</td>\n",
              "      <td>(541) 754-1111</td>\n",
              "      <td>nan</td>\n",
              "      <td>nan</td>\n",
              "    </tr>\n",
              "    <tr>\n",
              "      <th>12</th>\n",
              "      <td>Kristen W Hamilton_.pdf</td>\n",
              "      <td>D Ameritrade Institutional Reset Form ACCOUNT ...</td>\n",
              "      <td>Kristen W Hamilton_</td>\n",
              "      <td>37</td>\n",
              "      <td>Ameritrade Institutional</td>\n",
              "      <td>142 KB</td>\n",
              "      <td>ACCOUNT TRANSFER FORM</td>\n",
              "      <td>A. Transfer from an ACAT eligible Brokerage Fi...</td>\n",
              "      <td>Kristen W Hamilton</td>\n",
              "      <td>1717 Arch St</td>\n",
              "      <td>139394339</td>\n",
              "      <td>nan</td>\n",
              "      <td>875032106</td>\n",
              "      <td>GOOG</td>\n",
              "      <td>(541) 754-3015</td>\n",
              "      <td>nan</td>\n",
              "      <td>nan</td>\n",
              "    </tr>\n",
              "    <tr>\n",
              "      <th>13</th>\n",
              "      <td>Joseph T Green_.pdf</td>\n",
              "      <td>D Ameritrade Institutional Reset Form ACCOUNT ...</td>\n",
              "      <td>Joseph T Green_</td>\n",
              "      <td>35</td>\n",
              "      <td>Ameritrade Institutional</td>\n",
              "      <td>142 KB</td>\n",
              "      <td>ACCOUNT TRANSFER FORM</td>\n",
              "      <td>A. Transfer from an ACAT eligible Brokerage Fi...</td>\n",
              "      <td>Joseph T Green</td>\n",
              "      <td>130 Palmer Road</td>\n",
              "      <td>404711495</td>\n",
              "      <td>nan</td>\n",
              "      <td>870214590</td>\n",
              "      <td>JNJ</td>\n",
              "      <td>(541) 754-3010</td>\n",
              "      <td>nan</td>\n",
              "      <td>nan</td>\n",
              "    </tr>\n",
              "    <tr>\n",
              "      <th>14</th>\n",
              "      <td>Joseph T Green_.pdf</td>\n",
              "      <td>D Ameritrade Institutional Reset Form ACCOUNT ...</td>\n",
              "      <td>Joseph T Green_</td>\n",
              "      <td>54</td>\n",
              "      <td>Ameritrade Institutional</td>\n",
              "      <td>142 KB</td>\n",
              "      <td>ACCOUNT TRANSFER FORM</td>\n",
              "      <td>A. Transfer from an ACAT eligible Brokerage Fi...</td>\n",
              "      <td>Joseph T Green</td>\n",
              "      <td>4481 Freshour Circle</td>\n",
              "      <td>517144644</td>\n",
              "      <td>nan</td>\n",
              "      <td>856901244</td>\n",
              "      <td>MSFT</td>\n",
              "      <td>(541) 754-3941</td>\n",
              "      <td>nan</td>\n",
              "      <td>nan</td>\n",
              "    </tr>\n",
              "    <tr>\n",
              "      <th>15</th>\n",
              "      <td>Joshua T Truitt_.pdf</td>\n",
              "      <td>D Ameritrade Institutional Reset Form ACCOUNT ...</td>\n",
              "      <td>Joshua T Truitt_</td>\n",
              "      <td>36</td>\n",
              "      <td>Ameritrade Institutional</td>\n",
              "      <td>142 KB</td>\n",
              "      <td>ACCOUNT TRANSFER FORM</td>\n",
              "      <td>A. Transfer from an ACAT eligible Brokerage Fi...</td>\n",
              "      <td>Joshua T Truitt</td>\n",
              "      <td>288 Park Ave 12th Floor</td>\n",
              "      <td>545401855</td>\n",
              "      <td>nan</td>\n",
              "      <td>987012355</td>\n",
              "      <td>NVDA</td>\n",
              "      <td>(541) 754-3055</td>\n",
              "      <td>nan</td>\n",
              "      <td>nan</td>\n",
              "    </tr>\n",
              "    <tr>\n",
              "      <th>16</th>\n",
              "      <td>Joseph N Weed_.pdf</td>\n",
              "      <td>D Ameritrade Institutional Reset Form ACCOUNT ...</td>\n",
              "      <td>Joseph N Weed_</td>\n",
              "      <td>23</td>\n",
              "      <td>Ameritrade Institutional</td>\n",
              "      <td>142 KB</td>\n",
              "      <td>ACCOUNT TRANSFER FORM</td>\n",
              "      <td>A. Transfer from an ACAT eligible Brokerage Fi...</td>\n",
              "      <td>Joseph N Weed</td>\n",
              "      <td>3242 Mahlon Street</td>\n",
              "      <td>404711455</td>\n",
              "      <td>nan</td>\n",
              "      <td>587102355</td>\n",
              "      <td>LMT</td>\n",
              "      <td>(541) 754-3055</td>\n",
              "      <td>nan</td>\n",
              "      <td>nan</td>\n",
              "    </tr>\n",
              "    <tr>\n",
              "      <th>17</th>\n",
              "      <td>James P Osborne.pdf</td>\n",
              "      <td>D Ameritrade Institutional Reset Form ACCOUNT ...</td>\n",
              "      <td>James P Osborne</td>\n",
              "      <td>45</td>\n",
              "      <td>Ameritrade Institutional</td>\n",
              "      <td>142 KB</td>\n",
              "      <td>ACCOUNT TRANSFER FORM</td>\n",
              "      <td>A. Transfer from an ACAT eligible Brokerage Fi...</td>\n",
              "      <td>James P Osborne</td>\n",
              "      <td>222 Berkeley St #15</td>\n",
              "      <td>5171454577</td>\n",
              "      <td>nan</td>\n",
              "      <td>856901203</td>\n",
              "      <td>AMZM</td>\n",
              "      <td>(541) 754-3012</td>\n",
              "      <td>nan</td>\n",
              "      <td>nan</td>\n",
              "    </tr>\n",
              "    <tr>\n",
              "      <th>18</th>\n",
              "      <td>Horace H Carpenter_.pdf</td>\n",
              "      <td>D Ameritrade Institutional Reset Form ACCOUNT ...</td>\n",
              "      <td>Horace H Carpenter_</td>\n",
              "      <td>53</td>\n",
              "      <td>Ameritrade Institutional</td>\n",
              "      <td>142 KB</td>\n",
              "      <td>ACCOUNT TRANSFER FORM</td>\n",
              "      <td>A. Transfer from an ACAT eligible Brokerage Fi...</td>\n",
              "      <td>Horace H Carpenter</td>\n",
              "      <td>646 Hershell Hollow Road</td>\n",
              "      <td>517144699</td>\n",
              "      <td>nan</td>\n",
              "      <td>856901211</td>\n",
              "      <td>TGT</td>\n",
              "      <td>(541) 754-3013</td>\n",
              "      <td>nan</td>\n",
              "      <td>nan</td>\n",
              "    </tr>\n",
              "    <tr>\n",
              "      <th>19</th>\n",
              "      <td>Harold N Samaniego_.pdf</td>\n",
              "      <td>D Ameritrade Institutional Reset Form ACCOUNT ...</td>\n",
              "      <td>Harold N Samaniego_</td>\n",
              "      <td>52</td>\n",
              "      <td>Ameritrade Institutional</td>\n",
              "      <td>142 KB</td>\n",
              "      <td>ACCOUNT TRANSFER FORM</td>\n",
              "      <td>A. Transfer from an ACAT eligible Brokerage Fi...</td>\n",
              "      <td>Harold N Samaniego</td>\n",
              "      <td>943 Roosevelt Wilson Lane</td>\n",
              "      <td>404711495</td>\n",
              "      <td>nan</td>\n",
              "      <td>870214544</td>\n",
              "      <td>JNJ</td>\n",
              "      <td>(541) 754-3111</td>\n",
              "      <td>nan</td>\n",
              "      <td>nan</td>\n",
              "    </tr>\n",
              "    <tr>\n",
              "      <th>20</th>\n",
              "      <td>Floyd K Brown_.pdf</td>\n",
              "      <td>D Ameritrade Institutional Reset Form ACCOUNT ...</td>\n",
              "      <td>Floyd K Brown_</td>\n",
              "      <td>34</td>\n",
              "      <td>Ameritrade Institutional</td>\n",
              "      <td>142 KB</td>\n",
              "      <td>ACCOUNT TRANSFER FORM</td>\n",
              "      <td>A. Transfer from an ACAT eligible Brokerage Fi...</td>\n",
              "      <td>Floyd K Brown</td>\n",
              "      <td>4989 Brighton Circle Road</td>\n",
              "      <td>404711495</td>\n",
              "      <td>nan</td>\n",
              "      <td>870214590</td>\n",
              "      <td>COST</td>\n",
              "      <td>(541) 754-3010</td>\n",
              "      <td>nan</td>\n",
              "      <td>nan</td>\n",
              "    </tr>\n",
              "    <tr>\n",
              "      <th>21</th>\n",
              "      <td>Damian C Russell.pdf</td>\n",
              "      <td>D Ameritrade Institutional Reset Form ACCOUNT ...</td>\n",
              "      <td>Damian C Russell</td>\n",
              "      <td>44</td>\n",
              "      <td>Ameritrade Institutional</td>\n",
              "      <td>142 KB</td>\n",
              "      <td>ACCOUNT TRANSFER FORM</td>\n",
              "      <td>A. Transfer from an ACAT eligible Brokerage Fi...</td>\n",
              "      <td>Damian C Russell</td>\n",
              "      <td>446 Leverton Cove Road</td>\n",
              "      <td>139394339</td>\n",
              "      <td>nan</td>\n",
              "      <td>875032122</td>\n",
              "      <td>BBY</td>\n",
              "      <td>(541) 754-2222</td>\n",
              "      <td>nan</td>\n",
              "      <td>nan</td>\n",
              "    </tr>\n",
              "    <tr>\n",
              "      <th>22</th>\n",
              "      <td>Christopher V Herring_.pdf</td>\n",
              "      <td>D Ameritrade Institutional Reset Form ACCOUNT ...</td>\n",
              "      <td>Christopher V Herring_</td>\n",
              "      <td>21</td>\n",
              "      <td>Ameritrade Institutional</td>\n",
              "      <td>142 KB</td>\n",
              "      <td>ACCOUNT TRANSFER FORM</td>\n",
              "      <td>A. Transfer from an ACAT eligible Brokerage Fi...</td>\n",
              "      <td>Christopher V Herring</td>\n",
              "      <td>4210 Hill Croft Farm Road</td>\n",
              "      <td>404711444</td>\n",
              "      <td>nan</td>\n",
              "      <td>870214588</td>\n",
              "      <td>COST</td>\n",
              "      <td>(541) 754-3033</td>\n",
              "      <td>nan</td>\n",
              "      <td>nan</td>\n",
              "    </tr>\n",
              "    <tr>\n",
              "      <th>23</th>\n",
              "      <td>Anne C Pugh_.pdf</td>\n",
              "      <td>D Ameritrade Institutional Reset Form ACCOUNT ...</td>\n",
              "      <td>Anne C Pugh_</td>\n",
              "      <td>50</td>\n",
              "      <td>Ameritrade Institutional</td>\n",
              "      <td>142 KB</td>\n",
              "      <td>ACCOUNT TRANSFER FORM</td>\n",
              "      <td>A. Transfer from an ACAT eligible Brokerage Fi...</td>\n",
              "      <td>Anne C Pugh</td>\n",
              "      <td>852 Beechwood Drive</td>\n",
              "      <td>404711444</td>\n",
              "      <td>nan</td>\n",
              "      <td>587102361</td>\n",
              "      <td>LMT</td>\n",
              "      <td>(541) 754-3033</td>\n",
              "      <td>nan</td>\n",
              "      <td>nan</td>\n",
              "    </tr>\n",
              "    <tr>\n",
              "      <th>24</th>\n",
              "      <td>Angelica E Senn_.pdf</td>\n",
              "      <td>D Ameritrade Institutional Reset Form ACCOUNT ...</td>\n",
              "      <td>Angelica E Senn_</td>\n",
              "      <td>33</td>\n",
              "      <td>Ameritrade Institutional</td>\n",
              "      <td>142 KB</td>\n",
              "      <td>ACCOUNT TRANSFER FORM</td>\n",
              "      <td>A. Transfer from an ACAT eligible Brokerage Fi...</td>\n",
              "      <td>Angelica E Senn</td>\n",
              "      <td>200 Crescent Ct#1200</td>\n",
              "      <td>404711495</td>\n",
              "      <td>nan</td>\n",
              "      <td>587102360</td>\n",
              "      <td>LMT</td>\n",
              "      <td>(541) 754-3012</td>\n",
              "      <td>nan</td>\n",
              "      <td>nan</td>\n",
              "    </tr>\n",
              "    <tr>\n",
              "      <th>25</th>\n",
              "      <td>Andrew_H_Jones_.pdf</td>\n",
              "      <td>D Ameritrade Institutional Reset Form ACCOUNT ...</td>\n",
              "      <td>Andrew_H_Jones_</td>\n",
              "      <td>32</td>\n",
              "      <td>Ameritrade Institutional</td>\n",
              "      <td>142 KB</td>\n",
              "      <td>ACCOUNT TRANSFER FORM</td>\n",
              "      <td>A. Transfer from an ACAT eligible Brokerage Fi...</td>\n",
              "      <td>Andrew H Jones</td>\n",
              "      <td>4660 Deans Lane</td>\n",
              "      <td>404711495</td>\n",
              "      <td>nan</td>\n",
              "      <td>587102355</td>\n",
              "      <td>NFLX</td>\n",
              "      <td>(541) 754-3033</td>\n",
              "      <td>nan</td>\n",
              "      <td>nan</td>\n",
              "    </tr>\n",
              "    <tr>\n",
              "      <th>26</th>\n",
              "      <td>Allan_A_Cook_.pdf</td>\n",
              "      <td>D Ameritrade Institutional Reset Form ACCOUNT ...</td>\n",
              "      <td>Allan_A_Cook_</td>\n",
              "      <td>42</td>\n",
              "      <td>Ameritrade Institutional</td>\n",
              "      <td>142 KB</td>\n",
              "      <td>ACCOUNT TRANSFER FORM</td>\n",
              "      <td>A. Transfer from an ACAT eligible Brokerage Fi...</td>\n",
              "      <td>Allan A Cook</td>\n",
              "      <td>200 Crescent Ct#1200</td>\n",
              "      <td>404711495</td>\n",
              "      <td>nan</td>\n",
              "      <td>587102360</td>\n",
              "      <td>NFLX</td>\n",
              "      <td>(541) 754-3012</td>\n",
              "      <td>nan</td>\n",
              "      <td>nan</td>\n",
              "    </tr>\n",
              "    <tr>\n",
              "      <th>27</th>\n",
              "      <td>Adrian_T_Clemens_.pdf</td>\n",
              "      <td>D Ameritrade Institutional Reset Form ACCOUNT ...</td>\n",
              "      <td>Adrian_T_Clemens_</td>\n",
              "      <td>31</td>\n",
              "      <td>Ameritrade Institutional</td>\n",
              "      <td>142 KB</td>\n",
              "      <td>ACCOUNT TRANSFER FORM</td>\n",
              "      <td>A. Transfer from an ACAT eligible Brokerage Fi...</td>\n",
              "      <td>Adrian T Clemens</td>\n",
              "      <td>280 Park Ave 12th Floor</td>\n",
              "      <td>545401875</td>\n",
              "      <td>nan</td>\n",
              "      <td>987012301</td>\n",
              "      <td>JNJ</td>\n",
              "      <td>(541) 754-3011</td>\n",
              "      <td>nan</td>\n",
              "      <td>nan</td>\n",
              "    </tr>\n",
              "    <tr>\n",
              "      <th>28</th>\n",
              "      <td>Adrian_T_Clemens_.pdf</td>\n",
              "      <td>D Ameritrade Institutional Reset Form ACCOUNT ...</td>\n",
              "      <td>Adrian_T_Clemens_</td>\n",
              "      <td>41</td>\n",
              "      <td>Ameritrade Institutional</td>\n",
              "      <td>142 KB</td>\n",
              "      <td>ACCOUNT TRANSFER FORM</td>\n",
              "      <td>A. Transfer from an ACAT eligible Brokerage Fi...</td>\n",
              "      <td>Adrian T Clemens</td>\n",
              "      <td>Search Results 280 Park Ave 12th Floor</td>\n",
              "      <td>545401875</td>\n",
              "      <td>nan</td>\n",
              "      <td>987012301</td>\n",
              "      <td>COST</td>\n",
              "      <td>(541) 754-3011</td>\n",
              "      <td>nan</td>\n",
              "      <td>nan</td>\n",
              "    </tr>\n",
              "    <tr>\n",
              "      <th>29</th>\n",
              "      <td>Addie N McClellan_.pdf</td>\n",
              "      <td>D Ameritrade Institutional Reset Form ACCOUNT ...</td>\n",
              "      <td>Addie N McClellan_</td>\n",
              "      <td>49</td>\n",
              "      <td>Ameritrade Institutional</td>\n",
              "      <td>142 KB</td>\n",
              "      <td>ACCOUNT TRANSFER FORM</td>\n",
              "      <td>A. Transfer from an ACAT eligible Brokerage Fi...</td>\n",
              "      <td>Addie N McClellan</td>\n",
              "      <td>3835 Marigold Lane</td>\n",
              "      <td>545401811</td>\n",
              "      <td>nan</td>\n",
              "      <td>987012322</td>\n",
              "      <td>NVDA</td>\n",
              "      <td>(541) 754-3022</td>\n",
              "      <td>nan</td>\n",
              "      <td>nan</td>\n",
              "    </tr>\n",
              "    <tr>\n",
              "      <th>30</th>\n",
              "      <td>Ada J Bardsley_.pdf</td>\n",
              "      <td>D Ameritrade Institutional Reset Form ACCOUNT ...</td>\n",
              "      <td>Ada J Bardsley_</td>\n",
              "      <td>30</td>\n",
              "      <td>Ameritrade Institutional</td>\n",
              "      <td>142 KB</td>\n",
              "      <td>ACCOUNT TRANSFER FORM</td>\n",
              "      <td>A. Transfer from an ACAT eligible Brokerage Fi...</td>\n",
              "      <td>Ada J Bardsley</td>\n",
              "      <td>222 Berkeley St</td>\n",
              "      <td>517144661</td>\n",
              "      <td>nan</td>\n",
              "      <td>856901255</td>\n",
              "      <td>MSFT</td>\n",
              "      <td>(541) 754-3999</td>\n",
              "      <td>nan</td>\n",
              "      <td>nan</td>\n",
              "    </tr>\n",
              "    <tr>\n",
              "      <th>31</th>\n",
              "      <td>Rose R Webb.png</td>\n",
              "      <td>DTC8862\\nACAT0671\\nA BANK OF AMERICA COMPANY\\n...</td>\n",
              "      <td>Rose R Webb</td>\n",
              "      <td>4</td>\n",
              "      <td>Merrilllynch_CRA</td>\n",
              "      <td>298 KB</td>\n",
              "      <td>Client Account Transfer Form</td>\n",
              "      <td>Use this form to transfer all or a portion of ...</td>\n",
              "      <td>Donald S Cordova</td>\n",
              "      <td>11150CA-2 #200</td>\n",
              "      <td>539236318</td>\n",
              "      <td>335-4587</td>\n",
              "      <td>22560564</td>\n",
              "      <td>IRA</td>\n",
              "      <td>(541) 754-5879</td>\n",
              "      <td>Los Angeles, CA,90025</td>\n",
              "      <td>Rose@gmail.com</td>\n",
              "    </tr>\n",
              "    <tr>\n",
              "      <th>32</th>\n",
              "      <td>Robert N Sanford.png</td>\n",
              "      <td>DTC8862\\nACAT0671\\nA BANK OF AMERICA COMPANY\\n...</td>\n",
              "      <td>Robert N Sanford</td>\n",
              "      <td>7</td>\n",
              "      <td>Merrilllynch_CRA</td>\n",
              "      <td>299 KB</td>\n",
              "      <td>Client Account Transfer Form</td>\n",
              "      <td>Use this form to transfer all or a portion of ...</td>\n",
              "      <td>Lynne M Palmer</td>\n",
              "      <td>1345 6th Ave</td>\n",
              "      <td>402115260</td>\n",
              "      <td>335-5545</td>\n",
              "      <td>66654445</td>\n",
              "      <td>IRA</td>\n",
              "      <td>(541) 754-3010</td>\n",
              "      <td>New York, NY,10105</td>\n",
              "      <td>Robert@gmail.com</td>\n",
              "    </tr>\n",
              "    <tr>\n",
              "      <th>33</th>\n",
              "      <td>Robert E Regan.png</td>\n",
              "      <td>DTC8862\\nACAT0671\\nA BANK OF AMERICA COMPANY\\n...</td>\n",
              "      <td>Robert E Regan</td>\n",
              "      <td>3</td>\n",
              "      <td>Merrilllynch_CRA</td>\n",
              "      <td>298 KB</td>\n",
              "      <td>Client Account Transfer Form</td>\n",
              "      <td>Use this form to transfer all or a portion of ...</td>\n",
              "      <td>Grace M Gracia</td>\n",
              "      <td>Search Results 11988 El Camino Real #600</td>\n",
              "      <td>417414892</td>\n",
              "      <td>335-0021</td>\n",
              "      <td>nan</td>\n",
              "      <td>IRA</td>\n",
              "      <td>(541) 754-3010</td>\n",
              "      <td>San Diego, CA,92130</td>\n",
              "      <td>Robert@gmail.com</td>\n",
              "    </tr>\n",
              "    <tr>\n",
              "      <th>34</th>\n",
              "      <td>Richard K Kral.png</td>\n",
              "      <td>DTC8862\\nACAT0671\\nA BANK OF AMERICA COMPANY\\n...</td>\n",
              "      <td>Richard K Kral</td>\n",
              "      <td>2</td>\n",
              "      <td>Merrilllynch_CRA</td>\n",
              "      <td>298 KB</td>\n",
              "      <td>Client Account Transfer Form</td>\n",
              "      <td>Use this form to transfer all or a portion of ...</td>\n",
              "      <td>Jeanette B Hughes</td>\n",
              "      <td>340 Madison Ave</td>\n",
              "      <td>344466775</td>\n",
              "      <td>335-2125</td>\n",
              "      <td>79703212</td>\n",
              "      <td>IRA</td>\n",
              "      <td>(541) 754-3888</td>\n",
              "      <td>New York, NY,10173</td>\n",
              "      <td>Richard@gmail.com</td>\n",
              "    </tr>\n",
              "    <tr>\n",
              "      <th>35</th>\n",
              "      <td>Peter E Trosper.png</td>\n",
              "      <td>DTC8862\\nACAT0671\\nA BANK OF AMERICA COMPANY\\n...</td>\n",
              "      <td>Peter E Trosper</td>\n",
              "      <td>1</td>\n",
              "      <td>Merrilllynch_CRA</td>\n",
              "      <td>295 KB</td>\n",
              "      <td>Client Account Transfer Form</td>\n",
              "      <td>Use this form to transfer all or a portion of ...</td>\n",
              "      <td>Grace P Lane</td>\n",
              "      <td>450 Park Ave #18</td>\n",
              "      <td>593746465</td>\n",
              "      <td>335-8978</td>\n",
              "      <td>66667894</td>\n",
              "      <td>IRA</td>\n",
              "      <td>(541) 754-3022</td>\n",
              "      <td>New York, NY,10022</td>\n",
              "      <td>pater@gmail.com</td>\n",
              "    </tr>\n",
              "    <tr>\n",
              "      <th>36</th>\n",
              "      <td>Harold L Brooks.pdf</td>\n",
              "      <td>DTC8862 ACAT0671 Client Account Transfer Form ...</td>\n",
              "      <td>Harold L Brooks</td>\n",
              "      <td>18</td>\n",
              "      <td>Merrilllynch_CRA</td>\n",
              "      <td>124 KB</td>\n",
              "      <td>Client Account Transfer Form</td>\n",
              "      <td>Use this form to transfer all or a portion of ...</td>\n",
              "      <td>Juanita S Salinas</td>\n",
              "      <td>Seagram Building 375 Park Ave 24th Floor</td>\n",
              "      <td>617141155</td>\n",
              "      <td>335-2546</td>\n",
              "      <td>4972333</td>\n",
              "      <td>IRA</td>\n",
              "      <td>(541) 754-2589</td>\n",
              "      <td>New York, NY,10152</td>\n",
              "      <td>harold@gmail.com</td>\n",
              "    </tr>\n",
              "    <tr>\n",
              "      <th>37</th>\n",
              "      <td>Hae F Taylor.pdf</td>\n",
              "      <td>DTC8862 ACAT0671 Client Account Transfer Form ...</td>\n",
              "      <td>Hae F Taylor</td>\n",
              "      <td>17</td>\n",
              "      <td>Merrilllynch_CRA</td>\n",
              "      <td>124 KB</td>\n",
              "      <td>Client Account Transfer Form</td>\n",
              "      <td>Use this form to transfer all or a portion of ...</td>\n",
              "      <td>Erik S Terry</td>\n",
              "      <td>745 5th Ave #2300</td>\n",
              "      <td>473834282</td>\n",
              "      <td>335-2135</td>\n",
              "      <td>55121225</td>\n",
              "      <td>IRA</td>\n",
              "      <td>(541) 754-2424</td>\n",
              "      <td>New York, NY,10151</td>\n",
              "      <td>taylor@gmail.com</td>\n",
              "    </tr>\n",
              "    <tr>\n",
              "      <th>38</th>\n",
              "      <td>Gina F Johnson.pdf</td>\n",
              "      <td>DTC8862 ACAT0671 Client Account Transfer Form ...</td>\n",
              "      <td>Gina F Johnson</td>\n",
              "      <td>16</td>\n",
              "      <td>Merrilllynch_CRA</td>\n",
              "      <td>124 KB</td>\n",
              "      <td>Client Account Transfer Form</td>\n",
              "      <td>Use this form to transfer all or a portion of ...</td>\n",
              "      <td>Phyllis E Maxwell</td>\n",
              "      <td>6300 Bridge Point Pkwy #1-500</td>\n",
              "      <td>574434684</td>\n",
              "      <td>335-2654</td>\n",
              "      <td>9965454</td>\n",
              "      <td>IRA</td>\n",
              "      <td>(541) 754-4741</td>\n",
              "      <td>Austin, TX,78730</td>\n",
              "      <td>Johnson@gmail.com</td>\n",
              "    </tr>\n",
              "    <tr>\n",
              "      <th>39</th>\n",
              "      <td>Eula R Tucker.pdf</td>\n",
              "      <td>DTC8862 ACAT0671 Client Account Transfer Form ...</td>\n",
              "      <td>Eula R Tucker</td>\n",
              "      <td>15</td>\n",
              "      <td>Merrilllynch_CRA</td>\n",
              "      <td>124 KB</td>\n",
              "      <td>Client Account Transfer Form</td>\n",
              "      <td>Use this form to transfer all or a portion of ...</td>\n",
              "      <td>Tommy F Juhl</td>\n",
              "      <td>Search Results One Letterman Dr</td>\n",
              "      <td>431169141</td>\n",
              "      <td>335-2541</td>\n",
              "      <td>67401231</td>\n",
              "      <td>IRA</td>\n",
              "      <td>(541) 754-3014</td>\n",
              "      <td>San Francisco, CA,94133</td>\n",
              "      <td>eula@gmail.com</td>\n",
              "    </tr>\n",
              "    <tr>\n",
              "      <th>40</th>\n",
              "      <td>Edna T Peres.pdf</td>\n",
              "      <td>DTC8862 ACAT0671 Client Account Transfer Form ...</td>\n",
              "      <td>Edna T Peres</td>\n",
              "      <td>14</td>\n",
              "      <td>Merrilllynch_CRA</td>\n",
              "      <td>124 KB</td>\n",
              "      <td>Client Account Transfer Form</td>\n",
              "      <td>Use this form to transfer all or a portion of ...</td>\n",
              "      <td>Jose S Hogan</td>\n",
              "      <td>2020 Calamos Ct</td>\n",
              "      <td>213205275</td>\n",
              "      <td>335-4547</td>\n",
              "      <td>77032789</td>\n",
              "      <td>IRA</td>\n",
              "      <td>(541) 754-3010</td>\n",
              "      <td>Naperville, IL, 60563</td>\n",
              "      <td>peres@gmail.com</td>\n",
              "    </tr>\n",
              "    <tr>\n",
              "      <th>41</th>\n",
              "      <td>Edith D Alexander.pdf</td>\n",
              "      <td>DTC8862 ACAT0671 Client Account Transfer Form ...</td>\n",
              "      <td>Edith D Alexander</td>\n",
              "      <td>13</td>\n",
              "      <td>Merrilllynch_CRA</td>\n",
              "      <td>123 KB</td>\n",
              "      <td>Client Account Transfer Form</td>\n",
              "      <td>Use this form to transfer all or a portion of ...</td>\n",
              "      <td>Nettie W Wright</td>\n",
              "      <td>200 Crescent Court Suite 1200</td>\n",
              "      <td>495138318</td>\n",
              "      <td>335-4547</td>\n",
              "      <td>2887454</td>\n",
              "      <td>IRA</td>\n",
              "      <td>(541) 754-3010</td>\n",
              "      <td>Dallas, TX, 75201</td>\n",
              "      <td>alexander@gmail.com</td>\n",
              "    </tr>\n",
              "    <tr>\n",
              "      <th>42</th>\n",
              "      <td>Diana J Alarcon.pdf</td>\n",
              "      <td>DTC8862 ACAT0671 Client Account Transfer Form ...</td>\n",
              "      <td>Diana J Alarcon</td>\n",
              "      <td>12</td>\n",
              "      <td>Merrilllynch_CRA</td>\n",
              "      <td>124 KB</td>\n",
              "      <td>Client Account Transfer Form</td>\n",
              "      <td>Use this form to transfer all or a portion of ...</td>\n",
              "      <td>Sue J Avila</td>\n",
              "      <td>280 Park Ave 12th Floor</td>\n",
              "      <td>383418383</td>\n",
              "      <td>335-4412</td>\n",
              "      <td>25265454</td>\n",
              "      <td>IRA</td>\n",
              "      <td>(541) 754-4547</td>\n",
              "      <td>New York, NY,10017</td>\n",
              "      <td>alarcon@gmail.com</td>\n",
              "    </tr>\n",
              "    <tr>\n",
              "      <th>43</th>\n",
              "      <td>Connie J Llanos.pdf</td>\n",
              "      <td>DTC8862 ACAT0671 Client Account Transfer Form ...</td>\n",
              "      <td>Connie J Llanos</td>\n",
              "      <td>11</td>\n",
              "      <td>Merrilllynch_CRA</td>\n",
              "      <td>124 KB</td>\n",
              "      <td>Client Account Transfer Form</td>\n",
              "      <td>Use this form to transfer all or a portion of ...</td>\n",
              "      <td>Joshua A Jimenez</td>\n",
              "      <td>2 Seaport Ln</td>\n",
              "      <td>640518538</td>\n",
              "      <td>335-0001</td>\n",
              "      <td>63701789</td>\n",
              "      <td>IRA</td>\n",
              "      <td>(541) 754-2121</td>\n",
              "      <td>Boston, MA,02210</td>\n",
              "      <td>connie@gmail.com</td>\n",
              "    </tr>\n",
              "    <tr>\n",
              "      <th>44</th>\n",
              "      <td>Cletus S Russo.pdf</td>\n",
              "      <td>DTC8862 ACAT0671 Client Account Transfer Form ...</td>\n",
              "      <td>Cletus S Russo</td>\n",
              "      <td>10</td>\n",
              "      <td>Merrilllynch_CRA</td>\n",
              "      <td>124 KB</td>\n",
              "      <td>Client Account Transfer Form</td>\n",
              "      <td>Use this form to transfer all or a portion of ...</td>\n",
              "      <td>Barbara D Cooley</td>\n",
              "      <td>1 Maynard Dr #3200</td>\n",
              "      <td>533618482</td>\n",
              "      <td>335-4454</td>\n",
              "      <td>56498273</td>\n",
              "      <td>IRA</td>\n",
              "      <td>(541) 754-4757</td>\n",
              "      <td>Park Ridge, NJ,07656</td>\n",
              "      <td>cletus@gmail.com</td>\n",
              "    </tr>\n",
              "    <tr>\n",
              "      <th>45</th>\n",
              "      <td>Cheryl J Taylor.pdf</td>\n",
              "      <td>DTC8862 ACAT0671 Client Account Transfer Form ...</td>\n",
              "      <td>Cheryl J Taylor</td>\n",
              "      <td>9</td>\n",
              "      <td>Merrilllynch_CRA</td>\n",
              "      <td>123 KB</td>\n",
              "      <td>Client Account Transfer Form</td>\n",
              "      <td>Use this form to transfer all or a portion of ...</td>\n",
              "      <td>Ruben F Bennett</td>\n",
              "      <td>6641 W Broad St #600</td>\n",
              "      <td>674410542</td>\n",
              "      <td>335-4241</td>\n",
              "      <td>28690444</td>\n",
              "      <td>IRA</td>\n",
              "      <td>(541) 754-5472</td>\n",
              "      <td>Richmond, VA 23230</td>\n",
              "      <td>taylor@gmail.com</td>\n",
              "    </tr>\n",
              "    <tr>\n",
              "      <th>46</th>\n",
              "      <td>Candy T Lee.pdf</td>\n",
              "      <td>DTC8862 ACAT0671 Client Account Transfer Form ...</td>\n",
              "      <td>Candy T Lee</td>\n",
              "      <td>8</td>\n",
              "      <td>Merrilllynch_CRA</td>\n",
              "      <td>124 KB</td>\n",
              "      <td>Client Account Transfer Form</td>\n",
              "      <td>Use this form to transfer all or a portion of ...</td>\n",
              "      <td>Pamela B Boyd</td>\n",
              "      <td>800 E Colorado Blvd # 900</td>\n",
              "      <td>204842467</td>\n",
              "      <td>335-4444</td>\n",
              "      <td>18944787</td>\n",
              "      <td>IRA</td>\n",
              "      <td>(541) 754-3021</td>\n",
              "      <td>Pasadena, CA,91101</td>\n",
              "      <td>Candy@gmail.com</td>\n",
              "    </tr>\n",
              "    <tr>\n",
              "      <th>47</th>\n",
              "      <td>Allan A Cook.png</td>\n",
              "      <td>DTC8862\\nACAT0671\\nA BANK OF AMERICA COMPANY\\n...</td>\n",
              "      <td>Allan A Cook</td>\n",
              "      <td>6</td>\n",
              "      <td>Merrilllynch_CRA</td>\n",
              "      <td>300 KB</td>\n",
              "      <td>Client Account Transfer Form</td>\n",
              "      <td>Use this form to transfer all or a portion of ...</td>\n",
              "      <td>Sabrina J McKenzie</td>\n",
              "      <td>Search Results 280 Park Ave 12th Floor</td>\n",
              "      <td>353752495</td>\n",
              "      <td>335-0212</td>\n",
              "      <td>60610454</td>\n",
              "      <td>IRA</td>\n",
              "      <td>(541) 754-1111</td>\n",
              "      <td>New York, NY,10017</td>\n",
              "      <td>Allan@gmail.com</td>\n",
              "    </tr>\n",
              "    <tr>\n",
              "      <th>48</th>\n",
              "      <td>Adrian Clemens.png</td>\n",
              "      <td>DTC8862\\nACAT0671\\nA BANK OF AMERICA COMPANY\\n...</td>\n",
              "      <td>Adrian Clemens</td>\n",
              "      <td>0</td>\n",
              "      <td>Merrilllynch_CRA</td>\n",
              "      <td>298 KB</td>\n",
              "      <td>Client Account Transfer Form</td>\n",
              "      <td>Use this form to transfer all or a portion of ...</td>\n",
              "      <td>Daniel C Paul</td>\n",
              "      <td>2 Seaport Ln</td>\n",
              "      <td>545401875</td>\n",
              "      <td>335-0012</td>\n",
              "      <td>89101454</td>\n",
              "      <td>IRA</td>\n",
              "      <td>(541) 754-2545</td>\n",
              "      <td>Boston, MA,02210</td>\n",
              "      <td>Adrian@gmail.com</td>\n",
              "    </tr>\n",
              "    <tr>\n",
              "      <th>49</th>\n",
              "      <td>Bobby_J_Cole_.pdf</td>\n",
              "      <td>CLEAR PRINT IRA Account Application charles SC...</td>\n",
              "      <td>Bobby_J_Cole_</td>\n",
              "      <td>60</td>\n",
              "      <td>Schwab_IRA</td>\n",
              "      <td>667 KB</td>\n",
              "      <td>Account Application</td>\n",
              "      <td>A Schwab Qualified Plan is a Schwab Profit Sha...</td>\n",
              "      <td>Thomas L Dodds</td>\n",
              "      <td>3977 Hillview Drive</td>\n",
              "      <td>360-80-6429</td>\n",
              "      <td>nan</td>\n",
              "      <td>7896-5893</td>\n",
              "      <td>IRA</td>\n",
              "      <td>(541) 754-2211</td>\n",
              "      <td>Appling, Georgia</td>\n",
              "      <td>Bobby@gmail.com</td>\n",
              "    </tr>\n",
              "    <tr>\n",
              "      <th>50</th>\n",
              "      <td>Thomas_L_Dodds_.pdf</td>\n",
              "      <td>CLEAR PRINT IRA Account Application charles SC...</td>\n",
              "      <td>Thomas_L_Dodds_</td>\n",
              "      <td>70</td>\n",
              "      <td>Schwab_IRA</td>\n",
              "      <td>667 KB</td>\n",
              "      <td>Account Application</td>\n",
              "      <td>A Schwab Qualified Plan is a Schwab Profit Sha...</td>\n",
              "      <td>James B Adams</td>\n",
              "      <td>3977 Hillview Drive</td>\n",
              "      <td>561-81-7321</td>\n",
              "      <td>nan</td>\n",
              "      <td>8954-7892</td>\n",
              "      <td>IRA</td>\n",
              "      <td>(707) 491-6854</td>\n",
              "      <td>Appling, Georgia</td>\n",
              "      <td>Thomas@gmail.com</td>\n",
              "    </tr>\n",
              "    <tr>\n",
              "      <th>51</th>\n",
              "      <td>Tammy_M_Pereira_.pdf</td>\n",
              "      <td>CLEAR PRINT IRA Account Application charles SC...</td>\n",
              "      <td>Tammy_M_Pereira_</td>\n",
              "      <td>69</td>\n",
              "      <td>Schwab_IRA</td>\n",
              "      <td>667 KB</td>\n",
              "      <td>Account Application</td>\n",
              "      <td>A Schwab Qualified Plan is a Schwab Profit Sha...</td>\n",
              "      <td>Allyson J Soto</td>\n",
              "      <td>3386 Hill Haven Drive</td>\n",
              "      <td>360-80-6429</td>\n",
              "      <td>nan</td>\n",
              "      <td>7457-2854</td>\n",
              "      <td>IRA</td>\n",
              "      <td>(541) 754-3000</td>\n",
              "      <td>Seattle, Washington</td>\n",
              "      <td>Tammy@gmail.com</td>\n",
              "    </tr>\n",
              "    <tr>\n",
              "      <th>52</th>\n",
              "      <td>Richard_K_Forester_.pdf</td>\n",
              "      <td>CLEAR PRINT IRA Account Application charles SC...</td>\n",
              "      <td>Richard_K_Forester_</td>\n",
              "      <td>68</td>\n",
              "      <td>Schwab_IRA</td>\n",
              "      <td>667 KB</td>\n",
              "      <td>Account Application</td>\n",
              "      <td>A Schwab Qualified Plan is a Schwab Profit Sha...</td>\n",
              "      <td>Jammy D Brown</td>\n",
              "      <td>2072 James Street</td>\n",
              "      <td>337-50-9888</td>\n",
              "      <td>nan</td>\n",
              "      <td>7457-7795</td>\n",
              "      <td>IRA</td>\n",
              "      <td>(541) 754-3555</td>\n",
              "      <td>Westfield, Wisconsin</td>\n",
              "      <td>Richard@gmail.com</td>\n",
              "    </tr>\n",
              "    <tr>\n",
              "      <th>53</th>\n",
              "      <td>James_B_Adams_.pdf</td>\n",
              "      <td>CLEAR PRINT IRA Account Application charles SC...</td>\n",
              "      <td>James_B_Adams_</td>\n",
              "      <td>64</td>\n",
              "      <td>Schwab_IRA</td>\n",
              "      <td>667 KB</td>\n",
              "      <td>Account Application</td>\n",
              "      <td>A Schwab Qualified Plan is a Schwab Profit Sha...</td>\n",
              "      <td>Joseph V Montgomery</td>\n",
              "      <td>2072 James Street</td>\n",
              "      <td>337-50-9882</td>\n",
              "      <td>nan</td>\n",
              "      <td>7457-7791</td>\n",
              "      <td>IRA</td>\n",
              "      <td>(541) 754-3551</td>\n",
              "      <td>Washington, Virginia</td>\n",
              "      <td>James@gmail.com</td>\n",
              "    </tr>\n",
              "    <tr>\n",
              "      <th>54</th>\n",
              "      <td>Edmund_L_Kroeger_.pdf</td>\n",
              "      <td>CLEAR PRINT IRA Account Application charles SC...</td>\n",
              "      <td>Edmund_L_Kroeger_</td>\n",
              "      <td>63</td>\n",
              "      <td>Schwab_IRA</td>\n",
              "      <td>667 KB</td>\n",
              "      <td>Account Application</td>\n",
              "      <td>A Schwab Qualified Plan is a Schwab Profit Sha...</td>\n",
              "      <td>Ruby B Nicholson</td>\n",
              "      <td>1288 Randall Drive</td>\n",
              "      <td>402-33-4959</td>\n",
              "      <td>nan</td>\n",
              "      <td>7457-2895</td>\n",
              "      <td>IRA</td>\n",
              "      <td>(541) 754-3055</td>\n",
              "      <td>Kula, Hawaii</td>\n",
              "      <td>Edmund@gmail.com</td>\n",
              "    </tr>\n",
              "    <tr>\n",
              "      <th>55</th>\n",
              "      <td>Donna_E_Warren_.pdf</td>\n",
              "      <td>CLEAR PRINT IRA Account Application charles SC...</td>\n",
              "      <td>Donna_E_Warren_</td>\n",
              "      <td>62</td>\n",
              "      <td>Schwab_IRA</td>\n",
              "      <td>667 KB</td>\n",
              "      <td>Account Application</td>\n",
              "      <td>A Schwab Qualified Plan is a Schwab Profit Sha...</td>\n",
              "      <td>Janie H Pagan</td>\n",
              "      <td>3845 Roguski Road</td>\n",
              "      <td>680-12-0201</td>\n",
              "      <td>nan</td>\n",
              "      <td>8896-5495</td>\n",
              "      <td>IRA</td>\n",
              "      <td>(541) 754-3001</td>\n",
              "      <td>Alexandria, Louisiana</td>\n",
              "      <td>Donna@gmail.com</td>\n",
              "    </tr>\n",
              "    <tr>\n",
              "      <th>56</th>\n",
              "      <td>Daniel_P_Woods_.pdf</td>\n",
              "      <td>CLEAR PRINT IRA Account Application charles SC...</td>\n",
              "      <td>Daniel_P_Woods_</td>\n",
              "      <td>61</td>\n",
              "      <td>Schwab_IRA</td>\n",
              "      <td>667 KB</td>\n",
              "      <td>Account Application</td>\n",
              "      <td>A Schwab Qualified Plan is a Schwab Profit Sha...</td>\n",
              "      <td>John T Craig</td>\n",
              "      <td>744 Issacs Creek Road</td>\n",
              "      <td>561-81-7321</td>\n",
              "      <td>nan</td>\n",
              "      <td>8954-7888</td>\n",
              "      <td>IRA</td>\n",
              "      <td>(707) 491-6854</td>\n",
              "      <td>Champaign, Illinois</td>\n",
              "      <td>Daniel@gmail.com</td>\n",
              "    </tr>\n",
              "    <tr>\n",
              "      <th>57</th>\n",
              "      <td>Jonathan_K_Sanchez_.pdf</td>\n",
              "      <td>CLEAR PRINT IRA Account Application charles SC...</td>\n",
              "      <td>Jonathan_K_Sanchez_</td>\n",
              "      <td>65</td>\n",
              "      <td>Schwab_IRA</td>\n",
              "      <td>668 KB</td>\n",
              "      <td>Account Application</td>\n",
              "      <td>A Schwab Qualified Plan is a Schwab Profit Sha...</td>\n",
              "      <td>Walter O Cruz</td>\n",
              "      <td>4929 B Street</td>\n",
              "      <td>680-12-0244</td>\n",
              "      <td>nan</td>\n",
              "      <td>8896-5498</td>\n",
              "      <td>IRA</td>\n",
              "      <td>(541) 754-3022</td>\n",
              "      <td>Austin, Kentucky</td>\n",
              "      <td>Jonathan@gmail.com</td>\n",
              "    </tr>\n",
              "    <tr>\n",
              "      <th>58</th>\n",
              "      <td>Karen_A_Sliva_.pdf</td>\n",
              "      <td>CLEAR PRINT IRA Account Application charles SC...</td>\n",
              "      <td>Karen_A_Sliva_</td>\n",
              "      <td>66</td>\n",
              "      <td>Schwab_IRA</td>\n",
              "      <td>667 KB</td>\n",
              "      <td>Account Application</td>\n",
              "      <td>A Schwab Qualified Plan is a Schwab Profit Sha...</td>\n",
              "      <td>Edward V Davis</td>\n",
              "      <td>213 Payne Street</td>\n",
              "      <td>337-01-4322</td>\n",
              "      <td>nan</td>\n",
              "      <td>7457-2893</td>\n",
              "      <td>IRA</td>\n",
              "      <td>(541) 754-3056</td>\n",
              "      <td>Clinchport, Virginia</td>\n",
              "      <td>Karen@gmail.com</td>\n",
              "    </tr>\n",
              "    <tr>\n",
              "      <th>59</th>\n",
              "      <td>Patricia_J_Kim_.pdf</td>\n",
              "      <td>CLEAR PRINT IRA Account Application charles SC...</td>\n",
              "      <td>Patricia_J_Kim_</td>\n",
              "      <td>67</td>\n",
              "      <td>Schwab_IRA</td>\n",
              "      <td>667 KB</td>\n",
              "      <td>Account Application</td>\n",
              "      <td>A Schwab Qualified Plan is a Schwab Profit Sha...</td>\n",
              "      <td>Taylor M Sanchez</td>\n",
              "      <td>2465 Richison Drive</td>\n",
              "      <td>360-80-6429</td>\n",
              "      <td>nan</td>\n",
              "      <td>7457-2899</td>\n",
              "      <td>IRA</td>\n",
              "      <td>(541) 754-3000</td>\n",
              "      <td>Rudyard, Montana</td>\n",
              "      <td>Patricia@gmail.com</td>\n",
              "    </tr>\n",
              "  </tbody>\n",
              "</table>\n",
              "</div>"
            ],
            "text/plain": [
              "                     file_name  ...                EMAIL\n",
              "0          Zita J Rottman_.pdf  ...                  nan\n",
              "1          Teresa R Woods_.pdf  ...                  nan\n",
              "2           Susan T Green_.pdf  ...                  nan\n",
              "3       Robert R Sheppard_.pdf  ...                  nan\n",
              "4           Robert J Barr_.pdf  ...                  nan\n",
              "5           Pamela E Byrd_.pdf  ...                  nan\n",
              "6            Nora R Mills_.pdf  ...                  nan\n",
              "7       Michael_C_Preston_.pdf  ...                  nan\n",
              "8           Mary H Craven_.pdf  ...                  nan\n",
              "9         Marie P Watkins_.pdf  ...                  nan\n",
              "10           Linda M Rice_.pdf  ...                  nan\n",
              "11          Lili J Thomas_.pdf  ...                  nan\n",
              "12     Kristen W Hamilton_.pdf  ...                  nan\n",
              "13         Joseph T Green_.pdf  ...                  nan\n",
              "14         Joseph T Green_.pdf  ...                  nan\n",
              "15        Joshua T Truitt_.pdf  ...                  nan\n",
              "16          Joseph N Weed_.pdf  ...                  nan\n",
              "17         James P Osborne.pdf  ...                  nan\n",
              "18     Horace H Carpenter_.pdf  ...                  nan\n",
              "19     Harold N Samaniego_.pdf  ...                  nan\n",
              "20          Floyd K Brown_.pdf  ...                  nan\n",
              "21        Damian C Russell.pdf  ...                  nan\n",
              "22  Christopher V Herring_.pdf  ...                  nan\n",
              "23            Anne C Pugh_.pdf  ...                  nan\n",
              "24        Angelica E Senn_.pdf  ...                  nan\n",
              "25         Andrew_H_Jones_.pdf  ...                  nan\n",
              "26           Allan_A_Cook_.pdf  ...                  nan\n",
              "27       Adrian_T_Clemens_.pdf  ...                  nan\n",
              "28       Adrian_T_Clemens_.pdf  ...                  nan\n",
              "29      Addie N McClellan_.pdf  ...                  nan\n",
              "30         Ada J Bardsley_.pdf  ...                  nan\n",
              "31             Rose R Webb.png  ...       Rose@gmail.com\n",
              "32        Robert N Sanford.png  ...     Robert@gmail.com\n",
              "33          Robert E Regan.png  ...     Robert@gmail.com\n",
              "34          Richard K Kral.png  ...    Richard@gmail.com\n",
              "35         Peter E Trosper.png  ...      pater@gmail.com\n",
              "36         Harold L Brooks.pdf  ...     harold@gmail.com\n",
              "37            Hae F Taylor.pdf  ...     taylor@gmail.com\n",
              "38          Gina F Johnson.pdf  ...    Johnson@gmail.com\n",
              "39           Eula R Tucker.pdf  ...       eula@gmail.com\n",
              "40            Edna T Peres.pdf  ...      peres@gmail.com\n",
              "41       Edith D Alexander.pdf  ...  alexander@gmail.com\n",
              "42         Diana J Alarcon.pdf  ...    alarcon@gmail.com\n",
              "43         Connie J Llanos.pdf  ...     connie@gmail.com\n",
              "44          Cletus S Russo.pdf  ...     cletus@gmail.com\n",
              "45         Cheryl J Taylor.pdf  ...     taylor@gmail.com\n",
              "46             Candy T Lee.pdf  ...      Candy@gmail.com\n",
              "47            Allan A Cook.png  ...      Allan@gmail.com\n",
              "48          Adrian Clemens.png  ...     Adrian@gmail.com\n",
              "49           Bobby_J_Cole_.pdf  ...      Bobby@gmail.com\n",
              "50         Thomas_L_Dodds_.pdf  ...     Thomas@gmail.com\n",
              "51        Tammy_M_Pereira_.pdf  ...      Tammy@gmail.com\n",
              "52     Richard_K_Forester_.pdf  ...    Richard@gmail.com\n",
              "53          James_B_Adams_.pdf  ...      James@gmail.com\n",
              "54       Edmund_L_Kroeger_.pdf  ...     Edmund@gmail.com\n",
              "55         Donna_E_Warren_.pdf  ...      Donna@gmail.com\n",
              "56         Daniel_P_Woods_.pdf  ...     Daniel@gmail.com\n",
              "57     Jonathan_K_Sanchez_.pdf  ...   Jonathan@gmail.com\n",
              "58          Karen_A_Sliva_.pdf  ...      Karen@gmail.com\n",
              "59         Patricia_J_Kim_.pdf  ...   Patricia@gmail.com\n",
              "\n",
              "[60 rows x 17 columns]"
            ]
          },
          "metadata": {
            "tags": []
          },
          "execution_count": 33
        }
      ]
    },
    {
      "cell_type": "code",
      "metadata": {
        "id": "XyF9J1Qyh-j3",
        "colab_type": "code",
        "colab": {}
      },
      "source": [
        "from sklearn.utils import shuffle"
      ],
      "execution_count": 0,
      "outputs": []
    },
    {
      "cell_type": "code",
      "metadata": {
        "id": "Vl8X8GdaiDOD",
        "colab_type": "code",
        "colab": {}
      },
      "source": [
        "from sklearn.model_selection import train_test_split\n",
        "import spacy\n",
        "from spacy.util import decaying\n",
        "from spacy.matcher import PhraseMatcher\n",
        "from spacy.lang.en import English\n",
        "from spacy.util import minibatch, compounding\n",
        "from spacy.gold import GoldParse \n",
        "from spacy.scorer import Scorer\n",
        "import random"
      ],
      "execution_count": 0,
      "outputs": []
    },
    {
      "cell_type": "code",
      "metadata": {
        "id": "4YtRR_NgiFRm",
        "colab_type": "code",
        "colab": {}
      },
      "source": [
        "final_df = final_df.sample(frac=1)\n",
        "final_df.reset_index(drop = True, inplace = True)\n",
        "\n",
        "train, test = train_test_split(final_df, test_size=0.1)"
      ],
      "execution_count": 0,
      "outputs": []
    },
    {
      "cell_type": "code",
      "metadata": {
        "id": "2TyOqbBdiHmh",
        "colab_type": "code",
        "outputId": "8de37e21-b21c-4250-a428-7f8c1a9fb5fb",
        "colab": {
          "base_uri": "https://localhost:8080/",
          "height": 34
        }
      },
      "source": [
        "train.shape, test.shape"
      ],
      "execution_count": 0,
      "outputs": [
        {
          "output_type": "execute_result",
          "data": {
            "text/plain": [
              "((54, 17), (6, 17))"
            ]
          },
          "metadata": {
            "tags": []
          },
          "execution_count": 37
        }
      ]
    },
    {
      "cell_type": "code",
      "metadata": {
        "id": "lUVYZA2ziJl1",
        "colab_type": "code",
        "outputId": "e1f7a315-e7cb-42c9-d7f9-606378fe1ec2",
        "colab": {
          "base_uri": "https://localhost:8080/",
          "height": 202
        }
      },
      "source": [
        "['TITLE', 'DESCRIPTION', 'CLIENT', 'ADDRESS',\n",
        "       'SOCIAL_SECURITY_NO', 'RELATIONSHIP_NO', 'ACC_NO', 'ACC_TYPE', 'PHONE',\n",
        "       'CITY', 'EMAIL']"
      ],
      "execution_count": 0,
      "outputs": [
        {
          "output_type": "execute_result",
          "data": {
            "text/plain": [
              "['TITLE',\n",
              " 'DESCRIPTION',\n",
              " 'CLIENT',\n",
              " 'ADDRESS',\n",
              " 'SOCIAL_SECURITY_NO',\n",
              " 'RELATIONSHIP_NO',\n",
              " 'ACC_NO',\n",
              " 'ACC_TYPE',\n",
              " 'PHONE',\n",
              " 'CITY',\n",
              " 'EMAIL']"
            ]
          },
          "metadata": {
            "tags": []
          },
          "execution_count": 38
        }
      ]
    },
    {
      "cell_type": "code",
      "metadata": {
        "id": "-YIHdbS2iL7n",
        "colab_type": "code",
        "colab": {}
      },
      "source": [
        "nlp = English()\n",
        "#nlp = spacy.load(\"en_trf_bertbaseuncased_lg\")\n",
        "#nlp.vocab, attr='lemma', validate=True"
      ],
      "execution_count": 0,
      "outputs": []
    },
    {
      "cell_type": "code",
      "metadata": {
        "id": "jXHOSZPtiOgk",
        "colab_type": "code",
        "colab": {}
      },
      "source": [
        "#TITLE_matcher = PhraseMatcher(nlp.vocab, attr='LOWER')\n",
        "TITLE_matcher = PhraseMatcher(nlp.vocab, attr='LOWER')\n",
        "TITLE_patterns = [nlp(i) for i in final_df['TITLE'].to_list()]\n",
        "TITLE_matcher.add(\"TITLE\", None,*TITLE_patterns)"
      ],
      "execution_count": 0,
      "outputs": []
    },
    {
      "cell_type": "code",
      "metadata": {
        "id": "VlIBT_8diQcF",
        "colab_type": "code",
        "colab": {}
      },
      "source": [
        "DESCRIPTION_matcher = PhraseMatcher(nlp.vocab, attr='LOWER')\n",
        "DESCRIPTION_patterns = [nlp(i) for i in final_df['DESCRIPTION'].to_list()]\n",
        "DESCRIPTION_matcher.add(\"DESCRIPTION\", None,*DESCRIPTION_patterns)"
      ],
      "execution_count": 0,
      "outputs": []
    },
    {
      "cell_type": "code",
      "metadata": {
        "id": "iREHaxgLiSy3",
        "colab_type": "code",
        "colab": {}
      },
      "source": [
        "CLIENT_matcher = PhraseMatcher(nlp.vocab, attr='LOWER')\n",
        "CLIENT_patterns = [nlp(i) for i in final_df['CLIENT'].to_list()]\n",
        "CLIENT_matcher.add(\"CLIENT\", None,*CLIENT_patterns)"
      ],
      "execution_count": 0,
      "outputs": []
    },
    {
      "cell_type": "code",
      "metadata": {
        "id": "7AcovoQKiVHn",
        "colab_type": "code",
        "colab": {}
      },
      "source": [
        "\n",
        "ADDRESS_matcher = PhraseMatcher(nlp.vocab, attr='LOWER')\n",
        "ADDRESS_patterns = [nlp(i) for i in final_df['ADDRESS'].to_list()]\n",
        "ADDRESS_matcher.add(\"ADDRESS\", None,*ADDRESS_patterns)"
      ],
      "execution_count": 0,
      "outputs": []
    },
    {
      "cell_type": "code",
      "metadata": {
        "id": "Yv_-YNCjiXoZ",
        "colab_type": "code",
        "colab": {}
      },
      "source": [
        "SOCIAL_SECURITY_NO_matcher = PhraseMatcher(nlp.vocab, attr='LOWER')\n",
        "SOCIAL_SECURITY_NO_patterns = [nlp(i) for i in final_df['SOCIAL_SECURITY_NO'].to_list()]\n",
        "SOCIAL_SECURITY_NO_matcher.add(\"SOCIAL_SECURITY_NO\", None,*SOCIAL_SECURITY_NO_patterns)"
      ],
      "execution_count": 0,
      "outputs": []
    },
    {
      "cell_type": "code",
      "metadata": {
        "id": "pAx4CaRjiZtn",
        "colab_type": "code",
        "colab": {}
      },
      "source": [
        "RELATIONSHIP_NO_matcher = PhraseMatcher(nlp.vocab, attr='LOWER')\n",
        "RELATIONSHIP_NO_patterns = [nlp(i) for i in final_df['RELATIONSHIP_NO'].to_list()]\n",
        "RELATIONSHIP_NO_matcher.add(\"RELATIONSHIP_NO\", None,*RELATIONSHIP_NO_patterns)"
      ],
      "execution_count": 0,
      "outputs": []
    },
    {
      "cell_type": "code",
      "metadata": {
        "id": "TcIUIjNGib28",
        "colab_type": "code",
        "colab": {}
      },
      "source": [
        "ACC_NO_matcher = PhraseMatcher(nlp.vocab, attr='LOWER')\n",
        "ACC_NO_patterns = [nlp(i) for i in final_df['ACC_NO'].to_list()]\n",
        "ACC_NO_matcher.add(\"ACC_NO\", None,*ACC_NO_patterns)"
      ],
      "execution_count": 0,
      "outputs": []
    },
    {
      "cell_type": "code",
      "metadata": {
        "id": "Z-oa11BZieLK",
        "colab_type": "code",
        "colab": {}
      },
      "source": [
        "ACC_TYPE_matcher = PhraseMatcher(nlp.vocab, attr='LOWER')\n",
        "ACC_TYPE_patterns = [nlp(i) for i in final_df['ACC_TYPE'].to_list()]\n",
        "ACC_TYPE_matcher.add(\"ACC_TYPE\", None,*ACC_TYPE_patterns)"
      ],
      "execution_count": 0,
      "outputs": []
    },
    {
      "cell_type": "code",
      "metadata": {
        "id": "hjpnDnZOigk8",
        "colab_type": "code",
        "colab": {}
      },
      "source": [
        "PHONE_matcher = PhraseMatcher(nlp.vocab, attr='LOWER')\n",
        "PHONE_patterns = [nlp(i) for i in final_df['PHONE'].to_list()]\n",
        "PHONE_matcher.add(\"PHONE\", None,*PHONE_patterns)"
      ],
      "execution_count": 0,
      "outputs": []
    },
    {
      "cell_type": "code",
      "metadata": {
        "id": "VSLHB40sii04",
        "colab_type": "code",
        "colab": {}
      },
      "source": [
        "CITY_matcher = PhraseMatcher(nlp.vocab, attr='LOWER')\n",
        "CITY_patterns = [nlp(i) for i in final_df['CITY'].to_list()]\n",
        "CITY_matcher.add(\"CITY\", None,*CITY_patterns)"
      ],
      "execution_count": 0,
      "outputs": []
    },
    {
      "cell_type": "code",
      "metadata": {
        "id": "1xBUkE5KikxW",
        "colab_type": "code",
        "colab": {}
      },
      "source": [
        "EMAIL_matcher = PhraseMatcher(nlp.vocab, attr='LOWER')\n",
        "EMAIL_patterns = [nlp(i) for i in final_df['EMAIL'].to_list()]\n",
        "EMAIL_matcher.add(\"EMAIL\", None,*EMAIL_patterns)"
      ],
      "execution_count": 0,
      "outputs": []
    },
    {
      "cell_type": "code",
      "metadata": {
        "id": "TVGX2429imsA",
        "colab_type": "code",
        "colab": {}
      },
      "source": [
        "TRAIN_TEXTS = train['extracted_text'].tolist()\n",
        "TEST_TEXTS = test['extracted_text'].tolist()"
      ],
      "execution_count": 0,
      "outputs": []
    },
    {
      "cell_type": "code",
      "metadata": {
        "id": "5WgKPJyfipom",
        "colab_type": "code",
        "outputId": "7b182d84-83ac-443a-e16a-84b2c68fac9a",
        "colab": {
          "base_uri": "https://localhost:8080/",
          "height": 34
        }
      },
      "source": [
        "TRAINING_DATA = []\n",
        "\n",
        "# Create a Doc object for each text in TEXTS\n",
        "for doc in tqdm(nlp.pipe(TRAIN_TEXTS)):\n",
        "    # Match on the doc and create a list of matched spans\n",
        "    TITLE_spans = [doc[start:end] for match_id, start, end in TITLE_matcher(doc)]\n",
        "    DESCRIPTION_spans = [doc[start:end] for match_id, start, end in DESCRIPTION_matcher(doc)]\n",
        "    CLIENT_spans = [doc[start:end] for match_id, start, end in CLIENT_matcher(doc)]\n",
        "    ADDRESS_spans = [doc[start:end] for match_id, start, end in ADDRESS_matcher(doc)]\n",
        "    SOCIAL_SECURITY_NO_spans = [doc[start:end] for match_id, start, end in SOCIAL_SECURITY_NO_matcher(doc)]\n",
        "    RELATIONSHIP_NO_spans = [doc[start:end] for match_id, start, end in RELATIONSHIP_NO_matcher(doc)]\n",
        "    ACC_NO_spans = [doc[start:end] for match_id, start, end in ACC_NO_matcher(doc)]\n",
        "    ACC_TYPE_spans = [doc[start:end] for match_id, start, end in ACC_TYPE_matcher(doc)]\n",
        "    PHONE_spans = [doc[start:end] for match_id, start, end in PHONE_matcher(doc)]\n",
        "    CITY_spans = [doc[start:end] for match_id, start, end in CITY_matcher(doc)]\n",
        "    EMAIL_spans = [doc[start:end] for match_id, start, end in EMAIL_matcher(doc)]\n",
        "    \n",
        "    # Get (start character, end character, label) tuples of matches\n",
        "    entities = [(span.start_char, span.end_char, \"TITLE\") for span in TITLE_spans]\n",
        "    entities.extend([(span.start_char, span.end_char, \"DESCRIPTION\") for span in DESCRIPTION_spans])\n",
        "    entities.extend([(span.start_char, span.end_char, \"CLIENT\") for span in CLIENT_spans])\n",
        "    entities.extend([(span.start_char, span.end_char, \"ADDRESS\") for span in ADDRESS_spans])\n",
        "    entities.extend([(span.start_char, span.end_char, \"SOCIAL_SECURITY_NO\") for span in SOCIAL_SECURITY_NO_spans])\n",
        "    entities.extend([(span.start_char, span.end_char, \"RELATIONSHIP_NO\") for span in RELATIONSHIP_NO_spans])\n",
        "    entities.extend([(span.start_char, span.end_char, \"ACC_NO\") for span in ACC_NO_spans])\n",
        "    entities.extend([(span.start_char, span.end_char, \"ACC_TYPE\") for span in ACC_TYPE_spans])\n",
        "    entities.extend([(span.start_char, span.end_char, \"PHONE\") for span in PHONE_spans])\n",
        "    entities.extend([(span.start_char, span.end_char, \"CITY\") for span in CITY_spans])\n",
        "    entities.extend([(span.start_char, span.end_char, \"EMAIL\") for span in EMAIL_spans])\n",
        "\n",
        "    # Format the matches as a (doc.text, entities) tuple\n",
        "    training_example = (doc.text, {\"entities\": entities})\n",
        "    # Append the example to the training data\n",
        "    TRAINING_DATA.append(training_example)"
      ],
      "execution_count": 0,
      "outputs": [
        {
          "output_type": "stream",
          "text": [
            "54it [00:00, 436.42it/s]\n"
          ],
          "name": "stderr"
        }
      ]
    },
    {
      "cell_type": "code",
      "metadata": {
        "id": "HUo1GnIrisup",
        "colab_type": "code",
        "colab": {}
      },
      "source": [
        "# Remove repetated of same type entity\n",
        "for i,_ in enumerate(TRAINING_DATA):\n",
        "    TRAINING_DATA[i][1]['entities'] = ([next(b) for a, b in itertools.groupby( \n",
        "                         TRAINING_DATA[i][1]['entities'], lambda y: y[2])]) "
      ],
      "execution_count": 0,
      "outputs": []
    },
    {
      "cell_type": "code",
      "metadata": {
        "id": "Ua_08nQ6ivfS",
        "colab_type": "code",
        "outputId": "95829e9b-77e6-417c-94e1-fe871717b29c",
        "colab": {
          "base_uri": "https://localhost:8080/",
          "height": 171
        }
      },
      "source": [
        "TRAINING_DATA[0]"
      ],
      "execution_count": 0,
      "outputs": [
        {
          "output_type": "execute_result",
          "data": {
            "text/plain": [
              "('CLEAR PRINT IRA Account Application charles SCHWAB Page 1 of 8 Investment Advisor (\"IA\") Information (This portion to be completed by IA.) IA Firm Name (Please print.): Tammy M Pereira IA Master Account Number: 7 4 5 7 -2 8 5 4 Service Team: IA Contact Information (if follow-up is required): Note: To transfer or distribute IRA assets to a beneficiary due to the death of the account holder, please use the inherited IRA Application. 1. Select IRA Type (Select only ONE type of account.) Traditional IRA. (Select only one.) Contributory IRA Rollover IRA Rollover from an employer retirement plan $ Name of Employer Sponsoring the Plan Approximate Total Value of Distribution Expected Distribution Date By signing this application, I elect that my IRA assets identified above be considered a rollover. This election is required required by the IRS to qualify my contribution as a rollover contribution. Roth IRA. (Select only one.) Roth Contributory Roth Conversion (from a Schwab Qualified Plan*) Current Schwab Qualified Plan to convert: Note: You are required to complete and attach the appropriate Schwab qualified plan distribution form. (Tax withholding information will be provided within the distribution form.) Roth Conversion (from a Schwab Traditional IRA). To process your Roth conversion, elect your tax withholding below. Current Schwab Traditional IRA to convert: Amount to convert to Roth IRA Full conversion (The entire balance of your IRA will be converted.) Partial conversion (Only a portion of your IRA will be converted.) Cash amount to be converted: $ Attach a separate list of securities to be converted. Important Tax Withholding Election Notice: Distributions from your IRA are generally subject to federal (and possibly state) income tax. Even if you elect in writing not to have federal and/or state income tax withheld, you are liable for payment of federal and state income taxes, if applicable, on the taxable portion of your distribution. You may also be subject to tax penalties under the estimated tax payment rules if your withholding and payment of estimated tax, if any, are not adequate. va Your tax withholding election will remain in effect on all distributions from your Traditional IRA until you change or revoke it. You may change or revoke your tax withholding election at any time by submitting your requests to Schwab. Withholding income taxes may subject you to IRS penalties if you are under age 594, because the amount withheld is considered a distribution. Schwab recommends that you contact your tax advisor regarding your tax withholding election. Federal Income Tax Withholding: Please select a withholding instruction for the taxable distribution that results from the conversion. If you do not make an election or have not previously made an election, Schwab is required to withhold 10% for payment of federal (and possibly state) income tax from your gross distribution. Do not withhold tax Withhold federal income tax: 10% 15% 20% Other % (Federal tax withholding must be a whole number and must be at least 10% and not more than 99% when combined with state income tax withholding. If you reside in AR, CA, DE, GA, IA, KS, MA, ME, NC, NE, OK, OR, or VT and federal income tax withholding is applied, Schwab will also apply state income tax withholding based upon your state\\'s minimum tax rate CHARLES SCHWAB USE ONLY: Account Number ESIG ©2019 Charles Schwab & Co., Inc. (\"Schwab\"). All rights reserved. Member SIPC. CC2416646 (0519-9GXP) APP10539-50 (05/19) * APP 10 5 3 9 - 50 0 1 * . Page 2 of 8 1. Select IRA Type (Continued) *A Schwab Qualified Plan is a Schwab Profit Sharing Qualified Retirement Plan or Keogh, a Schwab Individual 401(k), or a Schwab 403(b)(7) Account. State Income Tax Withholding: State tax withholding may be required from your distribution. In some cases, you may elect not to have withholding apply, or you may elect to increase the rate of withholding. In other cases, state tax withholding is not available. Refer to the State Income Tax Withholding Information sheet for specific information concerning your state\\'s withholding rates. While Schwab makes every effort to obtain information about state tax laws from sources believed to be reliable, Schwab cannot guarantee the accuracy or timeliness of state tax withholding information because state laws are subject to constant change and interpretation. We recommend that you contact your tax advisor regarding your tax withholding elections and to answer any questions that you may have regarding your state\\'s withholding laws. If you do not make an election, Schwab will apply withholding (if required) at the minimum rate based on your state of residency as determined by your legal address of record on your account. Do not withhold tax Withhold state income tax at the rate of: (specify %) (State tax withholding must be at least your state\\'s minimum tax rate, either a whole number [e.g., 15%] or a whole and fractional number to one decimal point (e.g., 15.5%), and not more than 99% when combined with federal income tax withholding.) If you move between states with differing income tax withholding laws, Schwab will apply state income tax withholding (if required) at the rate you have provided above or at the minimum rate based on the laws for your new state of residency, whichever is higher. SIMPLE IRA. Note: This form can only be used to add participants to an existing plan. SIMPLE IRA Name of Business Employer\\'s Group Plan Number Simplified Employee Pension IRA (SEP-IRA). (Select only one). Note: Application must include Adoption Agreement and Employer\\'s Agreement. SEP-IRA SARSEP-IRA Name of Business 2. Account Holder Information (Middle M (Last) Pereira Mother\\'s Maiden Name Name (First) Tammy Are you known by another name? Specify: Allyson J Soto Home/Legal Street Address No P.O.Boxes, please) 3386 Hill Haven Drive Beatrice T Miller City Seattle Zip Code 98109 Slate Washington State Arkansas Zip Code 72210 Cellular Telephone Number Mailing Address (If different from above; P.O. boxes may be used.) City 2460 Mulberry Avenue Little Rock Home Telephone Number Business Telephone Number (541) 754-3011 (541) 754-3000 Social Security/Tax ID Number Date of Birth (mm/dd/yyyy 360-80-6429 7/5/1999 Country(ies) of Citizenship (Must list ail: if not a U.S. citizen, please complete identification information below.) Email Address Tammy@gmail.com Country of Legal Residence USA Other. USA Other: Other: Country of Birth (Required for foreign citizens and/or foreign residents only. * By providing your email address, you consent to receiving email from Schwab. Information about opting out of certain email communications is provided at www.schwab.com/privacy. ESIG ©2019 Charles Schwab & Co., Inc. (\"Schwab\"). All rights reserved. Member SIPC. CC2416646 (0519-9GXP) APP10539-50 (05/19) * APP 10 5 3 9 - 5 OO 2 * ',\n",
              " {'entities': [(16, 35, 'TITLE'),\n",
              "   (5800, 5814, 'CLIENT'),\n",
              "   (5863, 5884, 'ADDRESS'),\n",
              "   (6243, 6254, 'SOCIAL_SECURITY_NO'),\n",
              "   (12, 15, 'ACC_TYPE'),\n",
              "   (6157, 6171, 'PHONE'),\n",
              "   (6396, 6411, 'EMAIL')]})"
            ]
          },
          "metadata": {
            "tags": []
          },
          "execution_count": 54
        }
      ]
    },
    {
      "cell_type": "code",
      "metadata": {
        "id": "hQgBb3KdixuB",
        "colab_type": "code",
        "outputId": "61bbb486-98c3-4262-85bc-873e300c1943",
        "colab": {
          "base_uri": "https://localhost:8080/",
          "height": 34
        }
      },
      "source": [
        "TESTING_DATA = []\n",
        "\n",
        "# Create a Doc object for each text in TEXTS\n",
        "for doc in tqdm(nlp.pipe(TEST_TEXTS)):\n",
        "    # Match on the doc and create a list of matched spans\n",
        "    TITLE_spans = [doc[start:end] for match_id, start, end in TITLE_matcher(doc)]\n",
        "    DESCRIPTION_spans = [doc[start:end] for match_id, start, end in DESCRIPTION_matcher(doc)]\n",
        "    CLIENT_spans = [doc[start:end] for match_id, start, end in CLIENT_matcher(doc)]\n",
        "    ADDRESS_spans = [doc[start:end] for match_id, start, end in ADDRESS_matcher(doc)]\n",
        "    SOCIAL_SECURITY_NO_spans = [doc[start:end] for match_id, start, end in SOCIAL_SECURITY_NO_matcher(doc)]\n",
        "    RELATIONSHIP_NO_spans = [doc[start:end] for match_id, start, end in RELATIONSHIP_NO_matcher(doc)]\n",
        "    ACC_NO_spans = [doc[start:end] for match_id, start, end in ACC_NO_matcher(doc)]\n",
        "    ACC_TYPE_spans = [doc[start:end] for match_id, start, end in ACC_TYPE_matcher(doc)]\n",
        "    PHONE_spans = [doc[start:end] for match_id, start, end in PHONE_matcher(doc)]\n",
        "    CITY_spans = [doc[start:end] for match_id, start, end in CITY_matcher(doc)]\n",
        "    EMAIL_spans = [doc[start:end] for match_id, start, end in EMAIL_matcher(doc)]\n",
        "    \n",
        "    # Get (start character, end character, label) tuples of matches\n",
        "    entities = [(span.start_char, span.end_char, \"TITLE\") for span in TITLE_spans]\n",
        "    entities.extend([(span.start_char, span.end_char, \"DESCRIPTION\") for span in DESCRIPTION_spans])\n",
        "    entities.extend([(span.start_char, span.end_char, \"CLIENT\") for span in CLIENT_spans])\n",
        "    entities.extend([(span.start_char, span.end_char, \"ADDRESS\") for span in ADDRESS_spans])\n",
        "    entities.extend([(span.start_char, span.end_char, \"SOCIAL_SECURITY_NO\") for span in SOCIAL_SECURITY_NO_spans])\n",
        "    entities.extend([(span.start_char, span.end_char, \"RELATIONSHIP_NO\") for span in RELATIONSHIP_NO_spans])\n",
        "    entities.extend([(span.start_char, span.end_char, \"ACC_NO\") for span in ACC_NO_spans])\n",
        "    entities.extend([(span.start_char, span.end_char, \"ACC_TYPE\") for span in ACC_TYPE_spans])\n",
        "    entities.extend([(span.start_char, span.end_char, \"PHONE\") for span in PHONE_spans])\n",
        "    entities.extend([(span.start_char, span.end_char, \"CITY\") for span in CITY_spans])\n",
        "    entities.extend([(span.start_char, span.end_char, \"EMAIL\") for span in EMAIL_spans])\n",
        "\n",
        "    # Format the matches as a (doc.text, entities) tuple\n",
        "    testing_example = (doc.text, {\"entities\": entities})\n",
        "    # Append the example to the testing data\n",
        "    TESTING_DATA.append(testing_example)"
      ],
      "execution_count": 0,
      "outputs": [
        {
          "output_type": "stream",
          "text": [
            "6it [00:00, 347.74it/s]\n"
          ],
          "name": "stderr"
        }
      ]
    },
    {
      "cell_type": "code",
      "metadata": {
        "id": "QUJYhr6bi0q5",
        "colab_type": "code",
        "colab": {}
      },
      "source": [
        "# Remove repetated of same type entity\n",
        "for i,_ in enumerate(TESTING_DATA):\n",
        "    TESTING_DATA[i][1]['entities'] = ([next(b) for a, b in itertools.groupby( \n",
        "                         TESTING_DATA[i][1]['entities'], lambda y: y[2])]) "
      ],
      "execution_count": 0,
      "outputs": []
    },
    {
      "cell_type": "code",
      "metadata": {
        "id": "epx7qIh3i3uT",
        "colab_type": "code",
        "colab": {}
      },
      "source": [
        "LABEL = ['TITLE',\n",
        " 'DESCRIPTION',\n",
        " 'CLIENT',\n",
        " 'ADDRESS',\n",
        " 'SOCIAL_SECURITY_NO',\n",
        " 'RELATIONSHIP_NO',\n",
        " 'ACC_NO',\n",
        " 'ACC_TYPE',\n",
        " 'PHONE',\n",
        " 'CITY',\n",
        " 'EMAIL']"
      ],
      "execution_count": 0,
      "outputs": []
    },
    {
      "cell_type": "code",
      "metadata": {
        "id": "BQlCS6F7i562",
        "colab_type": "code",
        "outputId": "f47c74c0-c6e7-4411-cb0d-78d6e8c376a8",
        "colab": {
          "base_uri": "https://localhost:8080/",
          "height": 34
        }
      },
      "source": [
        "os.getcwd()"
      ],
      "execution_count": 0,
      "outputs": [
        {
          "output_type": "execute_result",
          "data": {
            "text/plain": [
              "'/content'"
            ]
          },
          "metadata": {
            "tags": []
          },
          "execution_count": 58
        }
      ]
    },
    {
      "cell_type": "code",
      "metadata": {
        "id": "gnrqTF79i8M2",
        "colab_type": "code",
        "outputId": "79260f00-72a1-444d-bb5b-4f8c3a395a20",
        "colab": {
          "base_uri": "https://localhost:8080/",
          "height": 1000
        }
      },
      "source": [
        "# sets the model, output directory and training iterations \n",
        "model = None\n",
        "output_dir=os.getcwd()\n",
        "n_iter=100\n",
        "\n",
        "# Checks to see if there is a current model or no model. In this case I will be starting with a blank model \n",
        "\n",
        "if model is not None:\n",
        "    nlp1 = spacy.load(model)  # load existing spaCy model\n",
        "    print(\"Loaded model '%s'\" % model)\n",
        "else:\n",
        "    nlp1 = spacy.blank('en')  # create blank Language class\n",
        "    print(\"Created blank 'en' model\")\n",
        "\n",
        "\n",
        "\n",
        "# create the built-in pipeline components and add them to the pipeline\n",
        "    # nlp.create_pipe works for built-ins that are registered with spaCy\n",
        "if 'ner' not in nlp1.pipe_names:\n",
        "    ner = nlp1.create_pipe('ner')\n",
        "    nlp1.add_pipe(ner, last=True)\n",
        "# otherwise, get it so we can add labels\n",
        "else:\n",
        "    ner = nlp1.get_pipe('ner')\n",
        "\n",
        "# add labels\n",
        "for _, annotations in TRAINING_DATA:\n",
        "    for ent in annotations.get('entities'):\n",
        "        ner.add_label(ent[2])\n",
        "\n",
        "    # get names of other pipes to disable them during training\n",
        "other_pipes = [pipe for pipe in nlp1.pipe_names if pipe != 'ner']\n",
        "with nlp1.disable_pipes(*other_pipes):  # only train NER\n",
        "    optimizer = nlp1.begin_training()\n",
        "    for itn in range(n_iter):\n",
        "        random.shuffle(TRAINING_DATA)\n",
        "        losses = {}\n",
        "        for text, annotations in tqdm(TRAINING_DATA):\n",
        "            nlp1.update(\n",
        "                [text],  # batch of texts\n",
        "                [annotations],  # batch of annotations\n",
        "                drop=0.5,  # dropout - make it harder to memorise data\n",
        "                sgd=optimizer,  # callable to update weights\n",
        "                losses=losses)\n",
        "        print(losses)"
      ],
      "execution_count": 0,
      "outputs": [
        {
          "output_type": "stream",
          "text": [
            "\r  0%|          | 0/54 [00:00<?, ?it/s]"
          ],
          "name": "stderr"
        },
        {
          "output_type": "stream",
          "text": [
            "Created blank 'en' model\n"
          ],
          "name": "stdout"
        },
        {
          "output_type": "stream",
          "text": [
            "100%|██████████| 54/54 [00:09<00:00,  5.59it/s]\n",
            "  0%|          | 0/54 [00:00<?, ?it/s]"
          ],
          "name": "stderr"
        },
        {
          "output_type": "stream",
          "text": [
            "{'ner': 12399.498025984143}\n"
          ],
          "name": "stdout"
        },
        {
          "output_type": "stream",
          "text": [
            "100%|██████████| 54/54 [00:09<00:00,  5.58it/s]\n",
            "  2%|▏         | 1/54 [00:00<00:07,  6.78it/s]"
          ],
          "name": "stderr"
        },
        {
          "output_type": "stream",
          "text": [
            "{'ner': 1914.3968452965153}\n"
          ],
          "name": "stdout"
        },
        {
          "output_type": "stream",
          "text": [
            "100%|██████████| 54/54 [00:09<00:00,  5.49it/s]\n",
            "  2%|▏         | 1/54 [00:00<00:09,  5.82it/s]"
          ],
          "name": "stderr"
        },
        {
          "output_type": "stream",
          "text": [
            "{'ner': 3709.0092862255688}\n"
          ],
          "name": "stdout"
        },
        {
          "output_type": "stream",
          "text": [
            "100%|██████████| 54/54 [00:09<00:00,  5.47it/s]\n",
            "  0%|          | 0/54 [00:00<?, ?it/s]"
          ],
          "name": "stderr"
        },
        {
          "output_type": "stream",
          "text": [
            "{'ner': 3856.5517027550895}\n"
          ],
          "name": "stdout"
        },
        {
          "output_type": "stream",
          "text": [
            "100%|██████████| 54/54 [00:09<00:00,  5.50it/s]\n",
            "  0%|          | 0/54 [00:00<?, ?it/s]"
          ],
          "name": "stderr"
        },
        {
          "output_type": "stream",
          "text": [
            "{'ner': 4438.587450251244}\n"
          ],
          "name": "stdout"
        },
        {
          "output_type": "stream",
          "text": [
            "100%|██████████| 54/54 [00:09<00:00,  5.61it/s]\n",
            "  2%|▏         | 1/54 [00:00<00:09,  5.31it/s]"
          ],
          "name": "stderr"
        },
        {
          "output_type": "stream",
          "text": [
            "{'ner': 3494.394800307579}\n"
          ],
          "name": "stdout"
        },
        {
          "output_type": "stream",
          "text": [
            "100%|██████████| 54/54 [00:09<00:00,  5.71it/s]\n",
            "  2%|▏         | 1/54 [00:00<00:08,  6.07it/s]"
          ],
          "name": "stderr"
        },
        {
          "output_type": "stream",
          "text": [
            "{'ner': 3805.1404252694947}\n"
          ],
          "name": "stdout"
        },
        {
          "output_type": "stream",
          "text": [
            "100%|██████████| 54/54 [00:09<00:00,  5.61it/s]\n",
            "  0%|          | 0/54 [00:00<?, ?it/s]"
          ],
          "name": "stderr"
        },
        {
          "output_type": "stream",
          "text": [
            "{'ner': 2895.8153074464462}\n"
          ],
          "name": "stdout"
        },
        {
          "output_type": "stream",
          "text": [
            "100%|██████████| 54/54 [00:09<00:00,  5.50it/s]\n",
            "  2%|▏         | 1/54 [00:00<00:08,  6.00it/s]"
          ],
          "name": "stderr"
        },
        {
          "output_type": "stream",
          "text": [
            "{'ner': 2853.36023953538}\n"
          ],
          "name": "stdout"
        },
        {
          "output_type": "stream",
          "text": [
            "100%|██████████| 54/54 [00:09<00:00,  5.44it/s]\n",
            "  0%|          | 0/54 [00:00<?, ?it/s]"
          ],
          "name": "stderr"
        },
        {
          "output_type": "stream",
          "text": [
            "{'ner': 2415.055425095616}\n"
          ],
          "name": "stdout"
        },
        {
          "output_type": "stream",
          "text": [
            "100%|██████████| 54/54 [00:09<00:00,  5.59it/s]\n",
            "  2%|▏         | 1/54 [00:00<00:07,  7.30it/s]"
          ],
          "name": "stderr"
        },
        {
          "output_type": "stream",
          "text": [
            "{'ner': 2649.4540604102936}\n"
          ],
          "name": "stdout"
        },
        {
          "output_type": "stream",
          "text": [
            "100%|██████████| 54/54 [00:09<00:00,  5.69it/s]\n",
            "  0%|          | 0/54 [00:00<?, ?it/s]"
          ],
          "name": "stderr"
        },
        {
          "output_type": "stream",
          "text": [
            "{'ner': 2144.040572657061}\n"
          ],
          "name": "stdout"
        },
        {
          "output_type": "stream",
          "text": [
            "100%|██████████| 54/54 [00:09<00:00,  5.58it/s]\n",
            "  2%|▏         | 1/54 [00:00<00:10,  5.29it/s]"
          ],
          "name": "stderr"
        },
        {
          "output_type": "stream",
          "text": [
            "{'ner': 2164.769544337307}\n"
          ],
          "name": "stdout"
        },
        {
          "output_type": "stream",
          "text": [
            "100%|██████████| 54/54 [00:09<00:00,  5.49it/s]\n",
            "  2%|▏         | 1/54 [00:00<00:09,  5.87it/s]"
          ],
          "name": "stderr"
        },
        {
          "output_type": "stream",
          "text": [
            "{'ner': 2244.213019482929}\n"
          ],
          "name": "stdout"
        },
        {
          "output_type": "stream",
          "text": [
            "100%|██████████| 54/54 [00:09<00:00,  5.58it/s]\n",
            "  2%|▏         | 1/54 [00:00<00:07,  6.79it/s]"
          ],
          "name": "stderr"
        },
        {
          "output_type": "stream",
          "text": [
            "{'ner': 1667.6495443892693}\n"
          ],
          "name": "stdout"
        },
        {
          "output_type": "stream",
          "text": [
            "100%|██████████| 54/54 [00:09<00:00,  5.66it/s]\n",
            "  0%|          | 0/54 [00:00<?, ?it/s]"
          ],
          "name": "stderr"
        },
        {
          "output_type": "stream",
          "text": [
            "{'ner': 969.7028377280872}\n"
          ],
          "name": "stdout"
        },
        {
          "output_type": "stream",
          "text": [
            "100%|██████████| 54/54 [00:09<00:00,  5.53it/s]\n",
            "  0%|          | 0/54 [00:00<?, ?it/s]"
          ],
          "name": "stderr"
        },
        {
          "output_type": "stream",
          "text": [
            "{'ner': 939.7000723527799}\n"
          ],
          "name": "stdout"
        },
        {
          "output_type": "stream",
          "text": [
            "100%|██████████| 54/54 [00:10<00:00,  5.38it/s]\n",
            "  0%|          | 0/54 [00:00<?, ?it/s]"
          ],
          "name": "stderr"
        },
        {
          "output_type": "stream",
          "text": [
            "{'ner': 1051.6918974967728}\n"
          ],
          "name": "stdout"
        },
        {
          "output_type": "stream",
          "text": [
            "100%|██████████| 54/54 [00:09<00:00,  5.62it/s]\n",
            "  0%|          | 0/54 [00:00<?, ?it/s]"
          ],
          "name": "stderr"
        },
        {
          "output_type": "stream",
          "text": [
            "{'ner': 1067.8959732752942}\n"
          ],
          "name": "stdout"
        },
        {
          "output_type": "stream",
          "text": [
            "100%|██████████| 54/54 [00:09<00:00,  5.75it/s]\n",
            "  2%|▏         | 1/54 [00:00<00:09,  5.34it/s]"
          ],
          "name": "stderr"
        },
        {
          "output_type": "stream",
          "text": [
            "{'ner': 877.7334845209668}\n"
          ],
          "name": "stdout"
        },
        {
          "output_type": "stream",
          "text": [
            "100%|██████████| 54/54 [00:10<00:00,  5.37it/s]\n",
            "  0%|          | 0/54 [00:00<?, ?it/s]"
          ],
          "name": "stderr"
        },
        {
          "output_type": "stream",
          "text": [
            "{'ner': 729.2886161117992}\n"
          ],
          "name": "stdout"
        },
        {
          "output_type": "stream",
          "text": [
            "100%|██████████| 54/54 [00:09<00:00,  5.56it/s]\n",
            "  0%|          | 0/54 [00:00<?, ?it/s]"
          ],
          "name": "stderr"
        },
        {
          "output_type": "stream",
          "text": [
            "{'ner': 518.7824692043826}\n"
          ],
          "name": "stdout"
        },
        {
          "output_type": "stream",
          "text": [
            "100%|██████████| 54/54 [00:09<00:00,  5.54it/s]\n",
            "  0%|          | 0/54 [00:00<?, ?it/s]"
          ],
          "name": "stderr"
        },
        {
          "output_type": "stream",
          "text": [
            "{'ner': 613.6919257210033}\n"
          ],
          "name": "stdout"
        },
        {
          "output_type": "stream",
          "text": [
            "100%|██████████| 54/54 [00:09<00:00,  5.57it/s]\n",
            "  2%|▏         | 1/54 [00:00<00:09,  5.88it/s]"
          ],
          "name": "stderr"
        },
        {
          "output_type": "stream",
          "text": [
            "{'ner': 444.24332339474483}\n"
          ],
          "name": "stdout"
        },
        {
          "output_type": "stream",
          "text": [
            "100%|██████████| 54/54 [00:09<00:00,  5.68it/s]\n",
            "  2%|▏         | 1/54 [00:00<00:09,  5.80it/s]"
          ],
          "name": "stderr"
        },
        {
          "output_type": "stream",
          "text": [
            "{'ner': 653.4472360637428}\n"
          ],
          "name": "stdout"
        },
        {
          "output_type": "stream",
          "text": [
            "100%|██████████| 54/54 [00:09<00:00,  5.50it/s]\n",
            "  2%|▏         | 1/54 [00:00<00:09,  5.61it/s]"
          ],
          "name": "stderr"
        },
        {
          "output_type": "stream",
          "text": [
            "{'ner': 418.8110976543611}\n"
          ],
          "name": "stdout"
        },
        {
          "output_type": "stream",
          "text": [
            "100%|██████████| 54/54 [00:09<00:00,  5.74it/s]\n",
            "  2%|▏         | 1/54 [00:00<00:10,  5.08it/s]"
          ],
          "name": "stderr"
        },
        {
          "output_type": "stream",
          "text": [
            "{'ner': 464.68476299128776}\n"
          ],
          "name": "stdout"
        },
        {
          "output_type": "stream",
          "text": [
            "100%|██████████| 54/54 [00:09<00:00,  5.51it/s]\n",
            "  0%|          | 0/54 [00:00<?, ?it/s]"
          ],
          "name": "stderr"
        },
        {
          "output_type": "stream",
          "text": [
            "{'ner': 468.871462881315}\n"
          ],
          "name": "stdout"
        },
        {
          "output_type": "stream",
          "text": [
            "100%|██████████| 54/54 [00:09<00:00,  5.51it/s]\n",
            "  2%|▏         | 1/54 [00:00<00:08,  6.16it/s]"
          ],
          "name": "stderr"
        },
        {
          "output_type": "stream",
          "text": [
            "{'ner': 430.42100104206594}\n"
          ],
          "name": "stdout"
        },
        {
          "output_type": "stream",
          "text": [
            "100%|██████████| 54/54 [00:09<00:00,  5.56it/s]\n",
            "  2%|▏         | 1/54 [00:00<00:09,  5.76it/s]"
          ],
          "name": "stderr"
        },
        {
          "output_type": "stream",
          "text": [
            "{'ner': 424.6564881159022}\n"
          ],
          "name": "stdout"
        },
        {
          "output_type": "stream",
          "text": [
            "100%|██████████| 54/54 [00:09<00:00,  5.45it/s]\n",
            "  2%|▏         | 1/54 [00:00<00:09,  5.80it/s]"
          ],
          "name": "stderr"
        },
        {
          "output_type": "stream",
          "text": [
            "{'ner': 378.98985615470235}\n"
          ],
          "name": "stdout"
        },
        {
          "output_type": "stream",
          "text": [
            "100%|██████████| 54/54 [00:09<00:00,  5.55it/s]\n",
            "  2%|▏         | 1/54 [00:00<00:07,  7.12it/s]"
          ],
          "name": "stderr"
        },
        {
          "output_type": "stream",
          "text": [
            "{'ner': 398.06034207476}\n"
          ],
          "name": "stdout"
        },
        {
          "output_type": "stream",
          "text": [
            "100%|██████████| 54/54 [00:09<00:00,  5.51it/s]\n",
            "  2%|▏         | 1/54 [00:00<00:08,  6.04it/s]"
          ],
          "name": "stderr"
        },
        {
          "output_type": "stream",
          "text": [
            "{'ner': 357.22767880139634}\n"
          ],
          "name": "stdout"
        },
        {
          "output_type": "stream",
          "text": [
            "100%|██████████| 54/54 [00:09<00:00,  5.44it/s]\n",
            "  2%|▏         | 1/54 [00:00<00:08,  5.98it/s]"
          ],
          "name": "stderr"
        },
        {
          "output_type": "stream",
          "text": [
            "{'ner': 426.67772975625047}\n"
          ],
          "name": "stdout"
        },
        {
          "output_type": "stream",
          "text": [
            "100%|██████████| 54/54 [00:09<00:00,  5.48it/s]\n",
            "  2%|▏         | 1/54 [00:00<00:07,  6.94it/s]"
          ],
          "name": "stderr"
        },
        {
          "output_type": "stream",
          "text": [
            "{'ner': 268.403127017805}\n"
          ],
          "name": "stdout"
        },
        {
          "output_type": "stream",
          "text": [
            "100%|██████████| 54/54 [00:10<00:00,  5.36it/s]\n",
            "  2%|▏         | 1/54 [00:00<00:08,  6.62it/s]"
          ],
          "name": "stderr"
        },
        {
          "output_type": "stream",
          "text": [
            "{'ner': 277.99532842400623}\n"
          ],
          "name": "stdout"
        },
        {
          "output_type": "stream",
          "text": [
            "100%|██████████| 54/54 [00:09<00:00,  5.51it/s]\n",
            "  2%|▏         | 1/54 [00:00<00:10,  5.18it/s]"
          ],
          "name": "stderr"
        },
        {
          "output_type": "stream",
          "text": [
            "{'ner': 249.3465613893029}\n"
          ],
          "name": "stdout"
        },
        {
          "output_type": "stream",
          "text": [
            "100%|██████████| 54/54 [00:09<00:00,  5.41it/s]\n",
            "  2%|▏         | 1/54 [00:00<00:07,  7.08it/s]"
          ],
          "name": "stderr"
        },
        {
          "output_type": "stream",
          "text": [
            "{'ner': 294.9638769785241}\n"
          ],
          "name": "stdout"
        },
        {
          "output_type": "stream",
          "text": [
            "100%|██████████| 54/54 [00:09<00:00,  5.46it/s]\n",
            "  2%|▏         | 1/54 [00:00<00:07,  6.64it/s]"
          ],
          "name": "stderr"
        },
        {
          "output_type": "stream",
          "text": [
            "{'ner': 319.02146258300013}\n"
          ],
          "name": "stdout"
        },
        {
          "output_type": "stream",
          "text": [
            "100%|██████████| 54/54 [00:09<00:00,  5.57it/s]\n",
            "  2%|▏         | 1/54 [00:00<00:09,  5.76it/s]"
          ],
          "name": "stderr"
        },
        {
          "output_type": "stream",
          "text": [
            "{'ner': 315.07148647755963}\n"
          ],
          "name": "stdout"
        },
        {
          "output_type": "stream",
          "text": [
            "100%|██████████| 54/54 [00:09<00:00,  5.60it/s]\n",
            "  2%|▏         | 1/54 [00:00<00:09,  5.85it/s]"
          ],
          "name": "stderr"
        },
        {
          "output_type": "stream",
          "text": [
            "{'ner': 264.9020012274641}\n"
          ],
          "name": "stdout"
        },
        {
          "output_type": "stream",
          "text": [
            "100%|██████████| 54/54 [00:09<00:00,  5.55it/s]\n",
            "  2%|▏         | 1/54 [00:00<00:08,  6.49it/s]"
          ],
          "name": "stderr"
        },
        {
          "output_type": "stream",
          "text": [
            "{'ner': 232.97091385324507}\n"
          ],
          "name": "stdout"
        },
        {
          "output_type": "stream",
          "text": [
            "100%|██████████| 54/54 [00:09<00:00,  5.50it/s]\n",
            "  0%|          | 0/54 [00:00<?, ?it/s]"
          ],
          "name": "stderr"
        },
        {
          "output_type": "stream",
          "text": [
            "{'ner': 194.43723068423682}\n"
          ],
          "name": "stdout"
        },
        {
          "output_type": "stream",
          "text": [
            "100%|██████████| 54/54 [00:09<00:00,  5.55it/s]\n",
            "  0%|          | 0/54 [00:00<?, ?it/s]"
          ],
          "name": "stderr"
        },
        {
          "output_type": "stream",
          "text": [
            "{'ner': 296.29264677536236}\n"
          ],
          "name": "stdout"
        },
        {
          "output_type": "stream",
          "text": [
            "100%|██████████| 54/54 [00:09<00:00,  5.66it/s]\n",
            "  2%|▏         | 1/54 [00:00<00:08,  5.99it/s]"
          ],
          "name": "stderr"
        },
        {
          "output_type": "stream",
          "text": [
            "{'ner': 180.2640366149839}\n"
          ],
          "name": "stdout"
        },
        {
          "output_type": "stream",
          "text": [
            "100%|██████████| 54/54 [00:09<00:00,  5.58it/s]\n",
            "  2%|▏         | 1/54 [00:00<00:07,  6.96it/s]"
          ],
          "name": "stderr"
        },
        {
          "output_type": "stream",
          "text": [
            "{'ner': 215.69692092975404}\n"
          ],
          "name": "stdout"
        },
        {
          "output_type": "stream",
          "text": [
            "100%|██████████| 54/54 [00:09<00:00,  5.44it/s]\n",
            "  2%|▏         | 1/54 [00:00<00:09,  5.50it/s]"
          ],
          "name": "stderr"
        },
        {
          "output_type": "stream",
          "text": [
            "{'ner': 199.12299809729342}\n"
          ],
          "name": "stdout"
        },
        {
          "output_type": "stream",
          "text": [
            "100%|██████████| 54/54 [00:09<00:00,  5.54it/s]\n",
            "  2%|▏         | 1/54 [00:00<00:08,  6.41it/s]"
          ],
          "name": "stderr"
        },
        {
          "output_type": "stream",
          "text": [
            "{'ner': 158.62774719444644}\n"
          ],
          "name": "stdout"
        },
        {
          "output_type": "stream",
          "text": [
            "100%|██████████| 54/54 [00:09<00:00,  5.42it/s]\n",
            "  0%|          | 0/54 [00:00<?, ?it/s]"
          ],
          "name": "stderr"
        },
        {
          "output_type": "stream",
          "text": [
            "{'ner': 185.30987208519926}\n"
          ],
          "name": "stdout"
        },
        {
          "output_type": "stream",
          "text": [
            "100%|██████████| 54/54 [00:10<00:00,  5.36it/s]\n",
            "  2%|▏         | 1/54 [00:00<00:08,  6.16it/s]"
          ],
          "name": "stderr"
        },
        {
          "output_type": "stream",
          "text": [
            "{'ner': 180.54461009447107}\n"
          ],
          "name": "stdout"
        },
        {
          "output_type": "stream",
          "text": [
            "100%|██████████| 54/54 [00:10<00:00,  5.34it/s]\n",
            "  2%|▏         | 1/54 [00:00<00:10,  5.18it/s]"
          ],
          "name": "stderr"
        },
        {
          "output_type": "stream",
          "text": [
            "{'ner': 129.86632969154587}\n"
          ],
          "name": "stdout"
        },
        {
          "output_type": "stream",
          "text": [
            "100%|██████████| 54/54 [00:10<00:00,  5.24it/s]\n",
            "  0%|          | 0/54 [00:00<?, ?it/s]"
          ],
          "name": "stderr"
        },
        {
          "output_type": "stream",
          "text": [
            "{'ner': 204.72313295485975}\n"
          ],
          "name": "stdout"
        },
        {
          "output_type": "stream",
          "text": [
            "100%|██████████| 54/54 [00:10<00:00,  5.17it/s]\n",
            "  0%|          | 0/54 [00:00<?, ?it/s]"
          ],
          "name": "stderr"
        },
        {
          "output_type": "stream",
          "text": [
            "{'ner': 167.5995999698315}\n"
          ],
          "name": "stdout"
        },
        {
          "output_type": "stream",
          "text": [
            "100%|██████████| 54/54 [00:10<00:00,  5.21it/s]\n",
            "  0%|          | 0/54 [00:00<?, ?it/s]"
          ],
          "name": "stderr"
        },
        {
          "output_type": "stream",
          "text": [
            "{'ner': 105.11108621654584}\n"
          ],
          "name": "stdout"
        },
        {
          "output_type": "stream",
          "text": [
            "100%|██████████| 54/54 [00:10<00:00,  5.12it/s]\n",
            "  2%|▏         | 1/54 [00:00<00:09,  5.41it/s]"
          ],
          "name": "stderr"
        },
        {
          "output_type": "stream",
          "text": [
            "{'ner': 131.28188943033624}\n"
          ],
          "name": "stdout"
        },
        {
          "output_type": "stream",
          "text": [
            "100%|██████████| 54/54 [00:10<00:00,  5.17it/s]\n",
            "  2%|▏         | 1/54 [00:00<00:07,  6.71it/s]"
          ],
          "name": "stderr"
        },
        {
          "output_type": "stream",
          "text": [
            "{'ner': 190.3018258443609}\n"
          ],
          "name": "stdout"
        },
        {
          "output_type": "stream",
          "text": [
            "100%|██████████| 54/54 [00:10<00:00,  5.15it/s]\n",
            "  0%|          | 0/54 [00:00<?, ?it/s]"
          ],
          "name": "stderr"
        },
        {
          "output_type": "stream",
          "text": [
            "{'ner': 117.18213604836309}\n"
          ],
          "name": "stdout"
        },
        {
          "output_type": "stream",
          "text": [
            "100%|██████████| 54/54 [00:10<00:00,  5.14it/s]\n",
            "  0%|          | 0/54 [00:00<?, ?it/s]"
          ],
          "name": "stderr"
        },
        {
          "output_type": "stream",
          "text": [
            "{'ner': 164.891414643842}\n"
          ],
          "name": "stdout"
        },
        {
          "output_type": "stream",
          "text": [
            "100%|██████████| 54/54 [00:10<00:00,  5.13it/s]\n",
            "  2%|▏         | 1/54 [00:00<00:08,  6.53it/s]"
          ],
          "name": "stderr"
        },
        {
          "output_type": "stream",
          "text": [
            "{'ner': 143.43711899354628}\n"
          ],
          "name": "stdout"
        },
        {
          "output_type": "stream",
          "text": [
            "100%|██████████| 54/54 [00:10<00:00,  5.18it/s]\n",
            "  2%|▏         | 1/54 [00:00<00:08,  5.91it/s]"
          ],
          "name": "stderr"
        },
        {
          "output_type": "stream",
          "text": [
            "{'ner': 164.56207622256522}\n"
          ],
          "name": "stdout"
        },
        {
          "output_type": "stream",
          "text": [
            "100%|██████████| 54/54 [00:10<00:00,  5.14it/s]\n",
            "  0%|          | 0/54 [00:00<?, ?it/s]"
          ],
          "name": "stderr"
        },
        {
          "output_type": "stream",
          "text": [
            "{'ner': 86.902519032272}\n"
          ],
          "name": "stdout"
        },
        {
          "output_type": "stream",
          "text": [
            "100%|██████████| 54/54 [00:10<00:00,  5.12it/s]\n",
            "  2%|▏         | 1/54 [00:00<00:10,  5.19it/s]"
          ],
          "name": "stderr"
        },
        {
          "output_type": "stream",
          "text": [
            "{'ner': 152.4494640153626}\n"
          ],
          "name": "stdout"
        },
        {
          "output_type": "stream",
          "text": [
            "100%|██████████| 54/54 [00:10<00:00,  5.16it/s]\n",
            "  2%|▏         | 1/54 [00:00<00:09,  5.41it/s]"
          ],
          "name": "stderr"
        },
        {
          "output_type": "stream",
          "text": [
            "{'ner': 91.47928295916067}\n"
          ],
          "name": "stdout"
        },
        {
          "output_type": "stream",
          "text": [
            "100%|██████████| 54/54 [00:10<00:00,  5.01it/s]\n",
            "  0%|          | 0/54 [00:00<?, ?it/s]"
          ],
          "name": "stderr"
        },
        {
          "output_type": "stream",
          "text": [
            "{'ner': 130.0524498025444}\n"
          ],
          "name": "stdout"
        },
        {
          "output_type": "stream",
          "text": [
            "100%|██████████| 54/54 [00:11<00:00,  4.85it/s]\n",
            "  2%|▏         | 1/54 [00:00<00:10,  5.17it/s]"
          ],
          "name": "stderr"
        },
        {
          "output_type": "stream",
          "text": [
            "{'ner': 128.94763836303343}\n"
          ],
          "name": "stdout"
        },
        {
          "output_type": "stream",
          "text": [
            "100%|██████████| 54/54 [00:10<00:00,  5.06it/s]\n",
            "  2%|▏         | 1/54 [00:00<00:08,  6.24it/s]"
          ],
          "name": "stderr"
        },
        {
          "output_type": "stream",
          "text": [
            "{'ner': 171.98594298562392}\n"
          ],
          "name": "stdout"
        },
        {
          "output_type": "stream",
          "text": [
            "100%|██████████| 54/54 [00:10<00:00,  5.11it/s]\n",
            "  0%|          | 0/54 [00:00<?, ?it/s]"
          ],
          "name": "stderr"
        },
        {
          "output_type": "stream",
          "text": [
            "{'ner': 92.83296575559562}\n"
          ],
          "name": "stdout"
        },
        {
          "output_type": "stream",
          "text": [
            "100%|██████████| 54/54 [00:10<00:00,  5.13it/s]\n",
            "  0%|          | 0/54 [00:00<?, ?it/s]"
          ],
          "name": "stderr"
        },
        {
          "output_type": "stream",
          "text": [
            "{'ner': 129.02983658214202}\n"
          ],
          "name": "stdout"
        },
        {
          "output_type": "stream",
          "text": [
            "100%|██████████| 54/54 [00:10<00:00,  5.12it/s]\n",
            "  0%|          | 0/54 [00:00<?, ?it/s]"
          ],
          "name": "stderr"
        },
        {
          "output_type": "stream",
          "text": [
            "{'ner': 104.51253923130098}\n"
          ],
          "name": "stdout"
        },
        {
          "output_type": "stream",
          "text": [
            "100%|██████████| 54/54 [00:10<00:00,  5.12it/s]\n",
            "  2%|▏         | 1/54 [00:00<00:07,  6.67it/s]"
          ],
          "name": "stderr"
        },
        {
          "output_type": "stream",
          "text": [
            "{'ner': 111.91384495888954}\n"
          ],
          "name": "stdout"
        },
        {
          "output_type": "stream",
          "text": [
            "100%|██████████| 54/54 [00:10<00:00,  5.09it/s]\n",
            "  2%|▏         | 1/54 [00:00<00:07,  6.75it/s]"
          ],
          "name": "stderr"
        },
        {
          "output_type": "stream",
          "text": [
            "{'ner': 138.19125831509518}\n"
          ],
          "name": "stdout"
        },
        {
          "output_type": "stream",
          "text": [
            "100%|██████████| 54/54 [00:10<00:00,  5.17it/s]\n",
            "  0%|          | 0/54 [00:00<?, ?it/s]"
          ],
          "name": "stderr"
        },
        {
          "output_type": "stream",
          "text": [
            "{'ner': 173.91108373926565}\n"
          ],
          "name": "stdout"
        },
        {
          "output_type": "stream",
          "text": [
            "100%|██████████| 54/54 [00:10<00:00,  5.17it/s]\n",
            "  2%|▏         | 1/54 [00:00<00:08,  6.28it/s]"
          ],
          "name": "stderr"
        },
        {
          "output_type": "stream",
          "text": [
            "{'ner': 83.14637712807402}\n"
          ],
          "name": "stdout"
        },
        {
          "output_type": "stream",
          "text": [
            "100%|██████████| 54/54 [00:10<00:00,  5.12it/s]\n",
            "  2%|▏         | 1/54 [00:00<00:08,  6.61it/s]"
          ],
          "name": "stderr"
        },
        {
          "output_type": "stream",
          "text": [
            "{'ner': 140.85596781012367}\n"
          ],
          "name": "stdout"
        },
        {
          "output_type": "stream",
          "text": [
            "100%|██████████| 54/54 [00:10<00:00,  5.14it/s]\n",
            "  0%|          | 0/54 [00:00<?, ?it/s]"
          ],
          "name": "stderr"
        },
        {
          "output_type": "stream",
          "text": [
            "{'ner': 106.5842622081484}\n"
          ],
          "name": "stdout"
        },
        {
          "output_type": "stream",
          "text": [
            "100%|██████████| 54/54 [00:10<00:00,  5.11it/s]\n",
            "  0%|          | 0/54 [00:00<?, ?it/s]"
          ],
          "name": "stderr"
        },
        {
          "output_type": "stream",
          "text": [
            "{'ner': 54.35508162277322}\n"
          ],
          "name": "stdout"
        },
        {
          "output_type": "stream",
          "text": [
            "100%|██████████| 54/54 [00:10<00:00,  5.20it/s]\n",
            "  0%|          | 0/54 [00:00<?, ?it/s]"
          ],
          "name": "stderr"
        },
        {
          "output_type": "stream",
          "text": [
            "{'ner': 60.482412589892235}\n"
          ],
          "name": "stdout"
        },
        {
          "output_type": "stream",
          "text": [
            "100%|██████████| 54/54 [00:10<00:00,  4.92it/s]\n",
            "  0%|          | 0/54 [00:00<?, ?it/s]"
          ],
          "name": "stderr"
        },
        {
          "output_type": "stream",
          "text": [
            "{'ner': 102.91866450943373}\n"
          ],
          "name": "stdout"
        },
        {
          "output_type": "stream",
          "text": [
            "100%|██████████| 54/54 [00:10<00:00,  5.03it/s]\n",
            "  2%|▏         | 1/54 [00:00<00:10,  5.16it/s]"
          ],
          "name": "stderr"
        },
        {
          "output_type": "stream",
          "text": [
            "{'ner': 67.40710527950618}\n"
          ],
          "name": "stdout"
        },
        {
          "output_type": "stream",
          "text": [
            "100%|██████████| 54/54 [00:10<00:00,  5.03it/s]\n",
            "  2%|▏         | 1/54 [00:00<00:07,  6.74it/s]"
          ],
          "name": "stderr"
        },
        {
          "output_type": "stream",
          "text": [
            "{'ner': 66.89360939835535}\n"
          ],
          "name": "stdout"
        },
        {
          "output_type": "stream",
          "text": [
            "100%|██████████| 54/54 [00:10<00:00,  5.00it/s]\n",
            "  0%|          | 0/54 [00:00<?, ?it/s]"
          ],
          "name": "stderr"
        },
        {
          "output_type": "stream",
          "text": [
            "{'ner': 75.9639290854542}\n"
          ],
          "name": "stdout"
        },
        {
          "output_type": "stream",
          "text": [
            "100%|██████████| 54/54 [00:10<00:00,  4.98it/s]\n",
            "  0%|          | 0/54 [00:00<?, ?it/s]"
          ],
          "name": "stderr"
        },
        {
          "output_type": "stream",
          "text": [
            "{'ner': 99.13163626450302}\n"
          ],
          "name": "stdout"
        },
        {
          "output_type": "stream",
          "text": [
            "100%|██████████| 54/54 [00:11<00:00,  4.88it/s]\n",
            "  0%|          | 0/54 [00:00<?, ?it/s]"
          ],
          "name": "stderr"
        },
        {
          "output_type": "stream",
          "text": [
            "{'ner': 66.2306791616467}\n"
          ],
          "name": "stdout"
        },
        {
          "output_type": "stream",
          "text": [
            "100%|██████████| 54/54 [00:10<00:00,  5.04it/s]\n",
            "  2%|▏         | 1/54 [00:00<00:08,  6.55it/s]"
          ],
          "name": "stderr"
        },
        {
          "output_type": "stream",
          "text": [
            "{'ner': 103.28936076436297}\n"
          ],
          "name": "stdout"
        },
        {
          "output_type": "stream",
          "text": [
            "100%|██████████| 54/54 [00:10<00:00,  4.99it/s]\n",
            "  2%|▏         | 1/54 [00:00<00:08,  6.31it/s]"
          ],
          "name": "stderr"
        },
        {
          "output_type": "stream",
          "text": [
            "{'ner': 91.5415398794722}\n"
          ],
          "name": "stdout"
        },
        {
          "output_type": "stream",
          "text": [
            "100%|██████████| 54/54 [00:10<00:00,  5.05it/s]\n",
            "  0%|          | 0/54 [00:00<?, ?it/s]"
          ],
          "name": "stderr"
        },
        {
          "output_type": "stream",
          "text": [
            "{'ner': 88.54289281446398}\n"
          ],
          "name": "stdout"
        },
        {
          "output_type": "stream",
          "text": [
            "100%|██████████| 54/54 [00:10<00:00,  4.95it/s]\n",
            "  2%|▏         | 1/54 [00:00<00:10,  5.20it/s]"
          ],
          "name": "stderr"
        },
        {
          "output_type": "stream",
          "text": [
            "{'ner': 64.16305187250288}\n"
          ],
          "name": "stdout"
        },
        {
          "output_type": "stream",
          "text": [
            "100%|██████████| 54/54 [00:10<00:00,  5.07it/s]\n",
            "  2%|▏         | 1/54 [00:00<00:09,  5.41it/s]"
          ],
          "name": "stderr"
        },
        {
          "output_type": "stream",
          "text": [
            "{'ner': 76.91911933792792}\n"
          ],
          "name": "stdout"
        },
        {
          "output_type": "stream",
          "text": [
            "100%|██████████| 54/54 [00:10<00:00,  4.93it/s]\n",
            "  0%|          | 0/54 [00:00<?, ?it/s]"
          ],
          "name": "stderr"
        },
        {
          "output_type": "stream",
          "text": [
            "{'ner': 55.96021297528198}\n"
          ],
          "name": "stdout"
        },
        {
          "output_type": "stream",
          "text": [
            "100%|██████████| 54/54 [00:10<00:00,  5.00it/s]\n",
            "  2%|▏         | 1/54 [00:00<00:08,  6.29it/s]"
          ],
          "name": "stderr"
        },
        {
          "output_type": "stream",
          "text": [
            "{'ner': 21.0299162066721}\n"
          ],
          "name": "stdout"
        },
        {
          "output_type": "stream",
          "text": [
            "100%|██████████| 54/54 [00:10<00:00,  4.99it/s]\n",
            "  0%|          | 0/54 [00:00<?, ?it/s]"
          ],
          "name": "stderr"
        },
        {
          "output_type": "stream",
          "text": [
            "{'ner': 70.58090877803683}\n"
          ],
          "name": "stdout"
        },
        {
          "output_type": "stream",
          "text": [
            "100%|██████████| 54/54 [00:10<00:00,  5.01it/s]\n",
            "  2%|▏         | 1/54 [00:00<00:10,  5.22it/s]"
          ],
          "name": "stderr"
        },
        {
          "output_type": "stream",
          "text": [
            "{'ner': 64.77477580434547}\n"
          ],
          "name": "stdout"
        },
        {
          "output_type": "stream",
          "text": [
            "100%|██████████| 54/54 [00:10<00:00,  4.93it/s]\n",
            "  2%|▏         | 1/54 [00:00<00:08,  6.03it/s]"
          ],
          "name": "stderr"
        },
        {
          "output_type": "stream",
          "text": [
            "{'ner': 67.43432521197637}\n"
          ],
          "name": "stdout"
        },
        {
          "output_type": "stream",
          "text": [
            "100%|██████████| 54/54 [00:11<00:00,  4.61it/s]\n",
            "  0%|          | 0/54 [00:00<?, ?it/s]"
          ],
          "name": "stderr"
        },
        {
          "output_type": "stream",
          "text": [
            "{'ner': 60.65179108992789}\n"
          ],
          "name": "stdout"
        },
        {
          "output_type": "stream",
          "text": [
            "100%|██████████| 54/54 [00:11<00:00,  4.75it/s]\n",
            "  2%|▏         | 1/54 [00:00<00:08,  6.41it/s]"
          ],
          "name": "stderr"
        },
        {
          "output_type": "stream",
          "text": [
            "{'ner': 56.85032875326239}\n"
          ],
          "name": "stdout"
        },
        {
          "output_type": "stream",
          "text": [
            "100%|██████████| 54/54 [00:11<00:00,  4.71it/s]\n",
            "  2%|▏         | 1/54 [00:00<00:10,  5.27it/s]"
          ],
          "name": "stderr"
        },
        {
          "output_type": "stream",
          "text": [
            "{'ner': 94.21575944402154}\n"
          ],
          "name": "stdout"
        },
        {
          "output_type": "stream",
          "text": [
            "100%|██████████| 54/54 [00:11<00:00,  4.88it/s]\n",
            "  0%|          | 0/54 [00:00<?, ?it/s]"
          ],
          "name": "stderr"
        },
        {
          "output_type": "stream",
          "text": [
            "{'ner': 69.98888824613907}\n"
          ],
          "name": "stdout"
        },
        {
          "output_type": "stream",
          "text": [
            "100%|██████████| 54/54 [00:10<00:00,  4.93it/s]\n",
            "  0%|          | 0/54 [00:00<?, ?it/s]"
          ],
          "name": "stderr"
        },
        {
          "output_type": "stream",
          "text": [
            "{'ner': 41.82677308986964}\n"
          ],
          "name": "stdout"
        },
        {
          "output_type": "stream",
          "text": [
            "100%|██████████| 54/54 [00:11<00:00,  4.71it/s]\n",
            "  2%|▏         | 1/54 [00:00<00:08,  6.62it/s]"
          ],
          "name": "stderr"
        },
        {
          "output_type": "stream",
          "text": [
            "{'ner': 41.91060106062227}\n"
          ],
          "name": "stdout"
        },
        {
          "output_type": "stream",
          "text": [
            "100%|██████████| 54/54 [00:11<00:00,  4.87it/s]"
          ],
          "name": "stderr"
        },
        {
          "output_type": "stream",
          "text": [
            "{'ner': 68.98041049780981}\n"
          ],
          "name": "stdout"
        },
        {
          "output_type": "stream",
          "text": [
            "\n"
          ],
          "name": "stderr"
        }
      ]
    },
    {
      "cell_type": "code",
      "metadata": {
        "id": "pq_e5PIOi_ZE",
        "colab_type": "code",
        "outputId": "3cc3d8a4-088b-4866-caf7-95063d5066ac",
        "colab": {
          "base_uri": "https://localhost:8080/",
          "height": 50
        }
      },
      "source": [
        "output_dir=os.getcwd()+'/model'\n",
        "print(output_dir)\n",
        "\n",
        "# save model to output directory\n",
        "if output_dir is not None:\n",
        "    output_dir = Path(output_dir)\n",
        "if not output_dir.exists():\n",
        "    output_dir.mkdir()\n",
        "nlp1.to_disk(output_dir)\n",
        "print(\"Saved model to\", output_dir)"
      ],
      "execution_count": 0,
      "outputs": [
        {
          "output_type": "stream",
          "text": [
            "/content/model\n",
            "Saved model to /content/model\n"
          ],
          "name": "stdout"
        }
      ]
    },
    {
      "cell_type": "code",
      "metadata": {
        "id": "AQl6DqzsnjB6",
        "colab_type": "code",
        "outputId": "dc3cd9c0-d979-4581-c680-c33fcd896360",
        "colab": {
          "base_uri": "https://localhost:8080/",
          "height": 34
        }
      },
      "source": [
        "# test the saved model\n",
        "print(\"Loading from\", output_dir)\n",
        "nlp2 = spacy.load(output_dir)\n",
        "\n",
        "def predict_entities(text, nlp2):\n",
        "    # test the trained model\n",
        "    doc = nlp2(text)\n",
        "    entities = []\n",
        "    for ent in doc.ents:\n",
        "        entities.append((ent.text, ent.label_))\n",
        "    return entities"
      ],
      "execution_count": 0,
      "outputs": [
        {
          "output_type": "stream",
          "text": [
            "Loading from /content/model\n"
          ],
          "name": "stdout"
        }
      ]
    },
    {
      "cell_type": "code",
      "metadata": {
        "id": "zuBPDWvhnlbn",
        "colab_type": "code",
        "colab": {}
      },
      "source": [
        "out = predict_entities(TEST_TEXTS[0], nlp2)"
      ],
      "execution_count": 0,
      "outputs": []
    },
    {
      "cell_type": "code",
      "metadata": {
        "id": "S8M9GbccnnmV",
        "colab_type": "code",
        "outputId": "e5b7731e-f7e5-481a-ffbc-04d2e8fd5770",
        "colab": {
          "base_uri": "https://localhost:8080/",
          "height": 151
        }
      },
      "source": [
        "out"
      ],
      "execution_count": 0,
      "outputs": [
        {
          "output_type": "execute_result",
          "data": {
            "text/plain": [
              "[('Client Account Transfer Form', 'TITLE'),\n",
              " ('IRA', 'ACC_TYPE'),\n",
              " ('(541) 754-2121', 'PHONE'),\n",
              " ('2 Seaport Ln', 'ADDRESS'),\n",
              " ('Boston, MA,02210', 'CITY'),\n",
              " ('640518538', 'SOCIAL_SECURITY_NO'),\n",
              " ('335-0001', 'RELATIONSHIP_NO'),\n",
              " ('connie@gmail.com', 'EMAIL')]"
            ]
          },
          "metadata": {
            "tags": []
          },
          "execution_count": 63
        }
      ]
    },
    {
      "cell_type": "code",
      "metadata": {
        "id": "31raYCUOnph8",
        "colab_type": "code",
        "outputId": "3ae70ec6-cc1f-4069-ccd9-b0136bed8857",
        "colab": {
          "base_uri": "https://localhost:8080/",
          "height": 118
        }
      },
      "source": [
        "out = predict_entities(TEST_TEXTS[1], nlp2)\n",
        "out"
      ],
      "execution_count": 0,
      "outputs": [
        {
          "output_type": "execute_result",
          "data": {
            "text/plain": [
              "[('IRA', 'ACC_TYPE'),\n",
              " ('Account Application', 'TITLE'),\n",
              " ('2465 Richison Drive', 'ADDRESS'),\n",
              " ('(541) 754-3011', 'PHONE'),\n",
              " ('360-80-6429', 'SOCIAL_SECURITY_NO'),\n",
              " ('Patricia@gmail.com', 'EMAIL')]"
            ]
          },
          "metadata": {
            "tags": []
          },
          "execution_count": 64
        }
      ]
    },
    {
      "cell_type": "code",
      "metadata": {
        "id": "z0YH3cVXnrLy",
        "colab_type": "code",
        "outputId": "ec7a7986-8d1b-49e9-d2ac-8975e498112a",
        "colab": {
          "base_uri": "https://localhost:8080/",
          "height": 134
        }
      },
      "source": [
        "out = predict_entities(TEST_TEXTS[2], nlp2)\n",
        "out"
      ],
      "execution_count": 0,
      "outputs": [
        {
          "output_type": "execute_result",
          "data": {
            "text/plain": [
              "[('ACCOUNT TRANSFER FORM', 'TITLE'),\n",
              " ('Adrian T Clemens', 'CLIENT'),\n",
              " ('545401875', 'SOCIAL_SECURITY_NO'),\n",
              " ('IRA', 'ACC_TYPE'),\n",
              " ('987012301', 'ACC_NO'),\n",
              " ('280 Park Ave 12th Floor', 'ADDRESS'),\n",
              " ('(541) 754-3011', 'PHONE')]"
            ]
          },
          "metadata": {
            "tags": []
          },
          "execution_count": 65
        }
      ]
    },
    {
      "cell_type": "code",
      "metadata": {
        "id": "1ClkJueEnsp4",
        "colab_type": "code",
        "outputId": "5a54d186-cb99-461c-fb7d-470f215f06c6",
        "colab": {
          "base_uri": "https://localhost:8080/",
          "height": 134
        }
      },
      "source": [
        "out = predict_entities(TEST_TEXTS[3], nlp2)\n",
        "out"
      ],
      "execution_count": 0,
      "outputs": [
        {
          "output_type": "execute_result",
          "data": {
            "text/plain": [
              "[('ACCOUNT TRANSFER FORM', 'TITLE'),\n",
              " ('875698733', 'ACC_NO'),\n",
              " ('404711444', 'SOCIAL_SECURITY_NO'),\n",
              " ('IRA', 'ACC_TYPE'),\n",
              " ('870214588', 'ACC_NO'),\n",
              " ('4210 Hill Croft Farm Road', 'ADDRESS'),\n",
              " ('(541) 754-3033', 'PHONE')]"
            ]
          },
          "metadata": {
            "tags": []
          },
          "execution_count": 66
        }
      ]
    },
    {
      "cell_type": "code",
      "metadata": {
        "id": "HsLMvRJNnuOY",
        "colab_type": "code",
        "outputId": "ca0cf3ec-191a-4fe9-b360-b6e8a9bb924d",
        "colab": {
          "base_uri": "https://localhost:8080/",
          "height": 134
        }
      },
      "source": [
        "out = predict_entities(TEST_TEXTS[4], nlp2)\n",
        "out"
      ],
      "execution_count": 0,
      "outputs": [
        {
          "output_type": "execute_result",
          "data": {
            "text/plain": [
              "[('Client Account Transfer Form', 'TITLE'),\n",
              " ('IRA', 'ACC_TYPE'),\n",
              " ('(541) 754-5472', 'PHONE'),\n",
              " ('6641 W Broad St', 'ADDRESS'),\n",
              " ('674410542', 'SOCIAL_SECURITY_NO'),\n",
              " ('335-4241', 'RELATIONSHIP_NO'),\n",
              " ('taylor@gmail.com', 'EMAIL')]"
            ]
          },
          "metadata": {
            "tags": []
          },
          "execution_count": 67
        }
      ]
    },
    {
      "cell_type": "code",
      "metadata": {
        "id": "pYDj5KsynwHZ",
        "colab_type": "code",
        "outputId": "c1559f43-8584-457c-b497-9063fd6fdaa9",
        "colab": {
          "base_uri": "https://localhost:8080/",
          "height": 134
        }
      },
      "source": [
        "out = predict_entities(TEST_TEXTS[5], nlp2)\n",
        "out"
      ],
      "execution_count": 0,
      "outputs": [
        {
          "output_type": "execute_result",
          "data": {
            "text/plain": [
              "[('ACCOUNT TRANSFER FORM', 'TITLE'),\n",
              " ('Harold N Samaniego', 'CLIENT'),\n",
              " ('404711495', 'SOCIAL_SECURITY_NO'),\n",
              " ('IRA', 'ACC_TYPE'),\n",
              " ('870214544', 'ACC_NO'),\n",
              " ('943 Roosevelt Wilson Lane', 'ADDRESS'),\n",
              " ('(541) 754-3111', 'PHONE')]"
            ]
          },
          "metadata": {
            "tags": []
          },
          "execution_count": 68
        }
      ]
    },
    {
      "cell_type": "code",
      "metadata": {
        "id": "nVjr_wLanyDC",
        "colab_type": "code",
        "outputId": "945eb2b7-5611-4445-f046-47ef03a016a1",
        "colab": {
          "base_uri": "https://localhost:8080/",
          "height": 34
        }
      },
      "source": [
        "len(TEST_TEXTS)"
      ],
      "execution_count": 0,
      "outputs": [
        {
          "output_type": "execute_result",
          "data": {
            "text/plain": [
              "6"
            ]
          },
          "metadata": {
            "tags": []
          },
          "execution_count": 69
        }
      ]
    },
    {
      "cell_type": "code",
      "metadata": {
        "id": "k-48cEWun0B4",
        "colab_type": "code",
        "outputId": "933012f4-e968-4408-9cf0-9d596219ce94",
        "colab": {
          "base_uri": "https://localhost:8080/",
          "height": 54
        }
      },
      "source": [
        "TEST_TEXTS[5]"
      ],
      "execution_count": 0,
      "outputs": [
        {
          "output_type": "execute_result",
          "data": {
            "text/plain": [
              "'D Ameritrade Institutional Reset Form ACCOUNT TRANSFER FORM TO TRANSFER YOUR EXISTING ACCOUNT TO TD AMERITRADE Account # 896547777 Advisor Code 333547666 Case # 1 PLEASE ATTACH A COPY OF YOUR LATEST STATEMENT. TD AMERITRADE ACCOUNT INFORMATION Account Title Registration: Harold N Samaniego Social Security Number Tax ID: Clearing Number 404711495 0188 Personal Trust Limited Liability Company Roth IRA Individual (Non-Qualified) Joint UTMA/UGMA Qualified Retirement Plan Employer Plan Type: Simple IRA Estate SEP IRA Partnership/Investment Club Traditional IRA/Rollover RA Corporate Coverdell ESA Beneficiary IRA Other: 2 INFORMATION ON THE ACCOUNT YOU ARE TRANSFERRING FROM Account Title/Registration as shown on your statement: Account Number: Harold N Samaniego 870214544 Name of Delivering Firm: JNJ Physical Address of Firm (no PO BOX). Telephone Number (required): 943 Roosevelt Wilson Lane (541) 754-3111 Individual Personal Trust Limited Liability Company Roth IRA Qualified Retirement Plan (Non-Qualified) Employer Plan Type Joint Estate Partnership/Investment Club SEP IRA Simple IRA Has SIMPLE IRA been funded for at least two years? Yes No UTMA/UGMA Corporate Traditional IRA/Rollover RA Coverdell ESA Beneficiary IRA Other: LIST THE ASSETS YOU WANT TO TRANSFER A. Transfer from an ACAT eligible Brokerage Firm, Bank, Insurance/Annuity Co., Trust Co., or Transfer Agent - Check box for full or partial transfer. For partial transfers, list descriptions of assets and shares. Unless otherwise indicated, TD Ameritrade will transfer in full. Please note - The ACAT system does not allow for liquidation requests. To place trades, please contact your current custodian prior to submitting the transfer request. Most banks, insurance/annuity, and trust companies require original wet-ink signature mailed to TD Ameritrade. If transferring Alternative Investments, please obtain a copy of the Transfer In Only Alternative Investment Client Custody Agreement from your Advisor, the terms of which will apply to our custody of your Alternative Investments. No signature is required. Full Transfer - To transfer entire account, check box and Partial Transfer - List specific security. If bonds are being transferred, skip to Section 4 (if applicable), then to the Signature Section. please supply the Bond CUSIP. Description of Asset (Partial transfers only) Quantity (Indicate # of shares or \"ALL\") Description of Asset (Partial transfers only) Quantity indicate # of shares or \"ALL\") NFLX 300 BA 200 LMT 200 MCD 300 For additional securities, see attached list. Page 1 of 5 TDAI 9682 REV. 02/17 . Annuity/Life Insurance Policy: I have an annuity or life insurance policy I wish to liquidate and have the proceeds sent to TD Ameritrade. Please choose one option: Please redeem and terminate entire contract or policy on my behalf. I understand that penalties may apply. Please redeem and terminate entire contract or policy on my behalf. The entire contract or policy is penalty-free Please redeem only the penalty-free amount of $ Please withdraw a partial amount of $ The entire contract or policy is penalty-free. Certificates of Deposit (CDs): Redeem my CD immediately. I understand that penalties may apply for any withdrawals prior to maturity. Redeem my CD at maturity. Maturity date:_ Submit request at least 21 days prior to maturity. Please advise your bank not to roll over the CD to a new term. Dividend Reinvestment Plan: I am transferring positions in Book Entry form and liquidating accumulated fractional shares B. Transfer from a Mutual Fund company - Unless otherwise indicated, TD Ameritrade will transfer all shares in kind and reinvest your dividends and capital gains. I acknowledge that ineligible proprietary mutual funds and all no-load money market funds cannot be transferred in kind and must be liquidated by the mutual fund company. Fund Name or Symbol Fund Account Number (Indicate # of shares or \"AN) Quantity Credit Gains and Dividends as (Check one if transferring shares) NFLX 300 Reinvested shares Cash LMT 200 Reinvested shares Cash Handling (Check one) Transfer my shares Sell my shares, transfer cash Transfer my shares Sell my shares, transfer cash Transfer my shares Sell my shares, transfer cash Transfer my shares Sell my shares, transfer cash Transfer my shares Sell my shares transfer cash BA 300 Reinvested shares Cash MCD 300 Reinvested shares Cash Reinvested shares Cash For additional mutual funds, see attached list. O To transfer Money Markets, please indicate the Money Market name or symbol if available: Liquidate Money Market: ΠΑΙΙ Only: $ 200,000 Page 2 of 5 TDAI 9682 REV. 02/17 '"
            ]
          },
          "metadata": {
            "tags": []
          },
          "execution_count": 70
        }
      ]
    },
    {
      "cell_type": "markdown",
      "metadata": {
        "id": "PpX3D2PUoCyJ",
        "colab_type": "text"
      },
      "source": [
        "**Prediction - OCR then NER**"
      ]
    },
    {
      "cell_type": "code",
      "metadata": {
        "id": "IJspzXnnn1qi",
        "colab_type": "code",
        "outputId": "07da7594-9be7-4cfc-8167-93b317b3284e",
        "colab": {
          "base_uri": "https://localhost:8080/",
          "height": 34
        }
      },
      "source": [
        "print(\"Loading from\", output_dir)\n",
        "nlp2 = spacy.load(output_dir)\n",
        "\n",
        "def predict_entities(text, nlp2):\n",
        "    # test the trained model\n",
        "    doc = nlp2(text)\n",
        "    entities = []\n",
        "    for ent in doc.ents:\n",
        "        entities.append((ent.text, ent.label_))\n",
        "    return entities"
      ],
      "execution_count": 0,
      "outputs": [
        {
          "output_type": "stream",
          "text": [
            "Loading from /content/model\n"
          ],
          "name": "stdout"
        }
      ]
    },
    {
      "cell_type": "code",
      "metadata": {
        "id": "sIJC0duLoFDb",
        "colab_type": "code",
        "colab": {}
      },
      "source": [
        "def predict_ocr_ner(path_): \n",
        "    print(path_)\n",
        "    file_name = path_.split('/')[-1]\n",
        "    print(file_name)\n",
        "    if Path(file_name).suffix == '.pdf':\n",
        "        extracted_text = detect_text_from_pdf(pdf_path = path_, num_of_pages = 2)\n",
        "        return predict_entities(extracted_text, nlp2)\n",
        "    elif Path(file_name).suffix == '.png' or 'jpg':\n",
        "        extracted_text = detect_text_from_image(path_)\n",
        "        return predict_entities(extracted_text, nlp2)\n",
        "    else:\n",
        "        pass"
      ],
      "execution_count": 0,
      "outputs": []
    },
    {
      "cell_type": "markdown",
      "metadata": {
        "id": "1XuGmWadoLRC",
        "colab_type": "text"
      },
      "source": [
        "### MERILLYN"
      ]
    },
    {
      "cell_type": "code",
      "metadata": {
        "id": "visOspWPoH27",
        "colab_type": "code",
        "outputId": "43002ad1-379f-4c2d-aa2f-ce260308b31d",
        "colab": {
          "base_uri": "https://localhost:8080/",
          "height": 1000
        }
      },
      "source": [
        "result_text = detect_text_from_image('/content/drive/My Drive/DOC-NER/Merrilllynch_CRA/Adrian Clemens.png')\n",
        "\n",
        "print(result_text)\n",
        "\n",
        "#for path in path_list:\n",
        "#    text_ = detect_text_from_image(path)\n",
        "#    # write to file "
      ],
      "execution_count": 0,
      "outputs": [
        {
          "output_type": "stream",
          "text": [
            "Texts:\n",
            "DTC8862\n",
            "ACAT0671\n",
            "A BANK OF AMERICA COMPANY\n",
            "Client Account Transfer Form\n",
            "Use this form to transfer all or a portion of your account from\n",
            "MERRILL\n",
            "another financial institution to your Merrill Lynch, Pierce, Fenner &\n",
            "Smith Incorporated (“Merrill Lynch”) account.\n",
            "For best results, please complete the information requested below in parts 1 to 4 using ALL CAPITAL letters and\n",
            "black ink. If you need more room for information or signatures, use a copy of the relevant page or a blank sheet. Use\n",
            "one form for each account that you're transferring.\n",
            "Things to know before you begin:\n",
            "Many firms transfer assets using an automated transfer process, which typically takes 5 to 6 business days. Other\n",
            "firms either don't use the automated process or must process some assets manually, which takes more time. The\n",
            "following estimated time frames for manual transfers are from the date of eipt of instructions by the deli\n",
            "firm and may vary greatly:\n",
            "· Equities, bonds and options, approximately 15 business days\n",
            "Restricted securities, approximately 15 to 20 business days\n",
            "Mutual funds, up to 30 business days\n",
            "- Foreign securities, 4 to 6 weeks\n",
            "Note: Annuities are not transferred using this form. Please use the Merrill Lynch Annuity Transfer Form.\n",
            "Remember to update any automatic deposits or withdrawals you've set up on the account you're transferring to\n",
            "Merrill Lynch.\n",
            "• Some transfers may result in tax consequences, penalties or financial risk. Consult your tax and financial\n",
            "professionals before requesting this transfer.\n",
            "If you're rolling over assets from a 401(k) or other employer-sponsored plan, consider all of your choices. You may\n",
            "be able to roll over to an IRA, roll over an old 401(k) to a 401(k) at a new employer, take a distribution or leave the\n",
            "account where it is, depending on your unique financial needs and retirement goals. Each choice may offer different\n",
            "benefits and limitations including investment options and services, fees and expenses, withdrawal options, required\n",
            "minimum distributions, tax treatment and protection from creditors and legal judgments. Additionally, there are\n",
            "limits to how often and when you can roll over your account. Please contact your 401(k) or other employer-sponsored\n",
            "plan administrator for help with the transfer.\n",
            "Part 1\n",
            "Where\n",
            "your account\n",
            "is now\n",
            "FIRM NAME\n",
            "AEW Capital\n",
            "FIRM ADDRESS\n",
            "2 Seaport Ln\n",
            "ACCOUNT NUMBER\n",
            "89101454\n",
            "FIRM PHONE\n",
            "CONTACT NAME\n",
            "(541) 754-2545\n",
            "Daniel C Paul\n",
            "CITY, STATE, ZIP\n",
            "| Boston, MA,02210\n",
            "ACCOUNT TITLE\n",
            "Adrian T Clemens\n",
            "Attach all pages\n",
            "of your most recent\n",
            "statement for this\n",
            "account to avoid\n",
            "any delays\n",
            "EMPLOYER ID NUMBER (If used for\n",
            "repo\n",
            "ACCOUNT TYPE (RETAIL/IRA etc.)\n",
            "IRA\n",
            "SOCIAL SECURITY NUMBER (If used for tax reporting)\n",
            "545401875\n",
            "Account holders (individual accounts) or authorized signers (for business, trust, estate, etc.)\n",
            "List all names exactly as they appear on this account.\n",
            "NAME 1\n",
            "TITLE (If an authorized signer)\n",
            "Adrian T Clemens\n",
            "NAME 2\n",
            "TITLE (If an authorized signer)\n",
            "Roth\n",
            "O SEP\n",
            "Other (Please specify)\n",
            "Part 2\n",
            "Merrill Lynch account\n",
            "receiving your\n",
            "transferred assets\n",
            "MERRILL LYNCH ACCOUNT NUMBER ACCOUNT TYPE (Choose one)\n",
            "335-0012\n",
            "OCMA IRA\n",
            "ACCOUNT TITLE (Here at Merrill Lynch)\n",
            "Adrian T Clemens\n",
            "SOCIAL SECURITY NUMBER (If used for tax reporting)\n",
            "545401875\n",
            "EMPLOYER ID NUMBER (If used for tax reporting)\n",
            "This can include a\n",
            "Merrill Lynch account\n",
            "on which you receive\n",
            "fiduciary services\n",
            "from U.S. Trust.\n",
            "Account holders (individual accounts) or authorized signers (for business, trust, estate, etc.)\n",
            "List all names exactly as they appear on this account. This account must have at least one owner in common with\n",
            "your transferring account, otherwise this process will be delayed.\n",
            "TITLE (If an authorized signer)\n",
            "NAME 1\n",
            "Adrian T Clemens\n",
            "NAME 2\n",
            "TITLE (If an authorized signer)\n",
            "EVENING PHONE\n",
            "EMAIL\n",
            "DAYTIME PHONE\n",
            "(541) 754-3254\n",
            "Adrian@gmail.com\n",
            "BRANCH CONTACT NAME\n",
            "NICK LANE\n",
            "BRANCH CONTACT NUMBER\n",
            "866.848.6554\n",
            "CODE 1566 MLPFS - 03/2018\n",
            "\n"
          ],
          "name": "stdout"
        }
      ]
    },
    {
      "cell_type": "code",
      "metadata": {
        "id": "iCGq1kJ5oNo8",
        "colab_type": "code",
        "outputId": "991b7ff9-1dcf-4cc4-d069-b9a154d67b18",
        "colab": {
          "base_uri": "https://localhost:8080/",
          "height": 235
        }
      },
      "source": [
        "new_pdf = '/content/drive/My Drive/DOC-NER/Merrilllynch_CRA/Adrian Clemens.png'\n",
        "result = predict_ocr_ner(new_pdf)\n",
        "result"
      ],
      "execution_count": 0,
      "outputs": [
        {
          "output_type": "stream",
          "text": [
            "/content/drive/My Drive/DOC-NER/Merrilllynch_CRA/Adrian Clemens.png\n",
            "Adrian Clemens.png\n",
            "Texts:\n"
          ],
          "name": "stdout"
        },
        {
          "output_type": "execute_result",
          "data": {
            "text/plain": [
              "[('Client Account Transfer Form', 'TITLE'),\n",
              " ('IRA', 'ACC_TYPE'),\n",
              " ('2 Seaport Ln', 'ADDRESS'),\n",
              " ('89101454', 'ACC_NO'),\n",
              " ('(541) 754-2545', 'PHONE'),\n",
              " ('Daniel C Paul', 'CLIENT'),\n",
              " ('Boston, MA,02210', 'CITY'),\n",
              " ('545401875', 'SOCIAL_SECURITY_NO'),\n",
              " ('335-0012', 'RELATIONSHIP_NO'),\n",
              " ('Adrian@gmail.com', 'EMAIL')]"
            ]
          },
          "metadata": {
            "tags": []
          },
          "execution_count": 74
        }
      ]
    },
    {
      "cell_type": "code",
      "metadata": {
        "id": "td9zXnKDoTih",
        "colab_type": "code",
        "colab": {}
      },
      "source": [
        "def extract_category(text):\n",
        "    if 'Merrill Lynch'.lower() in text.lower():\n",
        "        CATEGORY = 'Merrill Lynch'.replace(' ', '_')\n",
        "    elif 'Ameritrade'.lower() in text.lower():\n",
        "        CATEGORY = 'Ameritrade'.replace(' ', '_')\n",
        "    elif ('Schwab'.lower() in text.lower()):\n",
        "        CATEGORY = 'Schwab'\n",
        "    return CATEGORY"
      ],
      "execution_count": 0,
      "outputs": []
    },
    {
      "cell_type": "code",
      "metadata": {
        "id": "lO4h-wRtoV7x",
        "colab_type": "code",
        "outputId": "057cafad-ea10-4c2e-f24e-1ca98d62a628",
        "colab": {
          "base_uri": "https://localhost:8080/",
          "height": 34
        }
      },
      "source": [
        "extract_category('another financial institution to your Merrill Lynch, Pierce, Fenner & Smith Incorporated (“Merrill Lynch”) account For best results, please complete the information requested below in parts 1 to 4 using ALL CAPITAL letters and')\n"
      ],
      "execution_count": 0,
      "outputs": [
        {
          "output_type": "execute_result",
          "data": {
            "text/plain": [
              "'Merrill_Lynch'"
            ]
          },
          "metadata": {
            "tags": []
          },
          "execution_count": 76
        }
      ]
    },
    {
      "cell_type": "markdown",
      "metadata": {
        "id": "uWDVZM4EoblZ",
        "colab_type": "text"
      },
      "source": [
        "### AMERITRADE"
      ]
    },
    {
      "cell_type": "code",
      "metadata": {
        "id": "ak8grHF0oYJy",
        "colab_type": "code",
        "outputId": "6f7e7132-a8ec-434c-ed86-c13154c13251",
        "colab": {
          "base_uri": "https://localhost:8080/",
          "height": 1000
        }
      },
      "source": [
        "pdf_file_path = PDF_PATH\n",
        "pages = convert_from_path(pdf_file_path, 200)\n",
        "pdf_file_path_ = pdf_file_path.replace(' ', '_')\n",
        "pdf_file_path_ = Path(pdf_file_path_).stem\n",
        "for page in pages[0:1]:\n",
        "    #print(pdf_file_path_+ '_'+page+'.jpg', 'JPEG')\n",
        "\n",
        "    #page.save(pdf_file_path_+ '_'+page+'.jpg', 'JPEG')\n",
        "    page.save(pdf_file_path_ + '.jpg')\n",
        "page.save(pdf_file_path_ + '.jpg')\n",
        "result_text = detect_text_from_image(pdf_file_path_ + '.jpg')\n",
        "\n",
        "print(result_text)"
      ],
      "execution_count": 0,
      "outputs": [
        {
          "output_type": "stream",
          "text": [
            "Texts:\n",
            "Reset Form\n",
            "TD Ameritrade\n",
            "Institutional\n",
            "ACCOUNT TRANSFER FORM\n",
            "TO TRANSFER YOUR EXISTING\n",
            "ACCOUNT TO TD AMERITRADE\n",
            "Account # 874589644\n",
            "Advisor Code 800589988\n",
            "Case #\n",
            "1\n",
            "PLEASE ATTACH A COPY OF YOUR LATEST STATEMENT.\n",
            "TD AMERITRADE ACCOUNT INFORMATION\n",
            "Account Title/Registration:\n",
            "Anne C Pugh\n",
            "Social Security Number/Tax ID:\n",
            "Clearing Number:\n",
            "404711444\n",
            "0188\n",
            "Personal Trust\n",
            "Limited Liability Company\n",
            "Roth IRA\n",
            "Individual\n",
            "(Non-Qualified)\n",
            "D Qualified Retirement Plan\n",
            "Employer Plan Type:\n",
            "Joint\n",
            "Estate\n",
            "Partnership/Investment Club\n",
            "SEP IRA\n",
            "Simple IRA\n",
            "UTMA/UGMA\n",
            "Corporate\n",
            "Traditional IRA/Rollover IRA\n",
            "Coverdell ESA\n",
            "Beneficiary IRA\n",
            "Other:\n",
            "2\n",
            "INFORMATION ON THE ACCOUNT YOU ARE TRANSFERRING FROM\n",
            "Account Title/Registration as shown on your statement:\n",
            "Account Number:\n",
            "Anne C Pugh\n",
            "587102361\n",
            "Name of Delivering Firm:\n",
            "LMT\n",
            "Physical Address of Firm (no PO BOX):\n",
            "Telephone Number (required):\n",
            "852 Beechwood Drive\n",
            "(541) 754-3033\n",
            "Personal Trust\n",
            "Limited Liability Company\n",
            "Roth IRA\n",
            "Individual\n",
            "(Non-Qualified)\n",
            "I Qualified Retirement Plan\n",
            "Employer Plan Type:\n",
            "Joint\n",
            "Estate\n",
            "Partnership/Investment Club\n",
            "SEP IRA\n",
            "Simple IRA\n",
            "Has SIMPLE IRA been funded for at least two years?\n",
            "Yes No\n",
            "OUTMA/UGMA\n",
            "Corporate\n",
            "Traditional IRA/Rollover IRA\n",
            "Coverdell ESA\n",
            "Beneficiary IRA\n",
            "Other:\n",
            "3\n",
            "LIST THE ASSETS YOU WANT TO TRANSFER\n",
            "A. Transfer from an ACAT eligible Brokerage Firm, Bank, Insurance/Annuity Co., Trust Co., or Transfer Agent - Check box for full\n",
            "or partial transfer. For partial transfers, list descriptions of assets and shares. Unless otherwise indicated, TD Ameritrade will transfer in full.\n",
            "Please note – The ACAT system does not allow for liquidation requests. To place trades, please contact your current custodian prior to\n",
            "submitting the transfer request. Most banks, insurance annuity, and trust companies require original wet-ink signature mailed to TD Ameritrade.\n",
            "If transferring in Alternative Investments, please obtain a copy of the Transfer In Only Alternative Investment Client Custody\n",
            "Agreement from your Advisor, the terms of which will apply to our custody of your Alternative Investments. No signature is required.\n",
            "Full Transfer - To transfer entire account, check box and\n",
            "Partial Transfer - List specific security. If bonds are being transferred,\n",
            "skip to Section 4 (if applicable), then to the Signature Section. please supply the Bond CUSIP.\n",
            "Description of Asset\n",
            "(Partial transfers only)\n",
            "Quantity\n",
            "(Indicate # of shares or \"ALL\")\n",
            "Description of Asset\n",
            "(Partial transfers only)\n",
            "Quantity\n",
            "(Indicate # of shares or \"ALL\")\n",
            "NELX\n",
            "200\n",
            "BA\n",
            "150\n",
            "LMT\n",
            "200\n",
            "MCD\n",
            "300\n",
            "For additional securities, see attached list.\n",
            "Page 1 of 5\n",
            "TDAI 9582 REV. 02/17\n",
            "\n"
          ],
          "name": "stdout"
        }
      ]
    },
    {
      "cell_type": "code",
      "metadata": {
        "id": "Gii4MsXOodyD",
        "colab_type": "code",
        "outputId": "61d45bd1-7194-47bc-8ddf-d466ae5a5475",
        "colab": {
          "base_uri": "https://localhost:8080/",
          "height": 185
        }
      },
      "source": [
        "new_pdf = '/content/Anne_C_Pugh_.jpg'\n",
        "result = predict_ocr_ner(new_pdf)\n",
        "result"
      ],
      "execution_count": 0,
      "outputs": [
        {
          "output_type": "stream",
          "text": [
            "/content/Anne_C_Pugh_.jpg\n",
            "Anne_C_Pugh_.jpg\n",
            "Texts:\n"
          ],
          "name": "stdout"
        },
        {
          "output_type": "execute_result",
          "data": {
            "text/plain": [
              "[('ACCOUNT TRANSFER FORM', 'TITLE'),\n",
              " ('Anne C Pugh', 'CLIENT'),\n",
              " ('404711444', 'SOCIAL_SECURITY_NO'),\n",
              " ('IRA', 'ACC_TYPE'),\n",
              " ('587102361', 'ACC_NO'),\n",
              " ('852 Beechwood Drive', 'ADDRESS'),\n",
              " ('(541) 754-3033', 'PHONE')]"
            ]
          },
          "metadata": {
            "tags": []
          },
          "execution_count": 78
        }
      ]
    },
    {
      "cell_type": "code",
      "metadata": {
        "id": "5DL4Aw3jogMH",
        "colab_type": "code",
        "colab": {}
      },
      "source": [
        "def extract_category(text):\n",
        "    if 'Merrill Lynch'.lower() in text.lower():\n",
        "        CATEGORY = 'Merrill Lynch'.replace(' ', '_')\n",
        "    elif 'Ameritrade'.lower() in text.lower():\n",
        "        CATEGORY = 'Ameritrade'.replace(' ', '_')\n",
        "    elif ('Schwab'.lower() in text.lower()):\n",
        "        CATEGORY = 'Schwab'\n",
        "    return CATEGORY"
      ],
      "execution_count": 0,
      "outputs": []
    },
    {
      "cell_type": "code",
      "metadata": {
        "id": "nAiAfeWNoh8Q",
        "colab_type": "code",
        "outputId": "84f50bd8-34a4-415a-e016-2667733db1d2",
        "colab": {
          "base_uri": "https://localhost:8080/",
          "height": 34
        }
      },
      "source": [
        "extract_category('Transfer from an ACAT eligible Brokerage Firm, Bank, Insurance/Annuity Co., Trust Co., or Transfer Agent - Check box for full or partial transfer. For partial transfers, list descriptions of assets and shares. Unless otherwise indicated, TD Ameritrade will transfer in full')"
      ],
      "execution_count": 0,
      "outputs": [
        {
          "output_type": "execute_result",
          "data": {
            "text/plain": [
              "'Ameritrade'"
            ]
          },
          "metadata": {
            "tags": []
          },
          "execution_count": 80
        }
      ]
    },
    {
      "cell_type": "markdown",
      "metadata": {
        "id": "vfXoudnoomBA",
        "colab_type": "text"
      },
      "source": [
        "SCHWAB"
      ]
    },
    {
      "cell_type": "code",
      "metadata": {
        "id": "i37AfVwxojy4",
        "colab_type": "code",
        "outputId": "bf141056-6a53-4820-851e-8c4fcf5871b7",
        "colab": {
          "base_uri": "https://localhost:8080/",
          "height": 1000
        }
      },
      "source": [
        "pdf_file_path = '/content/drive/My Drive/DOC-NER/Schwab_IRA/Karen_A_Sliva_.pdf'\n",
        "pages = convert_from_path(pdf_file_path, 200)\n",
        "pdf_file_path_ = pdf_file_path.replace(' ', '_')\n",
        "pdf_file_path_ = Path(pdf_file_path_).stem\n",
        "for page in pages[0:2]:\n",
        "    #print(pdf_file_path_+ '_'+page+'.jpg', 'JPEG')\n",
        "\n",
        "    #page.save(pdf_file_path_+ '_'+page+'.jpg', 'JPEG')\n",
        "    page.save(pdf_file_path_ + '.jpg')\n",
        "page.save(pdf_file_path_ + '.jpg')\n",
        "result_text = detect_text_from_image(pdf_file_path_ + '.jpg')\n",
        "\n",
        "print(result_text)"
      ],
      "execution_count": 0,
      "outputs": [
        {
          "output_type": "stream",
          "text": [
            "Texts:\n",
            "Page 2 of 8\n",
            "1. Select IRA Type (Continued)\n",
            "*A Schwab Qualified Plan is a Schwab Profit Sharing Qualified Retirement Plan or Keogh, a Schwab Individual 401(k), or a Schwab 403(b)(7) Account.\n",
            "State Income Tax Withholding: State tax withholding may be required from your distribution. In some cases, you may elect not to have withholding\n",
            "apply, or you may elect to increase the rate of withholding. In other cases, state tax withholding is not available. Refer to the State Income Tax\n",
            "Withholding Information sheet for specific information concerning your state's withholding rates.\n",
            "While Schwab makes every effort to obtain information about state tax laws from sources believed to be reliable, Schwab cannot guarantee the\n",
            "accuracy or timeliness of state tax withholding information because state laws are subject to constant change and interpretation. We recommend\n",
            "that you contact your tax advisor regarding your tax withholding elections and to answer any questions that you may have regarding your state's\n",
            "withholding laws.\n",
            "If you do not make an election, Schwab will apply withholding (if required) at the minimum rate based on your state of residency as determined by your\n",
            "legal address of record on your account.\n",
            "Do not withhold tax\n",
            "o o\n",
            "Withhold state income tax at the rate of: (specify\n",
            "%) (State tax withholding must be at least your state's minimum tax rate, either a\n",
            "whole number [e.g., 15%] or a whole and fractional number to one decimal point (e.g., 15.5%], and not more than 99% when combined with\n",
            "federal income tax withholding.)\n",
            "If you move between states with differing income tax withholding laws, Schwab will apply state income tax withholding (if required) at the rate you have\n",
            "provided above or at the minimum rate based on the laws for your new state of residency, whichever is higher.\n",
            "SIMPLE IRA. Note: This form can only be used to add participants to an existing plan.\n",
            "SIMPLE IRA\n",
            "Name of Business\n",
            "Employer's Group Plan Number\n",
            "Simplified Employee Pension IRA (SEP-IRA). (Select only one). Note: Application must include Adoption Agreement and Employer's Agreement.\n",
            "O SEP-IRA\n",
            "O SARSEP-IRA\n",
            "Name of Business\n",
            "2. Account Holder Information\n",
            "Name (First)\n",
            "(Middle)\n",
            "(Last)\n",
            "Sliva\n",
            "Karen\n",
            "А.\n",
            "Mother's Maiden Name\n",
            "Are you known by another name? Specify:\n",
            "Edward V Davis\n",
            "State\n",
            "Zip Code\n",
            "Melissa R Waterbury\n",
            "City\n",
            "Clinchport\n",
            "City\n",
            "San Francisco\n",
            "Virginia\n",
            "24244\n",
            "State\n",
            "Zip Code\n",
            "California\n",
            "94103\n",
            "Home/Legal Street Address (No P.O. boxes, please)\n",
            "213 Payne Street\n",
            "Mailing Address (If different from above; P.O. boxes may be used.)\n",
            "4715 Sycamore Street\n",
            "Home Telephone Number\n",
            "(541) 754-3016\n",
            "Social Security/Tax ID Number\n",
            "337-01-4322\n",
            "Cellular Telephone Number\n",
            "Business Telephone Number\n",
            "(541) 754-3056\n",
            "Date of Birth (mm/dd/yyyy)\n",
            "10/25/1989\n",
            "Email Address*\n",
            "Karen@gmail.com\n",
            "Country(ies) of Citizenship (Must list all; if not a U.S. citizen, please complete identification information below.)\n",
            "Country of Legal Residence\n",
            "USA\n",
            "Other:\n",
            "USA Other:\n",
            "Other:\n",
            "Country of Birth (Required for foreign citizens and/or foreign residents only.)\n",
            "By providing your email address, you consent to receiving email from Schwab. Information about opting out of certain email communications is\n",
            "provided at www.schwab.com/privacy.\n",
            "ESIG\n",
            "©2019 Charles Schwab & Co., Inc. (\"Schwab\"). All rights reserved. Member SIPC.\n",
            "CC2416646 (0519-9GXP) APP10539-50 (05/19)\n",
            "* A P P 1 0 5 3 9 - 5 O\n",
            "0 2 *\n",
            "\n"
          ],
          "name": "stdout"
        }
      ]
    },
    {
      "cell_type": "code",
      "metadata": {
        "id": "jsKEV20doogR",
        "colab_type": "code",
        "outputId": "54523f0c-fdf2-4f14-915c-89e3a94c0d50",
        "colab": {
          "base_uri": "https://localhost:8080/",
          "height": 151
        }
      },
      "source": [
        "new_pdf = '/content/Karen_A_Sliva_.jpg'\n",
        "result = predict_ocr_ner(new_pdf)\n",
        "result"
      ],
      "execution_count": 0,
      "outputs": [
        {
          "output_type": "stream",
          "text": [
            "/content/Karen_A_Sliva_.jpg\n",
            "Karen_A_Sliva_.jpg\n",
            "Texts:\n"
          ],
          "name": "stdout"
        },
        {
          "output_type": "execute_result",
          "data": {
            "text/plain": [
              "[('Edward V Davis', 'CLIENT'),\n",
              " ('213 Payne Street', 'ADDRESS'),\n",
              " ('337-01-4322', 'SOCIAL_SECURITY_NO'),\n",
              " ('(541) 754-3056', 'PHONE'),\n",
              " ('Karen@gmail.com', 'EMAIL')]"
            ]
          },
          "metadata": {
            "tags": []
          },
          "execution_count": 82
        }
      ]
    },
    {
      "cell_type": "code",
      "metadata": {
        "id": "aAnC-Vh6oq-X",
        "colab_type": "code",
        "colab": {}
      },
      "source": [
        "def extract_category(text):\n",
        "    if 'Merrill Lynch'.lower() in text.lower():\n",
        "        CATEGORY = 'Merrill Lynch'.replace(' ', '_')\n",
        "    elif 'Ameritrade'.lower() in text.lower():\n",
        "        CATEGORY = 'Ameritrade'.replace(' ', '_')\n",
        "    elif ('Schwab'.lower() in text.lower()):\n",
        "        CATEGORY = 'Schwab'\n",
        "    return CATEGORY"
      ],
      "execution_count": 0,
      "outputs": []
    },
    {
      "cell_type": "code",
      "metadata": {
        "id": "g0uTQ2YlotL1",
        "colab_type": "code",
        "outputId": "3cb76cac-d6e7-416a-9d8c-56430d79f3fd",
        "colab": {
          "base_uri": "https://localhost:8080/",
          "height": 34
        }
      },
      "source": [
        "extract_category('A Schwab Qualified Plan is a Schwab Profit Sharing Qualified Retirement Plan or Keogh, a Schwab Individual 401(k), or a Schwab 403(b)(7) Account.')"
      ],
      "execution_count": 0,
      "outputs": [
        {
          "output_type": "execute_result",
          "data": {
            "text/plain": [
              "'Schwab'"
            ]
          },
          "metadata": {
            "tags": []
          },
          "execution_count": 84
        }
      ]
    },
    {
      "cell_type": "markdown",
      "metadata": {
        "id": "eTRQs-lmpB0j",
        "colab_type": "text"
      },
      "source": [
        "## **TEXT CLASSIFICATION/ ANALYSIS USING [LSTM (Long Short Term Memory)]**\n",
        "In this final step we perform, sentiment analysis over the text, saved in an CSV File, using the LSTM Architecture to predict the category of the form (i.e the company to which the form belongs).\n",
        "\n",
        "**Input:-** Results from NER\n",
        "\n",
        "**Output:-** *Category* ['Merrill Lynch', 'Charles Schwab'.......] \n"
      ]
    },
    {
      "cell_type": "code",
      "metadata": {
        "id": "kI4i3F1eou-_",
        "colab_type": "code",
        "colab": {}
      },
      "source": [
        "import pandas as pd\n",
        "import numpy as np\n"
      ],
      "execution_count": 0,
      "outputs": []
    },
    {
      "cell_type": "code",
      "metadata": {
        "id": "44G5WYfPpJOT",
        "colab_type": "code",
        "colab": {}
      },
      "source": [
        "path = '/content/drive/My Drive/UPDATED_IRA.csv'"
      ],
      "execution_count": 0,
      "outputs": []
    },
    {
      "cell_type": "code",
      "metadata": {
        "id": "hOWQYDfipKoQ",
        "colab_type": "code",
        "colab": {}
      },
      "source": [
        "df = pd.read_csv(path, encoding = 'unicode_escape')"
      ],
      "execution_count": 0,
      "outputs": []
    },
    {
      "cell_type": "code",
      "metadata": {
        "id": "3KsxkqQ9pNB0",
        "colab_type": "code",
        "colab": {}
      },
      "source": [
        "import torch\n",
        "from torchtext import data"
      ],
      "execution_count": 0,
      "outputs": []
    },
    {
      "cell_type": "code",
      "metadata": {
        "id": "Lk3WHrCRpOeL",
        "colab_type": "code",
        "colab": {}
      },
      "source": [
        "TEXT = data.Field(tokenize = 'spacy', lower = True)\n",
        "LABEL = data.LabelField()"
      ],
      "execution_count": 0,
      "outputs": []
    },
    {
      "cell_type": "code",
      "metadata": {
        "id": "3bi44J8npQjl",
        "colab_type": "code",
        "colab": {}
      },
      "source": [
        "fields = [('sl', TEXT), ('category', LABEL), ('title', TEXT), ('social_number', TEXT), ('acc_type', TEXT), ('city', TEXT)]"
      ],
      "execution_count": 0,
      "outputs": []
    },
    {
      "cell_type": "code",
      "metadata": {
        "id": "CPFZLEp_pR6F",
        "colab_type": "code",
        "colab": {}
      },
      "source": [
        "news = data.TabularDataset(\n",
        "    path=path, format='csv',\n",
        "    fields = fields,\n",
        "    skip_header= True)\n"
      ],
      "execution_count": 0,
      "outputs": []
    },
    {
      "cell_type": "code",
      "metadata": {
        "id": "fCTwvT9hpTdY",
        "colab_type": "code",
        "colab": {}
      },
      "source": [
        "import random\n",
        "SEED = 1234\n",
        "\n",
        "trn, vld, tst = news.split(split_ratio=[0.7, 0.2, 0.1], random_state = random.seed(SEED))"
      ],
      "execution_count": 0,
      "outputs": []
    },
    {
      "cell_type": "code",
      "metadata": {
        "id": "bjjZFSTYpVBL",
        "colab_type": "code",
        "outputId": "967ec62e-1616-4d88-a92b-599830313381",
        "colab": {
          "base_uri": "https://localhost:8080/",
          "height": 118
        }
      },
      "source": [
        "vars(trn[0])     "
      ],
      "execution_count": 0,
      "outputs": [
        {
          "output_type": "execute_result",
          "data": {
            "text/plain": [
              "{'acc_type': ['cost'],\n",
              " 'category': 'Ameritrade Institutional',\n",
              " 'city': [],\n",
              " 'sl': ['56'],\n",
              " 'social_number': ['404711411'],\n",
              " 'title': ['account', 'transfer', 'form']}"
            ]
          },
          "metadata": {
            "tags": []
          },
          "execution_count": 93
        }
      ]
    },
    {
      "cell_type": "code",
      "metadata": {
        "id": "W6CIrXRmpX3v",
        "colab_type": "code",
        "outputId": "bfee632a-c5cd-4cd8-8e1f-d66dc010cdd1",
        "colab": {
          "base_uri": "https://localhost:8080/",
          "height": 50
        }
      },
      "source": [
        "TEXT.build_vocab(trn, \n",
        "                 vectors = \"glove.6B.100d\", \n",
        "                 unk_init = torch.Tensor.normal_)\n",
        "\n",
        "LABEL.build_vocab(trn)"
      ],
      "execution_count": 0,
      "outputs": [
        {
          "output_type": "stream",
          "text": [
            ".vector_cache/glove.6B.zip: 862MB [06:28, 2.22MB/s]                           \n",
            "100%|█████████▉| 399833/400000 [00:17<00:00, 23182.63it/s]"
          ],
          "name": "stderr"
        }
      ]
    },
    {
      "cell_type": "code",
      "metadata": {
        "id": "nEsxjKFCpaA8",
        "colab_type": "code",
        "outputId": "a71bbc3a-0abb-4b48-ea98-fa5a5196565e",
        "colab": {
          "base_uri": "https://localhost:8080/",
          "height": 50
        }
      },
      "source": [
        "print(len(TEXT.vocab))\n",
        "print(len(LABEL.vocab))"
      ],
      "execution_count": 0,
      "outputs": [
        {
          "output_type": "stream",
          "text": [
            "161\n",
            "3\n"
          ],
          "name": "stdout"
        }
      ]
    },
    {
      "cell_type": "code",
      "metadata": {
        "id": "Rf7_BhOArQsE",
        "colab_type": "code",
        "outputId": "1c8e5300-acf3-4405-eab2-59dfbcac5dc6",
        "colab": {
          "base_uri": "https://localhost:8080/",
          "height": 34
        }
      },
      "source": [
        "print(LABEL.vocab.stoi)"
      ],
      "execution_count": 0,
      "outputs": [
        {
          "output_type": "stream",
          "text": [
            "defaultdict(<function _default_unk_index at 0x7fb044560620>, {'Ameritrade Institutional': 0, 'Merrilllynch_CRA': 1, 'Schwab_IRA': 2})\n"
          ],
          "name": "stdout"
        }
      ]
    },
    {
      "cell_type": "code",
      "metadata": {
        "id": "WRT-JEQ9rSb3",
        "colab_type": "code",
        "colab": {}
      },
      "source": [
        "BATCH_SIZE = 64\n",
        "\n",
        "device = torch.device('cuda' if torch.cuda.is_available() else 'cpu')\n",
        "\n",
        "train_iterator, valid_iterator, test_iterator = data.BucketIterator.splits(\n",
        "    (trn, vld, tst), \n",
        "    batch_size = BATCH_SIZE, \n",
        "    device = device,\n",
        "    sort_key= lambda x:x.title, \n",
        "    sort_within_batch= False\n",
        "    )"
      ],
      "execution_count": 0,
      "outputs": []
    },
    {
      "cell_type": "code",
      "metadata": {
        "id": "qwPB-HLRrUib",
        "colab_type": "code",
        "colab": {}
      },
      "source": [
        "import torch.nn as nn\n",
        "\n",
        "class RNN(nn.Module):\n",
        "    def __init__(self, vocab_size, embedding_dim, hidden_dim, output_dim, n_layers, bidirectional, dropout):\n",
        "        \n",
        "        super().__init__()\n",
        "                \n",
        "        self.embedding = nn.Embedding(vocab_size, embedding_dim)\n",
        "        \n",
        "        \n",
        "        self.lstm_title = nn.LSTM(embedding_dim, hidden_dim, num_layers = n_layers, bidirectional = bidirectional, dropout = dropout)\n",
        "        self.lstm_social_number = nn.LSTM(embedding_dim, hidden_dim, num_layers = n_layers, bidirectional = bidirectional, dropout = dropout)\n",
        "        self.lstm_account_type = nn.LSTM(embedding_dim, hidden_dim, num_layers = n_layers, bidirectional = bidirectional, dropout = dropout)\n",
        "        self.lstm_city = nn.LSTM(embedding_dim, hidden_dim, num_layers = n_layers, bidirectional = bidirectional, dropout = dropout)\n",
        "\n",
        "\n",
        "        self.fc_title = nn.Linear(hidden_dim * 2, 100)\n",
        "        self.fc_social_number = nn.Linear(hidden_dim * 2, 100)\n",
        "        self.fc_account_type = nn.Linear(hidden_dim * 2, 100)\n",
        "        self.fc_city = nn.Linear(hidden_dim * 2, 100)\n",
        "\n",
        "        self.fc_total = nn.Linear(400, output_dim)\n",
        "\n",
        "        self.dropout = nn.Dropout(dropout)\n",
        "    def forward(self, title, social_number, acc_type, city):\n",
        "      embedded_title = self.dropout(self.embedding(title))\n",
        "      embedded_social_number = self.dropout(self.embedding(social_number))\n",
        "      embedded_acc_type = self.dropout(self.embedding(acc_type))\n",
        "      embedded_city = self.dropout(self.embedding(city))\n",
        "\n",
        "      output_title, (hidden_title, cell_title) = self.lstm_title(embedded_title)\n",
        "      output_social_number, (hidden_social_number, cell_social_number) = self.lstm_social_number(embedded_social_number)\n",
        "      output_account_type, (hidden_account_type, cell_account_type) = self.lstm_account_type(embedded_acc_type)\n",
        "      output_city, (hidden_city, cell_city) = self.lstm_city(embedded_city)\n",
        "\n",
        "      hidden_title = self.dropout(torch.cat((hidden_title[-2, :, :], hidden_title[-1, :, :]), dim = 1))\n",
        "      hidden_social_number = self.dropout(torch.cat((hidden_social_number[-2, :, :], hidden_social_number[-1, :, :]), dim = 1))\n",
        "      hidden_account_type = self.dropout(torch.cat((hidden_account_type[-2, :, :], hidden_account_type[-1, :, :]), dim = 1))\n",
        "      hidden_city = self.dropout(torch.cat((hidden_city[-2, :, :], hidden_city[-1, :, :]), dim = 1))\n",
        "\n",
        "      full_title = self.fc_title(hidden_title)\n",
        "      full_social_number = self.fc_social_number(hidden_social_number)\n",
        "      full_account_type = self.fc_city(hidden_account_type)\n",
        "      full_city = self.fc_city(hidden_city)\n",
        "\n",
        "      hidden_total = torch.cat((full_title, full_social_number, full_account_type, full_city), 1)\n",
        "        \n",
        "      return self.fc_total(hidden_total)\n",
        "        ############################################################################################################################        \n",
        "\n",
        "     "
      ],
      "execution_count": 0,
      "outputs": []
    },
    {
      "cell_type": "code",
      "metadata": {
        "id": "w2fTfK0trWcU",
        "colab_type": "code",
        "colab": {}
      },
      "source": [
        "INPUT_DIM = len(TEXT.vocab)\n",
        "EMBEDDING_DIM = 100\n",
        "HIDDEN_DIM = 256\n",
        "OUTPUT_DIM = 3\n",
        "N_LAYERS = 2\n",
        "BIDIRECTIONAL = True\n",
        "DROPOUT = 0.2\n",
        "\n",
        "model = RNN(INPUT_DIM, EMBEDDING_DIM, HIDDEN_DIM, OUTPUT_DIM, N_LAYERS, BIDIRECTIONAL, DROPOUT)"
      ],
      "execution_count": 0,
      "outputs": []
    },
    {
      "cell_type": "code",
      "metadata": {
        "id": "W3Fh_ABqrYd4",
        "colab_type": "code",
        "outputId": "6a16dc60-39a5-41ed-93d2-9493d4329477",
        "colab": {
          "base_uri": "https://localhost:8080/",
          "height": 34
        }
      },
      "source": [
        "def count_parameters(model):\n",
        "    return sum(p.numel() for p in model.parameters() if p.requires_grad)\n",
        "\n",
        "print(f'The model has {count_parameters(model):,} trainable parameters')"
      ],
      "execution_count": 0,
      "outputs": [
        {
          "output_type": "stream",
          "text": [
            "The model has 9,463,079 trainable parameters\n"
          ],
          "name": "stdout"
        }
      ]
    },
    {
      "cell_type": "code",
      "metadata": {
        "id": "xjNMgNUnraRC",
        "colab_type": "code",
        "outputId": "b33f50ae-6690-4c34-c665-2210704f4737",
        "colab": {
          "base_uri": "https://localhost:8080/",
          "height": 34
        }
      },
      "source": [
        "pretrained_embeddings = TEXT.vocab.vectors\n",
        "\n",
        "print(pretrained_embeddings.shape)"
      ],
      "execution_count": 0,
      "outputs": [
        {
          "output_type": "stream",
          "text": [
            "torch.Size([161, 100])\n"
          ],
          "name": "stdout"
        }
      ]
    },
    {
      "cell_type": "code",
      "metadata": {
        "id": "RTYbhx8CrcTm",
        "colab_type": "code",
        "outputId": "2f932469-3ab4-4739-8893-2b62c9bf4c68",
        "colab": {
          "base_uri": "https://localhost:8080/",
          "height": 134
        }
      },
      "source": [
        "model.embedding.weight.data.copy_(pretrained_embeddings)"
      ],
      "execution_count": 0,
      "outputs": [
        {
          "output_type": "execute_result",
          "data": {
            "text/plain": [
              "tensor([[ 2.1616, -0.4299,  0.5180,  ...,  0.3033, -0.8801,  2.3416],\n",
              "        [ 1.3974,  0.6581, -0.8651,  ...,  1.8473,  0.7218,  1.3600],\n",
              "        [-0.0435,  0.0862,  0.4374,  ..., -0.7887,  0.1349,  0.0740],\n",
              "        ...,\n",
              "        [-0.2205, -0.1132,  0.9428,  ..., -0.3273,  0.6302,  0.3625],\n",
              "        [ 0.8752, -0.3354, -0.1811,  ...,  0.0128,  0.1501,  0.7170],\n",
              "        [ 0.4839, -0.1108,  0.1670,  ...,  0.2057,  1.0885, -0.3995]])"
            ]
          },
          "metadata": {
            "tags": []
          },
          "execution_count": 102
        }
      ]
    },
    {
      "cell_type": "code",
      "metadata": {
        "id": "O_zwnCDcreVc",
        "colab_type": "code",
        "colab": {}
      },
      "source": [
        "import torch.optim as optim\n",
        "\n",
        "optimizer = optim.Adam(model.parameters())"
      ],
      "execution_count": 0,
      "outputs": []
    },
    {
      "cell_type": "code",
      "metadata": {
        "id": "sRvkXanfriAS",
        "colab_type": "code",
        "colab": {}
      },
      "source": [
        "criterion = nn.CrossEntropyLoss()\n",
        "\n",
        "model = model.to(device)\n",
        "criterion = criterion.to(device)"
      ],
      "execution_count": 0,
      "outputs": []
    },
    {
      "cell_type": "code",
      "metadata": {
        "id": "-c2AI1R8rjiz",
        "colab_type": "code",
        "colab": {}
      },
      "source": [
        "def categorical_accuracy(preds, y):\n",
        "    max_preds = preds.argmax(dim = 1, keepdim = True)\n",
        "    correct = max_preds.squeeze(1).eq(y)\n",
        "    return correct.sum() / torch.FloatTensor([y.shape[0]])"
      ],
      "execution_count": 0,
      "outputs": []
    },
    {
      "cell_type": "code",
      "metadata": {
        "id": "ZB0nSriurlEs",
        "colab_type": "code",
        "colab": {}
      },
      "source": [
        "def train(model, iterator, optimizer, criterion):\n",
        "    \n",
        "    epoch_loss = 0\n",
        "    epoch_acc = 0\n",
        "    \n",
        "    model.train()\n",
        "    \n",
        "    for batch in iterator:\n",
        "        \n",
        "        optimizer.zero_grad()\n",
        "                        \n",
        "        predictions = model(batch.title, batch.social_number, batch.acc_type, batch.city).squeeze(1)\n",
        "        \n",
        "        loss = criterion(predictions, batch.category)\n",
        "        \n",
        "        acc = categorical_accuracy(predictions, batch.category)\n",
        "        \n",
        "        loss.backward()\n",
        "        \n",
        "        optimizer.step()\n",
        "        \n",
        "        epoch_loss += loss.item()\n",
        "        epoch_acc += acc.item()\n",
        "        \n",
        "    return epoch_loss / len(iterator), epoch_acc / len(iterator)"
      ],
      "execution_count": 0,
      "outputs": []
    },
    {
      "cell_type": "code",
      "metadata": {
        "id": "mD0rwsZPrnBB",
        "colab_type": "code",
        "colab": {}
      },
      "source": [
        "def evaluate(model, iterator, criterion):\n",
        "    \n",
        "    epoch_loss = 0\n",
        "    epoch_acc = 0\n",
        "    \n",
        "    model.eval()\n",
        "    \n",
        "    with torch.no_grad():\n",
        "    \n",
        "        for batch in iterator:\n",
        "            \n",
        "            predictions = model(batch.title, batch.social_number, batch.acc_type, batch.city).squeeze(1) \n",
        "            \n",
        "            loss = criterion(predictions, batch.category)\n",
        "            \n",
        "            acc = categorical_accuracy(predictions, batch.title)\n",
        "\n",
        "            epoch_loss += loss.item()\n",
        "            epoch_acc += acc.item()\n",
        "        \n",
        "    return epoch_loss / len(iterator), epoch_acc / len(iterator)\n"
      ],
      "execution_count": 0,
      "outputs": []
    },
    {
      "cell_type": "code",
      "metadata": {
        "id": "UpNaZRpErpFJ",
        "colab_type": "code",
        "colab": {}
      },
      "source": [
        "import time\n",
        "\n",
        "def epoch_time(start_time, end_time):\n",
        "    elapsed_time = end_time - start_time\n",
        "    elapsed_mins = int(elapsed_time / 60)\n",
        "    elapsed_secs = int(elapsed_time - (elapsed_mins * 60))\n",
        "    return elapsed_mins, elapsed_secs\n"
      ],
      "execution_count": 0,
      "outputs": []
    },
    {
      "cell_type": "code",
      "metadata": {
        "id": "0dFNIWGHrqeg",
        "colab_type": "code",
        "outputId": "08458fae-c88f-43de-dd77-daf0f078326f",
        "colab": {
          "base_uri": "https://localhost:8080/",
          "height": 269
        }
      },
      "source": [
        "N_EPOCHS = 5\n",
        "\n",
        "best_valid_loss = float('inf')\n",
        "\n",
        "for epoch in range(N_EPOCHS):\n",
        "\n",
        "    start_time = time.time()\n",
        "    \n",
        "    train_loss, train_acc = train(model, train_iterator, optimizer, criterion)\n",
        "    valid_loss, valid_acc = evaluate(model, valid_iterator, criterion)\n",
        "    \n",
        "    end_time = time.time()\n",
        "\n",
        "    epoch_mins, epoch_secs = epoch_time(start_time, end_time)\n",
        "    \n",
        "    if valid_loss < best_valid_loss:\n",
        "        best_valid_loss = valid_loss\n",
        "        torch.save(model.state_dict(), 'news_classification_model.pt')\n",
        "    \n",
        "    print(f'Epoch: {epoch+1:02} | Epoch Time: {epoch_mins}m {epoch_secs}s')\n",
        "    print(f'\\tTrain Loss: {train_loss:.3f} | Train Acc: {train_acc*100:.2f}%')\n",
        "    print(f'\\t Val. Loss: {valid_loss:.3f} |  Val. Acc: {valid_acc*100:.2f}%')"
      ],
      "execution_count": 0,
      "outputs": [
        {
          "output_type": "stream",
          "text": [
            "Epoch: 01 | Epoch Time: 0m 0s\n",
            "\tTrain Loss: 1.106 | Train Acc: 16.00%\n",
            "\t Val. Loss: 0.906 |  Val. Acc: 0.00%\n",
            "Epoch: 02 | Epoch Time: 0m 0s\n",
            "\tTrain Loss: 0.928 | Train Acc: 52.00%\n",
            "\t Val. Loss: 0.668 |  Val. Acc: 0.00%\n",
            "Epoch: 03 | Epoch Time: 0m 0s\n",
            "\tTrain Loss: 0.760 | Train Acc: 52.00%\n",
            "\t Val. Loss: 0.445 |  Val. Acc: 0.00%\n",
            "Epoch: 04 | Epoch Time: 0m 0s\n",
            "\tTrain Loss: 0.624 | Train Acc: 52.00%\n",
            "\t Val. Loss: 0.313 |  Val. Acc: 0.00%\n",
            "Epoch: 05 | Epoch Time: 0m 0s\n",
            "\tTrain Loss: 0.443 | Train Acc: 74.00%\n",
            "\t Val. Loss: 0.214 |  Val. Acc: 0.00%\n"
          ],
          "name": "stdout"
        }
      ]
    },
    {
      "cell_type": "code",
      "metadata": {
        "id": "5cj1nNaSrr_l",
        "colab_type": "code",
        "outputId": "b2575758-b224-4fa5-9e09-5a4c65bb8f25",
        "colab": {
          "base_uri": "https://localhost:8080/",
          "height": 34
        }
      },
      "source": [
        "test_loss, test_acc = evaluate(model, test_iterator, criterion)\n",
        "\n",
        "print(f'Test Loss: {test_loss:.3f} | Test Acc: {test_acc*100:.2f}%')"
      ],
      "execution_count": 0,
      "outputs": [
        {
          "output_type": "stream",
          "text": [
            "Test Loss: 0.235 | Test Acc: 75.00%\n"
          ],
          "name": "stdout"
        }
      ]
    },
    {
      "cell_type": "code",
      "metadata": {
        "id": "Xr1TZXV2rvOo",
        "colab_type": "code",
        "colab": {}
      },
      "source": [
        "import spacy\n",
        "nlp = spacy.load('en')\n",
        "\n",
        "def predict_category(model, title, social_security_number, account_type, city):\n",
        "    model.eval()\n",
        "    title = title.lower()\n",
        "    social_security_number = social_security_number.lower()\n",
        "    account_type = account_type.lower()\n",
        "    city = city.lower()\n",
        "   \n",
        "\n",
        "    tokenized_title = [tok.text for tok in nlp.tokenizer(title)]\n",
        "    tokenized_social_security_number = [tok.text for tok in nlp.tokenizer(social_security_number)]\n",
        "    tokenized_account_type = [tok.text for tok in nlp.tokenizer(account_type)]\n",
        "    tokenized_city = [tok.text for tok in nlp.tokenizer(city)]\n",
        "\n",
        "   \n",
        "    indexed_title = [TEXT.vocab.stoi[t] for t in tokenized_title]\n",
        "    indexed_social_security_number = [TEXT.vocab.stoi[t] for t in tokenized_social_security_number]\n",
        "    indexed_account_type = [TEXT.vocab.stoi[t] for t in tokenized_account_type]\n",
        "    indexed_city = [TEXT.vocab.stoi[t] for t in tokenized_city]\n",
        "    \n",
        "    \n",
        "  \n",
        "    tensor_title = torch.LongTensor(indexed_title).to(device)\n",
        "    tensor_social_security_number = torch.LongTensor(indexed_social_security_number).to(device)\n",
        "    tensor_account_type = torch.LongTensor(indexed_account_type).to(device)\n",
        "    tensor_city = torch.LongTensor(indexed_city).to(device)\n",
        "  \n",
        "    \n",
        "    \n",
        "    tensor_title = tensor_title.unsqueeze(1)\n",
        "    tensor_social_security_number = tensor_social_security_number.unsqueeze(1)\n",
        "    tensor_account_type = tensor_account_type.unsqueeze(1)\n",
        "    tensor_city = tensor_city.unsqueeze(1)\n",
        "\n",
        "    prediction = model(tensor_title, tensor_social_security_number, tensor_account_type, tensor_city)\n",
        "    max_pred = prediction.argmax(dim=1)\n",
        "    return max_pred.item()"
      ],
      "execution_count": 0,
      "outputs": []
    },
    {
      "cell_type": "code",
      "metadata": {
        "id": "87aDMoHOrw-S",
        "colab_type": "code",
        "outputId": "d689c4a8-f43b-4233-cffc-0a85f5d8fef8",
        "colab": {
          "base_uri": "https://localhost:8080/",
          "height": 34
        }
      },
      "source": [
        "pred = predict_category(model, \"Client Account Transfer Form\", \"545401875\", \"IRA\", \"Boston, MA,02210\")\n",
        "print(f'Predicted category is: {pred} = {LABEL.vocab.itos[pred]}')"
      ],
      "execution_count": 0,
      "outputs": [
        {
          "output_type": "stream",
          "text": [
            "Predicted category is: 1 = Merrilllynch_CRA\n"
          ],
          "name": "stdout"
        }
      ]
    },
    {
      "cell_type": "code",
      "metadata": {
        "id": "EYdLSCl0ry6Y",
        "colab_type": "code",
        "outputId": "199c5d33-4af4-425a-c6e4-2c3c12243b40",
        "colab": {
          "base_uri": "https://localhost:8080/",
          "height": 34
        }
      },
      "source": [
        "pred = predict_category(model, \"Account Application\", \"360-80-6429\", \"IRA\", \"Appling, Georgia\")\n",
        "print(f'Predicted category is: {pred} = {LABEL.vocab.itos[pred]}')"
      ],
      "execution_count": 0,
      "outputs": [
        {
          "output_type": "stream",
          "text": [
            "Predicted category is: 2 = Schwab_IRA\n"
          ],
          "name": "stdout"
        }
      ]
    },
    {
      "cell_type": "code",
      "metadata": {
        "id": "kRE1EBSWv-mM",
        "colab_type": "code",
        "colab": {}
      },
      "source": [
        ""
      ],
      "execution_count": 0,
      "outputs": []
    },
    {
      "cell_type": "markdown",
      "metadata": {
        "id": "gdWSjeQlF_6V",
        "colab_type": "text"
      },
      "source": [
        "# By:- Saksham Dubey and Satish Patnaik, \n",
        "# Under the guidance and supervision of **Mr. Sheik Dawood**"
      ]
    }
  ]
}