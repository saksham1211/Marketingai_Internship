{
  "nbformat": 4,
  "nbformat_minor": 0,
  "metadata": {
    "colab": {
      "name": "Sentiment_Analysis_Using LSTM.ipynb",
      "provenance": [],
      "collapsed_sections": [],
      "mount_file_id": "1x1st-zfEaFK4iiPCPppUkbRewGeB6bDS",
      "authorship_tag": "ABX9TyMcwkx0lN60bCZKvlRFw4Ff",
      "include_colab_link": true
    },
    "kernelspec": {
      "name": "python3",
      "display_name": "Python 3"
    }
  },
  "cells": [
    {
      "cell_type": "markdown",
      "metadata": {
        "id": "view-in-github",
        "colab_type": "text"
      },
      "source": [
        "<a href=\"https://colab.research.google.com/github/saksham1211/Marketingai_Internship/blob/master/Sentiment_Analysis_Using_LSTM.ipynb\" target=\"_parent\"><img src=\"https://colab.research.google.com/assets/colab-badge.svg\" alt=\"Open In Colab\"/></a>"
      ]
    },
    {
      "cell_type": "code",
      "metadata": {
        "id": "geeYAd1DRhdD",
        "colab_type": "code",
        "colab": {}
      },
      "source": [
        "import torch\n",
        "from torchtext import data\n",
        "import pandas as pd\n",
        "import numpy as np\n"
      ],
      "execution_count": 0,
      "outputs": []
    },
    {
      "cell_type": "code",
      "metadata": {
        "id": "rOHCfZgtU7Oa",
        "colab_type": "code",
        "colab": {}
      },
      "source": [
        "SEED = 1234\n",
        "TEXT = data.Field(tokenize = 'spacy', lower = True)\n",
        "LABEL = data.LabelField()"
      ],
      "execution_count": 0,
      "outputs": []
    },
    {
      "cell_type": "code",
      "metadata": {
        "id": "E8aFXsw2U802",
        "colab_type": "code",
        "colab": {}
      },
      "source": [
        "path = '/content/drive/My Drive/data/own_news_dataset.json'"
      ],
      "execution_count": 0,
      "outputs": []
    },
    {
      "cell_type": "code",
      "metadata": {
        "id": "y7O1yqwdVJ4g",
        "colab_type": "code",
        "colab": {
          "base_uri": "https://localhost:8080/",
          "height": 289
        },
        "outputId": "4809013f-028b-4c7c-bdd4-34db0dc78749"
      },
      "source": [
        "df = pd.read_json(path, lines=True)\n",
        "df.head()"
      ],
      "execution_count": 428,
      "outputs": [
        {
          "output_type": "execute_result",
          "data": {
            "text/html": [
              "<div>\n",
              "<style scoped>\n",
              "    .dataframe tbody tr th:only-of-type {\n",
              "        vertical-align: middle;\n",
              "    }\n",
              "\n",
              "    .dataframe tbody tr th {\n",
              "        vertical-align: top;\n",
              "    }\n",
              "\n",
              "    .dataframe thead th {\n",
              "        text-align: right;\n",
              "    }\n",
              "</style>\n",
              "<table border=\"1\" class=\"dataframe\">\n",
              "  <thead>\n",
              "    <tr style=\"text-align: right;\">\n",
              "      <th></th>\n",
              "      <th>category</th>\n",
              "      <th>headline</th>\n",
              "      <th>authors</th>\n",
              "      <th>link</th>\n",
              "      <th>short_description</th>\n",
              "      <th>date</th>\n",
              "    </tr>\n",
              "  </thead>\n",
              "  <tbody>\n",
              "    <tr>\n",
              "      <th>0</th>\n",
              "      <td>ENTERTAINMENT</td>\n",
              "      <td>Jennifer Holliday Won't Perform At Donald Trum...</td>\n",
              "      <td>Paige Lavender</td>\n",
              "      <td>https://www.huffingtonpost.com/entry/jennifer-...</td>\n",
              "      <td>She apologized to the LGBT community for \"bein...</td>\n",
              "      <td>2017-01-14</td>\n",
              "    </tr>\n",
              "    <tr>\n",
              "      <th>1</th>\n",
              "      <td>WEIRD NEWS</td>\n",
              "      <td>Girl Held At Gunpoint Refused To Give Up Chick...</td>\n",
              "      <td>Hilary Hanson</td>\n",
              "      <td>https://www.huffingtonpost.com/entry/gunpoint-...</td>\n",
              "      <td>She reportedly smacked the gun away and told h...</td>\n",
              "      <td>2017-01-14</td>\n",
              "    </tr>\n",
              "    <tr>\n",
              "      <th>2</th>\n",
              "      <td>POLITICS</td>\n",
              "      <td>Sephora Is Selling An Eyeshadow Named 'Druggie...</td>\n",
              "      <td>Ryan Grim and Landess Kearns</td>\n",
              "      <td>https://www.huffingtonpost.com/entry/sephora-u...</td>\n",
              "      <td>In the midst of the nation's drug epidemic, we...</td>\n",
              "      <td>2017-01-14</td>\n",
              "    </tr>\n",
              "    <tr>\n",
              "      <th>3</th>\n",
              "      <td>POLITICS</td>\n",
              "      <td>The Obamas Are Ready To Get Out Of The White H...</td>\n",
              "      <td>Mollie Reilly</td>\n",
              "      <td>https://www.huffingtonpost.com/entry/obama-fam...</td>\n",
              "      <td>Life under constant scrutiny \"has gotten prett...</td>\n",
              "      <td>2017-01-14</td>\n",
              "    </tr>\n",
              "    <tr>\n",
              "      <th>4</th>\n",
              "      <td>POLITICS</td>\n",
              "      <td>Undocumented Immigrants Tell Trump They're Not...</td>\n",
              "      <td>Elise Foley</td>\n",
              "      <td>https://www.huffingtonpost.com/entry/immigrati...</td>\n",
              "      <td>Immigrant-rights advocates held more than 70 e...</td>\n",
              "      <td>2017-01-14</td>\n",
              "    </tr>\n",
              "  </tbody>\n",
              "</table>\n",
              "</div>"
            ],
            "text/plain": [
              "        category  ...       date\n",
              "0  ENTERTAINMENT  ... 2017-01-14\n",
              "1     WEIRD NEWS  ... 2017-01-14\n",
              "2       POLITICS  ... 2017-01-14\n",
              "3       POLITICS  ... 2017-01-14\n",
              "4       POLITICS  ... 2017-01-14\n",
              "\n",
              "[5 rows x 6 columns]"
            ]
          },
          "metadata": {
            "tags": []
          },
          "execution_count": 428
        }
      ]
    },
    {
      "cell_type": "code",
      "metadata": {
        "id": "fwlCmxx1VQlT",
        "colab_type": "code",
        "colab": {}
      },
      "source": [
        "news = data.TabularDataset(\n",
        "    path=path, format='json',\n",
        "    fields={'headline': ('headline', TEXT),\n",
        "            'short_description' : ('desc', TEXT),\n",
        "             'category': ('category', LABEL)})"
      ],
      "execution_count": 0,
      "outputs": []
    },
    {
      "cell_type": "code",
      "metadata": {
        "id": "AxdW-MboVsX_",
        "colab_type": "code",
        "colab": {}
      },
      "source": [
        "import random\n",
        "SEED = 1234\n",
        "\n",
        "trn, vld, tst = news.split(split_ratio=[0.6, 0.2, 0.2], random_state = random.seed(SEED))"
      ],
      "execution_count": 0,
      "outputs": []
    },
    {
      "cell_type": "code",
      "metadata": {
        "id": "Or65NNRWV3Sm",
        "colab_type": "code",
        "colab": {
          "base_uri": "https://localhost:8080/",
          "height": 629
        },
        "outputId": "40fcf082-47bd-494a-e715-b41f719a4f5d"
      },
      "source": [
        "vars(trn[0])"
      ],
      "execution_count": 431,
      "outputs": [
        {
          "output_type": "execute_result",
          "data": {
            "text/plain": [
              "{'category': 'POLITICS',\n",
              " 'desc': ['“',\n",
              "  'it',\n",
              "  '’s',\n",
              "  'mind',\n",
              "  '-',\n",
              "  'boggling',\n",
              "  'they',\n",
              "  'could',\n",
              "  'come',\n",
              "  'up',\n",
              "  'with',\n",
              "  'laws',\n",
              "  'like',\n",
              "  'that',\n",
              "  '.',\n",
              "  '”'],\n",
              " 'headline': ['this',\n",
              "  'texas',\n",
              "  'gun',\n",
              "  'owner',\n",
              "  'has',\n",
              "  'been',\n",
              "  'an',\n",
              "  'nra',\n",
              "  'member',\n",
              "  'for',\n",
              "  '46',\n",
              "  'years',\n",
              "  '.',\n",
              "  'now',\n",
              "  'he',\n",
              "  \"'s\",\n",
              "  'speaking',\n",
              "  'out',\n",
              "  '.']}"
            ]
          },
          "metadata": {
            "tags": []
          },
          "execution_count": 431
        }
      ]
    },
    {
      "cell_type": "code",
      "metadata": {
        "id": "uu5yTaOxV3xr",
        "colab_type": "code",
        "colab": {}
      },
      "source": [
        "TEXT.build_vocab(trn, \n",
        "                 vectors = \"glove.6B.100d\", \n",
        "                 unk_init = torch.Tensor.normal_)\n",
        "\n",
        "LABEL.build_vocab(trn)"
      ],
      "execution_count": 0,
      "outputs": []
    },
    {
      "cell_type": "code",
      "metadata": {
        "id": "V20MxKHNV7BL",
        "colab_type": "code",
        "colab": {
          "base_uri": "https://localhost:8080/",
          "height": 51
        },
        "outputId": "867a187b-cd5b-4540-b45d-c356e53dd7ac"
      },
      "source": [
        "print(len(TEXT.vocab))\n",
        "print(len(LABEL.vocab))"
      ],
      "execution_count": 460,
      "outputs": [
        {
          "output_type": "stream",
          "text": [
            "1128\n",
            "19\n"
          ],
          "name": "stdout"
        }
      ]
    },
    {
      "cell_type": "code",
      "metadata": {
        "id": "kW1rNNQBV-p9",
        "colab_type": "code",
        "colab": {
          "base_uri": "https://localhost:8080/",
          "height": 54
        },
        "outputId": "c32774e9-71c2-4826-c231-58b1e84d2611"
      },
      "source": [
        "print(LABEL.vocab.stoi)"
      ],
      "execution_count": 461,
      "outputs": [
        {
          "output_type": "stream",
          "text": [
            "defaultdict(<function _default_unk_index at 0x7f310284aae8>, {'POLITICS': 0, 'ENTERTAINMENT': 1, 'HEALTHY LIVING': 2, 'COMEDY': 3, 'QUEER VOICES': 4, 'THE WORLDPOST': 5, 'BLACK VOICES': 6, 'CRIME': 7, 'STYLE': 8, 'TASTE': 9, 'WEIRD NEWS': 10, 'ARTS & CULTURE': 11, 'GREEN': 12, 'WOMEN': 13, 'BUSINESS': 14, 'LATINO VOICES': 15, 'PARENTS': 16, 'SPORTS': 17, 'TECH': 18})\n"
          ],
          "name": "stdout"
        }
      ]
    },
    {
      "cell_type": "code",
      "metadata": {
        "id": "pqgWrn4DWF3W",
        "colab_type": "code",
        "colab": {}
      },
      "source": [
        "BATCH_SIZE = 64\n",
        "\n",
        "device = torch.device('cuda' if torch.cuda.is_available() else 'cpu')\n",
        "\n",
        "train_iterator, valid_iterator, test_iterator = data.BucketIterator.splits(\n",
        "    (trn, vld, tst), \n",
        "    batch_size = BATCH_SIZE, \n",
        "    device = device,\n",
        "    sort_key= lambda x: len(x.headline), \n",
        "    sort_within_batch= False\n",
        "    )"
      ],
      "execution_count": 0,
      "outputs": []
    },
    {
      "cell_type": "code",
      "metadata": {
        "id": "LmIdOtgCWHjg",
        "colab_type": "code",
        "colab": {}
      },
      "source": [
        "import torch.nn as nn\n",
        "\n",
        "class RNN(nn.Module):\n",
        "    def __init__(self, vocab_size, embedding_dim, hidden_dim, output_dim, n_layers, bidirectional, dropout):\n",
        "        \n",
        "        super().__init__()\n",
        "                \n",
        "        self.embedding = nn.Embedding(vocab_size, embedding_dim)\n",
        "        \n",
        "        self.lstm_head = nn.LSTM(embedding_dim, hidden_dim, num_layers = n_layers, bidirectional = bidirectional, dropout = dropout)\n",
        "        \n",
        "        self.lstm_desc = nn.LSTM(embedding_dim, hidden_dim, num_layers = n_layers, bidirectional = bidirectional, dropout = dropout)\n",
        "        \n",
        "        self.fc_head = nn.Linear(hidden_dim * 2, 100)\n",
        "        \n",
        "        self.fc_desc = nn.Linear(hidden_dim * 2, 100)\n",
        "        \n",
        "        self.fc_total = nn.Linear(200, output_dim)\n",
        "        \n",
        "        self.dropout = nn.Dropout(dropout)\n",
        "                \n",
        "    def forward(self, headline, description):\n",
        "                        \n",
        "        embedded_head = self.dropout(self.embedding(headline))\n",
        "        \n",
        "        embedded_desc = self.dropout(self.embedding(description))\n",
        "                                    \n",
        "        output_head, (hidden_head, cell_head) = self.lstm_head(embedded_head)\n",
        "        \n",
        "        output_desc, (hidden_desc, cell_desc) = self.lstm_desc(embedded_desc)\n",
        "        \n",
        "        hidden_head = self.dropout(torch.cat((hidden_head[-2, :, :], hidden_head[-1, :, :]), dim = 1))\n",
        "        \n",
        "        hidden_desc = self.dropout(torch.cat((hidden_desc[-2, :, :], hidden_desc[-1, :, :]), dim = 1))\n",
        "        \n",
        "        full_head = self.fc_head(hidden_head)\n",
        "        \n",
        "        full_desc = self.fc_desc(hidden_desc)\n",
        "        \n",
        "        hidden_total = torch.cat((full_head, full_desc), 1)\n",
        "        \n",
        "        return self.fc_total(hidden_total)"
      ],
      "execution_count": 0,
      "outputs": []
    },
    {
      "cell_type": "code",
      "metadata": {
        "id": "h_KwVKc2WKRT",
        "colab_type": "code",
        "colab": {}
      },
      "source": [
        "INPUT_DIM = len(TEXT.vocab)\n",
        "EMBEDDING_DIM = 100\n",
        "HIDDEN_DIM = 256\n",
        "OUTPUT_DIM = len(LABEL.vocab)\n",
        "N_LAYERS = 2\n",
        "BIDIRECTIONAL = True\n",
        "DROPOUT = 0.2\n",
        "\n",
        "model = RNN(INPUT_DIM, EMBEDDING_DIM, HIDDEN_DIM, OUTPUT_DIM, N_LAYERS, BIDIRECTIONAL, DROPOUT)"
      ],
      "execution_count": 0,
      "outputs": []
    },
    {
      "cell_type": "code",
      "metadata": {
        "id": "uckPAFDZWM00",
        "colab_type": "code",
        "colab": {
          "base_uri": "https://localhost:8080/",
          "height": 34
        },
        "outputId": "00c02fa9-c4ae-4cdb-a22d-66d3a64447ae"
      },
      "source": [
        "def count_parameters(model):\n",
        "    return sum(p.numel() for p in model.parameters() if p.requires_grad)\n",
        "\n",
        "print(f'The model has {count_parameters(model):,} trainable parameters')"
      ],
      "execution_count": 465,
      "outputs": [
        {
          "output_type": "stream",
          "text": [
            "The model has 4,839,507 trainable parameters\n"
          ],
          "name": "stdout"
        }
      ]
    },
    {
      "cell_type": "code",
      "metadata": {
        "id": "NBN5xPYqWOur",
        "colab_type": "code",
        "colab": {
          "base_uri": "https://localhost:8080/",
          "height": 34
        },
        "outputId": "f1f07719-51a0-4a65-b84b-84001257dada"
      },
      "source": [
        "pretrained_embeddings = TEXT.vocab.vectors\n",
        "\n",
        "print(pretrained_embeddings.shape)"
      ],
      "execution_count": 466,
      "outputs": [
        {
          "output_type": "stream",
          "text": [
            "torch.Size([1128, 100])\n"
          ],
          "name": "stdout"
        }
      ]
    },
    {
      "cell_type": "code",
      "metadata": {
        "id": "_HV4LoLDWQI3",
        "colab_type": "code",
        "colab": {
          "base_uri": "https://localhost:8080/",
          "height": 136
        },
        "outputId": "01bd7c37-37a6-434d-d5e3-90f1e4e3cf54"
      },
      "source": [
        "\n",
        "model.embedding.weight.data.copy_(pretrained_embeddings)"
      ],
      "execution_count": 467,
      "outputs": [
        {
          "output_type": "execute_result",
          "data": {
            "text/plain": [
              "tensor([[-0.5734,  0.7211, -0.0152,  ...,  1.2640,  0.6750,  0.8290],\n",
              "        [ 0.7428,  0.5729, -1.5363,  ..., -0.3056, -1.2524,  1.4814],\n",
              "        [-0.0382, -0.2449,  0.7281,  ..., -0.1459,  0.8278,  0.2706],\n",
              "        ...,\n",
              "        [-0.8030,  0.4635,  0.8044,  ..., -0.5131,  0.9751, -0.1878],\n",
              "        [ 1.0799,  0.1772,  0.8814,  ..., -0.7673, -0.0750,  0.0607],\n",
              "        [-0.0346,  0.2088,  0.2014,  ..., -0.6978,  0.3013, -0.5122]])"
            ]
          },
          "metadata": {
            "tags": []
          },
          "execution_count": 467
        }
      ]
    },
    {
      "cell_type": "code",
      "metadata": {
        "id": "Lg-qtjlPkxcj",
        "colab_type": "code",
        "colab": {}
      },
      "source": [
        "import torch.optim as optim\n",
        "\n",
        "optimizer = optim.Adam(model.parameters())"
      ],
      "execution_count": 0,
      "outputs": []
    },
    {
      "cell_type": "code",
      "metadata": {
        "id": "thngqhf7WRqI",
        "colab_type": "code",
        "colab": {}
      },
      "source": [
        "criterion = nn.CrossEntropyLoss()\n",
        "\n",
        "model = model.to(device)\n",
        "criterion = criterion.to(device)"
      ],
      "execution_count": 0,
      "outputs": []
    },
    {
      "cell_type": "code",
      "metadata": {
        "id": "KJXUFHhyWVDO",
        "colab_type": "code",
        "colab": {}
      },
      "source": [
        "def categorical_accuracy(preds, y):\n",
        "    max_preds = preds.argmax(dim = 1, keepdim = True)\n",
        "    correct = max_preds.squeeze(1).eq(y)\n",
        "    return correct.sum() / torch.FloatTensor([y.shape[0]])"
      ],
      "execution_count": 0,
      "outputs": []
    },
    {
      "cell_type": "code",
      "metadata": {
        "id": "5aIQ8dBDWWqY",
        "colab_type": "code",
        "colab": {}
      },
      "source": [
        "def train(model, iterator, optimizer, criterion):\n",
        "    \n",
        "    epoch_loss = 0\n",
        "    epoch_acc = 0\n",
        "    \n",
        "    model.train()\n",
        "    \n",
        "    for batch in iterator:\n",
        "        \n",
        "        optimizer.zero_grad()\n",
        "                        \n",
        "        predictions = model(batch.headline, batch.desc).squeeze(1)\n",
        "        \n",
        "        loss = criterion(predictions, batch.category)\n",
        "        \n",
        "        acc = categorical_accuracy(predictions, batch.category)\n",
        "        \n",
        "        loss.backward()\n",
        "        \n",
        "        optimizer.step()\n",
        "        \n",
        "        epoch_loss += loss.item()\n",
        "        epoch_acc += acc.item()\n",
        "        \n",
        "    return epoch_loss / len(iterator), epoch_acc / len(iterator)"
      ],
      "execution_count": 0,
      "outputs": []
    },
    {
      "cell_type": "code",
      "metadata": {
        "id": "024CiCyNWaz8",
        "colab_type": "code",
        "colab": {}
      },
      "source": [
        "def evaluate(model, iterator, criterion):\n",
        "    \n",
        "    epoch_loss = 0\n",
        "    epoch_acc = 0\n",
        "    \n",
        "    model.eval()\n",
        "    \n",
        "    with torch.no_grad():\n",
        "    \n",
        "        for batch in iterator:\n",
        "            \n",
        "            predictions = model(batch.headline, batch.desc).squeeze(1)\n",
        "            \n",
        "            loss = criterion(predictions, batch.category)\n",
        "            \n",
        "            acc = categorical_accuracy(predictions, batch.category)\n",
        "\n",
        "            epoch_loss += loss.item()\n",
        "            epoch_acc += acc.item()\n",
        "        \n",
        "    return epoch_loss / len(iterator), epoch_acc / len(iterator)\n"
      ],
      "execution_count": 0,
      "outputs": []
    },
    {
      "cell_type": "code",
      "metadata": {
        "id": "l-SmOiCxWcme",
        "colab_type": "code",
        "colab": {}
      },
      "source": [
        "import time\n",
        "\n",
        "def epoch_time(start_time, end_time):\n",
        "    elapsed_time = end_time - start_time\n",
        "    elapsed_mins = int(elapsed_time / 60)\n",
        "    elapsed_secs = int(elapsed_time - (elapsed_mins * 60))\n",
        "    return elapsed_mins, elapsed_secs"
      ],
      "execution_count": 0,
      "outputs": []
    },
    {
      "cell_type": "code",
      "metadata": {
        "id": "8nsrwhtiWeNv",
        "colab_type": "code",
        "colab": {
          "base_uri": "https://localhost:8080/",
          "height": 272
        },
        "outputId": "6449a88c-c714-469a-9037-d4f70d724252"
      },
      "source": [
        "N_EPOCHS = 5\n",
        "\n",
        "best_valid_loss = float('inf')\n",
        "\n",
        "for epoch in range(N_EPOCHS):\n",
        "\n",
        "    start_time = time.time()\n",
        "    \n",
        "    train_loss, train_acc = train(model, train_iterator, optimizer, criterion)\n",
        "    valid_loss, valid_acc = evaluate(model, valid_iterator, criterion)\n",
        "    \n",
        "    end_time = time.time()\n",
        "\n",
        "    epoch_mins, epoch_secs = epoch_time(start_time, end_time)\n",
        "    \n",
        "    if valid_loss < best_valid_loss:\n",
        "        best_valid_loss = valid_loss\n",
        "        torch.save(model.state_dict(), 'news_classification_model.pt')\n",
        "    \n",
        "    print(f'Epoch: {epoch+1:02} | Epoch Time: {epoch_mins}m {epoch_secs}s')\n",
        "    print(f'\\tTrain Loss: {train_loss:.3f} | Train Acc: {train_acc*100:.2f}%')\n",
        "    print(f'\\t Val. Loss: {valid_loss:.3f} |  Val. Acc: {valid_acc*100:.2f}%')"
      ],
      "execution_count": 474,
      "outputs": [
        {
          "output_type": "stream",
          "text": [
            "Epoch: 01 | Epoch Time: 0m 2s\n",
            "\tTrain Loss: 2.886 | Train Acc: 22.18%\n",
            "\t Val. Loss: 2.458 |  Val. Acc: 46.67%\n",
            "Epoch: 02 | Epoch Time: 0m 2s\n",
            "\tTrain Loss: 2.541 | Train Acc: 32.57%\n",
            "\t Val. Loss: 2.136 |  Val. Acc: 46.67%\n",
            "Epoch: 03 | Epoch Time: 0m 2s\n",
            "\tTrain Loss: 2.398 | Train Acc: 36.00%\n",
            "\t Val. Loss: 2.137 |  Val. Acc: 46.67%\n",
            "Epoch: 04 | Epoch Time: 0m 2s\n",
            "\tTrain Loss: 2.412 | Train Acc: 32.57%\n",
            "\t Val. Loss: 2.198 |  Val. Acc: 40.00%\n",
            "Epoch: 05 | Epoch Time: 0m 2s\n",
            "\tTrain Loss: 2.277 | Train Acc: 36.00%\n",
            "\t Val. Loss: 2.140 |  Val. Acc: 40.00%\n"
          ],
          "name": "stdout"
        }
      ]
    },
    {
      "cell_type": "code",
      "metadata": {
        "id": "va7aUCLEXwxh",
        "colab_type": "code",
        "colab": {
          "base_uri": "https://localhost:8080/",
          "height": 34
        },
        "outputId": "badc3800-90fd-4eef-91dc-9d0a4e3c9910"
      },
      "source": [
        "test_loss, test_acc = evaluate(model, test_iterator, criterion)\n",
        "\n",
        "print(f'Test Loss: {test_loss:.3f} | Test Acc: {test_acc*100:.2f}%')"
      ],
      "execution_count": 475,
      "outputs": [
        {
          "output_type": "stream",
          "text": [
            "Test Loss: 2.101 | Test Acc: 50.00%\n"
          ],
          "name": "stdout"
        }
      ]
    },
    {
      "cell_type": "code",
      "metadata": {
        "id": "-u3hYeeLcnNC",
        "colab_type": "code",
        "colab": {}
      },
      "source": [
        "import spacy\n",
        "nlp = spacy.load('en')\n",
        "\n",
        "def predict_category(model, head, desc):\n",
        "    model.eval()\n",
        "    head = head.lower()\n",
        "    desc = desc.lower()\n",
        "    tokenized_head = [tok.text for tok in nlp.tokenizer(head)]\n",
        "    tokenized_desc = [tok.text for tok in nlp.tokenizer(desc)]\n",
        "    indexed_head = [TEXT.vocab.stoi[t] for t in tokenized_head]\n",
        "    indexed_desc = [TEXT.vocab.stoi[t] for t in tokenized_desc]\n",
        "    tensor_head = torch.LongTensor(indexed_head).to(device)\n",
        "    tensor_desc = torch.LongTensor(indexed_desc).to(device)\n",
        "    tensor_head = tensor_head.unsqueeze(1)\n",
        "    tensor_desc = tensor_desc.unsqueeze(1)\n",
        "    prediction = model(tensor_head, tensor_desc)\n",
        "    max_pred = prediction.argmax(dim=1)\n",
        "    return max_pred.item()"
      ],
      "execution_count": 0,
      "outputs": []
    },
    {
      "cell_type": "code",
      "metadata": {
        "id": "oypeyg5_vseJ",
        "colab_type": "code",
        "colab": {
          "base_uri": "https://localhost:8080/",
          "height": 34
        },
        "outputId": "1fb4f0de-567a-4389-d60f-9414722031a0"
      },
      "source": [
        "pred = predict_category(model, \"Freezing of DA insensitive, inhumane\", \"govt should shelve bullet train, Central Vista projects: Congress\")\n",
        "print(f'Predicted category is: {pred} = {LABEL.vocab.itos[pred]}')"
      ],
      "execution_count": 477,
      "outputs": [
        {
          "output_type": "stream",
          "text": [
            "Predicted category is: 0 = POLITICS\n"
          ],
          "name": "stdout"
        }
      ]
    },
    {
      "cell_type": "code",
      "metadata": {
        "id": "NOlVAoV8vzax",
        "colab_type": "code",
        "colab": {}
      },
      "source": [
        ""
      ],
      "execution_count": 0,
      "outputs": []
    }
  ]
}