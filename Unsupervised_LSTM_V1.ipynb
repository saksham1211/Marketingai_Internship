{
  "nbformat": 4,
  "nbformat_minor": 0,
  "metadata": {
    "colab": {
      "name": "Unsupervised_LSTM_V1.ipynb",
      "provenance": [],
      "collapsed_sections": [],
      "machine_shape": "hm",
      "authorship_tag": "ABX9TyN88ni+mItbTyDVah+gybNM",
      "include_colab_link": true
    },
    "kernelspec": {
      "name": "python3",
      "display_name": "Python 3"
    }
  },
  "cells": [
    {
      "cell_type": "markdown",
      "metadata": {
        "id": "view-in-github",
        "colab_type": "text"
      },
      "source": [
        "<a href=\"https://colab.research.google.com/github/saksham1211/Marketingai_Internship/blob/master/Unsupervised_LSTM_V1.ipynb\" target=\"_parent\"><img src=\"https://colab.research.google.com/assets/colab-badge.svg\" alt=\"Open In Colab\"/></a>"
      ]
    },
    {
      "cell_type": "code",
      "metadata": {
        "id": "v_M4fE976IfR",
        "colab_type": "code",
        "colab": {}
      },
      "source": [
        "document = [\"For best results, please complete the information requested below in parts 1 to 4 using ALL CAPITAL letters and black ink.\",\n",
        "            \"Remember to update any automatic deposits or withdrawals you’ve set up on the account you’re transferring to Merrill Lynch.\",\n",
        "            \"Some transfers may result in tax consequences, penalties or financial risk. Consult your tax and financial professionals before requesting this transfer.\",\n",
        "            \"Transfer your account to Merrill Lynch as you have instructed on this form, even though the Merrill Lynch account may have a different account title or different taxpayer identification number than the delivering account.\",\n",
        "            \"Transfer any certificates or other instruments held in the firm’s physical possession in good deliverable form.  Affix any necessary tax waivers so Merrill Lynch can transfer them in its name when directed to sell them.\",\n",
        "            \"A Schwab Qualified Plan is a Schwab Profit Sharing Qualified Retirement Plan or Keogh, a Schwab Individual 401(k), or a Schwab 403(b)(7) Account. State Income Tax Withholding: State tax withholding may be required from your distribution. In some cases, you may elect not to have withholding apply\",\n",
        "            \"While Schwab makes every effort to obtain information about state tax laws from sources believed to be reliable, Schwab cannot guarantee the accuracy or timeliness of state tax withholding information because state laws are subject to constant change and interpretation.\",\n",
        "            \"The Cash Features Program is a service that offers the Bank Sweep feature (a “Cash Feature”) to permit your uninvested cash (the “Free Credit Balance”) to earn income while you decide how those funds should be invested longer term.\",\n",
        "            \"I understand that if Schwab determines that my beneficiary designation is not clear with respect to the amount of the distribution, the date on which the distribution shall be made, or the identity of the party or parties who will receive the distribution\",\n",
        "            \"By signing this Application, you hereby adopt the applicable Individual Retirement Plan that names Charles Schwab & Co., Inc. as custodian of this account, as further explained in the Charles Schwab & Co., Inc. Individual Retirement\",\n",
        "            \"Schwab automatically makes deposits to and withdrawals from deposit accounts at one or more banks affiliated with Schwab\"]"
      ],
      "execution_count": 0,
      "outputs": []
    },
    {
      "cell_type": "code",
      "metadata": {
        "id": "Ib4aemTH6rZF",
        "colab_type": "code",
        "colab": {}
      },
      "source": [
        "from sklearn.feature_extraction.text import TfidfVectorizer\n",
        "from sklearn.cluster import KMeans\n",
        "import numpy as np\n",
        "import pandas as pd"
      ],
      "execution_count": 0,
      "outputs": []
    },
    {
      "cell_type": "code",
      "metadata": {
        "id": "bOSNuqvI7PRR",
        "colab_type": "code",
        "colab": {}
      },
      "source": [
        "vectorizer = TfidfVectorizer(stop_words='english')\n",
        "X = vectorizer.fit_transform(document)"
      ],
      "execution_count": 0,
      "outputs": []
    },
    {
      "cell_type": "code",
      "metadata": {
        "id": "9ZsLyhx57thw",
        "colab_type": "code",
        "colab": {
          "base_uri": "https://localhost:8080/",
          "height": 68
        },
        "outputId": "09b59c6f-15f7-46c6-b7e0-62391ddb7e72"
      },
      "source": [
        "true_k = 2\n",
        "model = KMeans(n_clusters=true_k, init='k-means++', max_iter=100, n_init=1)\n",
        "model.fit(X)"
      ],
      "execution_count": 4,
      "outputs": [
        {
          "output_type": "execute_result",
          "data": {
            "text/plain": [
              "KMeans(algorithm='auto', copy_x=True, init='k-means++', max_iter=100,\n",
              "       n_clusters=2, n_init=1, n_jobs=None, precompute_distances='auto',\n",
              "       random_state=None, tol=0.0001, verbose=0)"
            ]
          },
          "metadata": {
            "tags": []
          },
          "execution_count": 4
        }
      ]
    },
    {
      "cell_type": "code",
      "metadata": {
        "id": "l1AQneUW7xch",
        "colab_type": "code",
        "colab": {
          "base_uri": "https://localhost:8080/",
          "height": 357
        },
        "outputId": "3a0f435d-7f22-47fc-d391-592976d5e878"
      },
      "source": [
        "order_centroids = model.cluster_centers_.argsort()[:, ::-1]\n",
        "terms = vectorizer.get_feature_names()\n",
        "order_centroids"
      ],
      "execution_count": 5,
      "outputs": [
        {
          "output_type": "execute_result",
          "data": {
            "text/plain": [
              "array([[103,   2,  43,  38, 128,  72,  74,  22, 101,  61,  86,  25, 129,\n",
              "         41,  48,   6,  15,   3,  37,  12,  11, 120, 106,  94, 124, 126,\n",
              "         91,  95,  81,  70,  27,  63, 100,  20, 125,  19,  18,  60,  73,\n",
              "        111,  62,  26,  17, 122,  59,  80,  82,  40,  39, 107,  92,  33,\n",
              "         98,  32,  47,   9,  75,   8, 109,   5, 114,  58,  36,  64, 118,\n",
              "         77, 115,  49,  34, 113,  90,  14,  13,  84, 116,  44,  79,  31,\n",
              "        105, 123,  67,  53,  54,  71,  52,  68,   1,  89,  21,   0,  97,\n",
              "        108,  10,  46, 119, 110, 112, 117,  16,  23,   7, 121,   4, 127,\n",
              "        104,  65,  24, 102,  69,  76,  57,  56,  55,  51,  50,  78,  45,\n",
              "         83,  42,  85,  87,  88,  35,  93,  66,  30,  29,  28,  99,  96],\n",
              "       [114, 119,  50, 111,  69,  62, 121,  88,  83,  96,  28,  99,  30,\n",
              "        102,  85,  35,  87,  42,  23,  65, 104,  76,  55,   7,  51,  57,\n",
              "        127, 103,  52,  66, 117,  24,  29,  93,  56,   4, 112,  78,  16,\n",
              "        110,  45,  72,  74,  73, 129,  34,  44,  40,  36,  37,  38,  39,\n",
              "         43,  41,  25,  33,  32,   1,   2,   3,   5,   6,   8,   9,  10,\n",
              "         11,  12,  13,  14,  15,  17,  18,  19,  20,  21,  22,  47,  26,\n",
              "         27,  31,  46,  64,  48,  49,  94,  95,  97,  98, 100, 101, 105,\n",
              "        106, 107, 108, 109, 113, 115, 116, 118, 120, 122, 123, 124, 125,\n",
              "        126,  92,  91,  90,  68,  53,  54,  58,  59,  60,  61,  63, 128,\n",
              "         67,  70,  89,  71,  75,  77,  79,  80,  81,  82,  84,  86,   0]])"
            ]
          },
          "metadata": {
            "tags": []
          },
          "execution_count": 5
        }
      ]
    },
    {
      "cell_type": "code",
      "metadata": {
        "id": "FarfANWq72vu",
        "colab_type": "code",
        "colab": {
          "base_uri": "https://localhost:8080/",
          "height": 1000
        },
        "outputId": "aabaef16-2507-4b68-f4d7-12c3008a1975"
      },
      "source": [
        "terms"
      ],
      "execution_count": 6,
      "outputs": [
        {
          "output_type": "execute_result",
          "data": {
            "text/plain": [
              "['401',\n",
              " '403',\n",
              " 'account',\n",
              " 'accounts',\n",
              " 'accuracy',\n",
              " 'adopt',\n",
              " 'affiliated',\n",
              " 'affix',\n",
              " 'applicable',\n",
              " 'application',\n",
              " 'apply',\n",
              " 'automatic',\n",
              " 'automatically',\n",
              " 'balance',\n",
              " 'bank',\n",
              " 'banks',\n",
              " 'believed',\n",
              " 'beneficiary',\n",
              " 'best',\n",
              " 'black',\n",
              " 'capital',\n",
              " 'cases',\n",
              " 'cash',\n",
              " 'certificates',\n",
              " 'change',\n",
              " 'charles',\n",
              " 'clear',\n",
              " 'complete',\n",
              " 'consequences',\n",
              " 'constant',\n",
              " 'consult',\n",
              " 'credit',\n",
              " 'custodian',\n",
              " 'date',\n",
              " 'decide',\n",
              " 'deliverable',\n",
              " 'delivering',\n",
              " 'deposit',\n",
              " 'deposits',\n",
              " 'designation',\n",
              " 'determines',\n",
              " 'different',\n",
              " 'directed',\n",
              " 'distribution',\n",
              " 'earn',\n",
              " 'effort',\n",
              " 'elect',\n",
              " 'explained',\n",
              " 'feature',\n",
              " 'features',\n",
              " 'financial',\n",
              " 'firm',\n",
              " 'form',\n",
              " 'free',\n",
              " 'funds',\n",
              " 'good',\n",
              " 'guarantee',\n",
              " 'held',\n",
              " 'identification',\n",
              " 'identity',\n",
              " 'income',\n",
              " 'individual',\n",
              " 'information',\n",
              " 'ink',\n",
              " 'instructed',\n",
              " 'instruments',\n",
              " 'interpretation',\n",
              " 'invested',\n",
              " 'keogh',\n",
              " 'laws',\n",
              " 'letters',\n",
              " 'longer',\n",
              " 'lynch',\n",
              " 'makes',\n",
              " 'merrill',\n",
              " 'names',\n",
              " 'necessary',\n",
              " 'number',\n",
              " 'obtain',\n",
              " 'offers',\n",
              " 'parties',\n",
              " 'parts',\n",
              " 'party',\n",
              " 'penalties',\n",
              " 'permit',\n",
              " 'physical',\n",
              " 'plan',\n",
              " 'possession',\n",
              " 'professionals',\n",
              " 'profit',\n",
              " 'program',\n",
              " 'qualified',\n",
              " 'receive',\n",
              " 'reliable',\n",
              " 'remember',\n",
              " 'requested',\n",
              " 'requesting',\n",
              " 'required',\n",
              " 'respect',\n",
              " 'result',\n",
              " 'results',\n",
              " 'retirement',\n",
              " 'risk',\n",
              " 'schwab',\n",
              " 'sell',\n",
              " 'service',\n",
              " 'set',\n",
              " 'shall',\n",
              " 'sharing',\n",
              " 'signing',\n",
              " 'sources',\n",
              " 'state',\n",
              " 'subject',\n",
              " 'sweep',\n",
              " 'tax',\n",
              " 'taxpayer',\n",
              " 'term',\n",
              " 'timeliness',\n",
              " 'title',\n",
              " 'transfer',\n",
              " 'transferring',\n",
              " 'transfers',\n",
              " 'understand',\n",
              " 'uninvested',\n",
              " 'update',\n",
              " 'using',\n",
              " 've',\n",
              " 'waivers',\n",
              " 'withdrawals',\n",
              " 'withholding']"
            ]
          },
          "metadata": {
            "tags": []
          },
          "execution_count": 6
        }
      ]
    },
    {
      "cell_type": "code",
      "metadata": {
        "id": "rIdHsW5P8E3M",
        "colab_type": "code",
        "colab": {
          "base_uri": "https://localhost:8080/",
          "height": 459
        },
        "outputId": "6f2610d9-25ab-4a0b-9daf-0d699b98009c"
      },
      "source": [
        "for i in range(true_k):\n",
        " print(\"Cluster %d:\" % i)\n",
        " for ind in order_centroids[i, :10]:\n",
        "  print(\"%s\" % terms[ind])\n",
        " print(\"\\n\")"
      ],
      "execution_count": 12,
      "outputs": [
        {
          "output_type": "stream",
          "text": [
            "Cluster 0:\n",
            "schwab\n",
            "account\n",
            "distribution\n",
            "deposits\n",
            "withdrawals\n",
            "lynch\n",
            "merrill\n",
            "cash\n",
            "retirement\n",
            "individual\n",
            "\n",
            "\n",
            "Cluster 1:\n",
            "tax\n",
            "transfer\n",
            "financial\n",
            "state\n",
            "laws\n",
            "information\n",
            "transfers\n",
            "professionals\n",
            "penalties\n",
            "requesting\n",
            "\n",
            "\n"
          ],
          "name": "stdout"
        }
      ]
    },
    {
      "cell_type": "code",
      "metadata": {
        "id": "3NleTH3P8QhH",
        "colab_type": "code",
        "colab": {
          "base_uri": "https://localhost:8080/",
          "height": 51
        },
        "outputId": "7c2bc004-6b13-42f9-be57-13c1a61a66f3"
      },
      "source": [
        "print(\"Prediction\")\n",
        "X = vectorizer.transform([\"Remember to update any automatic deposits or withdrawals you’ve set up on the account you’re transferring to Merrill Lynch.\"])\n",
        "predicted = model.predict(X)\n",
        "print(predicted)"
      ],
      "execution_count": 14,
      "outputs": [
        {
          "output_type": "stream",
          "text": [
            "Prediction\n",
            "[0]\n"
          ],
          "name": "stdout"
        }
      ]
    },
    {
      "cell_type": "code",
      "metadata": {
        "id": "3CtNfFHZ8_RS",
        "colab_type": "code",
        "colab": {}
      },
      "source": [
        ""
      ],
      "execution_count": 0,
      "outputs": []
    }
  ]
}