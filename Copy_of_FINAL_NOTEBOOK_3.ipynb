{
  "nbformat": 4,
  "nbformat_minor": 0,
  "metadata": {
    "colab": {
      "name": "Copy of FINAL_NOTEBOOK_3.ipynb",
      "provenance": [],
      "collapsed_sections": [
        "eTRQs-lmpB0j"
      ],
      "toc_visible": true,
      "include_colab_link": true
    },
    "kernelspec": {
      "name": "python3",
      "display_name": "Python 3"
    }
  },
  "cells": [
    {
      "cell_type": "markdown",
      "metadata": {
        "id": "view-in-github",
        "colab_type": "text"
      },
      "source": [
        "<a href=\"https://colab.research.google.com/github/saksham1211/Marketingai_Internship/blob/master/Copy_of_FINAL_NOTEBOOK_3.ipynb\" target=\"_parent\"><img src=\"https://colab.research.google.com/assets/colab-badge.svg\" alt=\"Open In Colab\"/></a>"
      ]
    },
    {
      "cell_type": "markdown",
      "metadata": {
        "id": "ZbSXvfRJ0uSB",
        "colab_type": "text"
      },
      "source": [
        "# **FINAL NOTEBOOK 2**\n",
        "\n",
        "This notebook is a collection of three different components which are aimed to predict the category of a 401(K) investment company, based on the form given as the input.\n",
        "\n",
        "**Input:-** Form of the investment company (*PDF FORMAT*)\n",
        "\n",
        "**Output:-** *Category* ['Charles Schwab', 'Merrill Lynch', 'American Trade'..........]"
      ]
    },
    {
      "cell_type": "markdown",
      "metadata": {
        "id": "FzC3dsuq1SeF",
        "colab_type": "text"
      },
      "source": [
        "### **<------------------Upload PDF------------------>**"
      ]
    },
    {
      "cell_type": "code",
      "metadata": {
        "id": "DMXAERBEwmnR",
        "colab_type": "code",
        "outputId": "682a5cb7-497d-4b40-d8a8-6988865052da",
        "colab": {
          "base_uri": "https://localhost:8080/",
          "height": 122
        }
      },
      "source": [
        "from google.colab import drive\n",
        "drive.mount('/content/drive')"
      ],
      "execution_count": 0,
      "outputs": [
        {
          "output_type": "stream",
          "text": [
            "Go to this URL in a browser: https://accounts.google.com/o/oauth2/auth?client_id=947318989803-6bn6qk8qdgf4n4g3pfee6491hc0brc4i.apps.googleusercontent.com&redirect_uri=urn%3aietf%3awg%3aoauth%3a2.0%3aoob&response_type=code&scope=email%20https%3a%2f%2fwww.googleapis.com%2fauth%2fdocs.test%20https%3a%2f%2fwww.googleapis.com%2fauth%2fdrive%20https%3a%2f%2fwww.googleapis.com%2fauth%2fdrive.photos.readonly%20https%3a%2f%2fwww.googleapis.com%2fauth%2fpeopleapi.readonly\n",
            "\n",
            "Enter your authorization code:\n",
            "··········\n",
            "Mounted at /content/drive\n"
          ],
          "name": "stdout"
        }
      ]
    },
    {
      "cell_type": "code",
      "metadata": {
        "id": "nD_Szg0R1Z6u",
        "colab_type": "code",
        "outputId": "a97bf200-989a-4d05-a32b-171d677ad697",
        "colab": {
          "base_uri": "https://localhost:8080/",
          "height": 326
        }
      },
      "source": [
        "pip install pdf2jpg"
      ],
      "execution_count": 0,
      "outputs": [
        {
          "output_type": "stream",
          "text": [
            "Collecting pdf2jpg\n",
            "\u001b[?25l  Downloading https://files.pythonhosted.org/packages/c8/73/36611a5b4fe56570faf386df294483d6e0f115664f458b4e4979359fcb56/pdf2jpg-1.0.tar.gz (4.3MB)\n",
            "\u001b[K     |████████████████████████████████| 4.3MB 123kB/s \n",
            "\u001b[?25hCollecting img2pdf\n",
            "\u001b[?25l  Downloading https://files.pythonhosted.org/packages/65/12/6ee1a77614df6decefd88f781cf95b73acf93f0cc9eb03bd5042d116b85d/img2pdf-0.3.6.tar.gz (91kB)\n",
            "\u001b[K     |████████████████████████████████| 92kB 10.1MB/s \n",
            "\u001b[?25hRequirement already satisfied: Pillow in /usr/local/lib/python3.6/dist-packages (from img2pdf->pdf2jpg) (7.0.0)\n",
            "Building wheels for collected packages: pdf2jpg, img2pdf\n",
            "  Building wheel for pdf2jpg (setup.py) ... \u001b[?25l\u001b[?25hdone\n",
            "  Created wheel for pdf2jpg: filename=pdf2jpg-1.0-cp36-none-any.whl size=4287419 sha256=8908a04c26b8b22b8d601420779259ece215b13eef240786e172141c419a07f3\n",
            "  Stored in directory: /root/.cache/pip/wheels/bd/dc/72/17e98df36aef90f761a81a74f84414ef16db83fdaa69739909\n",
            "  Building wheel for img2pdf (setup.py) ... \u001b[?25l\u001b[?25hdone\n",
            "  Created wheel for img2pdf: filename=img2pdf-0.3.6-cp36-none-any.whl size=39048 sha256=ba271c474d4c9a875be4884a95e1ae72086a2a883e53e849fb87abb83725f148\n",
            "  Stored in directory: /root/.cache/pip/wheels/8c/1c/68/d8764ed7988b469446ed181a656166170ec45b6b1f974f0236\n",
            "Successfully built pdf2jpg img2pdf\n",
            "Installing collected packages: img2pdf, pdf2jpg\n",
            "Successfully installed img2pdf-0.3.6 pdf2jpg-1.0\n"
          ],
          "name": "stdout"
        }
      ]
    },
    {
      "cell_type": "code",
      "metadata": {
        "id": "t_jWsHip1cOp",
        "colab_type": "code",
        "outputId": "530e072a-583a-4829-f3e7-4f3206e8e44c",
        "colab": {
          "resources": {
            "http://localhost:8080/nbextensions/google.colab/files.js": {
              "data": "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",
              "ok": true,
              "headers": [
                [
                  "content-type",
                  "application/javascript"
                ]
              ],
              "status": 200,
              "status_text": ""
            }
          },
          "base_uri": "https://localhost:8080/",
          "height": 74
        }
      },
      "source": [
        "from io import StringIO\n",
        "from google.colab import files\n",
        "uploaded = files.upload()"
      ],
      "execution_count": 0,
      "outputs": [
        {
          "output_type": "display_data",
          "data": {
            "text/html": [
              "\n",
              "     <input type=\"file\" id=\"files-a72e0f15-2c1b-4369-a89f-3f813e98643f\" name=\"files[]\" multiple disabled />\n",
              "     <output id=\"result-a72e0f15-2c1b-4369-a89f-3f813e98643f\">\n",
              "      Upload widget is only available when the cell has been executed in the\n",
              "      current browser session. Please rerun this cell to enable.\n",
              "      </output>\n",
              "      <script src=\"/nbextensions/google.colab/files.js\"></script> "
            ],
            "text/plain": [
              "<IPython.core.display.HTML object>"
            ]
          },
          "metadata": {
            "tags": []
          }
        },
        {
          "output_type": "stream",
          "text": [
            "Saving Bobby_J_Cole_.pdf to Bobby_J_Cole_.pdf\n"
          ],
          "name": "stdout"
        }
      ]
    },
    {
      "cell_type": "code",
      "metadata": {
        "id": "npMCBRsV1eNw",
        "colab_type": "code",
        "colab": {}
      },
      "source": [
        "PDF_PATH = '/content/drive/My Drive/DOC-NER/Schwab_IRA/Bobby_J_Cole_.pdf'"
      ],
      "execution_count": 0,
      "outputs": []
    },
    {
      "cell_type": "code",
      "metadata": {
        "id": "rt3PZYsa1f7c",
        "colab_type": "code",
        "colab": {}
      },
      "source": [
        "from pdf2jpg import pdf2jpg\n",
        "inputpath = PDF_PATH\n",
        "outputpath = \"/content\"\n",
        "# To convert single page\n",
        "result = pdf2jpg.convert_pdf2jpg(inputpath, outputpath, pages=\"0\")\n"
      ],
      "execution_count": 0,
      "outputs": []
    },
    {
      "cell_type": "markdown",
      "metadata": {
        "id": "aObCBLGJ1iT9",
        "colab_type": "text"
      },
      "source": [
        "**IMAGE PATH**"
      ]
    },
    {
      "cell_type": "code",
      "metadata": {
        "id": "PJCH_szx1i9j",
        "colab_type": "code",
        "colab": {}
      },
      "source": [
        "IMAGE_PATH = '/content/2.jpg'"
      ],
      "execution_count": 0,
      "outputs": []
    },
    {
      "cell_type": "code",
      "metadata": {
        "id": "ns5yOXBW1mti",
        "colab_type": "code",
        "outputId": "dfb46074-8257-4e97-f2ee-93eb7e22a2a8",
        "colab": {
          "base_uri": "https://localhost:8080/",
          "height": 299
        }
      },
      "source": [
        "%pylab inline\n",
        "import matplotlib.pyplot as plt\n",
        "import matplotlib.image as mpimg\n",
        "img=mpimg.imread(IMAGE_PATH)\n",
        "imgplot = plt.imshow(img)\n",
        "axis('off')\n",
        "plt.show()\n",
        "\n",
        "print()\n",
        "print(\"SUCCESSFULLY CONVERTED PDF INTO JPG !\")"
      ],
      "execution_count": 0,
      "outputs": [
        {
          "output_type": "stream",
          "text": [
            "Populating the interactive namespace from numpy and matplotlib\n"
          ],
          "name": "stdout"
        },
        {
          "output_type": "display_data",
          "data": {
            "image/png": "[encoded data removed]",
            "text/plain": [
              "<Figure size 432x288 with 1 Axes>"
            ]
          },
          "metadata": {
            "tags": [],
            "needs_background": "light"
          }
        },
        {
          "output_type": "stream",
          "text": [
            "\n",
            "SUCCESSFULLY CONVERTED PDF INTO JPG !\n"
          ],
          "name": "stdout"
        }
      ]
    },
    {
      "cell_type": "markdown",
      "metadata": {
        "id": "vnerlSOw1sfw",
        "colab_type": "text"
      },
      "source": [
        "## **LOGO AND TYPE DETECTION (*OBJECT DETECTION*)**\n",
        "In this part of the Notebook, the converted JPEG file is given as the input and using the principles of object detection and using the YOLOV3 Framework, we predict the *name of the company* and the *type of form*.\n",
        "\n",
        "**Input:-** JPEG FILE\n",
        "\n",
        "**Output:-** *Category* ['Merrill Lynch', 'Charles Schwab'.......]  *Type* ['IRA, Client Account Transfer Form'......] "
      ]
    },
    {
      "cell_type": "code",
      "metadata": {
        "id": "vc-xNOj31wHO",
        "colab_type": "code",
        "outputId": "89901c1c-d315-48f6-cca0-f43f9dd1cfaf",
        "colab": {
          "base_uri": "https://localhost:8080/",
          "height": 683
        }
      },
      "source": [
        "!pip3 install tensorflow-gpu==1.13.1"
      ],
      "execution_count": 0,
      "outputs": [
        {
          "output_type": "stream",
          "text": [
            "Collecting tensorflow-gpu==1.13.1\n",
            "\u001b[?25l  Downloading https://files.pythonhosted.org/packages/7b/b1/0ad4ae02e17ddd62109cd54c291e311c4b5fd09b4d0678d3d6ce4159b0f0/tensorflow_gpu-1.13.1-cp36-cp36m-manylinux1_x86_64.whl (345.2MB)\n",
            "\u001b[K     |████████████████████████████████| 345.2MB 44kB/s \n",
            "\u001b[?25hRequirement already satisfied: keras-applications>=1.0.6 in /usr/local/lib/python3.6/dist-packages (from tensorflow-gpu==1.13.1) (1.0.8)\n",
            "Requirement already satisfied: six>=1.10.0 in /usr/local/lib/python3.6/dist-packages (from tensorflow-gpu==1.13.1) (1.12.0)\n",
            "Requirement already satisfied: absl-py>=0.1.6 in /usr/local/lib/python3.6/dist-packages (from tensorflow-gpu==1.13.1) (0.9.0)\n",
            "Requirement already satisfied: numpy>=1.13.3 in /usr/local/lib/python3.6/dist-packages (from tensorflow-gpu==1.13.1) (1.18.4)\n",
            "Requirement already satisfied: grpcio>=1.8.6 in /usr/local/lib/python3.6/dist-packages (from tensorflow-gpu==1.13.1) (1.29.0)\n",
            "Requirement already satisfied: keras-preprocessing>=1.0.5 in /usr/local/lib/python3.6/dist-packages (from tensorflow-gpu==1.13.1) (1.1.2)\n",
            "Requirement already satisfied: termcolor>=1.1.0 in /usr/local/lib/python3.6/dist-packages (from tensorflow-gpu==1.13.1) (1.1.0)\n",
            "Requirement already satisfied: wheel>=0.26 in /usr/local/lib/python3.6/dist-packages (from tensorflow-gpu==1.13.1) (0.34.2)\n",
            "Requirement already satisfied: gast>=0.2.0 in /usr/local/lib/python3.6/dist-packages (from tensorflow-gpu==1.13.1) (0.3.3)\n",
            "Collecting tensorflow-estimator<1.14.0rc0,>=1.13.0\n",
            "\u001b[?25l  Downloading https://files.pythonhosted.org/packages/bb/48/13f49fc3fa0fdf916aa1419013bb8f2ad09674c275b4046d5ee669a46873/tensorflow_estimator-1.13.0-py2.py3-none-any.whl (367kB)\n",
            "\u001b[K     |████████████████████████████████| 368kB 33.3MB/s \n",
            "\u001b[?25hRequirement already satisfied: astor>=0.6.0 in /usr/local/lib/python3.6/dist-packages (from tensorflow-gpu==1.13.1) (0.8.1)\n",
            "Collecting tensorboard<1.14.0,>=1.13.0\n",
            "\u001b[?25l  Downloading https://files.pythonhosted.org/packages/0f/39/bdd75b08a6fba41f098b6cb091b9e8c7a80e1b4d679a581a0ccd17b10373/tensorboard-1.13.1-py3-none-any.whl (3.2MB)\n",
            "\u001b[K     |████████████████████████████████| 3.2MB 33.8MB/s \n",
            "\u001b[?25hRequirement already satisfied: protobuf>=3.6.1 in /usr/local/lib/python3.6/dist-packages (from tensorflow-gpu==1.13.1) (3.10.0)\n",
            "Requirement already satisfied: h5py in /usr/local/lib/python3.6/dist-packages (from keras-applications>=1.0.6->tensorflow-gpu==1.13.1) (2.10.0)\n",
            "Collecting mock>=2.0.0\n",
            "  Downloading https://files.pythonhosted.org/packages/cd/74/d72daf8dff5b6566db857cfd088907bb0355f5dd2914c4b3ef065c790735/mock-4.0.2-py3-none-any.whl\n",
            "Requirement already satisfied: markdown>=2.6.8 in /usr/local/lib/python3.6/dist-packages (from tensorboard<1.14.0,>=1.13.0->tensorflow-gpu==1.13.1) (3.2.2)\n",
            "Requirement already satisfied: werkzeug>=0.11.15 in /usr/local/lib/python3.6/dist-packages (from tensorboard<1.14.0,>=1.13.0->tensorflow-gpu==1.13.1) (1.0.1)\n",
            "Requirement already satisfied: setuptools in /usr/local/lib/python3.6/dist-packages (from protobuf>=3.6.1->tensorflow-gpu==1.13.1) (46.3.0)\n",
            "Requirement already satisfied: importlib-metadata; python_version < \"3.8\" in /usr/local/lib/python3.6/dist-packages (from markdown>=2.6.8->tensorboard<1.14.0,>=1.13.0->tensorflow-gpu==1.13.1) (1.6.0)\n",
            "Requirement already satisfied: zipp>=0.5 in /usr/local/lib/python3.6/dist-packages (from importlib-metadata; python_version < \"3.8\"->markdown>=2.6.8->tensorboard<1.14.0,>=1.13.0->tensorflow-gpu==1.13.1) (3.1.0)\n",
            "\u001b[31mERROR: tensorflow 2.2.0 has requirement tensorboard<2.3.0,>=2.2.0, but you'll have tensorboard 1.13.1 which is incompatible.\u001b[0m\n",
            "\u001b[31mERROR: tensorflow 2.2.0 has requirement tensorflow-estimator<2.3.0,>=2.2.0, but you'll have tensorflow-estimator 1.13.0 which is incompatible.\u001b[0m\n",
            "Installing collected packages: mock, tensorflow-estimator, tensorboard, tensorflow-gpu\n",
            "  Found existing installation: tensorflow-estimator 2.2.0\n",
            "    Uninstalling tensorflow-estimator-2.2.0:\n",
            "      Successfully uninstalled tensorflow-estimator-2.2.0\n",
            "  Found existing installation: tensorboard 2.2.1\n",
            "    Uninstalling tensorboard-2.2.1:\n",
            "      Successfully uninstalled tensorboard-2.2.1\n",
            "Successfully installed mock-4.0.2 tensorboard-1.13.1 tensorflow-estimator-1.13.0 tensorflow-gpu-1.13.1\n"
          ],
          "name": "stdout"
        }
      ]
    },
    {
      "cell_type": "code",
      "metadata": {
        "id": "SHbWVcOd16f5",
        "colab_type": "code",
        "outputId": "7d9d68a8-7e63-4271-8ff8-32d5735d40eb",
        "colab": {
          "base_uri": "https://localhost:8080/",
          "height": 292
        }
      },
      "source": [
        "!pip3 install imageai --upgrade"
      ],
      "execution_count": 0,
      "outputs": [
        {
          "output_type": "stream",
          "text": [
            "Collecting imageai\n",
            "\u001b[?25l  Downloading https://files.pythonhosted.org/packages/09/99/4023e191a343fb23f01ae02ac57a5ca58037c310e8d8c62f87638a3bafc7/imageai-2.1.5-py3-none-any.whl (180kB)\n",
            "\r\u001b[K     |█▉                              | 10kB 14.7MB/s eta 0:00:01\r\u001b[K     |███▋                            | 20kB 1.8MB/s eta 0:00:01\r\u001b[K     |█████▍                          | 30kB 2.3MB/s eta 0:00:01\r\u001b[K     |███████▎                        | 40kB 2.6MB/s eta 0:00:01\r\u001b[K     |█████████                       | 51kB 2.0MB/s eta 0:00:01\r\u001b[K     |██████████▉                     | 61kB 2.3MB/s eta 0:00:01\r\u001b[K     |████████████▊                   | 71kB 2.5MB/s eta 0:00:01\r\u001b[K     |██████████████▌                 | 81kB 2.8MB/s eta 0:00:01\r\u001b[K     |████████████████▎               | 92kB 3.1MB/s eta 0:00:01\r\u001b[K     |██████████████████▏             | 102kB 2.8MB/s eta 0:00:01\r\u001b[K     |████████████████████            | 112kB 2.8MB/s eta 0:00:01\r\u001b[K     |█████████████████████▊          | 122kB 2.8MB/s eta 0:00:01\r\u001b[K     |███████████████████████▋        | 133kB 2.8MB/s eta 0:00:01\r\u001b[K     |█████████████████████████▍      | 143kB 2.8MB/s eta 0:00:01\r\u001b[K     |███████████████████████████▏    | 153kB 2.8MB/s eta 0:00:01\r\u001b[K     |█████████████████████████████   | 163kB 2.8MB/s eta 0:00:01\r\u001b[K     |██████████████████████████████▉ | 174kB 2.8MB/s eta 0:00:01\r\u001b[K     |████████████████████████████████| 184kB 2.8MB/s \n",
            "\u001b[?25hRequirement already satisfied, skipping upgrade: h5py in /usr/local/lib/python3.6/dist-packages (from imageai) (2.10.0)\n",
            "Requirement already satisfied, skipping upgrade: numpy in /usr/local/lib/python3.6/dist-packages (from imageai) (1.18.4)\n",
            "Requirement already satisfied, skipping upgrade: pillow in /usr/local/lib/python3.6/dist-packages (from imageai) (7.0.0)\n",
            "Requirement already satisfied, skipping upgrade: matplotlib in /usr/local/lib/python3.6/dist-packages (from imageai) (3.2.1)\n",
            "Requirement already satisfied, skipping upgrade: scipy in /usr/local/lib/python3.6/dist-packages (from imageai) (1.4.1)\n",
            "Requirement already satisfied, skipping upgrade: six in /usr/local/lib/python3.6/dist-packages (from h5py->imageai) (1.12.0)\n",
            "Requirement already satisfied, skipping upgrade: cycler>=0.10 in /usr/local/lib/python3.6/dist-packages (from matplotlib->imageai) (0.10.0)\n",
            "Requirement already satisfied, skipping upgrade: pyparsing!=2.0.4,!=2.1.2,!=2.1.6,>=2.0.1 in /usr/local/lib/python3.6/dist-packages (from matplotlib->imageai) (2.4.7)\n",
            "Requirement already satisfied, skipping upgrade: kiwisolver>=1.0.1 in /usr/local/lib/python3.6/dist-packages (from matplotlib->imageai) (1.2.0)\n",
            "Requirement already satisfied, skipping upgrade: python-dateutil>=2.1 in /usr/local/lib/python3.6/dist-packages (from matplotlib->imageai) (2.8.1)\n",
            "Installing collected packages: imageai\n",
            "Successfully installed imageai-2.1.5\n"
          ],
          "name": "stdout"
        }
      ]
    },
    {
      "cell_type": "code",
      "metadata": {
        "id": "RX0X9KIW2ASH",
        "colab_type": "code",
        "outputId": "666af09d-f946-4fef-92b3-b07c6e334171",
        "colab": {
          "base_uri": "https://localhost:8080/",
          "height": 309
        }
      },
      "source": [
        "from imageai.Detection.Custom import CustomObjectDetection\n",
        "\n",
        "detector = CustomObjectDetection()\n",
        "\n",
        "detector.setModelTypeAsYOLOv3()\n",
        "\n",
        "prediction_dictionary= {}\n",
        "prediction_name=[]\n",
        "prediction_probab=[]\n",
        "tick_box_field = []\n",
        "\n",
        "detector.setModelPath(\"/content/drive/My Drive/PASCAL_DATASET/models/detection_model-ex-027--loss-0007.398.h5\") \n",
        "detector.setJsonPath(\"/content/drive/My Drive/PASCAL_DATASET/json/detection_config.json\")\n",
        "detector.loadModel()\n",
        "detections = detector.detectObjectsFromImage(input_image=IMAGE_PATH, output_image_path=\"logo_detected_image.jpg\")\n",
        "for detection in detections:\n",
        "    # print(detection[\"name\"], \" : \", detection[\"percentage_probability\"], \" : \", detection[\"box_points\"])\n",
        "    prediction_name.append(detection[\"name\"])\n",
        "    prediction_probab.append(detection[\"percentage_probability\"])\n",
        "prediction_dictionary = dict(zip(prediction_probab, prediction_name))\n",
        "index1 = sorted(prediction_dictionary.keys())[-1]\n",
        "index2 = sorted(prediction_dictionary.keys())[-2]\n",
        "\n",
        "if(prediction_dictionary[index1] == \"Merrill Lynch\" or prediction_dictionary[index2] == \"Merrill Lynch\"):\n",
        "  tick_detector = CustomObjectDetection()\n",
        "\n",
        "  tick_detector.setModelTypeAsYOLOv3()\n",
        "\n",
        "  tick_detector.setModelPath(\"/content/drive/My Drive/tick_folder/models/detection_model-ex-034--loss-0009.293.h5\") \n",
        "  tick_detector.setJsonPath(\"/content/drive/My Drive/tick_folder/json/detection_config.json\")\n",
        "  tick_detector.loadModel()\n",
        "  tick_detections = tick_detector.detectObjectsFromImage(input_image=IMAGE_PATH, output_image_path=\"logo_detected_image.jpg\")\n",
        "  for detection in tick_detections:\n",
        "    # print(detection[\"name\"], \" : \", detection[\"percentage_probability\"], \" : \", detection[\"box_points\"])\n",
        "    tick_box_field.append(detection[\"name\"])\n",
        "else:\n",
        "  tick_box_field.append(\"No checkbox field is present in the form\")"
      ],
      "execution_count": 0,
      "outputs": [
        {
          "output_type": "stream",
          "text": [
            "Using TensorFlow backend.\n",
            "/usr/local/lib/python3.6/dist-packages/tensorflow/python/framework/dtypes.py:526: FutureWarning: Passing (type, 1) or '1type' as a synonym of type is deprecated; in a future version of numpy, it will be understood as (type, (1,)) / '(1,)type'.\n",
            "  _np_qint8 = np.dtype([(\"qint8\", np.int8, 1)])\n",
            "/usr/local/lib/python3.6/dist-packages/tensorflow/python/framework/dtypes.py:527: FutureWarning: Passing (type, 1) or '1type' as a synonym of type is deprecated; in a future version of numpy, it will be understood as (type, (1,)) / '(1,)type'.\n",
            "  _np_quint8 = np.dtype([(\"quint8\", np.uint8, 1)])\n",
            "/usr/local/lib/python3.6/dist-packages/tensorflow/python/framework/dtypes.py:528: FutureWarning: Passing (type, 1) or '1type' as a synonym of type is deprecated; in a future version of numpy, it will be understood as (type, (1,)) / '(1,)type'.\n",
            "  _np_qint16 = np.dtype([(\"qint16\", np.int16, 1)])\n",
            "/usr/local/lib/python3.6/dist-packages/tensorflow/python/framework/dtypes.py:529: FutureWarning: Passing (type, 1) or '1type' as a synonym of type is deprecated; in a future version of numpy, it will be understood as (type, (1,)) / '(1,)type'.\n",
            "  _np_quint16 = np.dtype([(\"quint16\", np.uint16, 1)])\n",
            "/usr/local/lib/python3.6/dist-packages/tensorflow/python/framework/dtypes.py:530: FutureWarning: Passing (type, 1) or '1type' as a synonym of type is deprecated; in a future version of numpy, it will be understood as (type, (1,)) / '(1,)type'.\n",
            "  _np_qint32 = np.dtype([(\"qint32\", np.int32, 1)])\n",
            "/usr/local/lib/python3.6/dist-packages/tensorflow/python/framework/dtypes.py:535: FutureWarning: Passing (type, 1) or '1type' as a synonym of type is deprecated; in a future version of numpy, it will be understood as (type, (1,)) / '(1,)type'.\n",
            "  np_resource = np.dtype([(\"resource\", np.ubyte, 1)])\n"
          ],
          "name": "stderr"
        },
        {
          "output_type": "stream",
          "text": [
            "WARNING:tensorflow:From /usr/local/lib/python3.6/dist-packages/tensorflow/python/ops/resource_variable_ops.py:435: colocate_with (from tensorflow.python.framework.ops) is deprecated and will be removed in a future version.\n",
            "Instructions for updating:\n",
            "Colocations handled automatically by placer.\n"
          ],
          "name": "stdout"
        }
      ]
    },
    {
      "cell_type": "code",
      "metadata": {
        "id": "uJPq0jaR2DFi",
        "colab_type": "code",
        "outputId": "5c565394-0f50-4509-91c0-b21c6031d6ff",
        "colab": {
          "base_uri": "https://localhost:8080/",
          "height": 320
        }
      },
      "source": [
        "import numpy as np\n",
        "import cv2\n",
        "from matplotlib import pyplot as plt\n",
        "company_name = []\n",
        "type_of_form = []\n",
        "checkbox_field = []\n",
        "img = cv2.imread('/content/logo_detected_image.jpg',0)\n",
        "plt.imshow(img, cmap = 'gray', interpolation = 'bicubic')\n",
        "plt.xticks([]), plt.yticks([])\n",
        "plt.show()\n",
        "print()\n",
        "if prediction_dictionary[index1] in ['Charles Schwab', 'Merrill Lynch', 'Fidelity', 'American Funds']:\n",
        "  print(\"The company name is \", prediction_dictionary[index1])\n",
        "  company_name.append(prediction_dictionary[index1])\n",
        "  print(\"Type of Form is \", prediction_dictionary[index2])\n",
        "  type_of_form.append(prediction_dictionary[index2])\n",
        "  print(\"CheckBox Field:- \", tick_box_field[0])\n",
        "  checkbox_field.append(tick_box_field[0])\n",
        "else:\n",
        "  print(\"The company name is \", prediction_dictionary[index2])\n",
        "  company_name.append(prediction_dictionary[index2])\n",
        "  print(\"Type of form is \", prediction_dictionary[index1])\n",
        "  type_of_form.append(prediction_dictionary[index1])\n",
        "  print(\"CheckBox Field:- \", tick_box_field[0])\n",
        "  checkbox_field.append(tick_box_field[0])"
      ],
      "execution_count": 0,
      "outputs": [
        {
          "output_type": "display_data",
          "data": {
            "image/png": "[encoded data removed]",
            "text/plain": [
              "<Figure size 432x288 with 1 Axes>"
            ]
          },
          "metadata": {
            "tags": []
          }
        },
        {
          "output_type": "stream",
          "text": [
            "\n",
            "The company name is  Fidelity\n",
            "Type of form is  IRA Transfer Form\n",
            "CheckBox Field:-  No checkbox field is present in the form\n"
          ],
          "name": "stdout"
        }
      ]
    },
    {
      "cell_type": "code",
      "metadata": {
        "id": "IqmHTdSjTjo_",
        "colab_type": "code",
        "outputId": "9ee8c896-ad0a-4164-a4bc-b5a53b04797e",
        "colab": {
          "base_uri": "https://localhost:8080/",
          "height": 80
        }
      },
      "source": [
        "import pandas as pd\n",
        "import csv\n",
        "dataframe_dictionary={}\n",
        "labels = ['Company Name[OD]', 'Type of Form[OD]', 'CheckBox Field[OD]']\n",
        "data_fields = []\n",
        "data_fields.append(company_name)\n",
        "data_fields.append(type_of_form)\n",
        "data_fields.append(checkbox_field)\n",
        "dataframe_dictionary = dict(zip(labels, data_fields))\n",
        "df = pd.DataFrame(dataframe_dictionary)\n",
        "df"
      ],
      "execution_count": 0,
      "outputs": [
        {
          "output_type": "execute_result",
          "data": {
            "text/html": [
              "<div>\n",
              "<style scoped>\n",
              "    .dataframe tbody tr th:only-of-type {\n",
              "        vertical-align: middle;\n",
              "    }\n",
              "\n",
              "    .dataframe tbody tr th {\n",
              "        vertical-align: top;\n",
              "    }\n",
              "\n",
              "    .dataframe thead th {\n",
              "        text-align: right;\n",
              "    }\n",
              "</style>\n",
              "<table border=\"1\" class=\"dataframe\">\n",
              "  <thead>\n",
              "    <tr style=\"text-align: right;\">\n",
              "      <th></th>\n",
              "      <th>Company Name[OD]</th>\n",
              "      <th>Type of Form[OD]</th>\n",
              "      <th>CheckBox Field[OD]</th>\n",
              "    </tr>\n",
              "  </thead>\n",
              "  <tbody>\n",
              "    <tr>\n",
              "      <th>0</th>\n",
              "      <td>Fidelity</td>\n",
              "      <td>IRA Transfer Form</td>\n",
              "      <td>No checkbox field is present in the form</td>\n",
              "    </tr>\n",
              "  </tbody>\n",
              "</table>\n",
              "</div>"
            ],
            "text/plain": [
              "  Company Name[OD]   Type of Form[OD]                        CheckBox Field[OD]\n",
              "0         Fidelity  IRA Transfer Form  No checkbox field is present in the form"
            ]
          },
          "metadata": {
            "tags": []
          },
          "execution_count": 11
        }
      ]
    },
    {
      "cell_type": "code",
      "metadata": {
        "id": "MIi6U32NTmoD",
        "colab_type": "code",
        "colab": {}
      },
      "source": [
        "df.to_csv('results.csv', mode ='a', index = False, header=False)"
      ],
      "execution_count": 0,
      "outputs": []
    },
    {
      "cell_type": "code",
      "metadata": {
        "id": "MokhL18CTqYL",
        "colab_type": "code",
        "outputId": "aba9eee3-a564-48c6-e9be-35b5659d2d93",
        "colab": {
          "base_uri": "https://localhost:8080/",
          "height": 142
        }
      },
      "source": [
        "df1 = pd.read_csv('results.csv')\n",
        "df1"
      ],
      "execution_count": 0,
      "outputs": [
        {
          "output_type": "execute_result",
          "data": {
            "text/html": [
              "<div>\n",
              "<style scoped>\n",
              "    .dataframe tbody tr th:only-of-type {\n",
              "        vertical-align: middle;\n",
              "    }\n",
              "\n",
              "    .dataframe tbody tr th {\n",
              "        vertical-align: top;\n",
              "    }\n",
              "\n",
              "    .dataframe thead th {\n",
              "        text-align: right;\n",
              "    }\n",
              "</style>\n",
              "<table border=\"1\" class=\"dataframe\">\n",
              "  <thead>\n",
              "    <tr style=\"text-align: right;\">\n",
              "      <th></th>\n",
              "      <th>Company Name[OD]</th>\n",
              "      <th>Type of Form[OD]</th>\n",
              "      <th>CheckBox Field[OD]</th>\n",
              "    </tr>\n",
              "  </thead>\n",
              "  <tbody>\n",
              "    <tr>\n",
              "      <th>0</th>\n",
              "      <td>Merrill Lynch</td>\n",
              "      <td>Client Account Transfer Form</td>\n",
              "      <td>IRA</td>\n",
              "    </tr>\n",
              "    <tr>\n",
              "      <th>1</th>\n",
              "      <td>Charles Schwab</td>\n",
              "      <td>IRA Account Application</td>\n",
              "      <td>No checkbox field is present in the form</td>\n",
              "    </tr>\n",
              "    <tr>\n",
              "      <th>2</th>\n",
              "      <td>Fidelity</td>\n",
              "      <td>IRA Transfer Form</td>\n",
              "      <td>No checkbox field is present in the form</td>\n",
              "    </tr>\n",
              "  </tbody>\n",
              "</table>\n",
              "</div>"
            ],
            "text/plain": [
              "  Company Name[OD]  ...                        CheckBox Field[OD]\n",
              "0    Merrill Lynch  ...                                       IRA\n",
              "1   Charles Schwab  ...  No checkbox field is present in the form\n",
              "2         Fidelity  ...  No checkbox field is present in the form\n",
              "\n",
              "[3 rows x 3 columns]"
            ]
          },
          "metadata": {
            "tags": []
          },
          "execution_count": 13
        }
      ]
    },
    {
      "cell_type": "markdown",
      "metadata": {
        "id": "1Gww0uiYd-Yq",
        "colab_type": "text"
      },
      "source": [
        "## **Named Entity Recognition [NER]**\n",
        "Using the concepts of NER and OCR, we detect the text element fields in the form and then predict the category, type, and various other fields which are filled in the form.\n",
        "\n",
        "**Input:-** *FORM* [PDF/JPEG/PNG]\n",
        "\n",
        "**Output:-** *Category* ['Merrill Lynch', 'Charles Schwab'.......] *Type* ['IRA, Client Account Transfer Form'].......*Name*['Jacobs'....], *City*['New York'....]"
      ]
    },
    {
      "cell_type": "code",
      "metadata": {
        "id": "PaZ_Ee6c3TrU",
        "colab_type": "code",
        "outputId": "967520fb-9602-4c70-a9c3-4080cfac9ab8",
        "colab": {
          "base_uri": "https://localhost:8080/",
          "height": 373
        }
      },
      "source": [
        "!pip install -U spacy"
      ],
      "execution_count": 0,
      "outputs": [
        {
          "output_type": "stream",
          "text": [
            "Requirement already up-to-date: spacy in /usr/local/lib/python3.6/dist-packages (2.2.4)\n",
            "Requirement already satisfied, skipping upgrade: cymem<2.1.0,>=2.0.2 in /usr/local/lib/python3.6/dist-packages (from spacy) (2.0.3)\n",
            "Requirement already satisfied, skipping upgrade: tqdm<5.0.0,>=4.38.0 in /usr/local/lib/python3.6/dist-packages (from spacy) (4.41.1)\n",
            "Requirement already satisfied, skipping upgrade: murmurhash<1.1.0,>=0.28.0 in /usr/local/lib/python3.6/dist-packages (from spacy) (1.0.2)\n",
            "Requirement already satisfied, skipping upgrade: preshed<3.1.0,>=3.0.2 in /usr/local/lib/python3.6/dist-packages (from spacy) (3.0.2)\n",
            "Requirement already satisfied, skipping upgrade: blis<0.5.0,>=0.4.0 in /usr/local/lib/python3.6/dist-packages (from spacy) (0.4.1)\n",
            "Requirement already satisfied, skipping upgrade: catalogue<1.1.0,>=0.0.7 in /usr/local/lib/python3.6/dist-packages (from spacy) (1.0.0)\n",
            "Requirement already satisfied, skipping upgrade: thinc==7.4.0 in /usr/local/lib/python3.6/dist-packages (from spacy) (7.4.0)\n",
            "Requirement already satisfied, skipping upgrade: setuptools in /usr/local/lib/python3.6/dist-packages (from spacy) (46.3.0)\n",
            "Requirement already satisfied, skipping upgrade: wasabi<1.1.0,>=0.4.0 in /usr/local/lib/python3.6/dist-packages (from spacy) (0.6.0)\n",
            "Requirement already satisfied, skipping upgrade: srsly<1.1.0,>=1.0.2 in /usr/local/lib/python3.6/dist-packages (from spacy) (1.0.2)\n",
            "Requirement already satisfied, skipping upgrade: numpy>=1.15.0 in /usr/local/lib/python3.6/dist-packages (from spacy) (1.18.4)\n",
            "Requirement already satisfied, skipping upgrade: plac<1.2.0,>=0.9.6 in /usr/local/lib/python3.6/dist-packages (from spacy) (1.1.3)\n",
            "Requirement already satisfied, skipping upgrade: requests<3.0.0,>=2.13.0 in /usr/local/lib/python3.6/dist-packages (from spacy) (2.23.0)\n",
            "Requirement already satisfied, skipping upgrade: importlib-metadata>=0.20; python_version < \"3.8\" in /usr/local/lib/python3.6/dist-packages (from catalogue<1.1.0,>=0.0.7->spacy) (1.6.0)\n",
            "Requirement already satisfied, skipping upgrade: urllib3!=1.25.0,!=1.25.1,<1.26,>=1.21.1 in /usr/local/lib/python3.6/dist-packages (from requests<3.0.0,>=2.13.0->spacy) (1.24.3)\n",
            "Requirement already satisfied, skipping upgrade: certifi>=2017.4.17 in /usr/local/lib/python3.6/dist-packages (from requests<3.0.0,>=2.13.0->spacy) (2020.4.5.1)\n",
            "Requirement already satisfied, skipping upgrade: idna<3,>=2.5 in /usr/local/lib/python3.6/dist-packages (from requests<3.0.0,>=2.13.0->spacy) (2.9)\n",
            "Requirement already satisfied, skipping upgrade: chardet<4,>=3.0.2 in /usr/local/lib/python3.6/dist-packages (from requests<3.0.0,>=2.13.0->spacy) (3.0.4)\n",
            "Requirement already satisfied, skipping upgrade: zipp>=0.5 in /usr/local/lib/python3.6/dist-packages (from importlib-metadata>=0.20; python_version < \"3.8\"->catalogue<1.1.0,>=0.0.7->spacy) (3.1.0)\n"
          ],
          "name": "stdout"
        }
      ]
    },
    {
      "cell_type": "code",
      "metadata": {
        "id": "ir_XsewOeOEM",
        "colab_type": "code",
        "outputId": "0db468bf-8a4e-48e6-e002-c2e045e831c7",
        "colab": {
          "base_uri": "https://localhost:8080/",
          "height": 491
        }
      },
      "source": [
        "# The google-cloud-vision package already installed in colab, no need to install.\n",
        "!pip install --upgrade google-cloud-vision"
      ],
      "execution_count": 0,
      "outputs": [
        {
          "output_type": "stream",
          "text": [
            "Collecting google-cloud-vision\n",
            "\u001b[?25l  Downloading https://files.pythonhosted.org/packages/0d/7f/e10d602c2dc3f749f1b78377a3357790f1da71b28e7da9e5bc20b3a9bd40/google_cloud_vision-1.0.0-py2.py3-none-any.whl (435kB)\n",
            "\r\u001b[K     |▊                               | 10kB 15.9MB/s eta 0:00:01\r\u001b[K     |█▌                              | 20kB 3.2MB/s eta 0:00:01\r\u001b[K     |██▎                             | 30kB 4.5MB/s eta 0:00:01\r\u001b[K     |███                             | 40kB 5.8MB/s eta 0:00:01\r\u001b[K     |███▊                            | 51kB 3.7MB/s eta 0:00:01\r\u001b[K     |████▌                           | 61kB 4.4MB/s eta 0:00:01\r\u001b[K     |█████▎                          | 71kB 5.0MB/s eta 0:00:01\r\u001b[K     |██████                          | 81kB 5.6MB/s eta 0:00:01\r\u001b[K     |██████▉                         | 92kB 4.5MB/s eta 0:00:01\r\u001b[K     |███████▌                        | 102kB 4.9MB/s eta 0:00:01\r\u001b[K     |████████▎                       | 112kB 4.9MB/s eta 0:00:01\r\u001b[K     |█████████                       | 122kB 4.9MB/s eta 0:00:01\r\u001b[K     |█████████▉                      | 133kB 4.9MB/s eta 0:00:01\r\u001b[K     |██████████▌                     | 143kB 4.9MB/s eta 0:00:01\r\u001b[K     |███████████▎                    | 153kB 4.9MB/s eta 0:00:01\r\u001b[K     |████████████                    | 163kB 4.9MB/s eta 0:00:01\r\u001b[K     |████████████▉                   | 174kB 4.9MB/s eta 0:00:01\r\u001b[K     |█████████████▋                  | 184kB 4.9MB/s eta 0:00:01\r\u001b[K     |██████████████▎                 | 194kB 4.9MB/s eta 0:00:01\r\u001b[K     |███████████████                 | 204kB 4.9MB/s eta 0:00:01\r\u001b[K     |███████████████▉                | 215kB 4.9MB/s eta 0:00:01\r\u001b[K     |████████████████▋               | 225kB 4.9MB/s eta 0:00:01\r\u001b[K     |█████████████████▎              | 235kB 4.9MB/s eta 0:00:01\r\u001b[K     |██████████████████              | 245kB 4.9MB/s eta 0:00:01\r\u001b[K     |██████████████████▉             | 256kB 4.9MB/s eta 0:00:01\r\u001b[K     |███████████████████▋            | 266kB 4.9MB/s eta 0:00:01\r\u001b[K     |████████████████████▍           | 276kB 4.9MB/s eta 0:00:01\r\u001b[K     |█████████████████████           | 286kB 4.9MB/s eta 0:00:01\r\u001b[K     |█████████████████████▉          | 296kB 4.9MB/s eta 0:00:01\r\u001b[K     |██████████████████████▋         | 307kB 4.9MB/s eta 0:00:01\r\u001b[K     |███████████████████████▍        | 317kB 4.9MB/s eta 0:00:01\r\u001b[K     |████████████████████████        | 327kB 4.9MB/s eta 0:00:01\r\u001b[K     |████████████████████████▉       | 337kB 4.9MB/s eta 0:00:01\r\u001b[K     |█████████████████████████▋      | 348kB 4.9MB/s eta 0:00:01\r\u001b[K     |██████████████████████████▍     | 358kB 4.9MB/s eta 0:00:01\r\u001b[K     |███████████████████████████▏    | 368kB 4.9MB/s eta 0:00:01\r\u001b[K     |███████████████████████████▉    | 378kB 4.9MB/s eta 0:00:01\r\u001b[K     |████████████████████████████▋   | 389kB 4.9MB/s eta 0:00:01\r\u001b[K     |█████████████████████████████▍  | 399kB 4.9MB/s eta 0:00:01\r\u001b[K     |██████████████████████████████▏ | 409kB 4.9MB/s eta 0:00:01\r\u001b[K     |██████████████████████████████▉ | 419kB 4.9MB/s eta 0:00:01\r\u001b[K     |███████████████████████████████▋| 430kB 4.9MB/s eta 0:00:01\r\u001b[K     |████████████████████████████████| 440kB 4.9MB/s \n",
            "\u001b[?25hRequirement already satisfied, skipping upgrade: google-api-core[grpc]<2.0.0dev,>=1.14.0 in /usr/local/lib/python3.6/dist-packages (from google-cloud-vision) (1.16.0)\n",
            "Requirement already satisfied, skipping upgrade: googleapis-common-protos<2.0dev,>=1.6.0 in /usr/local/lib/python3.6/dist-packages (from google-api-core[grpc]<2.0.0dev,>=1.14.0->google-cloud-vision) (1.51.0)\n",
            "Requirement already satisfied, skipping upgrade: pytz in /usr/local/lib/python3.6/dist-packages (from google-api-core[grpc]<2.0.0dev,>=1.14.0->google-cloud-vision) (2018.9)\n",
            "Requirement already satisfied, skipping upgrade: requests<3.0.0dev,>=2.18.0 in /usr/local/lib/python3.6/dist-packages (from google-api-core[grpc]<2.0.0dev,>=1.14.0->google-cloud-vision) (2.23.0)\n",
            "Requirement already satisfied, skipping upgrade: setuptools>=34.0.0 in /usr/local/lib/python3.6/dist-packages (from google-api-core[grpc]<2.0.0dev,>=1.14.0->google-cloud-vision) (46.3.0)\n",
            "Requirement already satisfied, skipping upgrade: six>=1.10.0 in /usr/local/lib/python3.6/dist-packages (from google-api-core[grpc]<2.0.0dev,>=1.14.0->google-cloud-vision) (1.12.0)\n",
            "Requirement already satisfied, skipping upgrade: google-auth<2.0dev,>=0.4.0 in /usr/local/lib/python3.6/dist-packages (from google-api-core[grpc]<2.0.0dev,>=1.14.0->google-cloud-vision) (1.7.2)\n",
            "Requirement already satisfied, skipping upgrade: protobuf>=3.4.0 in /usr/local/lib/python3.6/dist-packages (from google-api-core[grpc]<2.0.0dev,>=1.14.0->google-cloud-vision) (3.10.0)\n",
            "Requirement already satisfied, skipping upgrade: grpcio<2.0dev,>=1.8.2; extra == \"grpc\" in /usr/local/lib/python3.6/dist-packages (from google-api-core[grpc]<2.0.0dev,>=1.14.0->google-cloud-vision) (1.29.0)\n",
            "Requirement already satisfied, skipping upgrade: idna<3,>=2.5 in /usr/local/lib/python3.6/dist-packages (from requests<3.0.0dev,>=2.18.0->google-api-core[grpc]<2.0.0dev,>=1.14.0->google-cloud-vision) (2.9)\n",
            "Requirement already satisfied, skipping upgrade: chardet<4,>=3.0.2 in /usr/local/lib/python3.6/dist-packages (from requests<3.0.0dev,>=2.18.0->google-api-core[grpc]<2.0.0dev,>=1.14.0->google-cloud-vision) (3.0.4)\n",
            "Requirement already satisfied, skipping upgrade: certifi>=2017.4.17 in /usr/local/lib/python3.6/dist-packages (from requests<3.0.0dev,>=2.18.0->google-api-core[grpc]<2.0.0dev,>=1.14.0->google-cloud-vision) (2020.4.5.1)\n",
            "Requirement already satisfied, skipping upgrade: urllib3!=1.25.0,!=1.25.1,<1.26,>=1.21.1 in /usr/local/lib/python3.6/dist-packages (from requests<3.0.0dev,>=2.18.0->google-api-core[grpc]<2.0.0dev,>=1.14.0->google-cloud-vision) (1.24.3)\n",
            "Requirement already satisfied, skipping upgrade: cachetools<3.2,>=2.0.0 in /usr/local/lib/python3.6/dist-packages (from google-auth<2.0dev,>=0.4.0->google-api-core[grpc]<2.0.0dev,>=1.14.0->google-cloud-vision) (3.1.1)\n",
            "Requirement already satisfied, skipping upgrade: pyasn1-modules>=0.2.1 in /usr/local/lib/python3.6/dist-packages (from google-auth<2.0dev,>=0.4.0->google-api-core[grpc]<2.0.0dev,>=1.14.0->google-cloud-vision) (0.2.8)\n",
            "Requirement already satisfied, skipping upgrade: rsa<4.1,>=3.1.4 in /usr/local/lib/python3.6/dist-packages (from google-auth<2.0dev,>=0.4.0->google-api-core[grpc]<2.0.0dev,>=1.14.0->google-cloud-vision) (4.0)\n",
            "Requirement already satisfied, skipping upgrade: pyasn1<0.5.0,>=0.4.6 in /usr/local/lib/python3.6/dist-packages (from pyasn1-modules>=0.2.1->google-auth<2.0dev,>=0.4.0->google-api-core[grpc]<2.0.0dev,>=1.14.0->google-cloud-vision) (0.4.8)\n",
            "Installing collected packages: google-cloud-vision\n",
            "Successfully installed google-cloud-vision-1.0.0\n"
          ],
          "name": "stdout"
        },
        {
          "output_type": "display_data",
          "data": {
            "application/vnd.colab-display-data+json": {
              "pip_warning": {
                "packages": [
                  "google"
                ]
              }
            }
          },
          "metadata": {
            "tags": []
          }
        }
      ]
    },
    {
      "cell_type": "code",
      "metadata": {
        "id": "ooEQ_hWXeS2i",
        "colab_type": "code",
        "outputId": "cb5c4364-9dad-49bf-cc0b-3567df491a6b",
        "colab": {
          "base_uri": "https://localhost:8080/",
          "height": 121
        }
      },
      "source": [
        "# Install pdf2image library\n",
        "!pip install pdf2image"
      ],
      "execution_count": 0,
      "outputs": [
        {
          "output_type": "stream",
          "text": [
            "Collecting pdf2image\n",
            "  Downloading https://files.pythonhosted.org/packages/c6/62/bf2df0547cf4e216b329a9d39a7aa6c755f02071e63e17a4b76690ebfe20/pdf2image-1.13.1-py3-none-any.whl\n",
            "Requirement already satisfied: pillow in /usr/local/lib/python3.6/dist-packages (from pdf2image) (7.0.0)\n",
            "Installing collected packages: pdf2image\n",
            "Successfully installed pdf2image-1.13.1\n"
          ],
          "name": "stdout"
        }
      ]
    },
    {
      "cell_type": "code",
      "metadata": {
        "id": "ZSFqhdATeVJZ",
        "colab_type": "code",
        "outputId": "8a36d8b7-0384-4ca7-feac-108de15673ec",
        "colab": {
          "base_uri": "https://localhost:8080/",
          "height": 286
        }
      },
      "source": [
        "# Install poppler required for pdf2image\n",
        "!apt-get install poppler-utils "
      ],
      "execution_count": 0,
      "outputs": [
        {
          "output_type": "stream",
          "text": [
            "\rReading package lists... 0%\r\rReading package lists... 0%\r\rReading package lists... 0%\r\rReading package lists... 6%\r\rReading package lists... 6%\r\rReading package lists... 7%\r\rReading package lists... 7%\r\rReading package lists... 63%\r\rReading package lists... 63%\r\rReading package lists... 64%\r\rReading package lists... 64%\r\rReading package lists... 65%\r\rReading package lists... 71%\r\rReading package lists... 71%\r\rReading package lists... 72%\r\rReading package lists... 72%\r\rReading package lists... 81%\r\rReading package lists... 81%\r\rReading package lists... 81%\r\rReading package lists... 81%\r\rReading package lists... 81%\r\rReading package lists... 81%\r\rReading package lists... 81%\r\rReading package lists... 81%\r\rReading package lists... 87%\r\rReading package lists... 87%\r\rReading package lists... 87%\r\rReading package lists... 87%\r\rReading package lists... 93%\r\rReading package lists... 93%\r\rReading package lists... 93%\r\rReading package lists... 93%\r\rReading package lists... 93%\r\rReading package lists... 93%\r\rReading package lists... 94%\r\rReading package lists... 94%\r\rReading package lists... 95%\r\rReading package lists... 95%\r\rReading package lists... 98%\r\rReading package lists... 98%\r\rReading package lists... 98%\r\rReading package lists... 98%\r\rReading package lists... Done\r\n",
            "\rBuilding dependency tree... 0%\r\rBuilding dependency tree... 0%\r\rBuilding dependency tree... 50%\r\rBuilding dependency tree... 50%\r\rBuilding dependency tree       \r\n",
            "\rReading state information... 0%\r\rReading state information... 0%\r\rReading state information... Done\r\n",
            "The following NEW packages will be installed:\n",
            "  poppler-utils\n",
            "0 upgraded, 1 newly installed, 0 to remove and 31 not upgraded.\n",
            "Need to get 154 kB of archives.\n",
            "After this operation, 613 kB of additional disk space will be used.\n",
            "\r0% [Working]\r            \rGet:1 http://archive.ubuntu.com/ubuntu bionic-updates/main amd64 poppler-utils amd64 0.62.0-2ubuntu2.10 [154 kB]\n",
            "Fetched 154 kB in 1s (197 kB/s)\n",
            "Selecting previously unselected package poppler-utils.\n",
            "(Reading database ... 144433 files and directories currently installed.)\n",
            "Preparing to unpack .../poppler-utils_0.62.0-2ubuntu2.10_amd64.deb ...\n",
            "Unpacking poppler-utils (0.62.0-2ubuntu2.10) ...\n",
            "Setting up poppler-utils (0.62.0-2ubuntu2.10) ...\n",
            "Processing triggers for man-db (2.8.3-2ubuntu0.1) ...\n"
          ],
          "name": "stdout"
        }
      ]
    },
    {
      "cell_type": "code",
      "metadata": {
        "id": "T6_wHOTheW00",
        "colab_type": "code",
        "colab": {}
      },
      "source": [
        "import os\n",
        "from google.cloud import vision\n",
        "import io\n",
        "import pandas as pd"
      ],
      "execution_count": 0,
      "outputs": []
    },
    {
      "cell_type": "markdown",
      "metadata": {
        "id": "wnDWL5yleq-a",
        "colab_type": "text"
      },
      "source": [
        " **Extract text from images.**"
      ]
    },
    {
      "cell_type": "code",
      "metadata": {
        "id": "9gqCzy6eeae9",
        "colab_type": "code",
        "colab": {}
      },
      "source": [
        "def detect_text_from_image(path):\n",
        "    '''\n",
        "    Function to extract texts from a image using GOOGLE CLOUD VISION API.\n",
        "    Param:\n",
        "        path : Full path of image.\n",
        "    Return:\n",
        "        Extracted text.\n",
        "    '''\n",
        "    # \n",
        "    os.environ[\"GOOGLE_APPLICATION_CREDENTIALS\"] = \"/content/My First Project-dff60b5d1137.json\"\n",
        "    \"\"\"Detects text in the file.\"\"\"\n",
        "    \n",
        "    client = vision.ImageAnnotatorClient()\n",
        "\n",
        "    with io.open(path, 'rb') as image_file:\n",
        "        content = image_file.read()\n",
        "\n",
        "    image = vision.types.Image(content=content)\n",
        "\n",
        "    response = client.document_text_detection(image=image)\n",
        "    texts = response.text_annotations\n",
        "    print('Texts:')\n",
        "\n",
        "    if response.error.message:\n",
        "        raise Exception(\n",
        "            '{}\\nFor more info on error messages, check: '\n",
        "            'https://cloud.google.com/apis/design/errors'.format(\n",
        "                response.error.message))\n",
        "\n",
        "    return texts[0].description\n",
        "\n",
        "# Detect text from PDF."
      ],
      "execution_count": 0,
      "outputs": []
    },
    {
      "cell_type": "code",
      "metadata": {
        "id": "BaI9B7hTfPgA",
        "colab_type": "code",
        "outputId": "2ac537c2-26b9-4b01-d5a7-fdbfebd3a89d",
        "colab": {
          "base_uri": "https://localhost:8080/",
          "height": 70
        }
      },
      "source": [
        "detect_text_from_image('/content/drive/My Drive/DOC-NER/Merrilllynch_CRA/Allan A Cook.png')"
      ],
      "execution_count": 0,
      "outputs": [
        {
          "output_type": "stream",
          "text": [
            "Texts:\n"
          ],
          "name": "stdout"
        },
        {
          "output_type": "execute_result",
          "data": {
            "text/plain": [
              "\"DTC8862\\nACAT0671\\nA BANK OF AMERICA COMPANY\\nClient Account Transfer Form\\nMERRILLS\\nUse this form to transfer all or a portion of your account from\\nanother financial institution to your Merrill Lynch, Pierce, Fenner &\\nSmith Incorporated (“Merrill Lynch”) account.\\nFor best results, please complete the information requested below in parts 1 to 4 using ALL CAPITAL letters and\\nblack ink. If you need more room for information or signatures, use a copy of the relevant page or a blank sheet. Use\\none form for each account that you're transferring.\\nThings to know before you begin:\\nMany firms transfer assets using an automated transfer process, which typically takes 5 to 6 business days. Other\\nfirms either don't use the automated process or must process some assets manually, which takes more time. The\\nfollowing estimated time frames for manual transfers are from the date of receipt of instructions by the deli\\nfirm and may vary greatly:\\n· Equities, bonds and options, approximately 15 business days\\nRestricted securities, approximately 15 to 20 business days\\nMutual funds, up to 30 business days\\n- Foreign securities, 4 to 6 weeks\\nNote: Annuities are not transferred using this form. Please use the Merrill Lynch Annuity Transfer Form.\\nRemember to update any automatic deposits or withdrawals you've set up on the account you're transferring to\\nMerrill Lynch.\\n• Some transfers may result in tax consequences, penalties or financial risk. Consult your tax and financial\\nprofessionals before requesting this transfer.\\nIf you're rolling over assets from a 401(k) or other employer-sponsored plan, consider all of your choices. You may\\nbe able to roll over to an IRA, roll over an old 401(k) to a 401(k) at a new employer, take a distribution or leave the\\naccount where it is, depending on your unique financial needs and retirement goals. Each choice may offer different\\nbenefits and limitations including investment options and services, fees and expenses, withdrawal options, required\\nminimum distributions, tax treatment and protection from creditors and legal judgments. Additionally, there are\\nlimits to how often and when you can roll over your account. Please contact your 401(k) or other employer-sponsored\\nplan administrator for help with the transfer.\\nPart 1\\nWhere\\nyour\\naccount\\nis now\\nFIRM NAME\\nFIRM PHONE\\nCONTACT NAME\\nBlue Mountain Capital Management (541) 754-1111\\nSabrina J McKenzie\\nFIRM ADDRESS\\nCITY, STATE, ZIP\\nSearch Results 280 Park Ave 12th Floor\\nNew York, NY,10017\\nACCOUNT NUMBER\\nACCOUNT TITLE\\n60610454\\ni Allan A Cook\\nAttach all pages\\nof your most recent\\nstatement for this\\naccount to avoid\\nany delays\\nEMPLOYER ID NUMBER (If used for\\nrepo\\nACCOUNT TYPE (RETAIL/IRA etc.)\\nIRA\\nSOCIAL SECURITY NUMBER (If used for tax reporting)\\n353752495\\nAccount holders (individual accounts) or authorized signers (for business, trust, estate, etc.)\\nList all names exactly as they appear on this account.\\nTITLE (If an authorized signer)\\nNAME 1\\nAllan A Cook\\nNAME 2\\nTITLE (If an authorized signer)\\nRoth\\nO SEP\\nOther (Please specify)\\nPart 2\\nMerrill Lynch account\\nreceiving your\\ntransferred assets\\nMERRILL LYNCH ACCOUNT NUMBER ACCOUNT TYPE (Choose one)\\n335-0212\\nOCMA IRA\\nACCOUNT TITLE (Here at Merrill Lynch)\\nAllan A Cook\\nSOCIAL SECURITY NUMBER (If used for tax reporting)\\n353752495\\nEMPLOYER ID NUMBER (If used for tax reporting)\\nThis can include a\\nMerrill Lynch account\\non which you receive\\nfiduciary services\\nfrom U.S. Trust\\nAccount holders (individual accounts) or authorized signers (for business, trust, estate, etc.)\\nList all names exactly as they appear on this account. This account must have at least one owner in common with\\nyour transferring account, otherwise this process will be delayed.\\nTITLE (If an authorized signer)\\nNAME 1\\nAllan A Cook\\nNAME 2\\nTITLE (If an authorized signer)\\nEVENING PHONE\\nEMAIL\\nDAYTIME PHONE\\n(541) 754-1221\\nAllan@gmail.com\\nBRANCH CONTACT NAME\\nNICK LANE\\nBRANCH CONTACT NUMBER\\n866.848.6554\\nCODE 1566 MLPFS - 03/2018\\n\""
            ]
          },
          "metadata": {
            "tags": []
          },
          "execution_count": 49
        }
      ]
    },
    {
      "cell_type": "markdown",
      "metadata": {
        "id": "aMFiwSoZfU_D",
        "colab_type": "text"
      },
      "source": [
        "**Extract text from PDF**"
      ]
    },
    {
      "cell_type": "code",
      "metadata": {
        "id": "_6TSPC7OfR9Z",
        "colab_type": "code",
        "colab": {}
      },
      "source": [
        "from pdf2image import convert_from_path\n",
        "from pathlib import Path"
      ],
      "execution_count": 0,
      "outputs": []
    },
    {
      "cell_type": "code",
      "metadata": {
        "id": "Op4Ch8J9fZEz",
        "colab_type": "code",
        "colab": {}
      },
      "source": [
        "def detect_text_from_pdf(pdf_path, num_of_pages):\n",
        "\n",
        "    # Extract customer_name from file name. Replace ' ' by '_'\n",
        "    customer_name = Path(pdf_path).stem.replace(' ', '_')\n",
        "\n",
        "    pages = convert_from_path(pdf_path, 100, fmt = 'jpg')\n",
        "\n",
        "    pdf_text = []\n",
        "    for i, page in enumerate(pages[0:num_of_pages]):\n",
        "        temp_img_path = customer_name+ str(i) + '.jpg'\n",
        "        page.save(temp_img_path)\n",
        "        temp_text = detect_text_from_image(temp_img_path)\n",
        "        pdf_text.append(temp_text)\n",
        "        os.remove(temp_img_path)\n",
        "    return '. '.join(pdf_text).replace(\"\\n\", \" \")"
      ],
      "execution_count": 0,
      "outputs": []
    },
    {
      "cell_type": "markdown",
      "metadata": {
        "id": "ZPH1zYzbfdut",
        "colab_type": "text"
      },
      "source": [
        "**Generate list of files**"
      ]
    },
    {
      "cell_type": "code",
      "metadata": {
        "id": "q3zpdn3HfbEn",
        "colab_type": "code",
        "colab": {}
      },
      "source": [
        "from pathlib import PurePath"
      ],
      "execution_count": 0,
      "outputs": []
    },
    {
      "cell_type": "code",
      "metadata": {
        "id": "ur_8hV_Dff8n",
        "colab_type": "code",
        "colab": {}
      },
      "source": [
        "root_paths = ['/content/drive/My Drive/DOC-NER/Ameritrade Institutional',\n",
        "              '/content/drive/My Drive/DOC-NER/Merrilllynch_CRA',\n",
        "              '/content/drive/My Drive/DOC-NER/Schwab_IRA']\n",
        "\n",
        "all_files_list = []\n",
        "for root_path in root_paths:\n",
        "    for path, subdirs, files in os.walk(root_path):\n",
        "        for name in files:\n",
        "            all_files_list.append(os.path.join(path, name))"
      ],
      "execution_count": 0,
      "outputs": []
    },
    {
      "cell_type": "code",
      "metadata": {
        "id": "zAnOSDKUfl0z",
        "colab_type": "code",
        "outputId": "b00c3c82-5b68-47d2-dca2-2ec5e68fd463",
        "colab": {
          "base_uri": "https://localhost:8080/",
          "height": 1000
        }
      },
      "source": [
        "all_files_list"
      ],
      "execution_count": 0,
      "outputs": [
        {
          "output_type": "execute_result",
          "data": {
            "text/plain": [
              "['/content/drive/My Drive/DOC-NER/Ameritrade Institutional/Zita J Rottman_.pdf',\n",
              " '/content/drive/My Drive/DOC-NER/Ameritrade Institutional/Teresa R Woods_.pdf',\n",
              " '/content/drive/My Drive/DOC-NER/Ameritrade Institutional/Susan T Green_.pdf',\n",
              " '/content/drive/My Drive/DOC-NER/Ameritrade Institutional/Robert R Sheppard_.pdf',\n",
              " '/content/drive/My Drive/DOC-NER/Ameritrade Institutional/Robert R Allan_.pdf',\n",
              " '/content/drive/My Drive/DOC-NER/Ameritrade Institutional/Robert J Barr_.pdf',\n",
              " '/content/drive/My Drive/DOC-NER/Ameritrade Institutional/Pamela E Byrd_.pdf',\n",
              " '/content/drive/My Drive/DOC-NER/Ameritrade Institutional/Nora R Mills_.pdf',\n",
              " '/content/drive/My Drive/DOC-NER/Ameritrade Institutional/Michael_C_Preston_.pdf',\n",
              " '/content/drive/My Drive/DOC-NER/Ameritrade Institutional/Mary H Craven_.pdf',\n",
              " '/content/drive/My Drive/DOC-NER/Ameritrade Institutional/Mary H Craven_ (1).pdf',\n",
              " '/content/drive/My Drive/DOC-NER/Ameritrade Institutional/Marie P Watkins_.pdf',\n",
              " '/content/drive/My Drive/DOC-NER/Ameritrade Institutional/Marie P Watkins_ (1).pdf',\n",
              " '/content/drive/My Drive/DOC-NER/Ameritrade Institutional/Linda M Rice_.pdf',\n",
              " '/content/drive/My Drive/DOC-NER/Ameritrade Institutional/Lili J Thomas_.pdf',\n",
              " '/content/drive/My Drive/DOC-NER/Ameritrade Institutional/Lili J Thomas_ (1).pdf',\n",
              " '/content/drive/My Drive/DOC-NER/Ameritrade Institutional/Kristen W Hamilton_.pdf',\n",
              " '/content/drive/My Drive/DOC-NER/Ameritrade Institutional/Joseph T Green_.pdf',\n",
              " '/content/drive/My Drive/DOC-NER/Ameritrade Institutional/Joseph T Green_ (1).pdf',\n",
              " '/content/drive/My Drive/DOC-NER/Ameritrade Institutional/Joshua T Truitt_.pdf',\n",
              " '/content/drive/My Drive/DOC-NER/Ameritrade Institutional/Joseph N Weed_.pdf',\n",
              " '/content/drive/My Drive/DOC-NER/Ameritrade Institutional/James P Osborne.pdf',\n",
              " '/content/drive/My Drive/DOC-NER/Ameritrade Institutional/James P Osborne (1).pdf',\n",
              " '/content/drive/My Drive/DOC-NER/Ameritrade Institutional/Horace H Carpenter_.pdf',\n",
              " '/content/drive/My Drive/DOC-NER/Ameritrade Institutional/Harold N Samaniego_.pdf',\n",
              " '/content/drive/My Drive/DOC-NER/Ameritrade Institutional/Floyd K Brown_.pdf',\n",
              " '/content/drive/My Drive/DOC-NER/Ameritrade Institutional/Damian C Russell.pdf',\n",
              " '/content/drive/My Drive/DOC-NER/Ameritrade Institutional/Damian C Russell (1).pdf',\n",
              " '/content/drive/My Drive/DOC-NER/Ameritrade Institutional/Christopher V Herring_.pdf',\n",
              " '/content/drive/My Drive/DOC-NER/Ameritrade Institutional/Christine S Pyne_ (1).pdf',\n",
              " '/content/drive/My Drive/DOC-NER/Ameritrade Institutional/Carl M Ecklund_ (1).pdf',\n",
              " '/content/drive/My Drive/DOC-NER/Ameritrade Institutional/Carl M Ecklund_ (2).pdf',\n",
              " '/content/drive/My Drive/DOC-NER/Ameritrade Institutional/Anne C Pugh_.pdf',\n",
              " '/content/drive/My Drive/DOC-NER/Ameritrade Institutional/Angelica E Senn_.pdf',\n",
              " '/content/drive/My Drive/DOC-NER/Ameritrade Institutional/Angelica E Senn_ (1).pdf',\n",
              " '/content/drive/My Drive/DOC-NER/Ameritrade Institutional/Andrew_H_Jones_.pdf',\n",
              " '/content/drive/My Drive/DOC-NER/Ameritrade Institutional/Allan_A_Cook_.pdf',\n",
              " '/content/drive/My Drive/DOC-NER/Ameritrade Institutional/Adrian_T_Clemens_.pdf',\n",
              " '/content/drive/My Drive/DOC-NER/Ameritrade Institutional/Adrian_T_Clemens_ (1).pdf',\n",
              " '/content/drive/My Drive/DOC-NER/Ameritrade Institutional/Addie N McClellan_.pdf',\n",
              " '/content/drive/My Drive/DOC-NER/Ameritrade Institutional/Ada J Bardsley_.pdf',\n",
              " '/content/drive/My Drive/DOC-NER/Merrilllynch_CRA/Samantha.png',\n",
              " '/content/drive/My Drive/DOC-NER/Merrilllynch_CRA/Rose R Webb.png',\n",
              " '/content/drive/My Drive/DOC-NER/Merrilllynch_CRA/Robert N Sanford.png',\n",
              " '/content/drive/My Drive/DOC-NER/Merrilllynch_CRA/Robert E Regan.png',\n",
              " '/content/drive/My Drive/DOC-NER/Merrilllynch_CRA/Richard K Kral.png',\n",
              " '/content/drive/My Drive/DOC-NER/Merrilllynch_CRA/Peter E Trosper.png',\n",
              " '/content/drive/My Drive/DOC-NER/Merrilllynch_CRA/Harold L Brooks.pdf',\n",
              " '/content/drive/My Drive/DOC-NER/Merrilllynch_CRA/Hae F Taylor.pdf',\n",
              " '/content/drive/My Drive/DOC-NER/Merrilllynch_CRA/Gina F Johnson.pdf',\n",
              " '/content/drive/My Drive/DOC-NER/Merrilllynch_CRA/Eula R Tucker.pdf',\n",
              " '/content/drive/My Drive/DOC-NER/Merrilllynch_CRA/Edna T Peres.pdf',\n",
              " '/content/drive/My Drive/DOC-NER/Merrilllynch_CRA/Edith D Alexander.pdf',\n",
              " '/content/drive/My Drive/DOC-NER/Merrilllynch_CRA/Diana J Alarcon.pdf',\n",
              " '/content/drive/My Drive/DOC-NER/Merrilllynch_CRA/Connie J Llanos.pdf',\n",
              " '/content/drive/My Drive/DOC-NER/Merrilllynch_CRA/Cletus S Russo.pdf',\n",
              " '/content/drive/My Drive/DOC-NER/Merrilllynch_CRA/Cheryl J Taylor.pdf',\n",
              " '/content/drive/My Drive/DOC-NER/Merrilllynch_CRA/Candy T Lee.pdf',\n",
              " '/content/drive/My Drive/DOC-NER/Merrilllynch_CRA/Allan A Cook.png',\n",
              " '/content/drive/My Drive/DOC-NER/Merrilllynch_CRA/Allan A Cook (1).png',\n",
              " '/content/drive/My Drive/DOC-NER/Merrilllynch_CRA/Adrian Clemens.png',\n",
              " '/content/drive/My Drive/DOC-NER/Schwab_IRA/Bobby_J_Cole_.pdf',\n",
              " '/content/drive/My Drive/DOC-NER/Schwab_IRA/Thomas_L_Dodds_.pdf',\n",
              " '/content/drive/My Drive/DOC-NER/Schwab_IRA/Tammy_M_Pereira_.pdf',\n",
              " '/content/drive/My Drive/DOC-NER/Schwab_IRA/Richard_K_Forester_.pdf',\n",
              " '/content/drive/My Drive/DOC-NER/Schwab_IRA/James_B_Adams_.pdf',\n",
              " '/content/drive/My Drive/DOC-NER/Schwab_IRA/Edmund_L_Kroeger_.pdf',\n",
              " '/content/drive/My Drive/DOC-NER/Schwab_IRA/Donna_E_Warren_.pdf',\n",
              " '/content/drive/My Drive/DOC-NER/Schwab_IRA/Daniel_P_Woods_.pdf',\n",
              " '/content/drive/My Drive/DOC-NER/Schwab_IRA/Jonathan_K_Sanchez_.pdf',\n",
              " '/content/drive/My Drive/DOC-NER/Schwab_IRA/Karen_A_Sliva_.pdf',\n",
              " '/content/drive/My Drive/DOC-NER/Schwab_IRA/Patricia_J_Kim_.pdf']"
            ]
          },
          "metadata": {
            "tags": []
          },
          "execution_count": 54
        }
      ]
    },
    {
      "cell_type": "code",
      "metadata": {
        "id": "JL90FhdTfmUY",
        "colab_type": "code",
        "outputId": "c95f79c7-a4ac-4850-d796-3b3aebea9023",
        "colab": {
          "base_uri": "https://localhost:8080/",
          "height": 1000
        }
      },
      "source": [
        "from tqdm import tqdm\n",
        "extracted_text = []\n",
        "customer_file_name = []\n",
        "\n",
        "for path_ in tqdm(all_files_list):\n",
        "    print(path_)\n",
        "    file_name = path_.split('/')[-1]\n",
        "    print(file_name)\n",
        "    \n",
        "    if Path(file_name).suffix == '.pdf':\n",
        "        extracted_text.append(detect_text_from_pdf(pdf_path = path_, num_of_pages = 2))\n",
        "        customer_file_name.append(file_name)\n",
        "    elif Path(file_name).suffix == '.png' or 'jpg':\n",
        "        extracted_text.append(detect_text_from_image(path_))\n",
        "        customer_file_name.append(file_name)\n",
        "    else:\n",
        "        pass"
      ],
      "execution_count": 0,
      "outputs": [
        {
          "output_type": "stream",
          "text": [
            "\n",
            "  0%|          | 0/72 [00:00<?, ?it/s]\u001b[A"
          ],
          "name": "stderr"
        },
        {
          "output_type": "stream",
          "text": [
            "/content/drive/My Drive/DOC-NER/Ameritrade Institutional/Zita J Rottman_.pdf\n",
            "Zita J Rottman_.pdf\n",
            "Texts:\n"
          ],
          "name": "stdout"
        },
        {
          "output_type": "stream",
          "text": [
            "\n",
            "  1%|▏         | 1/72 [00:01<02:10,  1.84s/it]\u001b[A"
          ],
          "name": "stderr"
        },
        {
          "output_type": "stream",
          "text": [
            "Texts:\n",
            "/content/drive/My Drive/DOC-NER/Ameritrade Institutional/Teresa R Woods_.pdf\n",
            "Teresa R Woods_.pdf\n",
            "Texts:\n"
          ],
          "name": "stdout"
        },
        {
          "output_type": "stream",
          "text": [
            "\n",
            "  3%|▎         | 2/72 [00:03<02:05,  1.79s/it]\u001b[A"
          ],
          "name": "stderr"
        },
        {
          "output_type": "stream",
          "text": [
            "Texts:\n",
            "/content/drive/My Drive/DOC-NER/Ameritrade Institutional/Susan T Green_.pdf\n",
            "Susan T Green_.pdf\n",
            "Texts:\n"
          ],
          "name": "stdout"
        },
        {
          "output_type": "stream",
          "text": [
            "\n",
            "  4%|▍         | 3/72 [00:04<01:56,  1.70s/it]\u001b[A"
          ],
          "name": "stderr"
        },
        {
          "output_type": "stream",
          "text": [
            "Texts:\n",
            "/content/drive/My Drive/DOC-NER/Ameritrade Institutional/Robert R Sheppard_.pdf\n",
            "Robert R Sheppard_.pdf\n",
            "Texts:\n"
          ],
          "name": "stdout"
        },
        {
          "output_type": "stream",
          "text": [
            "\n",
            "  6%|▌         | 4/72 [00:06<01:53,  1.67s/it]\u001b[A"
          ],
          "name": "stderr"
        },
        {
          "output_type": "stream",
          "text": [
            "Texts:\n",
            "/content/drive/My Drive/DOC-NER/Ameritrade Institutional/Robert R Allan_.pdf\n",
            "Robert R Allan_.pdf\n",
            "Texts:\n"
          ],
          "name": "stdout"
        },
        {
          "output_type": "stream",
          "text": [
            "\n",
            "  7%|▋         | 5/72 [00:08<01:52,  1.67s/it]\u001b[A"
          ],
          "name": "stderr"
        },
        {
          "output_type": "stream",
          "text": [
            "Texts:\n",
            "/content/drive/My Drive/DOC-NER/Ameritrade Institutional/Robert J Barr_.pdf\n",
            "Robert J Barr_.pdf\n",
            "Texts:\n"
          ],
          "name": "stdout"
        },
        {
          "output_type": "stream",
          "text": [
            "\n",
            "  8%|▊         | 6/72 [00:09<01:50,  1.67s/it]\u001b[A"
          ],
          "name": "stderr"
        },
        {
          "output_type": "stream",
          "text": [
            "Texts:\n",
            "/content/drive/My Drive/DOC-NER/Ameritrade Institutional/Pamela E Byrd_.pdf\n",
            "Pamela E Byrd_.pdf\n",
            "Texts:\n"
          ],
          "name": "stdout"
        },
        {
          "output_type": "stream",
          "text": [
            "\n",
            " 10%|▉         | 7/72 [00:11<01:47,  1.65s/it]\u001b[A"
          ],
          "name": "stderr"
        },
        {
          "output_type": "stream",
          "text": [
            "Texts:\n",
            "/content/drive/My Drive/DOC-NER/Ameritrade Institutional/Nora R Mills_.pdf\n",
            "Nora R Mills_.pdf\n",
            "Texts:\n"
          ],
          "name": "stdout"
        },
        {
          "output_type": "stream",
          "text": [
            "\n",
            " 11%|█         | 8/72 [00:13<01:45,  1.65s/it]\u001b[A"
          ],
          "name": "stderr"
        },
        {
          "output_type": "stream",
          "text": [
            "Texts:\n",
            "/content/drive/My Drive/DOC-NER/Ameritrade Institutional/Michael_C_Preston_.pdf\n",
            "Michael_C_Preston_.pdf\n",
            "Texts:\n"
          ],
          "name": "stdout"
        },
        {
          "output_type": "stream",
          "text": [
            "\n",
            " 12%|█▎        | 9/72 [00:14<01:42,  1.63s/it]\u001b[A"
          ],
          "name": "stderr"
        },
        {
          "output_type": "stream",
          "text": [
            "Texts:\n",
            "/content/drive/My Drive/DOC-NER/Ameritrade Institutional/Mary H Craven_.pdf\n",
            "Mary H Craven_.pdf\n",
            "Texts:\n"
          ],
          "name": "stdout"
        },
        {
          "output_type": "stream",
          "text": [
            "\n",
            " 14%|█▍        | 10/72 [00:16<01:41,  1.63s/it]\u001b[A"
          ],
          "name": "stderr"
        },
        {
          "output_type": "stream",
          "text": [
            "Texts:\n",
            "/content/drive/My Drive/DOC-NER/Ameritrade Institutional/Mary H Craven_ (1).pdf\n",
            "Mary H Craven_ (1).pdf\n",
            "Texts:\n"
          ],
          "name": "stdout"
        },
        {
          "output_type": "stream",
          "text": [
            "\n",
            " 15%|█▌        | 11/72 [00:17<01:36,  1.58s/it]\u001b[A"
          ],
          "name": "stderr"
        },
        {
          "output_type": "stream",
          "text": [
            "Texts:\n",
            "/content/drive/My Drive/DOC-NER/Ameritrade Institutional/Marie P Watkins_.pdf\n",
            "Marie P Watkins_.pdf\n",
            "Texts:\n"
          ],
          "name": "stdout"
        },
        {
          "output_type": "stream",
          "text": [
            "\n",
            " 17%|█▋        | 12/72 [00:19<01:35,  1.59s/it]\u001b[A"
          ],
          "name": "stderr"
        },
        {
          "output_type": "stream",
          "text": [
            "Texts:\n",
            "/content/drive/My Drive/DOC-NER/Ameritrade Institutional/Marie P Watkins_ (1).pdf\n",
            "Marie P Watkins_ (1).pdf\n",
            "Texts:\n"
          ],
          "name": "stdout"
        },
        {
          "output_type": "stream",
          "text": [
            "\n",
            " 18%|█▊        | 13/72 [00:20<01:31,  1.55s/it]\u001b[A"
          ],
          "name": "stderr"
        },
        {
          "output_type": "stream",
          "text": [
            "Texts:\n",
            "/content/drive/My Drive/DOC-NER/Ameritrade Institutional/Linda M Rice_.pdf\n",
            "Linda M Rice_.pdf\n",
            "Texts:\n"
          ],
          "name": "stdout"
        },
        {
          "output_type": "stream",
          "text": [
            "\n",
            " 19%|█▉        | 14/72 [00:22<01:28,  1.52s/it]\u001b[A"
          ],
          "name": "stderr"
        },
        {
          "output_type": "stream",
          "text": [
            "Texts:\n",
            "/content/drive/My Drive/DOC-NER/Ameritrade Institutional/Lili J Thomas_.pdf\n",
            "Lili J Thomas_.pdf\n",
            "Texts:\n"
          ],
          "name": "stdout"
        },
        {
          "output_type": "stream",
          "text": [
            "\n",
            " 21%|██        | 15/72 [00:24<01:28,  1.55s/it]\u001b[A"
          ],
          "name": "stderr"
        },
        {
          "output_type": "stream",
          "text": [
            "Texts:\n",
            "/content/drive/My Drive/DOC-NER/Ameritrade Institutional/Lili J Thomas_ (1).pdf\n",
            "Lili J Thomas_ (1).pdf\n",
            "Texts:\n"
          ],
          "name": "stdout"
        },
        {
          "output_type": "stream",
          "text": [
            "\n",
            " 22%|██▏       | 16/72 [00:25<01:24,  1.52s/it]\u001b[A"
          ],
          "name": "stderr"
        },
        {
          "output_type": "stream",
          "text": [
            "Texts:\n",
            "/content/drive/My Drive/DOC-NER/Ameritrade Institutional/Kristen W Hamilton_.pdf\n",
            "Kristen W Hamilton_.pdf\n",
            "Texts:\n"
          ],
          "name": "stdout"
        },
        {
          "output_type": "stream",
          "text": [
            "\n",
            " 24%|██▎       | 17/72 [00:27<01:24,  1.54s/it]\u001b[A"
          ],
          "name": "stderr"
        },
        {
          "output_type": "stream",
          "text": [
            "Texts:\n",
            "/content/drive/My Drive/DOC-NER/Ameritrade Institutional/Joseph T Green_.pdf\n",
            "Joseph T Green_.pdf\n",
            "Texts:\n"
          ],
          "name": "stdout"
        },
        {
          "output_type": "stream",
          "text": [
            "\n",
            " 25%|██▌       | 18/72 [00:28<01:23,  1.55s/it]\u001b[A"
          ],
          "name": "stderr"
        },
        {
          "output_type": "stream",
          "text": [
            "Texts:\n",
            "/content/drive/My Drive/DOC-NER/Ameritrade Institutional/Joseph T Green_ (1).pdf\n",
            "Joseph T Green_ (1).pdf\n",
            "Texts:\n"
          ],
          "name": "stdout"
        },
        {
          "output_type": "stream",
          "text": [
            "\n",
            " 26%|██▋       | 19/72 [00:30<01:22,  1.55s/it]\u001b[A"
          ],
          "name": "stderr"
        },
        {
          "output_type": "stream",
          "text": [
            "Texts:\n",
            "/content/drive/My Drive/DOC-NER/Ameritrade Institutional/Joshua T Truitt_.pdf\n",
            "Joshua T Truitt_.pdf\n",
            "Texts:\n"
          ],
          "name": "stdout"
        },
        {
          "output_type": "stream",
          "text": [
            "\n",
            " 28%|██▊       | 20/72 [00:35<02:12,  2.56s/it]\u001b[A"
          ],
          "name": "stderr"
        },
        {
          "output_type": "stream",
          "text": [
            "Texts:\n",
            "/content/drive/My Drive/DOC-NER/Ameritrade Institutional/Joseph N Weed_.pdf\n",
            "Joseph N Weed_.pdf\n",
            "Texts:\n"
          ],
          "name": "stdout"
        },
        {
          "output_type": "stream",
          "text": [
            "\n",
            " 29%|██▉       | 21/72 [00:36<01:53,  2.23s/it]\u001b[A"
          ],
          "name": "stderr"
        },
        {
          "output_type": "stream",
          "text": [
            "Texts:\n",
            "/content/drive/My Drive/DOC-NER/Ameritrade Institutional/James P Osborne.pdf\n",
            "James P Osborne.pdf\n",
            "Texts:\n"
          ],
          "name": "stdout"
        },
        {
          "output_type": "stream",
          "text": [
            "\n",
            " 31%|███       | 22/72 [00:38<01:43,  2.06s/it]\u001b[A"
          ],
          "name": "stderr"
        },
        {
          "output_type": "stream",
          "text": [
            "Texts:\n",
            "/content/drive/My Drive/DOC-NER/Ameritrade Institutional/James P Osborne (1).pdf\n",
            "James P Osborne (1).pdf\n",
            "Texts:\n"
          ],
          "name": "stdout"
        },
        {
          "output_type": "stream",
          "text": [
            "\n",
            " 32%|███▏      | 23/72 [00:39<01:31,  1.87s/it]\u001b[A"
          ],
          "name": "stderr"
        },
        {
          "output_type": "stream",
          "text": [
            "Texts:\n",
            "/content/drive/My Drive/DOC-NER/Ameritrade Institutional/Horace H Carpenter_.pdf\n",
            "Horace H Carpenter_.pdf\n",
            "Texts:\n"
          ],
          "name": "stdout"
        },
        {
          "output_type": "stream",
          "text": [
            "\n",
            " 33%|███▎      | 24/72 [00:41<01:27,  1.82s/it]\u001b[A"
          ],
          "name": "stderr"
        },
        {
          "output_type": "stream",
          "text": [
            "Texts:\n",
            "/content/drive/My Drive/DOC-NER/Ameritrade Institutional/Harold N Samaniego_.pdf\n",
            "Harold N Samaniego_.pdf\n",
            "Texts:\n"
          ],
          "name": "stdout"
        },
        {
          "output_type": "stream",
          "text": [
            "\n",
            " 35%|███▍      | 25/72 [00:42<01:20,  1.72s/it]\u001b[A"
          ],
          "name": "stderr"
        },
        {
          "output_type": "stream",
          "text": [
            "Texts:\n",
            "/content/drive/My Drive/DOC-NER/Ameritrade Institutional/Floyd K Brown_.pdf\n",
            "Floyd K Brown_.pdf\n",
            "Texts:\n"
          ],
          "name": "stdout"
        },
        {
          "output_type": "stream",
          "text": [
            "\n",
            " 36%|███▌      | 26/72 [00:44<01:16,  1.67s/it]\u001b[A"
          ],
          "name": "stderr"
        },
        {
          "output_type": "stream",
          "text": [
            "Texts:\n",
            "/content/drive/My Drive/DOC-NER/Ameritrade Institutional/Damian C Russell.pdf\n",
            "Damian C Russell.pdf\n",
            "Texts:\n"
          ],
          "name": "stdout"
        },
        {
          "output_type": "stream",
          "text": [
            "\n",
            " 38%|███▊      | 27/72 [00:46<01:15,  1.68s/it]\u001b[A"
          ],
          "name": "stderr"
        },
        {
          "output_type": "stream",
          "text": [
            "Texts:\n",
            "/content/drive/My Drive/DOC-NER/Ameritrade Institutional/Damian C Russell (1).pdf\n",
            "Damian C Russell (1).pdf\n",
            "Texts:\n"
          ],
          "name": "stdout"
        },
        {
          "output_type": "stream",
          "text": [
            "\n",
            " 39%|███▉      | 28/72 [00:47<01:13,  1.66s/it]\u001b[A"
          ],
          "name": "stderr"
        },
        {
          "output_type": "stream",
          "text": [
            "Texts:\n",
            "/content/drive/My Drive/DOC-NER/Ameritrade Institutional/Christopher V Herring_.pdf\n",
            "Christopher V Herring_.pdf\n",
            "Texts:\n"
          ],
          "name": "stdout"
        },
        {
          "output_type": "stream",
          "text": [
            "\n",
            " 40%|████      | 29/72 [00:49<01:14,  1.74s/it]\u001b[A"
          ],
          "name": "stderr"
        },
        {
          "output_type": "stream",
          "text": [
            "Texts:\n",
            "/content/drive/My Drive/DOC-NER/Ameritrade Institutional/Christine S Pyne_ (1).pdf\n",
            "Christine S Pyne_ (1).pdf\n",
            "Texts:\n"
          ],
          "name": "stdout"
        },
        {
          "output_type": "stream",
          "text": [
            "\n",
            " 42%|████▏     | 30/72 [00:51<01:12,  1.73s/it]\u001b[A"
          ],
          "name": "stderr"
        },
        {
          "output_type": "stream",
          "text": [
            "Texts:\n",
            "/content/drive/My Drive/DOC-NER/Ameritrade Institutional/Carl M Ecklund_ (1).pdf\n",
            "Carl M Ecklund_ (1).pdf\n",
            "Texts:\n"
          ],
          "name": "stdout"
        },
        {
          "output_type": "stream",
          "text": [
            "\n",
            " 43%|████▎     | 31/72 [00:53<01:11,  1.74s/it]\u001b[A"
          ],
          "name": "stderr"
        },
        {
          "output_type": "stream",
          "text": [
            "Texts:\n",
            "/content/drive/My Drive/DOC-NER/Ameritrade Institutional/Carl M Ecklund_ (2).pdf\n",
            "Carl M Ecklund_ (2).pdf\n",
            "Texts:\n"
          ],
          "name": "stdout"
        },
        {
          "output_type": "stream",
          "text": [
            "\n",
            " 44%|████▍     | 32/72 [00:54<01:10,  1.75s/it]\u001b[A"
          ],
          "name": "stderr"
        },
        {
          "output_type": "stream",
          "text": [
            "Texts:\n",
            "/content/drive/My Drive/DOC-NER/Ameritrade Institutional/Anne C Pugh_.pdf\n",
            "Anne C Pugh_.pdf\n",
            "Texts:\n"
          ],
          "name": "stdout"
        },
        {
          "output_type": "stream",
          "text": [
            "\n",
            " 46%|████▌     | 33/72 [00:57<01:16,  1.95s/it]\u001b[A"
          ],
          "name": "stderr"
        },
        {
          "output_type": "stream",
          "text": [
            "Texts:\n",
            "/content/drive/My Drive/DOC-NER/Ameritrade Institutional/Angelica E Senn_.pdf\n",
            "Angelica E Senn_.pdf\n",
            "Texts:\n"
          ],
          "name": "stdout"
        },
        {
          "output_type": "stream",
          "text": [
            "\n",
            " 47%|████▋     | 34/72 [00:59<01:13,  1.92s/it]\u001b[A"
          ],
          "name": "stderr"
        },
        {
          "output_type": "stream",
          "text": [
            "Texts:\n",
            "/content/drive/My Drive/DOC-NER/Ameritrade Institutional/Angelica E Senn_ (1).pdf\n",
            "Angelica E Senn_ (1).pdf\n",
            "Texts:\n"
          ],
          "name": "stdout"
        },
        {
          "output_type": "stream",
          "text": [
            "\n",
            " 49%|████▊     | 35/72 [01:01<01:10,  1.92s/it]\u001b[A"
          ],
          "name": "stderr"
        },
        {
          "output_type": "stream",
          "text": [
            "Texts:\n",
            "/content/drive/My Drive/DOC-NER/Ameritrade Institutional/Andrew_H_Jones_.pdf\n",
            "Andrew_H_Jones_.pdf\n",
            "Texts:\n"
          ],
          "name": "stdout"
        },
        {
          "output_type": "stream",
          "text": [
            "\n",
            " 50%|█████     | 36/72 [01:03<01:10,  1.95s/it]\u001b[A"
          ],
          "name": "stderr"
        },
        {
          "output_type": "stream",
          "text": [
            "Texts:\n",
            "/content/drive/My Drive/DOC-NER/Ameritrade Institutional/Allan_A_Cook_.pdf\n",
            "Allan_A_Cook_.pdf\n",
            "Texts:\n"
          ],
          "name": "stdout"
        },
        {
          "output_type": "stream",
          "text": [
            "\n",
            " 51%|█████▏    | 37/72 [01:04<01:06,  1.89s/it]\u001b[A"
          ],
          "name": "stderr"
        },
        {
          "output_type": "stream",
          "text": [
            "Texts:\n",
            "/content/drive/My Drive/DOC-NER/Ameritrade Institutional/Adrian_T_Clemens_.pdf\n",
            "Adrian_T_Clemens_.pdf\n",
            "Texts:\n"
          ],
          "name": "stdout"
        },
        {
          "output_type": "stream",
          "text": [
            "\n",
            " 53%|█████▎    | 38/72 [01:06<01:02,  1.85s/it]\u001b[A"
          ],
          "name": "stderr"
        },
        {
          "output_type": "stream",
          "text": [
            "Texts:\n",
            "/content/drive/My Drive/DOC-NER/Ameritrade Institutional/Adrian_T_Clemens_ (1).pdf\n",
            "Adrian_T_Clemens_ (1).pdf\n",
            "Texts:\n"
          ],
          "name": "stdout"
        },
        {
          "output_type": "stream",
          "text": [
            "\n",
            " 54%|█████▍    | 39/72 [01:08<00:58,  1.78s/it]\u001b[A"
          ],
          "name": "stderr"
        },
        {
          "output_type": "stream",
          "text": [
            "Texts:\n",
            "/content/drive/My Drive/DOC-NER/Ameritrade Institutional/Addie N McClellan_.pdf\n",
            "Addie N McClellan_.pdf\n",
            "Texts:\n"
          ],
          "name": "stdout"
        },
        {
          "output_type": "stream",
          "text": [
            "\n",
            " 56%|█████▌    | 40/72 [01:09<00:56,  1.77s/it]\u001b[A"
          ],
          "name": "stderr"
        },
        {
          "output_type": "stream",
          "text": [
            "Texts:\n",
            "/content/drive/My Drive/DOC-NER/Ameritrade Institutional/Ada J Bardsley_.pdf\n",
            "Ada J Bardsley_.pdf\n",
            "Texts:\n"
          ],
          "name": "stdout"
        },
        {
          "output_type": "stream",
          "text": [
            "\n",
            " 57%|█████▋    | 41/72 [01:11<00:52,  1.68s/it]\u001b[A"
          ],
          "name": "stderr"
        },
        {
          "output_type": "stream",
          "text": [
            "Texts:\n",
            "/content/drive/My Drive/DOC-NER/Merrilllynch_CRA/Samantha.png\n",
            "Samantha.png\n"
          ],
          "name": "stdout"
        },
        {
          "output_type": "stream",
          "text": [
            "\n",
            " 58%|█████▊    | 42/72 [01:12<00:49,  1.63s/it]\u001b[A"
          ],
          "name": "stderr"
        },
        {
          "output_type": "stream",
          "text": [
            "Texts:\n",
            "/content/drive/My Drive/DOC-NER/Merrilllynch_CRA/Rose R Webb.png\n",
            "Rose R Webb.png\n"
          ],
          "name": "stdout"
        },
        {
          "output_type": "stream",
          "text": [
            "\n",
            " 60%|█████▉    | 43/72 [01:14<00:43,  1.51s/it]\u001b[A"
          ],
          "name": "stderr"
        },
        {
          "output_type": "stream",
          "text": [
            "Texts:\n",
            "/content/drive/My Drive/DOC-NER/Merrilllynch_CRA/Robert N Sanford.png\n",
            "Robert N Sanford.png\n"
          ],
          "name": "stdout"
        },
        {
          "output_type": "stream",
          "text": [
            "\n",
            " 61%|██████    | 44/72 [01:15<00:38,  1.38s/it]\u001b[A"
          ],
          "name": "stderr"
        },
        {
          "output_type": "stream",
          "text": [
            "Texts:\n",
            "/content/drive/My Drive/DOC-NER/Merrilllynch_CRA/Robert E Regan.png\n",
            "Robert E Regan.png\n"
          ],
          "name": "stdout"
        },
        {
          "output_type": "stream",
          "text": [
            "\n",
            " 62%|██████▎   | 45/72 [01:16<00:34,  1.27s/it]\u001b[A"
          ],
          "name": "stderr"
        },
        {
          "output_type": "stream",
          "text": [
            "Texts:\n",
            "/content/drive/My Drive/DOC-NER/Merrilllynch_CRA/Richard K Kral.png\n",
            "Richard K Kral.png\n"
          ],
          "name": "stdout"
        },
        {
          "output_type": "stream",
          "text": [
            "\n",
            " 64%|██████▍   | 46/72 [01:17<00:31,  1.22s/it]\u001b[A"
          ],
          "name": "stderr"
        },
        {
          "output_type": "stream",
          "text": [
            "Texts:\n",
            "/content/drive/My Drive/DOC-NER/Merrilllynch_CRA/Peter E Trosper.png\n",
            "Peter E Trosper.png\n"
          ],
          "name": "stdout"
        },
        {
          "output_type": "stream",
          "text": [
            "\n",
            " 65%|██████▌   | 47/72 [01:18<00:30,  1.20s/it]\u001b[A"
          ],
          "name": "stderr"
        },
        {
          "output_type": "stream",
          "text": [
            "Texts:\n",
            "/content/drive/My Drive/DOC-NER/Merrilllynch_CRA/Harold L Brooks.pdf\n",
            "Harold L Brooks.pdf\n",
            "Texts:\n"
          ],
          "name": "stdout"
        },
        {
          "output_type": "stream",
          "text": [
            "\n",
            " 67%|██████▋   | 48/72 [01:20<00:32,  1.37s/it]\u001b[A"
          ],
          "name": "stderr"
        },
        {
          "output_type": "stream",
          "text": [
            "Texts:\n",
            "/content/drive/My Drive/DOC-NER/Merrilllynch_CRA/Hae F Taylor.pdf\n",
            "Hae F Taylor.pdf\n",
            "Texts:\n"
          ],
          "name": "stdout"
        },
        {
          "output_type": "stream",
          "text": [
            "\n",
            " 68%|██████▊   | 49/72 [01:21<00:33,  1.47s/it]\u001b[A"
          ],
          "name": "stderr"
        },
        {
          "output_type": "stream",
          "text": [
            "Texts:\n",
            "/content/drive/My Drive/DOC-NER/Merrilllynch_CRA/Gina F Johnson.pdf\n",
            "Gina F Johnson.pdf\n",
            "Texts:\n"
          ],
          "name": "stdout"
        },
        {
          "output_type": "stream",
          "text": [
            "\n",
            " 69%|██████▉   | 50/72 [01:23<00:33,  1.54s/it]\u001b[A"
          ],
          "name": "stderr"
        },
        {
          "output_type": "stream",
          "text": [
            "Texts:\n",
            "/content/drive/My Drive/DOC-NER/Merrilllynch_CRA/Eula R Tucker.pdf\n",
            "Eula R Tucker.pdf\n",
            "Texts:\n"
          ],
          "name": "stdout"
        },
        {
          "output_type": "stream",
          "text": [
            "\n",
            " 71%|███████   | 51/72 [01:25<00:33,  1.61s/it]\u001b[A"
          ],
          "name": "stderr"
        },
        {
          "output_type": "stream",
          "text": [
            "Texts:\n",
            "/content/drive/My Drive/DOC-NER/Merrilllynch_CRA/Edna T Peres.pdf\n",
            "Edna T Peres.pdf\n",
            "Texts:\n"
          ],
          "name": "stdout"
        },
        {
          "output_type": "stream",
          "text": [
            "\n",
            " 72%|███████▏  | 52/72 [01:27<00:33,  1.66s/it]\u001b[A"
          ],
          "name": "stderr"
        },
        {
          "output_type": "stream",
          "text": [
            "Texts:\n",
            "/content/drive/My Drive/DOC-NER/Merrilllynch_CRA/Edith D Alexander.pdf\n",
            "Edith D Alexander.pdf\n",
            "Texts:\n"
          ],
          "name": "stdout"
        },
        {
          "output_type": "stream",
          "text": [
            "\n",
            " 74%|███████▎  | 53/72 [01:29<00:36,  1.93s/it]\u001b[A"
          ],
          "name": "stderr"
        },
        {
          "output_type": "stream",
          "text": [
            "Texts:\n",
            "/content/drive/My Drive/DOC-NER/Merrilllynch_CRA/Diana J Alarcon.pdf\n",
            "Diana J Alarcon.pdf\n",
            "Texts:\n"
          ],
          "name": "stdout"
        },
        {
          "output_type": "stream",
          "text": [
            "\n",
            " 75%|███████▌  | 54/72 [01:31<00:34,  1.91s/it]\u001b[A"
          ],
          "name": "stderr"
        },
        {
          "output_type": "stream",
          "text": [
            "Texts:\n",
            "/content/drive/My Drive/DOC-NER/Merrilllynch_CRA/Connie J Llanos.pdf\n",
            "Connie J Llanos.pdf\n",
            "Texts:\n"
          ],
          "name": "stdout"
        },
        {
          "output_type": "stream",
          "text": [
            "\n",
            " 76%|███████▋  | 55/72 [01:33<00:31,  1.86s/it]\u001b[A"
          ],
          "name": "stderr"
        },
        {
          "output_type": "stream",
          "text": [
            "Texts:\n",
            "/content/drive/My Drive/DOC-NER/Merrilllynch_CRA/Cletus S Russo.pdf\n",
            "Cletus S Russo.pdf\n",
            "Texts:\n"
          ],
          "name": "stdout"
        },
        {
          "output_type": "stream",
          "text": [
            "\n",
            " 78%|███████▊  | 56/72 [01:35<00:29,  1.87s/it]\u001b[A"
          ],
          "name": "stderr"
        },
        {
          "output_type": "stream",
          "text": [
            "Texts:\n",
            "/content/drive/My Drive/DOC-NER/Merrilllynch_CRA/Cheryl J Taylor.pdf\n",
            "Cheryl J Taylor.pdf\n",
            "Texts:\n"
          ],
          "name": "stdout"
        },
        {
          "output_type": "stream",
          "text": [
            "\n",
            " 79%|███████▉  | 57/72 [01:37<00:27,  1.83s/it]\u001b[A"
          ],
          "name": "stderr"
        },
        {
          "output_type": "stream",
          "text": [
            "Texts:\n",
            "/content/drive/My Drive/DOC-NER/Merrilllynch_CRA/Candy T Lee.pdf\n",
            "Candy T Lee.pdf\n",
            "Texts:\n"
          ],
          "name": "stdout"
        },
        {
          "output_type": "stream",
          "text": [
            "\n",
            " 81%|████████  | 58/72 [01:38<00:25,  1.79s/it]\u001b[A"
          ],
          "name": "stderr"
        },
        {
          "output_type": "stream",
          "text": [
            "Texts:\n",
            "/content/drive/My Drive/DOC-NER/Merrilllynch_CRA/Allan A Cook.png\n",
            "Allan A Cook.png\n"
          ],
          "name": "stdout"
        },
        {
          "output_type": "stream",
          "text": [
            "\n",
            " 82%|████████▏ | 59/72 [01:39<00:19,  1.48s/it]\u001b[A"
          ],
          "name": "stderr"
        },
        {
          "output_type": "stream",
          "text": [
            "Texts:\n",
            "/content/drive/My Drive/DOC-NER/Merrilllynch_CRA/Allan A Cook (1).png\n",
            "Allan A Cook (1).png\n"
          ],
          "name": "stdout"
        },
        {
          "output_type": "stream",
          "text": [
            "\n",
            " 83%|████████▎ | 60/72 [01:40<00:16,  1.34s/it]\u001b[A"
          ],
          "name": "stderr"
        },
        {
          "output_type": "stream",
          "text": [
            "Texts:\n",
            "/content/drive/My Drive/DOC-NER/Merrilllynch_CRA/Adrian Clemens.png\n",
            "Adrian Clemens.png\n"
          ],
          "name": "stdout"
        },
        {
          "output_type": "stream",
          "text": [
            "\n",
            " 85%|████████▍ | 61/72 [01:41<00:14,  1.28s/it]\u001b[A"
          ],
          "name": "stderr"
        },
        {
          "output_type": "stream",
          "text": [
            "Texts:\n",
            "/content/drive/My Drive/DOC-NER/Schwab_IRA/Bobby_J_Cole_.pdf\n",
            "Bobby_J_Cole_.pdf\n",
            "Texts:\n"
          ],
          "name": "stdout"
        },
        {
          "output_type": "stream",
          "text": [
            "\n",
            " 86%|████████▌ | 62/72 [01:43<00:14,  1.48s/it]\u001b[A"
          ],
          "name": "stderr"
        },
        {
          "output_type": "stream",
          "text": [
            "Texts:\n",
            "/content/drive/My Drive/DOC-NER/Schwab_IRA/Thomas_L_Dodds_.pdf\n",
            "Thomas_L_Dodds_.pdf\n",
            "Texts:\n"
          ],
          "name": "stdout"
        },
        {
          "output_type": "stream",
          "text": [
            "\n",
            " 88%|████████▊ | 63/72 [01:46<00:15,  1.76s/it]\u001b[A"
          ],
          "name": "stderr"
        },
        {
          "output_type": "stream",
          "text": [
            "Texts:\n",
            "/content/drive/My Drive/DOC-NER/Schwab_IRA/Tammy_M_Pereira_.pdf\n",
            "Tammy_M_Pereira_.pdf\n",
            "Texts:\n"
          ],
          "name": "stdout"
        },
        {
          "output_type": "stream",
          "text": [
            "\n",
            " 89%|████████▉ | 64/72 [01:49<00:18,  2.29s/it]\u001b[A"
          ],
          "name": "stderr"
        },
        {
          "output_type": "stream",
          "text": [
            "Texts:\n",
            "/content/drive/My Drive/DOC-NER/Schwab_IRA/Richard_K_Forester_.pdf\n",
            "Richard_K_Forester_.pdf\n",
            "Texts:\n"
          ],
          "name": "stdout"
        },
        {
          "output_type": "stream",
          "text": [
            "\n",
            " 90%|█████████ | 65/72 [01:52<00:17,  2.54s/it]\u001b[A"
          ],
          "name": "stderr"
        },
        {
          "output_type": "stream",
          "text": [
            "Texts:\n",
            "/content/drive/My Drive/DOC-NER/Schwab_IRA/James_B_Adams_.pdf\n",
            "James_B_Adams_.pdf\n",
            "Texts:\n"
          ],
          "name": "stdout"
        },
        {
          "output_type": "stream",
          "text": [
            "\n",
            " 92%|█████████▏| 66/72 [01:55<00:15,  2.57s/it]\u001b[A"
          ],
          "name": "stderr"
        },
        {
          "output_type": "stream",
          "text": [
            "Texts:\n",
            "/content/drive/My Drive/DOC-NER/Schwab_IRA/Edmund_L_Kroeger_.pdf\n",
            "Edmund_L_Kroeger_.pdf\n",
            "Texts:\n"
          ],
          "name": "stdout"
        },
        {
          "output_type": "stream",
          "text": [
            "\n",
            " 93%|█████████▎| 67/72 [01:57<00:12,  2.59s/it]\u001b[A"
          ],
          "name": "stderr"
        },
        {
          "output_type": "stream",
          "text": [
            "Texts:\n",
            "/content/drive/My Drive/DOC-NER/Schwab_IRA/Donna_E_Warren_.pdf\n",
            "Donna_E_Warren_.pdf\n",
            "Texts:\n"
          ],
          "name": "stdout"
        },
        {
          "output_type": "stream",
          "text": [
            "\n",
            " 94%|█████████▍| 68/72 [02:00<00:10,  2.70s/it]\u001b[A"
          ],
          "name": "stderr"
        },
        {
          "output_type": "stream",
          "text": [
            "Texts:\n",
            "/content/drive/My Drive/DOC-NER/Schwab_IRA/Daniel_P_Woods_.pdf\n",
            "Daniel_P_Woods_.pdf\n",
            "Texts:\n"
          ],
          "name": "stdout"
        },
        {
          "output_type": "stream",
          "text": [
            "\n",
            " 96%|█████████▌| 69/72 [02:03<00:08,  2.68s/it]\u001b[A"
          ],
          "name": "stderr"
        },
        {
          "output_type": "stream",
          "text": [
            "Texts:\n",
            "/content/drive/My Drive/DOC-NER/Schwab_IRA/Jonathan_K_Sanchez_.pdf\n",
            "Jonathan_K_Sanchez_.pdf\n",
            "Texts:\n"
          ],
          "name": "stdout"
        },
        {
          "output_type": "stream",
          "text": [
            "\n",
            " 97%|█████████▋| 70/72 [02:06<00:05,  2.86s/it]\u001b[A"
          ],
          "name": "stderr"
        },
        {
          "output_type": "stream",
          "text": [
            "Texts:\n",
            "/content/drive/My Drive/DOC-NER/Schwab_IRA/Karen_A_Sliva_.pdf\n",
            "Karen_A_Sliva_.pdf\n",
            "Texts:\n"
          ],
          "name": "stdout"
        },
        {
          "output_type": "stream",
          "text": [
            "\n",
            " 99%|█████████▊| 71/72 [02:13<00:04,  4.15s/it]\u001b[A"
          ],
          "name": "stderr"
        },
        {
          "output_type": "stream",
          "text": [
            "Texts:\n",
            "/content/drive/My Drive/DOC-NER/Schwab_IRA/Patricia_J_Kim_.pdf\n",
            "Patricia_J_Kim_.pdf\n",
            "Texts:\n"
          ],
          "name": "stdout"
        },
        {
          "output_type": "stream",
          "text": [
            "\n",
            "100%|██████████| 72/72 [02:17<00:00,  1.91s/it]"
          ],
          "name": "stderr"
        },
        {
          "output_type": "stream",
          "text": [
            "Texts:\n"
          ],
          "name": "stdout"
        },
        {
          "output_type": "stream",
          "text": [
            "\n"
          ],
          "name": "stderr"
        }
      ]
    },
    {
      "cell_type": "code",
      "metadata": {
        "id": "wv9A7gUGfsbV",
        "colab_type": "code",
        "outputId": "e88c2e57-949a-4b7b-9c6d-4cfc73838e52",
        "colab": {
          "base_uri": "https://localhost:8080/",
          "height": 54
        }
      },
      "source": [
        "print(extracted_text[0])"
      ],
      "execution_count": 0,
      "outputs": [
        {
          "output_type": "stream",
          "text": [
            "D Ameritrade Institutional Reset Form ACCOUNT TRANSFER FORM TO TRANSFER YOUR EXISTING ACCOUNT TO TD AMERITRADE Account # 896547896 Advisor Code 987456932 Case # 1 PLEASE ATTACH A COPY OF YOUR LATEST STATEMENT. TD AMERITRADE ACCOUNT INFORMATION Account Title/Registration: Zita J Rottman Social Security Number/Tax ID: Clearing Number 404711495 0188 Individual Personal Trust Limited Liability Company Roth IRA Qualified Retirement Plan (Non-Qualified) Employer Plan Type: Joint Estate Partnership/Investment Club SEP IRA Simple IRA UTMA/UGMA Corporate Traditional IRA/Rollover RA Coverdell ESA Beneficiary IRA Other: 2 INFORMATION ON THE ACCOUNT YOU ARE TRANSFERRING FROM Account Title/Registration as shown on your statement Account Number Zita JRottman 870214590 Name of Delivering Firm: NVDA Physical Address of Firm (no PO BOX): Telephone Number (required): 200 Crescent Ct #1200 (541) 754-3010 Individual Personal Trust Limited Liability Company Roth IRA Qualified Retirement Plan (Non-Qualified) Employer Plan Type Joint Estate Partnership/Investment Club SEP IRA Simple IRA Has SIMPLE IRA been funded for at least two years? Yes No UTMA/UGMA Corporate Traditional IRA/Rollover RA Coverdell ESA Beneficiary IRA Other: LIST THE ASSETS YOU WANT TO TRANSFER A. Transfer from an ACAT eligible Brokerage Firm, Bank, Insurance/Annuity Co., Trust Co., or Transfer Agent - Check box for full or partial transfer. For partial transfers, list descriptions of assets and shares. Unless otherwise indicated, TD Ameritrade will transfer in full. Please note - The ACAT system does not allow for liquidation requests. To place trades, please contact your current custodian prior to submitting the transfer request. Most banks, insurance/annuity, and trust companies require original wet-ink signature mailed to TD Ameritrade. If transferring in Alternative Investments, please obtain a copy of the Transfer In Only Alternative Investment Client Custody Agreement from your Advisor, the terms of which will apply to our custody of your Alternative Investments. No signature is required. Full Transfer - To transfer entire account, check box and Partial Transfer - List specific security. If bonds are being transferred, skip to Section 4 (if applicable), then to the Signature Section. please supply the Bond CUSIP. Description of Asset (Partial transfers only) Quantity (Indicate # of shares or \"ALL\") Description of Asset (Partial transfers only) Quantity indicate # of shares or \"ALL\") COST 300 JNJ 400 CSCO 1500 NVDA 300 For additional securities, see attached list. O Page 1 of 5 TDAI 9682 REV. 02/17 . Annuity/Life Insurance Policy: I have an annuity or life insurance policy I wish to liquidate and have the proceeds sent to TD Ameritrade. Please choose one option: Please redeem and terminate entire contract or policy on my behalf. I understand that penalties may apply. Please redeem and terminate entire contract or policy on my behalf. The entire contract or policy is penalty-free Please redeem only the penalty-free amount of $ Please withdraw a partial amount of $ The entire contract or policy is penalty-free. Certificates of Deposit (CDs): Redeem my CD immediately. I understand that penalties may apply for any withdrawals prior to maturity. Redeem my CD at maturity. Maturity date:_ Submit request at least 21 days prior to maturity. Please advise your bank not to roll over the CD to a new term. Dividend Reinvestment Plan: I am transferring positions in Book Entry form and liquidating accumulated fractional shares B. Transfer from a Mutual Fund company - Unless otherwise indicated, TD Ameritrade will transfer all shares in kind and reinvest your dividends and capital gains. I acknowledge that ineligible proprietary mutual funds and all no-load money market funds cannot be transferred in kind and must be liquidated by the mutual fund company. Fund Name or Symbol Fund Account Number (Indicate # of shares or \"AN) Quantity Credit Gains and Dividends as (Check one if transferring shares) COST 300 Reinvested shares Cash CSCO 1500 Reinvested shares Cash Handling (Check one) Transfer my shares Sell my shares, transfer cash Transfer my shares Sell my shares, transfer cash Transfer my shares Sell my shares, transfer cash Transfer my shares Sell my shares, transfer cash Transfer my shares Sell my shares transfer cash JNJ 400 Reinvested shares Cash NVDA 300 Reinvested shares Cash Reinvested shares Cash For additional mutual funds, see attached list. O To transfer Money Markets, please indicate the Money Market name or symbol if available: Liquidate Money Market: All Only: $ 790,000 Page 2 of 5 TDAI 9682 REV. 02/17 \n"
          ],
          "name": "stdout"
        }
      ]
    },
    {
      "cell_type": "code",
      "metadata": {
        "id": "UGQIJFHJg384",
        "colab_type": "code",
        "colab": {}
      },
      "source": [
        "master_df = pd.DataFrame({'file_name' : customer_file_name,\n",
        "                          'extracted_text' : extracted_text})"
      ],
      "execution_count": 0,
      "outputs": []
    },
    {
      "cell_type": "code",
      "metadata": {
        "id": "tUbezJMZg6JI",
        "colab_type": "code",
        "outputId": "f83c8d1c-531f-4b50-834f-54f55ed3cfa6",
        "colab": {
          "base_uri": "https://localhost:8080/",
          "height": 195
        }
      },
      "source": [
        "master_df.head()"
      ],
      "execution_count": 0,
      "outputs": [
        {
          "output_type": "execute_result",
          "data": {
            "text/html": [
              "<div>\n",
              "<style scoped>\n",
              "    .dataframe tbody tr th:only-of-type {\n",
              "        vertical-align: middle;\n",
              "    }\n",
              "\n",
              "    .dataframe tbody tr th {\n",
              "        vertical-align: top;\n",
              "    }\n",
              "\n",
              "    .dataframe thead th {\n",
              "        text-align: right;\n",
              "    }\n",
              "</style>\n",
              "<table border=\"1\" class=\"dataframe\">\n",
              "  <thead>\n",
              "    <tr style=\"text-align: right;\">\n",
              "      <th></th>\n",
              "      <th>file_name</th>\n",
              "      <th>extracted_text</th>\n",
              "    </tr>\n",
              "  </thead>\n",
              "  <tbody>\n",
              "    <tr>\n",
              "      <th>0</th>\n",
              "      <td>Zita J Rottman_.pdf</td>\n",
              "      <td>D Ameritrade Institutional Reset Form ACCOUNT ...</td>\n",
              "    </tr>\n",
              "    <tr>\n",
              "      <th>1</th>\n",
              "      <td>Teresa R Woods_.pdf</td>\n",
              "      <td>D Ameritrade Institutional Reset Form ACCOUNT ...</td>\n",
              "    </tr>\n",
              "    <tr>\n",
              "      <th>2</th>\n",
              "      <td>Susan T Green_.pdf</td>\n",
              "      <td>D Ameritrade Institutional Reset Form ACCOUNT ...</td>\n",
              "    </tr>\n",
              "    <tr>\n",
              "      <th>3</th>\n",
              "      <td>Robert R Sheppard_.pdf</td>\n",
              "      <td>D Ameritrade Institutional Reset Form ACCOUNT ...</td>\n",
              "    </tr>\n",
              "    <tr>\n",
              "      <th>4</th>\n",
              "      <td>Robert R Allan_.pdf</td>\n",
              "      <td>D Ameritrade Institutional Reset Form ACCOUNT ...</td>\n",
              "    </tr>\n",
              "  </tbody>\n",
              "</table>\n",
              "</div>"
            ],
            "text/plain": [
              "                file_name                                     extracted_text\n",
              "0     Zita J Rottman_.pdf  D Ameritrade Institutional Reset Form ACCOUNT ...\n",
              "1     Teresa R Woods_.pdf  D Ameritrade Institutional Reset Form ACCOUNT ...\n",
              "2      Susan T Green_.pdf  D Ameritrade Institutional Reset Form ACCOUNT ...\n",
              "3  Robert R Sheppard_.pdf  D Ameritrade Institutional Reset Form ACCOUNT ...\n",
              "4     Robert R Allan_.pdf  D Ameritrade Institutional Reset Form ACCOUNT ..."
            ]
          },
          "metadata": {
            "tags": []
          },
          "execution_count": 58
        }
      ]
    },
    {
      "cell_type": "code",
      "metadata": {
        "id": "jvJ3UgAvg-t-",
        "colab_type": "code",
        "colab": {}
      },
      "source": [
        "master_df['FILE NAME'] = master_df['file_name'].apply(lambda x: Path(x).stem)"
      ],
      "execution_count": 0,
      "outputs": []
    },
    {
      "cell_type": "code",
      "metadata": {
        "id": "VV979KjkhC-n",
        "colab_type": "code",
        "outputId": "0ec25148-c328-44e1-cd48-31ea83ffaa43",
        "colab": {
          "base_uri": "https://localhost:8080/",
          "height": 195
        }
      },
      "source": [
        "master_df.head()"
      ],
      "execution_count": 0,
      "outputs": [
        {
          "output_type": "execute_result",
          "data": {
            "text/html": [
              "<div>\n",
              "<style scoped>\n",
              "    .dataframe tbody tr th:only-of-type {\n",
              "        vertical-align: middle;\n",
              "    }\n",
              "\n",
              "    .dataframe tbody tr th {\n",
              "        vertical-align: top;\n",
              "    }\n",
              "\n",
              "    .dataframe thead th {\n",
              "        text-align: right;\n",
              "    }\n",
              "</style>\n",
              "<table border=\"1\" class=\"dataframe\">\n",
              "  <thead>\n",
              "    <tr style=\"text-align: right;\">\n",
              "      <th></th>\n",
              "      <th>file_name</th>\n",
              "      <th>extracted_text</th>\n",
              "      <th>FILE NAME</th>\n",
              "    </tr>\n",
              "  </thead>\n",
              "  <tbody>\n",
              "    <tr>\n",
              "      <th>0</th>\n",
              "      <td>Zita J Rottman_.pdf</td>\n",
              "      <td>D Ameritrade Institutional Reset Form ACCOUNT ...</td>\n",
              "      <td>Zita J Rottman_</td>\n",
              "    </tr>\n",
              "    <tr>\n",
              "      <th>1</th>\n",
              "      <td>Teresa R Woods_.pdf</td>\n",
              "      <td>D Ameritrade Institutional Reset Form ACCOUNT ...</td>\n",
              "      <td>Teresa R Woods_</td>\n",
              "    </tr>\n",
              "    <tr>\n",
              "      <th>2</th>\n",
              "      <td>Susan T Green_.pdf</td>\n",
              "      <td>D Ameritrade Institutional Reset Form ACCOUNT ...</td>\n",
              "      <td>Susan T Green_</td>\n",
              "    </tr>\n",
              "    <tr>\n",
              "      <th>3</th>\n",
              "      <td>Robert R Sheppard_.pdf</td>\n",
              "      <td>D Ameritrade Institutional Reset Form ACCOUNT ...</td>\n",
              "      <td>Robert R Sheppard_</td>\n",
              "    </tr>\n",
              "    <tr>\n",
              "      <th>4</th>\n",
              "      <td>Robert R Allan_.pdf</td>\n",
              "      <td>D Ameritrade Institutional Reset Form ACCOUNT ...</td>\n",
              "      <td>Robert R Allan_</td>\n",
              "    </tr>\n",
              "  </tbody>\n",
              "</table>\n",
              "</div>"
            ],
            "text/plain": [
              "                file_name  ...           FILE NAME\n",
              "0     Zita J Rottman_.pdf  ...     Zita J Rottman_\n",
              "1     Teresa R Woods_.pdf  ...     Teresa R Woods_\n",
              "2      Susan T Green_.pdf  ...      Susan T Green_\n",
              "3  Robert R Sheppard_.pdf  ...  Robert R Sheppard_\n",
              "4     Robert R Allan_.pdf  ...     Robert R Allan_\n",
              "\n",
              "[5 rows x 3 columns]"
            ]
          },
          "metadata": {
            "tags": []
          },
          "execution_count": 60
        }
      ]
    },
    {
      "cell_type": "code",
      "metadata": {
        "id": "78TIajSOhEqJ",
        "colab_type": "code",
        "colab": {}
      },
      "source": [
        "ira_df = pd.read_csv('/content/drive/My Drive/DOC-NER/IRA.csv')"
      ],
      "execution_count": 0,
      "outputs": []
    },
    {
      "cell_type": "code",
      "metadata": {
        "id": "dptULoWJhHq0",
        "colab_type": "code",
        "outputId": "52d6ba1e-b79e-4297-c9a5-575be13ec34d",
        "colab": {
          "base_uri": "https://localhost:8080/",
          "height": 534
        }
      },
      "source": [
        "ira_df.head()"
      ],
      "execution_count": 0,
      "outputs": [
        {
          "output_type": "execute_result",
          "data": {
            "text/html": [
              "<div>\n",
              "<style scoped>\n",
              "    .dataframe tbody tr th:only-of-type {\n",
              "        vertical-align: middle;\n",
              "    }\n",
              "\n",
              "    .dataframe tbody tr th {\n",
              "        vertical-align: top;\n",
              "    }\n",
              "\n",
              "    .dataframe thead th {\n",
              "        text-align: right;\n",
              "    }\n",
              "</style>\n",
              "<table border=\"1\" class=\"dataframe\">\n",
              "  <thead>\n",
              "    <tr style=\"text-align: right;\">\n",
              "      <th></th>\n",
              "      <th>SLNo.</th>\n",
              "      <th>CATEGORY</th>\n",
              "      <th>FILE NAME</th>\n",
              "      <th>FILE SIZE</th>\n",
              "      <th>TITLE</th>\n",
              "      <th>DESCRIPTION</th>\n",
              "      <th>CLIENT</th>\n",
              "      <th>ADDRESS</th>\n",
              "      <th>SOCIAL SECURITY NO</th>\n",
              "      <th>RELATIONSHIP NO.</th>\n",
              "      <th>ACC NO</th>\n",
              "      <th>ACC TYPE</th>\n",
              "      <th>PHONE</th>\n",
              "      <th>CITY</th>\n",
              "      <th>EMAIL</th>\n",
              "    </tr>\n",
              "  </thead>\n",
              "  <tbody>\n",
              "    <tr>\n",
              "      <th>0</th>\n",
              "      <td>0</td>\n",
              "      <td>Merrilllynch_CRA</td>\n",
              "      <td>Adrian Clemens</td>\n",
              "      <td>298 KB</td>\n",
              "      <td>Client Account Transfer Form</td>\n",
              "      <td>Use this form to transfer all or a portion of ...</td>\n",
              "      <td>Daniel C Paul</td>\n",
              "      <td>2 Seaport Ln</td>\n",
              "      <td>545401875</td>\n",
              "      <td>335-0012</td>\n",
              "      <td>89101454</td>\n",
              "      <td>IRA</td>\n",
              "      <td>5417542545</td>\n",
              "      <td>Boston, MA,02210</td>\n",
              "      <td>Adrian@gmail.com</td>\n",
              "    </tr>\n",
              "    <tr>\n",
              "      <th>1</th>\n",
              "      <td>1</td>\n",
              "      <td>Merrilllynch_CRA</td>\n",
              "      <td>Peter E Trosper</td>\n",
              "      <td>295 KB</td>\n",
              "      <td>Client Account Transfer Form</td>\n",
              "      <td>Use this form to transfer all or a portion of ...</td>\n",
              "      <td>Grace P Lane</td>\n",
              "      <td>450 Park Ave #18</td>\n",
              "      <td>593746465</td>\n",
              "      <td>335-8978</td>\n",
              "      <td>66667894</td>\n",
              "      <td>IRA</td>\n",
              "      <td>5417543022</td>\n",
              "      <td>New York, NY,10022</td>\n",
              "      <td>pater@gmail.com</td>\n",
              "    </tr>\n",
              "    <tr>\n",
              "      <th>2</th>\n",
              "      <td>2</td>\n",
              "      <td>Merrilllynch_CRA</td>\n",
              "      <td>Richard K Kral</td>\n",
              "      <td>298 KB</td>\n",
              "      <td>Client Account Transfer Form</td>\n",
              "      <td>Use this form to transfer all or a portion of ...</td>\n",
              "      <td>Jeanette B Hughes</td>\n",
              "      <td>340 Madison Ave</td>\n",
              "      <td>344466775</td>\n",
              "      <td>335-2125</td>\n",
              "      <td>79703212</td>\n",
              "      <td>IRA</td>\n",
              "      <td>5417543888</td>\n",
              "      <td>New York, NY,10173</td>\n",
              "      <td>Richard@gmail.com</td>\n",
              "    </tr>\n",
              "    <tr>\n",
              "      <th>3</th>\n",
              "      <td>3</td>\n",
              "      <td>Merrilllynch_CRA</td>\n",
              "      <td>Robert E Regan</td>\n",
              "      <td>298 KB</td>\n",
              "      <td>Client Account Transfer Form</td>\n",
              "      <td>Use this form to transfer all or a portion of ...</td>\n",
              "      <td>Grace M Gracia</td>\n",
              "      <td>Search Results 11988 El Camino Real #600</td>\n",
              "      <td>417414892</td>\n",
              "      <td>335-0021</td>\n",
              "      <td>NaN</td>\n",
              "      <td>IRA</td>\n",
              "      <td>5417543010</td>\n",
              "      <td>San Diego, CA,92130</td>\n",
              "      <td>Robert@gmail.com</td>\n",
              "    </tr>\n",
              "    <tr>\n",
              "      <th>4</th>\n",
              "      <td>4</td>\n",
              "      <td>Merrilllynch_CRA</td>\n",
              "      <td>Rose R Webb</td>\n",
              "      <td>298 KB</td>\n",
              "      <td>Client Account Transfer Form</td>\n",
              "      <td>Use this form to transfer all or a portion of ...</td>\n",
              "      <td>Donald S Cordova</td>\n",
              "      <td>11150CA-2 #200</td>\n",
              "      <td>539236318</td>\n",
              "      <td>335-4587</td>\n",
              "      <td>22560564</td>\n",
              "      <td>IRA</td>\n",
              "      <td>5417545879</td>\n",
              "      <td>Los Angeles, CA,90025</td>\n",
              "      <td>Rose@gmail.com</td>\n",
              "    </tr>\n",
              "  </tbody>\n",
              "</table>\n",
              "</div>"
            ],
            "text/plain": [
              "   SLNo.          CATEGORY  ...                   CITY              EMAIL\n",
              "0      0  Merrilllynch_CRA  ...       Boston, MA,02210   Adrian@gmail.com\n",
              "1      1  Merrilllynch_CRA  ...     New York, NY,10022    pater@gmail.com\n",
              "2      2  Merrilllynch_CRA  ...     New York, NY,10173  Richard@gmail.com\n",
              "3      3  Merrilllynch_CRA  ...    San Diego, CA,92130   Robert@gmail.com\n",
              "4      4  Merrilllynch_CRA  ...  Los Angeles, CA,90025     Rose@gmail.com\n",
              "\n",
              "[5 rows x 15 columns]"
            ]
          },
          "metadata": {
            "tags": []
          },
          "execution_count": 62
        }
      ]
    },
    {
      "cell_type": "code",
      "metadata": {
        "id": "mww1spBShOPG",
        "colab_type": "code",
        "colab": {}
      },
      "source": [
        "final_df = pd.merge(master_df, ira_df, on='FILE NAME')"
      ],
      "execution_count": 0,
      "outputs": []
    },
    {
      "cell_type": "code",
      "metadata": {
        "id": "x5X1YSpdhe2v",
        "colab_type": "code",
        "colab": {}
      },
      "source": [
        "final_df.columns = ['file_name', 'extracted_text', 'FILE_NAME', 'SLNo', 'CATEGORY',\n",
        "       'FILE_SIZE', 'TITLE', 'DESCRIPTION', 'CLIENT', 'ADDRESS',\n",
        "       'SOCIAL_SECURITY_NO', 'RELATIONSHIP_NO', 'ACC_NO', 'ACC_TYPE', 'PHONE',\n",
        "       'CITY', 'EMAIL']"
      ],
      "execution_count": 0,
      "outputs": []
    },
    {
      "cell_type": "code",
      "metadata": {
        "id": "fjzUaXUthhqJ",
        "colab_type": "code",
        "colab": {}
      },
      "source": [
        "final_df['PHONE'] = final_df['PHONE'].apply(lambda x: '('+str(x)[:3]+')'+' '+str(x)[3:6]+'-'+str(x)[6:10])"
      ],
      "execution_count": 0,
      "outputs": []
    },
    {
      "cell_type": "code",
      "metadata": {
        "id": "brXLudShhkcj",
        "colab_type": "code",
        "colab": {}
      },
      "source": [
        "for i in final_df.columns:\n",
        "    final_df[i] = final_df[i].astype('str') "
      ],
      "execution_count": 0,
      "outputs": []
    },
    {
      "cell_type": "code",
      "metadata": {
        "id": "LDD29fTwhnLa",
        "colab_type": "code",
        "colab": {}
      },
      "source": [
        "final_df.to_csv('final_df.csv', encoding='utf-8', index=False)"
      ],
      "execution_count": 0,
      "outputs": []
    },
    {
      "cell_type": "code",
      "metadata": {
        "id": "zMTgGls6hpe6",
        "colab_type": "code",
        "outputId": "d0b3aaa4-b499-41af-fe97-0c88c366c0c7",
        "colab": {
          "base_uri": "https://localhost:8080/",
          "height": 319
        }
      },
      "source": [
        "final_df.dtypes"
      ],
      "execution_count": 0,
      "outputs": [
        {
          "output_type": "execute_result",
          "data": {
            "text/plain": [
              "file_name             object\n",
              "extracted_text        object\n",
              "FILE_NAME             object\n",
              "SLNo                  object\n",
              "CATEGORY              object\n",
              "FILE_SIZE             object\n",
              "TITLE                 object\n",
              "DESCRIPTION           object\n",
              "CLIENT                object\n",
              "ADDRESS               object\n",
              "SOCIAL_SECURITY_NO    object\n",
              "RELATIONSHIP_NO       object\n",
              "ACC_NO                object\n",
              "ACC_TYPE              object\n",
              "PHONE                 object\n",
              "CITY                  object\n",
              "EMAIL                 object\n",
              "dtype: object"
            ]
          },
          "metadata": {
            "tags": []
          },
          "execution_count": 68
        }
      ]
    },
    {
      "cell_type": "markdown",
      "metadata": {
        "id": "Tr6gERe2huKW",
        "colab_type": "text"
      },
      "source": [
        "**NER**"
      ]
    },
    {
      "cell_type": "code",
      "metadata": {
        "id": "Bo-sa-J9hrgn",
        "colab_type": "code",
        "colab": {}
      },
      "source": [
        "import itertools"
      ],
      "execution_count": 0,
      "outputs": []
    },
    {
      "cell_type": "code",
      "metadata": {
        "id": "KbCfVw35h0fC",
        "colab_type": "code",
        "colab": {}
      },
      "source": [
        "final_df = pd.read_csv(\"final_df.csv\")\n",
        "for i in final_df.columns:\n",
        "    final_df[i] = final_df[i].astype('str') "
      ],
      "execution_count": 0,
      "outputs": []
    },
    {
      "cell_type": "code",
      "metadata": {
        "id": "IJ0NwhIVh3AV",
        "colab_type": "code",
        "colab": {}
      },
      "source": [
        "final_df.columns = ['file_name', 'extracted_text', 'FILE_NAME', 'SLNo', 'CATEGORY',\n",
        "       'FILE_SIZE', 'TITLE', 'DESCRIPTION', 'CLIENT', 'ADDRESS',\n",
        "       'SOCIAL_SECURITY_NO', 'RELATIONSHIP_NO', 'ACC_NO', 'ACC_TYPE', 'PHONE',\n",
        "       'CITY', 'EMAIL']"
      ],
      "execution_count": 0,
      "outputs": []
    },
    {
      "cell_type": "code",
      "metadata": {
        "id": "FxzyzIXRh5bo",
        "colab_type": "code",
        "colab": {}
      },
      "source": [
        "final_df['TITLE'] = final_df['TITLE'].apply(lambda x: x.replace('IRA ', ''))"
      ],
      "execution_count": 0,
      "outputs": []
    },
    {
      "cell_type": "code",
      "metadata": {
        "id": "E3nJTHKth8VL",
        "colab_type": "code",
        "outputId": "1b8fcd24-6fc9-40d4-beb4-abd12de7d16a",
        "colab": {
          "base_uri": "https://localhost:8080/",
          "height": 1000
        }
      },
      "source": [
        "final_df"
      ],
      "execution_count": 0,
      "outputs": [
        {
          "output_type": "execute_result",
          "data": {
            "text/html": [
              "<div>\n",
              "<style scoped>\n",
              "    .dataframe tbody tr th:only-of-type {\n",
              "        vertical-align: middle;\n",
              "    }\n",
              "\n",
              "    .dataframe tbody tr th {\n",
              "        vertical-align: top;\n",
              "    }\n",
              "\n",
              "    .dataframe thead th {\n",
              "        text-align: right;\n",
              "    }\n",
              "</style>\n",
              "<table border=\"1\" class=\"dataframe\">\n",
              "  <thead>\n",
              "    <tr style=\"text-align: right;\">\n",
              "      <th></th>\n",
              "      <th>file_name</th>\n",
              "      <th>extracted_text</th>\n",
              "      <th>FILE_NAME</th>\n",
              "      <th>SLNo</th>\n",
              "      <th>CATEGORY</th>\n",
              "      <th>FILE_SIZE</th>\n",
              "      <th>TITLE</th>\n",
              "      <th>DESCRIPTION</th>\n",
              "      <th>CLIENT</th>\n",
              "      <th>ADDRESS</th>\n",
              "      <th>SOCIAL_SECURITY_NO</th>\n",
              "      <th>RELATIONSHIP_NO</th>\n",
              "      <th>ACC_NO</th>\n",
              "      <th>ACC_TYPE</th>\n",
              "      <th>PHONE</th>\n",
              "      <th>CITY</th>\n",
              "      <th>EMAIL</th>\n",
              "    </tr>\n",
              "  </thead>\n",
              "  <tbody>\n",
              "    <tr>\n",
              "      <th>0</th>\n",
              "      <td>Zita J Rottman_.pdf</td>\n",
              "      <td>D Ameritrade Institutional Reset Form ACCOUNT ...</td>\n",
              "      <td>Zita J Rottman_</td>\n",
              "      <td>40</td>\n",
              "      <td>Ameritrade Institutional</td>\n",
              "      <td>142 KB</td>\n",
              "      <td>ACCOUNT TRANSFER FORM</td>\n",
              "      <td>A. Transfer from an ACAT eligible Brokerage Fi...</td>\n",
              "      <td>Zita J Rottman</td>\n",
              "      <td>200 Crescent Ct#1200</td>\n",
              "      <td>404711495</td>\n",
              "      <td>nan</td>\n",
              "      <td>870214590</td>\n",
              "      <td>NVDA</td>\n",
              "      <td>(541) 754-3010</td>\n",
              "      <td>nan</td>\n",
              "      <td>nan</td>\n",
              "    </tr>\n",
              "    <tr>\n",
              "      <th>1</th>\n",
              "      <td>Teresa R Woods_.pdf</td>\n",
              "      <td>D Ameritrade Institutional Reset Form ACCOUNT ...</td>\n",
              "      <td>Teresa R Woods_</td>\n",
              "      <td>59</td>\n",
              "      <td>Ameritrade Institutional</td>\n",
              "      <td>142 KB</td>\n",
              "      <td>ACCOUNT TRANSFER FORM</td>\n",
              "      <td>A. Transfer from an ACAT eligible Brokerage Fi...</td>\n",
              "      <td>Teresa R Woods</td>\n",
              "      <td>3403 Richards Avenue</td>\n",
              "      <td>139394344</td>\n",
              "      <td>nan</td>\n",
              "      <td>875032122</td>\n",
              "      <td>BABA</td>\n",
              "      <td>(541) 754-1100</td>\n",
              "      <td>nan</td>\n",
              "      <td>nan</td>\n",
              "    </tr>\n",
              "    <tr>\n",
              "      <th>2</th>\n",
              "      <td>Susan T Green_.pdf</td>\n",
              "      <td>D Ameritrade Institutional Reset Form ACCOUNT ...</td>\n",
              "      <td>Susan T Green_</td>\n",
              "      <td>28</td>\n",
              "      <td>Ameritrade Institutional</td>\n",
              "      <td>142 KB</td>\n",
              "      <td>ACCOUNT TRANSFER FORM</td>\n",
              "      <td>A. Transfer from an ACAT eligible Brokerage Fi...</td>\n",
              "      <td>Susan T Green</td>\n",
              "      <td>3116 Wright Court</td>\n",
              "      <td>517144655</td>\n",
              "      <td>nan</td>\n",
              "      <td>856901266</td>\n",
              "      <td>TGT</td>\n",
              "      <td>(541) 754-3044</td>\n",
              "      <td>nan</td>\n",
              "      <td>nan</td>\n",
              "    </tr>\n",
              "    <tr>\n",
              "      <th>3</th>\n",
              "      <td>Robert R Sheppard_.pdf</td>\n",
              "      <td>D Ameritrade Institutional Reset Form ACCOUNT ...</td>\n",
              "      <td>Robert R Sheppard_</td>\n",
              "      <td>27</td>\n",
              "      <td>Ameritrade Institutional</td>\n",
              "      <td>142 KB</td>\n",
              "      <td>ACCOUNT TRANSFER FORM</td>\n",
              "      <td>A. Transfer from an ACAT eligible Brokerage Fi...</td>\n",
              "      <td>Robert R Sheppard</td>\n",
              "      <td>3291 Hall Street</td>\n",
              "      <td>545401844</td>\n",
              "      <td>nan</td>\n",
              "      <td>987012777</td>\n",
              "      <td>NVDA</td>\n",
              "      <td>(541) 754-3222</td>\n",
              "      <td>nan</td>\n",
              "      <td>nan</td>\n",
              "    </tr>\n",
              "    <tr>\n",
              "      <th>4</th>\n",
              "      <td>Robert J Barr_.pdf</td>\n",
              "      <td>D Ameritrade Institutional Reset Form ACCOUNT ...</td>\n",
              "      <td>Robert J Barr_</td>\n",
              "      <td>26</td>\n",
              "      <td>Ameritrade Institutional</td>\n",
              "      <td>142 KB</td>\n",
              "      <td>ACCOUNT TRANSFER FORM</td>\n",
              "      <td>A. Transfer from an ACAT eligible Brokerage Fi...</td>\n",
              "      <td>Robert J Barr</td>\n",
              "      <td>4567 Willison Street</td>\n",
              "      <td>139394322</td>\n",
              "      <td>nan</td>\n",
              "      <td>875032188</td>\n",
              "      <td>BABA</td>\n",
              "      <td>(541) 754-3022</td>\n",
              "      <td>nan</td>\n",
              "      <td>nan</td>\n",
              "    </tr>\n",
              "    <tr>\n",
              "      <th>5</th>\n",
              "      <td>Pamela E Byrd_.pdf</td>\n",
              "      <td>D Ameritrade Institutional Reset Form ACCOUNT ...</td>\n",
              "      <td>Pamela E Byrd_</td>\n",
              "      <td>25</td>\n",
              "      <td>Ameritrade Institutional</td>\n",
              "      <td>142 KB</td>\n",
              "      <td>ACCOUNT TRANSFER FORM</td>\n",
              "      <td>A. Transfer from an ACAT eligible Brokerage Fi...</td>\n",
              "      <td>Pamela E Byrd</td>\n",
              "      <td>514 Stutler Lane</td>\n",
              "      <td>139394344</td>\n",
              "      <td>nan</td>\n",
              "      <td>875032122</td>\n",
              "      <td>GOOG</td>\n",
              "      <td>(541) 754-3033</td>\n",
              "      <td>nan</td>\n",
              "      <td>nan</td>\n",
              "    </tr>\n",
              "    <tr>\n",
              "      <th>6</th>\n",
              "      <td>Nora R Mills_.pdf</td>\n",
              "      <td>D Ameritrade Institutional Reset Form ACCOUNT ...</td>\n",
              "      <td>Nora R Mills_</td>\n",
              "      <td>57</td>\n",
              "      <td>Ameritrade Institutional</td>\n",
              "      <td>142 KB</td>\n",
              "      <td>ACCOUNT TRANSFER FORM</td>\n",
              "      <td>A. Transfer from an ACAT eligible Brokerage Fi...</td>\n",
              "      <td>Nora R Mills</td>\n",
              "      <td>4010 Mulberry Street</td>\n",
              "      <td>545401870</td>\n",
              "      <td>nan</td>\n",
              "      <td>987012344</td>\n",
              "      <td>JNJ</td>\n",
              "      <td>(541) 754-3055</td>\n",
              "      <td>nan</td>\n",
              "      <td>nan</td>\n",
              "    </tr>\n",
              "    <tr>\n",
              "      <th>7</th>\n",
              "      <td>Michael_C_Preston_.pdf</td>\n",
              "      <td>D Ameritrade Institutional Reset Form ACCOUNT ...</td>\n",
              "      <td>Michael_C_Preston_</td>\n",
              "      <td>48</td>\n",
              "      <td>Ameritrade Institutional</td>\n",
              "      <td>142 KB</td>\n",
              "      <td>ACCOUNT TRANSFER FORM</td>\n",
              "      <td>A. Transfer from an ACAT eligible Brokerage Fi...</td>\n",
              "      <td>Michael C Preston</td>\n",
              "      <td>4645 Hope Street</td>\n",
              "      <td>139394339</td>\n",
              "      <td>nan</td>\n",
              "      <td>875032106</td>\n",
              "      <td>BBY</td>\n",
              "      <td>(541) 754-3044</td>\n",
              "      <td>nan</td>\n",
              "      <td>nan</td>\n",
              "    </tr>\n",
              "    <tr>\n",
              "      <th>8</th>\n",
              "      <td>Mary H Craven_.pdf</td>\n",
              "      <td>D Ameritrade Institutional Reset Form ACCOUNT ...</td>\n",
              "      <td>Mary H Craven_</td>\n",
              "      <td>24</td>\n",
              "      <td>Ameritrade Institutional</td>\n",
              "      <td>142 KB</td>\n",
              "      <td>ACCOUNT TRANSFER FORM</td>\n",
              "      <td>A. Transfer from an ACAT eligible Brokerage Fi...</td>\n",
              "      <td>Mary H Craven</td>\n",
              "      <td>2397 Deans Lane</td>\n",
              "      <td>545401875</td>\n",
              "      <td>nan</td>\n",
              "      <td>987012322</td>\n",
              "      <td>JNJ</td>\n",
              "      <td>(541) 754-3055</td>\n",
              "      <td>nan</td>\n",
              "      <td>nan</td>\n",
              "    </tr>\n",
              "    <tr>\n",
              "      <th>9</th>\n",
              "      <td>Marie P Watkins_.pdf</td>\n",
              "      <td>D Ameritrade Institutional Reset Form ACCOUNT ...</td>\n",
              "      <td>Marie P Watkins_</td>\n",
              "      <td>38</td>\n",
              "      <td>Ameritrade Institutional</td>\n",
              "      <td>142 KB</td>\n",
              "      <td>ACCOUNT TRANSFER FORM</td>\n",
              "      <td>A. Transfer from an ACAT eligible Brokerage Fi...</td>\n",
              "      <td>Marie P Watkins</td>\n",
              "      <td>222 Berkeley St #15</td>\n",
              "      <td>517144661</td>\n",
              "      <td>nan</td>\n",
              "      <td>856901203</td>\n",
              "      <td>TGT</td>\n",
              "      <td>(541) 754-3012</td>\n",
              "      <td>nan</td>\n",
              "      <td>nan</td>\n",
              "    </tr>\n",
              "    <tr>\n",
              "      <th>10</th>\n",
              "      <td>Linda M Rice_.pdf</td>\n",
              "      <td>D Ameritrade Institutional Reset Form ACCOUNT ...</td>\n",
              "      <td>Linda M Rice_</td>\n",
              "      <td>56</td>\n",
              "      <td>Ameritrade Institutional</td>\n",
              "      <td>142 KB</td>\n",
              "      <td>ACCOUNT TRANSFER FORM</td>\n",
              "      <td>A. Transfer from an ACAT eligible Brokerage Fi...</td>\n",
              "      <td>Linda M Rice</td>\n",
              "      <td>4926 Hickory Heights Drive</td>\n",
              "      <td>404711411</td>\n",
              "      <td>nan</td>\n",
              "      <td>870214544</td>\n",
              "      <td>COST</td>\n",
              "      <td>(541) 754-2222</td>\n",
              "      <td>nan</td>\n",
              "      <td>nan</td>\n",
              "    </tr>\n",
              "    <tr>\n",
              "      <th>11</th>\n",
              "      <td>Lili J Thomas_.pdf</td>\n",
              "      <td>D Ameritrade Institutional Reset Form ACCOUNT ...</td>\n",
              "      <td>Lili J Thomas_</td>\n",
              "      <td>55</td>\n",
              "      <td>Ameritrade Institutional</td>\n",
              "      <td>142 KB</td>\n",
              "      <td>ACCOUNT TRANSFER FORM</td>\n",
              "      <td>A. Transfer from an ACAT eligible Brokerage Fi...</td>\n",
              "      <td>Lili J Thomas</td>\n",
              "      <td>3523 Skinner Hollow Road</td>\n",
              "      <td>404711411</td>\n",
              "      <td>nan</td>\n",
              "      <td>587102333</td>\n",
              "      <td>NFLX</td>\n",
              "      <td>(541) 754-1111</td>\n",
              "      <td>nan</td>\n",
              "      <td>nan</td>\n",
              "    </tr>\n",
              "    <tr>\n",
              "      <th>12</th>\n",
              "      <td>Kristen W Hamilton_.pdf</td>\n",
              "      <td>D Ameritrade Institutional Reset Form ACCOUNT ...</td>\n",
              "      <td>Kristen W Hamilton_</td>\n",
              "      <td>37</td>\n",
              "      <td>Ameritrade Institutional</td>\n",
              "      <td>142 KB</td>\n",
              "      <td>ACCOUNT TRANSFER FORM</td>\n",
              "      <td>A. Transfer from an ACAT eligible Brokerage Fi...</td>\n",
              "      <td>Kristen W Hamilton</td>\n",
              "      <td>1717 Arch St</td>\n",
              "      <td>139394339</td>\n",
              "      <td>nan</td>\n",
              "      <td>875032106</td>\n",
              "      <td>GOOG</td>\n",
              "      <td>(541) 754-3015</td>\n",
              "      <td>nan</td>\n",
              "      <td>nan</td>\n",
              "    </tr>\n",
              "    <tr>\n",
              "      <th>13</th>\n",
              "      <td>Joseph T Green_.pdf</td>\n",
              "      <td>D Ameritrade Institutional Reset Form ACCOUNT ...</td>\n",
              "      <td>Joseph T Green_</td>\n",
              "      <td>35</td>\n",
              "      <td>Ameritrade Institutional</td>\n",
              "      <td>142 KB</td>\n",
              "      <td>ACCOUNT TRANSFER FORM</td>\n",
              "      <td>A. Transfer from an ACAT eligible Brokerage Fi...</td>\n",
              "      <td>Joseph T Green</td>\n",
              "      <td>130 Palmer Road</td>\n",
              "      <td>404711495</td>\n",
              "      <td>nan</td>\n",
              "      <td>870214590</td>\n",
              "      <td>JNJ</td>\n",
              "      <td>(541) 754-3010</td>\n",
              "      <td>nan</td>\n",
              "      <td>nan</td>\n",
              "    </tr>\n",
              "    <tr>\n",
              "      <th>14</th>\n",
              "      <td>Joseph T Green_.pdf</td>\n",
              "      <td>D Ameritrade Institutional Reset Form ACCOUNT ...</td>\n",
              "      <td>Joseph T Green_</td>\n",
              "      <td>54</td>\n",
              "      <td>Ameritrade Institutional</td>\n",
              "      <td>142 KB</td>\n",
              "      <td>ACCOUNT TRANSFER FORM</td>\n",
              "      <td>A. Transfer from an ACAT eligible Brokerage Fi...</td>\n",
              "      <td>Joseph T Green</td>\n",
              "      <td>4481 Freshour Circle</td>\n",
              "      <td>517144644</td>\n",
              "      <td>nan</td>\n",
              "      <td>856901244</td>\n",
              "      <td>MSFT</td>\n",
              "      <td>(541) 754-3941</td>\n",
              "      <td>nan</td>\n",
              "      <td>nan</td>\n",
              "    </tr>\n",
              "    <tr>\n",
              "      <th>15</th>\n",
              "      <td>Joshua T Truitt_.pdf</td>\n",
              "      <td>D Ameritrade Institutional Reset Form ACCOUNT ...</td>\n",
              "      <td>Joshua T Truitt_</td>\n",
              "      <td>36</td>\n",
              "      <td>Ameritrade Institutional</td>\n",
              "      <td>142 KB</td>\n",
              "      <td>ACCOUNT TRANSFER FORM</td>\n",
              "      <td>A. Transfer from an ACAT eligible Brokerage Fi...</td>\n",
              "      <td>Joshua T Truitt</td>\n",
              "      <td>288 Park Ave 12th Floor</td>\n",
              "      <td>545401855</td>\n",
              "      <td>nan</td>\n",
              "      <td>987012355</td>\n",
              "      <td>NVDA</td>\n",
              "      <td>(541) 754-3055</td>\n",
              "      <td>nan</td>\n",
              "      <td>nan</td>\n",
              "    </tr>\n",
              "    <tr>\n",
              "      <th>16</th>\n",
              "      <td>Joseph N Weed_.pdf</td>\n",
              "      <td>D Ameritrade Institutional Reset Form ACCOUNT ...</td>\n",
              "      <td>Joseph N Weed_</td>\n",
              "      <td>23</td>\n",
              "      <td>Ameritrade Institutional</td>\n",
              "      <td>142 KB</td>\n",
              "      <td>ACCOUNT TRANSFER FORM</td>\n",
              "      <td>A. Transfer from an ACAT eligible Brokerage Fi...</td>\n",
              "      <td>Joseph N Weed</td>\n",
              "      <td>3242 Mahlon Street</td>\n",
              "      <td>404711455</td>\n",
              "      <td>nan</td>\n",
              "      <td>587102355</td>\n",
              "      <td>LMT</td>\n",
              "      <td>(541) 754-3055</td>\n",
              "      <td>nan</td>\n",
              "      <td>nan</td>\n",
              "    </tr>\n",
              "    <tr>\n",
              "      <th>17</th>\n",
              "      <td>James P Osborne.pdf</td>\n",
              "      <td>D Ameritrade Institutional Reset Form ACCOUNT ...</td>\n",
              "      <td>James P Osborne</td>\n",
              "      <td>45</td>\n",
              "      <td>Ameritrade Institutional</td>\n",
              "      <td>142 KB</td>\n",
              "      <td>ACCOUNT TRANSFER FORM</td>\n",
              "      <td>A. Transfer from an ACAT eligible Brokerage Fi...</td>\n",
              "      <td>James P Osborne</td>\n",
              "      <td>222 Berkeley St #15</td>\n",
              "      <td>5171454577</td>\n",
              "      <td>nan</td>\n",
              "      <td>856901203</td>\n",
              "      <td>AMZM</td>\n",
              "      <td>(541) 754-3012</td>\n",
              "      <td>nan</td>\n",
              "      <td>nan</td>\n",
              "    </tr>\n",
              "    <tr>\n",
              "      <th>18</th>\n",
              "      <td>Horace H Carpenter_.pdf</td>\n",
              "      <td>D Ameritrade Institutional Reset Form ACCOUNT ...</td>\n",
              "      <td>Horace H Carpenter_</td>\n",
              "      <td>53</td>\n",
              "      <td>Ameritrade Institutional</td>\n",
              "      <td>142 KB</td>\n",
              "      <td>ACCOUNT TRANSFER FORM</td>\n",
              "      <td>A. Transfer from an ACAT eligible Brokerage Fi...</td>\n",
              "      <td>Horace H Carpenter</td>\n",
              "      <td>646 Hershell Hollow Road</td>\n",
              "      <td>517144699</td>\n",
              "      <td>nan</td>\n",
              "      <td>856901211</td>\n",
              "      <td>TGT</td>\n",
              "      <td>(541) 754-3013</td>\n",
              "      <td>nan</td>\n",
              "      <td>nan</td>\n",
              "    </tr>\n",
              "    <tr>\n",
              "      <th>19</th>\n",
              "      <td>Harold N Samaniego_.pdf</td>\n",
              "      <td>D Ameritrade Institutional Reset Form ACCOUNT ...</td>\n",
              "      <td>Harold N Samaniego_</td>\n",
              "      <td>52</td>\n",
              "      <td>Ameritrade Institutional</td>\n",
              "      <td>142 KB</td>\n",
              "      <td>ACCOUNT TRANSFER FORM</td>\n",
              "      <td>A. Transfer from an ACAT eligible Brokerage Fi...</td>\n",
              "      <td>Harold N Samaniego</td>\n",
              "      <td>943 Roosevelt Wilson Lane</td>\n",
              "      <td>404711495</td>\n",
              "      <td>nan</td>\n",
              "      <td>870214544</td>\n",
              "      <td>JNJ</td>\n",
              "      <td>(541) 754-3111</td>\n",
              "      <td>nan</td>\n",
              "      <td>nan</td>\n",
              "    </tr>\n",
              "    <tr>\n",
              "      <th>20</th>\n",
              "      <td>Floyd K Brown_.pdf</td>\n",
              "      <td>D Ameritrade Institutional Reset Form ACCOUNT ...</td>\n",
              "      <td>Floyd K Brown_</td>\n",
              "      <td>34</td>\n",
              "      <td>Ameritrade Institutional</td>\n",
              "      <td>142 KB</td>\n",
              "      <td>ACCOUNT TRANSFER FORM</td>\n",
              "      <td>A. Transfer from an ACAT eligible Brokerage Fi...</td>\n",
              "      <td>Floyd K Brown</td>\n",
              "      <td>4989 Brighton Circle Road</td>\n",
              "      <td>404711495</td>\n",
              "      <td>nan</td>\n",
              "      <td>870214590</td>\n",
              "      <td>COST</td>\n",
              "      <td>(541) 754-3010</td>\n",
              "      <td>nan</td>\n",
              "      <td>nan</td>\n",
              "    </tr>\n",
              "    <tr>\n",
              "      <th>21</th>\n",
              "      <td>Damian C Russell.pdf</td>\n",
              "      <td>D Ameritrade Institutional Reset Form ACCOUNT ...</td>\n",
              "      <td>Damian C Russell</td>\n",
              "      <td>44</td>\n",
              "      <td>Ameritrade Institutional</td>\n",
              "      <td>142 KB</td>\n",
              "      <td>ACCOUNT TRANSFER FORM</td>\n",
              "      <td>A. Transfer from an ACAT eligible Brokerage Fi...</td>\n",
              "      <td>Damian C Russell</td>\n",
              "      <td>446 Leverton Cove Road</td>\n",
              "      <td>139394339</td>\n",
              "      <td>nan</td>\n",
              "      <td>875032122</td>\n",
              "      <td>BBY</td>\n",
              "      <td>(541) 754-2222</td>\n",
              "      <td>nan</td>\n",
              "      <td>nan</td>\n",
              "    </tr>\n",
              "    <tr>\n",
              "      <th>22</th>\n",
              "      <td>Christopher V Herring_.pdf</td>\n",
              "      <td>D Ameritrade Institutional Reset Form ACCOUNT ...</td>\n",
              "      <td>Christopher V Herring_</td>\n",
              "      <td>21</td>\n",
              "      <td>Ameritrade Institutional</td>\n",
              "      <td>142 KB</td>\n",
              "      <td>ACCOUNT TRANSFER FORM</td>\n",
              "      <td>A. Transfer from an ACAT eligible Brokerage Fi...</td>\n",
              "      <td>Christopher V Herring</td>\n",
              "      <td>4210 Hill Croft Farm Road</td>\n",
              "      <td>404711444</td>\n",
              "      <td>nan</td>\n",
              "      <td>870214588</td>\n",
              "      <td>COST</td>\n",
              "      <td>(541) 754-3033</td>\n",
              "      <td>nan</td>\n",
              "      <td>nan</td>\n",
              "    </tr>\n",
              "    <tr>\n",
              "      <th>23</th>\n",
              "      <td>Anne C Pugh_.pdf</td>\n",
              "      <td>D Ameritrade Institutional Reset Form ACCOUNT ...</td>\n",
              "      <td>Anne C Pugh_</td>\n",
              "      <td>50</td>\n",
              "      <td>Ameritrade Institutional</td>\n",
              "      <td>142 KB</td>\n",
              "      <td>ACCOUNT TRANSFER FORM</td>\n",
              "      <td>A. Transfer from an ACAT eligible Brokerage Fi...</td>\n",
              "      <td>Anne C Pugh</td>\n",
              "      <td>852 Beechwood Drive</td>\n",
              "      <td>404711444</td>\n",
              "      <td>nan</td>\n",
              "      <td>587102361</td>\n",
              "      <td>LMT</td>\n",
              "      <td>(541) 754-3033</td>\n",
              "      <td>nan</td>\n",
              "      <td>nan</td>\n",
              "    </tr>\n",
              "    <tr>\n",
              "      <th>24</th>\n",
              "      <td>Angelica E Senn_.pdf</td>\n",
              "      <td>D Ameritrade Institutional Reset Form ACCOUNT ...</td>\n",
              "      <td>Angelica E Senn_</td>\n",
              "      <td>33</td>\n",
              "      <td>Ameritrade Institutional</td>\n",
              "      <td>142 KB</td>\n",
              "      <td>ACCOUNT TRANSFER FORM</td>\n",
              "      <td>A. Transfer from an ACAT eligible Brokerage Fi...</td>\n",
              "      <td>Angelica E Senn</td>\n",
              "      <td>200 Crescent Ct#1200</td>\n",
              "      <td>404711495</td>\n",
              "      <td>nan</td>\n",
              "      <td>587102360</td>\n",
              "      <td>LMT</td>\n",
              "      <td>(541) 754-3012</td>\n",
              "      <td>nan</td>\n",
              "      <td>nan</td>\n",
              "    </tr>\n",
              "    <tr>\n",
              "      <th>25</th>\n",
              "      <td>Andrew_H_Jones_.pdf</td>\n",
              "      <td>D Ameritrade Institutional Reset Form ACCOUNT ...</td>\n",
              "      <td>Andrew_H_Jones_</td>\n",
              "      <td>32</td>\n",
              "      <td>Ameritrade Institutional</td>\n",
              "      <td>142 KB</td>\n",
              "      <td>ACCOUNT TRANSFER FORM</td>\n",
              "      <td>A. Transfer from an ACAT eligible Brokerage Fi...</td>\n",
              "      <td>Andrew H Jones</td>\n",
              "      <td>4660 Deans Lane</td>\n",
              "      <td>404711495</td>\n",
              "      <td>nan</td>\n",
              "      <td>587102355</td>\n",
              "      <td>NFLX</td>\n",
              "      <td>(541) 754-3033</td>\n",
              "      <td>nan</td>\n",
              "      <td>nan</td>\n",
              "    </tr>\n",
              "    <tr>\n",
              "      <th>26</th>\n",
              "      <td>Allan_A_Cook_.pdf</td>\n",
              "      <td>D Ameritrade Institutional Reset Form ACCOUNT ...</td>\n",
              "      <td>Allan_A_Cook_</td>\n",
              "      <td>42</td>\n",
              "      <td>Ameritrade Institutional</td>\n",
              "      <td>142 KB</td>\n",
              "      <td>ACCOUNT TRANSFER FORM</td>\n",
              "      <td>A. Transfer from an ACAT eligible Brokerage Fi...</td>\n",
              "      <td>Allan A Cook</td>\n",
              "      <td>200 Crescent Ct#1200</td>\n",
              "      <td>404711495</td>\n",
              "      <td>nan</td>\n",
              "      <td>587102360</td>\n",
              "      <td>NFLX</td>\n",
              "      <td>(541) 754-3012</td>\n",
              "      <td>nan</td>\n",
              "      <td>nan</td>\n",
              "    </tr>\n",
              "    <tr>\n",
              "      <th>27</th>\n",
              "      <td>Adrian_T_Clemens_.pdf</td>\n",
              "      <td>D Ameritrade Institutional Reset Form ACCOUNT ...</td>\n",
              "      <td>Adrian_T_Clemens_</td>\n",
              "      <td>31</td>\n",
              "      <td>Ameritrade Institutional</td>\n",
              "      <td>142 KB</td>\n",
              "      <td>ACCOUNT TRANSFER FORM</td>\n",
              "      <td>A. Transfer from an ACAT eligible Brokerage Fi...</td>\n",
              "      <td>Adrian T Clemens</td>\n",
              "      <td>280 Park Ave 12th Floor</td>\n",
              "      <td>545401875</td>\n",
              "      <td>nan</td>\n",
              "      <td>987012301</td>\n",
              "      <td>JNJ</td>\n",
              "      <td>(541) 754-3011</td>\n",
              "      <td>nan</td>\n",
              "      <td>nan</td>\n",
              "    </tr>\n",
              "    <tr>\n",
              "      <th>28</th>\n",
              "      <td>Adrian_T_Clemens_.pdf</td>\n",
              "      <td>D Ameritrade Institutional Reset Form ACCOUNT ...</td>\n",
              "      <td>Adrian_T_Clemens_</td>\n",
              "      <td>41</td>\n",
              "      <td>Ameritrade Institutional</td>\n",
              "      <td>142 KB</td>\n",
              "      <td>ACCOUNT TRANSFER FORM</td>\n",
              "      <td>A. Transfer from an ACAT eligible Brokerage Fi...</td>\n",
              "      <td>Adrian T Clemens</td>\n",
              "      <td>Search Results 280 Park Ave 12th Floor</td>\n",
              "      <td>545401875</td>\n",
              "      <td>nan</td>\n",
              "      <td>987012301</td>\n",
              "      <td>COST</td>\n",
              "      <td>(541) 754-3011</td>\n",
              "      <td>nan</td>\n",
              "      <td>nan</td>\n",
              "    </tr>\n",
              "    <tr>\n",
              "      <th>29</th>\n",
              "      <td>Addie N McClellan_.pdf</td>\n",
              "      <td>D Ameritrade Institutional Reset Form ACCOUNT ...</td>\n",
              "      <td>Addie N McClellan_</td>\n",
              "      <td>49</td>\n",
              "      <td>Ameritrade Institutional</td>\n",
              "      <td>142 KB</td>\n",
              "      <td>ACCOUNT TRANSFER FORM</td>\n",
              "      <td>A. Transfer from an ACAT eligible Brokerage Fi...</td>\n",
              "      <td>Addie N McClellan</td>\n",
              "      <td>3835 Marigold Lane</td>\n",
              "      <td>545401811</td>\n",
              "      <td>nan</td>\n",
              "      <td>987012322</td>\n",
              "      <td>NVDA</td>\n",
              "      <td>(541) 754-3022</td>\n",
              "      <td>nan</td>\n",
              "      <td>nan</td>\n",
              "    </tr>\n",
              "    <tr>\n",
              "      <th>30</th>\n",
              "      <td>Ada J Bardsley_.pdf</td>\n",
              "      <td>D Ameritrade Institutional Reset Form ACCOUNT ...</td>\n",
              "      <td>Ada J Bardsley_</td>\n",
              "      <td>30</td>\n",
              "      <td>Ameritrade Institutional</td>\n",
              "      <td>142 KB</td>\n",
              "      <td>ACCOUNT TRANSFER FORM</td>\n",
              "      <td>A. Transfer from an ACAT eligible Brokerage Fi...</td>\n",
              "      <td>Ada J Bardsley</td>\n",
              "      <td>222 Berkeley St</td>\n",
              "      <td>517144661</td>\n",
              "      <td>nan</td>\n",
              "      <td>856901255</td>\n",
              "      <td>MSFT</td>\n",
              "      <td>(541) 754-3999</td>\n",
              "      <td>nan</td>\n",
              "      <td>nan</td>\n",
              "    </tr>\n",
              "    <tr>\n",
              "      <th>31</th>\n",
              "      <td>Rose R Webb.png</td>\n",
              "      <td>DTC8862\\nACAT0671\\nA BANK OF AMERICA COMPANY\\n...</td>\n",
              "      <td>Rose R Webb</td>\n",
              "      <td>4</td>\n",
              "      <td>Merrilllynch_CRA</td>\n",
              "      <td>298 KB</td>\n",
              "      <td>Client Account Transfer Form</td>\n",
              "      <td>Use this form to transfer all or a portion of ...</td>\n",
              "      <td>Donald S Cordova</td>\n",
              "      <td>11150CA-2 #200</td>\n",
              "      <td>539236318</td>\n",
              "      <td>335-4587</td>\n",
              "      <td>22560564</td>\n",
              "      <td>IRA</td>\n",
              "      <td>(541) 754-5879</td>\n",
              "      <td>Los Angeles, CA,90025</td>\n",
              "      <td>Rose@gmail.com</td>\n",
              "    </tr>\n",
              "    <tr>\n",
              "      <th>32</th>\n",
              "      <td>Robert N Sanford.png</td>\n",
              "      <td>DTC8862\\nACAT0671\\nA BANK OF AMERICA COMPANY\\n...</td>\n",
              "      <td>Robert N Sanford</td>\n",
              "      <td>7</td>\n",
              "      <td>Merrilllynch_CRA</td>\n",
              "      <td>299 KB</td>\n",
              "      <td>Client Account Transfer Form</td>\n",
              "      <td>Use this form to transfer all or a portion of ...</td>\n",
              "      <td>Lynne M Palmer</td>\n",
              "      <td>1345 6th Ave</td>\n",
              "      <td>402115260</td>\n",
              "      <td>335-5545</td>\n",
              "      <td>66654445</td>\n",
              "      <td>IRA</td>\n",
              "      <td>(541) 754-3010</td>\n",
              "      <td>New York, NY,10105</td>\n",
              "      <td>Robert@gmail.com</td>\n",
              "    </tr>\n",
              "    <tr>\n",
              "      <th>33</th>\n",
              "      <td>Robert E Regan.png</td>\n",
              "      <td>DTC8862\\nACAT0671\\nA BANK OF AMERICA COMPANY\\n...</td>\n",
              "      <td>Robert E Regan</td>\n",
              "      <td>3</td>\n",
              "      <td>Merrilllynch_CRA</td>\n",
              "      <td>298 KB</td>\n",
              "      <td>Client Account Transfer Form</td>\n",
              "      <td>Use this form to transfer all or a portion of ...</td>\n",
              "      <td>Grace M Gracia</td>\n",
              "      <td>Search Results 11988 El Camino Real #600</td>\n",
              "      <td>417414892</td>\n",
              "      <td>335-0021</td>\n",
              "      <td>nan</td>\n",
              "      <td>IRA</td>\n",
              "      <td>(541) 754-3010</td>\n",
              "      <td>San Diego, CA,92130</td>\n",
              "      <td>Robert@gmail.com</td>\n",
              "    </tr>\n",
              "    <tr>\n",
              "      <th>34</th>\n",
              "      <td>Richard K Kral.png</td>\n",
              "      <td>DTC8862\\nACAT0671\\nA BANK OF AMERICA COMPANY\\n...</td>\n",
              "      <td>Richard K Kral</td>\n",
              "      <td>2</td>\n",
              "      <td>Merrilllynch_CRA</td>\n",
              "      <td>298 KB</td>\n",
              "      <td>Client Account Transfer Form</td>\n",
              "      <td>Use this form to transfer all or a portion of ...</td>\n",
              "      <td>Jeanette B Hughes</td>\n",
              "      <td>340 Madison Ave</td>\n",
              "      <td>344466775</td>\n",
              "      <td>335-2125</td>\n",
              "      <td>79703212</td>\n",
              "      <td>IRA</td>\n",
              "      <td>(541) 754-3888</td>\n",
              "      <td>New York, NY,10173</td>\n",
              "      <td>Richard@gmail.com</td>\n",
              "    </tr>\n",
              "    <tr>\n",
              "      <th>35</th>\n",
              "      <td>Peter E Trosper.png</td>\n",
              "      <td>DTC8862\\nACAT0671\\nA BANK OF AMERICA COMPANY\\n...</td>\n",
              "      <td>Peter E Trosper</td>\n",
              "      <td>1</td>\n",
              "      <td>Merrilllynch_CRA</td>\n",
              "      <td>295 KB</td>\n",
              "      <td>Client Account Transfer Form</td>\n",
              "      <td>Use this form to transfer all or a portion of ...</td>\n",
              "      <td>Grace P Lane</td>\n",
              "      <td>450 Park Ave #18</td>\n",
              "      <td>593746465</td>\n",
              "      <td>335-8978</td>\n",
              "      <td>66667894</td>\n",
              "      <td>IRA</td>\n",
              "      <td>(541) 754-3022</td>\n",
              "      <td>New York, NY,10022</td>\n",
              "      <td>pater@gmail.com</td>\n",
              "    </tr>\n",
              "    <tr>\n",
              "      <th>36</th>\n",
              "      <td>Harold L Brooks.pdf</td>\n",
              "      <td>DTC8862 ACAT0671 Client Account Transfer Form ...</td>\n",
              "      <td>Harold L Brooks</td>\n",
              "      <td>18</td>\n",
              "      <td>Merrilllynch_CRA</td>\n",
              "      <td>124 KB</td>\n",
              "      <td>Client Account Transfer Form</td>\n",
              "      <td>Use this form to transfer all or a portion of ...</td>\n",
              "      <td>Juanita S Salinas</td>\n",
              "      <td>Seagram Building 375 Park Ave 24th Floor</td>\n",
              "      <td>617141155</td>\n",
              "      <td>335-2546</td>\n",
              "      <td>4972333</td>\n",
              "      <td>IRA</td>\n",
              "      <td>(541) 754-2589</td>\n",
              "      <td>New York, NY,10152</td>\n",
              "      <td>harold@gmail.com</td>\n",
              "    </tr>\n",
              "    <tr>\n",
              "      <th>37</th>\n",
              "      <td>Hae F Taylor.pdf</td>\n",
              "      <td>DTC8862 ACAT0671 Client Account Transfer Form ...</td>\n",
              "      <td>Hae F Taylor</td>\n",
              "      <td>17</td>\n",
              "      <td>Merrilllynch_CRA</td>\n",
              "      <td>124 KB</td>\n",
              "      <td>Client Account Transfer Form</td>\n",
              "      <td>Use this form to transfer all or a portion of ...</td>\n",
              "      <td>Erik S Terry</td>\n",
              "      <td>745 5th Ave #2300</td>\n",
              "      <td>473834282</td>\n",
              "      <td>335-2135</td>\n",
              "      <td>55121225</td>\n",
              "      <td>IRA</td>\n",
              "      <td>(541) 754-2424</td>\n",
              "      <td>New York, NY,10151</td>\n",
              "      <td>taylor@gmail.com</td>\n",
              "    </tr>\n",
              "    <tr>\n",
              "      <th>38</th>\n",
              "      <td>Gina F Johnson.pdf</td>\n",
              "      <td>DTC8862 ACAT0671 Client Account Transfer Form ...</td>\n",
              "      <td>Gina F Johnson</td>\n",
              "      <td>16</td>\n",
              "      <td>Merrilllynch_CRA</td>\n",
              "      <td>124 KB</td>\n",
              "      <td>Client Account Transfer Form</td>\n",
              "      <td>Use this form to transfer all or a portion of ...</td>\n",
              "      <td>Phyllis E Maxwell</td>\n",
              "      <td>6300 Bridge Point Pkwy #1-500</td>\n",
              "      <td>574434684</td>\n",
              "      <td>335-2654</td>\n",
              "      <td>9965454</td>\n",
              "      <td>IRA</td>\n",
              "      <td>(541) 754-4741</td>\n",
              "      <td>Austin, TX,78730</td>\n",
              "      <td>Johnson@gmail.com</td>\n",
              "    </tr>\n",
              "    <tr>\n",
              "      <th>39</th>\n",
              "      <td>Eula R Tucker.pdf</td>\n",
              "      <td>DTC8862 ACAT0671 Client Account Transfer Form ...</td>\n",
              "      <td>Eula R Tucker</td>\n",
              "      <td>15</td>\n",
              "      <td>Merrilllynch_CRA</td>\n",
              "      <td>124 KB</td>\n",
              "      <td>Client Account Transfer Form</td>\n",
              "      <td>Use this form to transfer all or a portion of ...</td>\n",
              "      <td>Tommy F Juhl</td>\n",
              "      <td>Search Results One Letterman Dr</td>\n",
              "      <td>431169141</td>\n",
              "      <td>335-2541</td>\n",
              "      <td>67401231</td>\n",
              "      <td>IRA</td>\n",
              "      <td>(541) 754-3014</td>\n",
              "      <td>San Francisco, CA,94133</td>\n",
              "      <td>eula@gmail.com</td>\n",
              "    </tr>\n",
              "    <tr>\n",
              "      <th>40</th>\n",
              "      <td>Edna T Peres.pdf</td>\n",
              "      <td>DTC8862 ACAT0671 Client Account Transfer Form ...</td>\n",
              "      <td>Edna T Peres</td>\n",
              "      <td>14</td>\n",
              "      <td>Merrilllynch_CRA</td>\n",
              "      <td>124 KB</td>\n",
              "      <td>Client Account Transfer Form</td>\n",
              "      <td>Use this form to transfer all or a portion of ...</td>\n",
              "      <td>Jose S Hogan</td>\n",
              "      <td>2020 Calamos Ct</td>\n",
              "      <td>213205275</td>\n",
              "      <td>335-4547</td>\n",
              "      <td>77032789</td>\n",
              "      <td>IRA</td>\n",
              "      <td>(541) 754-3010</td>\n",
              "      <td>Naperville, IL, 60563</td>\n",
              "      <td>peres@gmail.com</td>\n",
              "    </tr>\n",
              "    <tr>\n",
              "      <th>41</th>\n",
              "      <td>Edith D Alexander.pdf</td>\n",
              "      <td>DTC8862 ACAT0671 Client Account Transfer Form ...</td>\n",
              "      <td>Edith D Alexander</td>\n",
              "      <td>13</td>\n",
              "      <td>Merrilllynch_CRA</td>\n",
              "      <td>123 KB</td>\n",
              "      <td>Client Account Transfer Form</td>\n",
              "      <td>Use this form to transfer all or a portion of ...</td>\n",
              "      <td>Nettie W Wright</td>\n",
              "      <td>200 Crescent Court Suite 1200</td>\n",
              "      <td>495138318</td>\n",
              "      <td>335-4547</td>\n",
              "      <td>2887454</td>\n",
              "      <td>IRA</td>\n",
              "      <td>(541) 754-3010</td>\n",
              "      <td>Dallas, TX, 75201</td>\n",
              "      <td>alexander@gmail.com</td>\n",
              "    </tr>\n",
              "    <tr>\n",
              "      <th>42</th>\n",
              "      <td>Diana J Alarcon.pdf</td>\n",
              "      <td>DTC8862 ACAT0671 Client Account Transfer Form ...</td>\n",
              "      <td>Diana J Alarcon</td>\n",
              "      <td>12</td>\n",
              "      <td>Merrilllynch_CRA</td>\n",
              "      <td>124 KB</td>\n",
              "      <td>Client Account Transfer Form</td>\n",
              "      <td>Use this form to transfer all or a portion of ...</td>\n",
              "      <td>Sue J Avila</td>\n",
              "      <td>280 Park Ave 12th Floor</td>\n",
              "      <td>383418383</td>\n",
              "      <td>335-4412</td>\n",
              "      <td>25265454</td>\n",
              "      <td>IRA</td>\n",
              "      <td>(541) 754-4547</td>\n",
              "      <td>New York, NY,10017</td>\n",
              "      <td>alarcon@gmail.com</td>\n",
              "    </tr>\n",
              "    <tr>\n",
              "      <th>43</th>\n",
              "      <td>Connie J Llanos.pdf</td>\n",
              "      <td>DTC8862 ACAT0671 Client Account Transfer Form ...</td>\n",
              "      <td>Connie J Llanos</td>\n",
              "      <td>11</td>\n",
              "      <td>Merrilllynch_CRA</td>\n",
              "      <td>124 KB</td>\n",
              "      <td>Client Account Transfer Form</td>\n",
              "      <td>Use this form to transfer all or a portion of ...</td>\n",
              "      <td>Joshua A Jimenez</td>\n",
              "      <td>2 Seaport Ln</td>\n",
              "      <td>640518538</td>\n",
              "      <td>335-0001</td>\n",
              "      <td>63701789</td>\n",
              "      <td>IRA</td>\n",
              "      <td>(541) 754-2121</td>\n",
              "      <td>Boston, MA,02210</td>\n",
              "      <td>connie@gmail.com</td>\n",
              "    </tr>\n",
              "    <tr>\n",
              "      <th>44</th>\n",
              "      <td>Cletus S Russo.pdf</td>\n",
              "      <td>DTC8862 ACAT0671 Client Account Transfer Form ...</td>\n",
              "      <td>Cletus S Russo</td>\n",
              "      <td>10</td>\n",
              "      <td>Merrilllynch_CRA</td>\n",
              "      <td>124 KB</td>\n",
              "      <td>Client Account Transfer Form</td>\n",
              "      <td>Use this form to transfer all or a portion of ...</td>\n",
              "      <td>Barbara D Cooley</td>\n",
              "      <td>1 Maynard Dr #3200</td>\n",
              "      <td>533618482</td>\n",
              "      <td>335-4454</td>\n",
              "      <td>56498273</td>\n",
              "      <td>IRA</td>\n",
              "      <td>(541) 754-4757</td>\n",
              "      <td>Park Ridge, NJ,07656</td>\n",
              "      <td>cletus@gmail.com</td>\n",
              "    </tr>\n",
              "    <tr>\n",
              "      <th>45</th>\n",
              "      <td>Cheryl J Taylor.pdf</td>\n",
              "      <td>DTC8862 ACAT0671 Client Account Transfer Form ...</td>\n",
              "      <td>Cheryl J Taylor</td>\n",
              "      <td>9</td>\n",
              "      <td>Merrilllynch_CRA</td>\n",
              "      <td>123 KB</td>\n",
              "      <td>Client Account Transfer Form</td>\n",
              "      <td>Use this form to transfer all or a portion of ...</td>\n",
              "      <td>Ruben F Bennett</td>\n",
              "      <td>6641 W Broad St #600</td>\n",
              "      <td>674410542</td>\n",
              "      <td>335-4241</td>\n",
              "      <td>28690444</td>\n",
              "      <td>IRA</td>\n",
              "      <td>(541) 754-5472</td>\n",
              "      <td>Richmond, VA 23230</td>\n",
              "      <td>taylor@gmail.com</td>\n",
              "    </tr>\n",
              "    <tr>\n",
              "      <th>46</th>\n",
              "      <td>Candy T Lee.pdf</td>\n",
              "      <td>DTC8862 ACAT0671 Client Account Transfer Form ...</td>\n",
              "      <td>Candy T Lee</td>\n",
              "      <td>8</td>\n",
              "      <td>Merrilllynch_CRA</td>\n",
              "      <td>124 KB</td>\n",
              "      <td>Client Account Transfer Form</td>\n",
              "      <td>Use this form to transfer all or a portion of ...</td>\n",
              "      <td>Pamela B Boyd</td>\n",
              "      <td>800 E Colorado Blvd # 900</td>\n",
              "      <td>204842467</td>\n",
              "      <td>335-4444</td>\n",
              "      <td>18944787</td>\n",
              "      <td>IRA</td>\n",
              "      <td>(541) 754-3021</td>\n",
              "      <td>Pasadena, CA,91101</td>\n",
              "      <td>Candy@gmail.com</td>\n",
              "    </tr>\n",
              "    <tr>\n",
              "      <th>47</th>\n",
              "      <td>Allan A Cook.png</td>\n",
              "      <td>DTC8862\\nACAT0671\\nA BANK OF AMERICA COMPANY\\n...</td>\n",
              "      <td>Allan A Cook</td>\n",
              "      <td>6</td>\n",
              "      <td>Merrilllynch_CRA</td>\n",
              "      <td>300 KB</td>\n",
              "      <td>Client Account Transfer Form</td>\n",
              "      <td>Use this form to transfer all or a portion of ...</td>\n",
              "      <td>Sabrina J McKenzie</td>\n",
              "      <td>Search Results 280 Park Ave 12th Floor</td>\n",
              "      <td>353752495</td>\n",
              "      <td>335-0212</td>\n",
              "      <td>60610454</td>\n",
              "      <td>IRA</td>\n",
              "      <td>(541) 754-1111</td>\n",
              "      <td>New York, NY,10017</td>\n",
              "      <td>Allan@gmail.com</td>\n",
              "    </tr>\n",
              "    <tr>\n",
              "      <th>48</th>\n",
              "      <td>Adrian Clemens.png</td>\n",
              "      <td>DTC8862\\nACAT0671\\nA BANK OF AMERICA COMPANY\\n...</td>\n",
              "      <td>Adrian Clemens</td>\n",
              "      <td>0</td>\n",
              "      <td>Merrilllynch_CRA</td>\n",
              "      <td>298 KB</td>\n",
              "      <td>Client Account Transfer Form</td>\n",
              "      <td>Use this form to transfer all or a portion of ...</td>\n",
              "      <td>Daniel C Paul</td>\n",
              "      <td>2 Seaport Ln</td>\n",
              "      <td>545401875</td>\n",
              "      <td>335-0012</td>\n",
              "      <td>89101454</td>\n",
              "      <td>IRA</td>\n",
              "      <td>(541) 754-2545</td>\n",
              "      <td>Boston, MA,02210</td>\n",
              "      <td>Adrian@gmail.com</td>\n",
              "    </tr>\n",
              "    <tr>\n",
              "      <th>49</th>\n",
              "      <td>Bobby_J_Cole_.pdf</td>\n",
              "      <td>CLEAR PRINT IRA Account Application charles SC...</td>\n",
              "      <td>Bobby_J_Cole_</td>\n",
              "      <td>60</td>\n",
              "      <td>Schwab_IRA</td>\n",
              "      <td>667 KB</td>\n",
              "      <td>Account Application</td>\n",
              "      <td>A Schwab Qualified Plan is a Schwab Profit Sha...</td>\n",
              "      <td>Thomas L Dodds</td>\n",
              "      <td>3977 Hillview Drive</td>\n",
              "      <td>360-80-6429</td>\n",
              "      <td>nan</td>\n",
              "      <td>7896-5893</td>\n",
              "      <td>IRA</td>\n",
              "      <td>(541) 754-2211</td>\n",
              "      <td>Appling, Georgia</td>\n",
              "      <td>Bobby@gmail.com</td>\n",
              "    </tr>\n",
              "    <tr>\n",
              "      <th>50</th>\n",
              "      <td>Thomas_L_Dodds_.pdf</td>\n",
              "      <td>CLEAR PRINT IRA Account Application charles SC...</td>\n",
              "      <td>Thomas_L_Dodds_</td>\n",
              "      <td>70</td>\n",
              "      <td>Schwab_IRA</td>\n",
              "      <td>667 KB</td>\n",
              "      <td>Account Application</td>\n",
              "      <td>A Schwab Qualified Plan is a Schwab Profit Sha...</td>\n",
              "      <td>James B Adams</td>\n",
              "      <td>3977 Hillview Drive</td>\n",
              "      <td>561-81-7321</td>\n",
              "      <td>nan</td>\n",
              "      <td>8954-7892</td>\n",
              "      <td>IRA</td>\n",
              "      <td>(707) 491-6854</td>\n",
              "      <td>Appling, Georgia</td>\n",
              "      <td>Thomas@gmail.com</td>\n",
              "    </tr>\n",
              "    <tr>\n",
              "      <th>51</th>\n",
              "      <td>Tammy_M_Pereira_.pdf</td>\n",
              "      <td>CLEAR PRINT IRA Account Application charles SC...</td>\n",
              "      <td>Tammy_M_Pereira_</td>\n",
              "      <td>69</td>\n",
              "      <td>Schwab_IRA</td>\n",
              "      <td>667 KB</td>\n",
              "      <td>Account Application</td>\n",
              "      <td>A Schwab Qualified Plan is a Schwab Profit Sha...</td>\n",
              "      <td>Allyson J Soto</td>\n",
              "      <td>3386 Hill Haven Drive</td>\n",
              "      <td>360-80-6429</td>\n",
              "      <td>nan</td>\n",
              "      <td>7457-2854</td>\n",
              "      <td>IRA</td>\n",
              "      <td>(541) 754-3000</td>\n",
              "      <td>Seattle, Washington</td>\n",
              "      <td>Tammy@gmail.com</td>\n",
              "    </tr>\n",
              "    <tr>\n",
              "      <th>52</th>\n",
              "      <td>Richard_K_Forester_.pdf</td>\n",
              "      <td>CLEAR PRINT IRA Account Application charles SC...</td>\n",
              "      <td>Richard_K_Forester_</td>\n",
              "      <td>68</td>\n",
              "      <td>Schwab_IRA</td>\n",
              "      <td>667 KB</td>\n",
              "      <td>Account Application</td>\n",
              "      <td>A Schwab Qualified Plan is a Schwab Profit Sha...</td>\n",
              "      <td>Jammy D Brown</td>\n",
              "      <td>2072 James Street</td>\n",
              "      <td>337-50-9888</td>\n",
              "      <td>nan</td>\n",
              "      <td>7457-7795</td>\n",
              "      <td>IRA</td>\n",
              "      <td>(541) 754-3555</td>\n",
              "      <td>Westfield, Wisconsin</td>\n",
              "      <td>Richard@gmail.com</td>\n",
              "    </tr>\n",
              "    <tr>\n",
              "      <th>53</th>\n",
              "      <td>James_B_Adams_.pdf</td>\n",
              "      <td>CLEAR PRINT IRA Account Application charles SC...</td>\n",
              "      <td>James_B_Adams_</td>\n",
              "      <td>64</td>\n",
              "      <td>Schwab_IRA</td>\n",
              "      <td>667 KB</td>\n",
              "      <td>Account Application</td>\n",
              "      <td>A Schwab Qualified Plan is a Schwab Profit Sha...</td>\n",
              "      <td>Joseph V Montgomery</td>\n",
              "      <td>2072 James Street</td>\n",
              "      <td>337-50-9882</td>\n",
              "      <td>nan</td>\n",
              "      <td>7457-7791</td>\n",
              "      <td>IRA</td>\n",
              "      <td>(541) 754-3551</td>\n",
              "      <td>Washington, Virginia</td>\n",
              "      <td>James@gmail.com</td>\n",
              "    </tr>\n",
              "    <tr>\n",
              "      <th>54</th>\n",
              "      <td>Edmund_L_Kroeger_.pdf</td>\n",
              "      <td>CLEAR PRINT IRA Account Application charles SC...</td>\n",
              "      <td>Edmund_L_Kroeger_</td>\n",
              "      <td>63</td>\n",
              "      <td>Schwab_IRA</td>\n",
              "      <td>667 KB</td>\n",
              "      <td>Account Application</td>\n",
              "      <td>A Schwab Qualified Plan is a Schwab Profit Sha...</td>\n",
              "      <td>Ruby B Nicholson</td>\n",
              "      <td>1288 Randall Drive</td>\n",
              "      <td>402-33-4959</td>\n",
              "      <td>nan</td>\n",
              "      <td>7457-2895</td>\n",
              "      <td>IRA</td>\n",
              "      <td>(541) 754-3055</td>\n",
              "      <td>Kula, Hawaii</td>\n",
              "      <td>Edmund@gmail.com</td>\n",
              "    </tr>\n",
              "    <tr>\n",
              "      <th>55</th>\n",
              "      <td>Donna_E_Warren_.pdf</td>\n",
              "      <td>CLEAR PRINT IRA Account Application charles SC...</td>\n",
              "      <td>Donna_E_Warren_</td>\n",
              "      <td>62</td>\n",
              "      <td>Schwab_IRA</td>\n",
              "      <td>667 KB</td>\n",
              "      <td>Account Application</td>\n",
              "      <td>A Schwab Qualified Plan is a Schwab Profit Sha...</td>\n",
              "      <td>Janie H Pagan</td>\n",
              "      <td>3845 Roguski Road</td>\n",
              "      <td>680-12-0201</td>\n",
              "      <td>nan</td>\n",
              "      <td>8896-5495</td>\n",
              "      <td>IRA</td>\n",
              "      <td>(541) 754-3001</td>\n",
              "      <td>Alexandria, Louisiana</td>\n",
              "      <td>Donna@gmail.com</td>\n",
              "    </tr>\n",
              "    <tr>\n",
              "      <th>56</th>\n",
              "      <td>Daniel_P_Woods_.pdf</td>\n",
              "      <td>CLEAR PRINT IRA Account Application charles SC...</td>\n",
              "      <td>Daniel_P_Woods_</td>\n",
              "      <td>61</td>\n",
              "      <td>Schwab_IRA</td>\n",
              "      <td>667 KB</td>\n",
              "      <td>Account Application</td>\n",
              "      <td>A Schwab Qualified Plan is a Schwab Profit Sha...</td>\n",
              "      <td>John T Craig</td>\n",
              "      <td>744 Issacs Creek Road</td>\n",
              "      <td>561-81-7321</td>\n",
              "      <td>nan</td>\n",
              "      <td>8954-7888</td>\n",
              "      <td>IRA</td>\n",
              "      <td>(707) 491-6854</td>\n",
              "      <td>Champaign, Illinois</td>\n",
              "      <td>Daniel@gmail.com</td>\n",
              "    </tr>\n",
              "    <tr>\n",
              "      <th>57</th>\n",
              "      <td>Jonathan_K_Sanchez_.pdf</td>\n",
              "      <td>CLEAR PRINT IRA Account Application charles SC...</td>\n",
              "      <td>Jonathan_K_Sanchez_</td>\n",
              "      <td>65</td>\n",
              "      <td>Schwab_IRA</td>\n",
              "      <td>668 KB</td>\n",
              "      <td>Account Application</td>\n",
              "      <td>A Schwab Qualified Plan is a Schwab Profit Sha...</td>\n",
              "      <td>Walter O Cruz</td>\n",
              "      <td>4929 B Street</td>\n",
              "      <td>680-12-0244</td>\n",
              "      <td>nan</td>\n",
              "      <td>8896-5498</td>\n",
              "      <td>IRA</td>\n",
              "      <td>(541) 754-3022</td>\n",
              "      <td>Austin, Kentucky</td>\n",
              "      <td>Jonathan@gmail.com</td>\n",
              "    </tr>\n",
              "    <tr>\n",
              "      <th>58</th>\n",
              "      <td>Karen_A_Sliva_.pdf</td>\n",
              "      <td>CLEAR PRINT IRA Account Application charles SC...</td>\n",
              "      <td>Karen_A_Sliva_</td>\n",
              "      <td>66</td>\n",
              "      <td>Schwab_IRA</td>\n",
              "      <td>667 KB</td>\n",
              "      <td>Account Application</td>\n",
              "      <td>A Schwab Qualified Plan is a Schwab Profit Sha...</td>\n",
              "      <td>Edward V Davis</td>\n",
              "      <td>213 Payne Street</td>\n",
              "      <td>337-01-4322</td>\n",
              "      <td>nan</td>\n",
              "      <td>7457-2893</td>\n",
              "      <td>IRA</td>\n",
              "      <td>(541) 754-3056</td>\n",
              "      <td>Clinchport, Virginia</td>\n",
              "      <td>Karen@gmail.com</td>\n",
              "    </tr>\n",
              "    <tr>\n",
              "      <th>59</th>\n",
              "      <td>Patricia_J_Kim_.pdf</td>\n",
              "      <td>CLEAR PRINT IRA Account Application charles SC...</td>\n",
              "      <td>Patricia_J_Kim_</td>\n",
              "      <td>67</td>\n",
              "      <td>Schwab_IRA</td>\n",
              "      <td>667 KB</td>\n",
              "      <td>Account Application</td>\n",
              "      <td>A Schwab Qualified Plan is a Schwab Profit Sha...</td>\n",
              "      <td>Taylor M Sanchez</td>\n",
              "      <td>2465 Richison Drive</td>\n",
              "      <td>360-80-6429</td>\n",
              "      <td>nan</td>\n",
              "      <td>7457-2899</td>\n",
              "      <td>IRA</td>\n",
              "      <td>(541) 754-3000</td>\n",
              "      <td>Rudyard, Montana</td>\n",
              "      <td>Patricia@gmail.com</td>\n",
              "    </tr>\n",
              "  </tbody>\n",
              "</table>\n",
              "</div>"
            ],
            "text/plain": [
              "                     file_name  ...                EMAIL\n",
              "0          Zita J Rottman_.pdf  ...                  nan\n",
              "1          Teresa R Woods_.pdf  ...                  nan\n",
              "2           Susan T Green_.pdf  ...                  nan\n",
              "3       Robert R Sheppard_.pdf  ...                  nan\n",
              "4           Robert J Barr_.pdf  ...                  nan\n",
              "5           Pamela E Byrd_.pdf  ...                  nan\n",
              "6            Nora R Mills_.pdf  ...                  nan\n",
              "7       Michael_C_Preston_.pdf  ...                  nan\n",
              "8           Mary H Craven_.pdf  ...                  nan\n",
              "9         Marie P Watkins_.pdf  ...                  nan\n",
              "10           Linda M Rice_.pdf  ...                  nan\n",
              "11          Lili J Thomas_.pdf  ...                  nan\n",
              "12     Kristen W Hamilton_.pdf  ...                  nan\n",
              "13         Joseph T Green_.pdf  ...                  nan\n",
              "14         Joseph T Green_.pdf  ...                  nan\n",
              "15        Joshua T Truitt_.pdf  ...                  nan\n",
              "16          Joseph N Weed_.pdf  ...                  nan\n",
              "17         James P Osborne.pdf  ...                  nan\n",
              "18     Horace H Carpenter_.pdf  ...                  nan\n",
              "19     Harold N Samaniego_.pdf  ...                  nan\n",
              "20          Floyd K Brown_.pdf  ...                  nan\n",
              "21        Damian C Russell.pdf  ...                  nan\n",
              "22  Christopher V Herring_.pdf  ...                  nan\n",
              "23            Anne C Pugh_.pdf  ...                  nan\n",
              "24        Angelica E Senn_.pdf  ...                  nan\n",
              "25         Andrew_H_Jones_.pdf  ...                  nan\n",
              "26           Allan_A_Cook_.pdf  ...                  nan\n",
              "27       Adrian_T_Clemens_.pdf  ...                  nan\n",
              "28       Adrian_T_Clemens_.pdf  ...                  nan\n",
              "29      Addie N McClellan_.pdf  ...                  nan\n",
              "30         Ada J Bardsley_.pdf  ...                  nan\n",
              "31             Rose R Webb.png  ...       Rose@gmail.com\n",
              "32        Robert N Sanford.png  ...     Robert@gmail.com\n",
              "33          Robert E Regan.png  ...     Robert@gmail.com\n",
              "34          Richard K Kral.png  ...    Richard@gmail.com\n",
              "35         Peter E Trosper.png  ...      pater@gmail.com\n",
              "36         Harold L Brooks.pdf  ...     harold@gmail.com\n",
              "37            Hae F Taylor.pdf  ...     taylor@gmail.com\n",
              "38          Gina F Johnson.pdf  ...    Johnson@gmail.com\n",
              "39           Eula R Tucker.pdf  ...       eula@gmail.com\n",
              "40            Edna T Peres.pdf  ...      peres@gmail.com\n",
              "41       Edith D Alexander.pdf  ...  alexander@gmail.com\n",
              "42         Diana J Alarcon.pdf  ...    alarcon@gmail.com\n",
              "43         Connie J Llanos.pdf  ...     connie@gmail.com\n",
              "44          Cletus S Russo.pdf  ...     cletus@gmail.com\n",
              "45         Cheryl J Taylor.pdf  ...     taylor@gmail.com\n",
              "46             Candy T Lee.pdf  ...      Candy@gmail.com\n",
              "47            Allan A Cook.png  ...      Allan@gmail.com\n",
              "48          Adrian Clemens.png  ...     Adrian@gmail.com\n",
              "49           Bobby_J_Cole_.pdf  ...      Bobby@gmail.com\n",
              "50         Thomas_L_Dodds_.pdf  ...     Thomas@gmail.com\n",
              "51        Tammy_M_Pereira_.pdf  ...      Tammy@gmail.com\n",
              "52     Richard_K_Forester_.pdf  ...    Richard@gmail.com\n",
              "53          James_B_Adams_.pdf  ...      James@gmail.com\n",
              "54       Edmund_L_Kroeger_.pdf  ...     Edmund@gmail.com\n",
              "55         Donna_E_Warren_.pdf  ...      Donna@gmail.com\n",
              "56         Daniel_P_Woods_.pdf  ...     Daniel@gmail.com\n",
              "57     Jonathan_K_Sanchez_.pdf  ...   Jonathan@gmail.com\n",
              "58          Karen_A_Sliva_.pdf  ...      Karen@gmail.com\n",
              "59         Patricia_J_Kim_.pdf  ...   Patricia@gmail.com\n",
              "\n",
              "[60 rows x 17 columns]"
            ]
          },
          "metadata": {
            "tags": []
          },
          "execution_count": 73
        }
      ]
    },
    {
      "cell_type": "code",
      "metadata": {
        "id": "XyF9J1Qyh-j3",
        "colab_type": "code",
        "colab": {}
      },
      "source": [
        "from sklearn.utils import shuffle"
      ],
      "execution_count": 0,
      "outputs": []
    },
    {
      "cell_type": "code",
      "metadata": {
        "id": "Vl8X8GdaiDOD",
        "colab_type": "code",
        "colab": {}
      },
      "source": [
        "from sklearn.model_selection import train_test_split\n",
        "import spacy\n",
        "from spacy.util import decaying\n",
        "from spacy.matcher import PhraseMatcher\n",
        "from spacy.lang.en import English\n",
        "from spacy.util import minibatch, compounding\n",
        "from spacy.gold import GoldParse \n",
        "from spacy.scorer import Scorer\n",
        "import random"
      ],
      "execution_count": 0,
      "outputs": []
    },
    {
      "cell_type": "code",
      "metadata": {
        "id": "4YtRR_NgiFRm",
        "colab_type": "code",
        "colab": {}
      },
      "source": [
        "final_df = final_df.sample(frac=1)\n",
        "final_df.reset_index(drop = True, inplace = True)\n",
        "\n",
        "train, test = train_test_split(final_df, test_size=0.1)"
      ],
      "execution_count": 0,
      "outputs": []
    },
    {
      "cell_type": "code",
      "metadata": {
        "id": "2TyOqbBdiHmh",
        "colab_type": "code",
        "outputId": "d33d7bde-82f0-4ec8-df70-ac848d783b6f",
        "colab": {
          "base_uri": "https://localhost:8080/",
          "height": 34
        }
      },
      "source": [
        "train.shape, test.shape"
      ],
      "execution_count": 0,
      "outputs": [
        {
          "output_type": "execute_result",
          "data": {
            "text/plain": [
              "((54, 17), (6, 17))"
            ]
          },
          "metadata": {
            "tags": []
          },
          "execution_count": 77
        }
      ]
    },
    {
      "cell_type": "code",
      "metadata": {
        "id": "lUVYZA2ziJl1",
        "colab_type": "code",
        "outputId": "899f4661-978f-4091-da30-df182b971ebd",
        "colab": {
          "base_uri": "https://localhost:8080/",
          "height": 202
        }
      },
      "source": [
        "['TITLE', 'DESCRIPTION', 'CLIENT', 'ADDRESS',\n",
        "       'SOCIAL_SECURITY_NO', 'RELATIONSHIP_NO', 'ACC_NO', 'ACC_TYPE', 'PHONE',\n",
        "       'CITY', 'EMAIL']"
      ],
      "execution_count": 0,
      "outputs": [
        {
          "output_type": "execute_result",
          "data": {
            "text/plain": [
              "['TITLE',\n",
              " 'DESCRIPTION',\n",
              " 'CLIENT',\n",
              " 'ADDRESS',\n",
              " 'SOCIAL_SECURITY_NO',\n",
              " 'RELATIONSHIP_NO',\n",
              " 'ACC_NO',\n",
              " 'ACC_TYPE',\n",
              " 'PHONE',\n",
              " 'CITY',\n",
              " 'EMAIL']"
            ]
          },
          "metadata": {
            "tags": []
          },
          "execution_count": 78
        }
      ]
    },
    {
      "cell_type": "code",
      "metadata": {
        "id": "-YIHdbS2iL7n",
        "colab_type": "code",
        "colab": {}
      },
      "source": [
        "nlp = English()\n",
        "#nlp = spacy.load(\"en_trf_bertbaseuncased_lg\")\n",
        "#nlp.vocab, attr='lemma', validate=True"
      ],
      "execution_count": 0,
      "outputs": []
    },
    {
      "cell_type": "code",
      "metadata": {
        "id": "jXHOSZPtiOgk",
        "colab_type": "code",
        "colab": {}
      },
      "source": [
        "#TITLE_matcher = PhraseMatcher(nlp.vocab, attr='LOWER')\n",
        "TITLE_matcher = PhraseMatcher(nlp.vocab, attr='LOWER')\n",
        "TITLE_patterns = [nlp(i) for i in final_df['TITLE'].to_list()]\n",
        "TITLE_matcher.add(\"TITLE\", None,*TITLE_patterns)"
      ],
      "execution_count": 0,
      "outputs": []
    },
    {
      "cell_type": "code",
      "metadata": {
        "id": "VlIBT_8diQcF",
        "colab_type": "code",
        "colab": {}
      },
      "source": [
        "DESCRIPTION_matcher = PhraseMatcher(nlp.vocab, attr='LOWER')\n",
        "DESCRIPTION_patterns = [nlp(i) for i in final_df['DESCRIPTION'].to_list()]\n",
        "DESCRIPTION_matcher.add(\"DESCRIPTION\", None,*DESCRIPTION_patterns)"
      ],
      "execution_count": 0,
      "outputs": []
    },
    {
      "cell_type": "code",
      "metadata": {
        "id": "iREHaxgLiSy3",
        "colab_type": "code",
        "colab": {}
      },
      "source": [
        "CLIENT_matcher = PhraseMatcher(nlp.vocab, attr='LOWER')\n",
        "CLIENT_patterns = [nlp(i) for i in final_df['CLIENT'].to_list()]\n",
        "CLIENT_matcher.add(\"CLIENT\", None,*CLIENT_patterns)"
      ],
      "execution_count": 0,
      "outputs": []
    },
    {
      "cell_type": "code",
      "metadata": {
        "id": "7AcovoQKiVHn",
        "colab_type": "code",
        "colab": {}
      },
      "source": [
        "\n",
        "ADDRESS_matcher = PhraseMatcher(nlp.vocab, attr='LOWER')\n",
        "ADDRESS_patterns = [nlp(i) for i in final_df['ADDRESS'].to_list()]\n",
        "ADDRESS_matcher.add(\"ADDRESS\", None,*ADDRESS_patterns)"
      ],
      "execution_count": 0,
      "outputs": []
    },
    {
      "cell_type": "code",
      "metadata": {
        "id": "Yv_-YNCjiXoZ",
        "colab_type": "code",
        "colab": {}
      },
      "source": [
        "SOCIAL_SECURITY_NO_matcher = PhraseMatcher(nlp.vocab, attr='LOWER')\n",
        "SOCIAL_SECURITY_NO_patterns = [nlp(i) for i in final_df['SOCIAL_SECURITY_NO'].to_list()]\n",
        "SOCIAL_SECURITY_NO_matcher.add(\"SOCIAL_SECURITY_NO\", None,*SOCIAL_SECURITY_NO_patterns)"
      ],
      "execution_count": 0,
      "outputs": []
    },
    {
      "cell_type": "code",
      "metadata": {
        "id": "pAx4CaRjiZtn",
        "colab_type": "code",
        "colab": {}
      },
      "source": [
        "RELATIONSHIP_NO_matcher = PhraseMatcher(nlp.vocab, attr='LOWER')\n",
        "RELATIONSHIP_NO_patterns = [nlp(i) for i in final_df['RELATIONSHIP_NO'].to_list()]\n",
        "RELATIONSHIP_NO_matcher.add(\"RELATIONSHIP_NO\", None,*RELATIONSHIP_NO_patterns)"
      ],
      "execution_count": 0,
      "outputs": []
    },
    {
      "cell_type": "code",
      "metadata": {
        "id": "TcIUIjNGib28",
        "colab_type": "code",
        "colab": {}
      },
      "source": [
        "ACC_NO_matcher = PhraseMatcher(nlp.vocab, attr='LOWER')\n",
        "ACC_NO_patterns = [nlp(i) for i in final_df['ACC_NO'].to_list()]\n",
        "ACC_NO_matcher.add(\"ACC_NO\", None,*ACC_NO_patterns)"
      ],
      "execution_count": 0,
      "outputs": []
    },
    {
      "cell_type": "code",
      "metadata": {
        "id": "Z-oa11BZieLK",
        "colab_type": "code",
        "colab": {}
      },
      "source": [
        "ACC_TYPE_matcher = PhraseMatcher(nlp.vocab, attr='LOWER')\n",
        "ACC_TYPE_patterns = [nlp(i) for i in final_df['ACC_TYPE'].to_list()]\n",
        "ACC_TYPE_matcher.add(\"ACC_TYPE\", None,*ACC_TYPE_patterns)"
      ],
      "execution_count": 0,
      "outputs": []
    },
    {
      "cell_type": "code",
      "metadata": {
        "id": "hjpnDnZOigk8",
        "colab_type": "code",
        "colab": {}
      },
      "source": [
        "PHONE_matcher = PhraseMatcher(nlp.vocab, attr='LOWER')\n",
        "PHONE_patterns = [nlp(i) for i in final_df['PHONE'].to_list()]\n",
        "PHONE_matcher.add(\"PHONE\", None,*PHONE_patterns)"
      ],
      "execution_count": 0,
      "outputs": []
    },
    {
      "cell_type": "code",
      "metadata": {
        "id": "VSLHB40sii04",
        "colab_type": "code",
        "colab": {}
      },
      "source": [
        "CITY_matcher = PhraseMatcher(nlp.vocab, attr='LOWER')\n",
        "CITY_patterns = [nlp(i) for i in final_df['CITY'].to_list()]\n",
        "CITY_matcher.add(\"CITY\", None,*CITY_patterns)"
      ],
      "execution_count": 0,
      "outputs": []
    },
    {
      "cell_type": "code",
      "metadata": {
        "id": "1xBUkE5KikxW",
        "colab_type": "code",
        "colab": {}
      },
      "source": [
        "EMAIL_matcher = PhraseMatcher(nlp.vocab, attr='LOWER')\n",
        "EMAIL_patterns = [nlp(i) for i in final_df['EMAIL'].to_list()]\n",
        "EMAIL_matcher.add(\"EMAIL\", None,*EMAIL_patterns)"
      ],
      "execution_count": 0,
      "outputs": []
    },
    {
      "cell_type": "code",
      "metadata": {
        "id": "TVGX2429imsA",
        "colab_type": "code",
        "colab": {}
      },
      "source": [
        "TRAIN_TEXTS = train['extracted_text'].tolist()\n",
        "TEST_TEXTS = test['extracted_text'].tolist()"
      ],
      "execution_count": 0,
      "outputs": []
    },
    {
      "cell_type": "code",
      "metadata": {
        "id": "5WgKPJyfipom",
        "colab_type": "code",
        "outputId": "b40f478a-3d89-4408-876b-f4f7e329c868",
        "colab": {
          "base_uri": "https://localhost:8080/",
          "height": 67
        }
      },
      "source": [
        "TRAINING_DATA = []\n",
        "\n",
        "# Create a Doc object for each text in TEXTS\n",
        "for doc in tqdm(nlp.pipe(TRAIN_TEXTS)):\n",
        "    # Match on the doc and create a list of matched spans\n",
        "    TITLE_spans = [doc[start:end] for match_id, start, end in TITLE_matcher(doc)]\n",
        "    DESCRIPTION_spans = [doc[start:end] for match_id, start, end in DESCRIPTION_matcher(doc)]\n",
        "    CLIENT_spans = [doc[start:end] for match_id, start, end in CLIENT_matcher(doc)]\n",
        "    ADDRESS_spans = [doc[start:end] for match_id, start, end in ADDRESS_matcher(doc)]\n",
        "    SOCIAL_SECURITY_NO_spans = [doc[start:end] for match_id, start, end in SOCIAL_SECURITY_NO_matcher(doc)]\n",
        "    RELATIONSHIP_NO_spans = [doc[start:end] for match_id, start, end in RELATIONSHIP_NO_matcher(doc)]\n",
        "    ACC_NO_spans = [doc[start:end] for match_id, start, end in ACC_NO_matcher(doc)]\n",
        "    ACC_TYPE_spans = [doc[start:end] for match_id, start, end in ACC_TYPE_matcher(doc)]\n",
        "    PHONE_spans = [doc[start:end] for match_id, start, end in PHONE_matcher(doc)]\n",
        "    CITY_spans = [doc[start:end] for match_id, start, end in CITY_matcher(doc)]\n",
        "    EMAIL_spans = [doc[start:end] for match_id, start, end in EMAIL_matcher(doc)]\n",
        "    \n",
        "    # Get (start character, end character, label) tuples of matches\n",
        "    entities = [(span.start_char, span.end_char, \"TITLE\") for span in TITLE_spans]\n",
        "    entities.extend([(span.start_char, span.end_char, \"DESCRIPTION\") for span in DESCRIPTION_spans])\n",
        "    entities.extend([(span.start_char, span.end_char, \"CLIENT\") for span in CLIENT_spans])\n",
        "    entities.extend([(span.start_char, span.end_char, \"ADDRESS\") for span in ADDRESS_spans])\n",
        "    entities.extend([(span.start_char, span.end_char, \"SOCIAL_SECURITY_NO\") for span in SOCIAL_SECURITY_NO_spans])\n",
        "    entities.extend([(span.start_char, span.end_char, \"RELATIONSHIP_NO\") for span in RELATIONSHIP_NO_spans])\n",
        "    entities.extend([(span.start_char, span.end_char, \"ACC_NO\") for span in ACC_NO_spans])\n",
        "    entities.extend([(span.start_char, span.end_char, \"ACC_TYPE\") for span in ACC_TYPE_spans])\n",
        "    entities.extend([(span.start_char, span.end_char, \"PHONE\") for span in PHONE_spans])\n",
        "    entities.extend([(span.start_char, span.end_char, \"CITY\") for span in CITY_spans])\n",
        "    entities.extend([(span.start_char, span.end_char, \"EMAIL\") for span in EMAIL_spans])\n",
        "\n",
        "    # Format the matches as a (doc.text, entities) tuple\n",
        "    training_example = (doc.text, {\"entities\": entities})\n",
        "    # Append the example to the training data\n",
        "    TRAINING_DATA.append(training_example)"
      ],
      "execution_count": 0,
      "outputs": [
        {
          "output_type": "stream",
          "text": [
            "\n",
            "0it [00:00, ?it/s]\u001b[A\n",
            "54it [00:00, 229.73it/s]\n"
          ],
          "name": "stderr"
        }
      ]
    },
    {
      "cell_type": "code",
      "metadata": {
        "id": "HUo1GnIrisup",
        "colab_type": "code",
        "colab": {}
      },
      "source": [
        "# Remove repetated of same type entity\n",
        "for i,_ in enumerate(TRAINING_DATA):\n",
        "    TRAINING_DATA[i][1]['entities'] = ([next(b) for a, b in itertools.groupby( \n",
        "                         TRAINING_DATA[i][1]['entities'], lambda y: y[2])]) "
      ],
      "execution_count": 0,
      "outputs": []
    },
    {
      "cell_type": "code",
      "metadata": {
        "id": "Ua_08nQ6ivfS",
        "colab_type": "code",
        "outputId": "b02e86bf-b781-423b-bc9c-f2e390725ae8",
        "colab": {
          "base_uri": "https://localhost:8080/",
          "height": 171
        }
      },
      "source": [
        "TRAINING_DATA[0]"
      ],
      "execution_count": 0,
      "outputs": [
        {
          "output_type": "execute_result",
          "data": {
            "text/plain": [
              "('D Ameritrade Institutional Reset Form ACCOUNT TRANSFER FORM TO TRANSFER YOUR EXISTING ACCOUNT TO TD AMERITRADE Account # 875698742 Advisor Code 965478654 Case # 1 PLEASE ATTACH A COPY OF YOUR LATEST STATEMENT. TD AMERITRADE ACCOUNT INFORMATION Account Title/Registration: Floyd K Brown Social Security Number Tax ID: Clearing Number 404711495 0188 Personal Trust Limited Liability Company Roth IRA Individual (Non-Qualified) Joint UTMA/UGMA Qualified Retirement Plan Employer Plan Type: Simple IRA Estate SEP IRA Partnership/Investment Club Traditional IRA/Rollover IRA Corporate Coverdell ESA Beneficiary IRA Other: 2 INFORMATION ON THE ACCOUNT YOU ARE TRANSFERRING FROM Account Title Registration as shown on your statement: Account Number Floyd K Brown 870214590 Name of Delivering Firm: COST Physical Address of Firm (no PO BOX: Telephone Number (required): 4989 Brighton Circle Road (541) 754-3010 Individual Personal Trust Limited Liability Company Roth IRA Qualified Retirement Plan (Non-Qualified) Employer Plan Type Joint Estate Partnership/Investment Club SEP IRA Simple IRA Has SIMPLE IRA been funded for at least two years? Yes No UTMA/UGMA Corporate Traditional IRA/Rollover RA Coverdell ESA Beneficiary IRA Other: LIST THE ASSETS YOU WANT TO TRANSFER A. Transfer from an ACAT eligible Brokerage Firm, Bank, Insurance/Annuity Co., Trust Co., or Transfer Agent - Check box for full or partial transfer. For partial transfers, list descriptions of assets and shares. Unless otherwise indicated, TD Ameritrade will transfer in full. Please note - The ACAT system does not allow for liquidation requests. To place trades, please contact your current custodian prior to submitting the transfer request. Most banks, insurance/annuity, and trust companies require original wet-ink signature mailed to TD Ameritrade. If transferring in Alternative Investments, please obtain a copy of the Transfer In Only Alternative Investment Client Custody Agreement from your Advisor, the terms of which will apply to our custody of your Alternative Investments. No signature is required. Full Transfer - To transfer entire account, check box and Partial Transfer - List specific security. If bonds are being transferred, skip to Section 4 (if applicable), then to the Signature Section. please supply the Bond CUSIP. Description of Asset (Partial transfers only) Quantity (Indicate # of shares or \"ALL\") Description of Asset (Partial transfers only) Quantity indicate # of shares or \"ALL\") COST 300 JNJ 400 CSCO 1500 NVDA 300 For additional securities, see attached list. O Page 1 of 5 TDAI 9682 REV. 02/17 . Annuity/Life Insurance Policy: I have an annuity or life insurance policy I wish to liquidate and have the proceeds sent to TD Ameritrade. Please choose one option: Please redeem and terminate entire contract or policy on my behalf. I understand that penalties may apply. Please redeem and terminate entire contract or policy on my behalf. The entire contract or policy is penalty-free Please redeem only the penalty-free amount of $ Please withdraw a partial amount of $ The entire contract or policy is penalty-free. Certificates of Deposit (CDs): Redeem my CD immediately. I understand that penalties may apply for any withdrawals prior to maturity. Redeem my CD at maturity. Maturity date:_ Submit request at least 21 days prior to maturity. Please advise your bank not to roll over the CD to a new term. Dividend Reinvestment Plan: I am transferring positions in Book Entry form and liquidating accumulated fractional shares B. Transfer from a Mutual Fund company - Unless otherwise indicated, TD Ameritrade will transfer all shares in kind and reinvest your dividends and capital gains. I acknowledge that ineligible proprietary mutual funds and all no-load money market funds cannot be transferred in kind and must be liquidated by the mutual fund company. Fund Name or Symbol Fund Account Number (Indicate # of shares or \"AN) Quantity Credit Gains and Dividends as (Check one if transferring shares) COST 300 Reinvested shares Cash CSCO 1500 Reinvested shares Cash Handling (Check one) Transfer my shares Sell my shares, transfer cash Transfer my shares Sell my shares, transfer cash Transfer my shares Sell my shares, transfer cash Transfer my shares Sell my shares, transfer cash Transfer my shares Sell my shares transfer cash JNJ 400 Reinvested shares Cash NVDA 300 Reinvested shares Cash Reinvested shares Cash For additional mutual funds, see attached list. O To transfer Money Markets, please indicate the Money Market name or symbol if available: Liquidate Money Market: All Only: $ 800,000 Page 2 of 5 TDAI 9682 REV. 02/17 ',\n",
              " {'entities': [(38, 59, 'TITLE'),\n",
              "   (272, 285, 'CLIENT'),\n",
              "   (862, 887, 'ADDRESS'),\n",
              "   (333, 342, 'SOCIAL_SECURITY_NO'),\n",
              "   (756, 765, 'ACC_NO'),\n",
              "   (394, 397, 'ACC_TYPE'),\n",
              "   (888, 902, 'PHONE')]})"
            ]
          },
          "metadata": {
            "tags": []
          },
          "execution_count": 94
        }
      ]
    },
    {
      "cell_type": "code",
      "metadata": {
        "id": "hQgBb3KdixuB",
        "colab_type": "code",
        "outputId": "e4213f50-8553-438b-e8bc-248ecb0e919e",
        "colab": {
          "base_uri": "https://localhost:8080/",
          "height": 50
        }
      },
      "source": [
        "TESTING_DATA = []\n",
        "\n",
        "# Create a Doc object for each text in TEXTS\n",
        "for doc in tqdm(nlp.pipe(TEST_TEXTS)):\n",
        "    # Match on the doc and create a list of matched spans\n",
        "    TITLE_spans = [doc[start:end] for match_id, start, end in TITLE_matcher(doc)]\n",
        "    DESCRIPTION_spans = [doc[start:end] for match_id, start, end in DESCRIPTION_matcher(doc)]\n",
        "    CLIENT_spans = [doc[start:end] for match_id, start, end in CLIENT_matcher(doc)]\n",
        "    ADDRESS_spans = [doc[start:end] for match_id, start, end in ADDRESS_matcher(doc)]\n",
        "    SOCIAL_SECURITY_NO_spans = [doc[start:end] for match_id, start, end in SOCIAL_SECURITY_NO_matcher(doc)]\n",
        "    RELATIONSHIP_NO_spans = [doc[start:end] for match_id, start, end in RELATIONSHIP_NO_matcher(doc)]\n",
        "    ACC_NO_spans = [doc[start:end] for match_id, start, end in ACC_NO_matcher(doc)]\n",
        "    ACC_TYPE_spans = [doc[start:end] for match_id, start, end in ACC_TYPE_matcher(doc)]\n",
        "    PHONE_spans = [doc[start:end] for match_id, start, end in PHONE_matcher(doc)]\n",
        "    CITY_spans = [doc[start:end] for match_id, start, end in CITY_matcher(doc)]\n",
        "    EMAIL_spans = [doc[start:end] for match_id, start, end in EMAIL_matcher(doc)]\n",
        "    \n",
        "    # Get (start character, end character, label) tuples of matches\n",
        "    entities = [(span.start_char, span.end_char, \"TITLE\") for span in TITLE_spans]\n",
        "    entities.extend([(span.start_char, span.end_char, \"DESCRIPTION\") for span in DESCRIPTION_spans])\n",
        "    entities.extend([(span.start_char, span.end_char, \"CLIENT\") for span in CLIENT_spans])\n",
        "    entities.extend([(span.start_char, span.end_char, \"ADDRESS\") for span in ADDRESS_spans])\n",
        "    entities.extend([(span.start_char, span.end_char, \"SOCIAL_SECURITY_NO\") for span in SOCIAL_SECURITY_NO_spans])\n",
        "    entities.extend([(span.start_char, span.end_char, \"RELATIONSHIP_NO\") for span in RELATIONSHIP_NO_spans])\n",
        "    entities.extend([(span.start_char, span.end_char, \"ACC_NO\") for span in ACC_NO_spans])\n",
        "    entities.extend([(span.start_char, span.end_char, \"ACC_TYPE\") for span in ACC_TYPE_spans])\n",
        "    entities.extend([(span.start_char, span.end_char, \"PHONE\") for span in PHONE_spans])\n",
        "    entities.extend([(span.start_char, span.end_char, \"CITY\") for span in CITY_spans])\n",
        "    entities.extend([(span.start_char, span.end_char, \"EMAIL\") for span in EMAIL_spans])\n",
        "\n",
        "    # Format the matches as a (doc.text, entities) tuple\n",
        "    testing_example = (doc.text, {\"entities\": entities})\n",
        "    # Append the example to the testing data\n",
        "    TESTING_DATA.append(testing_example)"
      ],
      "execution_count": 0,
      "outputs": [
        {
          "output_type": "stream",
          "text": [
            "\n",
            "6it [00:00, 372.47it/s]\n"
          ],
          "name": "stderr"
        }
      ]
    },
    {
      "cell_type": "code",
      "metadata": {
        "id": "QUJYhr6bi0q5",
        "colab_type": "code",
        "colab": {}
      },
      "source": [
        "# Remove repetated of same type entity\n",
        "for i,_ in enumerate(TESTING_DATA):\n",
        "    TESTING_DATA[i][1]['entities'] = ([next(b) for a, b in itertools.groupby( \n",
        "                         TESTING_DATA[i][1]['entities'], lambda y: y[2])]) "
      ],
      "execution_count": 0,
      "outputs": []
    },
    {
      "cell_type": "code",
      "metadata": {
        "id": "epx7qIh3i3uT",
        "colab_type": "code",
        "colab": {}
      },
      "source": [
        "LABEL = ['TITLE',\n",
        " 'DESCRIPTION',\n",
        " 'CLIENT',\n",
        " 'ADDRESS',\n",
        " 'SOCIAL_SECURITY_NO',\n",
        " 'RELATIONSHIP_NO',\n",
        " 'ACC_NO',\n",
        " 'ACC_TYPE',\n",
        " 'PHONE',\n",
        " 'CITY',\n",
        " 'EMAIL']"
      ],
      "execution_count": 0,
      "outputs": []
    },
    {
      "cell_type": "code",
      "metadata": {
        "id": "BQlCS6F7i562",
        "colab_type": "code",
        "outputId": "35a965f4-9042-4a4a-aef6-9aa668f9d731",
        "colab": {
          "base_uri": "https://localhost:8080/",
          "height": 34
        }
      },
      "source": [
        "os.getcwd()"
      ],
      "execution_count": 0,
      "outputs": [
        {
          "output_type": "execute_result",
          "data": {
            "text/plain": [
              "'/content'"
            ]
          },
          "metadata": {
            "tags": []
          },
          "execution_count": 98
        }
      ]
    },
    {
      "cell_type": "code",
      "metadata": {
        "id": "gnrqTF79i8M2",
        "colab_type": "code",
        "outputId": "fe52f372-e726-4340-b5a3-f6f86f19c66f",
        "colab": {
          "base_uri": "https://localhost:8080/",
          "height": 1000
        }
      },
      "source": [
        "# sets the model, output directory and training iterations \n",
        "model = None\n",
        "output_dir=os.getcwd()\n",
        "n_iter=100\n",
        "\n",
        "# Checks to see if there is a current model or no model. In this case I will be starting with a blank model \n",
        "\n",
        "if model is not None:\n",
        "    nlp1 = spacy.load(model)  # load existing spaCy model\n",
        "    print(\"Loaded model '%s'\" % model)\n",
        "else:\n",
        "    nlp1 = spacy.blank('en')  # create blank Language class\n",
        "    print(\"Created blank 'en' model\")\n",
        "\n",
        "\n",
        "\n",
        "# create the built-in pipeline components and add them to the pipeline\n",
        "    # nlp.create_pipe works for built-ins that are registered with spaCy\n",
        "if 'ner' not in nlp1.pipe_names:\n",
        "    ner = nlp1.create_pipe('ner')\n",
        "    nlp1.add_pipe(ner, last=True)\n",
        "# otherwise, get it so we can add labels\n",
        "else:\n",
        "    ner = nlp1.get_pipe('ner')\n",
        "\n",
        "# add labels\n",
        "for _, annotations in TRAINING_DATA:\n",
        "    for ent in annotations.get('entities'):\n",
        "        ner.add_label(ent[2])\n",
        "\n",
        "    # get names of other pipes to disable them during training\n",
        "other_pipes = [pipe for pipe in nlp1.pipe_names if pipe != 'ner']\n",
        "with nlp1.disable_pipes(*other_pipes):  # only train NER\n",
        "    optimizer = nlp1.begin_training()\n",
        "    for itn in range(n_iter):\n",
        "        random.shuffle(TRAINING_DATA)\n",
        "        losses = {}\n",
        "        for text, annotations in tqdm(TRAINING_DATA):\n",
        "            nlp1.update(\n",
        "                [text],  # batch of texts\n",
        "                [annotations],  # batch of annotations\n",
        "                drop=0.5,  # dropout - make it harder to memorise data\n",
        "                sgd=optimizer,  # callable to update weights\n",
        "                losses=losses)\n",
        "        print(losses)"
      ],
      "execution_count": 0,
      "outputs": [
        {
          "output_type": "stream",
          "text": [
            "\n",
            "  0%|          | 0/54 [00:00<?, ?it/s]\u001b[A"
          ],
          "name": "stderr"
        },
        {
          "output_type": "stream",
          "text": [
            "Created blank 'en' model\n"
          ],
          "name": "stdout"
        },
        {
          "output_type": "stream",
          "text": [
            "\n",
            "  2%|▏         | 1/54 [00:00<00:11,  4.57it/s]\u001b[A\n",
            "  4%|▎         | 2/54 [00:00<00:11,  4.63it/s]\u001b[A\n",
            "  6%|▌         | 3/54 [00:00<00:10,  4.69it/s]\u001b[A\n",
            "  7%|▋         | 4/54 [00:00<00:09,  5.25it/s]\u001b[A\n",
            "  9%|▉         | 5/54 [00:01<00:10,  4.88it/s]\u001b[A\n",
            " 11%|█         | 6/54 [00:01<00:08,  5.40it/s]\u001b[A\n",
            " 13%|█▎        | 7/54 [00:01<00:08,  5.32it/s]\u001b[A\n",
            " 15%|█▍        | 8/54 [00:01<00:09,  5.07it/s]\u001b[A\n",
            " 17%|█▋        | 9/54 [00:01<00:08,  5.06it/s]\u001b[A\n",
            " 19%|█▊        | 10/54 [00:01<00:08,  5.33it/s]\u001b[A\n",
            " 20%|██        | 11/54 [00:02<00:07,  5.51it/s]\u001b[A\n",
            " 22%|██▏       | 12/54 [00:02<00:08,  5.24it/s]\u001b[A\n",
            " 24%|██▍       | 13/54 [00:02<00:07,  5.33it/s]\u001b[A\n",
            " 26%|██▌       | 14/54 [00:02<00:08,  4.76it/s]\u001b[A\n",
            " 28%|██▊       | 15/54 [00:02<00:07,  4.96it/s]\u001b[A\n",
            " 30%|██▉       | 16/54 [00:03<00:06,  5.47it/s]\u001b[A\n",
            " 31%|███▏      | 17/54 [00:03<00:07,  5.04it/s]\u001b[A\n",
            " 33%|███▎      | 18/54 [00:03<00:06,  5.52it/s]\u001b[A\n",
            " 35%|███▌      | 19/54 [00:03<00:06,  5.34it/s]\u001b[A\n",
            " 37%|███▋      | 20/54 [00:03<00:06,  5.39it/s]\u001b[A\n",
            " 39%|███▉      | 21/54 [00:04<00:06,  4.87it/s]\u001b[A\n",
            " 41%|████      | 22/54 [00:04<00:06,  4.83it/s]\u001b[A\n",
            " 43%|████▎     | 23/54 [00:04<00:06,  4.87it/s]\u001b[A\n",
            " 44%|████▍     | 24/54 [00:04<00:05,  5.15it/s]\u001b[A\n",
            " 46%|████▋     | 25/54 [00:04<00:05,  5.12it/s]\u001b[A\n",
            " 48%|████▊     | 26/54 [00:05<00:05,  5.26it/s]\u001b[A\n",
            " 50%|█████     | 27/54 [00:05<00:05,  5.22it/s]\u001b[A\n",
            " 52%|█████▏    | 28/54 [00:05<00:05,  4.91it/s]\u001b[A\n",
            " 54%|█████▎    | 29/54 [00:05<00:05,  4.60it/s]\u001b[A\n",
            " 56%|█████▌    | 30/54 [00:05<00:05,  4.38it/s]\u001b[A\n",
            " 57%|█████▋    | 31/54 [00:06<00:04,  4.91it/s]\u001b[A\n",
            " 59%|█████▉    | 32/54 [00:06<00:04,  5.15it/s]\u001b[A\n",
            " 61%|██████    | 33/54 [00:06<00:04,  5.03it/s]\u001b[A\n",
            " 63%|██████▎   | 34/54 [00:06<00:04,  4.71it/s]\u001b[A\n",
            " 65%|██████▍   | 35/54 [00:06<00:03,  5.01it/s]\u001b[A\n",
            " 67%|██████▋   | 36/54 [00:07<00:03,  5.32it/s]\u001b[A\n",
            " 69%|██████▊   | 37/54 [00:07<00:03,  5.30it/s]\u001b[A\n",
            " 70%|███████   | 38/54 [00:07<00:02,  5.48it/s]\u001b[A\n",
            " 72%|███████▏  | 39/54 [00:07<00:02,  5.29it/s]\u001b[A\n",
            " 74%|███████▍  | 40/54 [00:07<00:02,  4.89it/s]\u001b[A\n",
            " 76%|███████▌  | 41/54 [00:08<00:02,  5.05it/s]\u001b[A\n",
            " 78%|███████▊  | 42/54 [00:08<00:02,  5.10it/s]\u001b[A\n",
            " 80%|███████▉  | 43/54 [00:08<00:02,  4.95it/s]\u001b[A\n",
            " 81%|████████▏ | 44/54 [00:08<00:01,  5.12it/s]\u001b[A\n",
            " 83%|████████▎ | 45/54 [00:08<00:01,  5.01it/s]\u001b[A\n",
            " 85%|████████▌ | 46/54 [00:09<00:01,  5.42it/s]\u001b[A\n",
            " 87%|████████▋ | 47/54 [00:09<00:01,  4.99it/s]\u001b[A\n",
            " 89%|████████▉ | 48/54 [00:09<00:01,  5.42it/s]\u001b[A\n",
            " 91%|█████████ | 49/54 [00:09<00:00,  5.69it/s]\u001b[A\n",
            " 93%|█████████▎| 50/54 [00:09<00:00,  5.17it/s]\u001b[A\n",
            " 94%|█████████▍| 51/54 [00:09<00:00,  5.57it/s]\u001b[A\n",
            " 96%|█████████▋| 52/54 [00:10<00:00,  5.70it/s]\u001b[A\n",
            " 98%|█████████▊| 53/54 [00:10<00:00,  6.01it/s]\u001b[A\n",
            "100%|██████████| 54/54 [00:10<00:00,  5.18it/s]\n",
            "\n",
            "  0%|          | 0/54 [00:00<?, ?it/s]\u001b[A\n",
            "  2%|▏         | 1/54 [00:00<00:07,  6.73it/s]\u001b[A"
          ],
          "name": "stderr"
        },
        {
          "output_type": "stream",
          "text": [
            "{'ner': 11413.980283264114}\n"
          ],
          "name": "stdout"
        },
        {
          "output_type": "stream",
          "text": [
            "\n",
            "  4%|▎         | 2/54 [00:00<00:08,  6.39it/s]\u001b[A\n",
            "  6%|▌         | 3/54 [00:00<00:07,  6.54it/s]\u001b[A\n",
            "  7%|▋         | 4/54 [00:00<00:08,  5.62it/s]\u001b[A\n",
            "  9%|▉         | 5/54 [00:00<00:08,  5.45it/s]\u001b[A\n",
            " 11%|█         | 6/54 [00:01<00:09,  5.20it/s]\u001b[A\n",
            " 13%|█▎        | 7/54 [00:01<00:09,  5.18it/s]\u001b[A\n",
            " 15%|█▍        | 8/54 [00:01<00:08,  5.21it/s]\u001b[A\n",
            " 17%|█▋        | 9/54 [00:01<00:09,  4.80it/s]\u001b[A\n",
            " 19%|█▊        | 10/54 [00:02<00:09,  4.50it/s]\u001b[A\n",
            " 20%|██        | 11/54 [00:02<00:09,  4.62it/s]\u001b[A\n",
            " 22%|██▏       | 12/54 [00:02<00:08,  4.83it/s]\u001b[A\n",
            " 24%|██▍       | 13/54 [00:02<00:08,  4.67it/s]\u001b[A\n",
            " 26%|██▌       | 14/54 [00:02<00:08,  4.80it/s]\u001b[A\n",
            " 28%|██▊       | 15/54 [00:03<00:08,  4.63it/s]\u001b[A\n",
            " 30%|██▉       | 16/54 [00:03<00:07,  4.98it/s]\u001b[A\n",
            " 31%|███▏      | 17/54 [00:03<00:07,  4.87it/s]\u001b[A\n",
            " 33%|███▎      | 18/54 [00:03<00:06,  5.32it/s]\u001b[A\n",
            " 35%|███▌      | 19/54 [00:03<00:06,  5.33it/s]\u001b[A\n",
            " 37%|███▋      | 20/54 [00:03<00:06,  5.55it/s]\u001b[A\n",
            " 39%|███▉      | 21/54 [00:04<00:05,  5.70it/s]\u001b[A\n",
            " 41%|████      | 22/54 [00:04<00:05,  5.86it/s]\u001b[A\n",
            " 43%|████▎     | 23/54 [00:04<00:05,  5.69it/s]\u001b[A\n",
            " 44%|████▍     | 24/54 [00:04<00:04,  6.02it/s]\u001b[A\n",
            " 46%|████▋     | 25/54 [00:04<00:04,  5.81it/s]\u001b[A\n",
            " 48%|████▊     | 26/54 [00:04<00:04,  5.74it/s]\u001b[A\n",
            " 50%|█████     | 27/54 [00:05<00:04,  5.45it/s]\u001b[A\n",
            " 52%|█████▏    | 28/54 [00:05<00:04,  5.85it/s]\u001b[A\n",
            " 54%|█████▎    | 29/54 [00:05<00:04,  5.48it/s]\u001b[A\n",
            " 56%|█████▌    | 30/54 [00:05<00:04,  5.08it/s]\u001b[A\n",
            " 57%|█████▋    | 31/54 [00:05<00:04,  5.31it/s]\u001b[A\n",
            " 59%|█████▉    | 32/54 [00:06<00:04,  4.91it/s]\u001b[A\n",
            " 61%|██████    | 33/54 [00:06<00:04,  4.90it/s]\u001b[A\n",
            " 63%|██████▎   | 34/54 [00:06<00:03,  5.35it/s]\u001b[A\n",
            " 65%|██████▍   | 35/54 [00:06<00:03,  4.98it/s]\u001b[A\n",
            " 67%|██████▋   | 36/54 [00:06<00:03,  4.88it/s]\u001b[A\n",
            " 69%|██████▊   | 37/54 [00:07<00:03,  4.78it/s]\u001b[A\n",
            " 70%|███████   | 38/54 [00:07<00:03,  4.70it/s]\u001b[A\n",
            " 72%|███████▏  | 39/54 [00:07<00:02,  5.06it/s]\u001b[A\n",
            " 74%|███████▍  | 40/54 [00:07<00:02,  5.43it/s]\u001b[A\n",
            " 76%|███████▌  | 41/54 [00:07<00:02,  5.06it/s]\u001b[A\n",
            " 78%|███████▊  | 42/54 [00:08<00:02,  5.38it/s]\u001b[A\n",
            " 80%|███████▉  | 43/54 [00:08<00:02,  5.22it/s]\u001b[A\n",
            " 81%|████████▏ | 44/54 [00:08<00:01,  5.50it/s]\u001b[A\n",
            " 83%|████████▎ | 45/54 [00:08<00:01,  5.25it/s]\u001b[A\n",
            " 85%|████████▌ | 46/54 [00:08<00:01,  5.57it/s]\u001b[A\n",
            " 87%|████████▋ | 47/54 [00:09<00:01,  5.49it/s]\u001b[A\n",
            " 89%|████████▉ | 48/54 [00:09<00:01,  5.35it/s]\u001b[A\n",
            " 91%|█████████ | 49/54 [00:09<00:00,  5.57it/s]\u001b[A\n",
            " 93%|█████████▎| 50/54 [00:09<00:00,  5.35it/s]\u001b[A\n",
            " 94%|█████████▍| 51/54 [00:09<00:00,  4.90it/s]\u001b[A\n",
            " 96%|█████████▋| 52/54 [00:09<00:00,  5.16it/s]\u001b[A\n",
            " 98%|█████████▊| 53/54 [00:10<00:00,  5.52it/s]\u001b[A\n",
            "100%|██████████| 54/54 [00:10<00:00,  5.26it/s]\n",
            "\n",
            "  0%|          | 0/54 [00:00<?, ?it/s]\u001b[A"
          ],
          "name": "stderr"
        },
        {
          "output_type": "stream",
          "text": [
            "{'ner': 1609.721654949138}\n"
          ],
          "name": "stdout"
        },
        {
          "output_type": "stream",
          "text": [
            "\n",
            "  2%|▏         | 1/54 [00:00<00:10,  5.00it/s]\u001b[A\n",
            "  4%|▎         | 2/54 [00:00<00:09,  5.49it/s]\u001b[A\n",
            "  6%|▌         | 3/54 [00:00<00:09,  5.17it/s]\u001b[A\n",
            "  7%|▋         | 4/54 [00:00<00:09,  5.17it/s]\u001b[A\n",
            "  9%|▉         | 5/54 [00:00<00:09,  4.96it/s]\u001b[A\n",
            " 11%|█         | 6/54 [00:01<00:09,  4.95it/s]\u001b[A\n",
            " 13%|█▎        | 7/54 [00:01<00:08,  5.52it/s]\u001b[A\n",
            " 15%|█▍        | 8/54 [00:01<00:08,  5.51it/s]\u001b[A\n",
            " 17%|█▋        | 9/54 [00:01<00:08,  5.32it/s]\u001b[A\n",
            " 19%|█▊        | 10/54 [00:01<00:09,  4.85it/s]\u001b[A\n",
            " 20%|██        | 11/54 [00:02<00:08,  5.01it/s]\u001b[A\n",
            " 22%|██▏       | 12/54 [00:02<00:07,  5.33it/s]\u001b[A\n",
            " 24%|██▍       | 13/54 [00:02<00:08,  4.84it/s]\u001b[A\n",
            " 26%|██▌       | 14/54 [00:02<00:08,  4.96it/s]\u001b[A\n",
            " 28%|██▊       | 15/54 [00:02<00:08,  4.65it/s]\u001b[A\n",
            " 30%|██▉       | 16/54 [00:03<00:07,  4.84it/s]\u001b[A\n",
            " 31%|███▏      | 17/54 [00:03<00:07,  4.81it/s]\u001b[A\n",
            " 33%|███▎      | 18/54 [00:03<00:08,  4.48it/s]\u001b[A\n",
            " 35%|███▌      | 19/54 [00:03<00:07,  4.96it/s]\u001b[A\n",
            " 37%|███▋      | 20/54 [00:04<00:07,  4.84it/s]\u001b[A\n",
            " 39%|███▉      | 21/54 [00:04<00:06,  4.90it/s]\u001b[A\n",
            " 41%|████      | 22/54 [00:04<00:06,  4.71it/s]\u001b[A\n",
            " 43%|████▎     | 23/54 [00:04<00:06,  5.03it/s]\u001b[A\n",
            " 44%|████▍     | 24/54 [00:04<00:05,  5.10it/s]\u001b[A\n",
            " 46%|████▋     | 25/54 [00:04<00:05,  5.37it/s]\u001b[A\n",
            " 48%|████▊     | 26/54 [00:05<00:05,  5.46it/s]\u001b[A\n",
            " 50%|█████     | 27/54 [00:05<00:04,  5.91it/s]\u001b[A\n",
            " 52%|█████▏    | 28/54 [00:05<00:04,  5.33it/s]\u001b[A\n",
            " 54%|█████▎    | 29/54 [00:05<00:04,  5.74it/s]\u001b[A\n",
            " 56%|█████▌    | 30/54 [00:05<00:04,  5.95it/s]\u001b[A\n",
            " 57%|█████▋    | 31/54 [00:06<00:04,  5.51it/s]\u001b[A\n",
            " 59%|█████▉    | 32/54 [00:06<00:04,  5.04it/s]\u001b[A\n",
            " 61%|██████    | 33/54 [00:06<00:03,  5.34it/s]\u001b[A\n",
            " 63%|██████▎   | 34/54 [00:06<00:03,  5.00it/s]\u001b[A\n",
            " 65%|██████▍   | 35/54 [00:06<00:03,  5.21it/s]\u001b[A\n",
            " 67%|██████▋   | 36/54 [00:07<00:03,  4.72it/s]\u001b[A\n",
            " 69%|██████▊   | 37/54 [00:07<00:03,  4.95it/s]\u001b[A\n",
            " 70%|███████   | 38/54 [00:07<00:03,  5.19it/s]\u001b[A\n",
            " 72%|███████▏  | 39/54 [00:07<00:03,  4.82it/s]\u001b[A\n",
            " 74%|███████▍  | 40/54 [00:07<00:02,  5.27it/s]\u001b[A\n",
            " 76%|███████▌  | 41/54 [00:08<00:02,  4.81it/s]\u001b[A\n",
            " 78%|███████▊  | 42/54 [00:08<00:02,  5.10it/s]\u001b[A\n",
            " 80%|███████▉  | 43/54 [00:08<00:02,  5.31it/s]\u001b[A\n",
            " 81%|████████▏ | 44/54 [00:08<00:02,  4.90it/s]\u001b[A\n",
            " 83%|████████▎ | 45/54 [00:08<00:01,  4.66it/s]\u001b[A\n",
            " 85%|████████▌ | 46/54 [00:09<00:01,  4.86it/s]\u001b[A\n",
            " 87%|████████▋ | 47/54 [00:09<00:01,  4.70it/s]\u001b[A\n",
            " 89%|████████▉ | 48/54 [00:09<00:01,  5.23it/s]\u001b[A\n",
            " 91%|█████████ | 49/54 [00:09<00:00,  5.53it/s]\u001b[A\n",
            " 93%|█████████▎| 50/54 [00:09<00:00,  5.74it/s]\u001b[A\n",
            " 94%|█████████▍| 51/54 [00:09<00:00,  5.74it/s]\u001b[A\n",
            " 96%|█████████▋| 52/54 [00:10<00:00,  5.90it/s]\u001b[A\n",
            " 98%|█████████▊| 53/54 [00:10<00:00,  5.58it/s]\u001b[A\n",
            "100%|██████████| 54/54 [00:10<00:00,  5.17it/s]\n",
            "\n",
            "  0%|          | 0/54 [00:00<?, ?it/s]\u001b[A"
          ],
          "name": "stderr"
        },
        {
          "output_type": "stream",
          "text": [
            "{'ner': 2442.999399832277}\n"
          ],
          "name": "stdout"
        },
        {
          "output_type": "stream",
          "text": [
            "\n",
            "  2%|▏         | 1/54 [00:00<00:11,  4.61it/s]\u001b[A\n",
            "  4%|▎         | 2/54 [00:00<00:10,  4.79it/s]\u001b[A\n",
            "  6%|▌         | 3/54 [00:00<00:10,  4.96it/s]\u001b[A\n",
            "  7%|▋         | 4/54 [00:00<00:10,  4.91it/s]\u001b[A\n",
            "  9%|▉         | 5/54 [00:01<00:10,  4.74it/s]\u001b[A\n",
            " 11%|█         | 6/54 [00:01<00:10,  4.68it/s]\u001b[A\n",
            " 13%|█▎        | 7/54 [00:01<00:09,  5.02it/s]\u001b[A\n",
            " 15%|█▍        | 8/54 [00:01<00:08,  5.44it/s]\u001b[A\n",
            " 17%|█▋        | 9/54 [00:01<00:08,  5.38it/s]\u001b[A\n",
            " 19%|█▊        | 10/54 [00:01<00:08,  5.30it/s]\u001b[A\n",
            " 20%|██        | 11/54 [00:02<00:07,  5.72it/s]\u001b[A\n",
            " 22%|██▏       | 12/54 [00:02<00:07,  5.68it/s]\u001b[A\n",
            " 24%|██▍       | 13/54 [00:02<00:07,  5.35it/s]\u001b[A\n",
            " 26%|██▌       | 14/54 [00:02<00:07,  5.43it/s]\u001b[A\n",
            " 28%|██▊       | 15/54 [00:02<00:06,  5.87it/s]\u001b[A\n",
            " 30%|██▉       | 16/54 [00:03<00:06,  5.51it/s]\u001b[A\n",
            " 31%|███▏      | 17/54 [00:03<00:06,  5.77it/s]\u001b[A\n",
            " 33%|███▎      | 18/54 [00:03<00:06,  5.29it/s]\u001b[A\n",
            " 35%|███▌      | 19/54 [00:03<00:06,  5.28it/s]\u001b[A\n",
            " 37%|███▋      | 20/54 [00:03<00:06,  5.21it/s]\u001b[A\n",
            " 39%|███▉      | 21/54 [00:03<00:06,  4.96it/s]\u001b[A\n",
            " 41%|████      | 22/54 [00:04<00:06,  4.94it/s]\u001b[A\n",
            " 43%|████▎     | 23/54 [00:04<00:06,  5.02it/s]\u001b[A\n",
            " 44%|████▍     | 24/54 [00:04<00:06,  4.92it/s]\u001b[A\n",
            " 46%|████▋     | 25/54 [00:04<00:05,  5.32it/s]\u001b[A\n",
            " 48%|████▊     | 26/54 [00:04<00:05,  5.38it/s]\u001b[A\n",
            " 50%|█████     | 27/54 [00:05<00:05,  5.27it/s]\u001b[A\n",
            " 52%|█████▏    | 28/54 [00:05<00:04,  5.33it/s]\u001b[A\n",
            " 54%|█████▎    | 29/54 [00:05<00:04,  5.37it/s]\u001b[A\n",
            " 56%|█████▌    | 30/54 [00:05<00:04,  5.46it/s]\u001b[A\n",
            " 57%|█████▋    | 31/54 [00:05<00:04,  5.54it/s]\u001b[A\n",
            " 59%|█████▉    | 32/54 [00:06<00:03,  5.75it/s]\u001b[A\n",
            " 61%|██████    | 33/54 [00:06<00:03,  5.39it/s]\u001b[A\n",
            " 63%|██████▎   | 34/54 [00:06<00:03,  5.46it/s]\u001b[A\n",
            " 65%|██████▍   | 35/54 [00:06<00:03,  5.63it/s]\u001b[A\n",
            " 67%|██████▋   | 36/54 [00:06<00:03,  5.40it/s]\u001b[A\n",
            " 69%|██████▊   | 37/54 [00:07<00:03,  4.98it/s]\u001b[A\n",
            " 70%|███████   | 38/54 [00:07<00:03,  5.03it/s]\u001b[A\n",
            " 72%|███████▏  | 39/54 [00:07<00:02,  5.44it/s]\u001b[A\n",
            " 74%|███████▍  | 40/54 [00:07<00:02,  5.56it/s]\u001b[A\n",
            " 76%|███████▌  | 41/54 [00:07<00:02,  5.88it/s]\u001b[A\n",
            " 78%|███████▊  | 42/54 [00:07<00:01,  6.13it/s]\u001b[A\n",
            " 80%|███████▉  | 43/54 [00:08<00:01,  5.66it/s]\u001b[A\n",
            " 81%|████████▏ | 44/54 [00:08<00:01,  5.24it/s]\u001b[A\n",
            " 83%|████████▎ | 45/54 [00:08<00:01,  5.72it/s]\u001b[A\n",
            " 85%|████████▌ | 46/54 [00:08<00:01,  5.47it/s]\u001b[A\n",
            " 87%|████████▋ | 47/54 [00:08<00:01,  4.94it/s]\u001b[A\n",
            " 89%|████████▉ | 48/54 [00:09<00:01,  4.83it/s]\u001b[A\n",
            " 91%|█████████ | 49/54 [00:09<00:01,  4.76it/s]\u001b[A\n",
            " 93%|█████████▎| 50/54 [00:09<00:00,  4.58it/s]\u001b[A\n",
            " 94%|█████████▍| 51/54 [00:09<00:00,  4.76it/s]\u001b[A\n",
            " 96%|█████████▋| 52/54 [00:09<00:00,  4.93it/s]\u001b[A\n",
            " 98%|█████████▊| 53/54 [00:10<00:00,  4.67it/s]\u001b[A\n",
            "100%|██████████| 54/54 [00:10<00:00,  5.22it/s]\n",
            "\n",
            "  0%|          | 0/54 [00:00<?, ?it/s]\u001b[A"
          ],
          "name": "stderr"
        },
        {
          "output_type": "stream",
          "text": [
            "{'ner': 2680.037882331184}\n"
          ],
          "name": "stdout"
        },
        {
          "output_type": "stream",
          "text": [
            "\n",
            "  2%|▏         | 1/54 [00:00<00:12,  4.31it/s]\u001b[A\n",
            "  4%|▎         | 2/54 [00:00<00:12,  4.23it/s]\u001b[A\n",
            "  6%|▌         | 3/54 [00:00<00:11,  4.26it/s]\u001b[A\n",
            "  7%|▋         | 4/54 [00:00<00:10,  4.68it/s]\u001b[A\n",
            "  9%|▉         | 5/54 [00:01<00:09,  5.10it/s]\u001b[A\n",
            " 11%|█         | 6/54 [00:01<00:09,  5.31it/s]\u001b[A\n",
            " 13%|█▎        | 7/54 [00:01<00:09,  4.77it/s]\u001b[A\n",
            " 15%|█▍        | 8/54 [00:01<00:09,  4.87it/s]\u001b[A\n",
            " 17%|█▋        | 9/54 [00:01<00:08,  5.02it/s]\u001b[A\n",
            " 19%|█▊        | 10/54 [00:02<00:08,  5.12it/s]\u001b[A\n",
            " 20%|██        | 11/54 [00:02<00:08,  5.35it/s]\u001b[A\n",
            " 22%|██▏       | 12/54 [00:02<00:08,  5.03it/s]\u001b[A\n",
            " 24%|██▍       | 13/54 [00:02<00:08,  4.94it/s]\u001b[A\n",
            " 26%|██▌       | 14/54 [00:02<00:08,  4.89it/s]\u001b[A\n",
            " 28%|██▊       | 15/54 [00:03<00:08,  4.79it/s]\u001b[A\n",
            " 30%|██▉       | 16/54 [00:03<00:08,  4.47it/s]\u001b[A\n",
            " 31%|███▏      | 17/54 [00:03<00:07,  4.65it/s]\u001b[A\n",
            " 33%|███▎      | 18/54 [00:03<00:07,  4.66it/s]\u001b[A\n",
            " 35%|███▌      | 19/54 [00:03<00:07,  4.89it/s]\u001b[A\n",
            " 37%|███▋      | 20/54 [00:04<00:07,  4.84it/s]\u001b[A\n",
            " 39%|███▉      | 21/54 [00:04<00:06,  5.31it/s]\u001b[A\n",
            " 41%|████      | 22/54 [00:04<00:06,  4.75it/s]\u001b[A\n",
            " 43%|████▎     | 23/54 [00:04<00:05,  5.25it/s]\u001b[A\n",
            " 44%|████▍     | 24/54 [00:04<00:05,  5.63it/s]\u001b[A\n",
            " 46%|████▋     | 25/54 [00:05<00:05,  5.28it/s]\u001b[A\n",
            " 48%|████▊     | 26/54 [00:05<00:04,  5.64it/s]\u001b[A\n",
            " 50%|█████     | 27/54 [00:05<00:04,  5.55it/s]\u001b[A\n",
            " 52%|█████▏    | 28/54 [00:05<00:04,  5.89it/s]\u001b[A\n",
            " 54%|█████▎    | 29/54 [00:05<00:04,  5.51it/s]\u001b[A\n",
            " 56%|█████▌    | 30/54 [00:05<00:04,  5.13it/s]\u001b[A\n",
            " 57%|█████▋    | 31/54 [00:06<00:04,  4.90it/s]\u001b[A\n",
            " 59%|█████▉    | 32/54 [00:06<00:04,  5.21it/s]\u001b[A\n",
            " 61%|██████    | 33/54 [00:06<00:04,  5.10it/s]\u001b[A\n",
            " 63%|██████▎   | 34/54 [00:06<00:04,  4.68it/s]\u001b[A\n",
            " 65%|██████▍   | 35/54 [00:07<00:03,  4.76it/s]\u001b[A\n",
            " 67%|██████▋   | 36/54 [00:07<00:03,  5.12it/s]\u001b[A\n",
            " 69%|██████▊   | 37/54 [00:07<00:03,  5.36it/s]\u001b[A\n",
            " 70%|███████   | 38/54 [00:07<00:02,  5.35it/s]\u001b[A\n",
            " 72%|███████▏  | 39/54 [00:07<00:02,  5.28it/s]\u001b[A\n",
            " 74%|███████▍  | 40/54 [00:07<00:02,  5.69it/s]\u001b[A\n",
            " 76%|███████▌  | 41/54 [00:08<00:02,  5.51it/s]\u001b[A\n",
            " 78%|███████▊  | 42/54 [00:08<00:02,  5.25it/s]\u001b[A\n",
            " 80%|███████▉  | 43/54 [00:08<00:02,  5.26it/s]\u001b[A\n",
            " 81%|████████▏ | 44/54 [00:08<00:01,  5.19it/s]\u001b[A\n",
            " 83%|████████▎ | 45/54 [00:08<00:01,  5.25it/s]\u001b[A\n",
            " 85%|████████▌ | 46/54 [00:09<00:01,  5.00it/s]\u001b[A\n",
            " 87%|████████▋ | 47/54 [00:09<00:01,  5.13it/s]\u001b[A\n",
            " 89%|████████▉ | 48/54 [00:09<00:01,  5.67it/s]\u001b[A\n",
            " 91%|█████████ | 49/54 [00:09<00:00,  5.74it/s]\u001b[A\n",
            " 93%|█████████▎| 50/54 [00:09<00:00,  5.62it/s]\u001b[A\n",
            " 94%|█████████▍| 51/54 [00:09<00:00,  5.37it/s]\u001b[A\n",
            " 96%|█████████▋| 52/54 [00:10<00:00,  5.63it/s]\u001b[A\n",
            " 98%|█████████▊| 53/54 [00:10<00:00,  5.35it/s]\u001b[A\n",
            "100%|██████████| 54/54 [00:10<00:00,  5.13it/s]\n",
            "\n",
            "  0%|          | 0/54 [00:00<?, ?it/s]\u001b[A"
          ],
          "name": "stderr"
        },
        {
          "output_type": "stream",
          "text": [
            "{'ner': 4071.1191217593155}\n"
          ],
          "name": "stdout"
        },
        {
          "output_type": "stream",
          "text": [
            "\n",
            "  2%|▏         | 1/54 [00:00<00:11,  4.61it/s]\u001b[A\n",
            "  4%|▎         | 2/54 [00:00<00:10,  5.15it/s]\u001b[A\n",
            "  6%|▌         | 3/54 [00:00<00:09,  5.29it/s]\u001b[A\n",
            "  7%|▋         | 4/54 [00:00<00:10,  4.79it/s]\u001b[A\n",
            "  9%|▉         | 5/54 [00:00<00:10,  4.80it/s]\u001b[A\n",
            " 11%|█         | 6/54 [00:01<00:10,  4.67it/s]\u001b[A\n",
            " 13%|█▎        | 7/54 [00:01<00:09,  5.03it/s]\u001b[A\n",
            " 15%|█▍        | 8/54 [00:01<00:08,  5.21it/s]\u001b[A\n",
            " 17%|█▋        | 9/54 [00:01<00:08,  5.44it/s]\u001b[A\n",
            " 19%|█▊        | 10/54 [00:01<00:08,  5.37it/s]\u001b[A\n",
            " 20%|██        | 11/54 [00:02<00:08,  5.34it/s]\u001b[A\n",
            " 22%|██▏       | 12/54 [00:02<00:07,  5.51it/s]\u001b[A\n",
            " 24%|██▍       | 13/54 [00:02<00:06,  5.91it/s]\u001b[A\n",
            " 26%|██▌       | 14/54 [00:02<00:06,  6.25it/s]\u001b[A\n",
            " 28%|██▊       | 15/54 [00:02<00:06,  6.42it/s]\u001b[A\n",
            " 30%|██▉       | 16/54 [00:02<00:06,  5.55it/s]\u001b[A\n",
            " 31%|███▏      | 17/54 [00:03<00:06,  5.32it/s]\u001b[A\n",
            " 33%|███▎      | 18/54 [00:03<00:06,  5.41it/s]\u001b[A\n",
            " 35%|███▌      | 19/54 [00:03<00:06,  5.20it/s]\u001b[A\n",
            " 37%|███▋      | 20/54 [00:03<00:06,  4.97it/s]\u001b[A\n",
            " 39%|███▉      | 21/54 [00:03<00:06,  5.18it/s]\u001b[A\n",
            " 41%|████      | 22/54 [00:04<00:06,  4.81it/s]\u001b[A\n",
            " 43%|████▎     | 23/54 [00:04<00:06,  4.98it/s]\u001b[A\n",
            " 44%|████▍     | 24/54 [00:04<00:06,  4.88it/s]\u001b[A\n",
            " 46%|████▋     | 25/54 [00:04<00:05,  5.26it/s]\u001b[A\n",
            " 48%|████▊     | 26/54 [00:04<00:05,  5.05it/s]\u001b[A\n",
            " 50%|█████     | 27/54 [00:05<00:05,  4.93it/s]\u001b[A\n",
            " 52%|█████▏    | 28/54 [00:05<00:05,  4.97it/s]\u001b[A\n",
            " 54%|█████▎    | 29/54 [00:05<00:05,  4.65it/s]\u001b[A\n",
            " 56%|█████▌    | 30/54 [00:05<00:04,  4.97it/s]\u001b[A\n",
            " 57%|█████▋    | 31/54 [00:05<00:04,  5.34it/s]\u001b[A\n",
            " 59%|█████▉    | 32/54 [00:06<00:04,  5.48it/s]\u001b[A\n",
            " 61%|██████    | 33/54 [00:06<00:03,  5.44it/s]\u001b[A\n",
            " 63%|██████▎   | 34/54 [00:06<00:03,  5.06it/s]\u001b[A\n",
            " 65%|██████▍   | 35/54 [00:06<00:03,  5.26it/s]\u001b[A\n",
            " 67%|██████▋   | 36/54 [00:06<00:03,  5.19it/s]\u001b[A\n",
            " 69%|██████▊   | 37/54 [00:07<00:03,  4.87it/s]\u001b[A\n",
            " 70%|███████   | 38/54 [00:07<00:03,  4.84it/s]\u001b[A\n",
            " 72%|███████▏  | 39/54 [00:07<00:02,  5.00it/s]\u001b[A\n",
            " 74%|███████▍  | 40/54 [00:07<00:02,  4.94it/s]\u001b[A\n",
            " 76%|███████▌  | 41/54 [00:07<00:02,  5.31it/s]\u001b[A\n",
            " 78%|███████▊  | 42/54 [00:08<00:02,  5.08it/s]\u001b[A\n",
            " 80%|███████▉  | 43/54 [00:08<00:02,  5.36it/s]\u001b[A\n",
            " 81%|████████▏ | 44/54 [00:08<00:02,  4.92it/s]\u001b[A\n",
            " 83%|████████▎ | 45/54 [00:08<00:01,  5.20it/s]\u001b[A\n",
            " 85%|████████▌ | 46/54 [00:08<00:01,  4.86it/s]\u001b[A\n",
            " 87%|████████▋ | 47/54 [00:09<00:01,  4.80it/s]\u001b[A\n",
            " 89%|████████▉ | 48/54 [00:09<00:01,  4.91it/s]\u001b[A\n",
            " 91%|█████████ | 49/54 [00:09<00:00,  5.42it/s]\u001b[A\n",
            " 93%|█████████▎| 50/54 [00:09<00:00,  5.53it/s]\u001b[A\n",
            " 94%|█████████▍| 51/54 [00:09<00:00,  5.53it/s]\u001b[A\n",
            " 96%|█████████▋| 52/54 [00:10<00:00,  5.19it/s]\u001b[A\n",
            " 98%|█████████▊| 53/54 [00:10<00:00,  5.18it/s]\u001b[A\n",
            "100%|██████████| 54/54 [00:10<00:00,  5.21it/s]\n",
            "\n",
            "  0%|          | 0/54 [00:00<?, ?it/s]\u001b[A\n",
            "  2%|▏         | 1/54 [00:00<00:08,  6.16it/s]\u001b[A"
          ],
          "name": "stderr"
        },
        {
          "output_type": "stream",
          "text": [
            "{'ner': 3532.0623885281702}\n"
          ],
          "name": "stdout"
        },
        {
          "output_type": "stream",
          "text": [
            "\n",
            "  4%|▎         | 2/54 [00:00<00:08,  5.81it/s]\u001b[A\n",
            "  6%|▌         | 3/54 [00:00<00:09,  5.50it/s]\u001b[A\n",
            "  7%|▋         | 4/54 [00:00<00:09,  5.27it/s]\u001b[A\n",
            "  9%|▉         | 5/54 [00:00<00:09,  4.97it/s]\u001b[A\n",
            " 11%|█         | 6/54 [00:01<00:08,  5.34it/s]\u001b[A\n",
            " 13%|█▎        | 7/54 [00:01<00:09,  4.88it/s]\u001b[A\n",
            " 15%|█▍        | 8/54 [00:01<00:09,  4.91it/s]\u001b[A\n",
            " 17%|█▋        | 9/54 [00:01<00:09,  4.98it/s]\u001b[A\n",
            " 19%|█▊        | 10/54 [00:02<00:09,  4.68it/s]\u001b[A\n",
            " 20%|██        | 11/54 [00:02<00:09,  4.61it/s]\u001b[A\n",
            " 22%|██▏       | 12/54 [00:02<00:09,  4.42it/s]\u001b[A\n",
            " 24%|██▍       | 13/54 [00:02<00:09,  4.34it/s]\u001b[A\n",
            " 26%|██▌       | 14/54 [00:02<00:08,  4.82it/s]\u001b[A\n",
            " 28%|██▊       | 15/54 [00:03<00:07,  5.05it/s]\u001b[A\n",
            " 30%|██▉       | 16/54 [00:03<00:06,  5.50it/s]\u001b[A\n",
            " 31%|███▏      | 17/54 [00:03<00:07,  4.88it/s]\u001b[A\n",
            " 33%|███▎      | 18/54 [00:03<00:06,  5.25it/s]\u001b[A\n",
            " 35%|███▌      | 19/54 [00:03<00:06,  5.16it/s]\u001b[A\n",
            " 37%|███▋      | 20/54 [00:04<00:06,  5.39it/s]\u001b[A\n",
            " 39%|███▉      | 21/54 [00:04<00:06,  5.47it/s]\u001b[A\n",
            " 41%|████      | 22/54 [00:04<00:05,  5.73it/s]\u001b[A\n",
            " 43%|████▎     | 23/54 [00:04<00:05,  5.21it/s]\u001b[A\n",
            " 44%|████▍     | 24/54 [00:04<00:05,  5.24it/s]\u001b[A\n",
            " 46%|████▋     | 25/54 [00:04<00:05,  5.46it/s]\u001b[A\n",
            " 48%|████▊     | 26/54 [00:05<00:05,  4.96it/s]\u001b[A\n",
            " 50%|█████     | 27/54 [00:05<00:05,  4.83it/s]\u001b[A\n",
            " 52%|█████▏    | 28/54 [00:05<00:05,  5.07it/s]\u001b[A\n",
            " 54%|█████▎    | 29/54 [00:05<00:04,  5.07it/s]\u001b[A\n",
            " 56%|█████▌    | 30/54 [00:05<00:04,  5.48it/s]\u001b[A\n",
            " 57%|█████▋    | 31/54 [00:06<00:04,  5.28it/s]\u001b[A\n",
            " 59%|█████▉    | 32/54 [00:06<00:04,  5.04it/s]\u001b[A\n",
            " 61%|██████    | 33/54 [00:06<00:03,  5.51it/s]\u001b[A\n",
            " 63%|██████▎   | 34/54 [00:06<00:03,  5.36it/s]\u001b[A\n",
            " 65%|██████▍   | 35/54 [00:06<00:03,  5.68it/s]\u001b[A\n",
            " 67%|██████▋   | 36/54 [00:06<00:03,  5.98it/s]\u001b[A\n",
            " 69%|██████▊   | 37/54 [00:07<00:02,  6.09it/s]\u001b[A\n",
            " 70%|███████   | 38/54 [00:07<00:02,  5.71it/s]\u001b[A\n",
            " 72%|███████▏  | 39/54 [00:07<00:02,  5.27it/s]\u001b[A\n",
            " 74%|███████▍  | 40/54 [00:07<00:02,  5.25it/s]\u001b[A\n",
            " 76%|███████▌  | 41/54 [00:07<00:02,  5.53it/s]\u001b[A\n",
            " 78%|███████▊  | 42/54 [00:08<00:02,  5.02it/s]\u001b[A\n",
            " 80%|███████▉  | 43/54 [00:08<00:02,  5.23it/s]\u001b[A\n",
            " 81%|████████▏ | 44/54 [00:08<00:01,  5.73it/s]\u001b[A\n",
            " 83%|████████▎ | 45/54 [00:08<00:01,  5.94it/s]\u001b[A\n",
            " 85%|████████▌ | 46/54 [00:08<00:01,  5.80it/s]\u001b[A\n",
            " 87%|████████▋ | 47/54 [00:09<00:01,  5.24it/s]\u001b[A\n",
            " 89%|████████▉ | 48/54 [00:09<00:01,  5.45it/s]\u001b[A\n",
            " 91%|█████████ | 49/54 [00:09<00:00,  5.47it/s]\u001b[A\n",
            " 93%|█████████▎| 50/54 [00:09<00:00,  5.28it/s]\u001b[A\n",
            " 94%|█████████▍| 51/54 [00:09<00:00,  5.03it/s]\u001b[A\n",
            " 96%|█████████▋| 52/54 [00:09<00:00,  5.27it/s]\u001b[A\n",
            " 98%|█████████▊| 53/54 [00:10<00:00,  5.46it/s]\u001b[A\n",
            "100%|██████████| 54/54 [00:10<00:00,  5.24it/s]\n",
            "\n",
            "  0%|          | 0/54 [00:00<?, ?it/s]\u001b[A\n",
            "  2%|▏         | 1/54 [00:00<00:10,  5.27it/s]\u001b[A"
          ],
          "name": "stderr"
        },
        {
          "output_type": "stream",
          "text": [
            "{'ner': 2031.0073772838998}\n"
          ],
          "name": "stdout"
        },
        {
          "output_type": "stream",
          "text": [
            "\n",
            "  4%|▎         | 2/54 [00:00<00:10,  5.08it/s]\u001b[A\n",
            "  6%|▌         | 3/54 [00:00<00:09,  5.40it/s]\u001b[A\n",
            "  7%|▋         | 4/54 [00:00<00:09,  5.28it/s]\u001b[A\n",
            "  9%|▉         | 5/54 [00:00<00:09,  5.20it/s]\u001b[A\n",
            " 11%|█         | 6/54 [00:01<00:08,  5.60it/s]\u001b[A\n",
            " 13%|█▎        | 7/54 [00:01<00:07,  5.90it/s]\u001b[A\n",
            " 15%|█▍        | 8/54 [00:01<00:08,  5.34it/s]\u001b[A\n",
            " 17%|█▋        | 9/54 [00:01<00:08,  5.61it/s]\u001b[A\n",
            " 19%|█▊        | 10/54 [00:01<00:07,  6.05it/s]\u001b[A\n",
            " 20%|██        | 11/54 [00:01<00:07,  6.06it/s]\u001b[A\n",
            " 22%|██▏       | 12/54 [00:02<00:06,  6.30it/s]\u001b[A\n",
            " 24%|██▍       | 13/54 [00:02<00:06,  5.96it/s]\u001b[A\n",
            " 26%|██▌       | 14/54 [00:02<00:06,  6.01it/s]\u001b[A\n",
            " 28%|██▊       | 15/54 [00:02<00:06,  5.74it/s]\u001b[A\n",
            " 30%|██▉       | 16/54 [00:02<00:06,  5.63it/s]\u001b[A\n",
            " 31%|███▏      | 17/54 [00:02<00:06,  5.65it/s]\u001b[A\n",
            " 33%|███▎      | 18/54 [00:03<00:07,  4.91it/s]\u001b[A\n",
            " 35%|███▌      | 19/54 [00:03<00:06,  5.39it/s]\u001b[A\n",
            " 37%|███▋      | 20/54 [00:03<00:06,  5.57it/s]\u001b[A\n",
            " 39%|███▉      | 21/54 [00:03<00:06,  5.40it/s]\u001b[A\n",
            " 41%|████      | 22/54 [00:03<00:05,  5.65it/s]\u001b[A\n",
            " 43%|████▎     | 23/54 [00:04<00:05,  5.20it/s]\u001b[A\n",
            " 44%|████▍     | 24/54 [00:04<00:05,  5.06it/s]\u001b[A\n",
            " 46%|████▋     | 25/54 [00:04<00:05,  5.01it/s]\u001b[A\n",
            " 48%|████▊     | 26/54 [00:04<00:05,  4.90it/s]\u001b[A\n",
            " 50%|█████     | 27/54 [00:04<00:05,  5.34it/s]\u001b[A\n",
            " 52%|█████▏    | 28/54 [00:05<00:04,  5.53it/s]\u001b[A\n",
            " 54%|█████▎    | 29/54 [00:05<00:04,  5.58it/s]\u001b[A\n",
            " 56%|█████▌    | 30/54 [00:05<00:04,  5.95it/s]\u001b[A\n",
            " 57%|█████▋    | 31/54 [00:05<00:03,  5.94it/s]\u001b[A\n",
            " 59%|█████▉    | 32/54 [00:05<00:03,  6.18it/s]\u001b[A\n",
            " 61%|██████    | 33/54 [00:05<00:03,  5.68it/s]\u001b[A\n",
            " 63%|██████▎   | 34/54 [00:06<00:03,  5.37it/s]\u001b[A\n",
            " 65%|██████▍   | 35/54 [00:06<00:03,  5.71it/s]\u001b[A\n",
            " 67%|██████▋   | 36/54 [00:06<00:03,  5.42it/s]\u001b[A\n",
            " 69%|██████▊   | 37/54 [00:06<00:03,  5.27it/s]\u001b[A\n",
            " 70%|███████   | 38/54 [00:06<00:02,  5.49it/s]\u001b[A\n",
            " 72%|███████▏  | 39/54 [00:07<00:02,  5.41it/s]\u001b[A\n",
            " 74%|███████▍  | 40/54 [00:07<00:02,  5.08it/s]\u001b[A\n",
            " 76%|███████▌  | 41/54 [00:07<00:02,  5.49it/s]\u001b[A\n",
            " 78%|███████▊  | 42/54 [00:07<00:02,  4.95it/s]\u001b[A\n",
            " 80%|███████▉  | 43/54 [00:07<00:02,  4.81it/s]\u001b[A\n",
            " 81%|████████▏ | 44/54 [00:08<00:02,  4.81it/s]\u001b[A\n",
            " 83%|████████▎ | 45/54 [00:08<00:01,  4.85it/s]\u001b[A\n",
            " 85%|████████▌ | 46/54 [00:08<00:01,  4.87it/s]\u001b[A\n",
            " 87%|████████▋ | 47/54 [00:08<00:01,  5.25it/s]\u001b[A\n",
            " 89%|████████▉ | 48/54 [00:08<00:01,  5.29it/s]\u001b[A\n",
            " 91%|█████████ | 49/54 [00:09<00:00,  5.20it/s]\u001b[A\n",
            " 93%|█████████▎| 50/54 [00:09<00:00,  4.75it/s]\u001b[A\n",
            " 94%|█████████▍| 51/54 [00:09<00:00,  4.99it/s]\u001b[A\n",
            " 96%|█████████▋| 52/54 [00:09<00:00,  4.79it/s]\u001b[A\n",
            " 98%|█████████▊| 53/54 [00:09<00:00,  4.94it/s]\u001b[A\n",
            "100%|██████████| 54/54 [00:10<00:00,  5.36it/s]\n",
            "\n",
            "  0%|          | 0/54 [00:00<?, ?it/s]\u001b[A"
          ],
          "name": "stderr"
        },
        {
          "output_type": "stream",
          "text": [
            "{'ner': 3385.1018044673483}\n"
          ],
          "name": "stdout"
        },
        {
          "output_type": "stream",
          "text": [
            "\n",
            "  2%|▏         | 1/54 [00:00<00:13,  3.92it/s]\u001b[A\n",
            "  4%|▎         | 2/54 [00:00<00:12,  4.15it/s]\u001b[A\n",
            "  6%|▌         | 3/54 [00:00<00:11,  4.60it/s]\u001b[A\n",
            "  7%|▋         | 4/54 [00:00<00:10,  4.87it/s]\u001b[A\n",
            "  9%|▉         | 5/54 [00:01<00:11,  4.37it/s]\u001b[A\n",
            " 11%|█         | 6/54 [00:01<00:10,  4.79it/s]\u001b[A\n",
            " 13%|█▎        | 7/54 [00:01<00:09,  4.78it/s]\u001b[A\n",
            " 15%|█▍        | 8/54 [00:01<00:09,  4.92it/s]\u001b[A\n",
            " 17%|█▋        | 9/54 [00:01<00:09,  4.95it/s]\u001b[A\n",
            " 19%|█▊        | 10/54 [00:02<00:08,  5.09it/s]\u001b[A\n",
            " 20%|██        | 11/54 [00:02<00:07,  5.43it/s]\u001b[A\n",
            " 22%|██▏       | 12/54 [00:02<00:07,  5.56it/s]\u001b[A\n",
            " 24%|██▍       | 13/54 [00:02<00:07,  5.29it/s]\u001b[A\n",
            " 26%|██▌       | 14/54 [00:02<00:07,  5.34it/s]\u001b[A\n",
            " 28%|██▊       | 15/54 [00:02<00:07,  5.08it/s]\u001b[A\n",
            " 30%|██▉       | 16/54 [00:03<00:06,  5.61it/s]\u001b[A\n",
            " 31%|███▏      | 17/54 [00:03<00:06,  5.41it/s]\u001b[A\n",
            " 33%|███▎      | 18/54 [00:03<00:06,  5.73it/s]\u001b[A\n",
            " 35%|███▌      | 19/54 [00:03<00:06,  5.44it/s]\u001b[A\n",
            " 37%|███▋      | 20/54 [00:03<00:05,  5.91it/s]\u001b[A\n",
            " 39%|███▉      | 21/54 [00:03<00:05,  5.99it/s]\u001b[A\n",
            " 41%|████      | 22/54 [00:04<00:05,  5.90it/s]\u001b[A\n",
            " 43%|████▎     | 23/54 [00:04<00:05,  5.80it/s]\u001b[A\n",
            " 44%|████▍     | 24/54 [00:04<00:05,  5.45it/s]\u001b[A\n",
            " 46%|████▋     | 25/54 [00:04<00:04,  5.87it/s]\u001b[A\n",
            " 48%|████▊     | 26/54 [00:04<00:04,  5.92it/s]\u001b[A\n",
            " 50%|█████     | 27/54 [00:05<00:04,  5.56it/s]\u001b[A\n",
            " 52%|█████▏    | 28/54 [00:05<00:04,  5.83it/s]\u001b[A\n",
            " 54%|█████▎    | 29/54 [00:05<00:04,  5.65it/s]\u001b[A\n",
            " 56%|█████▌    | 30/54 [00:05<00:04,  5.63it/s]\u001b[A\n",
            " 57%|█████▋    | 31/54 [00:05<00:04,  5.57it/s]\u001b[A\n",
            " 59%|█████▉    | 32/54 [00:05<00:03,  5.88it/s]\u001b[A\n",
            " 61%|██████    | 33/54 [00:06<00:03,  5.38it/s]\u001b[A\n",
            " 63%|██████▎   | 34/54 [00:06<00:03,  5.35it/s]\u001b[A\n",
            " 65%|██████▍   | 35/54 [00:06<00:03,  5.80it/s]\u001b[A\n",
            " 67%|██████▋   | 36/54 [00:06<00:03,  4.95it/s]\u001b[A\n",
            " 69%|██████▊   | 37/54 [00:06<00:03,  4.99it/s]\u001b[A\n",
            " 70%|███████   | 38/54 [00:07<00:02,  5.34it/s]\u001b[A\n",
            " 72%|███████▏  | 39/54 [00:07<00:02,  5.27it/s]\u001b[A\n",
            " 74%|███████▍  | 40/54 [00:07<00:02,  5.18it/s]\u001b[A\n",
            " 76%|███████▌  | 41/54 [00:07<00:02,  5.13it/s]\u001b[A\n",
            " 78%|███████▊  | 42/54 [00:07<00:02,  4.82it/s]\u001b[A\n",
            " 80%|███████▉  | 43/54 [00:08<00:02,  5.36it/s]\u001b[A\n",
            " 81%|████████▏ | 44/54 [00:08<00:02,  4.92it/s]\u001b[A\n",
            " 83%|████████▎ | 45/54 [00:08<00:01,  5.47it/s]\u001b[A\n",
            " 85%|████████▌ | 46/54 [00:08<00:01,  5.49it/s]\u001b[A\n",
            " 87%|████████▋ | 47/54 [00:08<00:01,  5.24it/s]\u001b[A\n",
            " 89%|████████▉ | 48/54 [00:08<00:01,  5.65it/s]\u001b[A\n",
            " 91%|█████████ | 49/54 [00:09<00:00,  5.80it/s]\u001b[A\n",
            " 93%|█████████▎| 50/54 [00:09<00:00,  5.52it/s]\u001b[A\n",
            " 94%|█████████▍| 51/54 [00:09<00:00,  4.95it/s]\u001b[A\n",
            " 96%|█████████▋| 52/54 [00:09<00:00,  5.18it/s]\u001b[A\n",
            " 98%|█████████▊| 53/54 [00:09<00:00,  5.36it/s]\u001b[A\n",
            "100%|██████████| 54/54 [00:10<00:00,  5.34it/s]\n",
            "\n",
            "  0%|          | 0/54 [00:00<?, ?it/s]\u001b[A"
          ],
          "name": "stderr"
        },
        {
          "output_type": "stream",
          "text": [
            "{'ner': 2185.523537897512}\n"
          ],
          "name": "stdout"
        },
        {
          "output_type": "stream",
          "text": [
            "\n",
            "  2%|▏         | 1/54 [00:00<00:13,  3.98it/s]\u001b[A\n",
            "  4%|▎         | 2/54 [00:00<00:13,  4.00it/s]\u001b[A\n",
            "  6%|▌         | 3/54 [00:00<00:12,  4.05it/s]\u001b[A\n",
            "  7%|▋         | 4/54 [00:00<00:11,  4.34it/s]\u001b[A\n",
            "  9%|▉         | 5/54 [00:01<00:10,  4.55it/s]\u001b[A\n",
            " 11%|█         | 6/54 [00:01<00:10,  4.71it/s]\u001b[A\n",
            " 13%|█▎        | 7/54 [00:01<00:09,  4.80it/s]\u001b[A\n",
            " 15%|█▍        | 8/54 [00:01<00:09,  4.62it/s]\u001b[A\n",
            " 17%|█▋        | 9/54 [00:01<00:09,  4.58it/s]\u001b[A\n",
            " 19%|█▊        | 10/54 [00:02<00:09,  4.69it/s]\u001b[A\n",
            " 20%|██        | 11/54 [00:02<00:08,  4.82it/s]\u001b[A\n",
            " 22%|██▏       | 12/54 [00:02<00:08,  5.13it/s]\u001b[A\n",
            " 24%|██▍       | 13/54 [00:02<00:08,  4.81it/s]\u001b[A\n",
            " 26%|██▌       | 14/54 [00:02<00:08,  4.85it/s]\u001b[A\n",
            " 28%|██▊       | 15/54 [00:03<00:07,  5.26it/s]\u001b[A\n",
            " 30%|██▉       | 16/54 [00:03<00:07,  5.30it/s]\u001b[A\n",
            " 31%|███▏      | 17/54 [00:03<00:07,  5.17it/s]\u001b[A\n",
            " 33%|███▎      | 18/54 [00:03<00:06,  5.22it/s]\u001b[A\n",
            " 35%|███▌      | 19/54 [00:03<00:06,  5.36it/s]\u001b[A\n",
            " 37%|███▋      | 20/54 [00:04<00:06,  5.20it/s]\u001b[A\n",
            " 39%|███▉      | 21/54 [00:04<00:06,  5.49it/s]\u001b[A\n",
            " 41%|████      | 22/54 [00:04<00:06,  4.96it/s]\u001b[A\n",
            " 43%|████▎     | 23/54 [00:04<00:06,  4.64it/s]\u001b[A\n",
            " 44%|████▍     | 24/54 [00:04<00:06,  4.57it/s]\u001b[A\n",
            " 46%|████▋     | 25/54 [00:05<00:05,  4.96it/s]\u001b[A\n",
            " 48%|████▊     | 26/54 [00:05<00:05,  5.40it/s]\u001b[A\n",
            " 50%|█████     | 27/54 [00:05<00:04,  5.84it/s]\u001b[A\n",
            " 52%|█████▏    | 28/54 [00:05<00:04,  5.35it/s]\u001b[A\n",
            " 54%|█████▎    | 29/54 [00:05<00:04,  5.80it/s]\u001b[A\n",
            " 56%|█████▌    | 30/54 [00:05<00:03,  6.13it/s]\u001b[A\n",
            " 57%|█████▋    | 31/54 [00:06<00:03,  6.01it/s]\u001b[A\n",
            " 59%|█████▉    | 32/54 [00:06<00:04,  5.11it/s]\u001b[A\n",
            " 61%|██████    | 33/54 [00:06<00:03,  5.29it/s]\u001b[A\n",
            " 63%|██████▎   | 34/54 [00:06<00:04,  4.85it/s]\u001b[A\n",
            " 65%|██████▍   | 35/54 [00:07<00:04,  4.71it/s]\u001b[A\n",
            " 67%|██████▋   | 36/54 [00:07<00:03,  4.95it/s]\u001b[A\n",
            " 69%|██████▊   | 37/54 [00:07<00:03,  4.64it/s]\u001b[A\n",
            " 70%|███████   | 38/54 [00:07<00:03,  4.89it/s]\u001b[A\n",
            " 72%|███████▏  | 39/54 [00:07<00:02,  5.40it/s]\u001b[A\n",
            " 74%|███████▍  | 40/54 [00:07<00:02,  5.68it/s]\u001b[A\n",
            " 76%|███████▌  | 41/54 [00:08<00:02,  5.65it/s]\u001b[A\n",
            " 78%|███████▊  | 42/54 [00:08<00:01,  6.07it/s]\u001b[A\n",
            " 80%|███████▉  | 43/54 [00:08<00:01,  5.63it/s]\u001b[A\n",
            " 81%|████████▏ | 44/54 [00:08<00:01,  5.50it/s]\u001b[A\n",
            " 83%|████████▎ | 45/54 [00:08<00:01,  4.85it/s]\u001b[A\n",
            " 85%|████████▌ | 46/54 [00:09<00:01,  4.45it/s]\u001b[A\n",
            " 87%|████████▋ | 47/54 [00:09<00:01,  4.71it/s]\u001b[A\n",
            " 89%|████████▉ | 48/54 [00:09<00:01,  4.78it/s]\u001b[A\n",
            " 91%|█████████ | 49/54 [00:09<00:00,  5.22it/s]\u001b[A\n",
            " 93%|█████████▎| 50/54 [00:09<00:00,  5.67it/s]\u001b[A\n",
            " 94%|█████████▍| 51/54 [00:09<00:00,  5.97it/s]\u001b[A\n",
            " 96%|█████████▋| 52/54 [00:10<00:00,  5.17it/s]\u001b[A\n",
            " 98%|█████████▊| 53/54 [00:10<00:00,  5.46it/s]\u001b[A\n",
            "100%|██████████| 54/54 [00:10<00:00,  5.10it/s]\n",
            "\n",
            "  0%|          | 0/54 [00:00<?, ?it/s]\u001b[A\n",
            "  2%|▏         | 1/54 [00:00<00:10,  5.27it/s]\u001b[A"
          ],
          "name": "stderr"
        },
        {
          "output_type": "stream",
          "text": [
            "{'ner': 1704.438065169034}\n"
          ],
          "name": "stdout"
        },
        {
          "output_type": "stream",
          "text": [
            "\n",
            "  4%|▎         | 2/54 [00:00<00:09,  5.46it/s]\u001b[A\n",
            "  6%|▌         | 3/54 [00:00<00:09,  5.53it/s]\u001b[A\n",
            "  7%|▋         | 4/54 [00:00<00:10,  4.86it/s]\u001b[A\n",
            "  9%|▉         | 5/54 [00:01<00:10,  4.53it/s]\u001b[A\n",
            " 11%|█         | 6/54 [00:01<00:09,  4.80it/s]\u001b[A\n",
            " 13%|█▎        | 7/54 [00:01<00:09,  4.89it/s]\u001b[A\n",
            " 15%|█▍        | 8/54 [00:01<00:09,  5.03it/s]\u001b[A\n",
            " 17%|█▋        | 9/54 [00:01<00:08,  5.01it/s]\u001b[A\n",
            " 19%|█▊        | 10/54 [00:01<00:08,  5.44it/s]\u001b[A\n",
            " 20%|██        | 11/54 [00:02<00:08,  5.01it/s]\u001b[A\n",
            " 22%|██▏       | 12/54 [00:02<00:08,  4.76it/s]\u001b[A\n",
            " 24%|██▍       | 13/54 [00:02<00:08,  5.06it/s]\u001b[A\n",
            " 26%|██▌       | 14/54 [00:02<00:08,  4.96it/s]\u001b[A\n",
            " 28%|██▊       | 15/54 [00:03<00:08,  4.61it/s]\u001b[A\n",
            " 30%|██▉       | 16/54 [00:03<00:08,  4.68it/s]\u001b[A\n",
            " 31%|███▏      | 17/54 [00:03<00:08,  4.56it/s]\u001b[A\n",
            " 33%|███▎      | 18/54 [00:03<00:08,  4.43it/s]\u001b[A\n",
            " 35%|███▌      | 19/54 [00:03<00:07,  4.56it/s]\u001b[A\n",
            " 37%|███▋      | 20/54 [00:04<00:06,  4.86it/s]\u001b[A\n",
            " 39%|███▉      | 21/54 [00:04<00:06,  4.81it/s]\u001b[A\n",
            " 41%|████      | 22/54 [00:04<00:05,  5.38it/s]\u001b[A\n",
            " 43%|████▎     | 23/54 [00:04<00:05,  5.48it/s]\u001b[A\n",
            " 44%|████▍     | 24/54 [00:04<00:05,  5.63it/s]\u001b[A\n",
            " 46%|████▋     | 25/54 [00:05<00:05,  5.46it/s]\u001b[A\n",
            " 48%|████▊     | 26/54 [00:05<00:05,  5.52it/s]\u001b[A\n",
            " 50%|█████     | 27/54 [00:05<00:05,  4.97it/s]\u001b[A\n",
            " 52%|█████▏    | 28/54 [00:05<00:05,  4.91it/s]\u001b[A\n",
            " 54%|█████▎    | 29/54 [00:05<00:05,  4.98it/s]\u001b[A\n",
            " 56%|█████▌    | 30/54 [00:06<00:05,  4.67it/s]\u001b[A\n",
            " 57%|█████▋    | 31/54 [00:06<00:04,  5.17it/s]\u001b[A\n",
            " 59%|█████▉    | 32/54 [00:06<00:03,  5.54it/s]\u001b[A\n",
            " 61%|██████    | 33/54 [00:06<00:04,  5.13it/s]\u001b[A\n",
            " 63%|██████▎   | 34/54 [00:06<00:03,  5.44it/s]\u001b[A\n",
            " 65%|██████▍   | 35/54 [00:06<00:03,  5.51it/s]\u001b[A\n",
            " 67%|██████▋   | 36/54 [00:07<00:03,  5.58it/s]\u001b[A\n",
            " 69%|██████▊   | 37/54 [00:07<00:03,  5.35it/s]\u001b[A\n",
            " 70%|███████   | 38/54 [00:07<00:02,  5.82it/s]\u001b[A\n",
            " 72%|███████▏  | 39/54 [00:07<00:02,  5.17it/s]\u001b[A\n",
            " 74%|███████▍  | 40/54 [00:07<00:02,  5.26it/s]\u001b[A\n",
            " 76%|███████▌  | 41/54 [00:08<00:02,  5.46it/s]\u001b[A\n",
            " 78%|███████▊  | 42/54 [00:08<00:02,  5.23it/s]\u001b[A\n",
            " 80%|███████▉  | 43/54 [00:08<00:02,  5.16it/s]\u001b[A\n",
            " 81%|████████▏ | 44/54 [00:08<00:02,  4.73it/s]\u001b[A\n",
            " 83%|████████▎ | 45/54 [00:08<00:01,  4.73it/s]\u001b[A\n",
            " 85%|████████▌ | 46/54 [00:09<00:01,  5.13it/s]\u001b[A\n",
            " 87%|████████▋ | 47/54 [00:09<00:01,  4.95it/s]\u001b[A\n",
            " 89%|████████▉ | 48/54 [00:09<00:01,  4.91it/s]\u001b[A\n",
            " 91%|█████████ | 49/54 [00:09<00:01,  4.88it/s]\u001b[A\n",
            " 93%|█████████▎| 50/54 [00:09<00:00,  5.37it/s]\u001b[A\n",
            " 94%|█████████▍| 51/54 [00:09<00:00,  5.82it/s]\u001b[A\n",
            " 96%|█████████▋| 52/54 [00:10<00:00,  5.56it/s]\u001b[A\n",
            " 98%|█████████▊| 53/54 [00:10<00:00,  5.62it/s]\u001b[A\n",
            "100%|██████████| 54/54 [00:10<00:00,  5.13it/s]\n",
            "\n",
            "  0%|          | 0/54 [00:00<?, ?it/s]\u001b[A\n",
            "  2%|▏         | 1/54 [00:00<00:07,  6.67it/s]\u001b[A"
          ],
          "name": "stderr"
        },
        {
          "output_type": "stream",
          "text": [
            "{'ner': 2301.9084834612177}\n"
          ],
          "name": "stdout"
        },
        {
          "output_type": "stream",
          "text": [
            "\n",
            "  4%|▎         | 2/54 [00:00<00:08,  5.83it/s]\u001b[A\n",
            "  6%|▌         | 3/54 [00:00<00:09,  5.59it/s]\u001b[A\n",
            "  7%|▋         | 4/54 [00:00<00:10,  4.92it/s]\u001b[A\n",
            "  9%|▉         | 5/54 [00:01<00:09,  4.92it/s]\u001b[A\n",
            " 11%|█         | 6/54 [00:01<00:08,  5.38it/s]\u001b[A\n",
            " 13%|█▎        | 7/54 [00:01<00:08,  5.47it/s]\u001b[A\n",
            " 15%|█▍        | 8/54 [00:01<00:08,  5.42it/s]\u001b[A\n",
            " 17%|█▋        | 9/54 [00:01<00:09,  4.81it/s]\u001b[A\n",
            " 19%|█▊        | 10/54 [00:01<00:08,  4.93it/s]\u001b[A\n",
            " 20%|██        | 11/54 [00:02<00:07,  5.43it/s]\u001b[A\n",
            " 22%|██▏       | 12/54 [00:02<00:07,  5.56it/s]\u001b[A\n",
            " 24%|██▍       | 13/54 [00:02<00:07,  5.57it/s]\u001b[A\n",
            " 26%|██▌       | 14/54 [00:02<00:07,  5.57it/s]\u001b[A\n",
            " 28%|██▊       | 15/54 [00:02<00:07,  5.25it/s]\u001b[A\n",
            " 30%|██▉       | 16/54 [00:03<00:07,  5.30it/s]\u001b[A\n",
            " 31%|███▏      | 17/54 [00:03<00:06,  5.38it/s]\u001b[A\n",
            " 33%|███▎      | 18/54 [00:03<00:07,  5.07it/s]\u001b[A\n",
            " 35%|███▌      | 19/54 [00:03<00:07,  4.78it/s]\u001b[A\n",
            " 37%|███▋      | 20/54 [00:03<00:06,  4.91it/s]\u001b[A\n",
            " 39%|███▉      | 21/54 [00:04<00:06,  4.93it/s]\u001b[A\n",
            " 41%|████      | 22/54 [00:04<00:06,  4.98it/s]\u001b[A\n",
            " 43%|████▎     | 23/54 [00:04<00:05,  5.49it/s]\u001b[A\n",
            " 44%|████▍     | 24/54 [00:04<00:05,  5.70it/s]\u001b[A\n",
            " 46%|████▋     | 25/54 [00:04<00:05,  5.51it/s]\u001b[A\n",
            " 48%|████▊     | 26/54 [00:05<00:05,  5.05it/s]\u001b[A\n",
            " 50%|█████     | 27/54 [00:05<00:05,  4.87it/s]\u001b[A\n",
            " 52%|█████▏    | 28/54 [00:05<00:05,  4.76it/s]\u001b[A\n",
            " 54%|█████▎    | 29/54 [00:05<00:04,  5.00it/s]\u001b[A\n",
            " 56%|█████▌    | 30/54 [00:05<00:04,  5.52it/s]\u001b[A\n",
            " 57%|█████▋    | 31/54 [00:06<00:04,  5.14it/s]\u001b[A\n",
            " 59%|█████▉    | 32/54 [00:06<00:04,  5.43it/s]\u001b[A\n",
            " 61%|██████    | 33/54 [00:06<00:03,  5.91it/s]\u001b[A\n",
            " 63%|██████▎   | 34/54 [00:06<00:03,  5.75it/s]\u001b[A\n",
            " 65%|██████▍   | 35/54 [00:06<00:03,  6.00it/s]\u001b[A\n",
            " 67%|██████▋   | 36/54 [00:06<00:03,  5.09it/s]\u001b[A\n",
            " 69%|██████▊   | 37/54 [00:07<00:03,  5.51it/s]\u001b[A\n",
            " 70%|███████   | 38/54 [00:07<00:03,  5.29it/s]\u001b[A\n",
            " 72%|███████▏  | 39/54 [00:07<00:02,  5.41it/s]\u001b[A\n",
            " 74%|███████▍  | 40/54 [00:07<00:02,  4.88it/s]\u001b[A\n",
            " 76%|███████▌  | 41/54 [00:07<00:02,  5.28it/s]\u001b[A\n",
            " 78%|███████▊  | 42/54 [00:08<00:02,  5.13it/s]\u001b[A\n",
            " 80%|███████▉  | 43/54 [00:08<00:02,  4.85it/s]\u001b[A\n",
            " 81%|████████▏ | 44/54 [00:08<00:02,  4.51it/s]\u001b[A\n",
            " 83%|████████▎ | 45/54 [00:08<00:01,  5.00it/s]\u001b[A\n",
            " 85%|████████▌ | 46/54 [00:08<00:01,  5.15it/s]\u001b[A\n",
            " 87%|████████▋ | 47/54 [00:09<00:01,  5.30it/s]\u001b[A\n",
            " 89%|████████▉ | 48/54 [00:09<00:01,  4.75it/s]\u001b[A\n",
            " 91%|█████████ | 49/54 [00:09<00:01,  4.92it/s]\u001b[A\n",
            " 93%|█████████▎| 50/54 [00:09<00:00,  5.04it/s]\u001b[A\n",
            " 94%|█████████▍| 51/54 [00:09<00:00,  5.19it/s]\u001b[A\n",
            " 96%|█████████▋| 52/54 [00:10<00:00,  5.42it/s]\u001b[A\n",
            " 98%|█████████▊| 53/54 [00:10<00:00,  5.68it/s]\u001b[A\n",
            "100%|██████████| 54/54 [00:10<00:00,  5.20it/s]\n",
            "\n",
            "  0%|          | 0/54 [00:00<?, ?it/s]\u001b[A"
          ],
          "name": "stderr"
        },
        {
          "output_type": "stream",
          "text": [
            "{'ner': 2046.2858281526112}\n"
          ],
          "name": "stdout"
        },
        {
          "output_type": "stream",
          "text": [
            "\n",
            "  2%|▏         | 1/54 [00:00<00:13,  3.80it/s]\u001b[A\n",
            "  4%|▎         | 2/54 [00:00<00:12,  4.10it/s]\u001b[A\n",
            "  6%|▌         | 3/54 [00:00<00:11,  4.42it/s]\u001b[A\n",
            "  7%|▋         | 4/54 [00:00<00:09,  5.03it/s]\u001b[A\n",
            "  9%|▉         | 5/54 [00:00<00:09,  5.11it/s]\u001b[A\n",
            " 11%|█         | 6/54 [00:01<00:10,  4.67it/s]\u001b[A\n",
            " 13%|█▎        | 7/54 [00:01<00:10,  4.65it/s]\u001b[A\n",
            " 15%|█▍        | 8/54 [00:01<00:10,  4.47it/s]\u001b[A\n",
            " 17%|█▋        | 9/54 [00:01<00:09,  4.61it/s]\u001b[A\n",
            " 19%|█▊        | 10/54 [00:02<00:09,  4.58it/s]\u001b[A\n",
            " 20%|██        | 11/54 [00:02<00:08,  5.04it/s]\u001b[A\n",
            " 22%|██▏       | 12/54 [00:02<00:08,  5.08it/s]\u001b[A\n",
            " 24%|██▍       | 13/54 [00:02<00:08,  4.92it/s]\u001b[A\n",
            " 26%|██▌       | 14/54 [00:02<00:07,  5.43it/s]\u001b[A\n",
            " 28%|██▊       | 15/54 [00:03<00:07,  5.14it/s]\u001b[A\n",
            " 30%|██▉       | 16/54 [00:03<00:07,  5.40it/s]\u001b[A\n",
            " 31%|███▏      | 17/54 [00:03<00:07,  5.16it/s]\u001b[A\n",
            " 33%|███▎      | 18/54 [00:03<00:06,  5.44it/s]\u001b[A\n",
            " 35%|███▌      | 19/54 [00:03<00:06,  5.72it/s]\u001b[A\n",
            " 37%|███▋      | 20/54 [00:03<00:05,  5.95it/s]\u001b[A\n",
            " 39%|███▉      | 21/54 [00:04<00:05,  6.30it/s]\u001b[A\n",
            " 41%|████      | 22/54 [00:04<00:05,  6.07it/s]\u001b[A\n",
            " 43%|████▎     | 23/54 [00:04<00:05,  6.06it/s]\u001b[A\n",
            " 44%|████▍     | 24/54 [00:04<00:05,  5.82it/s]\u001b[A\n",
            " 46%|████▋     | 25/54 [00:04<00:05,  5.53it/s]\u001b[A\n",
            " 48%|████▊     | 26/54 [00:04<00:05,  5.33it/s]\u001b[A\n",
            " 50%|█████     | 27/54 [00:05<00:04,  5.54it/s]\u001b[A\n",
            " 52%|█████▏    | 28/54 [00:05<00:04,  5.78it/s]\u001b[A\n",
            " 54%|█████▎    | 29/54 [00:05<00:04,  5.12it/s]\u001b[A\n",
            " 56%|█████▌    | 30/54 [00:05<00:04,  5.51it/s]\u001b[A\n",
            " 57%|█████▋    | 31/54 [00:05<00:04,  5.47it/s]\u001b[A\n",
            " 59%|█████▉    | 32/54 [00:06<00:03,  5.64it/s]\u001b[A\n",
            " 61%|██████    | 33/54 [00:06<00:03,  5.96it/s]\u001b[A\n",
            " 63%|██████▎   | 34/54 [00:06<00:03,  5.68it/s]\u001b[A\n",
            " 65%|██████▍   | 35/54 [00:06<00:03,  5.08it/s]\u001b[A\n",
            " 67%|██████▋   | 36/54 [00:06<00:03,  5.31it/s]\u001b[A\n",
            " 69%|██████▊   | 37/54 [00:07<00:03,  4.80it/s]\u001b[A\n",
            " 70%|███████   | 38/54 [00:07<00:03,  5.10it/s]\u001b[A\n",
            " 72%|███████▏  | 39/54 [00:07<00:02,  5.05it/s]\u001b[A\n",
            " 74%|███████▍  | 40/54 [00:07<00:02,  4.72it/s]\u001b[A\n",
            " 76%|███████▌  | 41/54 [00:07<00:02,  4.82it/s]\u001b[A\n",
            " 78%|███████▊  | 42/54 [00:08<00:02,  4.44it/s]\u001b[A\n",
            " 80%|███████▉  | 43/54 [00:08<00:02,  4.46it/s]\u001b[A\n",
            " 81%|████████▏ | 44/54 [00:08<00:02,  4.54it/s]\u001b[A\n",
            " 83%|████████▎ | 45/54 [00:08<00:02,  4.37it/s]\u001b[A\n",
            " 85%|████████▌ | 46/54 [00:08<00:01,  4.87it/s]\u001b[A\n",
            " 87%|████████▋ | 47/54 [00:09<00:01,  5.36it/s]\u001b[A\n",
            " 89%|████████▉ | 48/54 [00:09<00:01,  5.72it/s]\u001b[A\n",
            " 91%|█████████ | 49/54 [00:09<00:00,  5.56it/s]\u001b[A\n",
            " 93%|█████████▎| 50/54 [00:09<00:00,  5.40it/s]\u001b[A\n",
            " 94%|█████████▍| 51/54 [00:09<00:00,  5.39it/s]\u001b[A\n",
            " 96%|█████████▋| 52/54 [00:10<00:00,  4.89it/s]\u001b[A\n",
            " 98%|█████████▊| 53/54 [00:10<00:00,  5.26it/s]\u001b[A\n",
            "100%|██████████| 54/54 [00:10<00:00,  5.19it/s]\n",
            "\n",
            "  0%|          | 0/54 [00:00<?, ?it/s]\u001b[A"
          ],
          "name": "stderr"
        },
        {
          "output_type": "stream",
          "text": [
            "{'ner': 2211.8091263371916}\n"
          ],
          "name": "stdout"
        },
        {
          "output_type": "stream",
          "text": [
            "\n",
            "  2%|▏         | 1/54 [00:00<00:11,  4.77it/s]\u001b[A\n",
            "  4%|▎         | 2/54 [00:00<00:10,  4.87it/s]\u001b[A\n",
            "  6%|▌         | 3/54 [00:00<00:09,  5.20it/s]\u001b[A\n",
            "  7%|▋         | 4/54 [00:00<00:09,  5.15it/s]\u001b[A\n",
            "  9%|▉         | 5/54 [00:00<00:08,  5.48it/s]\u001b[A\n",
            " 11%|█         | 6/54 [00:01<00:09,  5.00it/s]\u001b[A\n",
            " 13%|█▎        | 7/54 [00:01<00:08,  5.52it/s]\u001b[A\n",
            " 15%|█▍        | 8/54 [00:01<00:08,  5.74it/s]\u001b[A\n",
            " 17%|█▋        | 9/54 [00:01<00:07,  5.67it/s]\u001b[A\n",
            " 19%|█▊        | 10/54 [00:01<00:08,  5.08it/s]\u001b[A\n",
            " 20%|██        | 11/54 [00:02<00:08,  5.31it/s]\u001b[A\n",
            " 22%|██▏       | 12/54 [00:02<00:07,  5.46it/s]\u001b[A\n",
            " 24%|██▍       | 13/54 [00:02<00:07,  5.67it/s]\u001b[A\n",
            " 26%|██▌       | 14/54 [00:02<00:06,  5.73it/s]\u001b[A\n",
            " 28%|██▊       | 15/54 [00:02<00:06,  5.66it/s]\u001b[A\n",
            " 30%|██▉       | 16/54 [00:02<00:07,  5.39it/s]\u001b[A\n",
            " 31%|███▏      | 17/54 [00:03<00:06,  5.76it/s]\u001b[A\n",
            " 33%|███▎      | 18/54 [00:03<00:05,  6.09it/s]\u001b[A\n",
            " 35%|███▌      | 19/54 [00:03<00:06,  5.64it/s]\u001b[A\n",
            " 37%|███▋      | 20/54 [00:03<00:06,  4.89it/s]\u001b[A\n",
            " 39%|███▉      | 21/54 [00:03<00:07,  4.57it/s]\u001b[A\n",
            " 41%|████      | 22/54 [00:04<00:06,  5.18it/s]\u001b[A\n",
            " 43%|████▎     | 23/54 [00:04<00:06,  5.06it/s]\u001b[A\n",
            " 44%|████▍     | 24/54 [00:04<00:05,  5.01it/s]\u001b[A\n",
            " 46%|████▋     | 25/54 [00:04<00:06,  4.78it/s]\u001b[A\n",
            " 48%|████▊     | 26/54 [00:04<00:05,  5.06it/s]\u001b[A\n",
            " 50%|█████     | 27/54 [00:05<00:05,  5.16it/s]\u001b[A\n",
            " 52%|█████▏    | 28/54 [00:05<00:05,  5.06it/s]\u001b[A\n",
            " 54%|█████▎    | 29/54 [00:05<00:04,  5.28it/s]\u001b[A\n",
            " 56%|█████▌    | 30/54 [00:05<00:04,  5.73it/s]\u001b[A\n",
            " 57%|█████▋    | 31/54 [00:05<00:03,  6.07it/s]\u001b[A\n",
            " 59%|█████▉    | 32/54 [00:05<00:03,  5.75it/s]\u001b[A\n",
            " 61%|██████    | 33/54 [00:06<00:03,  5.88it/s]\u001b[A\n",
            " 63%|██████▎   | 34/54 [00:06<00:03,  5.34it/s]\u001b[A\n",
            " 65%|██████▍   | 35/54 [00:06<00:03,  5.05it/s]\u001b[A\n",
            " 67%|██████▋   | 36/54 [00:06<00:03,  5.47it/s]\u001b[A\n",
            " 69%|██████▊   | 37/54 [00:06<00:02,  5.94it/s]\u001b[A\n",
            " 70%|███████   | 38/54 [00:07<00:02,  5.88it/s]\u001b[A\n",
            " 72%|███████▏  | 39/54 [00:07<00:02,  5.53it/s]\u001b[A\n",
            " 74%|███████▍  | 40/54 [00:07<00:02,  5.50it/s]\u001b[A\n",
            " 76%|███████▌  | 41/54 [00:07<00:02,  5.78it/s]\u001b[A\n",
            " 78%|███████▊  | 42/54 [00:07<00:02,  5.36it/s]\u001b[A\n",
            " 80%|███████▉  | 43/54 [00:07<00:02,  5.30it/s]\u001b[A\n",
            " 81%|████████▏ | 44/54 [00:08<00:01,  5.64it/s]\u001b[A\n",
            " 83%|████████▎ | 45/54 [00:08<00:01,  5.98it/s]\u001b[A\n",
            " 85%|████████▌ | 46/54 [00:08<00:01,  5.14it/s]\u001b[A\n",
            " 87%|████████▋ | 47/54 [00:08<00:01,  5.61it/s]\u001b[A\n",
            " 89%|████████▉ | 48/54 [00:08<00:01,  5.24it/s]\u001b[A\n",
            " 91%|█████████ | 49/54 [00:09<00:01,  4.74it/s]\u001b[A\n",
            " 93%|█████████▎| 50/54 [00:09<00:00,  4.78it/s]\u001b[A\n",
            " 94%|█████████▍| 51/54 [00:09<00:00,  5.13it/s]\u001b[A\n",
            " 96%|█████████▋| 52/54 [00:09<00:00,  5.44it/s]\u001b[A\n",
            " 98%|█████████▊| 53/54 [00:09<00:00,  5.28it/s]\u001b[A\n",
            "100%|██████████| 54/54 [00:10<00:00,  5.37it/s]\n",
            "\n",
            "  0%|          | 0/54 [00:00<?, ?it/s]\u001b[A\n",
            "  2%|▏         | 1/54 [00:00<00:08,  6.58it/s]\u001b[A"
          ],
          "name": "stderr"
        },
        {
          "output_type": "stream",
          "text": [
            "{'ner': 1456.800014696175}\n"
          ],
          "name": "stdout"
        },
        {
          "output_type": "stream",
          "text": [
            "\n",
            "  4%|▎         | 2/54 [00:00<00:09,  5.63it/s]\u001b[A\n",
            "  6%|▌         | 3/54 [00:00<00:08,  5.74it/s]\u001b[A\n",
            "  7%|▋         | 4/54 [00:00<00:08,  6.14it/s]\u001b[A\n",
            "  9%|▉         | 5/54 [00:00<00:08,  5.89it/s]\u001b[A\n",
            " 11%|█         | 6/54 [00:01<00:08,  5.74it/s]\u001b[A\n",
            " 13%|█▎        | 7/54 [00:01<00:09,  5.00it/s]\u001b[A\n",
            " 15%|█▍        | 8/54 [00:01<00:08,  5.47it/s]\u001b[A\n",
            " 17%|█▋        | 9/54 [00:01<00:08,  5.39it/s]\u001b[A\n",
            " 19%|█▊        | 10/54 [00:01<00:08,  5.26it/s]\u001b[A\n",
            " 20%|██        | 11/54 [00:02<00:09,  4.72it/s]\u001b[A\n",
            " 22%|██▏       | 12/54 [00:02<00:09,  4.46it/s]\u001b[A\n",
            " 24%|██▍       | 13/54 [00:02<00:09,  4.33it/s]\u001b[A\n",
            " 26%|██▌       | 14/54 [00:02<00:08,  4.88it/s]\u001b[A\n",
            " 28%|██▊       | 15/54 [00:02<00:07,  5.28it/s]\u001b[A\n",
            " 30%|██▉       | 16/54 [00:03<00:07,  4.94it/s]\u001b[A\n",
            " 31%|███▏      | 17/54 [00:03<00:06,  5.29it/s]\u001b[A\n",
            " 33%|███▎      | 18/54 [00:03<00:06,  5.48it/s]\u001b[A\n",
            " 35%|███▌      | 19/54 [00:03<00:06,  5.14it/s]\u001b[A\n",
            " 37%|███▋      | 20/54 [00:03<00:07,  4.80it/s]\u001b[A\n",
            " 39%|███▉      | 21/54 [00:04<00:06,  4.99it/s]\u001b[A\n",
            " 41%|████      | 22/54 [00:04<00:06,  4.77it/s]\u001b[A\n",
            " 43%|████▎     | 23/54 [00:04<00:06,  4.80it/s]\u001b[A\n",
            " 44%|████▍     | 24/54 [00:04<00:05,  5.24it/s]\u001b[A\n",
            " 46%|████▋     | 25/54 [00:04<00:05,  5.08it/s]\u001b[A\n",
            " 48%|████▊     | 26/54 [00:05<00:05,  5.16it/s]\u001b[A\n",
            " 50%|█████     | 27/54 [00:05<00:05,  5.19it/s]\u001b[A\n",
            " 52%|█████▏    | 28/54 [00:05<00:05,  4.75it/s]\u001b[A\n",
            " 54%|█████▎    | 29/54 [00:05<00:05,  4.93it/s]\u001b[A\n",
            " 56%|█████▌    | 30/54 [00:05<00:05,  4.54it/s]\u001b[A\n",
            " 57%|█████▋    | 31/54 [00:06<00:04,  4.68it/s]\u001b[A\n",
            " 59%|█████▉    | 32/54 [00:06<00:04,  4.74it/s]\u001b[A\n",
            " 61%|██████    | 33/54 [00:06<00:04,  5.14it/s]\u001b[A\n",
            " 63%|██████▎   | 34/54 [00:06<00:03,  5.66it/s]\u001b[A\n",
            " 65%|██████▍   | 35/54 [00:06<00:03,  5.66it/s]\u001b[A\n",
            " 67%|██████▋   | 36/54 [00:07<00:02,  6.09it/s]\u001b[A\n",
            " 69%|██████▊   | 37/54 [00:07<00:03,  5.33it/s]\u001b[A\n",
            " 70%|███████   | 38/54 [00:07<00:03,  4.80it/s]\u001b[A\n",
            " 72%|███████▏  | 39/54 [00:07<00:03,  4.99it/s]\u001b[A\n",
            " 74%|███████▍  | 40/54 [00:07<00:02,  5.44it/s]\u001b[A\n",
            " 76%|███████▌  | 41/54 [00:08<00:02,  5.41it/s]\u001b[A\n",
            " 78%|███████▊  | 42/54 [00:08<00:02,  5.76it/s]\u001b[A\n",
            " 80%|███████▉  | 43/54 [00:08<00:01,  5.55it/s]\u001b[A\n",
            " 81%|████████▏ | 44/54 [00:08<00:01,  5.01it/s]\u001b[A\n",
            " 83%|████████▎ | 45/54 [00:08<00:01,  5.03it/s]\u001b[A\n",
            " 85%|████████▌ | 46/54 [00:09<00:01,  4.74it/s]\u001b[A\n",
            " 87%|████████▋ | 47/54 [00:09<00:01,  5.08it/s]\u001b[A\n",
            " 89%|████████▉ | 48/54 [00:09<00:01,  5.43it/s]\u001b[A\n",
            " 91%|█████████ | 49/54 [00:09<00:00,  5.38it/s]\u001b[A\n",
            " 93%|█████████▎| 50/54 [00:09<00:00,  5.39it/s]\u001b[A\n",
            " 94%|█████████▍| 51/54 [00:09<00:00,  5.21it/s]\u001b[A\n",
            " 96%|█████████▋| 52/54 [00:10<00:00,  5.19it/s]\u001b[A\n",
            " 98%|█████████▊| 53/54 [00:10<00:00,  4.73it/s]\u001b[A\n",
            "100%|██████████| 54/54 [00:10<00:00,  5.11it/s]\n",
            "\n",
            "  0%|          | 0/54 [00:00<?, ?it/s]\u001b[A"
          ],
          "name": "stderr"
        },
        {
          "output_type": "stream",
          "text": [
            "{'ner': 1487.5012909540203}\n"
          ],
          "name": "stdout"
        },
        {
          "output_type": "stream",
          "text": [
            "\n",
            "  2%|▏         | 1/54 [00:00<00:11,  4.71it/s]\u001b[A\n",
            "  4%|▎         | 2/54 [00:00<00:10,  5.01it/s]\u001b[A\n",
            "  6%|▌         | 3/54 [00:00<00:09,  5.33it/s]\u001b[A\n",
            "  7%|▋         | 4/54 [00:00<00:08,  5.63it/s]\u001b[A\n",
            "  9%|▉         | 5/54 [00:00<00:08,  6.05it/s]\u001b[A\n",
            " 11%|█         | 6/54 [00:01<00:09,  5.32it/s]\u001b[A\n",
            " 13%|█▎        | 7/54 [00:01<00:08,  5.70it/s]\u001b[A\n",
            " 15%|█▍        | 8/54 [00:01<00:07,  5.96it/s]\u001b[A\n",
            " 17%|█▋        | 9/54 [00:01<00:07,  6.21it/s]\u001b[A\n",
            " 19%|█▊        | 10/54 [00:01<00:06,  6.46it/s]\u001b[A\n",
            " 20%|██        | 11/54 [00:01<00:06,  6.15it/s]\u001b[A\n",
            " 22%|██▏       | 12/54 [00:02<00:08,  5.22it/s]\u001b[A\n",
            " 24%|██▍       | 13/54 [00:02<00:07,  5.35it/s]\u001b[A\n",
            " 26%|██▌       | 14/54 [00:02<00:07,  5.61it/s]\u001b[A\n",
            " 28%|██▊       | 15/54 [00:02<00:06,  5.63it/s]\u001b[A\n",
            " 30%|██▉       | 16/54 [00:02<00:07,  5.06it/s]\u001b[A\n",
            " 31%|███▏      | 17/54 [00:03<00:07,  5.21it/s]\u001b[A\n",
            " 33%|███▎      | 18/54 [00:03<00:07,  5.06it/s]\u001b[A\n",
            " 35%|███▌      | 19/54 [00:03<00:06,  5.29it/s]\u001b[A\n",
            " 37%|███▋      | 20/54 [00:03<00:06,  5.56it/s]\u001b[A\n",
            " 39%|███▉      | 21/54 [00:03<00:06,  5.09it/s]\u001b[A\n",
            " 41%|████      | 22/54 [00:04<00:06,  4.87it/s]\u001b[A\n",
            " 43%|████▎     | 23/54 [00:04<00:05,  5.32it/s]\u001b[A\n",
            " 44%|████▍     | 24/54 [00:04<00:05,  5.59it/s]\u001b[A\n",
            " 46%|████▋     | 25/54 [00:04<00:05,  5.34it/s]\u001b[A\n",
            " 48%|████▊     | 26/54 [00:04<00:05,  5.34it/s]\u001b[A\n",
            " 50%|█████     | 27/54 [00:04<00:05,  4.86it/s]\u001b[A\n",
            " 52%|█████▏    | 28/54 [00:05<00:05,  4.78it/s]\u001b[A\n",
            " 54%|█████▎    | 29/54 [00:05<00:05,  4.43it/s]\u001b[A\n",
            " 56%|█████▌    | 30/54 [00:05<00:04,  4.92it/s]\u001b[A\n",
            " 57%|█████▋    | 31/54 [00:05<00:05,  4.57it/s]\u001b[A\n",
            " 59%|█████▉    | 32/54 [00:06<00:04,  4.84it/s]\u001b[A\n",
            " 61%|██████    | 33/54 [00:06<00:03,  5.30it/s]\u001b[A\n",
            " 63%|██████▎   | 34/54 [00:06<00:03,  5.30it/s]\u001b[A\n",
            " 65%|██████▍   | 35/54 [00:06<00:03,  5.08it/s]\u001b[A\n",
            " 67%|██████▋   | 36/54 [00:06<00:03,  5.11it/s]\u001b[A\n",
            " 69%|██████▊   | 37/54 [00:06<00:03,  5.10it/s]\u001b[A\n",
            " 70%|███████   | 38/54 [00:07<00:03,  4.88it/s]\u001b[A\n",
            " 72%|███████▏  | 39/54 [00:07<00:03,  4.99it/s]\u001b[A\n",
            " 74%|███████▍  | 40/54 [00:07<00:02,  5.47it/s]\u001b[A\n",
            " 76%|███████▌  | 41/54 [00:07<00:02,  5.27it/s]\u001b[A\n",
            " 78%|███████▊  | 42/54 [00:07<00:02,  5.17it/s]\u001b[A\n",
            " 80%|███████▉  | 43/54 [00:08<00:02,  5.04it/s]\u001b[A\n",
            " 81%|████████▏ | 44/54 [00:08<00:01,  5.16it/s]\u001b[A\n",
            " 83%|████████▎ | 45/54 [00:08<00:01,  4.82it/s]\u001b[A\n",
            " 85%|████████▌ | 46/54 [00:08<00:01,  4.90it/s]\u001b[A\n",
            " 87%|████████▋ | 47/54 [00:09<00:01,  4.77it/s]\u001b[A\n",
            " 89%|████████▉ | 48/54 [00:09<00:01,  4.50it/s]\u001b[A\n",
            " 91%|█████████ | 49/54 [00:09<00:01,  4.69it/s]\u001b[A\n",
            " 93%|█████████▎| 50/54 [00:09<00:00,  5.16it/s]\u001b[A\n",
            " 94%|█████████▍| 51/54 [00:09<00:00,  5.09it/s]\u001b[A\n",
            " 96%|█████████▋| 52/54 [00:09<00:00,  5.37it/s]\u001b[A\n",
            " 98%|█████████▊| 53/54 [00:10<00:00,  5.01it/s]\u001b[A\n",
            "100%|██████████| 54/54 [00:10<00:00,  5.20it/s]\n",
            "\n",
            "  0%|          | 0/54 [00:00<?, ?it/s]\u001b[A\n",
            "  2%|▏         | 1/54 [00:00<00:07,  7.18it/s]\u001b[A"
          ],
          "name": "stderr"
        },
        {
          "output_type": "stream",
          "text": [
            "{'ner': 770.3198903666971}\n"
          ],
          "name": "stdout"
        },
        {
          "output_type": "stream",
          "text": [
            "\n",
            "  4%|▎         | 2/54 [00:00<00:07,  6.60it/s]\u001b[A\n",
            "  6%|▌         | 3/54 [00:00<00:07,  6.54it/s]\u001b[A\n",
            "  7%|▋         | 4/54 [00:00<00:08,  5.66it/s]\u001b[A\n",
            "  9%|▉         | 5/54 [00:00<00:08,  5.58it/s]\u001b[A\n",
            " 11%|█         | 6/54 [00:01<00:08,  5.81it/s]\u001b[A\n",
            " 13%|█▎        | 7/54 [00:01<00:09,  4.97it/s]\u001b[A\n",
            " 15%|█▍        | 8/54 [00:01<00:08,  5.32it/s]\u001b[A\n",
            " 17%|█▋        | 9/54 [00:01<00:09,  4.98it/s]\u001b[A\n",
            " 19%|█▊        | 10/54 [00:01<00:08,  5.45it/s]\u001b[A\n",
            " 20%|██        | 11/54 [00:01<00:07,  5.90it/s]\u001b[A\n",
            " 22%|██▏       | 12/54 [00:02<00:07,  5.60it/s]\u001b[A\n",
            " 24%|██▍       | 13/54 [00:02<00:06,  5.93it/s]\u001b[A\n",
            " 26%|██▌       | 14/54 [00:02<00:06,  6.08it/s]\u001b[A\n",
            " 28%|██▊       | 15/54 [00:02<00:06,  5.70it/s]\u001b[A\n",
            " 30%|██▉       | 16/54 [00:02<00:06,  5.87it/s]\u001b[A\n",
            " 31%|███▏      | 17/54 [00:03<00:06,  5.67it/s]\u001b[A\n",
            " 33%|███▎      | 18/54 [00:03<00:06,  5.25it/s]\u001b[A\n",
            " 35%|███▌      | 19/54 [00:03<00:06,  5.10it/s]\u001b[A\n",
            " 37%|███▋      | 20/54 [00:03<00:07,  4.66it/s]\u001b[A\n",
            " 39%|███▉      | 21/54 [00:03<00:06,  4.88it/s]\u001b[A\n",
            " 41%|████      | 22/54 [00:04<00:06,  5.08it/s]\u001b[A\n",
            " 43%|████▎     | 23/54 [00:04<00:05,  5.23it/s]\u001b[A\n",
            " 44%|████▍     | 24/54 [00:04<00:05,  5.05it/s]\u001b[A\n",
            " 46%|████▋     | 25/54 [00:04<00:05,  5.14it/s]\u001b[A\n",
            " 48%|████▊     | 26/54 [00:04<00:05,  4.79it/s]\u001b[A\n",
            " 50%|█████     | 27/54 [00:05<00:05,  4.53it/s]\u001b[A\n",
            " 52%|█████▏    | 28/54 [00:05<00:05,  4.68it/s]\u001b[A\n",
            " 54%|█████▎    | 29/54 [00:05<00:05,  4.72it/s]\u001b[A\n",
            " 56%|█████▌    | 30/54 [00:05<00:05,  4.57it/s]\u001b[A\n",
            " 57%|█████▋    | 31/54 [00:05<00:04,  4.87it/s]\u001b[A\n",
            " 59%|█████▉    | 32/54 [00:06<00:04,  5.35it/s]\u001b[A\n",
            " 61%|██████    | 33/54 [00:06<00:03,  5.30it/s]\u001b[A\n",
            " 63%|██████▎   | 34/54 [00:06<00:03,  5.28it/s]\u001b[A\n",
            " 65%|██████▍   | 35/54 [00:06<00:03,  5.17it/s]\u001b[A\n",
            " 67%|██████▋   | 36/54 [00:06<00:03,  5.18it/s]\u001b[A\n",
            " 69%|██████▊   | 37/54 [00:07<00:03,  5.65it/s]\u001b[A\n",
            " 70%|███████   | 38/54 [00:07<00:02,  5.46it/s]\u001b[A\n",
            " 72%|███████▏  | 39/54 [00:07<00:02,  5.53it/s]\u001b[A\n",
            " 74%|███████▍  | 40/54 [00:07<00:02,  5.77it/s]\u001b[A\n",
            " 76%|███████▌  | 41/54 [00:07<00:02,  5.32it/s]\u001b[A\n",
            " 78%|███████▊  | 42/54 [00:08<00:02,  5.04it/s]\u001b[A\n",
            " 80%|███████▉  | 43/54 [00:08<00:02,  4.78it/s]\u001b[A\n",
            " 81%|████████▏ | 44/54 [00:08<00:02,  4.84it/s]\u001b[A\n",
            " 83%|████████▎ | 45/54 [00:08<00:01,  5.41it/s]\u001b[A\n",
            " 85%|████████▌ | 46/54 [00:08<00:01,  5.51it/s]\u001b[A\n",
            " 87%|████████▋ | 47/54 [00:08<00:01,  5.36it/s]\u001b[A\n",
            " 89%|████████▉ | 48/54 [00:09<00:01,  5.29it/s]\u001b[A\n",
            " 91%|█████████ | 49/54 [00:09<00:01,  4.81it/s]\u001b[A\n",
            " 93%|█████████▎| 50/54 [00:09<00:00,  5.35it/s]\u001b[A\n",
            " 94%|█████████▍| 51/54 [00:09<00:00,  4.85it/s]\u001b[A\n",
            " 96%|█████████▋| 52/54 [00:10<00:00,  4.62it/s]\u001b[A\n",
            " 98%|█████████▊| 53/54 [00:10<00:00,  4.84it/s]\u001b[A\n",
            "100%|██████████| 54/54 [00:10<00:00,  5.20it/s]\n",
            "\n",
            "  0%|          | 0/54 [00:00<?, ?it/s]\u001b[A\n",
            "  2%|▏         | 1/54 [00:00<00:08,  6.23it/s]\u001b[A"
          ],
          "name": "stderr"
        },
        {
          "output_type": "stream",
          "text": [
            "{'ner': 1452.6803674735174}\n"
          ],
          "name": "stdout"
        },
        {
          "output_type": "stream",
          "text": [
            "\n",
            "  4%|▎         | 2/54 [00:00<00:08,  6.43it/s]\u001b[A\n",
            "  6%|▌         | 3/54 [00:00<00:09,  5.41it/s]\u001b[A\n",
            "  7%|▋         | 4/54 [00:00<00:08,  5.78it/s]\u001b[A\n",
            "  9%|▉         | 5/54 [00:00<00:08,  5.56it/s]\u001b[A\n",
            " 11%|█         | 6/54 [00:01<00:08,  5.96it/s]\u001b[A\n",
            " 13%|█▎        | 7/54 [00:01<00:08,  5.64it/s]\u001b[A\n",
            " 15%|█▍        | 8/54 [00:01<00:08,  5.55it/s]\u001b[A\n",
            " 17%|█▋        | 9/54 [00:01<00:09,  4.87it/s]\u001b[A\n",
            " 19%|█▊        | 10/54 [00:01<00:08,  4.97it/s]\u001b[A\n",
            " 20%|██        | 11/54 [00:02<00:08,  5.37it/s]\u001b[A\n",
            " 22%|██▏       | 12/54 [00:02<00:07,  5.33it/s]\u001b[A\n",
            " 24%|██▍       | 13/54 [00:02<00:07,  5.63it/s]\u001b[A\n",
            " 26%|██▌       | 14/54 [00:02<00:07,  5.48it/s]\u001b[A\n",
            " 28%|██▊       | 15/54 [00:02<00:07,  5.47it/s]\u001b[A\n",
            " 30%|██▉       | 16/54 [00:02<00:07,  5.00it/s]\u001b[A\n",
            " 31%|███▏      | 17/54 [00:03<00:07,  4.85it/s]\u001b[A\n",
            " 33%|███▎      | 18/54 [00:03<00:06,  5.34it/s]\u001b[A\n",
            " 35%|███▌      | 19/54 [00:03<00:06,  5.07it/s]\u001b[A\n",
            " 37%|███▋      | 20/54 [00:03<00:06,  5.15it/s]\u001b[A\n",
            " 39%|███▉      | 21/54 [00:03<00:06,  5.39it/s]\u001b[A\n",
            " 41%|████      | 22/54 [00:04<00:06,  4.95it/s]\u001b[A\n",
            " 43%|████▎     | 23/54 [00:04<00:05,  5.37it/s]\u001b[A\n",
            " 44%|████▍     | 24/54 [00:04<00:06,  4.77it/s]\u001b[A\n",
            " 46%|████▋     | 25/54 [00:04<00:06,  4.49it/s]\u001b[A\n",
            " 48%|████▊     | 26/54 [00:04<00:05,  4.91it/s]\u001b[A\n",
            " 50%|█████     | 27/54 [00:05<00:04,  5.42it/s]\u001b[A\n",
            " 52%|█████▏    | 28/54 [00:05<00:04,  5.33it/s]\u001b[A\n",
            " 54%|█████▎    | 29/54 [00:05<00:04,  5.44it/s]\u001b[A\n",
            " 56%|█████▌    | 30/54 [00:05<00:04,  5.72it/s]\u001b[A\n",
            " 57%|█████▋    | 31/54 [00:05<00:03,  5.76it/s]\u001b[A\n",
            " 59%|█████▉    | 32/54 [00:05<00:03,  5.95it/s]\u001b[A\n",
            " 61%|██████    | 33/54 [00:06<00:04,  5.04it/s]\u001b[A\n",
            " 63%|██████▎   | 34/54 [00:06<00:03,  5.01it/s]\u001b[A\n",
            " 65%|██████▍   | 35/54 [00:06<00:04,  4.64it/s]\u001b[A\n",
            " 67%|██████▋   | 36/54 [00:06<00:03,  5.04it/s]\u001b[A\n",
            " 69%|██████▊   | 37/54 [00:07<00:03,  5.10it/s]\u001b[A\n",
            " 70%|███████   | 38/54 [00:07<00:03,  4.70it/s]\u001b[A\n",
            " 72%|███████▏  | 39/54 [00:07<00:02,  5.23it/s]\u001b[A\n",
            " 74%|███████▍  | 40/54 [00:07<00:02,  5.08it/s]\u001b[A\n",
            " 76%|███████▌  | 41/54 [00:07<00:02,  5.43it/s]\u001b[A\n",
            " 78%|███████▊  | 42/54 [00:08<00:02,  5.34it/s]\u001b[A\n",
            " 80%|███████▉  | 43/54 [00:08<00:02,  5.46it/s]\u001b[A\n",
            " 81%|████████▏ | 44/54 [00:08<00:01,  5.93it/s]\u001b[A\n",
            " 83%|████████▎ | 45/54 [00:08<00:01,  5.22it/s]\u001b[A\n",
            " 85%|████████▌ | 46/54 [00:08<00:01,  4.97it/s]\u001b[A\n",
            " 87%|████████▋ | 47/54 [00:08<00:01,  5.08it/s]\u001b[A\n",
            " 89%|████████▉ | 48/54 [00:09<00:01,  4.87it/s]\u001b[A\n",
            " 91%|█████████ | 49/54 [00:09<00:01,  4.83it/s]\u001b[A\n",
            " 93%|█████████▎| 50/54 [00:09<00:00,  4.83it/s]\u001b[A\n",
            " 94%|█████████▍| 51/54 [00:09<00:00,  4.42it/s]\u001b[A\n",
            " 96%|█████████▋| 52/54 [00:10<00:00,  4.64it/s]\u001b[A\n",
            " 98%|█████████▊| 53/54 [00:10<00:00,  4.93it/s]\u001b[A\n",
            "100%|██████████| 54/54 [00:10<00:00,  5.14it/s]\n",
            "\n",
            "  0%|          | 0/54 [00:00<?, ?it/s]\u001b[A"
          ],
          "name": "stderr"
        },
        {
          "output_type": "stream",
          "text": [
            "{'ner': 933.5680422308724}\n"
          ],
          "name": "stdout"
        },
        {
          "output_type": "stream",
          "text": [
            "\n",
            "  2%|▏         | 1/54 [00:00<00:14,  3.67it/s]\u001b[A\n",
            "  4%|▎         | 2/54 [00:00<00:13,  3.84it/s]\u001b[A\n",
            "  6%|▌         | 3/54 [00:00<00:12,  4.12it/s]\u001b[A\n",
            "  7%|▋         | 4/54 [00:00<00:11,  4.49it/s]\u001b[A\n",
            "  9%|▉         | 5/54 [00:01<00:10,  4.53it/s]\u001b[A\n",
            " 11%|█         | 6/54 [00:01<00:10,  4.70it/s]\u001b[A\n",
            " 13%|█▎        | 7/54 [00:01<00:09,  4.93it/s]\u001b[A\n",
            " 15%|█▍        | 8/54 [00:01<00:08,  5.47it/s]\u001b[A\n",
            " 17%|█▋        | 9/54 [00:01<00:08,  5.60it/s]\u001b[A\n",
            " 19%|█▊        | 10/54 [00:02<00:08,  5.18it/s]\u001b[A\n",
            " 20%|██        | 11/54 [00:02<00:08,  4.97it/s]\u001b[A\n",
            " 22%|██▏       | 12/54 [00:02<00:07,  5.48it/s]\u001b[A\n",
            " 24%|██▍       | 13/54 [00:02<00:07,  5.82it/s]\u001b[A\n",
            " 26%|██▌       | 14/54 [00:02<00:07,  5.18it/s]\u001b[A\n",
            " 28%|██▊       | 15/54 [00:03<00:08,  4.65it/s]\u001b[A\n",
            " 30%|██▉       | 16/54 [00:03<00:08,  4.36it/s]\u001b[A\n",
            " 31%|███▏      | 17/54 [00:03<00:07,  4.87it/s]\u001b[A\n",
            " 33%|███▎      | 18/54 [00:03<00:07,  4.95it/s]\u001b[A\n",
            " 35%|███▌      | 19/54 [00:03<00:07,  4.81it/s]\u001b[A\n",
            " 37%|███▋      | 20/54 [00:04<00:07,  4.73it/s]\u001b[A\n",
            " 39%|███▉      | 21/54 [00:04<00:06,  4.85it/s]\u001b[A\n",
            " 41%|████      | 22/54 [00:04<00:06,  4.84it/s]\u001b[A\n",
            " 43%|████▎     | 23/54 [00:04<00:06,  4.60it/s]\u001b[A\n",
            " 44%|████▍     | 24/54 [00:04<00:06,  4.82it/s]\u001b[A\n",
            " 46%|████▋     | 25/54 [00:05<00:05,  5.02it/s]\u001b[A\n",
            " 48%|████▊     | 26/54 [00:05<00:05,  5.14it/s]\u001b[A\n",
            " 50%|█████     | 27/54 [00:05<00:04,  5.57it/s]\u001b[A\n",
            " 52%|█████▏    | 28/54 [00:05<00:04,  5.43it/s]\u001b[A\n",
            " 54%|█████▎    | 29/54 [00:05<00:04,  5.04it/s]\u001b[A\n",
            " 56%|█████▌    | 30/54 [00:06<00:04,  5.08it/s]\u001b[A\n",
            " 57%|█████▋    | 31/54 [00:06<00:04,  5.43it/s]\u001b[A\n",
            " 59%|█████▉    | 32/54 [00:06<00:04,  4.87it/s]\u001b[A\n",
            " 61%|██████    | 33/54 [00:06<00:04,  4.99it/s]\u001b[A\n",
            " 63%|██████▎   | 34/54 [00:06<00:03,  5.06it/s]\u001b[A\n",
            " 65%|██████▍   | 35/54 [00:06<00:03,  5.37it/s]\u001b[A\n",
            " 67%|██████▋   | 36/54 [00:07<00:03,  5.21it/s]\u001b[A\n",
            " 69%|██████▊   | 37/54 [00:07<00:03,  5.05it/s]\u001b[A\n",
            " 70%|███████   | 38/54 [00:07<00:03,  5.18it/s]\u001b[A\n",
            " 72%|███████▏  | 39/54 [00:07<00:03,  4.97it/s]\u001b[A\n",
            " 74%|███████▍  | 40/54 [00:07<00:02,  5.02it/s]\u001b[A\n",
            " 76%|███████▌  | 41/54 [00:08<00:02,  4.74it/s]\u001b[A\n",
            " 78%|███████▊  | 42/54 [00:08<00:02,  5.26it/s]\u001b[A\n",
            " 80%|███████▉  | 43/54 [00:08<00:02,  5.34it/s]\u001b[A\n",
            " 81%|████████▏ | 44/54 [00:08<00:01,  5.42it/s]\u001b[A\n",
            " 83%|████████▎ | 45/54 [00:08<00:01,  4.91it/s]\u001b[A\n",
            " 85%|████████▌ | 46/54 [00:09<00:01,  4.48it/s]\u001b[A\n",
            " 87%|████████▋ | 47/54 [00:09<00:01,  4.85it/s]\u001b[A\n",
            " 89%|████████▉ | 48/54 [00:09<00:01,  4.69it/s]\u001b[A\n",
            " 91%|█████████ | 49/54 [00:09<00:01,  4.83it/s]\u001b[A\n",
            " 93%|█████████▎| 50/54 [00:09<00:00,  5.23it/s]\u001b[A\n",
            " 94%|█████████▍| 51/54 [00:10<00:00,  5.08it/s]\u001b[A\n",
            " 96%|█████████▋| 52/54 [00:10<00:00,  5.51it/s]\u001b[A\n",
            " 98%|█████████▊| 53/54 [00:10<00:00,  5.92it/s]\u001b[A\n",
            "100%|██████████| 54/54 [00:10<00:00,  5.07it/s]\n",
            "\n",
            "  0%|          | 0/54 [00:00<?, ?it/s]\u001b[A"
          ],
          "name": "stderr"
        },
        {
          "output_type": "stream",
          "text": [
            "{'ner': 789.444744826066}\n"
          ],
          "name": "stdout"
        },
        {
          "output_type": "stream",
          "text": [
            "\n",
            "  2%|▏         | 1/54 [00:00<00:10,  5.07it/s]\u001b[A\n",
            "  4%|▎         | 2/54 [00:00<00:10,  5.06it/s]\u001b[A\n",
            "  6%|▌         | 3/54 [00:00<00:10,  5.06it/s]\u001b[A\n",
            "  7%|▋         | 4/54 [00:00<00:10,  4.76it/s]\u001b[A\n",
            "  9%|▉         | 5/54 [00:01<00:10,  4.85it/s]\u001b[A\n",
            " 11%|█         | 6/54 [00:01<00:08,  5.34it/s]\u001b[A\n",
            " 13%|█▎        | 7/54 [00:01<00:08,  5.53it/s]\u001b[A\n",
            " 15%|█▍        | 8/54 [00:01<00:08,  5.34it/s]\u001b[A\n",
            " 17%|█▋        | 9/54 [00:01<00:08,  5.46it/s]\u001b[A\n",
            " 19%|█▊        | 10/54 [00:01<00:07,  5.58it/s]\u001b[A\n",
            " 20%|██        | 11/54 [00:02<00:08,  5.36it/s]\u001b[A\n",
            " 22%|██▏       | 12/54 [00:02<00:07,  5.35it/s]\u001b[A\n",
            " 24%|██▍       | 13/54 [00:02<00:07,  5.18it/s]\u001b[A\n",
            " 26%|██▌       | 14/54 [00:02<00:07,  5.07it/s]\u001b[A\n",
            " 28%|██▊       | 15/54 [00:02<00:08,  4.56it/s]\u001b[A\n",
            " 30%|██▉       | 16/54 [00:03<00:08,  4.74it/s]\u001b[A\n",
            " 31%|███▏      | 17/54 [00:03<00:07,  4.81it/s]\u001b[A\n",
            " 33%|███▎      | 18/54 [00:03<00:07,  4.55it/s]\u001b[A\n",
            " 35%|███▌      | 19/54 [00:03<00:07,  4.83it/s]\u001b[A\n",
            " 37%|███▋      | 20/54 [00:03<00:06,  4.88it/s]\u001b[A\n",
            " 39%|███▉      | 21/54 [00:04<00:06,  4.80it/s]\u001b[A\n",
            " 41%|████      | 22/54 [00:04<00:06,  5.18it/s]\u001b[A\n",
            " 43%|████▎     | 23/54 [00:04<00:06,  4.83it/s]\u001b[A\n",
            " 44%|████▍     | 24/54 [00:04<00:05,  5.26it/s]\u001b[A\n",
            " 46%|████▋     | 25/54 [00:04<00:05,  4.85it/s]\u001b[A\n",
            " 48%|████▊     | 26/54 [00:05<00:05,  5.17it/s]\u001b[A\n",
            " 50%|█████     | 27/54 [00:05<00:05,  5.15it/s]\u001b[A\n",
            " 52%|█████▏    | 28/54 [00:05<00:05,  5.08it/s]\u001b[A\n",
            " 54%|█████▎    | 29/54 [00:05<00:04,  5.53it/s]\u001b[A\n",
            " 56%|█████▌    | 30/54 [00:05<00:04,  5.11it/s]\u001b[A\n",
            " 57%|█████▋    | 31/54 [00:06<00:04,  5.41it/s]\u001b[A\n",
            " 59%|█████▉    | 32/54 [00:06<00:03,  5.56it/s]\u001b[A\n",
            " 61%|██████    | 33/54 [00:06<00:03,  5.63it/s]\u001b[A\n",
            " 63%|██████▎   | 34/54 [00:06<00:03,  5.41it/s]\u001b[A\n",
            " 65%|██████▍   | 35/54 [00:06<00:03,  4.85it/s]\u001b[A\n",
            " 67%|██████▋   | 36/54 [00:07<00:03,  4.59it/s]\u001b[A\n",
            " 69%|██████▊   | 37/54 [00:07<00:03,  5.05it/s]\u001b[A\n",
            " 70%|███████   | 38/54 [00:07<00:03,  5.04it/s]\u001b[A\n",
            " 72%|███████▏  | 39/54 [00:07<00:02,  5.14it/s]\u001b[A\n",
            " 74%|███████▍  | 40/54 [00:07<00:02,  5.08it/s]\u001b[A\n",
            " 76%|███████▌  | 41/54 [00:08<00:02,  5.23it/s]\u001b[A\n",
            " 78%|███████▊  | 42/54 [00:08<00:02,  5.61it/s]\u001b[A\n",
            " 80%|███████▉  | 43/54 [00:08<00:02,  5.40it/s]\u001b[A\n",
            " 81%|████████▏ | 44/54 [00:08<00:01,  5.42it/s]\u001b[A\n",
            " 83%|████████▎ | 45/54 [00:08<00:01,  5.23it/s]\u001b[A\n",
            " 85%|████████▌ | 46/54 [00:08<00:01,  5.56it/s]\u001b[A\n",
            " 87%|████████▋ | 47/54 [00:09<00:01,  5.00it/s]\u001b[A\n",
            " 89%|████████▉ | 48/54 [00:09<00:01,  4.69it/s]\u001b[A\n",
            " 91%|█████████ | 49/54 [00:09<00:00,  5.05it/s]\u001b[A\n",
            " 93%|█████████▎| 50/54 [00:09<00:00,  5.42it/s]\u001b[A\n",
            " 94%|█████████▍| 51/54 [00:09<00:00,  5.79it/s]\u001b[A\n",
            " 96%|█████████▋| 52/54 [00:10<00:00,  5.72it/s]\u001b[A\n",
            " 98%|█████████▊| 53/54 [00:10<00:00,  5.68it/s]\u001b[A\n",
            "100%|██████████| 54/54 [00:10<00:00,  5.15it/s]\n",
            "\n",
            "  0%|          | 0/54 [00:00<?, ?it/s]\u001b[A"
          ],
          "name": "stderr"
        },
        {
          "output_type": "stream",
          "text": [
            "{'ner': 511.3023124921046}\n"
          ],
          "name": "stdout"
        },
        {
          "output_type": "stream",
          "text": [
            "\n",
            "  2%|▏         | 1/54 [00:00<00:11,  4.45it/s]\u001b[A\n",
            "  4%|▎         | 2/54 [00:00<00:10,  4.92it/s]\u001b[A\n",
            "  6%|▌         | 3/54 [00:00<00:09,  5.18it/s]\u001b[A\n",
            "  7%|▋         | 4/54 [00:00<00:09,  5.28it/s]\u001b[A\n",
            "  9%|▉         | 5/54 [00:00<00:08,  5.60it/s]\u001b[A\n",
            " 11%|█         | 6/54 [00:01<00:08,  5.50it/s]\u001b[A\n",
            " 13%|█▎        | 7/54 [00:01<00:08,  5.75it/s]\u001b[A\n",
            " 15%|█▍        | 8/54 [00:01<00:08,  5.36it/s]\u001b[A\n",
            " 17%|█▋        | 9/54 [00:01<00:08,  5.31it/s]\u001b[A\n",
            " 19%|█▊        | 10/54 [00:01<00:08,  5.25it/s]\u001b[A\n",
            " 20%|██        | 11/54 [00:02<00:08,  5.08it/s]\u001b[A\n",
            " 22%|██▏       | 12/54 [00:02<00:08,  5.00it/s]\u001b[A\n",
            " 24%|██▍       | 13/54 [00:02<00:08,  5.10it/s]\u001b[A\n",
            " 26%|██▌       | 14/54 [00:02<00:07,  5.33it/s]\u001b[A\n",
            " 28%|██▊       | 15/54 [00:02<00:08,  4.81it/s]\u001b[A\n",
            " 30%|██▉       | 16/54 [00:03<00:08,  4.53it/s]\u001b[A\n",
            " 31%|███▏      | 17/54 [00:03<00:07,  4.68it/s]\u001b[A\n",
            " 33%|███▎      | 18/54 [00:03<00:07,  4.73it/s]\u001b[A\n",
            " 35%|███▌      | 19/54 [00:03<00:06,  5.20it/s]\u001b[A\n",
            " 37%|███▋      | 20/54 [00:03<00:06,  5.14it/s]\u001b[A\n",
            " 39%|███▉      | 21/54 [00:04<00:06,  5.32it/s]\u001b[A\n",
            " 41%|████      | 22/54 [00:04<00:06,  5.06it/s]\u001b[A\n",
            " 43%|████▎     | 23/54 [00:04<00:05,  5.38it/s]\u001b[A\n",
            " 44%|████▍     | 24/54 [00:04<00:05,  5.54it/s]\u001b[A\n",
            " 46%|████▋     | 25/54 [00:04<00:05,  5.38it/s]\u001b[A\n",
            " 48%|████▊     | 26/54 [00:04<00:04,  5.69it/s]\u001b[A\n",
            " 50%|█████     | 27/54 [00:05<00:04,  5.89it/s]\u001b[A\n",
            " 52%|█████▏    | 28/54 [00:05<00:04,  6.18it/s]\u001b[A\n",
            " 54%|█████▎    | 29/54 [00:05<00:04,  6.18it/s]\u001b[A\n",
            " 56%|█████▌    | 30/54 [00:05<00:03,  6.02it/s]\u001b[A\n",
            " 57%|█████▋    | 31/54 [00:05<00:04,  5.48it/s]\u001b[A\n",
            " 59%|█████▉    | 32/54 [00:05<00:03,  5.84it/s]\u001b[A\n",
            " 61%|██████    | 33/54 [00:06<00:03,  5.63it/s]\u001b[A\n",
            " 63%|██████▎   | 34/54 [00:06<00:03,  5.54it/s]\u001b[A\n",
            " 65%|██████▍   | 35/54 [00:06<00:03,  5.25it/s]\u001b[A\n",
            " 67%|██████▋   | 36/54 [00:06<00:03,  5.12it/s]\u001b[A\n",
            " 69%|██████▊   | 37/54 [00:06<00:03,  5.06it/s]\u001b[A\n",
            " 70%|███████   | 38/54 [00:07<00:03,  5.04it/s]\u001b[A\n",
            " 72%|███████▏  | 39/54 [00:07<00:03,  4.91it/s]\u001b[A\n",
            " 74%|███████▍  | 40/54 [00:07<00:02,  5.37it/s]\u001b[A\n",
            " 76%|███████▌  | 41/54 [00:07<00:02,  5.60it/s]\u001b[A\n",
            " 78%|███████▊  | 42/54 [00:07<00:02,  5.65it/s]\u001b[A\n",
            " 80%|███████▉  | 43/54 [00:08<00:02,  5.27it/s]\u001b[A\n",
            " 81%|████████▏ | 44/54 [00:08<00:01,  5.24it/s]\u001b[A\n",
            " 83%|████████▎ | 45/54 [00:08<00:01,  5.58it/s]\u001b[A\n",
            " 85%|████████▌ | 46/54 [00:08<00:01,  5.16it/s]\u001b[A\n",
            " 87%|████████▋ | 47/54 [00:08<00:01,  5.60it/s]\u001b[A\n",
            " 89%|████████▉ | 48/54 [00:08<00:01,  5.80it/s]\u001b[A\n",
            " 91%|█████████ | 49/54 [00:09<00:00,  5.42it/s]\u001b[A\n",
            " 93%|█████████▎| 50/54 [00:09<00:00,  5.69it/s]\u001b[A\n",
            " 94%|█████████▍| 51/54 [00:09<00:00,  5.60it/s]\u001b[A\n",
            " 96%|█████████▋| 52/54 [00:09<00:00,  5.39it/s]\u001b[A\n",
            " 98%|█████████▊| 53/54 [00:09<00:00,  4.91it/s]\u001b[A\n",
            "100%|██████████| 54/54 [00:10<00:00,  5.34it/s]\n",
            "\n",
            "  0%|          | 0/54 [00:00<?, ?it/s]\u001b[A"
          ],
          "name": "stderr"
        },
        {
          "output_type": "stream",
          "text": [
            "{'ner': 482.22587656135926}\n"
          ],
          "name": "stdout"
        },
        {
          "output_type": "stream",
          "text": [
            "\n",
            "  2%|▏         | 1/54 [00:00<00:12,  4.31it/s]\u001b[A\n",
            "  4%|▎         | 2/54 [00:00<00:11,  4.70it/s]\u001b[A\n",
            "  6%|▌         | 3/54 [00:00<00:10,  5.02it/s]\u001b[A\n",
            "  7%|▋         | 4/54 [00:00<00:10,  4.98it/s]\u001b[A\n",
            "  9%|▉         | 5/54 [00:00<00:09,  5.33it/s]\u001b[A\n",
            " 11%|█         | 6/54 [00:01<00:08,  5.72it/s]\u001b[A\n",
            " 13%|█▎        | 7/54 [00:01<00:09,  5.18it/s]\u001b[A\n",
            " 15%|█▍        | 8/54 [00:01<00:09,  5.08it/s]\u001b[A\n",
            " 17%|█▋        | 9/54 [00:01<00:09,  4.64it/s]\u001b[A\n",
            " 19%|█▊        | 10/54 [00:01<00:09,  4.83it/s]\u001b[A\n",
            " 20%|██        | 11/54 [00:02<00:08,  4.81it/s]\u001b[A\n",
            " 22%|██▏       | 12/54 [00:02<00:09,  4.48it/s]\u001b[A\n",
            " 24%|██▍       | 13/54 [00:02<00:08,  4.95it/s]\u001b[A\n",
            " 26%|██▌       | 14/54 [00:02<00:08,  4.57it/s]\u001b[A\n",
            " 28%|██▊       | 15/54 [00:03<00:08,  4.47it/s]\u001b[A\n",
            " 30%|██▉       | 16/54 [00:03<00:08,  4.69it/s]\u001b[A\n",
            " 31%|███▏      | 17/54 [00:03<00:07,  4.69it/s]\u001b[A\n",
            " 33%|███▎      | 18/54 [00:03<00:06,  5.15it/s]\u001b[A\n",
            " 35%|███▌      | 19/54 [00:03<00:06,  5.49it/s]\u001b[A\n",
            " 37%|███▋      | 20/54 [00:03<00:06,  5.26it/s]\u001b[A\n",
            " 39%|███▉      | 21/54 [00:04<00:06,  5.12it/s]\u001b[A\n",
            " 41%|████      | 22/54 [00:04<00:06,  5.27it/s]\u001b[A\n",
            " 43%|████▎     | 23/54 [00:04<00:05,  5.17it/s]\u001b[A\n",
            " 44%|████▍     | 24/54 [00:04<00:05,  5.51it/s]\u001b[A\n",
            " 46%|████▋     | 25/54 [00:04<00:05,  5.18it/s]\u001b[A\n",
            " 48%|████▊     | 26/54 [00:05<00:05,  5.42it/s]\u001b[A\n",
            " 50%|█████     | 27/54 [00:05<00:05,  5.00it/s]\u001b[A\n",
            " 52%|█████▏    | 28/54 [00:05<00:05,  4.68it/s]\u001b[A\n",
            " 54%|█████▎    | 29/54 [00:05<00:04,  5.15it/s]\u001b[A\n",
            " 56%|█████▌    | 30/54 [00:05<00:04,  5.12it/s]\u001b[A\n",
            " 57%|█████▋    | 31/54 [00:06<00:04,  5.38it/s]\u001b[A\n",
            " 59%|█████▉    | 32/54 [00:06<00:04,  4.78it/s]\u001b[A\n",
            " 61%|██████    | 33/54 [00:06<00:04,  5.18it/s]\u001b[A\n",
            " 63%|██████▎   | 34/54 [00:06<00:03,  5.30it/s]\u001b[A\n",
            " 65%|██████▍   | 35/54 [00:06<00:03,  5.44it/s]\u001b[A\n",
            " 67%|██████▋   | 36/54 [00:07<00:03,  4.89it/s]\u001b[A\n",
            " 69%|██████▊   | 37/54 [00:07<00:03,  5.19it/s]\u001b[A\n",
            " 70%|███████   | 38/54 [00:07<00:03,  5.01it/s]\u001b[A\n",
            " 72%|███████▏  | 39/54 [00:07<00:02,  5.09it/s]\u001b[A\n",
            " 74%|███████▍  | 40/54 [00:07<00:03,  4.63it/s]\u001b[A\n",
            " 76%|███████▌  | 41/54 [00:08<00:02,  4.70it/s]\u001b[A\n",
            " 78%|███████▊  | 42/54 [00:08<00:02,  4.40it/s]\u001b[A\n",
            " 80%|███████▉  | 43/54 [00:08<00:02,  4.36it/s]\u001b[A\n",
            " 81%|████████▏ | 44/54 [00:08<00:02,  4.53it/s]\u001b[A\n",
            " 83%|████████▎ | 45/54 [00:09<00:02,  4.47it/s]\u001b[A\n",
            " 85%|████████▌ | 46/54 [00:09<00:01,  4.82it/s]\u001b[A\n",
            " 87%|████████▋ | 47/54 [00:09<00:01,  5.28it/s]\u001b[A\n",
            " 89%|████████▉ | 48/54 [00:09<00:01,  4.87it/s]\u001b[A\n",
            " 91%|█████████ | 49/54 [00:09<00:00,  5.19it/s]\u001b[A\n",
            " 93%|█████████▎| 50/54 [00:09<00:00,  5.45it/s]\u001b[A\n",
            " 94%|█████████▍| 51/54 [00:10<00:00,  5.57it/s]\u001b[A\n",
            " 96%|█████████▋| 52/54 [00:10<00:00,  5.50it/s]\u001b[A\n",
            " 98%|█████████▊| 53/54 [00:10<00:00,  4.90it/s]\u001b[A\n",
            "100%|██████████| 54/54 [00:10<00:00,  5.02it/s]\n",
            "\n",
            "  0%|          | 0/54 [00:00<?, ?it/s]\u001b[A"
          ],
          "name": "stderr"
        },
        {
          "output_type": "stream",
          "text": [
            "{'ner': 525.2646048909653}\n"
          ],
          "name": "stdout"
        },
        {
          "output_type": "stream",
          "text": [
            "\n",
            "  2%|▏         | 1/54 [00:00<00:13,  3.94it/s]\u001b[A\n",
            "  4%|▎         | 2/54 [00:00<00:12,  4.14it/s]\u001b[A\n",
            "  6%|▌         | 3/54 [00:00<00:11,  4.52it/s]\u001b[A\n",
            "  7%|▋         | 4/54 [00:00<00:11,  4.51it/s]\u001b[A\n",
            "  9%|▉         | 5/54 [00:01<00:10,  4.86it/s]\u001b[A\n",
            " 11%|█         | 6/54 [00:01<00:08,  5.41it/s]\u001b[A\n",
            " 13%|█▎        | 7/54 [00:01<00:08,  5.42it/s]\u001b[A\n",
            " 15%|█▍        | 8/54 [00:01<00:09,  5.00it/s]\u001b[A\n",
            " 17%|█▋        | 9/54 [00:01<00:08,  5.33it/s]\u001b[A\n",
            " 19%|█▊        | 10/54 [00:01<00:08,  5.05it/s]\u001b[A\n",
            " 20%|██        | 11/54 [00:02<00:08,  5.23it/s]\u001b[A\n",
            " 22%|██▏       | 12/54 [00:02<00:08,  5.18it/s]\u001b[A\n",
            " 24%|██▍       | 13/54 [00:02<00:07,  5.39it/s]\u001b[A\n",
            " 26%|██▌       | 14/54 [00:02<00:08,  4.86it/s]\u001b[A\n",
            " 28%|██▊       | 15/54 [00:02<00:07,  4.92it/s]\u001b[A\n",
            " 30%|██▉       | 16/54 [00:03<00:08,  4.58it/s]\u001b[A\n",
            " 31%|███▏      | 17/54 [00:03<00:07,  4.74it/s]\u001b[A\n",
            " 33%|███▎      | 18/54 [00:03<00:07,  5.10it/s]\u001b[A\n",
            " 35%|███▌      | 19/54 [00:03<00:07,  4.97it/s]\u001b[A\n",
            " 37%|███▋      | 20/54 [00:03<00:06,  5.02it/s]\u001b[A\n",
            " 39%|███▉      | 21/54 [00:04<00:06,  5.04it/s]\u001b[A\n",
            " 41%|████      | 22/54 [00:04<00:05,  5.34it/s]\u001b[A\n",
            " 43%|████▎     | 23/54 [00:04<00:06,  5.01it/s]\u001b[A\n",
            " 44%|████▍     | 24/54 [00:04<00:06,  4.64it/s]\u001b[A\n",
            " 46%|████▋     | 25/54 [00:05<00:06,  4.71it/s]\u001b[A\n",
            " 48%|████▊     | 26/54 [00:05<00:06,  4.42it/s]\u001b[A\n",
            " 50%|█████     | 27/54 [00:05<00:05,  4.64it/s]\u001b[A\n",
            " 52%|█████▏    | 28/54 [00:05<00:05,  4.71it/s]\u001b[A\n",
            " 54%|█████▎    | 29/54 [00:05<00:05,  4.97it/s]\u001b[A\n",
            " 56%|█████▌    | 30/54 [00:06<00:04,  5.14it/s]\u001b[A\n",
            " 57%|█████▋    | 31/54 [00:06<00:04,  5.64it/s]\u001b[A\n",
            " 59%|█████▉    | 32/54 [00:06<00:03,  5.58it/s]\u001b[A\n",
            " 61%|██████    | 33/54 [00:06<00:03,  5.40it/s]\u001b[A\n",
            " 63%|██████▎   | 34/54 [00:06<00:03,  5.18it/s]\u001b[A\n",
            " 65%|██████▍   | 35/54 [00:06<00:03,  5.13it/s]\u001b[A\n",
            " 67%|██████▋   | 36/54 [00:07<00:03,  5.28it/s]\u001b[A\n",
            " 69%|██████▊   | 37/54 [00:07<00:03,  5.56it/s]\u001b[A\n",
            " 70%|███████   | 38/54 [00:07<00:02,  5.35it/s]\u001b[A\n",
            " 72%|███████▏  | 39/54 [00:07<00:02,  5.76it/s]\u001b[A\n",
            " 74%|███████▍  | 40/54 [00:07<00:02,  5.53it/s]\u001b[A\n",
            " 76%|███████▌  | 41/54 [00:08<00:02,  5.32it/s]\u001b[A\n",
            " 78%|███████▊  | 42/54 [00:08<00:02,  5.06it/s]\u001b[A\n",
            " 80%|███████▉  | 43/54 [00:08<00:02,  5.06it/s]\u001b[A\n",
            " 81%|████████▏ | 44/54 [00:08<00:01,  5.58it/s]\u001b[A\n",
            " 83%|████████▎ | 45/54 [00:08<00:01,  5.43it/s]\u001b[A\n",
            " 85%|████████▌ | 46/54 [00:08<00:01,  5.81it/s]\u001b[A\n",
            " 87%|████████▋ | 47/54 [00:09<00:01,  5.33it/s]\u001b[A\n",
            " 89%|████████▉ | 48/54 [00:09<00:01,  5.61it/s]\u001b[A\n",
            " 91%|█████████ | 49/54 [00:09<00:00,  5.51it/s]\u001b[A\n",
            " 93%|█████████▎| 50/54 [00:09<00:00,  5.99it/s]\u001b[A\n",
            " 94%|█████████▍| 51/54 [00:09<00:00,  5.67it/s]\u001b[A\n",
            " 96%|█████████▋| 52/54 [00:09<00:00,  5.99it/s]\u001b[A\n",
            " 98%|█████████▊| 53/54 [00:10<00:00,  6.31it/s]\u001b[A\n",
            "100%|██████████| 54/54 [00:10<00:00,  5.22it/s]\n",
            "\n",
            "  0%|          | 0/54 [00:00<?, ?it/s]\u001b[A\n",
            "  2%|▏         | 1/54 [00:00<00:07,  6.78it/s]\u001b[A"
          ],
          "name": "stderr"
        },
        {
          "output_type": "stream",
          "text": [
            "{'ner': 630.1749610967105}\n"
          ],
          "name": "stdout"
        },
        {
          "output_type": "stream",
          "text": [
            "\n",
            "  4%|▎         | 2/54 [00:00<00:08,  6.15it/s]\u001b[A\n",
            "  6%|▌         | 3/54 [00:00<00:08,  5.92it/s]\u001b[A\n",
            "  7%|▋         | 4/54 [00:00<00:08,  6.08it/s]\u001b[A\n",
            "  9%|▉         | 5/54 [00:00<00:08,  5.88it/s]\u001b[A\n",
            " 11%|█         | 6/54 [00:01<00:07,  6.07it/s]\u001b[A\n",
            " 13%|█▎        | 7/54 [00:01<00:07,  6.11it/s]\u001b[A\n",
            " 15%|█▍        | 8/54 [00:01<00:07,  6.10it/s]\u001b[A\n",
            " 17%|█▋        | 9/54 [00:01<00:08,  5.47it/s]\u001b[A\n",
            " 19%|█▊        | 10/54 [00:01<00:07,  5.65it/s]\u001b[A\n",
            " 20%|██        | 11/54 [00:01<00:07,  5.48it/s]\u001b[A\n",
            " 22%|██▏       | 12/54 [00:02<00:08,  5.03it/s]\u001b[A\n",
            " 24%|██▍       | 13/54 [00:02<00:08,  4.95it/s]\u001b[A\n",
            " 26%|██▌       | 14/54 [00:02<00:07,  5.23it/s]\u001b[A\n",
            " 28%|██▊       | 15/54 [00:02<00:07,  5.55it/s]\u001b[A\n",
            " 30%|██▉       | 16/54 [00:02<00:06,  5.74it/s]\u001b[A\n",
            " 31%|███▏      | 17/54 [00:03<00:07,  5.24it/s]\u001b[A\n",
            " 33%|███▎      | 18/54 [00:03<00:07,  4.91it/s]\u001b[A\n",
            " 35%|███▌      | 19/54 [00:03<00:06,  5.38it/s]\u001b[A\n",
            " 37%|███▋      | 20/54 [00:03<00:06,  5.47it/s]\u001b[A\n",
            " 39%|███▉      | 21/54 [00:03<00:06,  4.90it/s]\u001b[A\n",
            " 41%|████      | 22/54 [00:04<00:06,  5.22it/s]\u001b[A\n",
            " 43%|████▎     | 23/54 [00:04<00:06,  4.74it/s]\u001b[A\n",
            " 44%|████▍     | 24/54 [00:04<00:06,  4.44it/s]\u001b[A\n",
            " 46%|████▋     | 25/54 [00:04<00:06,  4.65it/s]\u001b[A\n",
            " 48%|████▊     | 26/54 [00:04<00:05,  4.88it/s]\u001b[A\n",
            " 50%|█████     | 27/54 [00:05<00:05,  5.21it/s]\u001b[A\n",
            " 52%|█████▏    | 28/54 [00:05<00:04,  5.70it/s]\u001b[A\n",
            " 54%|█████▎    | 29/54 [00:05<00:04,  5.95it/s]\u001b[A\n",
            " 56%|█████▌    | 30/54 [00:05<00:03,  6.15it/s]\u001b[A\n",
            " 57%|█████▋    | 31/54 [00:05<00:04,  5.44it/s]\u001b[A\n",
            " 59%|█████▉    | 32/54 [00:06<00:04,  4.96it/s]\u001b[A\n",
            " 61%|██████    | 33/54 [00:06<00:04,  4.92it/s]\u001b[A\n",
            " 63%|██████▎   | 34/54 [00:06<00:04,  4.85it/s]\u001b[A\n",
            " 65%|██████▍   | 35/54 [00:06<00:03,  5.07it/s]\u001b[A\n",
            " 67%|██████▋   | 36/54 [00:06<00:03,  5.52it/s]\u001b[A\n",
            " 69%|██████▊   | 37/54 [00:06<00:03,  5.62it/s]\u001b[A\n",
            " 70%|███████   | 38/54 [00:07<00:02,  5.83it/s]\u001b[A\n",
            " 72%|███████▏  | 39/54 [00:07<00:02,  5.77it/s]\u001b[A\n",
            " 74%|███████▍  | 40/54 [00:07<00:02,  5.96it/s]\u001b[A\n",
            " 76%|███████▌  | 41/54 [00:07<00:02,  5.11it/s]\u001b[A\n",
            " 78%|███████▊  | 42/54 [00:07<00:02,  5.45it/s]\u001b[A\n",
            " 80%|███████▉  | 43/54 [00:08<00:02,  5.03it/s]\u001b[A\n",
            " 81%|████████▏ | 44/54 [00:08<00:01,  5.33it/s]\u001b[A\n",
            " 83%|████████▎ | 45/54 [00:08<00:01,  5.35it/s]\u001b[A\n",
            " 85%|████████▌ | 46/54 [00:08<00:01,  4.98it/s]\u001b[A\n",
            " 87%|████████▋ | 47/54 [00:08<00:01,  5.01it/s]\u001b[A\n",
            " 89%|████████▉ | 48/54 [00:09<00:01,  4.66it/s]\u001b[A\n",
            " 91%|█████████ | 49/54 [00:09<00:01,  4.73it/s]\u001b[A\n",
            " 93%|█████████▎| 50/54 [00:09<00:00,  5.25it/s]\u001b[A\n",
            " 94%|█████████▍| 51/54 [00:09<00:00,  4.89it/s]\u001b[A\n",
            " 96%|█████████▋| 52/54 [00:09<00:00,  5.29it/s]\u001b[A\n",
            " 98%|█████████▊| 53/54 [00:10<00:00,  5.18it/s]\u001b[A\n",
            "100%|██████████| 54/54 [00:10<00:00,  5.28it/s]\n",
            "\n",
            "  0%|          | 0/54 [00:00<?, ?it/s]\u001b[A\n",
            "  2%|▏         | 1/54 [00:00<00:07,  6.75it/s]\u001b[A"
          ],
          "name": "stderr"
        },
        {
          "output_type": "stream",
          "text": [
            "{'ner': 447.8429523874411}\n"
          ],
          "name": "stdout"
        },
        {
          "output_type": "stream",
          "text": [
            "\n",
            "  4%|▎         | 2/54 [00:00<00:08,  6.26it/s]\u001b[A\n",
            "  6%|▌         | 3/54 [00:00<00:08,  5.69it/s]\u001b[A\n",
            "  7%|▋         | 4/54 [00:00<00:10,  4.96it/s]\u001b[A\n",
            "  9%|▉         | 5/54 [00:00<00:09,  5.41it/s]\u001b[A\n",
            " 11%|█         | 6/54 [00:01<00:09,  5.32it/s]\u001b[A\n",
            " 13%|█▎        | 7/54 [00:01<00:08,  5.29it/s]\u001b[A\n",
            " 15%|█▍        | 8/54 [00:01<00:08,  5.51it/s]\u001b[A\n",
            " 17%|█▋        | 9/54 [00:01<00:08,  5.01it/s]\u001b[A\n",
            " 19%|█▊        | 10/54 [00:01<00:08,  4.96it/s]\u001b[A\n",
            " 20%|██        | 11/54 [00:02<00:08,  4.86it/s]\u001b[A\n",
            " 22%|██▏       | 12/54 [00:02<00:08,  4.78it/s]\u001b[A\n",
            " 24%|██▍       | 13/54 [00:02<00:07,  5.21it/s]\u001b[A\n",
            " 26%|██▌       | 14/54 [00:02<00:07,  5.24it/s]\u001b[A\n",
            " 28%|██▊       | 15/54 [00:02<00:07,  5.28it/s]\u001b[A\n",
            " 30%|██▉       | 16/54 [00:03<00:07,  5.37it/s]\u001b[A\n",
            " 31%|███▏      | 17/54 [00:03<00:06,  5.38it/s]\u001b[A\n",
            " 33%|███▎      | 18/54 [00:03<00:06,  5.77it/s]\u001b[A\n",
            " 35%|███▌      | 19/54 [00:03<00:05,  5.91it/s]\u001b[A\n",
            " 37%|███▋      | 20/54 [00:03<00:05,  5.96it/s]\u001b[A\n",
            " 39%|███▉      | 21/54 [00:03<00:06,  5.43it/s]\u001b[A\n",
            " 41%|████      | 22/54 [00:04<00:05,  5.34it/s]\u001b[A\n",
            " 43%|████▎     | 23/54 [00:04<00:06,  4.71it/s]\u001b[A\n",
            " 44%|████▍     | 24/54 [00:04<00:06,  4.46it/s]\u001b[A\n",
            " 46%|████▋     | 25/54 [00:04<00:06,  4.37it/s]\u001b[A\n",
            " 48%|████▊     | 26/54 [00:05<00:05,  4.70it/s]\u001b[A\n",
            " 50%|█████     | 27/54 [00:05<00:05,  4.87it/s]\u001b[A\n",
            " 52%|█████▏    | 28/54 [00:05<00:04,  5.26it/s]\u001b[A\n",
            " 54%|█████▎    | 29/54 [00:05<00:04,  5.01it/s]\u001b[A\n",
            " 56%|█████▌    | 30/54 [00:05<00:04,  4.91it/s]\u001b[A\n",
            " 57%|█████▋    | 31/54 [00:06<00:04,  4.87it/s]\u001b[A\n",
            " 59%|█████▉    | 32/54 [00:06<00:04,  5.00it/s]\u001b[A\n",
            " 61%|██████    | 33/54 [00:06<00:03,  5.38it/s]\u001b[A\n",
            " 63%|██████▎   | 34/54 [00:06<00:03,  5.22it/s]\u001b[A\n",
            " 65%|██████▍   | 35/54 [00:06<00:04,  4.64it/s]\u001b[A\n",
            " 67%|██████▋   | 36/54 [00:07<00:03,  5.02it/s]\u001b[A\n",
            " 69%|██████▊   | 37/54 [00:07<00:03,  5.44it/s]\u001b[A\n",
            " 70%|███████   | 38/54 [00:07<00:02,  5.52it/s]\u001b[A\n",
            " 72%|███████▏  | 39/54 [00:07<00:02,  5.37it/s]\u001b[A\n",
            " 74%|███████▍  | 40/54 [00:07<00:02,  4.98it/s]\u001b[A\n",
            " 76%|███████▌  | 41/54 [00:08<00:02,  5.12it/s]\u001b[A\n",
            " 78%|███████▊  | 42/54 [00:08<00:02,  5.42it/s]\u001b[A\n",
            " 80%|███████▉  | 43/54 [00:08<00:02,  5.47it/s]\u001b[A\n",
            " 81%|████████▏ | 44/54 [00:08<00:01,  5.28it/s]\u001b[A\n",
            " 83%|████████▎ | 45/54 [00:08<00:01,  4.72it/s]\u001b[A\n",
            " 85%|████████▌ | 46/54 [00:08<00:01,  4.97it/s]\u001b[A\n",
            " 87%|████████▋ | 47/54 [00:09<00:01,  5.23it/s]\u001b[A\n",
            " 89%|████████▉ | 48/54 [00:09<00:01,  5.52it/s]\u001b[A\n",
            " 91%|█████████ | 49/54 [00:09<00:00,  5.25it/s]\u001b[A\n",
            " 93%|█████████▎| 50/54 [00:09<00:00,  4.69it/s]\u001b[A\n",
            " 94%|█████████▍| 51/54 [00:09<00:00,  4.80it/s]\u001b[A\n",
            " 96%|█████████▋| 52/54 [00:10<00:00,  4.76it/s]\u001b[A\n",
            " 98%|█████████▊| 53/54 [00:10<00:00,  5.22it/s]\u001b[A\n",
            "100%|██████████| 54/54 [00:10<00:00,  5.15it/s]\n",
            "\n",
            "  0%|          | 0/54 [00:00<?, ?it/s]\u001b[A"
          ],
          "name": "stderr"
        },
        {
          "output_type": "stream",
          "text": [
            "{'ner': 508.21082977898624}\n"
          ],
          "name": "stdout"
        },
        {
          "output_type": "stream",
          "text": [
            "\n",
            "  2%|▏         | 1/54 [00:00<00:11,  4.79it/s]\u001b[A\n",
            "  4%|▎         | 2/54 [00:00<00:09,  5.25it/s]\u001b[A\n",
            "  6%|▌         | 3/54 [00:00<00:09,  5.50it/s]\u001b[A\n",
            "  7%|▋         | 4/54 [00:00<00:09,  5.30it/s]\u001b[A\n",
            "  9%|▉         | 5/54 [00:00<00:08,  5.55it/s]\u001b[A\n",
            " 11%|█         | 6/54 [00:01<00:09,  4.98it/s]\u001b[A\n",
            " 13%|█▎        | 7/54 [00:01<00:09,  5.08it/s]\u001b[A\n",
            " 15%|█▍        | 8/54 [00:01<00:09,  5.02it/s]\u001b[A\n",
            " 17%|█▋        | 9/54 [00:01<00:08,  5.51it/s]\u001b[A\n",
            " 19%|█▊        | 10/54 [00:01<00:08,  4.98it/s]\u001b[A\n",
            " 20%|██        | 11/54 [00:02<00:08,  4.98it/s]\u001b[A\n",
            " 22%|██▏       | 12/54 [00:02<00:08,  4.97it/s]\u001b[A\n",
            " 24%|██▍       | 13/54 [00:02<00:07,  5.39it/s]\u001b[A\n",
            " 26%|██▌       | 14/54 [00:02<00:07,  5.14it/s]\u001b[A\n",
            " 28%|██▊       | 15/54 [00:02<00:07,  4.93it/s]\u001b[A\n",
            " 30%|██▉       | 16/54 [00:03<00:07,  5.22it/s]\u001b[A\n",
            " 31%|███▏      | 17/54 [00:03<00:07,  5.22it/s]\u001b[A\n",
            " 33%|███▎      | 18/54 [00:03<00:06,  5.52it/s]\u001b[A\n",
            " 35%|███▌      | 19/54 [00:03<00:06,  5.31it/s]\u001b[A\n",
            " 37%|███▋      | 20/54 [00:03<00:06,  5.36it/s]\u001b[A\n",
            " 39%|███▉      | 21/54 [00:04<00:06,  5.24it/s]\u001b[A\n",
            " 41%|████      | 22/54 [00:04<00:06,  5.07it/s]\u001b[A\n",
            " 43%|████▎     | 23/54 [00:04<00:06,  4.99it/s]\u001b[A\n",
            " 44%|████▍     | 24/54 [00:04<00:05,  5.36it/s]\u001b[A\n",
            " 46%|████▋     | 25/54 [00:04<00:05,  5.36it/s]\u001b[A\n",
            " 48%|████▊     | 26/54 [00:04<00:05,  5.12it/s]\u001b[A\n",
            " 50%|█████     | 27/54 [00:05<00:05,  5.36it/s]\u001b[A\n",
            " 52%|█████▏    | 28/54 [00:05<00:04,  5.22it/s]\u001b[A\n",
            " 54%|█████▎    | 29/54 [00:05<00:04,  5.66it/s]\u001b[A\n",
            " 56%|█████▌    | 30/54 [00:05<00:04,  6.00it/s]\u001b[A\n",
            " 57%|█████▋    | 31/54 [00:05<00:04,  5.39it/s]\u001b[A\n",
            " 59%|█████▉    | 32/54 [00:06<00:03,  5.61it/s]\u001b[A\n",
            " 61%|██████    | 33/54 [00:06<00:03,  5.87it/s]\u001b[A\n",
            " 63%|██████▎   | 34/54 [00:06<00:03,  5.63it/s]\u001b[A\n",
            " 65%|██████▍   | 35/54 [00:06<00:03,  6.07it/s]\u001b[A\n",
            " 67%|██████▋   | 36/54 [00:06<00:03,  5.80it/s]\u001b[A\n",
            " 69%|██████▊   | 37/54 [00:06<00:02,  6.02it/s]\u001b[A\n",
            " 70%|███████   | 38/54 [00:07<00:02,  6.11it/s]\u001b[A\n",
            " 72%|███████▏  | 39/54 [00:07<00:02,  5.70it/s]\u001b[A\n",
            " 74%|███████▍  | 40/54 [00:07<00:02,  5.37it/s]\u001b[A\n",
            " 76%|███████▌  | 41/54 [00:07<00:02,  5.19it/s]\u001b[A\n",
            " 78%|███████▊  | 42/54 [00:07<00:02,  5.16it/s]\u001b[A\n",
            " 80%|███████▉  | 43/54 [00:08<00:02,  5.23it/s]\u001b[A\n",
            " 81%|████████▏ | 44/54 [00:08<00:01,  5.64it/s]\u001b[A\n",
            " 83%|████████▎ | 45/54 [00:08<00:01,  5.72it/s]\u001b[A\n",
            " 85%|████████▌ | 46/54 [00:08<00:01,  5.99it/s]\u001b[A\n",
            " 87%|████████▋ | 47/54 [00:08<00:01,  5.57it/s]\u001b[A\n",
            " 89%|████████▉ | 48/54 [00:08<00:01,  5.35it/s]\u001b[A\n",
            " 91%|█████████ | 49/54 [00:09<00:01,  5.00it/s]\u001b[A\n",
            " 93%|█████████▎| 50/54 [00:09<00:00,  5.51it/s]\u001b[A\n",
            " 94%|█████████▍| 51/54 [00:09<00:00,  4.91it/s]\u001b[A\n",
            " 96%|█████████▋| 52/54 [00:09<00:00,  5.22it/s]\u001b[A\n",
            " 98%|█████████▊| 53/54 [00:09<00:00,  4.74it/s]\u001b[A\n",
            "100%|██████████| 54/54 [00:10<00:00,  5.34it/s]\n",
            "\n",
            "  0%|          | 0/54 [00:00<?, ?it/s]\u001b[A"
          ],
          "name": "stderr"
        },
        {
          "output_type": "stream",
          "text": [
            "{'ner': 442.840827468622}\n"
          ],
          "name": "stdout"
        },
        {
          "output_type": "stream",
          "text": [
            "\n",
            "  2%|▏         | 1/54 [00:00<00:12,  4.41it/s]\u001b[A\n",
            "  4%|▎         | 2/54 [00:00<00:12,  4.28it/s]\u001b[A\n",
            "  6%|▌         | 3/54 [00:00<00:11,  4.28it/s]\u001b[A\n",
            "  7%|▋         | 4/54 [00:00<00:11,  4.38it/s]\u001b[A\n",
            "  9%|▉         | 5/54 [00:01<00:10,  4.54it/s]\u001b[A\n",
            " 11%|█         | 6/54 [00:01<00:10,  4.79it/s]\u001b[A\n",
            " 13%|█▎        | 7/54 [00:01<00:09,  5.21it/s]\u001b[A\n",
            " 15%|█▍        | 8/54 [00:01<00:08,  5.22it/s]\u001b[A\n",
            " 17%|█▋        | 9/54 [00:01<00:08,  5.18it/s]\u001b[A\n",
            " 19%|█▊        | 10/54 [00:02<00:08,  5.22it/s]\u001b[A\n",
            " 20%|██        | 11/54 [00:02<00:08,  5.28it/s]\u001b[A\n",
            " 22%|██▏       | 12/54 [00:02<00:07,  5.31it/s]\u001b[A\n",
            " 24%|██▍       | 13/54 [00:02<00:07,  5.29it/s]\u001b[A\n",
            " 26%|██▌       | 14/54 [00:02<00:07,  5.45it/s]\u001b[A\n",
            " 28%|██▊       | 15/54 [00:02<00:07,  5.38it/s]\u001b[A\n",
            " 30%|██▉       | 16/54 [00:03<00:07,  5.41it/s]\u001b[A\n",
            " 31%|███▏      | 17/54 [00:03<00:07,  5.20it/s]\u001b[A\n",
            " 33%|███▎      | 18/54 [00:03<00:06,  5.55it/s]\u001b[A\n",
            " 35%|███▌      | 19/54 [00:03<00:05,  5.94it/s]\u001b[A\n",
            " 37%|███▋      | 20/54 [00:03<00:06,  5.33it/s]\u001b[A\n",
            " 39%|███▉      | 21/54 [00:04<00:05,  5.58it/s]\u001b[A\n",
            " 41%|████      | 22/54 [00:04<00:05,  5.35it/s]\u001b[A\n",
            " 43%|████▎     | 23/54 [00:04<00:05,  5.38it/s]\u001b[A\n",
            " 44%|████▍     | 24/54 [00:04<00:06,  4.79it/s]\u001b[A\n",
            " 46%|████▋     | 25/54 [00:04<00:05,  4.83it/s]\u001b[A\n",
            " 48%|████▊     | 26/54 [00:05<00:05,  4.75it/s]\u001b[A\n",
            " 50%|█████     | 27/54 [00:05<00:05,  4.59it/s]\u001b[A\n",
            " 52%|█████▏    | 28/54 [00:05<00:05,  4.51it/s]\u001b[A\n",
            " 54%|█████▎    | 29/54 [00:05<00:05,  4.36it/s]\u001b[A\n",
            " 56%|█████▌    | 30/54 [00:05<00:04,  4.94it/s]\u001b[A\n",
            " 57%|█████▋    | 31/54 [00:06<00:04,  4.80it/s]\u001b[A\n",
            " 59%|█████▉    | 32/54 [00:06<00:04,  5.03it/s]\u001b[A\n",
            " 61%|██████    | 33/54 [00:06<00:04,  4.91it/s]\u001b[A\n",
            " 63%|██████▎   | 34/54 [00:06<00:04,  4.50it/s]\u001b[A\n",
            " 65%|██████▍   | 35/54 [00:07<00:04,  4.57it/s]\u001b[A\n",
            " 67%|██████▋   | 36/54 [00:07<00:03,  4.65it/s]\u001b[A\n",
            " 69%|██████▊   | 37/54 [00:07<00:03,  4.91it/s]\u001b[A\n",
            " 70%|███████   | 38/54 [00:07<00:03,  4.68it/s]\u001b[A\n",
            " 72%|███████▏  | 39/54 [00:07<00:02,  5.13it/s]\u001b[A\n",
            " 74%|███████▍  | 40/54 [00:07<00:02,  5.29it/s]\u001b[A\n",
            " 76%|███████▌  | 41/54 [00:08<00:02,  4.95it/s]\u001b[A\n",
            " 78%|███████▊  | 42/54 [00:08<00:02,  5.38it/s]\u001b[A\n",
            " 80%|███████▉  | 43/54 [00:08<00:01,  5.59it/s]\u001b[A\n",
            " 81%|████████▏ | 44/54 [00:08<00:01,  5.95it/s]\u001b[A\n",
            " 83%|████████▎ | 45/54 [00:08<00:01,  5.54it/s]\u001b[A\n",
            " 85%|████████▌ | 46/54 [00:09<00:01,  5.43it/s]\u001b[A\n",
            " 87%|████████▋ | 47/54 [00:09<00:01,  4.88it/s]\u001b[A\n",
            " 89%|████████▉ | 48/54 [00:09<00:01,  5.01it/s]\u001b[A\n",
            " 91%|█████████ | 49/54 [00:09<00:01,  4.94it/s]\u001b[A\n",
            " 93%|█████████▎| 50/54 [00:09<00:00,  5.15it/s]\u001b[A\n",
            " 94%|█████████▍| 51/54 [00:10<00:00,  5.28it/s]\u001b[A\n",
            " 96%|█████████▋| 52/54 [00:10<00:00,  5.55it/s]\u001b[A\n",
            " 98%|█████████▊| 53/54 [00:10<00:00,  5.91it/s]\u001b[A\n",
            "100%|██████████| 54/54 [00:10<00:00,  5.10it/s]\n",
            "\n",
            "  0%|          | 0/54 [00:00<?, ?it/s]\u001b[A"
          ],
          "name": "stderr"
        },
        {
          "output_type": "stream",
          "text": [
            "{'ner': 421.5708455275917}\n"
          ],
          "name": "stdout"
        },
        {
          "output_type": "stream",
          "text": [
            "\n",
            "  2%|▏         | 1/54 [00:00<00:11,  4.54it/s]\u001b[A\n",
            "  4%|▎         | 2/54 [00:00<00:10,  4.74it/s]\u001b[A\n",
            "  6%|▌         | 3/54 [00:00<00:10,  4.95it/s]\u001b[A\n",
            "  7%|▋         | 4/54 [00:00<00:10,  4.90it/s]\u001b[A\n",
            "  9%|▉         | 5/54 [00:00<00:09,  5.08it/s]\u001b[A\n",
            " 11%|█         | 6/54 [00:01<00:09,  5.32it/s]\u001b[A\n",
            " 13%|█▎        | 7/54 [00:01<00:08,  5.42it/s]\u001b[A\n",
            " 15%|█▍        | 8/54 [00:01<00:09,  4.98it/s]\u001b[A\n",
            " 17%|█▋        | 9/54 [00:01<00:08,  5.47it/s]\u001b[A\n",
            " 19%|█▊        | 10/54 [00:01<00:08,  5.15it/s]\u001b[A\n",
            " 20%|██        | 11/54 [00:02<00:08,  5.24it/s]\u001b[A\n",
            " 22%|██▏       | 12/54 [00:02<00:08,  4.83it/s]\u001b[A\n",
            " 24%|██▍       | 13/54 [00:02<00:07,  5.35it/s]\u001b[A\n",
            " 26%|██▌       | 14/54 [00:02<00:06,  5.84it/s]\u001b[A\n",
            " 28%|██▊       | 15/54 [00:02<00:07,  5.38it/s]\u001b[A\n",
            " 30%|██▉       | 16/54 [00:02<00:06,  5.82it/s]\u001b[A\n",
            " 31%|███▏      | 17/54 [00:03<00:07,  5.10it/s]\u001b[A\n",
            " 33%|███▎      | 18/54 [00:03<00:06,  5.39it/s]\u001b[A\n",
            " 35%|███▌      | 19/54 [00:03<00:06,  5.34it/s]\u001b[A\n",
            " 37%|███▋      | 20/54 [00:03<00:06,  5.61it/s]\u001b[A\n",
            " 39%|███▉      | 21/54 [00:03<00:06,  5.37it/s]\u001b[A\n",
            " 41%|████      | 22/54 [00:04<00:06,  5.15it/s]\u001b[A\n",
            " 43%|████▎     | 23/54 [00:04<00:05,  5.29it/s]\u001b[A\n",
            " 44%|████▍     | 24/54 [00:04<00:06,  4.80it/s]\u001b[A\n",
            " 46%|████▋     | 25/54 [00:04<00:05,  5.16it/s]\u001b[A\n",
            " 48%|████▊     | 26/54 [00:05<00:05,  4.72it/s]\u001b[A\n",
            " 50%|█████     | 27/54 [00:05<00:06,  4.46it/s]\u001b[A\n",
            " 52%|█████▏    | 28/54 [00:05<00:06,  4.21it/s]\u001b[A\n",
            " 54%|█████▎    | 29/54 [00:05<00:05,  4.44it/s]\u001b[A\n",
            " 56%|█████▌    | 30/54 [00:05<00:05,  4.58it/s]\u001b[A\n",
            " 57%|█████▋    | 31/54 [00:06<00:04,  4.94it/s]\u001b[A\n",
            " 59%|█████▉    | 32/54 [00:06<00:04,  4.92it/s]\u001b[A\n",
            " 61%|██████    | 33/54 [00:06<00:04,  4.93it/s]\u001b[A\n",
            " 63%|██████▎   | 34/54 [00:06<00:03,  5.09it/s]\u001b[A\n",
            " 65%|██████▍   | 35/54 [00:06<00:03,  4.97it/s]\u001b[A\n",
            " 67%|██████▋   | 36/54 [00:07<00:03,  5.44it/s]\u001b[A\n",
            " 69%|██████▊   | 37/54 [00:07<00:03,  5.34it/s]\u001b[A\n",
            " 70%|███████   | 38/54 [00:07<00:03,  4.91it/s]\u001b[A\n",
            " 72%|███████▏  | 39/54 [00:07<00:03,  4.51it/s]\u001b[A\n",
            " 74%|███████▍  | 40/54 [00:07<00:03,  4.63it/s]\u001b[A\n",
            " 76%|███████▌  | 41/54 [00:08<00:02,  4.56it/s]\u001b[A\n",
            " 78%|███████▊  | 42/54 [00:08<00:02,  5.16it/s]\u001b[A\n",
            " 80%|███████▉  | 43/54 [00:08<00:02,  5.41it/s]\u001b[A\n",
            " 81%|████████▏ | 44/54 [00:08<00:01,  5.35it/s]\u001b[A\n",
            " 83%|████████▎ | 45/54 [00:08<00:01,  5.22it/s]\u001b[A\n",
            " 85%|████████▌ | 46/54 [00:09<00:01,  4.79it/s]\u001b[A\n",
            " 87%|████████▋ | 47/54 [00:09<00:01,  4.79it/s]\u001b[A\n",
            " 89%|████████▉ | 48/54 [00:09<00:01,  4.78it/s]\u001b[A\n",
            " 91%|█████████ | 49/54 [00:09<00:00,  5.13it/s]\u001b[A\n",
            " 93%|█████████▎| 50/54 [00:09<00:00,  5.64it/s]\u001b[A\n",
            " 94%|█████████▍| 51/54 [00:10<00:00,  5.24it/s]\u001b[A\n",
            " 96%|█████████▋| 52/54 [00:10<00:00,  5.69it/s]\u001b[A\n",
            " 98%|█████████▊| 53/54 [00:10<00:00,  5.01it/s]\u001b[A\n",
            "100%|██████████| 54/54 [00:10<00:00,  5.06it/s]\n",
            "\n",
            "  0%|          | 0/54 [00:00<?, ?it/s]\u001b[A\n",
            "  2%|▏         | 1/54 [00:00<00:07,  7.04it/s]\u001b[A"
          ],
          "name": "stderr"
        },
        {
          "output_type": "stream",
          "text": [
            "{'ner': 321.35674260688967}\n"
          ],
          "name": "stdout"
        },
        {
          "output_type": "stream",
          "text": [
            "\n",
            "  4%|▎         | 2/54 [00:00<00:09,  5.72it/s]\u001b[A\n",
            "  6%|▌         | 3/54 [00:00<00:10,  5.07it/s]\u001b[A\n",
            "  7%|▋         | 4/54 [00:00<00:09,  5.18it/s]\u001b[A\n",
            "  9%|▉         | 5/54 [00:00<00:09,  5.36it/s]\u001b[A\n",
            " 11%|█         | 6/54 [00:01<00:08,  5.79it/s]\u001b[A\n",
            " 13%|█▎        | 7/54 [00:01<00:07,  6.00it/s]\u001b[A\n",
            " 15%|█▍        | 8/54 [00:01<00:08,  5.67it/s]\u001b[A\n",
            " 17%|█▋        | 9/54 [00:01<00:07,  5.87it/s]\u001b[A\n",
            " 19%|█▊        | 10/54 [00:01<00:07,  5.69it/s]\u001b[A\n",
            " 20%|██        | 11/54 [00:02<00:07,  5.68it/s]\u001b[A\n",
            " 22%|██▏       | 12/54 [00:02<00:08,  5.07it/s]\u001b[A\n",
            " 24%|██▍       | 13/54 [00:02<00:07,  5.22it/s]\u001b[A\n",
            " 26%|██▌       | 14/54 [00:02<00:08,  4.95it/s]\u001b[A\n",
            " 28%|██▊       | 15/54 [00:02<00:07,  5.30it/s]\u001b[A\n",
            " 30%|██▉       | 16/54 [00:02<00:06,  5.53it/s]\u001b[A\n",
            " 31%|███▏      | 17/54 [00:03<00:06,  5.58it/s]\u001b[A\n",
            " 33%|███▎      | 18/54 [00:03<00:06,  5.51it/s]\u001b[A\n",
            " 35%|███▌      | 19/54 [00:03<00:06,  5.49it/s]\u001b[A\n",
            " 37%|███▋      | 20/54 [00:03<00:06,  4.96it/s]\u001b[A\n",
            " 39%|███▉      | 21/54 [00:03<00:06,  4.96it/s]\u001b[A\n",
            " 41%|████      | 22/54 [00:04<00:05,  5.37it/s]\u001b[A\n",
            " 43%|████▎     | 23/54 [00:04<00:05,  5.83it/s]\u001b[A\n",
            " 44%|████▍     | 24/54 [00:04<00:05,  5.31it/s]\u001b[A\n",
            " 46%|████▋     | 25/54 [00:04<00:06,  4.78it/s]\u001b[A\n",
            " 48%|████▊     | 26/54 [00:04<00:05,  4.74it/s]\u001b[A\n",
            " 50%|█████     | 27/54 [00:05<00:05,  5.12it/s]\u001b[A\n",
            " 52%|█████▏    | 28/54 [00:05<00:04,  5.64it/s]\u001b[A\n",
            " 54%|█████▎    | 29/54 [00:05<00:05,  4.90it/s]\u001b[A\n",
            " 56%|█████▌    | 30/54 [00:05<00:04,  5.03it/s]\u001b[A\n",
            " 57%|█████▋    | 31/54 [00:05<00:04,  4.95it/s]\u001b[A\n",
            " 59%|█████▉    | 32/54 [00:06<00:04,  5.34it/s]\u001b[A\n",
            " 61%|██████    | 33/54 [00:06<00:04,  5.22it/s]\u001b[A\n",
            " 63%|██████▎   | 34/54 [00:06<00:03,  5.31it/s]\u001b[A\n",
            " 65%|██████▍   | 35/54 [00:06<00:03,  5.08it/s]\u001b[A\n",
            " 67%|██████▋   | 36/54 [00:06<00:03,  4.73it/s]\u001b[A\n",
            " 69%|██████▊   | 37/54 [00:07<00:03,  4.79it/s]\u001b[A\n",
            " 70%|███████   | 38/54 [00:07<00:03,  4.80it/s]\u001b[A\n",
            " 72%|███████▏  | 39/54 [00:07<00:03,  4.72it/s]\u001b[A\n",
            " 74%|███████▍  | 40/54 [00:07<00:02,  5.11it/s]\u001b[A\n",
            " 76%|███████▌  | 41/54 [00:07<00:02,  4.84it/s]\u001b[A\n",
            " 78%|███████▊  | 42/54 [00:08<00:02,  5.07it/s]\u001b[A\n",
            " 80%|███████▉  | 43/54 [00:08<00:02,  4.69it/s]\u001b[A\n",
            " 81%|████████▏ | 44/54 [00:08<00:01,  5.04it/s]\u001b[A\n",
            " 83%|████████▎ | 45/54 [00:08<00:01,  5.16it/s]\u001b[A\n",
            " 85%|████████▌ | 46/54 [00:08<00:01,  4.62it/s]\u001b[A\n",
            " 87%|████████▋ | 47/54 [00:09<00:01,  5.00it/s]\u001b[A\n",
            " 89%|████████▉ | 48/54 [00:09<00:01,  4.93it/s]\u001b[A\n",
            " 91%|█████████ | 49/54 [00:09<00:00,  5.20it/s]\u001b[A\n",
            " 93%|█████████▎| 50/54 [00:09<00:00,  5.43it/s]\u001b[A\n",
            " 94%|█████████▍| 51/54 [00:09<00:00,  4.84it/s]\u001b[A\n",
            " 96%|█████████▋| 52/54 [00:10<00:00,  4.57it/s]\u001b[A\n",
            " 98%|█████████▊| 53/54 [00:10<00:00,  4.34it/s]\u001b[A\n",
            "100%|██████████| 54/54 [00:10<00:00,  5.08it/s]\n",
            "\n",
            "  0%|          | 0/54 [00:00<?, ?it/s]\u001b[A\n",
            "  2%|▏         | 1/54 [00:00<00:07,  7.09it/s]\u001b[A"
          ],
          "name": "stderr"
        },
        {
          "output_type": "stream",
          "text": [
            "{'ner': 360.050028271016}\n"
          ],
          "name": "stdout"
        },
        {
          "output_type": "stream",
          "text": [
            "\n",
            "  4%|▎         | 2/54 [00:00<00:08,  6.21it/s]\u001b[A\n",
            "  6%|▌         | 3/54 [00:00<00:09,  5.53it/s]\u001b[A\n",
            "  7%|▋         | 4/54 [00:00<00:09,  5.27it/s]\u001b[A\n",
            "  9%|▉         | 5/54 [00:00<00:09,  5.25it/s]\u001b[A\n",
            " 11%|█         | 6/54 [00:01<00:09,  5.27it/s]\u001b[A\n",
            " 13%|█▎        | 7/54 [00:01<00:08,  5.53it/s]\u001b[A\n",
            " 15%|█▍        | 8/54 [00:01<00:08,  5.30it/s]\u001b[A\n",
            " 17%|█▋        | 9/54 [00:01<00:08,  5.22it/s]\u001b[A\n",
            " 19%|█▊        | 10/54 [00:01<00:08,  5.11it/s]\u001b[A\n",
            " 20%|██        | 11/54 [00:02<00:08,  5.28it/s]\u001b[A\n",
            " 22%|██▏       | 12/54 [00:02<00:07,  5.37it/s]\u001b[A\n",
            " 24%|██▍       | 13/54 [00:02<00:07,  5.82it/s]\u001b[A\n",
            " 26%|██▌       | 14/54 [00:02<00:07,  5.66it/s]\u001b[A\n",
            " 28%|██▊       | 15/54 [00:02<00:06,  5.72it/s]\u001b[A\n",
            " 30%|██▉       | 16/54 [00:03<00:07,  4.95it/s]\u001b[A\n",
            " 31%|███▏      | 17/54 [00:03<00:06,  5.45it/s]\u001b[A\n",
            " 33%|███▎      | 18/54 [00:03<00:07,  4.96it/s]\u001b[A\n",
            " 35%|███▌      | 19/54 [00:03<00:07,  5.00it/s]\u001b[A\n",
            " 37%|███▋      | 20/54 [00:03<00:06,  5.48it/s]\u001b[A\n",
            " 39%|███▉      | 21/54 [00:03<00:06,  5.40it/s]\u001b[A\n",
            " 41%|████      | 22/54 [00:04<00:05,  5.44it/s]\u001b[A\n",
            " 43%|████▎     | 23/54 [00:04<00:05,  5.59it/s]\u001b[A\n",
            " 44%|████▍     | 24/54 [00:04<00:05,  5.93it/s]\u001b[A\n",
            " 46%|████▋     | 25/54 [00:04<00:05,  5.57it/s]\u001b[A\n",
            " 48%|████▊     | 26/54 [00:04<00:04,  5.72it/s]\u001b[A\n",
            " 50%|█████     | 27/54 [00:05<00:04,  5.54it/s]\u001b[A\n",
            " 52%|█████▏    | 28/54 [00:05<00:04,  5.37it/s]\u001b[A\n",
            " 54%|█████▎    | 29/54 [00:05<00:04,  5.44it/s]\u001b[A\n",
            " 56%|█████▌    | 30/54 [00:05<00:04,  4.98it/s]\u001b[A\n",
            " 57%|█████▋    | 31/54 [00:05<00:04,  5.25it/s]\u001b[A\n",
            " 59%|█████▉    | 32/54 [00:06<00:04,  4.87it/s]\u001b[A\n",
            " 61%|██████    | 33/54 [00:06<00:03,  5.25it/s]\u001b[A\n",
            " 63%|██████▎   | 34/54 [00:06<00:04,  4.75it/s]\u001b[A\n",
            " 65%|██████▍   | 35/54 [00:06<00:04,  4.65it/s]\u001b[A\n",
            " 67%|██████▋   | 36/54 [00:06<00:03,  4.65it/s]\u001b[A\n",
            " 69%|██████▊   | 37/54 [00:07<00:03,  4.54it/s]\u001b[A\n",
            " 70%|███████   | 38/54 [00:07<00:03,  4.50it/s]\u001b[A\n",
            " 72%|███████▏  | 39/54 [00:07<00:03,  4.88it/s]\u001b[A\n",
            " 74%|███████▍  | 40/54 [00:07<00:02,  5.06it/s]\u001b[A\n",
            " 76%|███████▌  | 41/54 [00:07<00:02,  4.84it/s]\u001b[A\n",
            " 78%|███████▊  | 42/54 [00:08<00:02,  5.24it/s]\u001b[A\n",
            " 80%|███████▉  | 43/54 [00:08<00:02,  5.14it/s]\u001b[A\n",
            " 81%|████████▏ | 44/54 [00:08<00:02,  4.75it/s]\u001b[A\n",
            " 83%|████████▎ | 45/54 [00:08<00:01,  4.98it/s]\u001b[A\n",
            " 85%|████████▌ | 46/54 [00:08<00:01,  5.49it/s]\u001b[A\n",
            " 87%|████████▋ | 47/54 [00:09<00:01,  5.83it/s]\u001b[A\n",
            " 89%|████████▉ | 48/54 [00:09<00:01,  5.41it/s]\u001b[A\n",
            " 91%|█████████ | 49/54 [00:09<00:00,  5.72it/s]\u001b[A\n",
            " 93%|█████████▎| 50/54 [00:09<00:00,  5.45it/s]\u001b[A\n",
            " 94%|█████████▍| 51/54 [00:09<00:00,  4.95it/s]\u001b[A\n",
            " 96%|█████████▋| 52/54 [00:10<00:00,  4.51it/s]\u001b[A\n",
            " 98%|█████████▊| 53/54 [00:10<00:00,  4.52it/s]\u001b[A\n",
            "100%|██████████| 54/54 [00:10<00:00,  5.14it/s]\n",
            "\n",
            "  0%|          | 0/54 [00:00<?, ?it/s]\u001b[A\n",
            "  2%|▏         | 1/54 [00:00<00:08,  5.98it/s]\u001b[A"
          ],
          "name": "stderr"
        },
        {
          "output_type": "stream",
          "text": [
            "{'ner': 398.35283275179825}\n"
          ],
          "name": "stdout"
        },
        {
          "output_type": "stream",
          "text": [
            "\n",
            "  4%|▎         | 2/54 [00:00<00:08,  6.03it/s]\u001b[A\n",
            "  6%|▌         | 3/54 [00:00<00:08,  6.01it/s]\u001b[A\n",
            "  7%|▋         | 4/54 [00:00<00:08,  5.82it/s]\u001b[A\n",
            "  9%|▉         | 5/54 [00:00<00:08,  5.84it/s]\u001b[A\n",
            " 11%|█         | 6/54 [00:01<00:08,  5.72it/s]\u001b[A\n",
            " 13%|█▎        | 7/54 [00:01<00:07,  6.03it/s]\u001b[A\n",
            " 15%|█▍        | 8/54 [00:01<00:08,  5.66it/s]\u001b[A\n",
            " 17%|█▋        | 9/54 [00:01<00:08,  5.19it/s]\u001b[A\n",
            " 19%|█▊        | 10/54 [00:01<00:08,  5.35it/s]\u001b[A\n",
            " 20%|██        | 11/54 [00:02<00:08,  4.82it/s]\u001b[A\n",
            " 22%|██▏       | 12/54 [00:02<00:08,  4.78it/s]\u001b[A\n",
            " 24%|██▍       | 13/54 [00:02<00:07,  5.21it/s]\u001b[A\n",
            " 26%|██▌       | 14/54 [00:02<00:07,  5.58it/s]\u001b[A\n",
            " 28%|██▊       | 15/54 [00:02<00:06,  5.88it/s]\u001b[A\n",
            " 30%|██▉       | 16/54 [00:02<00:07,  5.11it/s]\u001b[A\n",
            " 31%|███▏      | 17/54 [00:03<00:07,  4.97it/s]\u001b[A\n",
            " 33%|███▎      | 18/54 [00:03<00:07,  4.55it/s]\u001b[A\n",
            " 35%|███▌      | 19/54 [00:03<00:07,  4.98it/s]\u001b[A\n",
            " 37%|███▋      | 20/54 [00:03<00:06,  5.11it/s]\u001b[A\n",
            " 39%|███▉      | 21/54 [00:04<00:06,  4.85it/s]\u001b[A\n",
            " 41%|████      | 22/54 [00:04<00:06,  4.96it/s]\u001b[A\n",
            " 43%|████▎     | 23/54 [00:04<00:06,  4.93it/s]\u001b[A\n",
            " 44%|████▍     | 24/54 [00:04<00:05,  5.31it/s]\u001b[A\n",
            " 46%|████▋     | 25/54 [00:04<00:05,  5.24it/s]\u001b[A\n",
            " 48%|████▊     | 26/54 [00:04<00:05,  4.86it/s]\u001b[A\n",
            " 50%|█████     | 27/54 [00:05<00:05,  4.99it/s]\u001b[A\n",
            " 52%|█████▏    | 28/54 [00:05<00:05,  4.91it/s]\u001b[A\n",
            " 54%|█████▎    | 29/54 [00:05<00:04,  5.03it/s]\u001b[A\n",
            " 56%|█████▌    | 30/54 [00:05<00:04,  5.28it/s]\u001b[A\n",
            " 57%|█████▋    | 31/54 [00:05<00:04,  5.31it/s]\u001b[A\n",
            " 59%|█████▉    | 32/54 [00:06<00:04,  5.25it/s]\u001b[A\n",
            " 61%|██████    | 33/54 [00:06<00:04,  5.16it/s]\u001b[A\n",
            " 63%|██████▎   | 34/54 [00:06<00:03,  5.16it/s]\u001b[A\n",
            " 65%|██████▍   | 35/54 [00:06<00:03,  5.37it/s]\u001b[A\n",
            " 67%|██████▋   | 36/54 [00:06<00:03,  5.00it/s]\u001b[A\n",
            " 69%|██████▊   | 37/54 [00:07<00:03,  5.28it/s]\u001b[A\n",
            " 70%|███████   | 38/54 [00:07<00:02,  5.40it/s]\u001b[A\n",
            " 72%|███████▏  | 39/54 [00:07<00:03,  4.92it/s]\u001b[A\n",
            " 74%|███████▍  | 40/54 [00:07<00:02,  5.01it/s]\u001b[A\n",
            " 76%|███████▌  | 41/54 [00:07<00:02,  5.31it/s]\u001b[A\n",
            " 78%|███████▊  | 42/54 [00:08<00:02,  5.25it/s]\u001b[A\n",
            " 80%|███████▉  | 43/54 [00:08<00:02,  5.11it/s]\u001b[A\n",
            " 81%|████████▏ | 44/54 [00:08<00:01,  5.03it/s]\u001b[A\n",
            " 83%|████████▎ | 45/54 [00:08<00:01,  5.05it/s]\u001b[A\n",
            " 85%|████████▌ | 46/54 [00:08<00:01,  5.05it/s]\u001b[A\n",
            " 87%|████████▋ | 47/54 [00:09<00:01,  4.91it/s]\u001b[A\n",
            " 89%|████████▉ | 48/54 [00:09<00:01,  5.31it/s]\u001b[A\n",
            " 91%|█████████ | 49/54 [00:09<00:00,  5.46it/s]\u001b[A\n",
            " 93%|█████████▎| 50/54 [00:09<00:00,  4.72it/s]\u001b[A\n",
            " 94%|█████████▍| 51/54 [00:09<00:00,  4.41it/s]\u001b[A\n",
            " 96%|█████████▋| 52/54 [00:10<00:00,  4.35it/s]\u001b[A\n",
            " 98%|█████████▊| 53/54 [00:10<00:00,  4.78it/s]\u001b[A\n",
            "100%|██████████| 54/54 [00:10<00:00,  5.12it/s]\n",
            "\n",
            "  0%|          | 0/54 [00:00<?, ?it/s]\u001b[A"
          ],
          "name": "stderr"
        },
        {
          "output_type": "stream",
          "text": [
            "{'ner': 413.3437706098553}\n"
          ],
          "name": "stdout"
        },
        {
          "output_type": "stream",
          "text": [
            "\n",
            "  2%|▏         | 1/54 [00:00<00:11,  4.81it/s]\u001b[A\n",
            "  4%|▎         | 2/54 [00:00<00:11,  4.73it/s]\u001b[A\n",
            "  6%|▌         | 3/54 [00:00<00:11,  4.60it/s]\u001b[A\n",
            "  7%|▋         | 4/54 [00:00<00:09,  5.07it/s]\u001b[A\n",
            "  9%|▉         | 5/54 [00:01<00:09,  5.09it/s]\u001b[A\n",
            " 11%|█         | 6/54 [00:01<00:09,  5.00it/s]\u001b[A\n",
            " 13%|█▎        | 7/54 [00:01<00:09,  4.77it/s]\u001b[A\n",
            " 15%|█▍        | 8/54 [00:01<00:09,  5.03it/s]\u001b[A\n",
            " 17%|█▋        | 9/54 [00:01<00:08,  5.14it/s]\u001b[A\n",
            " 19%|█▊        | 10/54 [00:01<00:08,  5.27it/s]\u001b[A\n",
            " 20%|██        | 11/54 [00:02<00:08,  5.14it/s]\u001b[A\n",
            " 22%|██▏       | 12/54 [00:02<00:08,  4.97it/s]\u001b[A\n",
            " 24%|██▍       | 13/54 [00:02<00:07,  5.24it/s]\u001b[A\n",
            " 26%|██▌       | 14/54 [00:02<00:06,  5.73it/s]\u001b[A\n",
            " 28%|██▊       | 15/54 [00:02<00:06,  5.90it/s]\u001b[A\n",
            " 30%|██▉       | 16/54 [00:03<00:06,  5.50it/s]\u001b[A\n",
            " 31%|███▏      | 17/54 [00:03<00:06,  5.70it/s]\u001b[A\n",
            " 33%|███▎      | 18/54 [00:03<00:05,  6.01it/s]\u001b[A\n",
            " 35%|███▌      | 19/54 [00:03<00:05,  6.08it/s]\u001b[A\n",
            " 37%|███▋      | 20/54 [00:03<00:05,  6.22it/s]\u001b[A\n",
            " 39%|███▉      | 21/54 [00:03<00:05,  5.58it/s]\u001b[A\n",
            " 41%|████      | 22/54 [00:04<00:06,  4.87it/s]\u001b[A\n",
            " 43%|████▎     | 23/54 [00:04<00:06,  4.53it/s]\u001b[A\n",
            " 44%|████▍     | 24/54 [00:04<00:06,  4.60it/s]\u001b[A\n",
            " 46%|████▋     | 25/54 [00:04<00:06,  4.77it/s]\u001b[A\n",
            " 48%|████▊     | 26/54 [00:04<00:05,  5.33it/s]\u001b[A\n",
            " 50%|█████     | 27/54 [00:05<00:05,  4.73it/s]\u001b[A\n",
            " 52%|█████▏    | 28/54 [00:05<00:05,  4.45it/s]\u001b[A\n",
            " 54%|█████▎    | 29/54 [00:05<00:05,  4.94it/s]\u001b[A\n",
            " 56%|█████▌    | 30/54 [00:05<00:04,  5.30it/s]\u001b[A\n",
            " 57%|█████▋    | 31/54 [00:06<00:04,  4.93it/s]\u001b[A\n",
            " 59%|█████▉    | 32/54 [00:06<00:04,  5.19it/s]\u001b[A\n",
            " 61%|██████    | 33/54 [00:06<00:03,  5.52it/s]\u001b[A\n",
            " 63%|██████▎   | 34/54 [00:06<00:03,  5.49it/s]\u001b[A\n",
            " 65%|██████▍   | 35/54 [00:06<00:03,  4.97it/s]\u001b[A\n",
            " 67%|██████▋   | 36/54 [00:06<00:03,  5.04it/s]\u001b[A\n",
            " 69%|██████▊   | 37/54 [00:07<00:03,  5.37it/s]\u001b[A\n",
            " 70%|███████   | 38/54 [00:07<00:03,  4.92it/s]\u001b[A\n",
            " 72%|███████▏  | 39/54 [00:07<00:02,  5.29it/s]\u001b[A\n",
            " 74%|███████▍  | 40/54 [00:07<00:02,  4.97it/s]\u001b[A\n",
            " 76%|███████▌  | 41/54 [00:07<00:02,  5.01it/s]\u001b[A\n",
            " 78%|███████▊  | 42/54 [00:08<00:02,  4.97it/s]\u001b[A\n",
            " 80%|███████▉  | 43/54 [00:08<00:02,  5.03it/s]\u001b[A\n",
            " 81%|████████▏ | 44/54 [00:08<00:02,  4.86it/s]\u001b[A\n",
            " 83%|████████▎ | 45/54 [00:08<00:01,  4.97it/s]\u001b[A\n",
            " 85%|████████▌ | 46/54 [00:08<00:01,  5.33it/s]\u001b[A\n",
            " 87%|████████▋ | 47/54 [00:09<00:01,  5.30it/s]\u001b[A\n",
            " 89%|████████▉ | 48/54 [00:09<00:01,  5.07it/s]\u001b[A\n",
            " 91%|█████████ | 49/54 [00:09<00:01,  4.95it/s]\u001b[A\n",
            " 93%|█████████▎| 50/54 [00:09<00:00,  4.83it/s]\u001b[A\n",
            " 94%|█████████▍| 51/54 [00:09<00:00,  4.86it/s]\u001b[A\n",
            " 96%|█████████▋| 52/54 [00:10<00:00,  4.84it/s]\u001b[A\n",
            " 98%|█████████▊| 53/54 [00:10<00:00,  4.64it/s]\u001b[A\n",
            "100%|██████████| 54/54 [00:10<00:00,  5.09it/s]\n",
            "\n",
            "  0%|          | 0/54 [00:00<?, ?it/s]\u001b[A\n",
            "  2%|▏         | 1/54 [00:00<00:09,  5.64it/s]\u001b[A"
          ],
          "name": "stderr"
        },
        {
          "output_type": "stream",
          "text": [
            "{'ner': 310.35491183682655}\n"
          ],
          "name": "stdout"
        },
        {
          "output_type": "stream",
          "text": [
            "\n",
            "  4%|▎         | 2/54 [00:00<00:10,  5.02it/s]\u001b[A\n",
            "  6%|▌         | 3/54 [00:00<00:10,  4.89it/s]\u001b[A\n",
            "  7%|▋         | 4/54 [00:00<00:10,  4.87it/s]\u001b[A\n",
            "  9%|▉         | 5/54 [00:01<00:09,  5.04it/s]\u001b[A\n",
            " 11%|█         | 6/54 [00:01<00:09,  4.97it/s]\u001b[A\n",
            " 13%|█▎        | 7/54 [00:01<00:09,  4.75it/s]\u001b[A\n",
            " 15%|█▍        | 8/54 [00:01<00:09,  4.63it/s]\u001b[A\n",
            " 17%|█▋        | 9/54 [00:01<00:08,  5.01it/s]\u001b[A\n",
            " 19%|█▊        | 10/54 [00:02<00:09,  4.85it/s]\u001b[A\n",
            " 20%|██        | 11/54 [00:02<00:09,  4.77it/s]\u001b[A\n",
            " 22%|██▏       | 12/54 [00:02<00:08,  5.24it/s]\u001b[A\n",
            " 24%|██▍       | 13/54 [00:02<00:07,  5.72it/s]\u001b[A\n",
            " 26%|██▌       | 14/54 [00:02<00:06,  5.91it/s]\u001b[A\n",
            " 28%|██▊       | 15/54 [00:02<00:06,  5.72it/s]\u001b[A\n",
            " 30%|██▉       | 16/54 [00:03<00:06,  5.47it/s]\u001b[A\n",
            " 31%|███▏      | 17/54 [00:03<00:07,  5.00it/s]\u001b[A\n",
            " 33%|███▎      | 18/54 [00:03<00:07,  4.51it/s]\u001b[A\n",
            " 35%|███▌      | 19/54 [00:03<00:08,  4.24it/s]\u001b[A\n",
            " 37%|███▋      | 20/54 [00:04<00:07,  4.45it/s]\u001b[A\n",
            " 39%|███▉      | 21/54 [00:04<00:07,  4.58it/s]\u001b[A\n",
            " 41%|████      | 22/54 [00:04<00:06,  4.67it/s]\u001b[A\n",
            " 43%|████▎     | 23/54 [00:04<00:06,  4.61it/s]\u001b[A\n",
            " 44%|████▍     | 24/54 [00:04<00:06,  4.68it/s]\u001b[A\n",
            " 46%|████▋     | 25/54 [00:05<00:05,  4.90it/s]\u001b[A\n",
            " 48%|████▊     | 26/54 [00:05<00:05,  4.92it/s]\u001b[A\n",
            " 50%|█████     | 27/54 [00:05<00:05,  4.77it/s]\u001b[A\n",
            " 52%|█████▏    | 28/54 [00:05<00:05,  5.19it/s]\u001b[A\n",
            " 54%|█████▎    | 29/54 [00:05<00:05,  4.90it/s]\u001b[A\n",
            " 56%|█████▌    | 30/54 [00:06<00:05,  4.75it/s]\u001b[A\n",
            " 57%|█████▋    | 31/54 [00:06<00:04,  4.87it/s]\u001b[A\n",
            " 59%|█████▉    | 32/54 [00:06<00:04,  5.12it/s]\u001b[A\n",
            " 61%|██████    | 33/54 [00:06<00:04,  5.20it/s]\u001b[A\n",
            " 63%|██████▎   | 34/54 [00:06<00:04,  4.72it/s]\u001b[A\n",
            " 65%|██████▍   | 35/54 [00:07<00:03,  4.89it/s]\u001b[A\n",
            " 67%|██████▋   | 36/54 [00:07<00:03,  4.78it/s]\u001b[A\n",
            " 69%|██████▊   | 37/54 [00:07<00:03,  4.66it/s]\u001b[A\n",
            " 70%|███████   | 38/54 [00:07<00:03,  4.99it/s]\u001b[A\n",
            " 72%|███████▏  | 39/54 [00:07<00:02,  5.36it/s]\u001b[A\n",
            " 74%|███████▍  | 40/54 [00:08<00:02,  5.50it/s]\u001b[A\n",
            " 76%|███████▌  | 41/54 [00:08<00:02,  5.07it/s]\u001b[A\n",
            " 78%|███████▊  | 42/54 [00:08<00:02,  4.84it/s]\u001b[A\n",
            " 80%|███████▉  | 43/54 [00:08<00:02,  4.79it/s]\u001b[A\n",
            " 81%|████████▏ | 44/54 [00:08<00:02,  4.82it/s]\u001b[A\n",
            " 83%|████████▎ | 45/54 [00:09<00:01,  5.03it/s]\u001b[A\n",
            " 85%|████████▌ | 46/54 [00:09<00:01,  5.42it/s]\u001b[A\n",
            " 87%|████████▋ | 47/54 [00:09<00:01,  5.50it/s]\u001b[A\n",
            " 89%|████████▉ | 48/54 [00:09<00:01,  5.74it/s]\u001b[A\n",
            " 91%|█████████ | 49/54 [00:09<00:00,  5.40it/s]\u001b[A\n",
            " 93%|█████████▎| 50/54 [00:10<00:00,  4.98it/s]\u001b[A\n",
            " 94%|█████████▍| 51/54 [00:10<00:00,  5.25it/s]\u001b[A\n",
            " 96%|█████████▋| 52/54 [00:10<00:00,  5.59it/s]\u001b[A\n",
            " 98%|█████████▊| 53/54 [00:10<00:00,  5.55it/s]\u001b[A\n",
            "100%|██████████| 54/54 [00:10<00:00,  4.97it/s]\n",
            "\n",
            "  0%|          | 0/54 [00:00<?, ?it/s]\u001b[A\n"
          ],
          "name": "stderr"
        },
        {
          "output_type": "stream",
          "text": [
            "{'ner': 313.35957922658173}\n"
          ],
          "name": "stdout"
        },
        {
          "output_type": "stream",
          "text": [
            "  2%|▏         | 1/54 [00:00<00:10,  5.06it/s]\u001b[A\n",
            "  4%|▎         | 2/54 [00:00<00:10,  5.09it/s]\u001b[A\n",
            "  6%|▌         | 3/54 [00:00<00:09,  5.38it/s]\u001b[A\n",
            "  7%|▋         | 4/54 [00:00<00:08,  5.76it/s]\u001b[A\n",
            "  9%|▉         | 5/54 [00:00<00:08,  5.64it/s]\u001b[A\n",
            " 11%|█         | 6/54 [00:01<00:09,  4.91it/s]\u001b[A\n",
            " 13%|█▎        | 7/54 [00:01<00:08,  5.39it/s]\u001b[A\n",
            " 15%|█▍        | 8/54 [00:01<00:08,  5.35it/s]\u001b[A\n",
            " 17%|█▋        | 9/54 [00:01<00:08,  5.30it/s]\u001b[A\n",
            " 19%|█▊        | 10/54 [00:01<00:08,  5.00it/s]\u001b[A\n",
            " 20%|██        | 11/54 [00:02<00:08,  5.18it/s]\u001b[A\n",
            " 22%|██▏       | 12/54 [00:02<00:07,  5.62it/s]\u001b[A\n",
            " 24%|██▍       | 13/54 [00:02<00:07,  5.13it/s]\u001b[A\n",
            " 26%|██▌       | 14/54 [00:02<00:08,  4.99it/s]\u001b[A\n",
            " 28%|██▊       | 15/54 [00:02<00:07,  5.38it/s]\u001b[A\n",
            " 30%|██▉       | 16/54 [00:03<00:07,  5.17it/s]\u001b[A\n",
            " 31%|███▏      | 17/54 [00:03<00:06,  5.32it/s]\u001b[A\n",
            " 33%|███▎      | 18/54 [00:03<00:06,  5.47it/s]\u001b[A\n",
            " 35%|███▌      | 19/54 [00:03<00:06,  5.79it/s]\u001b[A\n",
            " 37%|███▋      | 20/54 [00:03<00:06,  5.04it/s]\u001b[A\n",
            " 39%|███▉      | 21/54 [00:03<00:06,  5.11it/s]\u001b[A\n",
            " 41%|████      | 22/54 [00:04<00:06,  4.77it/s]\u001b[A\n",
            " 43%|████▎     | 23/54 [00:04<00:06,  4.59it/s]\u001b[A\n",
            " 44%|████▍     | 24/54 [00:04<00:06,  4.89it/s]\u001b[A\n",
            " 46%|████▋     | 25/54 [00:04<00:05,  5.05it/s]\u001b[A\n",
            " 48%|████▊     | 26/54 [00:04<00:05,  5.13it/s]\u001b[A\n",
            " 50%|█████     | 27/54 [00:05<00:04,  5.52it/s]\u001b[A\n",
            " 52%|█████▏    | 28/54 [00:05<00:05,  5.16it/s]\u001b[A\n",
            " 54%|█████▎    | 29/54 [00:05<00:05,  4.73it/s]\u001b[A\n",
            " 56%|█████▌    | 30/54 [00:05<00:05,  4.69it/s]\u001b[A\n",
            " 57%|█████▋    | 31/54 [00:06<00:05,  4.35it/s]\u001b[A\n",
            " 59%|█████▉    | 32/54 [00:06<00:04,  4.89it/s]\u001b[A\n",
            " 61%|██████    | 33/54 [00:06<00:03,  5.40it/s]\u001b[A\n",
            " 63%|██████▎   | 34/54 [00:06<00:04,  4.85it/s]\u001b[A\n",
            " 65%|██████▍   | 35/54 [00:06<00:03,  5.05it/s]\u001b[A\n",
            " 67%|██████▋   | 36/54 [00:07<00:03,  4.96it/s]\u001b[A\n",
            " 69%|██████▊   | 37/54 [00:07<00:03,  5.44it/s]\u001b[A\n",
            " 70%|███████   | 38/54 [00:07<00:03,  4.97it/s]\u001b[A\n",
            " 72%|███████▏  | 39/54 [00:07<00:03,  4.89it/s]\u001b[A\n",
            " 74%|███████▍  | 40/54 [00:07<00:03,  4.62it/s]\u001b[A\n",
            " 76%|███████▌  | 41/54 [00:08<00:02,  4.88it/s]\u001b[A\n",
            " 78%|███████▊  | 42/54 [00:08<00:02,  5.17it/s]\u001b[A\n",
            " 80%|███████▉  | 43/54 [00:08<00:02,  5.02it/s]\u001b[A\n",
            " 81%|████████▏ | 44/54 [00:08<00:01,  5.08it/s]\u001b[A\n",
            " 83%|████████▎ | 45/54 [00:08<00:01,  5.46it/s]\u001b[A\n",
            " 85%|████████▌ | 46/54 [00:08<00:01,  5.88it/s]\u001b[A\n",
            " 87%|████████▋ | 47/54 [00:09<00:01,  5.11it/s]\u001b[A\n",
            " 89%|████████▉ | 48/54 [00:09<00:01,  5.25it/s]\u001b[A\n",
            " 91%|█████████ | 49/54 [00:09<00:00,  5.70it/s]\u001b[A\n",
            " 93%|█████████▎| 50/54 [00:09<00:00,  5.53it/s]\u001b[A\n",
            " 94%|█████████▍| 51/54 [00:09<00:00,  5.90it/s]\u001b[A\n",
            " 96%|█████████▋| 52/54 [00:10<00:00,  5.19it/s]\u001b[A\n",
            " 98%|█████████▊| 53/54 [00:10<00:00,  5.11it/s]\u001b[A\n",
            "100%|██████████| 54/54 [00:10<00:00,  5.17it/s]\n",
            "\n",
            "  0%|          | 0/54 [00:00<?, ?it/s]\u001b[A"
          ],
          "name": "stderr"
        },
        {
          "output_type": "stream",
          "text": [
            "{'ner': 313.09594909573497}\n"
          ],
          "name": "stdout"
        },
        {
          "output_type": "stream",
          "text": [
            "\n",
            "  2%|▏         | 1/54 [00:00<00:12,  4.35it/s]\u001b[A\n",
            "  4%|▎         | 2/54 [00:00<00:10,  4.82it/s]\u001b[A\n",
            "  6%|▌         | 3/54 [00:00<00:10,  4.89it/s]\u001b[A\n",
            "  7%|▋         | 4/54 [00:00<00:10,  4.83it/s]\u001b[A\n",
            "  9%|▉         | 5/54 [00:01<00:10,  4.81it/s]\u001b[A\n",
            " 11%|█         | 6/54 [00:01<00:09,  4.95it/s]\u001b[A\n",
            " 13%|█▎        | 7/54 [00:01<00:10,  4.61it/s]\u001b[A\n",
            " 15%|█▍        | 8/54 [00:01<00:09,  4.90it/s]\u001b[A\n",
            " 17%|█▋        | 9/54 [00:01<00:09,  4.63it/s]\u001b[A\n",
            " 19%|█▊        | 10/54 [00:02<00:09,  4.55it/s]\u001b[A\n",
            " 20%|██        | 11/54 [00:02<00:09,  4.62it/s]\u001b[A\n",
            " 22%|██▏       | 12/54 [00:02<00:09,  4.54it/s]\u001b[A\n",
            " 24%|██▍       | 13/54 [00:02<00:08,  5.04it/s]\u001b[A\n",
            " 26%|██▌       | 14/54 [00:02<00:07,  5.02it/s]\u001b[A\n",
            " 28%|██▊       | 15/54 [00:03<00:07,  5.08it/s]\u001b[A\n",
            " 30%|██▉       | 16/54 [00:03<00:07,  4.99it/s]\u001b[A\n",
            " 31%|███▏      | 17/54 [00:03<00:07,  5.08it/s]\u001b[A\n",
            " 33%|███▎      | 18/54 [00:03<00:07,  5.11it/s]\u001b[A\n",
            " 35%|███▌      | 19/54 [00:03<00:06,  5.42it/s]\u001b[A\n",
            " 37%|███▋      | 20/54 [00:03<00:05,  5.83it/s]\u001b[A\n",
            " 39%|███▉      | 21/54 [00:04<00:06,  5.15it/s]\u001b[A\n",
            " 41%|████      | 22/54 [00:04<00:06,  4.77it/s]\u001b[A\n",
            " 43%|████▎     | 23/54 [00:04<00:06,  4.82it/s]\u001b[A\n",
            " 44%|████▍     | 24/54 [00:04<00:06,  4.93it/s]\u001b[A\n",
            " 46%|████▋     | 25/54 [00:05<00:05,  5.18it/s]\u001b[A\n",
            " 48%|████▊     | 26/54 [00:05<00:05,  4.85it/s]\u001b[A\n",
            " 50%|█████     | 27/54 [00:05<00:05,  4.95it/s]\u001b[A\n",
            " 52%|█████▏    | 28/54 [00:05<00:04,  5.33it/s]\u001b[A\n",
            " 54%|█████▎    | 29/54 [00:05<00:05,  4.95it/s]\u001b[A\n",
            " 56%|█████▌    | 30/54 [00:06<00:04,  4.99it/s]\u001b[A\n",
            " 57%|█████▋    | 31/54 [00:06<00:04,  5.48it/s]\u001b[A\n",
            " 59%|█████▉    | 32/54 [00:06<00:04,  4.93it/s]\u001b[A\n",
            " 61%|██████    | 33/54 [00:06<00:04,  5.03it/s]\u001b[A\n",
            " 63%|██████▎   | 34/54 [00:06<00:04,  4.75it/s]\u001b[A\n",
            " 65%|██████▍   | 35/54 [00:07<00:03,  4.85it/s]\u001b[A\n",
            " 67%|██████▋   | 36/54 [00:07<00:03,  4.53it/s]\u001b[A\n",
            " 69%|██████▊   | 37/54 [00:07<00:03,  4.59it/s]\u001b[A\n",
            " 70%|███████   | 38/54 [00:07<00:03,  4.72it/s]\u001b[A\n",
            " 72%|███████▏  | 39/54 [00:07<00:03,  4.45it/s]\u001b[A\n",
            " 74%|███████▍  | 40/54 [00:08<00:02,  4.74it/s]\u001b[A\n",
            " 76%|███████▌  | 41/54 [00:08<00:02,  4.69it/s]\u001b[A\n",
            " 78%|███████▊  | 42/54 [00:08<00:02,  4.68it/s]\u001b[A\n",
            " 80%|███████▉  | 43/54 [00:08<00:02,  4.79it/s]\u001b[A\n",
            " 81%|████████▏ | 44/54 [00:08<00:01,  5.32it/s]\u001b[A\n",
            " 83%|████████▎ | 45/54 [00:09<00:01,  5.57it/s]\u001b[A\n",
            " 85%|████████▌ | 46/54 [00:09<00:01,  5.18it/s]\u001b[A\n",
            " 87%|████████▋ | 47/54 [00:09<00:01,  5.64it/s]\u001b[A\n",
            " 89%|████████▉ | 48/54 [00:09<00:01,  5.39it/s]\u001b[A\n",
            " 91%|█████████ | 49/54 [00:09<00:00,  5.52it/s]\u001b[A\n",
            " 93%|█████████▎| 50/54 [00:09<00:00,  5.68it/s]\u001b[A\n",
            " 94%|█████████▍| 51/54 [00:10<00:00,  5.84it/s]\u001b[A\n",
            " 96%|█████████▋| 52/54 [00:10<00:00,  6.04it/s]\u001b[A\n",
            " 98%|█████████▊| 53/54 [00:10<00:00,  5.78it/s]\u001b[A\n",
            "100%|██████████| 54/54 [00:10<00:00,  5.08it/s]\n",
            "\n",
            "  0%|          | 0/54 [00:00<?, ?it/s]\u001b[A\n"
          ],
          "name": "stderr"
        },
        {
          "output_type": "stream",
          "text": [
            "{'ner': 381.31307849957943}\n"
          ],
          "name": "stdout"
        },
        {
          "output_type": "stream",
          "text": [
            "  2%|▏         | 1/54 [00:00<00:10,  5.04it/s]\u001b[A\n",
            "  4%|▎         | 2/54 [00:00<00:09,  5.21it/s]\u001b[A\n",
            "  6%|▌         | 3/54 [00:00<00:10,  4.90it/s]\u001b[A\n",
            "  7%|▋         | 4/54 [00:00<00:09,  5.35it/s]\u001b[A\n",
            "  9%|▉         | 5/54 [00:00<00:08,  5.71it/s]\u001b[A\n",
            " 11%|█         | 6/54 [00:01<00:08,  5.51it/s]\u001b[A\n",
            " 13%|█▎        | 7/54 [00:01<00:08,  5.38it/s]\u001b[A\n",
            " 15%|█▍        | 8/54 [00:01<00:08,  5.26it/s]\u001b[A\n",
            " 17%|█▋        | 9/54 [00:01<00:09,  4.93it/s]\u001b[A\n",
            " 19%|█▊        | 10/54 [00:01<00:08,  4.92it/s]\u001b[A\n",
            " 20%|██        | 11/54 [00:02<00:09,  4.58it/s]\u001b[A\n",
            " 22%|██▏       | 12/54 [00:02<00:08,  5.10it/s]\u001b[A\n",
            " 24%|██▍       | 13/54 [00:02<00:07,  5.39it/s]\u001b[A\n",
            " 26%|██▌       | 14/54 [00:02<00:07,  5.71it/s]\u001b[A\n",
            " 28%|██▊       | 15/54 [00:02<00:07,  5.04it/s]\u001b[A\n",
            " 30%|██▉       | 16/54 [00:03<00:06,  5.51it/s]\u001b[A\n",
            " 31%|███▏      | 17/54 [00:03<00:07,  5.02it/s]\u001b[A\n",
            " 33%|███▎      | 18/54 [00:03<00:07,  4.56it/s]\u001b[A\n",
            " 35%|███▌      | 19/54 [00:03<00:07,  4.88it/s]\u001b[A\n",
            " 37%|███▋      | 20/54 [00:03<00:06,  5.37it/s]\u001b[A\n",
            " 39%|███▉      | 21/54 [00:04<00:06,  5.16it/s]\u001b[A\n",
            " 41%|████      | 22/54 [00:04<00:06,  5.13it/s]\u001b[A\n",
            " 43%|████▎     | 23/54 [00:04<00:05,  5.24it/s]\u001b[A\n",
            " 44%|████▍     | 24/54 [00:04<00:05,  5.07it/s]\u001b[A\n",
            " 46%|████▋     | 25/54 [00:04<00:05,  5.01it/s]\u001b[A\n",
            " 48%|████▊     | 26/54 [00:05<00:05,  5.24it/s]\u001b[A\n",
            " 50%|█████     | 27/54 [00:05<00:05,  5.17it/s]\u001b[A\n",
            " 52%|█████▏    | 28/54 [00:05<00:04,  5.58it/s]\u001b[A\n",
            " 54%|█████▎    | 29/54 [00:05<00:04,  5.30it/s]\u001b[A\n",
            " 56%|█████▌    | 30/54 [00:05<00:04,  5.44it/s]\u001b[A\n",
            " 57%|█████▋    | 31/54 [00:06<00:04,  4.85it/s]\u001b[A\n",
            " 59%|█████▉    | 32/54 [00:06<00:04,  4.95it/s]\u001b[A\n",
            " 61%|██████    | 33/54 [00:06<00:04,  4.99it/s]\u001b[A\n",
            " 63%|██████▎   | 34/54 [00:06<00:04,  4.70it/s]\u001b[A\n",
            " 65%|██████▍   | 35/54 [00:06<00:03,  4.75it/s]\u001b[A\n",
            " 67%|██████▋   | 36/54 [00:07<00:03,  5.02it/s]\u001b[A\n",
            " 69%|██████▊   | 37/54 [00:07<00:03,  5.11it/s]\u001b[A\n",
            " 70%|███████   | 38/54 [00:07<00:02,  5.42it/s]\u001b[A\n",
            " 72%|███████▏  | 39/54 [00:07<00:02,  5.15it/s]\u001b[A\n",
            " 74%|███████▍  | 40/54 [00:07<00:02,  5.20it/s]\u001b[A\n",
            " 76%|███████▌  | 41/54 [00:07<00:02,  5.08it/s]\u001b[A\n",
            " 78%|███████▊  | 42/54 [00:08<00:02,  5.60it/s]\u001b[A\n",
            " 80%|███████▉  | 43/54 [00:08<00:02,  5.32it/s]\u001b[A\n",
            " 81%|████████▏ | 44/54 [00:08<00:01,  5.55it/s]\u001b[A\n",
            " 83%|████████▎ | 45/54 [00:08<00:02,  4.39it/s]\u001b[A\n",
            " 85%|████████▌ | 46/54 [00:09<00:01,  4.60it/s]\u001b[A\n",
            " 87%|████████▋ | 47/54 [00:09<00:01,  5.02it/s]\u001b[A\n",
            " 89%|████████▉ | 48/54 [00:09<00:01,  5.28it/s]\u001b[A\n",
            " 91%|█████████ | 49/54 [00:09<00:00,  5.03it/s]\u001b[A\n",
            " 93%|█████████▎| 50/54 [00:09<00:00,  5.22it/s]\u001b[A\n",
            " 94%|█████████▍| 51/54 [00:09<00:00,  5.61it/s]\u001b[A\n",
            " 96%|█████████▋| 52/54 [00:10<00:00,  5.00it/s]\u001b[A\n",
            " 98%|█████████▊| 53/54 [00:10<00:00,  5.21it/s]\u001b[A\n",
            "100%|██████████| 54/54 [00:10<00:00,  5.14it/s]\n",
            "\n",
            "  0%|          | 0/54 [00:00<?, ?it/s]\u001b[A"
          ],
          "name": "stderr"
        },
        {
          "output_type": "stream",
          "text": [
            "{'ner': 277.1913154169356}\n"
          ],
          "name": "stdout"
        },
        {
          "output_type": "stream",
          "text": [
            "\n",
            "  2%|▏         | 1/54 [00:00<00:10,  5.06it/s]\u001b[A\n",
            "  4%|▎         | 2/54 [00:00<00:09,  5.26it/s]\u001b[A\n",
            "  6%|▌         | 3/54 [00:00<00:09,  5.14it/s]\u001b[A\n",
            "  7%|▋         | 4/54 [00:00<00:09,  5.28it/s]\u001b[A\n",
            "  9%|▉         | 5/54 [00:00<00:09,  5.40it/s]\u001b[A\n",
            " 11%|█         | 6/54 [00:01<00:08,  5.79it/s]\u001b[A\n",
            " 13%|█▎        | 7/54 [00:01<00:08,  5.60it/s]\u001b[A\n",
            " 15%|█▍        | 8/54 [00:01<00:07,  5.90it/s]\u001b[A\n",
            " 17%|█▋        | 9/54 [00:01<00:08,  5.62it/s]\u001b[A\n",
            " 19%|█▊        | 10/54 [00:01<00:08,  5.35it/s]\u001b[A\n",
            " 20%|██        | 11/54 [00:01<00:07,  5.59it/s]\u001b[A\n",
            " 22%|██▏       | 12/54 [00:02<00:07,  5.35it/s]\u001b[A\n",
            " 24%|██▍       | 13/54 [00:02<00:07,  5.49it/s]\u001b[A\n",
            " 26%|██▌       | 14/54 [00:02<00:07,  5.28it/s]\u001b[A\n",
            " 28%|██▊       | 15/54 [00:02<00:07,  4.99it/s]\u001b[A\n",
            " 30%|██▉       | 16/54 [00:03<00:08,  4.62it/s]\u001b[A\n",
            " 31%|███▏      | 17/54 [00:03<00:07,  5.10it/s]\u001b[A\n",
            " 33%|███▎      | 18/54 [00:03<00:07,  4.85it/s]\u001b[A\n",
            " 35%|███▌      | 19/54 [00:03<00:07,  4.95it/s]\u001b[A\n",
            " 37%|███▋      | 20/54 [00:03<00:06,  5.06it/s]\u001b[A\n",
            " 39%|███▉      | 21/54 [00:04<00:06,  4.90it/s]\u001b[A\n",
            " 41%|████      | 22/54 [00:04<00:06,  5.21it/s]\u001b[A\n",
            " 43%|████▎     | 23/54 [00:04<00:06,  5.03it/s]\u001b[A\n",
            " 44%|████▍     | 24/54 [00:04<00:05,  5.13it/s]\u001b[A\n",
            " 46%|████▋     | 25/54 [00:04<00:05,  5.25it/s]\u001b[A\n",
            " 48%|████▊     | 26/54 [00:05<00:05,  4.76it/s]\u001b[A\n",
            " 50%|█████     | 27/54 [00:05<00:05,  5.25it/s]\u001b[A\n",
            " 52%|█████▏    | 28/54 [00:05<00:04,  5.62it/s]\u001b[A\n",
            " 54%|█████▎    | 29/54 [00:05<00:04,  5.53it/s]\u001b[A\n",
            " 56%|█████▌    | 30/54 [00:05<00:04,  5.92it/s]\u001b[A\n",
            " 57%|█████▋    | 31/54 [00:05<00:04,  5.50it/s]\u001b[A\n",
            " 59%|█████▉    | 32/54 [00:06<00:04,  5.30it/s]\u001b[A\n",
            " 61%|██████    | 33/54 [00:06<00:03,  5.49it/s]\u001b[A\n",
            " 63%|██████▎   | 34/54 [00:06<00:03,  5.50it/s]\u001b[A\n",
            " 65%|██████▍   | 35/54 [00:06<00:03,  5.70it/s]\u001b[A\n",
            " 67%|██████▋   | 36/54 [00:06<00:03,  5.14it/s]\u001b[A\n",
            " 69%|██████▊   | 37/54 [00:06<00:03,  5.40it/s]\u001b[A\n",
            " 70%|███████   | 38/54 [00:07<00:03,  5.23it/s]\u001b[A\n",
            " 72%|███████▏  | 39/54 [00:07<00:02,  5.11it/s]\u001b[A\n",
            " 74%|███████▍  | 40/54 [00:07<00:02,  4.89it/s]\u001b[A\n",
            " 76%|███████▌  | 41/54 [00:07<00:02,  4.57it/s]\u001b[A\n",
            " 78%|███████▊  | 42/54 [00:08<00:02,  4.37it/s]\u001b[A\n",
            " 80%|███████▉  | 43/54 [00:08<00:02,  4.73it/s]\u001b[A\n",
            " 81%|████████▏ | 44/54 [00:08<00:01,  5.01it/s]\u001b[A\n",
            " 83%|████████▎ | 45/54 [00:08<00:01,  5.11it/s]\u001b[A\n",
            " 85%|████████▌ | 46/54 [00:08<00:01,  5.02it/s]\u001b[A\n",
            " 87%|████████▋ | 47/54 [00:09<00:01,  4.98it/s]\u001b[A\n",
            " 89%|████████▉ | 48/54 [00:09<00:01,  5.08it/s]\u001b[A\n",
            " 91%|█████████ | 49/54 [00:09<00:00,  5.18it/s]\u001b[A\n",
            " 93%|█████████▎| 50/54 [00:09<00:00,  5.35it/s]\u001b[A\n",
            " 94%|█████████▍| 51/54 [00:09<00:00,  5.68it/s]\u001b[A\n",
            " 96%|█████████▋| 52/54 [00:09<00:00,  5.58it/s]\u001b[A\n",
            " 98%|█████████▊| 53/54 [00:10<00:00,  5.03it/s]\u001b[A\n",
            "100%|██████████| 54/54 [00:10<00:00,  5.23it/s]\n",
            "\n",
            "  0%|          | 0/54 [00:00<?, ?it/s]\u001b[A\n",
            "  2%|▏         | 1/54 [00:00<00:10,  5.29it/s]\u001b[A"
          ],
          "name": "stderr"
        },
        {
          "output_type": "stream",
          "text": [
            "{'ner': 302.52155074464713}\n"
          ],
          "name": "stdout"
        },
        {
          "output_type": "stream",
          "text": [
            "\n",
            "  4%|▎         | 2/54 [00:00<00:10,  5.17it/s]\u001b[A\n",
            "  6%|▌         | 3/54 [00:00<00:09,  5.43it/s]\u001b[A\n",
            "  7%|▋         | 4/54 [00:00<00:08,  5.79it/s]\u001b[A\n",
            "  9%|▉         | 5/54 [00:00<00:08,  5.70it/s]\u001b[A\n",
            " 11%|█         | 6/54 [00:01<00:08,  5.50it/s]\u001b[A\n",
            " 13%|█▎        | 7/54 [00:01<00:09,  5.06it/s]\u001b[A\n",
            " 15%|█▍        | 8/54 [00:01<00:09,  4.97it/s]\u001b[A\n",
            " 17%|█▋        | 9/54 [00:01<00:08,  5.04it/s]\u001b[A\n",
            " 19%|█▊        | 10/54 [00:01<00:08,  5.32it/s]\u001b[A\n",
            " 20%|██        | 11/54 [00:02<00:07,  5.51it/s]\u001b[A\n",
            " 22%|██▏       | 12/54 [00:02<00:07,  5.78it/s]\u001b[A\n",
            " 24%|██▍       | 13/54 [00:02<00:07,  5.53it/s]\u001b[A\n",
            " 26%|██▌       | 14/54 [00:02<00:07,  5.30it/s]\u001b[A\n",
            " 28%|██▊       | 15/54 [00:02<00:07,  5.10it/s]\u001b[A\n",
            " 30%|██▉       | 16/54 [00:02<00:07,  5.43it/s]\u001b[A\n",
            " 31%|███▏      | 17/54 [00:03<00:06,  5.53it/s]\u001b[A\n",
            " 33%|███▎      | 18/54 [00:03<00:06,  5.72it/s]\u001b[A\n",
            " 35%|███▌      | 19/54 [00:03<00:05,  6.17it/s]\u001b[A\n",
            " 37%|███▋      | 20/54 [00:03<00:06,  5.66it/s]\u001b[A\n",
            " 39%|███▉      | 21/54 [00:03<00:06,  5.27it/s]\u001b[A\n",
            " 41%|████      | 22/54 [00:04<00:05,  5.74it/s]\u001b[A\n",
            " 43%|████▎     | 23/54 [00:04<00:06,  5.10it/s]\u001b[A\n",
            " 44%|████▍     | 24/54 [00:04<00:05,  5.23it/s]\u001b[A\n",
            " 46%|████▋     | 25/54 [00:04<00:05,  5.31it/s]\u001b[A\n",
            " 48%|████▊     | 26/54 [00:04<00:05,  4.94it/s]\u001b[A\n",
            " 50%|█████     | 27/54 [00:05<00:05,  5.12it/s]\u001b[A\n",
            " 52%|█████▏    | 28/54 [00:05<00:05,  5.09it/s]\u001b[A\n",
            " 54%|█████▎    | 29/54 [00:05<00:04,  5.09it/s]\u001b[A\n",
            " 56%|█████▌    | 30/54 [00:05<00:04,  5.63it/s]\u001b[A\n",
            " 57%|█████▋    | 31/54 [00:05<00:04,  5.29it/s]\u001b[A\n",
            " 59%|█████▉    | 32/54 [00:06<00:04,  5.01it/s]\u001b[A\n",
            " 61%|██████    | 33/54 [00:06<00:04,  4.94it/s]\u001b[A\n",
            " 63%|██████▎   | 34/54 [00:06<00:04,  4.72it/s]\u001b[A\n",
            " 65%|██████▍   | 35/54 [00:06<00:03,  5.17it/s]\u001b[A\n",
            " 67%|██████▋   | 36/54 [00:06<00:03,  5.20it/s]\u001b[A\n",
            " 69%|██████▊   | 37/54 [00:06<00:03,  5.16it/s]\u001b[A\n",
            " 70%|███████   | 38/54 [00:07<00:03,  4.83it/s]\u001b[A\n",
            " 72%|███████▏  | 39/54 [00:07<00:03,  4.50it/s]\u001b[A\n",
            " 74%|███████▍  | 40/54 [00:07<00:03,  4.58it/s]\u001b[A\n",
            " 76%|███████▌  | 41/54 [00:07<00:02,  4.88it/s]\u001b[A\n",
            " 78%|███████▊  | 42/54 [00:08<00:02,  5.28it/s]\u001b[A\n",
            " 80%|███████▉  | 43/54 [00:08<00:02,  5.10it/s]\u001b[A\n",
            " 81%|████████▏ | 44/54 [00:08<00:02,  4.77it/s]\u001b[A\n",
            " 83%|████████▎ | 45/54 [00:08<00:01,  4.87it/s]\u001b[A\n",
            " 85%|████████▌ | 46/54 [00:08<00:01,  4.91it/s]\u001b[A\n",
            " 87%|████████▋ | 47/54 [00:09<00:01,  5.26it/s]\u001b[A\n",
            " 89%|████████▉ | 48/54 [00:09<00:01,  5.20it/s]\u001b[A\n",
            " 91%|█████████ | 49/54 [00:09<00:00,  5.51it/s]\u001b[A\n",
            " 93%|█████████▎| 50/54 [00:09<00:00,  4.92it/s]\u001b[A\n",
            " 94%|█████████▍| 51/54 [00:09<00:00,  4.73it/s]\u001b[A\n",
            " 96%|█████████▋| 52/54 [00:10<00:00,  5.13it/s]\u001b[A\n",
            " 98%|█████████▊| 53/54 [00:10<00:00,  4.81it/s]\u001b[A\n",
            "100%|██████████| 54/54 [00:10<00:00,  5.14it/s]\n",
            "\n",
            "  0%|          | 0/54 [00:00<?, ?it/s]\u001b[A\n",
            "  2%|▏         | 1/54 [00:00<00:10,  5.14it/s]\u001b[A"
          ],
          "name": "stderr"
        },
        {
          "output_type": "stream",
          "text": [
            "{'ner': 260.0092353702877}\n"
          ],
          "name": "stdout"
        },
        {
          "output_type": "stream",
          "text": [
            "\n",
            "  4%|▎         | 2/54 [00:00<00:10,  5.06it/s]\u001b[A\n",
            "  6%|▌         | 3/54 [00:00<00:09,  5.22it/s]\u001b[A\n",
            "  7%|▋         | 4/54 [00:00<00:09,  5.20it/s]\u001b[A\n",
            "  9%|▉         | 5/54 [00:00<00:09,  5.23it/s]\u001b[A\n",
            " 11%|█         | 6/54 [00:01<00:09,  5.27it/s]\u001b[A\n",
            " 13%|█▎        | 7/54 [00:01<00:08,  5.43it/s]\u001b[A\n",
            " 15%|█▍        | 8/54 [00:01<00:08,  5.38it/s]\u001b[A\n",
            " 17%|█▋        | 9/54 [00:01<00:08,  5.52it/s]\u001b[A\n",
            " 19%|█▊        | 10/54 [00:01<00:08,  5.06it/s]\u001b[A\n",
            " 20%|██        | 11/54 [00:02<00:07,  5.48it/s]\u001b[A\n",
            " 22%|██▏       | 12/54 [00:02<00:08,  5.16it/s]\u001b[A\n",
            " 24%|██▍       | 13/54 [00:02<00:08,  4.69it/s]\u001b[A\n",
            " 26%|██▌       | 14/54 [00:02<00:07,  5.09it/s]\u001b[A\n",
            " 28%|██▊       | 15/54 [00:02<00:08,  4.74it/s]\u001b[A\n",
            " 30%|██▉       | 16/54 [00:03<00:07,  5.16it/s]\u001b[A\n",
            " 31%|███▏      | 17/54 [00:03<00:07,  5.12it/s]\u001b[A\n",
            " 33%|███▎      | 18/54 [00:03<00:07,  4.64it/s]\u001b[A\n",
            " 35%|███▌      | 19/54 [00:03<00:07,  4.56it/s]\u001b[A\n",
            " 37%|███▋      | 20/54 [00:03<00:07,  4.62it/s]\u001b[A\n",
            " 39%|███▉      | 21/54 [00:04<00:07,  4.66it/s]\u001b[A\n",
            " 41%|████      | 22/54 [00:04<00:06,  4.70it/s]\u001b[A\n",
            " 43%|████▎     | 23/54 [00:04<00:05,  5.24it/s]\u001b[A\n",
            " 44%|████▍     | 24/54 [00:04<00:05,  5.33it/s]\u001b[A\n",
            " 46%|████▋     | 25/54 [00:04<00:05,  5.36it/s]\u001b[A\n",
            " 48%|████▊     | 26/54 [00:05<00:05,  5.11it/s]\u001b[A\n",
            " 50%|█████     | 27/54 [00:05<00:05,  5.04it/s]\u001b[A\n",
            " 52%|█████▏    | 28/54 [00:05<00:05,  4.75it/s]\u001b[A\n",
            " 54%|█████▎    | 29/54 [00:05<00:05,  4.99it/s]\u001b[A\n",
            " 56%|█████▌    | 30/54 [00:05<00:04,  5.01it/s]\u001b[A\n",
            " 57%|█████▋    | 31/54 [00:06<00:04,  5.30it/s]\u001b[A\n",
            " 59%|█████▉    | 32/54 [00:06<00:04,  5.15it/s]\u001b[A\n",
            " 61%|██████    | 33/54 [00:06<00:04,  4.84it/s]\u001b[A\n",
            " 63%|██████▎   | 34/54 [00:06<00:04,  4.65it/s]\u001b[A\n",
            " 65%|██████▍   | 35/54 [00:06<00:03,  4.91it/s]\u001b[A\n",
            " 67%|██████▋   | 36/54 [00:07<00:03,  4.97it/s]\u001b[A\n",
            " 69%|██████▊   | 37/54 [00:07<00:03,  4.90it/s]\u001b[A\n",
            " 70%|███████   | 38/54 [00:07<00:03,  4.69it/s]\u001b[A\n",
            " 72%|███████▏  | 39/54 [00:07<00:03,  4.71it/s]\u001b[A\n",
            " 74%|███████▍  | 40/54 [00:08<00:02,  4.90it/s]\u001b[A\n",
            " 76%|███████▌  | 41/54 [00:08<00:02,  5.00it/s]\u001b[A\n",
            " 78%|███████▊  | 42/54 [00:08<00:02,  4.85it/s]\u001b[A\n",
            " 80%|███████▉  | 43/54 [00:08<00:02,  4.92it/s]\u001b[A\n",
            " 81%|████████▏ | 44/54 [00:08<00:01,  5.10it/s]\u001b[A\n",
            " 83%|████████▎ | 45/54 [00:08<00:01,  5.19it/s]\u001b[A\n",
            " 85%|████████▌ | 46/54 [00:09<00:01,  5.65it/s]\u001b[A\n",
            " 87%|████████▋ | 47/54 [00:09<00:01,  4.93it/s]\u001b[A\n",
            " 89%|████████▉ | 48/54 [00:09<00:01,  4.87it/s]\u001b[A\n",
            " 91%|█████████ | 49/54 [00:09<00:01,  4.93it/s]\u001b[A\n",
            " 93%|█████████▎| 50/54 [00:09<00:00,  4.99it/s]\u001b[A\n",
            " 94%|█████████▍| 51/54 [00:10<00:00,  5.46it/s]\u001b[A\n",
            " 96%|█████████▋| 52/54 [00:10<00:00,  5.40it/s]\u001b[A\n",
            " 98%|█████████▊| 53/54 [00:10<00:00,  5.16it/s]\u001b[A\n",
            "100%|██████████| 54/54 [00:10<00:00,  5.05it/s]\n",
            "\n",
            "  0%|          | 0/54 [00:00<?, ?it/s]\u001b[A"
          ],
          "name": "stderr"
        },
        {
          "output_type": "stream",
          "text": [
            "{'ner': 238.7582902884312}\n"
          ],
          "name": "stdout"
        },
        {
          "output_type": "stream",
          "text": [
            "\n",
            "  2%|▏         | 1/54 [00:00<00:14,  3.67it/s]\u001b[A\n",
            "  4%|▎         | 2/54 [00:00<00:13,  3.76it/s]\u001b[A\n",
            "  6%|▌         | 3/54 [00:00<00:13,  3.74it/s]\u001b[A\n",
            "  7%|▋         | 4/54 [00:00<00:11,  4.24it/s]\u001b[A\n",
            "  9%|▉         | 5/54 [00:01<00:10,  4.53it/s]\u001b[A\n",
            " 11%|█         | 6/54 [00:01<00:09,  4.87it/s]\u001b[A\n",
            " 13%|█▎        | 7/54 [00:01<00:08,  5.31it/s]\u001b[A\n",
            " 15%|█▍        | 8/54 [00:01<00:08,  5.49it/s]\u001b[A\n",
            " 17%|█▋        | 9/54 [00:01<00:07,  5.67it/s]\u001b[A\n",
            " 19%|█▊        | 10/54 [00:02<00:08,  4.97it/s]\u001b[A\n",
            " 20%|██        | 11/54 [00:02<00:08,  5.21it/s]\u001b[A\n",
            " 22%|██▏       | 12/54 [00:02<00:07,  5.64it/s]\u001b[A\n",
            " 24%|██▍       | 13/54 [00:02<00:06,  6.00it/s]\u001b[A\n",
            " 26%|██▌       | 14/54 [00:02<00:06,  5.91it/s]\u001b[A\n",
            " 28%|██▊       | 15/54 [00:02<00:07,  5.49it/s]\u001b[A\n",
            " 30%|██▉       | 16/54 [00:03<00:06,  5.88it/s]\u001b[A\n",
            " 31%|███▏      | 17/54 [00:03<00:07,  5.02it/s]\u001b[A\n",
            " 33%|███▎      | 18/54 [00:03<00:07,  5.00it/s]\u001b[A\n",
            " 35%|███▌      | 19/54 [00:03<00:06,  5.43it/s]\u001b[A\n",
            " 37%|███▋      | 20/54 [00:03<00:06,  5.46it/s]\u001b[A\n",
            " 39%|███▉      | 21/54 [00:04<00:06,  5.09it/s]\u001b[A\n",
            " 41%|████      | 22/54 [00:04<00:06,  5.06it/s]\u001b[A\n",
            " 43%|████▎     | 23/54 [00:04<00:05,  5.40it/s]\u001b[A\n",
            " 44%|████▍     | 24/54 [00:04<00:05,  5.24it/s]\u001b[A\n",
            " 46%|████▋     | 25/54 [00:04<00:05,  5.68it/s]\u001b[A\n",
            " 48%|████▊     | 26/54 [00:04<00:04,  6.04it/s]\u001b[A\n",
            " 50%|█████     | 27/54 [00:05<00:04,  5.98it/s]\u001b[A\n",
            " 52%|█████▏    | 28/54 [00:05<00:04,  5.80it/s]\u001b[A\n",
            " 54%|█████▎    | 29/54 [00:05<00:04,  5.45it/s]\u001b[A\n",
            " 56%|█████▌    | 30/54 [00:05<00:04,  5.32it/s]\u001b[A\n",
            " 57%|█████▋    | 31/54 [00:05<00:04,  5.47it/s]\u001b[A\n",
            " 59%|█████▉    | 32/54 [00:06<00:04,  5.13it/s]\u001b[A\n",
            " 61%|██████    | 33/54 [00:06<00:04,  5.08it/s]\u001b[A\n",
            " 63%|██████▎   | 34/54 [00:06<00:04,  4.98it/s]\u001b[A\n",
            " 65%|██████▍   | 35/54 [00:06<00:04,  4.66it/s]\u001b[A\n",
            " 67%|██████▋   | 36/54 [00:06<00:03,  5.06it/s]\u001b[A\n",
            " 69%|██████▊   | 37/54 [00:07<00:03,  5.26it/s]\u001b[A\n",
            " 70%|███████   | 38/54 [00:07<00:02,  5.57it/s]\u001b[A\n",
            " 72%|███████▏  | 39/54 [00:07<00:02,  5.60it/s]\u001b[A\n",
            " 74%|███████▍  | 40/54 [00:07<00:02,  5.62it/s]\u001b[A\n",
            " 76%|███████▌  | 41/54 [00:07<00:02,  5.45it/s]\u001b[A\n",
            " 78%|███████▊  | 42/54 [00:07<00:02,  5.15it/s]\u001b[A\n",
            " 80%|███████▉  | 43/54 [00:08<00:02,  5.32it/s]\u001b[A\n",
            " 81%|████████▏ | 44/54 [00:08<00:01,  5.60it/s]\u001b[A\n",
            " 83%|████████▎ | 45/54 [00:08<00:01,  5.31it/s]\u001b[A\n",
            " 85%|████████▌ | 46/54 [00:08<00:01,  5.12it/s]\u001b[A\n",
            " 87%|████████▋ | 47/54 [00:08<00:01,  5.01it/s]\u001b[A\n",
            " 89%|████████▉ | 48/54 [00:09<00:01,  5.05it/s]\u001b[A\n",
            " 91%|█████████ | 49/54 [00:09<00:00,  5.33it/s]\u001b[A\n",
            " 93%|█████████▎| 50/54 [00:09<00:00,  4.92it/s]\u001b[A\n",
            " 94%|█████████▍| 51/54 [00:09<00:00,  4.74it/s]\u001b[A\n",
            " 96%|█████████▋| 52/54 [00:09<00:00,  4.92it/s]\u001b[A\n",
            " 98%|█████████▊| 53/54 [00:10<00:00,  4.76it/s]\u001b[A\n",
            "100%|██████████| 54/54 [00:10<00:00,  5.20it/s]\n",
            "\n",
            "  0%|          | 0/54 [00:00<?, ?it/s]\u001b[A"
          ],
          "name": "stderr"
        },
        {
          "output_type": "stream",
          "text": [
            "{'ner': 235.34965677820412}\n"
          ],
          "name": "stdout"
        },
        {
          "output_type": "stream",
          "text": [
            "\n",
            "  2%|▏         | 1/54 [00:00<00:11,  4.77it/s]\u001b[A\n",
            "  4%|▎         | 2/54 [00:00<00:10,  4.93it/s]\u001b[A\n",
            "  6%|▌         | 3/54 [00:00<00:09,  5.27it/s]\u001b[A\n",
            "  7%|▋         | 4/54 [00:00<00:09,  5.41it/s]\u001b[A\n",
            "  9%|▉         | 5/54 [00:00<00:09,  5.32it/s]\u001b[A\n",
            " 11%|█         | 6/54 [00:01<00:08,  5.77it/s]\u001b[A\n",
            " 13%|█▎        | 7/54 [00:01<00:07,  6.06it/s]\u001b[A\n",
            " 15%|█▍        | 8/54 [00:01<00:07,  6.07it/s]\u001b[A\n",
            " 17%|█▋        | 9/54 [00:01<00:08,  5.62it/s]\u001b[A\n",
            " 19%|█▊        | 10/54 [00:01<00:08,  5.05it/s]\u001b[A\n",
            " 20%|██        | 11/54 [00:02<00:08,  5.20it/s]\u001b[A\n",
            " 22%|██▏       | 12/54 [00:02<00:07,  5.65it/s]\u001b[A\n",
            " 24%|██▍       | 13/54 [00:02<00:07,  5.39it/s]\u001b[A\n",
            " 26%|██▌       | 14/54 [00:02<00:08,  4.84it/s]\u001b[A\n",
            " 28%|██▊       | 15/54 [00:02<00:07,  5.19it/s]\u001b[A\n",
            " 30%|██▉       | 16/54 [00:02<00:07,  5.30it/s]\u001b[A\n",
            " 31%|███▏      | 17/54 [00:03<00:06,  5.39it/s]\u001b[A\n",
            " 33%|███▎      | 18/54 [00:03<00:07,  5.12it/s]\u001b[A\n",
            " 35%|███▌      | 19/54 [00:03<00:07,  4.96it/s]\u001b[A\n",
            " 37%|███▋      | 20/54 [00:03<00:07,  4.82it/s]\u001b[A\n",
            " 39%|███▉      | 21/54 [00:04<00:07,  4.67it/s]\u001b[A\n",
            " 41%|████      | 22/54 [00:04<00:06,  4.67it/s]\u001b[A\n",
            " 43%|████▎     | 23/54 [00:04<00:07,  4.40it/s]\u001b[A\n",
            " 44%|████▍     | 24/54 [00:04<00:06,  4.99it/s]\u001b[A\n",
            " 46%|████▋     | 25/54 [00:04<00:05,  4.94it/s]\u001b[A\n",
            " 48%|████▊     | 26/54 [00:05<00:05,  4.95it/s]\u001b[A\n",
            " 50%|█████     | 27/54 [00:05<00:05,  5.06it/s]\u001b[A\n",
            " 52%|█████▏    | 28/54 [00:05<00:05,  4.90it/s]\u001b[A\n",
            " 54%|█████▎    | 29/54 [00:05<00:05,  4.65it/s]\u001b[A\n",
            " 56%|█████▌    | 30/54 [00:05<00:04,  5.02it/s]\u001b[A\n",
            " 57%|█████▋    | 31/54 [00:06<00:04,  5.26it/s]\u001b[A\n",
            " 59%|█████▉    | 32/54 [00:06<00:04,  5.30it/s]\u001b[A\n",
            " 61%|██████    | 33/54 [00:06<00:03,  5.27it/s]\u001b[A\n",
            " 63%|██████▎   | 34/54 [00:06<00:03,  5.60it/s]\u001b[A\n",
            " 65%|██████▍   | 35/54 [00:06<00:03,  5.21it/s]\u001b[A\n",
            " 67%|██████▋   | 36/54 [00:06<00:03,  5.41it/s]\u001b[A\n",
            " 69%|██████▊   | 37/54 [00:07<00:03,  4.70it/s]\u001b[A\n",
            " 70%|███████   | 38/54 [00:07<00:03,  4.50it/s]\u001b[A\n",
            " 72%|███████▏  | 39/54 [00:07<00:02,  5.05it/s]\u001b[A\n",
            " 74%|███████▍  | 40/54 [00:07<00:02,  5.19it/s]\u001b[A\n",
            " 76%|███████▌  | 41/54 [00:07<00:02,  5.22it/s]\u001b[A\n",
            " 78%|███████▊  | 42/54 [00:08<00:02,  5.62it/s]\u001b[A\n",
            " 80%|███████▉  | 43/54 [00:08<00:01,  5.76it/s]\u001b[A\n",
            " 81%|████████▏ | 44/54 [00:08<00:02,  4.98it/s]\u001b[A\n",
            " 83%|████████▎ | 45/54 [00:08<00:01,  5.13it/s]\u001b[A\n",
            " 85%|████████▌ | 46/54 [00:08<00:01,  5.19it/s]\u001b[A\n",
            " 87%|████████▋ | 47/54 [00:09<00:01,  5.15it/s]\u001b[A\n",
            " 89%|████████▉ | 48/54 [00:09<00:01,  5.30it/s]\u001b[A\n",
            " 91%|█████████ | 49/54 [00:09<00:00,  5.05it/s]\u001b[A\n",
            " 93%|█████████▎| 50/54 [00:09<00:00,  4.78it/s]\u001b[A\n",
            " 94%|█████████▍| 51/54 [00:09<00:00,  5.07it/s]\u001b[A\n",
            " 96%|█████████▋| 52/54 [00:10<00:00,  5.34it/s]\u001b[A\n",
            " 98%|█████████▊| 53/54 [00:10<00:00,  5.46it/s]\u001b[A\n",
            "100%|██████████| 54/54 [00:10<00:00,  5.15it/s]\n",
            "\n",
            "  0%|          | 0/54 [00:00<?, ?it/s]\u001b[A\n",
            "  2%|▏         | 1/54 [00:00<00:08,  6.31it/s]\u001b[A"
          ],
          "name": "stderr"
        },
        {
          "output_type": "stream",
          "text": [
            "{'ner': 213.66099467053604}\n"
          ],
          "name": "stdout"
        },
        {
          "output_type": "stream",
          "text": [
            "\n",
            "  4%|▎         | 2/54 [00:00<00:09,  5.57it/s]\u001b[A\n",
            "  6%|▌         | 3/54 [00:00<00:09,  5.41it/s]\u001b[A\n",
            "  7%|▋         | 4/54 [00:00<00:09,  5.39it/s]\u001b[A\n",
            "  9%|▉         | 5/54 [00:00<00:08,  5.87it/s]\u001b[A\n",
            " 11%|█         | 6/54 [00:01<00:08,  5.42it/s]\u001b[A\n",
            " 13%|█▎        | 7/54 [00:01<00:08,  5.63it/s]\u001b[A\n",
            " 15%|█▍        | 8/54 [00:01<00:08,  5.60it/s]\u001b[A\n",
            " 17%|█▋        | 9/54 [00:01<00:08,  5.52it/s]\u001b[A\n",
            " 19%|█▊        | 10/54 [00:01<00:08,  5.41it/s]\u001b[A\n",
            " 20%|██        | 11/54 [00:01<00:07,  5.75it/s]\u001b[A\n",
            " 22%|██▏       | 12/54 [00:02<00:07,  5.76it/s]\u001b[A\n",
            " 24%|██▍       | 13/54 [00:02<00:06,  6.04it/s]\u001b[A\n",
            " 26%|██▌       | 14/54 [00:02<00:07,  5.62it/s]\u001b[A\n",
            " 28%|██▊       | 15/54 [00:02<00:07,  4.93it/s]\u001b[A\n",
            " 30%|██▉       | 16/54 [00:02<00:07,  5.15it/s]\u001b[A\n",
            " 31%|███▏      | 17/54 [00:03<00:07,  4.64it/s]\u001b[A\n",
            " 33%|███▎      | 18/54 [00:03<00:07,  5.02it/s]\u001b[A\n",
            " 35%|███▌      | 19/54 [00:03<00:06,  5.23it/s]\u001b[A\n",
            " 37%|███▋      | 20/54 [00:03<00:06,  5.56it/s]\u001b[A\n",
            " 39%|███▉      | 21/54 [00:03<00:05,  5.90it/s]\u001b[A\n",
            " 41%|████      | 22/54 [00:04<00:05,  5.94it/s]\u001b[A\n",
            " 43%|████▎     | 23/54 [00:04<00:05,  5.90it/s]\u001b[A\n",
            " 44%|████▍     | 24/54 [00:04<00:05,  5.37it/s]\u001b[A\n",
            " 46%|████▋     | 25/54 [00:04<00:05,  5.55it/s]\u001b[A\n",
            " 48%|████▊     | 26/54 [00:04<00:05,  5.07it/s]\u001b[A\n",
            " 50%|█████     | 27/54 [00:05<00:05,  5.22it/s]\u001b[A\n",
            " 52%|█████▏    | 28/54 [00:05<00:05,  5.11it/s]\u001b[A\n",
            " 54%|█████▎    | 29/54 [00:05<00:04,  5.12it/s]\u001b[A\n",
            " 56%|█████▌    | 30/54 [00:05<00:05,  4.79it/s]\u001b[A\n",
            " 57%|█████▋    | 31/54 [00:05<00:04,  4.82it/s]\u001b[A\n",
            " 59%|█████▉    | 32/54 [00:06<00:04,  4.81it/s]\u001b[A\n",
            " 61%|██████    | 33/54 [00:06<00:04,  5.08it/s]\u001b[A\n",
            " 63%|██████▎   | 34/54 [00:06<00:03,  5.11it/s]\u001b[A\n",
            " 65%|██████▍   | 35/54 [00:06<00:03,  5.09it/s]\u001b[A\n",
            " 67%|██████▋   | 36/54 [00:06<00:03,  5.40it/s]\u001b[A\n",
            " 69%|██████▊   | 37/54 [00:07<00:03,  4.94it/s]\u001b[A\n",
            " 70%|███████   | 38/54 [00:07<00:03,  4.78it/s]\u001b[A\n",
            " 72%|███████▏  | 39/54 [00:07<00:03,  4.63it/s]\u001b[A\n",
            " 74%|███████▍  | 40/54 [00:07<00:02,  5.15it/s]\u001b[A\n",
            " 76%|███████▌  | 41/54 [00:07<00:02,  4.86it/s]\u001b[A\n",
            " 78%|███████▊  | 42/54 [00:08<00:02,  4.73it/s]\u001b[A\n",
            " 80%|███████▉  | 43/54 [00:08<00:02,  4.90it/s]\u001b[A\n",
            " 81%|████████▏ | 44/54 [00:08<00:02,  4.65it/s]\u001b[A\n",
            " 83%|████████▎ | 45/54 [00:08<00:02,  4.38it/s]\u001b[A\n",
            " 85%|████████▌ | 46/54 [00:08<00:01,  4.49it/s]\u001b[A\n",
            " 87%|████████▋ | 47/54 [00:09<00:01,  4.78it/s]\u001b[A\n",
            " 89%|████████▉ | 48/54 [00:09<00:01,  4.91it/s]\u001b[A\n",
            " 91%|█████████ | 49/54 [00:09<00:00,  5.11it/s]\u001b[A\n",
            " 93%|█████████▎| 50/54 [00:09<00:00,  4.64it/s]\u001b[A\n",
            " 94%|█████████▍| 51/54 [00:09<00:00,  5.08it/s]\u001b[A\n",
            " 96%|█████████▋| 52/54 [00:10<00:00,  5.51it/s]\u001b[A\n",
            " 98%|█████████▊| 53/54 [00:10<00:00,  5.67it/s]\u001b[A\n",
            "100%|██████████| 54/54 [00:10<00:00,  5.18it/s]\n",
            "\n",
            "  0%|          | 0/54 [00:00<?, ?it/s]\u001b[A\n",
            "  2%|▏         | 1/54 [00:00<00:09,  5.48it/s]\u001b[A"
          ],
          "name": "stderr"
        },
        {
          "output_type": "stream",
          "text": [
            "{'ner': 199.12016421434583}\n"
          ],
          "name": "stdout"
        },
        {
          "output_type": "stream",
          "text": [
            "\n",
            "  4%|▎         | 2/54 [00:00<00:08,  5.83it/s]\u001b[A\n",
            "  6%|▌         | 3/54 [00:00<00:09,  5.21it/s]\u001b[A\n",
            "  7%|▋         | 4/54 [00:00<00:08,  5.58it/s]\u001b[A\n",
            "  9%|▉         | 5/54 [00:00<00:08,  5.57it/s]\u001b[A\n",
            " 11%|█         | 6/54 [00:01<00:08,  5.92it/s]\u001b[A\n",
            " 13%|█▎        | 7/54 [00:01<00:08,  5.31it/s]\u001b[A\n",
            " 15%|█▍        | 8/54 [00:01<00:08,  5.19it/s]\u001b[A\n",
            " 17%|█▋        | 9/54 [00:01<00:09,  4.78it/s]\u001b[A\n",
            " 19%|█▊        | 10/54 [00:01<00:08,  5.06it/s]\u001b[A\n",
            " 20%|██        | 11/54 [00:02<00:07,  5.38it/s]\u001b[A\n",
            " 22%|██▏       | 12/54 [00:02<00:07,  5.33it/s]\u001b[A\n",
            " 24%|██▍       | 13/54 [00:02<00:08,  4.77it/s]\u001b[A\n",
            " 26%|██▌       | 14/54 [00:02<00:08,  4.72it/s]\u001b[A\n",
            " 28%|██▊       | 15/54 [00:03<00:09,  4.11it/s]\u001b[A\n",
            " 30%|██▉       | 16/54 [00:03<00:09,  3.85it/s]\u001b[A\n",
            " 31%|███▏      | 17/54 [00:03<00:10,  3.37it/s]\u001b[A\n",
            " 33%|███▎      | 18/54 [00:04<00:10,  3.41it/s]\u001b[A\n",
            " 35%|███▌      | 19/54 [00:04<00:11,  3.11it/s]\u001b[A\n",
            " 37%|███▋      | 20/54 [00:04<00:10,  3.34it/s]\u001b[A\n",
            " 39%|███▉      | 21/54 [00:04<00:08,  3.82it/s]\u001b[A\n",
            " 41%|████      | 22/54 [00:04<00:07,  4.30it/s]\u001b[A\n",
            " 43%|████▎     | 23/54 [00:05<00:07,  4.33it/s]\u001b[A\n",
            " 44%|████▍     | 24/54 [00:05<00:06,  4.52it/s]\u001b[A\n",
            " 46%|████▋     | 25/54 [00:05<00:06,  4.83it/s]\u001b[A\n",
            " 48%|████▊     | 26/54 [00:05<00:05,  4.87it/s]\u001b[A\n",
            " 50%|█████     | 27/54 [00:05<00:05,  5.11it/s]\u001b[A\n",
            " 52%|█████▏    | 28/54 [00:06<00:04,  5.48it/s]\u001b[A\n",
            " 54%|█████▎    | 29/54 [00:06<00:04,  5.27it/s]\u001b[A\n",
            " 56%|█████▌    | 30/54 [00:06<00:05,  4.74it/s]\u001b[A\n",
            " 57%|█████▋    | 31/54 [00:06<00:04,  4.74it/s]\u001b[A\n",
            " 59%|█████▉    | 32/54 [00:06<00:04,  4.94it/s]\u001b[A\n",
            " 61%|██████    | 33/54 [00:07<00:04,  5.21it/s]\u001b[A\n",
            " 63%|██████▎   | 34/54 [00:07<00:04,  4.86it/s]\u001b[A\n",
            " 65%|██████▍   | 35/54 [00:07<00:03,  4.99it/s]\u001b[A\n",
            " 67%|██████▋   | 36/54 [00:07<00:03,  5.18it/s]\u001b[A\n",
            " 69%|██████▊   | 37/54 [00:07<00:03,  5.56it/s]\u001b[A\n",
            " 70%|███████   | 38/54 [00:08<00:02,  5.77it/s]\u001b[A\n",
            " 72%|███████▏  | 39/54 [00:08<00:02,  5.97it/s]\u001b[A\n",
            " 74%|███████▍  | 40/54 [00:08<00:02,  5.71it/s]\u001b[A\n",
            " 76%|███████▌  | 41/54 [00:08<00:02,  5.52it/s]\u001b[A\n",
            " 78%|███████▊  | 42/54 [00:08<00:02,  5.29it/s]\u001b[A\n",
            " 80%|███████▉  | 43/54 [00:09<00:02,  4.97it/s]\u001b[A\n",
            " 81%|████████▏ | 44/54 [00:09<00:02,  4.83it/s]\u001b[A\n",
            " 83%|████████▎ | 45/54 [00:09<00:01,  4.82it/s]\u001b[A\n",
            " 85%|████████▌ | 46/54 [00:09<00:01,  5.04it/s]\u001b[A\n",
            " 87%|████████▋ | 47/54 [00:09<00:01,  4.94it/s]\u001b[A\n",
            " 89%|████████▉ | 48/54 [00:10<00:01,  4.59it/s]\u001b[A\n",
            " 91%|█████████ | 49/54 [00:10<00:00,  5.11it/s]\u001b[A\n",
            " 93%|█████████▎| 50/54 [00:10<00:00,  4.65it/s]\u001b[A\n",
            " 94%|█████████▍| 51/54 [00:10<00:00,  4.77it/s]\u001b[A\n",
            " 96%|█████████▋| 52/54 [00:10<00:00,  4.66it/s]\u001b[A\n",
            " 98%|█████████▊| 53/54 [00:11<00:00,  4.53it/s]\u001b[A\n",
            "100%|██████████| 54/54 [00:11<00:00,  4.75it/s]\n",
            "\n",
            "  0%|          | 0/54 [00:00<?, ?it/s]\u001b[A\n",
            "  2%|▏         | 1/54 [00:00<00:09,  5.59it/s]\u001b[A"
          ],
          "name": "stderr"
        },
        {
          "output_type": "stream",
          "text": [
            "{'ner': 191.78110059343138}\n"
          ],
          "name": "stdout"
        },
        {
          "output_type": "stream",
          "text": [
            "\n",
            "  4%|▎         | 2/54 [00:00<00:10,  5.16it/s]\u001b[A\n",
            "  6%|▌         | 3/54 [00:00<00:10,  4.66it/s]\u001b[A\n",
            "  7%|▋         | 4/54 [00:00<00:10,  4.79it/s]\u001b[A\n",
            "  9%|▉         | 5/54 [00:01<00:09,  4.99it/s]\u001b[A\n",
            " 11%|█         | 6/54 [00:01<00:08,  5.45it/s]\u001b[A\n",
            " 13%|█▎        | 7/54 [00:01<00:08,  5.30it/s]\u001b[A\n",
            " 15%|█▍        | 8/54 [00:01<00:08,  5.74it/s]\u001b[A\n",
            " 17%|█▋        | 9/54 [00:01<00:08,  5.47it/s]\u001b[A\n",
            " 19%|█▊        | 10/54 [00:01<00:08,  5.16it/s]\u001b[A\n",
            " 20%|██        | 11/54 [00:02<00:08,  4.82it/s]\u001b[A\n",
            " 22%|██▏       | 12/54 [00:02<00:08,  5.06it/s]\u001b[A\n",
            " 24%|██▍       | 13/54 [00:02<00:08,  4.97it/s]\u001b[A\n",
            " 26%|██▌       | 14/54 [00:02<00:07,  5.23it/s]\u001b[A\n",
            " 28%|██▊       | 15/54 [00:02<00:07,  5.10it/s]\u001b[A\n",
            " 30%|██▉       | 16/54 [00:03<00:07,  5.18it/s]\u001b[A\n",
            " 31%|███▏      | 17/54 [00:03<00:07,  5.21it/s]\u001b[A\n",
            " 33%|███▎      | 18/54 [00:03<00:06,  5.33it/s]\u001b[A\n",
            " 35%|███▌      | 19/54 [00:03<00:06,  5.81it/s]\u001b[A\n",
            " 37%|███▋      | 20/54 [00:03<00:06,  5.48it/s]\u001b[A\n",
            " 39%|███▉      | 21/54 [00:04<00:06,  5.33it/s]\u001b[A\n",
            " 41%|████      | 22/54 [00:04<00:05,  5.53it/s]\u001b[A\n",
            " 43%|████▎     | 23/54 [00:04<00:05,  5.47it/s]\u001b[A\n",
            " 44%|████▍     | 24/54 [00:04<00:05,  5.86it/s]\u001b[A\n",
            " 46%|████▋     | 25/54 [00:04<00:04,  5.82it/s]\u001b[A\n",
            " 48%|████▊     | 26/54 [00:04<00:05,  5.22it/s]\u001b[A\n",
            " 50%|█████     | 27/54 [00:05<00:04,  5.71it/s]\u001b[A\n",
            " 52%|█████▏    | 28/54 [00:05<00:04,  5.54it/s]\u001b[A\n",
            " 54%|█████▎    | 29/54 [00:05<00:04,  5.09it/s]\u001b[A\n",
            " 56%|█████▌    | 30/54 [00:05<00:04,  5.20it/s]\u001b[A\n",
            " 57%|█████▋    | 31/54 [00:05<00:04,  5.42it/s]\u001b[A\n",
            " 59%|█████▉    | 32/54 [00:06<00:04,  5.40it/s]\u001b[A\n",
            " 61%|██████    | 33/54 [00:06<00:03,  5.83it/s]\u001b[A\n",
            " 63%|██████▎   | 34/54 [00:06<00:03,  6.00it/s]\u001b[A\n",
            " 65%|██████▍   | 35/54 [00:06<00:03,  5.68it/s]\u001b[A\n",
            " 67%|██████▋   | 36/54 [00:06<00:03,  5.63it/s]\u001b[A\n",
            " 69%|██████▊   | 37/54 [00:06<00:03,  5.11it/s]\u001b[A\n",
            " 70%|███████   | 38/54 [00:07<00:03,  4.64it/s]\u001b[A\n",
            " 72%|███████▏  | 39/54 [00:07<00:03,  4.71it/s]\u001b[A\n",
            " 74%|███████▍  | 40/54 [00:07<00:03,  4.44it/s]\u001b[A\n",
            " 76%|███████▌  | 41/54 [00:07<00:02,  5.01it/s]\u001b[A\n",
            " 78%|███████▊  | 42/54 [00:08<00:02,  4.85it/s]\u001b[A\n",
            " 80%|███████▉  | 43/54 [00:08<00:02,  5.29it/s]\u001b[A\n",
            " 81%|████████▏ | 44/54 [00:08<00:01,  5.55it/s]\u001b[A\n",
            " 83%|████████▎ | 45/54 [00:08<00:01,  5.33it/s]\u001b[A\n",
            " 85%|████████▌ | 46/54 [00:08<00:01,  4.90it/s]\u001b[A\n",
            " 87%|████████▋ | 47/54 [00:08<00:01,  5.17it/s]\u001b[A\n",
            " 89%|████████▉ | 48/54 [00:09<00:01,  5.57it/s]\u001b[A\n",
            " 91%|█████████ | 49/54 [00:09<00:00,  5.39it/s]\u001b[A\n",
            " 93%|█████████▎| 50/54 [00:09<00:00,  5.03it/s]\u001b[A\n",
            " 94%|█████████▍| 51/54 [00:09<00:00,  5.51it/s]\u001b[A\n",
            " 96%|█████████▋| 52/54 [00:09<00:00,  5.40it/s]\u001b[A\n",
            " 98%|█████████▊| 53/54 [00:10<00:00,  5.54it/s]\u001b[A\n",
            "100%|██████████| 54/54 [00:10<00:00,  5.25it/s]\n",
            "\n",
            "  0%|          | 0/54 [00:00<?, ?it/s]\u001b[A"
          ],
          "name": "stderr"
        },
        {
          "output_type": "stream",
          "text": [
            "{'ner': 224.28709510645072}\n"
          ],
          "name": "stdout"
        },
        {
          "output_type": "stream",
          "text": [
            "\n",
            "  2%|▏         | 1/54 [00:00<00:11,  4.80it/s]\u001b[A\n",
            "  4%|▎         | 2/54 [00:00<00:09,  5.23it/s]\u001b[A\n",
            "  6%|▌         | 3/54 [00:00<00:09,  5.24it/s]\u001b[A\n",
            "  7%|▋         | 4/54 [00:00<00:09,  5.06it/s]\u001b[A\n",
            "  9%|▉         | 5/54 [00:01<00:10,  4.71it/s]\u001b[A\n",
            " 11%|█         | 6/54 [00:01<00:09,  5.26it/s]\u001b[A\n",
            " 13%|█▎        | 7/54 [00:01<00:08,  5.32it/s]\u001b[A\n",
            " 15%|█▍        | 8/54 [00:01<00:08,  5.20it/s]\u001b[A\n",
            " 17%|█▋        | 9/54 [00:01<00:08,  5.05it/s]\u001b[A\n",
            " 19%|█▊        | 10/54 [00:01<00:08,  4.98it/s]\u001b[A\n",
            " 20%|██        | 11/54 [00:02<00:08,  4.96it/s]\u001b[A\n",
            " 22%|██▏       | 12/54 [00:02<00:08,  5.25it/s]\u001b[A\n",
            " 24%|██▍       | 13/54 [00:02<00:07,  5.60it/s]\u001b[A\n",
            " 26%|██▌       | 14/54 [00:02<00:06,  5.95it/s]\u001b[A\n",
            " 28%|██▊       | 15/54 [00:02<00:06,  5.76it/s]\u001b[A\n",
            " 30%|██▉       | 16/54 [00:02<00:06,  5.97it/s]\u001b[A\n",
            " 31%|███▏      | 17/54 [00:03<00:06,  5.69it/s]\u001b[A\n",
            " 33%|███▎      | 18/54 [00:03<00:06,  5.80it/s]\u001b[A\n",
            " 35%|███▌      | 19/54 [00:03<00:06,  5.13it/s]\u001b[A\n",
            " 37%|███▋      | 20/54 [00:03<00:06,  5.16it/s]\u001b[A\n",
            " 39%|███▉      | 21/54 [00:03<00:06,  5.15it/s]\u001b[A\n",
            " 41%|████      | 22/54 [00:04<00:06,  5.08it/s]\u001b[A\n",
            " 43%|████▎     | 23/54 [00:04<00:06,  5.03it/s]\u001b[A\n",
            " 44%|████▍     | 24/54 [00:04<00:05,  5.34it/s]\u001b[A\n",
            " 46%|████▋     | 25/54 [00:04<00:05,  5.22it/s]\u001b[A\n",
            " 48%|████▊     | 26/54 [00:04<00:05,  4.69it/s]\u001b[A\n",
            " 50%|█████     | 27/54 [00:05<00:05,  4.80it/s]\u001b[A\n",
            " 52%|█████▏    | 28/54 [00:05<00:05,  4.78it/s]\u001b[A\n",
            " 54%|█████▎    | 29/54 [00:05<00:05,  4.99it/s]\u001b[A\n",
            " 56%|█████▌    | 30/54 [00:05<00:04,  4.99it/s]\u001b[A\n",
            " 57%|█████▋    | 31/54 [00:05<00:04,  5.24it/s]\u001b[A\n",
            " 59%|█████▉    | 32/54 [00:06<00:03,  5.52it/s]\u001b[A\n",
            " 61%|██████    | 33/54 [00:06<00:03,  5.92it/s]\u001b[A\n",
            " 63%|██████▎   | 34/54 [00:06<00:03,  5.35it/s]\u001b[A\n",
            " 65%|██████▍   | 35/54 [00:06<00:03,  5.15it/s]\u001b[A\n",
            " 67%|██████▋   | 36/54 [00:06<00:03,  5.07it/s]\u001b[A\n",
            " 69%|██████▊   | 37/54 [00:07<00:03,  5.18it/s]\u001b[A\n",
            " 70%|███████   | 38/54 [00:07<00:03,  4.83it/s]\u001b[A\n",
            " 72%|███████▏  | 39/54 [00:07<00:03,  4.68it/s]\u001b[A\n",
            " 74%|███████▍  | 40/54 [00:07<00:03,  4.62it/s]\u001b[A\n",
            " 76%|███████▌  | 41/54 [00:07<00:02,  4.68it/s]\u001b[A\n",
            " 78%|███████▊  | 42/54 [00:08<00:02,  4.58it/s]\u001b[A\n",
            " 80%|███████▉  | 43/54 [00:08<00:02,  4.95it/s]\u001b[A\n",
            " 81%|████████▏ | 44/54 [00:08<00:02,  4.68it/s]\u001b[A\n",
            " 83%|████████▎ | 45/54 [00:08<00:01,  5.04it/s]\u001b[A\n",
            " 85%|████████▌ | 46/54 [00:08<00:01,  5.10it/s]\u001b[A\n",
            " 87%|████████▋ | 47/54 [00:09<00:01,  5.18it/s]\u001b[A\n",
            " 89%|████████▉ | 48/54 [00:09<00:01,  5.17it/s]\u001b[A\n",
            " 91%|█████████ | 49/54 [00:09<00:00,  5.58it/s]\u001b[A\n",
            " 93%|█████████▎| 50/54 [00:09<00:00,  5.90it/s]\u001b[A\n",
            " 94%|█████████▍| 51/54 [00:09<00:00,  5.54it/s]\u001b[A\n",
            " 96%|█████████▋| 52/54 [00:10<00:00,  5.27it/s]\u001b[A\n",
            " 98%|█████████▊| 53/54 [00:10<00:00,  5.51it/s]\u001b[A\n",
            "100%|██████████| 54/54 [00:10<00:00,  5.19it/s]\n",
            "\n",
            "  0%|          | 0/54 [00:00<?, ?it/s]\u001b[A\n",
            "  2%|▏         | 1/54 [00:00<00:07,  6.71it/s]\u001b[A"
          ],
          "name": "stderr"
        },
        {
          "output_type": "stream",
          "text": [
            "{'ner': 172.41077848676633}\n"
          ],
          "name": "stdout"
        },
        {
          "output_type": "stream",
          "text": [
            "\n",
            "  4%|▎         | 2/54 [00:00<00:08,  6.37it/s]\u001b[A\n",
            "  6%|▌         | 3/54 [00:00<00:09,  5.62it/s]\u001b[A\n",
            "  7%|▋         | 4/54 [00:00<00:08,  5.71it/s]\u001b[A\n",
            "  9%|▉         | 5/54 [00:00<00:09,  5.26it/s]\u001b[A\n",
            " 11%|█         | 6/54 [00:01<00:08,  5.45it/s]\u001b[A\n",
            " 13%|█▎        | 7/54 [00:01<00:08,  5.42it/s]\u001b[A\n",
            " 15%|█▍        | 8/54 [00:01<00:08,  5.35it/s]\u001b[A\n",
            " 17%|█▋        | 9/54 [00:01<00:08,  5.45it/s]\u001b[A\n",
            " 19%|█▊        | 10/54 [00:01<00:07,  5.75it/s]\u001b[A\n",
            " 20%|██        | 11/54 [00:01<00:07,  5.78it/s]\u001b[A\n",
            " 22%|██▏       | 12/54 [00:02<00:08,  4.98it/s]\u001b[A\n",
            " 24%|██▍       | 13/54 [00:02<00:08,  4.99it/s]\u001b[A\n",
            " 26%|██▌       | 14/54 [00:02<00:07,  5.45it/s]\u001b[A\n",
            " 28%|██▊       | 15/54 [00:02<00:06,  5.59it/s]\u001b[A\n",
            " 30%|██▉       | 16/54 [00:02<00:06,  5.55it/s]\u001b[A\n",
            " 31%|███▏      | 17/54 [00:03<00:06,  5.75it/s]\u001b[A\n",
            " 33%|███▎      | 18/54 [00:03<00:06,  5.49it/s]\u001b[A\n",
            " 35%|███▌      | 19/54 [00:03<00:06,  5.37it/s]\u001b[A\n",
            " 37%|███▋      | 20/54 [00:03<00:06,  5.53it/s]\u001b[A\n",
            " 39%|███▉      | 21/54 [00:03<00:06,  5.39it/s]\u001b[A\n",
            " 41%|████      | 22/54 [00:04<00:06,  5.27it/s]\u001b[A\n",
            " 43%|████▎     | 23/54 [00:04<00:06,  4.85it/s]\u001b[A\n",
            " 44%|████▍     | 24/54 [00:04<00:06,  4.80it/s]\u001b[A\n",
            " 46%|████▋     | 25/54 [00:04<00:05,  5.37it/s]\u001b[A\n",
            " 48%|████▊     | 26/54 [00:04<00:05,  5.25it/s]\u001b[A\n",
            " 50%|█████     | 27/54 [00:05<00:04,  5.69it/s]\u001b[A\n",
            " 52%|█████▏    | 28/54 [00:05<00:05,  4.94it/s]\u001b[A\n",
            " 54%|█████▎    | 29/54 [00:05<00:05,  4.98it/s]\u001b[A\n",
            " 56%|█████▌    | 30/54 [00:05<00:04,  4.95it/s]\u001b[A\n",
            " 57%|█████▋    | 31/54 [00:05<00:04,  5.16it/s]\u001b[A\n",
            " 59%|█████▉    | 32/54 [00:06<00:04,  5.04it/s]\u001b[A\n",
            " 61%|██████    | 33/54 [00:06<00:03,  5.31it/s]\u001b[A\n",
            " 63%|██████▎   | 34/54 [00:06<00:03,  5.13it/s]\u001b[A\n",
            " 65%|██████▍   | 35/54 [00:06<00:03,  5.03it/s]\u001b[A\n",
            " 67%|██████▋   | 36/54 [00:06<00:03,  5.13it/s]\u001b[A\n",
            " 69%|██████▊   | 37/54 [00:07<00:03,  5.02it/s]\u001b[A\n",
            " 70%|███████   | 38/54 [00:07<00:03,  5.13it/s]\u001b[A\n",
            " 72%|███████▏  | 39/54 [00:07<00:03,  4.95it/s]\u001b[A\n",
            " 74%|███████▍  | 40/54 [00:07<00:02,  4.81it/s]\u001b[A\n",
            " 76%|███████▌  | 41/54 [00:07<00:02,  5.04it/s]\u001b[A\n",
            " 78%|███████▊  | 42/54 [00:07<00:02,  5.41it/s]\u001b[A\n",
            " 80%|███████▉  | 43/54 [00:08<00:02,  5.48it/s]\u001b[A\n",
            " 81%|████████▏ | 44/54 [00:08<00:01,  5.31it/s]\u001b[A\n",
            " 83%|████████▎ | 45/54 [00:08<00:01,  4.99it/s]\u001b[A\n",
            " 85%|████████▌ | 46/54 [00:08<00:01,  5.01it/s]\u001b[A\n",
            " 87%|████████▋ | 47/54 [00:08<00:01,  5.18it/s]\u001b[A\n",
            " 89%|████████▉ | 48/54 [00:09<00:01,  5.61it/s]\u001b[A\n",
            " 91%|█████████ | 49/54 [00:09<00:00,  5.66it/s]\u001b[A\n",
            " 93%|█████████▎| 50/54 [00:09<00:00,  5.59it/s]\u001b[A\n",
            " 94%|█████████▍| 51/54 [00:09<00:00,  5.90it/s]\u001b[A\n",
            " 96%|█████████▋| 52/54 [00:09<00:00,  5.37it/s]\u001b[A\n",
            " 98%|█████████▊| 53/54 [00:10<00:00,  5.23it/s]\u001b[A\n",
            "100%|██████████| 54/54 [00:10<00:00,  5.25it/s]\n",
            "\n",
            "  0%|          | 0/54 [00:00<?, ?it/s]\u001b[A"
          ],
          "name": "stderr"
        },
        {
          "output_type": "stream",
          "text": [
            "{'ner': 175.72386638363812}\n"
          ],
          "name": "stdout"
        },
        {
          "output_type": "stream",
          "text": [
            "\n",
            "  2%|▏         | 1/54 [00:00<00:14,  3.73it/s]\u001b[A\n",
            "  4%|▎         | 2/54 [00:00<00:12,  4.01it/s]\u001b[A\n",
            "  6%|▌         | 3/54 [00:00<00:12,  4.22it/s]\u001b[A\n",
            "  7%|▋         | 4/54 [00:00<00:10,  4.67it/s]\u001b[A\n",
            "  9%|▉         | 5/54 [00:01<00:11,  4.35it/s]\u001b[A\n",
            " 11%|█         | 6/54 [00:01<00:11,  4.09it/s]\u001b[A\n",
            " 13%|█▎        | 7/54 [00:01<00:10,  4.42it/s]\u001b[A\n",
            " 15%|█▍        | 8/54 [00:01<00:10,  4.59it/s]\u001b[A\n",
            " 17%|█▋        | 9/54 [00:01<00:09,  4.88it/s]\u001b[A\n",
            " 19%|█▊        | 10/54 [00:02<00:08,  4.96it/s]\u001b[A\n",
            " 20%|██        | 11/54 [00:02<00:08,  5.00it/s]\u001b[A\n",
            " 22%|██▏       | 12/54 [00:02<00:07,  5.53it/s]\u001b[A\n",
            " 24%|██▍       | 13/54 [00:02<00:07,  5.35it/s]\u001b[A\n",
            " 26%|██▌       | 14/54 [00:02<00:07,  5.71it/s]\u001b[A\n",
            " 28%|██▊       | 15/54 [00:02<00:06,  5.82it/s]\u001b[A\n",
            " 30%|██▉       | 16/54 [00:03<00:06,  6.12it/s]\u001b[A\n",
            " 31%|███▏      | 17/54 [00:03<00:05,  6.26it/s]\u001b[A\n",
            " 33%|███▎      | 18/54 [00:03<00:06,  5.63it/s]\u001b[A\n",
            " 35%|███▌      | 19/54 [00:03<00:06,  5.57it/s]\u001b[A\n",
            " 37%|███▋      | 20/54 [00:03<00:06,  5.47it/s]\u001b[A\n",
            " 39%|███▉      | 21/54 [00:04<00:06,  5.12it/s]\u001b[A\n",
            " 41%|████      | 22/54 [00:04<00:05,  5.49it/s]\u001b[A\n",
            " 43%|████▎     | 23/54 [00:04<00:05,  5.58it/s]\u001b[A\n",
            " 44%|████▍     | 24/54 [00:04<00:05,  5.39it/s]\u001b[A\n",
            " 46%|████▋     | 25/54 [00:04<00:05,  5.20it/s]\u001b[A\n",
            " 48%|████▊     | 26/54 [00:05<00:05,  5.37it/s]\u001b[A\n",
            " 50%|█████     | 27/54 [00:05<00:04,  5.59it/s]\u001b[A\n",
            " 52%|█████▏    | 28/54 [00:05<00:05,  5.13it/s]\u001b[A\n",
            " 54%|█████▎    | 29/54 [00:05<00:04,  5.40it/s]\u001b[A\n",
            " 56%|█████▌    | 30/54 [00:05<00:04,  5.38it/s]\u001b[A\n",
            " 57%|█████▋    | 31/54 [00:05<00:04,  5.23it/s]\u001b[A\n",
            " 59%|█████▉    | 32/54 [00:06<00:04,  4.70it/s]\u001b[A\n",
            " 61%|██████    | 33/54 [00:06<00:04,  4.69it/s]\u001b[A\n",
            " 63%|██████▎   | 34/54 [00:06<00:04,  4.65it/s]\u001b[A\n",
            " 65%|██████▍   | 35/54 [00:06<00:04,  4.50it/s]\u001b[A\n",
            " 67%|██████▋   | 36/54 [00:07<00:03,  4.57it/s]\u001b[A\n",
            " 69%|██████▊   | 37/54 [00:07<00:03,  4.53it/s]\u001b[A\n",
            " 70%|███████   | 38/54 [00:07<00:03,  4.74it/s]\u001b[A\n",
            " 72%|███████▏  | 39/54 [00:07<00:03,  4.61it/s]\u001b[A\n",
            " 74%|███████▍  | 40/54 [00:07<00:02,  4.76it/s]\u001b[A\n",
            " 76%|███████▌  | 41/54 [00:08<00:02,  4.87it/s]\u001b[A\n",
            " 78%|███████▊  | 42/54 [00:08<00:02,  4.82it/s]\u001b[A\n",
            " 80%|███████▉  | 43/54 [00:08<00:02,  4.54it/s]\u001b[A\n",
            " 81%|████████▏ | 44/54 [00:08<00:02,  4.85it/s]\u001b[A\n",
            " 83%|████████▎ | 45/54 [00:09<00:02,  4.47it/s]\u001b[A\n",
            " 85%|████████▌ | 46/54 [00:09<00:01,  4.77it/s]\u001b[A\n",
            " 87%|████████▋ | 47/54 [00:09<00:01,  5.14it/s]\u001b[A\n",
            " 89%|████████▉ | 48/54 [00:09<00:01,  4.71it/s]\u001b[A\n",
            " 91%|█████████ | 49/54 [00:09<00:01,  4.89it/s]\u001b[A\n",
            " 93%|█████████▎| 50/54 [00:09<00:00,  5.32it/s]\u001b[A\n",
            " 94%|█████████▍| 51/54 [00:10<00:00,  5.26it/s]\u001b[A\n",
            " 96%|█████████▋| 52/54 [00:10<00:00,  5.55it/s]\u001b[A\n",
            " 98%|█████████▊| 53/54 [00:10<00:00,  5.81it/s]\u001b[A\n",
            "100%|██████████| 54/54 [00:10<00:00,  5.04it/s]\n",
            "\n",
            "  0%|          | 0/54 [00:00<?, ?it/s]\u001b[A\n",
            "  2%|▏         | 1/54 [00:00<00:08,  6.46it/s]\u001b[A"
          ],
          "name": "stderr"
        },
        {
          "output_type": "stream",
          "text": [
            "{'ner': 172.72013851750535}\n"
          ],
          "name": "stdout"
        },
        {
          "output_type": "stream",
          "text": [
            "\n",
            "  4%|▎         | 2/54 [00:00<00:08,  6.33it/s]\u001b[A\n",
            "  6%|▌         | 3/54 [00:00<00:08,  6.31it/s]\u001b[A\n",
            "  7%|▋         | 4/54 [00:00<00:08,  6.22it/s]\u001b[A\n",
            "  9%|▉         | 5/54 [00:00<00:08,  6.00it/s]\u001b[A\n",
            " 11%|█         | 6/54 [00:01<00:08,  5.65it/s]\u001b[A\n",
            " 13%|█▎        | 7/54 [00:01<00:08,  5.43it/s]\u001b[A\n",
            " 15%|█▍        | 8/54 [00:01<00:09,  5.02it/s]\u001b[A\n",
            " 17%|█▋        | 9/54 [00:01<00:09,  4.96it/s]\u001b[A\n",
            " 19%|█▊        | 10/54 [00:01<00:08,  5.24it/s]\u001b[A\n",
            " 20%|██        | 11/54 [00:02<00:08,  5.03it/s]\u001b[A\n",
            " 22%|██▏       | 12/54 [00:02<00:08,  4.67it/s]\u001b[A\n",
            " 24%|██▍       | 13/54 [00:02<00:08,  5.05it/s]\u001b[A\n",
            " 26%|██▌       | 14/54 [00:02<00:08,  4.67it/s]\u001b[A\n",
            " 28%|██▊       | 15/54 [00:02<00:07,  4.96it/s]\u001b[A\n",
            " 30%|██▉       | 16/54 [00:03<00:07,  5.06it/s]\u001b[A\n",
            " 31%|███▏      | 17/54 [00:03<00:06,  5.39it/s]\u001b[A\n",
            " 33%|███▎      | 18/54 [00:03<00:07,  4.77it/s]\u001b[A\n",
            " 35%|███▌      | 19/54 [00:03<00:07,  4.63it/s]\u001b[A\n",
            " 37%|███▋      | 20/54 [00:03<00:07,  4.54it/s]\u001b[A\n",
            " 39%|███▉      | 21/54 [00:04<00:07,  4.52it/s]\u001b[A\n",
            " 41%|████      | 22/54 [00:04<00:06,  4.68it/s]\u001b[A\n",
            " 43%|████▎     | 23/54 [00:04<00:06,  5.15it/s]\u001b[A\n",
            " 44%|████▍     | 24/54 [00:04<00:05,  5.63it/s]\u001b[A\n",
            " 46%|████▋     | 25/54 [00:04<00:05,  5.08it/s]\u001b[A\n",
            " 48%|████▊     | 26/54 [00:05<00:05,  5.30it/s]\u001b[A\n",
            " 50%|█████     | 27/54 [00:05<00:05,  5.07it/s]\u001b[A\n",
            " 52%|█████▏    | 28/54 [00:05<00:05,  4.62it/s]\u001b[A\n",
            " 54%|█████▎    | 29/54 [00:05<00:05,  4.33it/s]\u001b[A\n",
            " 56%|█████▌    | 30/54 [00:06<00:05,  4.54it/s]\u001b[A\n",
            " 57%|█████▋    | 31/54 [00:06<00:04,  4.96it/s]\u001b[A\n",
            " 59%|█████▉    | 32/54 [00:06<00:04,  4.62it/s]\u001b[A\n",
            " 61%|██████    | 33/54 [00:06<00:04,  4.84it/s]\u001b[A\n",
            " 63%|██████▎   | 34/54 [00:06<00:03,  5.02it/s]\u001b[A\n",
            " 65%|██████▍   | 35/54 [00:06<00:03,  5.07it/s]\u001b[A\n",
            " 67%|██████▋   | 36/54 [00:07<00:03,  5.18it/s]\u001b[A\n",
            " 69%|██████▊   | 37/54 [00:07<00:03,  5.14it/s]\u001b[A\n",
            " 70%|███████   | 38/54 [00:07<00:03,  4.90it/s]\u001b[A\n",
            " 72%|███████▏  | 39/54 [00:07<00:03,  4.75it/s]\u001b[A\n",
            " 74%|███████▍  | 40/54 [00:08<00:02,  4.94it/s]\u001b[A\n",
            " 76%|███████▌  | 41/54 [00:08<00:02,  4.55it/s]\u001b[A\n",
            " 78%|███████▊  | 42/54 [00:08<00:02,  4.91it/s]\u001b[A\n",
            " 80%|███████▉  | 43/54 [00:08<00:02,  5.31it/s]\u001b[A\n",
            " 81%|████████▏ | 44/54 [00:08<00:01,  5.11it/s]\u001b[A\n",
            " 83%|████████▎ | 45/54 [00:08<00:01,  5.17it/s]\u001b[A\n",
            " 85%|████████▌ | 46/54 [00:09<00:01,  5.08it/s]\u001b[A\n",
            " 87%|████████▋ | 47/54 [00:09<00:01,  4.76it/s]\u001b[A\n",
            " 89%|████████▉ | 48/54 [00:09<00:01,  4.73it/s]\u001b[A\n",
            " 91%|█████████ | 49/54 [00:09<00:01,  4.85it/s]\u001b[A\n",
            " 93%|█████████▎| 50/54 [00:10<00:00,  4.81it/s]\u001b[A\n",
            " 94%|█████████▍| 51/54 [00:10<00:00,  5.04it/s]\u001b[A\n",
            " 96%|█████████▋| 52/54 [00:10<00:00,  5.41it/s]\u001b[A\n",
            " 98%|█████████▊| 53/54 [00:10<00:00,  5.00it/s]\u001b[A\n",
            "100%|██████████| 54/54 [00:10<00:00,  5.00it/s]\n",
            "\n",
            "  0%|          | 0/54 [00:00<?, ?it/s]\u001b[A"
          ],
          "name": "stderr"
        },
        {
          "output_type": "stream",
          "text": [
            "{'ner': 182.23497835302345}\n"
          ],
          "name": "stdout"
        },
        {
          "output_type": "stream",
          "text": [
            "\n",
            "  2%|▏         | 1/54 [00:00<00:12,  4.23it/s]\u001b[A\n",
            "  4%|▎         | 2/54 [00:00<00:11,  4.39it/s]\u001b[A\n",
            "  6%|▌         | 3/54 [00:00<00:11,  4.33it/s]\u001b[A\n",
            "  7%|▋         | 4/54 [00:00<00:10,  4.67it/s]\u001b[A\n",
            "  9%|▉         | 5/54 [00:01<00:11,  4.28it/s]\u001b[A\n",
            " 11%|█         | 6/54 [00:01<00:10,  4.59it/s]\u001b[A\n",
            " 13%|█▎        | 7/54 [00:01<00:10,  4.53it/s]\u001b[A\n",
            " 15%|█▍        | 8/54 [00:01<00:10,  4.56it/s]\u001b[A\n",
            " 17%|█▋        | 9/54 [00:01<00:09,  4.68it/s]\u001b[A\n",
            " 19%|█▊        | 10/54 [00:02<00:09,  4.70it/s]\u001b[A\n",
            " 20%|██        | 11/54 [00:02<00:09,  4.44it/s]\u001b[A\n",
            " 22%|██▏       | 12/54 [00:02<00:08,  4.84it/s]\u001b[A\n",
            " 24%|██▍       | 13/54 [00:02<00:08,  4.87it/s]\u001b[A\n",
            " 26%|██▌       | 14/54 [00:03<00:08,  4.65it/s]\u001b[A\n",
            " 28%|██▊       | 15/54 [00:03<00:07,  5.02it/s]\u001b[A\n",
            " 30%|██▉       | 16/54 [00:03<00:08,  4.64it/s]\u001b[A\n",
            " 31%|███▏      | 17/54 [00:03<00:07,  4.76it/s]\u001b[A\n",
            " 33%|███▎      | 18/54 [00:03<00:08,  4.43it/s]\u001b[A\n",
            " 35%|███▌      | 19/54 [00:04<00:07,  4.57it/s]\u001b[A\n",
            " 37%|███▋      | 20/54 [00:04<00:07,  4.45it/s]\u001b[A\n",
            " 39%|███▉      | 21/54 [00:04<00:06,  4.90it/s]\u001b[A\n",
            " 41%|████      | 22/54 [00:04<00:05,  5.37it/s]\u001b[A\n",
            " 43%|████▎     | 23/54 [00:04<00:05,  5.30it/s]\u001b[A\n",
            " 44%|████▍     | 24/54 [00:04<00:05,  5.69it/s]\u001b[A\n",
            " 46%|████▋     | 25/54 [00:05<00:05,  5.40it/s]\u001b[A\n",
            " 48%|████▊     | 26/54 [00:05<00:05,  5.44it/s]\u001b[A\n",
            " 50%|█████     | 27/54 [00:05<00:05,  5.38it/s]\u001b[A\n",
            " 52%|█████▏    | 28/54 [00:05<00:04,  5.34it/s]\u001b[A\n",
            " 54%|█████▎    | 29/54 [00:05<00:04,  5.17it/s]\u001b[A\n",
            " 56%|█████▌    | 30/54 [00:06<00:04,  4.94it/s]\u001b[A\n",
            " 57%|█████▋    | 31/54 [00:06<00:04,  5.32it/s]\u001b[A\n",
            " 59%|█████▉    | 32/54 [00:06<00:04,  5.15it/s]\u001b[A\n",
            " 61%|██████    | 33/54 [00:06<00:04,  5.05it/s]\u001b[A\n",
            " 63%|██████▎   | 34/54 [00:06<00:04,  4.95it/s]\u001b[A\n",
            " 65%|██████▍   | 35/54 [00:07<00:04,  4.69it/s]\u001b[A\n",
            " 67%|██████▋   | 36/54 [00:07<00:03,  4.86it/s]\u001b[A\n",
            " 69%|██████▊   | 37/54 [00:07<00:03,  4.49it/s]\u001b[A\n",
            " 70%|███████   | 38/54 [00:07<00:03,  4.41it/s]\u001b[A\n",
            " 72%|███████▏  | 39/54 [00:08<00:03,  4.65it/s]\u001b[A\n",
            " 74%|███████▍  | 40/54 [00:08<00:02,  4.85it/s]\u001b[A\n",
            " 76%|███████▌  | 41/54 [00:08<00:02,  4.82it/s]\u001b[A\n",
            " 78%|███████▊  | 42/54 [00:08<00:02,  5.09it/s]\u001b[A\n",
            " 80%|███████▉  | 43/54 [00:08<00:02,  5.09it/s]\u001b[A\n",
            " 81%|████████▏ | 44/54 [00:08<00:01,  5.47it/s]\u001b[A\n",
            " 83%|████████▎ | 45/54 [00:09<00:01,  5.34it/s]\u001b[A\n",
            " 85%|████████▌ | 46/54 [00:09<00:01,  5.59it/s]\u001b[A\n",
            " 87%|████████▋ | 47/54 [00:09<00:01,  5.45it/s]\u001b[A\n",
            " 89%|████████▉ | 48/54 [00:09<00:01,  5.49it/s]\u001b[A\n",
            " 91%|█████████ | 49/54 [00:09<00:00,  5.34it/s]\u001b[A\n",
            " 93%|█████████▎| 50/54 [00:10<00:00,  4.95it/s]\u001b[A\n",
            " 94%|█████████▍| 51/54 [00:10<00:00,  4.33it/s]\u001b[A\n",
            " 96%|█████████▋| 52/54 [00:10<00:00,  4.77it/s]\u001b[A\n",
            " 98%|█████████▊| 53/54 [00:10<00:00,  4.85it/s]\u001b[A\n",
            "100%|██████████| 54/54 [00:11<00:00,  4.89it/s]\n",
            "\n",
            "  0%|          | 0/54 [00:00<?, ?it/s]\u001b[A"
          ],
          "name": "stderr"
        },
        {
          "output_type": "stream",
          "text": [
            "{'ner': 188.48737767349343}\n"
          ],
          "name": "stdout"
        },
        {
          "output_type": "stream",
          "text": [
            "\n",
            "  2%|▏         | 1/54 [00:00<00:11,  4.74it/s]\u001b[A\n",
            "  4%|▎         | 2/54 [00:00<00:10,  5.08it/s]\u001b[A\n",
            "  6%|▌         | 3/54 [00:00<00:10,  4.83it/s]\u001b[A\n",
            "  7%|▋         | 4/54 [00:00<00:09,  5.30it/s]\u001b[A\n",
            "  9%|▉         | 5/54 [00:00<00:09,  5.27it/s]\u001b[A\n",
            " 11%|█         | 6/54 [00:01<00:09,  5.10it/s]\u001b[A\n",
            " 13%|█▎        | 7/54 [00:01<00:09,  5.03it/s]\u001b[A\n",
            " 15%|█▍        | 8/54 [00:01<00:09,  4.61it/s]\u001b[A\n",
            " 17%|█▋        | 9/54 [00:01<00:09,  4.72it/s]\u001b[A\n",
            " 19%|█▊        | 10/54 [00:01<00:08,  4.96it/s]\u001b[A\n",
            " 20%|██        | 11/54 [00:02<00:08,  4.86it/s]\u001b[A\n",
            " 22%|██▏       | 12/54 [00:02<00:09,  4.62it/s]\u001b[A\n",
            " 24%|██▍       | 13/54 [00:02<00:08,  4.62it/s]\u001b[A\n",
            " 26%|██▌       | 14/54 [00:02<00:08,  4.83it/s]\u001b[A\n",
            " 28%|██▊       | 15/54 [00:03<00:07,  4.91it/s]\u001b[A\n",
            " 30%|██▉       | 16/54 [00:03<00:08,  4.64it/s]\u001b[A\n",
            " 31%|███▏      | 17/54 [00:03<00:07,  4.79it/s]\u001b[A\n",
            " 33%|███▎      | 18/54 [00:03<00:07,  4.71it/s]\u001b[A\n",
            " 35%|███▌      | 19/54 [00:03<00:06,  5.20it/s]\u001b[A\n",
            " 37%|███▋      | 20/54 [00:04<00:06,  5.38it/s]\u001b[A\n",
            " 39%|███▉      | 21/54 [00:04<00:05,  5.72it/s]\u001b[A\n",
            " 41%|████      | 22/54 [00:04<00:05,  5.77it/s]\u001b[A\n",
            " 43%|████▎     | 23/54 [00:04<00:05,  5.70it/s]\u001b[A\n",
            " 44%|████▍     | 24/54 [00:04<00:05,  6.00it/s]\u001b[A\n",
            " 46%|████▋     | 25/54 [00:04<00:05,  5.56it/s]\u001b[A\n",
            " 48%|████▊     | 26/54 [00:05<00:05,  5.53it/s]\u001b[A\n",
            " 50%|█████     | 27/54 [00:05<00:05,  5.02it/s]\u001b[A\n",
            " 52%|█████▏    | 28/54 [00:05<00:05,  4.54it/s]\u001b[A\n",
            " 54%|█████▎    | 29/54 [00:05<00:05,  4.61it/s]\u001b[A\n",
            " 56%|█████▌    | 30/54 [00:06<00:05,  4.60it/s]\u001b[A\n",
            " 57%|█████▋    | 31/54 [00:06<00:04,  4.64it/s]\u001b[A\n",
            " 59%|█████▉    | 32/54 [00:06<00:05,  4.25it/s]\u001b[A\n",
            " 61%|██████    | 33/54 [00:06<00:04,  4.59it/s]\u001b[A\n",
            " 63%|██████▎   | 34/54 [00:06<00:04,  4.61it/s]\u001b[A\n",
            " 65%|██████▍   | 35/54 [00:07<00:04,  4.57it/s]\u001b[A\n",
            " 67%|██████▋   | 36/54 [00:07<00:04,  4.25it/s]\u001b[A\n",
            " 69%|██████▊   | 37/54 [00:07<00:03,  4.58it/s]\u001b[A\n",
            " 70%|███████   | 38/54 [00:07<00:03,  4.67it/s]\u001b[A\n",
            " 72%|███████▏  | 39/54 [00:07<00:03,  4.68it/s]\u001b[A\n",
            " 74%|███████▍  | 40/54 [00:08<00:03,  4.43it/s]\u001b[A\n",
            " 76%|███████▌  | 41/54 [00:08<00:02,  4.63it/s]\u001b[A\n",
            " 78%|███████▊  | 42/54 [00:08<00:02,  4.35it/s]\u001b[A\n",
            " 80%|███████▉  | 43/54 [00:08<00:02,  4.43it/s]\u001b[A\n",
            " 81%|████████▏ | 44/54 [00:09<00:02,  4.66it/s]\u001b[A\n",
            " 83%|████████▎ | 45/54 [00:09<00:01,  4.83it/s]\u001b[A\n",
            " 85%|████████▌ | 46/54 [00:09<00:01,  4.76it/s]\u001b[A\n",
            " 87%|████████▋ | 47/54 [00:09<00:01,  4.78it/s]\u001b[A\n",
            " 89%|████████▉ | 48/54 [00:09<00:01,  5.15it/s]\u001b[A\n",
            " 91%|█████████ | 49/54 [00:10<00:00,  5.44it/s]\u001b[A\n",
            " 93%|█████████▎| 50/54 [00:10<00:00,  5.55it/s]\u001b[A\n",
            " 94%|█████████▍| 51/54 [00:10<00:00,  5.21it/s]\u001b[A\n",
            " 96%|█████████▋| 52/54 [00:10<00:00,  5.47it/s]\u001b[A\n",
            " 98%|█████████▊| 53/54 [00:10<00:00,  5.21it/s]\u001b[A\n",
            "100%|██████████| 54/54 [00:10<00:00,  4.93it/s]\n",
            "\n",
            "  0%|          | 0/54 [00:00<?, ?it/s]\u001b[A"
          ],
          "name": "stderr"
        },
        {
          "output_type": "stream",
          "text": [
            "{'ner': 143.29986145888725}\n"
          ],
          "name": "stdout"
        },
        {
          "output_type": "stream",
          "text": [
            "\n",
            "  2%|▏         | 1/54 [00:00<00:10,  4.85it/s]\u001b[A\n",
            "  4%|▎         | 2/54 [00:00<00:10,  4.82it/s]\u001b[A\n",
            "  6%|▌         | 3/54 [00:00<00:10,  4.71it/s]\u001b[A\n",
            "  7%|▋         | 4/54 [00:00<00:09,  5.15it/s]\u001b[A\n",
            "  9%|▉         | 5/54 [00:01<00:09,  4.95it/s]\u001b[A\n",
            " 11%|█         | 6/54 [00:01<00:08,  5.41it/s]\u001b[A\n",
            " 13%|█▎        | 7/54 [00:01<00:08,  5.68it/s]\u001b[A\n",
            " 15%|█▍        | 8/54 [00:01<00:08,  5.71it/s]\u001b[A\n",
            " 17%|█▋        | 9/54 [00:01<00:08,  5.36it/s]\u001b[A\n",
            " 19%|█▊        | 10/54 [00:01<00:08,  5.16it/s]\u001b[A\n",
            " 20%|██        | 11/54 [00:02<00:08,  4.97it/s]\u001b[A\n",
            " 22%|██▏       | 12/54 [00:02<00:08,  5.00it/s]\u001b[A\n",
            " 24%|██▍       | 13/54 [00:02<00:07,  5.31it/s]\u001b[A\n",
            " 26%|██▌       | 14/54 [00:02<00:08,  4.94it/s]\u001b[A\n",
            " 28%|██▊       | 15/54 [00:02<00:07,  4.99it/s]\u001b[A\n",
            " 30%|██▉       | 16/54 [00:03<00:07,  5.36it/s]\u001b[A\n",
            " 31%|███▏      | 17/54 [00:03<00:07,  4.98it/s]\u001b[A\n",
            " 33%|███▎      | 18/54 [00:03<00:07,  4.83it/s]\u001b[A\n",
            " 35%|███▌      | 19/54 [00:03<00:07,  4.80it/s]\u001b[A\n",
            " 37%|███▋      | 20/54 [00:03<00:06,  5.23it/s]\u001b[A\n",
            " 39%|███▉      | 21/54 [00:04<00:06,  5.01it/s]\u001b[A\n",
            " 41%|████      | 22/54 [00:04<00:05,  5.42it/s]\u001b[A\n",
            " 43%|████▎     | 23/54 [00:04<00:05,  5.37it/s]\u001b[A\n",
            " 44%|████▍     | 24/54 [00:04<00:05,  5.10it/s]\u001b[A\n",
            " 46%|████▋     | 25/54 [00:04<00:05,  4.98it/s]\u001b[A\n",
            " 48%|████▊     | 26/54 [00:05<00:05,  4.94it/s]\u001b[A\n",
            " 50%|█████     | 27/54 [00:05<00:05,  5.04it/s]\u001b[A\n",
            " 52%|█████▏    | 28/54 [00:05<00:05,  4.95it/s]\u001b[A\n",
            " 54%|█████▎    | 29/54 [00:05<00:05,  4.74it/s]\u001b[A\n",
            " 56%|█████▌    | 30/54 [00:05<00:05,  4.63it/s]\u001b[A\n",
            " 57%|█████▋    | 31/54 [00:06<00:04,  4.89it/s]\u001b[A\n",
            " 59%|█████▉    | 32/54 [00:06<00:04,  4.43it/s]\u001b[A\n",
            " 61%|██████    | 33/54 [00:06<00:04,  4.62it/s]\u001b[A\n",
            " 63%|██████▎   | 34/54 [00:06<00:03,  5.01it/s]\u001b[A\n",
            " 65%|██████▍   | 35/54 [00:06<00:03,  5.33it/s]\u001b[A\n",
            " 67%|██████▋   | 36/54 [00:07<00:03,  4.77it/s]\u001b[A\n",
            " 69%|██████▊   | 37/54 [00:07<00:03,  4.87it/s]\u001b[A\n",
            " 70%|███████   | 38/54 [00:07<00:03,  4.63it/s]\u001b[A\n",
            " 72%|███████▏  | 39/54 [00:07<00:03,  4.61it/s]\u001b[A\n",
            " 74%|███████▍  | 40/54 [00:08<00:03,  4.46it/s]\u001b[A\n",
            " 76%|███████▌  | 41/54 [00:08<00:02,  4.89it/s]\u001b[A\n",
            " 78%|███████▊  | 42/54 [00:08<00:02,  4.48it/s]\u001b[A\n",
            " 80%|███████▉  | 43/54 [00:08<00:02,  4.64it/s]\u001b[A\n",
            " 81%|████████▏ | 44/54 [00:08<00:02,  4.90it/s]\u001b[A\n",
            " 83%|████████▎ | 45/54 [00:09<00:01,  4.66it/s]\u001b[A\n",
            " 85%|████████▌ | 46/54 [00:09<00:01,  4.39it/s]\u001b[A\n",
            " 87%|████████▋ | 47/54 [00:09<00:01,  4.70it/s]\u001b[A\n",
            " 89%|████████▉ | 48/54 [00:09<00:01,  4.62it/s]\u001b[A\n",
            " 91%|█████████ | 49/54 [00:09<00:01,  4.56it/s]\u001b[A\n",
            " 93%|█████████▎| 50/54 [00:10<00:00,  4.70it/s]\u001b[A\n",
            " 94%|█████████▍| 51/54 [00:10<00:00,  4.92it/s]\u001b[A\n",
            " 96%|█████████▋| 52/54 [00:10<00:00,  4.63it/s]\u001b[A\n",
            " 98%|█████████▊| 53/54 [00:10<00:00,  4.34it/s]\u001b[A\n",
            "100%|██████████| 54/54 [00:11<00:00,  4.86it/s]\n",
            "\n",
            "  0%|          | 0/54 [00:00<?, ?it/s]\u001b[A"
          ],
          "name": "stderr"
        },
        {
          "output_type": "stream",
          "text": [
            "{'ner': 200.59527871133213}\n"
          ],
          "name": "stdout"
        },
        {
          "output_type": "stream",
          "text": [
            "\n",
            "  2%|▏         | 1/54 [00:00<00:12,  4.40it/s]\u001b[A\n",
            "  4%|▎         | 2/54 [00:00<00:11,  4.73it/s]\u001b[A\n",
            "  6%|▌         | 3/54 [00:00<00:10,  4.88it/s]\u001b[A\n",
            "  7%|▋         | 4/54 [00:00<00:10,  4.90it/s]\u001b[A\n",
            "  9%|▉         | 5/54 [00:01<00:10,  4.87it/s]\u001b[A\n",
            " 11%|█         | 6/54 [00:01<00:09,  5.25it/s]\u001b[A\n",
            " 13%|█▎        | 7/54 [00:01<00:09,  5.02it/s]\u001b[A\n",
            " 15%|█▍        | 8/54 [00:01<00:09,  4.80it/s]\u001b[A\n",
            " 17%|█▋        | 9/54 [00:01<00:10,  4.41it/s]\u001b[A\n",
            " 19%|█▊        | 10/54 [00:02<00:09,  4.43it/s]\u001b[A\n",
            " 20%|██        | 11/54 [00:02<00:10,  4.24it/s]\u001b[A\n",
            " 22%|██▏       | 12/54 [00:02<00:09,  4.34it/s]\u001b[A\n",
            " 24%|██▍       | 13/54 [00:02<00:08,  4.86it/s]\u001b[A\n",
            " 26%|██▌       | 14/54 [00:02<00:08,  4.92it/s]\u001b[A\n",
            " 28%|██▊       | 15/54 [00:03<00:08,  4.73it/s]\u001b[A\n",
            " 30%|██▉       | 16/54 [00:03<00:08,  4.40it/s]\u001b[A\n",
            " 31%|███▏      | 17/54 [00:03<00:07,  4.66it/s]\u001b[A\n",
            " 33%|███▎      | 18/54 [00:03<00:07,  4.84it/s]\u001b[A\n",
            " 35%|███▌      | 19/54 [00:04<00:07,  4.78it/s]\u001b[A\n",
            " 37%|███▋      | 20/54 [00:04<00:07,  4.67it/s]\u001b[A\n",
            " 39%|███▉      | 21/54 [00:04<00:06,  4.91it/s]\u001b[A\n",
            " 41%|████      | 22/54 [00:04<00:06,  4.91it/s]\u001b[A\n",
            " 43%|████▎     | 23/54 [00:04<00:06,  5.03it/s]\u001b[A\n",
            " 44%|████▍     | 24/54 [00:04<00:05,  5.16it/s]\u001b[A\n",
            " 46%|████▋     | 25/54 [00:05<00:05,  4.98it/s]\u001b[A\n",
            " 48%|████▊     | 26/54 [00:05<00:05,  4.86it/s]\u001b[A\n",
            " 50%|█████     | 27/54 [00:05<00:05,  5.35it/s]\u001b[A\n",
            " 52%|█████▏    | 28/54 [00:05<00:04,  5.47it/s]\u001b[A\n",
            " 54%|█████▎    | 29/54 [00:05<00:04,  5.15it/s]\u001b[A\n",
            " 56%|█████▌    | 30/54 [00:06<00:04,  4.86it/s]\u001b[A\n",
            " 57%|█████▋    | 31/54 [00:06<00:04,  4.88it/s]\u001b[A\n",
            " 59%|█████▉    | 32/54 [00:06<00:04,  4.54it/s]\u001b[A\n",
            " 61%|██████    | 33/54 [00:06<00:04,  4.78it/s]\u001b[A\n",
            " 63%|██████▎   | 34/54 [00:07<00:03,  5.01it/s]\u001b[A\n",
            " 65%|██████▍   | 35/54 [00:07<00:03,  5.16it/s]\u001b[A\n",
            " 67%|██████▋   | 36/54 [00:07<00:03,  5.54it/s]\u001b[A\n",
            " 69%|██████▊   | 37/54 [00:07<00:03,  5.20it/s]\u001b[A\n",
            " 70%|███████   | 38/54 [00:07<00:02,  5.53it/s]\u001b[A\n",
            " 72%|███████▏  | 39/54 [00:07<00:02,  5.58it/s]\u001b[A\n",
            " 74%|███████▍  | 40/54 [00:08<00:02,  5.16it/s]\u001b[A\n",
            " 76%|███████▌  | 41/54 [00:08<00:02,  4.58it/s]\u001b[A\n",
            " 78%|███████▊  | 42/54 [00:08<00:02,  4.81it/s]\u001b[A\n",
            " 80%|███████▉  | 43/54 [00:08<00:02,  4.67it/s]\u001b[A\n",
            " 81%|████████▏ | 44/54 [00:08<00:01,  5.16it/s]\u001b[A\n",
            " 83%|████████▎ | 45/54 [00:09<00:01,  5.05it/s]\u001b[A\n",
            " 85%|████████▌ | 46/54 [00:09<00:01,  4.98it/s]\u001b[A\n",
            " 87%|████████▋ | 47/54 [00:09<00:01,  4.49it/s]\u001b[A\n",
            " 89%|████████▉ | 48/54 [00:09<00:01,  4.44it/s]\u001b[A\n",
            " 91%|█████████ | 49/54 [00:10<00:01,  4.17it/s]\u001b[A\n",
            " 93%|█████████▎| 50/54 [00:10<00:00,  4.31it/s]\u001b[A\n",
            " 94%|█████████▍| 51/54 [00:10<00:00,  4.80it/s]\u001b[A\n",
            " 96%|█████████▋| 52/54 [00:10<00:00,  5.18it/s]\u001b[A\n",
            " 98%|█████████▊| 53/54 [00:10<00:00,  4.65it/s]\u001b[A\n",
            "100%|██████████| 54/54 [00:11<00:00,  4.85it/s]\n",
            "\n",
            "  0%|          | 0/54 [00:00<?, ?it/s]\u001b[A"
          ],
          "name": "stderr"
        },
        {
          "output_type": "stream",
          "text": [
            "{'ner': 152.1983794565964}\n"
          ],
          "name": "stdout"
        },
        {
          "output_type": "stream",
          "text": [
            "\n",
            "  2%|▏         | 1/54 [00:00<00:12,  4.27it/s]\u001b[A\n",
            "  4%|▎         | 2/54 [00:00<00:11,  4.61it/s]\u001b[A\n",
            "  6%|▌         | 3/54 [00:00<00:10,  4.85it/s]\u001b[A\n",
            "  7%|▋         | 4/54 [00:00<00:09,  5.14it/s]\u001b[A\n",
            "  9%|▉         | 5/54 [00:00<00:09,  5.35it/s]\u001b[A\n",
            " 11%|█         | 6/54 [00:01<00:09,  5.19it/s]\u001b[A\n",
            " 13%|█▎        | 7/54 [00:01<00:10,  4.68it/s]\u001b[A\n",
            " 15%|█▍        | 8/54 [00:01<00:09,  4.85it/s]\u001b[A\n",
            " 17%|█▋        | 9/54 [00:01<00:09,  4.63it/s]\u001b[A\n",
            " 19%|█▊        | 10/54 [00:02<00:09,  4.64it/s]\u001b[A\n",
            " 20%|██        | 11/54 [00:02<00:09,  4.75it/s]\u001b[A\n",
            " 22%|██▏       | 12/54 [00:02<00:08,  5.20it/s]\u001b[A\n",
            " 24%|██▍       | 13/54 [00:02<00:08,  4.95it/s]\u001b[A\n",
            " 26%|██▌       | 14/54 [00:02<00:08,  4.83it/s]\u001b[A\n",
            " 28%|██▊       | 15/54 [00:03<00:08,  4.77it/s]\u001b[A\n",
            " 30%|██▉       | 16/54 [00:03<00:08,  4.56it/s]\u001b[A\n",
            " 31%|███▏      | 17/54 [00:03<00:08,  4.51it/s]\u001b[A\n",
            " 33%|███▎      | 18/54 [00:03<00:07,  4.52it/s]\u001b[A\n",
            " 35%|███▌      | 19/54 [00:03<00:07,  4.64it/s]\u001b[A\n",
            " 37%|███▋      | 20/54 [00:04<00:06,  5.10it/s]\u001b[A\n",
            " 39%|███▉      | 21/54 [00:04<00:06,  4.95it/s]\u001b[A\n",
            " 41%|████      | 22/54 [00:04<00:06,  4.84it/s]\u001b[A\n",
            " 43%|████▎     | 23/54 [00:04<00:06,  4.85it/s]\u001b[A\n",
            " 44%|████▍     | 24/54 [00:04<00:06,  4.84it/s]\u001b[A\n",
            " 46%|████▋     | 25/54 [00:05<00:05,  5.12it/s]\u001b[A\n",
            " 48%|████▊     | 26/54 [00:05<00:05,  4.88it/s]\u001b[A\n",
            " 50%|█████     | 27/54 [00:05<00:05,  5.35it/s]\u001b[A\n",
            " 52%|█████▏    | 28/54 [00:05<00:04,  5.29it/s]\u001b[A\n",
            " 54%|█████▎    | 29/54 [00:05<00:04,  5.69it/s]\u001b[A\n",
            " 56%|█████▌    | 30/54 [00:06<00:04,  5.23it/s]\u001b[A\n",
            " 57%|█████▋    | 31/54 [00:06<00:05,  4.60it/s]\u001b[A\n",
            " 59%|█████▉    | 32/54 [00:06<00:04,  4.80it/s]\u001b[A\n",
            " 61%|██████    | 33/54 [00:06<00:04,  4.73it/s]\u001b[A\n",
            " 63%|██████▎   | 34/54 [00:06<00:04,  4.79it/s]\u001b[A\n",
            " 65%|██████▍   | 35/54 [00:07<00:03,  5.20it/s]\u001b[A\n",
            " 67%|██████▋   | 36/54 [00:07<00:03,  5.27it/s]\u001b[A\n",
            " 69%|██████▊   | 37/54 [00:07<00:03,  5.11it/s]\u001b[A\n",
            " 70%|███████   | 38/54 [00:07<00:03,  4.97it/s]\u001b[A\n",
            " 72%|███████▏  | 39/54 [00:07<00:02,  5.20it/s]\u001b[A\n",
            " 74%|███████▍  | 40/54 [00:08<00:03,  4.52it/s]\u001b[A\n",
            " 76%|███████▌  | 41/54 [00:08<00:02,  4.60it/s]\u001b[A\n",
            " 78%|███████▊  | 42/54 [00:08<00:02,  4.73it/s]\u001b[A\n",
            " 80%|███████▉  | 43/54 [00:08<00:02,  5.09it/s]\u001b[A\n",
            " 81%|████████▏ | 44/54 [00:08<00:01,  5.33it/s]\u001b[A\n",
            " 83%|████████▎ | 45/54 [00:09<00:01,  4.71it/s]\u001b[A\n",
            " 85%|████████▌ | 46/54 [00:09<00:01,  4.71it/s]\u001b[A\n",
            " 87%|████████▋ | 47/54 [00:09<00:01,  4.53it/s]\u001b[A\n",
            " 89%|████████▉ | 48/54 [00:09<00:01,  4.67it/s]\u001b[A\n",
            " 91%|█████████ | 49/54 [00:10<00:01,  4.42it/s]\u001b[A\n",
            " 93%|█████████▎| 50/54 [00:10<00:00,  4.51it/s]\u001b[A\n",
            " 94%|█████████▍| 51/54 [00:10<00:00,  4.37it/s]\u001b[A\n",
            " 96%|█████████▋| 52/54 [00:10<00:00,  4.29it/s]\u001b[A\n",
            " 98%|█████████▊| 53/54 [00:10<00:00,  4.42it/s]\u001b[A\n",
            "100%|██████████| 54/54 [00:11<00:00,  4.84it/s]\n",
            "\n",
            "  0%|          | 0/54 [00:00<?, ?it/s]\u001b[A\n"
          ],
          "name": "stderr"
        },
        {
          "output_type": "stream",
          "text": [
            "{'ner': 151.11077188312822}\n"
          ],
          "name": "stdout"
        },
        {
          "output_type": "stream",
          "text": [
            "  2%|▏         | 1/54 [00:00<00:10,  5.10it/s]\u001b[A\n",
            "  4%|▎         | 2/54 [00:00<00:09,  5.28it/s]\u001b[A\n",
            "  6%|▌         | 3/54 [00:00<00:10,  4.81it/s]\u001b[A\n",
            "  7%|▋         | 4/54 [00:00<00:10,  4.64it/s]\u001b[A\n",
            "  9%|▉         | 5/54 [00:01<00:09,  5.06it/s]\u001b[A\n",
            " 11%|█         | 6/54 [00:01<00:09,  5.13it/s]\u001b[A\n",
            " 13%|█▎        | 7/54 [00:01<00:09,  5.13it/s]\u001b[A\n",
            " 15%|█▍        | 8/54 [00:01<00:08,  5.22it/s]\u001b[A\n",
            " 17%|█▋        | 9/54 [00:01<00:08,  5.12it/s]\u001b[A\n",
            " 19%|█▊        | 10/54 [00:01<00:08,  5.39it/s]\u001b[A\n",
            " 20%|██        | 11/54 [00:02<00:08,  4.83it/s]\u001b[A\n",
            " 22%|██▏       | 12/54 [00:02<00:08,  4.84it/s]\u001b[A\n",
            " 24%|██▍       | 13/54 [00:02<00:08,  4.99it/s]\u001b[A\n",
            " 26%|██▌       | 14/54 [00:02<00:08,  4.69it/s]\u001b[A\n",
            " 28%|██▊       | 15/54 [00:03<00:09,  4.29it/s]\u001b[A\n",
            " 30%|██▉       | 16/54 [00:03<00:08,  4.40it/s]\u001b[A\n",
            " 31%|███▏      | 17/54 [00:03<00:07,  4.69it/s]\u001b[A\n",
            " 33%|███▎      | 18/54 [00:03<00:07,  4.50it/s]\u001b[A\n",
            " 35%|███▌      | 19/54 [00:03<00:07,  4.93it/s]\u001b[A\n",
            " 37%|███▋      | 20/54 [00:04<00:07,  4.71it/s]\u001b[A\n",
            " 39%|███▉      | 21/54 [00:04<00:06,  4.93it/s]\u001b[A\n",
            " 41%|████      | 22/54 [00:04<00:06,  4.65it/s]\u001b[A\n",
            " 43%|████▎     | 23/54 [00:04<00:06,  4.61it/s]\u001b[A\n",
            " 44%|████▍     | 24/54 [00:05<00:06,  4.61it/s]\u001b[A\n",
            " 46%|████▋     | 25/54 [00:05<00:06,  4.71it/s]\u001b[A\n",
            " 48%|████▊     | 26/54 [00:05<00:05,  5.19it/s]\u001b[A\n",
            " 50%|█████     | 27/54 [00:05<00:05,  4.96it/s]\u001b[A\n",
            " 52%|█████▏    | 28/54 [00:05<00:05,  5.01it/s]\u001b[A\n",
            " 54%|█████▎    | 29/54 [00:05<00:04,  5.19it/s]\u001b[A\n",
            " 56%|█████▌    | 30/54 [00:06<00:04,  5.54it/s]\u001b[A\n",
            " 57%|█████▋    | 31/54 [00:06<00:04,  5.28it/s]\u001b[A\n",
            " 59%|█████▉    | 32/54 [00:06<00:04,  5.09it/s]\u001b[A\n",
            " 61%|██████    | 33/54 [00:06<00:04,  5.16it/s]\u001b[A\n",
            " 63%|██████▎   | 34/54 [00:06<00:03,  5.39it/s]\u001b[A\n",
            " 65%|██████▍   | 35/54 [00:07<00:03,  5.05it/s]\u001b[A\n",
            " 67%|██████▋   | 36/54 [00:07<00:03,  5.27it/s]\u001b[A\n",
            " 69%|██████▊   | 37/54 [00:07<00:03,  5.35it/s]\u001b[A\n",
            " 70%|███████   | 38/54 [00:07<00:02,  5.35it/s]\u001b[A\n",
            " 72%|███████▏  | 39/54 [00:07<00:02,  5.03it/s]\u001b[A\n",
            " 74%|███████▍  | 40/54 [00:08<00:02,  5.32it/s]\u001b[A\n",
            " 76%|███████▌  | 41/54 [00:08<00:02,  5.20it/s]\u001b[A\n",
            " 78%|███████▊  | 42/54 [00:08<00:02,  5.54it/s]\u001b[A\n",
            " 80%|███████▉  | 43/54 [00:08<00:02,  4.87it/s]\u001b[A\n",
            " 81%|████████▏ | 44/54 [00:08<00:02,  4.38it/s]\u001b[A\n",
            " 83%|████████▎ | 45/54 [00:09<00:02,  4.44it/s]\u001b[A\n",
            " 85%|████████▌ | 46/54 [00:09<00:01,  4.52it/s]\u001b[A\n",
            " 87%|████████▋ | 47/54 [00:09<00:01,  4.89it/s]\u001b[A\n",
            " 89%|████████▉ | 48/54 [00:09<00:01,  4.66it/s]\u001b[A\n",
            " 91%|█████████ | 49/54 [00:09<00:01,  4.65it/s]\u001b[A\n",
            " 93%|█████████▎| 50/54 [00:10<00:00,  4.63it/s]\u001b[A\n",
            " 94%|█████████▍| 51/54 [00:10<00:00,  4.65it/s]\u001b[A\n",
            " 96%|█████████▋| 52/54 [00:10<00:00,  4.64it/s]\u001b[A\n",
            " 98%|█████████▊| 53/54 [00:10<00:00,  4.80it/s]\u001b[A\n",
            "100%|██████████| 54/54 [00:11<00:00,  4.87it/s]\n",
            "\n",
            "  0%|          | 0/54 [00:00<?, ?it/s]\u001b[A\n",
            "  2%|▏         | 1/54 [00:00<00:09,  5.41it/s]\u001b[A"
          ],
          "name": "stderr"
        },
        {
          "output_type": "stream",
          "text": [
            "{'ner': 128.37886824309027}\n"
          ],
          "name": "stdout"
        },
        {
          "output_type": "stream",
          "text": [
            "\n",
            "  4%|▎         | 2/54 [00:00<00:10,  5.09it/s]\u001b[A\n",
            "  6%|▌         | 3/54 [00:00<00:09,  5.17it/s]\u001b[A\n",
            "  7%|▋         | 4/54 [00:00<00:10,  4.73it/s]\u001b[A\n",
            "  9%|▉         | 5/54 [00:01<00:09,  5.16it/s]\u001b[A\n",
            " 11%|█         | 6/54 [00:01<00:09,  4.86it/s]\u001b[A\n",
            " 13%|█▎        | 7/54 [00:01<00:08,  5.28it/s]\u001b[A\n",
            " 15%|█▍        | 8/54 [00:01<00:09,  4.85it/s]\u001b[A\n",
            " 17%|█▋        | 9/54 [00:01<00:09,  4.71it/s]\u001b[A\n",
            " 19%|█▊        | 10/54 [00:02<00:09,  4.70it/s]\u001b[A\n",
            " 20%|██        | 11/54 [00:02<00:08,  5.01it/s]\u001b[A\n",
            " 22%|██▏       | 12/54 [00:02<00:08,  4.92it/s]\u001b[A\n",
            " 24%|██▍       | 13/54 [00:02<00:08,  5.00it/s]\u001b[A\n",
            " 26%|██▌       | 14/54 [00:02<00:08,  4.67it/s]\u001b[A\n",
            " 28%|██▊       | 15/54 [00:03<00:07,  4.90it/s]\u001b[A\n",
            " 30%|██▉       | 16/54 [00:03<00:07,  4.84it/s]\u001b[A\n",
            " 31%|███▏      | 17/54 [00:03<00:07,  4.99it/s]\u001b[A\n",
            " 33%|███▎      | 18/54 [00:03<00:06,  5.40it/s]\u001b[A\n",
            " 35%|███▌      | 19/54 [00:03<00:06,  5.20it/s]\u001b[A\n",
            " 37%|███▋      | 20/54 [00:04<00:06,  4.86it/s]\u001b[A\n",
            " 39%|███▉      | 21/54 [00:04<00:07,  4.56it/s]\u001b[A\n",
            " 41%|████      | 22/54 [00:04<00:07,  4.38it/s]\u001b[A\n",
            " 43%|████▎     | 23/54 [00:04<00:06,  4.86it/s]\u001b[A\n",
            " 44%|████▍     | 24/54 [00:04<00:06,  4.68it/s]\u001b[A\n",
            " 46%|████▋     | 25/54 [00:05<00:06,  4.74it/s]\u001b[A\n",
            " 48%|████▊     | 26/54 [00:05<00:05,  4.92it/s]\u001b[A\n",
            " 50%|█████     | 27/54 [00:05<00:05,  4.69it/s]\u001b[A\n",
            " 52%|█████▏    | 28/54 [00:05<00:05,  4.39it/s]\u001b[A\n",
            " 54%|█████▎    | 29/54 [00:06<00:05,  4.76it/s]\u001b[A\n",
            " 56%|█████▌    | 30/54 [00:06<00:04,  5.09it/s]\u001b[A\n",
            " 57%|█████▋    | 31/54 [00:06<00:04,  4.70it/s]\u001b[A\n",
            " 59%|█████▉    | 32/54 [00:06<00:04,  4.87it/s]\u001b[A\n",
            " 61%|██████    | 33/54 [00:06<00:04,  4.64it/s]\u001b[A\n",
            " 63%|██████▎   | 34/54 [00:07<00:04,  4.81it/s]\u001b[A\n",
            " 65%|██████▍   | 35/54 [00:07<00:04,  4.54it/s]\u001b[A\n",
            " 67%|██████▋   | 36/54 [00:07<00:03,  4.97it/s]\u001b[A\n",
            " 69%|██████▊   | 37/54 [00:07<00:03,  4.62it/s]\u001b[A\n",
            " 70%|███████   | 38/54 [00:07<00:03,  4.99it/s]\u001b[A\n",
            " 72%|███████▏  | 39/54 [00:08<00:03,  4.73it/s]\u001b[A\n",
            " 74%|███████▍  | 40/54 [00:08<00:02,  4.78it/s]\u001b[A\n",
            " 76%|███████▌  | 41/54 [00:08<00:02,  4.55it/s]\u001b[A\n",
            " 78%|███████▊  | 42/54 [00:08<00:02,  4.96it/s]\u001b[A\n",
            " 80%|███████▉  | 43/54 [00:08<00:02,  5.11it/s]\u001b[A\n",
            " 81%|████████▏ | 44/54 [00:09<00:01,  5.36it/s]\u001b[A\n",
            " 83%|████████▎ | 45/54 [00:09<00:01,  4.91it/s]\u001b[A\n",
            " 85%|████████▌ | 46/54 [00:09<00:01,  4.73it/s]\u001b[A\n",
            " 87%|████████▋ | 47/54 [00:09<00:01,  4.75it/s]\u001b[A\n",
            " 89%|████████▉ | 48/54 [00:09<00:01,  4.64it/s]\u001b[A\n",
            " 91%|█████████ | 49/54 [00:10<00:01,  4.63it/s]\u001b[A\n",
            " 93%|█████████▎| 50/54 [00:10<00:00,  5.00it/s]\u001b[A\n",
            " 94%|█████████▍| 51/54 [00:10<00:00,  4.47it/s]\u001b[A\n",
            " 96%|█████████▋| 52/54 [00:10<00:00,  4.93it/s]\u001b[A\n",
            " 98%|█████████▊| 53/54 [00:10<00:00,  5.02it/s]\u001b[A\n",
            "100%|██████████| 54/54 [00:11<00:00,  4.85it/s]\n",
            "\n",
            "  0%|          | 0/54 [00:00<?, ?it/s]\u001b[A\n",
            "  2%|▏         | 1/54 [00:00<00:09,  5.75it/s]\u001b[A"
          ],
          "name": "stderr"
        },
        {
          "output_type": "stream",
          "text": [
            "{'ner': 124.37934050518311}\n"
          ],
          "name": "stdout"
        },
        {
          "output_type": "stream",
          "text": [
            "\n",
            "  4%|▎         | 2/54 [00:00<00:09,  5.52it/s]\u001b[A\n",
            "  6%|▌         | 3/54 [00:00<00:09,  5.19it/s]\u001b[A\n",
            "  7%|▋         | 4/54 [00:00<00:09,  5.53it/s]\u001b[A\n",
            "  9%|▉         | 5/54 [00:00<00:09,  5.18it/s]\u001b[A\n",
            " 11%|█         | 6/54 [00:01<00:09,  5.12it/s]\u001b[A\n",
            " 13%|█▎        | 7/54 [00:01<00:10,  4.68it/s]\u001b[A\n",
            " 15%|█▍        | 8/54 [00:01<00:09,  4.61it/s]\u001b[A\n",
            " 17%|█▋        | 9/54 [00:01<00:09,  4.62it/s]\u001b[A\n",
            " 19%|█▊        | 10/54 [00:02<00:09,  4.67it/s]\u001b[A\n",
            " 20%|██        | 11/54 [00:02<00:09,  4.63it/s]\u001b[A\n",
            " 22%|██▏       | 12/54 [00:02<00:09,  4.60it/s]\u001b[A\n",
            " 24%|██▍       | 13/54 [00:02<00:08,  4.77it/s]\u001b[A\n",
            " 26%|██▌       | 14/54 [00:02<00:08,  4.95it/s]\u001b[A\n",
            " 28%|██▊       | 15/54 [00:03<00:07,  4.92it/s]\u001b[A\n",
            " 30%|██▉       | 16/54 [00:03<00:08,  4.74it/s]\u001b[A\n",
            " 31%|███▏      | 17/54 [00:03<00:08,  4.46it/s]\u001b[A\n",
            " 33%|███▎      | 18/54 [00:03<00:08,  4.40it/s]\u001b[A\n",
            " 35%|███▌      | 19/54 [00:03<00:07,  4.81it/s]\u001b[A\n",
            " 37%|███▋      | 20/54 [00:04<00:07,  4.74it/s]\u001b[A\n",
            " 39%|███▉      | 21/54 [00:04<00:07,  4.44it/s]\u001b[A\n",
            " 41%|████      | 22/54 [00:04<00:06,  4.81it/s]\u001b[A\n",
            " 43%|████▎     | 23/54 [00:04<00:06,  5.13it/s]\u001b[A\n",
            " 44%|████▍     | 24/54 [00:04<00:05,  5.49it/s]\u001b[A\n",
            " 46%|████▋     | 25/54 [00:05<00:05,  5.06it/s]\u001b[A\n",
            " 48%|████▊     | 26/54 [00:05<00:05,  5.01it/s]\u001b[A\n",
            " 50%|█████     | 27/54 [00:05<00:06,  4.46it/s]\u001b[A\n",
            " 52%|█████▏    | 28/54 [00:05<00:06,  4.28it/s]\u001b[A\n",
            " 54%|█████▎    | 29/54 [00:06<00:05,  4.75it/s]\u001b[A\n",
            " 56%|█████▌    | 30/54 [00:06<00:04,  5.19it/s]\u001b[A\n",
            " 57%|█████▋    | 31/54 [00:06<00:05,  4.57it/s]\u001b[A\n",
            " 59%|█████▉    | 32/54 [00:06<00:04,  4.40it/s]\u001b[A\n",
            " 61%|██████    | 33/54 [00:06<00:04,  4.52it/s]\u001b[A\n",
            " 63%|██████▎   | 34/54 [00:07<00:03,  5.02it/s]\u001b[A\n",
            " 65%|██████▍   | 35/54 [00:07<00:04,  4.65it/s]\u001b[A\n",
            " 67%|██████▋   | 36/54 [00:07<00:03,  4.82it/s]\u001b[A\n",
            " 69%|██████▊   | 37/54 [00:07<00:03,  5.03it/s]\u001b[A\n",
            " 70%|███████   | 38/54 [00:07<00:03,  4.88it/s]\u001b[A\n",
            " 72%|███████▏  | 39/54 [00:08<00:03,  4.50it/s]\u001b[A\n",
            " 74%|███████▍  | 40/54 [00:08<00:02,  4.75it/s]\u001b[A\n",
            " 76%|███████▌  | 41/54 [00:08<00:02,  5.10it/s]\u001b[A\n",
            " 78%|███████▊  | 42/54 [00:08<00:02,  4.54it/s]\u001b[A\n",
            " 80%|███████▉  | 43/54 [00:09<00:02,  4.49it/s]\u001b[A\n",
            " 81%|████████▏ | 44/54 [00:09<00:02,  4.56it/s]\u001b[A\n",
            " 83%|████████▎ | 45/54 [00:09<00:02,  4.31it/s]\u001b[A\n",
            " 85%|████████▌ | 46/54 [00:09<00:01,  4.49it/s]\u001b[A\n",
            " 87%|████████▋ | 47/54 [00:09<00:01,  4.94it/s]\u001b[A\n",
            " 89%|████████▉ | 48/54 [00:10<00:01,  4.89it/s]\u001b[A\n",
            " 91%|█████████ | 49/54 [00:10<00:00,  5.31it/s]\u001b[A\n",
            " 93%|█████████▎| 50/54 [00:10<00:00,  5.13it/s]\u001b[A\n",
            " 94%|█████████▍| 51/54 [00:10<00:00,  5.12it/s]\u001b[A\n",
            " 96%|█████████▋| 52/54 [00:10<00:00,  5.54it/s]\u001b[A\n",
            " 98%|█████████▊| 53/54 [00:10<00:00,  5.61it/s]\u001b[A\n",
            "100%|██████████| 54/54 [00:11<00:00,  4.83it/s]\n",
            "\n",
            "  0%|          | 0/54 [00:00<?, ?it/s]\u001b[A"
          ],
          "name": "stderr"
        },
        {
          "output_type": "stream",
          "text": [
            "{'ner': 134.55892736830924}\n"
          ],
          "name": "stdout"
        },
        {
          "output_type": "stream",
          "text": [
            "\n",
            "  2%|▏         | 1/54 [00:00<00:11,  4.70it/s]\u001b[A\n",
            "  4%|▎         | 2/54 [00:00<00:11,  4.71it/s]\u001b[A\n",
            "  6%|▌         | 3/54 [00:00<00:10,  4.99it/s]\u001b[A\n",
            "  7%|▋         | 4/54 [00:00<00:09,  5.29it/s]\u001b[A\n",
            "  9%|▉         | 5/54 [00:00<00:09,  5.03it/s]\u001b[A\n",
            " 11%|█         | 6/54 [00:01<00:09,  5.31it/s]\u001b[A\n",
            " 13%|█▎        | 7/54 [00:01<00:09,  4.99it/s]\u001b[A\n",
            " 15%|█▍        | 8/54 [00:01<00:09,  5.01it/s]\u001b[A\n",
            " 17%|█▋        | 9/54 [00:01<00:09,  4.59it/s]\u001b[A\n",
            " 19%|█▊        | 10/54 [00:02<00:09,  4.79it/s]\u001b[A\n",
            " 20%|██        | 11/54 [00:02<00:08,  4.80it/s]\u001b[A\n",
            " 22%|██▏       | 12/54 [00:02<00:08,  4.74it/s]\u001b[A\n",
            " 24%|██▍       | 13/54 [00:02<00:08,  5.01it/s]\u001b[A\n",
            " 26%|██▌       | 14/54 [00:02<00:07,  5.11it/s]\u001b[A\n",
            " 28%|██▊       | 15/54 [00:02<00:07,  5.37it/s]\u001b[A\n",
            " 30%|██▉       | 16/54 [00:03<00:06,  5.43it/s]\u001b[A\n",
            " 31%|███▏      | 17/54 [00:03<00:06,  5.34it/s]\u001b[A\n",
            " 33%|███▎      | 18/54 [00:03<00:07,  4.90it/s]\u001b[A\n",
            " 35%|███▌      | 19/54 [00:03<00:07,  4.73it/s]\u001b[A\n",
            " 37%|███▋      | 20/54 [00:04<00:07,  4.77it/s]\u001b[A\n",
            " 39%|███▉      | 21/54 [00:04<00:06,  4.80it/s]\u001b[A\n",
            " 41%|████      | 22/54 [00:04<00:06,  5.02it/s]\u001b[A\n",
            " 43%|████▎     | 23/54 [00:04<00:06,  4.76it/s]\u001b[A\n",
            " 44%|████▍     | 24/54 [00:04<00:06,  4.67it/s]\u001b[A\n",
            " 46%|████▋     | 25/54 [00:05<00:05,  4.86it/s]\u001b[A\n",
            " 48%|████▊     | 26/54 [00:05<00:05,  4.78it/s]\u001b[A\n",
            " 50%|█████     | 27/54 [00:05<00:06,  4.48it/s]\u001b[A\n",
            " 52%|█████▏    | 28/54 [00:05<00:05,  4.41it/s]\u001b[A\n",
            " 54%|█████▎    | 29/54 [00:05<00:05,  4.48it/s]\u001b[A\n",
            " 56%|█████▌    | 30/54 [00:06<00:05,  4.64it/s]\u001b[A\n",
            " 57%|█████▋    | 31/54 [00:06<00:04,  4.66it/s]\u001b[A\n",
            " 59%|█████▉    | 32/54 [00:06<00:04,  4.57it/s]\u001b[A\n",
            " 61%|██████    | 33/54 [00:06<00:04,  4.52it/s]\u001b[A\n",
            " 63%|██████▎   | 34/54 [00:07<00:04,  4.76it/s]\u001b[A\n",
            " 65%|██████▍   | 35/54 [00:07<00:04,  4.46it/s]\u001b[A\n",
            " 67%|██████▋   | 36/54 [00:07<00:03,  4.51it/s]\u001b[A\n",
            " 69%|██████▊   | 37/54 [00:07<00:04,  4.22it/s]\u001b[A\n",
            " 70%|███████   | 38/54 [00:07<00:03,  4.35it/s]\u001b[A\n",
            " 72%|███████▏  | 39/54 [00:08<00:03,  4.45it/s]\u001b[A\n",
            " 74%|███████▍  | 40/54 [00:08<00:02,  4.75it/s]\u001b[A\n",
            " 76%|███████▌  | 41/54 [00:08<00:02,  4.96it/s]\u001b[A\n",
            " 78%|███████▊  | 42/54 [00:08<00:02,  5.06it/s]\u001b[A\n",
            " 80%|███████▉  | 43/54 [00:08<00:02,  4.75it/s]\u001b[A\n",
            " 81%|████████▏ | 44/54 [00:09<00:01,  5.19it/s]\u001b[A\n",
            " 83%|████████▎ | 45/54 [00:09<00:01,  5.44it/s]\u001b[A\n",
            " 85%|████████▌ | 46/54 [00:09<00:01,  5.78it/s]\u001b[A\n",
            " 87%|████████▋ | 47/54 [00:09<00:01,  5.29it/s]\u001b[A\n",
            " 89%|████████▉ | 48/54 [00:09<00:01,  5.44it/s]\u001b[A\n",
            " 91%|█████████ | 49/54 [00:09<00:00,  5.70it/s]\u001b[A\n",
            " 93%|█████████▎| 50/54 [00:10<00:00,  5.67it/s]\u001b[A\n",
            " 94%|█████████▍| 51/54 [00:10<00:00,  5.95it/s]\u001b[A\n",
            " 96%|█████████▋| 52/54 [00:10<00:00,  5.71it/s]\u001b[A\n",
            " 98%|█████████▊| 53/54 [00:10<00:00,  5.66it/s]\u001b[A\n",
            "100%|██████████| 54/54 [00:10<00:00,  4.95it/s]\n",
            "\n",
            "  0%|          | 0/54 [00:00<?, ?it/s]\u001b[A"
          ],
          "name": "stderr"
        },
        {
          "output_type": "stream",
          "text": [
            "{'ner': 135.9496538647537}\n"
          ],
          "name": "stdout"
        },
        {
          "output_type": "stream",
          "text": [
            "\n",
            "  2%|▏         | 1/54 [00:00<00:14,  3.77it/s]\u001b[A\n",
            "  4%|▎         | 2/54 [00:00<00:12,  4.02it/s]\u001b[A\n",
            "  6%|▌         | 3/54 [00:00<00:12,  4.19it/s]\u001b[A\n",
            "  7%|▋         | 4/54 [00:00<00:10,  4.63it/s]\u001b[A\n",
            "  9%|▉         | 5/54 [00:01<00:10,  4.72it/s]\u001b[A\n",
            " 11%|█         | 6/54 [00:01<00:10,  4.78it/s]\u001b[A\n",
            " 13%|█▎        | 7/54 [00:01<00:10,  4.60it/s]\u001b[A\n",
            " 15%|█▍        | 8/54 [00:01<00:10,  4.27it/s]\u001b[A\n",
            " 17%|█▋        | 9/54 [00:01<00:10,  4.40it/s]\u001b[A\n",
            " 19%|█▊        | 10/54 [00:02<00:09,  4.43it/s]\u001b[A\n",
            " 20%|██        | 11/54 [00:02<00:08,  4.83it/s]\u001b[A\n",
            " 22%|██▏       | 12/54 [00:02<00:08,  4.87it/s]\u001b[A\n",
            " 24%|██▍       | 13/54 [00:02<00:07,  5.31it/s]\u001b[A\n",
            " 26%|██▌       | 14/54 [00:02<00:07,  5.48it/s]\u001b[A\n",
            " 28%|██▊       | 15/54 [00:03<00:07,  5.52it/s]\u001b[A\n",
            " 30%|██▉       | 16/54 [00:03<00:07,  5.23it/s]\u001b[A\n",
            " 31%|███▏      | 17/54 [00:03<00:07,  5.23it/s]\u001b[A\n",
            " 33%|███▎      | 18/54 [00:03<00:06,  5.33it/s]\u001b[A\n",
            " 35%|███▌      | 19/54 [00:03<00:06,  5.62it/s]\u001b[A\n",
            " 37%|███▋      | 20/54 [00:03<00:05,  5.68it/s]\u001b[A\n",
            " 39%|███▉      | 21/54 [00:04<00:06,  5.23it/s]\u001b[A\n",
            " 41%|████      | 22/54 [00:04<00:06,  4.98it/s]\u001b[A\n",
            " 43%|████▎     | 23/54 [00:04<00:06,  4.91it/s]\u001b[A\n",
            " 44%|████▍     | 24/54 [00:04<00:05,  5.23it/s]\u001b[A\n",
            " 46%|████▋     | 25/54 [00:05<00:05,  4.96it/s]\u001b[A\n",
            " 48%|████▊     | 26/54 [00:05<00:06,  4.57it/s]\u001b[A\n",
            " 50%|█████     | 27/54 [00:05<00:06,  4.23it/s]\u001b[A\n",
            " 52%|█████▏    | 28/54 [00:05<00:05,  4.76it/s]\u001b[A\n",
            " 54%|█████▎    | 29/54 [00:05<00:05,  4.78it/s]\u001b[A\n",
            " 56%|█████▌    | 30/54 [00:06<00:04,  5.06it/s]\u001b[A\n",
            " 57%|█████▋    | 31/54 [00:06<00:04,  4.61it/s]\u001b[A\n",
            " 59%|█████▉    | 32/54 [00:06<00:05,  4.37it/s]\u001b[A\n",
            " 61%|██████    | 33/54 [00:06<00:04,  4.39it/s]\u001b[A\n",
            " 63%|██████▎   | 34/54 [00:06<00:04,  4.87it/s]\u001b[A\n",
            " 65%|██████▍   | 35/54 [00:07<00:04,  4.68it/s]\u001b[A\n",
            " 67%|██████▋   | 36/54 [00:07<00:03,  4.98it/s]\u001b[A\n",
            " 69%|██████▊   | 37/54 [00:07<00:03,  4.95it/s]\u001b[A\n",
            " 70%|███████   | 38/54 [00:07<00:03,  4.89it/s]\u001b[A\n",
            " 72%|███████▏  | 39/54 [00:07<00:02,  5.13it/s]\u001b[A\n",
            " 74%|███████▍  | 40/54 [00:08<00:02,  5.27it/s]\u001b[A\n",
            " 76%|███████▌  | 41/54 [00:08<00:02,  5.62it/s]\u001b[A\n",
            " 78%|███████▊  | 42/54 [00:08<00:02,  5.06it/s]\u001b[A\n",
            " 80%|███████▉  | 43/54 [00:08<00:02,  4.97it/s]\u001b[A\n",
            " 81%|████████▏ | 44/54 [00:08<00:02,  4.90it/s]\u001b[A\n",
            " 83%|████████▎ | 45/54 [00:09<00:01,  4.90it/s]\u001b[A\n",
            " 85%|████████▌ | 46/54 [00:09<00:01,  4.56it/s]\u001b[A\n",
            " 87%|████████▋ | 47/54 [00:09<00:01,  4.86it/s]\u001b[A\n",
            " 89%|████████▉ | 48/54 [00:09<00:01,  4.79it/s]\u001b[A\n",
            " 91%|█████████ | 49/54 [00:10<00:01,  4.56it/s]\u001b[A\n",
            " 93%|█████████▎| 50/54 [00:10<00:00,  4.29it/s]\u001b[A\n",
            " 94%|█████████▍| 51/54 [00:10<00:00,  4.79it/s]\u001b[A\n",
            " 96%|█████████▋| 52/54 [00:10<00:00,  4.65it/s]\u001b[A\n",
            " 98%|█████████▊| 53/54 [00:10<00:00,  4.66it/s]\u001b[A\n",
            "100%|██████████| 54/54 [00:11<00:00,  4.86it/s]\n",
            "\n",
            "  0%|          | 0/54 [00:00<?, ?it/s]\u001b[A"
          ],
          "name": "stderr"
        },
        {
          "output_type": "stream",
          "text": [
            "{'ner': 111.4547099840616}\n"
          ],
          "name": "stdout"
        },
        {
          "output_type": "stream",
          "text": [
            "\n",
            "  2%|▏         | 1/54 [00:00<00:11,  4.73it/s]\u001b[A\n",
            "  4%|▎         | 2/54 [00:00<00:11,  4.57it/s]\u001b[A\n",
            "  6%|▌         | 3/54 [00:00<00:12,  4.22it/s]\u001b[A\n",
            "  7%|▋         | 4/54 [00:00<00:11,  4.46it/s]\u001b[A\n",
            "  9%|▉         | 5/54 [00:01<00:10,  4.60it/s]\u001b[A\n",
            " 11%|█         | 6/54 [00:01<00:10,  4.49it/s]\u001b[A\n",
            " 13%|█▎        | 7/54 [00:01<00:10,  4.39it/s]\u001b[A\n",
            " 15%|█▍        | 8/54 [00:01<00:09,  4.78it/s]\u001b[A\n",
            " 17%|█▋        | 9/54 [00:01<00:09,  4.89it/s]\u001b[A\n",
            " 19%|█▊        | 10/54 [00:02<00:09,  4.80it/s]\u001b[A\n",
            " 20%|██        | 11/54 [00:02<00:08,  4.86it/s]\u001b[A\n",
            " 22%|██▏       | 12/54 [00:02<00:08,  4.71it/s]\u001b[A\n",
            " 24%|██▍       | 13/54 [00:02<00:08,  5.06it/s]\u001b[A\n",
            " 26%|██▌       | 14/54 [00:02<00:08,  4.91it/s]\u001b[A\n",
            " 28%|██▊       | 15/54 [00:03<00:07,  4.90it/s]\u001b[A\n",
            " 30%|██▉       | 16/54 [00:03<00:07,  4.91it/s]\u001b[A\n",
            " 31%|███▏      | 17/54 [00:03<00:07,  5.24it/s]\u001b[A\n",
            " 33%|███▎      | 18/54 [00:03<00:06,  5.51it/s]\u001b[A\n",
            " 35%|███▌      | 19/54 [00:03<00:07,  4.96it/s]\u001b[A\n",
            " 37%|███▋      | 20/54 [00:04<00:07,  4.83it/s]\u001b[A\n",
            " 39%|███▉      | 21/54 [00:04<00:06,  5.07it/s]\u001b[A\n",
            " 41%|████      | 22/54 [00:04<00:06,  4.96it/s]\u001b[A\n",
            " 43%|████▎     | 23/54 [00:04<00:05,  5.29it/s]\u001b[A\n",
            " 44%|████▍     | 24/54 [00:04<00:06,  4.87it/s]\u001b[A\n",
            " 46%|████▋     | 25/54 [00:05<00:05,  4.84it/s]\u001b[A\n",
            " 48%|████▊     | 26/54 [00:05<00:06,  4.61it/s]\u001b[A\n",
            " 50%|█████     | 27/54 [00:05<00:05,  4.93it/s]\u001b[A\n",
            " 52%|█████▏    | 28/54 [00:05<00:04,  5.31it/s]\u001b[A\n",
            " 54%|█████▎    | 29/54 [00:05<00:04,  5.62it/s]\u001b[A\n",
            " 56%|█████▌    | 30/54 [00:06<00:04,  5.45it/s]\u001b[A\n",
            " 57%|█████▋    | 31/54 [00:06<00:04,  5.30it/s]\u001b[A\n",
            " 59%|█████▉    | 32/54 [00:06<00:04,  5.07it/s]\u001b[A\n",
            " 61%|██████    | 33/54 [00:06<00:04,  4.59it/s]\u001b[A\n",
            " 63%|██████▎   | 34/54 [00:06<00:03,  5.03it/s]\u001b[A\n",
            " 65%|██████▍   | 35/54 [00:07<00:03,  5.17it/s]\u001b[A\n",
            " 67%|██████▋   | 36/54 [00:07<00:03,  4.60it/s]\u001b[A\n",
            " 69%|██████▊   | 37/54 [00:07<00:03,  4.34it/s]\u001b[A\n",
            " 70%|███████   | 38/54 [00:07<00:03,  4.50it/s]\u001b[A\n",
            " 72%|███████▏  | 39/54 [00:08<00:03,  4.43it/s]\u001b[A\n",
            " 74%|███████▍  | 40/54 [00:08<00:03,  4.47it/s]\u001b[A\n",
            " 76%|███████▌  | 41/54 [00:08<00:02,  4.34it/s]\u001b[A\n",
            " 78%|███████▊  | 42/54 [00:08<00:02,  4.82it/s]\u001b[A\n",
            " 80%|███████▉  | 43/54 [00:08<00:02,  5.16it/s]\u001b[A\n",
            " 81%|████████▏ | 44/54 [00:09<00:02,  4.73it/s]\u001b[A\n",
            " 83%|████████▎ | 45/54 [00:09<00:01,  5.17it/s]\u001b[A\n",
            " 85%|████████▌ | 46/54 [00:09<00:01,  5.02it/s]\u001b[A\n",
            " 87%|████████▋ | 47/54 [00:09<00:01,  5.17it/s]\u001b[A\n",
            " 89%|████████▉ | 48/54 [00:09<00:01,  4.99it/s]\u001b[A\n",
            " 91%|█████████ | 49/54 [00:10<00:00,  5.33it/s]\u001b[A\n",
            " 93%|█████████▎| 50/54 [00:10<00:00,  5.10it/s]\u001b[A\n",
            " 94%|█████████▍| 51/54 [00:10<00:00,  4.92it/s]\u001b[A\n",
            " 96%|█████████▋| 52/54 [00:10<00:00,  4.88it/s]\u001b[A\n",
            " 98%|█████████▊| 53/54 [00:10<00:00,  4.97it/s]\u001b[A\n",
            "100%|██████████| 54/54 [00:11<00:00,  4.88it/s]\n",
            "\n",
            "  0%|          | 0/54 [00:00<?, ?it/s]\u001b[A"
          ],
          "name": "stderr"
        },
        {
          "output_type": "stream",
          "text": [
            "{'ner': 90.8000911778782}\n"
          ],
          "name": "stdout"
        },
        {
          "output_type": "stream",
          "text": [
            "\n",
            "  2%|▏         | 1/54 [00:00<00:11,  4.75it/s]\u001b[A\n",
            "  4%|▎         | 2/54 [00:00<00:11,  4.60it/s]\u001b[A\n",
            "  6%|▌         | 3/54 [00:00<00:11,  4.61it/s]\u001b[A\n",
            "  7%|▋         | 4/54 [00:00<00:10,  4.86it/s]\u001b[A\n",
            "  9%|▉         | 5/54 [00:01<00:09,  4.92it/s]\u001b[A\n",
            " 11%|█         | 6/54 [00:01<00:10,  4.46it/s]\u001b[A\n",
            " 13%|█▎        | 7/54 [00:01<00:09,  4.78it/s]\u001b[A\n",
            " 15%|█▍        | 8/54 [00:01<00:10,  4.42it/s]\u001b[A\n",
            " 17%|█▋        | 9/54 [00:01<00:09,  4.62it/s]\u001b[A\n",
            " 19%|█▊        | 10/54 [00:02<00:09,  4.75it/s]\u001b[A\n",
            " 20%|██        | 11/54 [00:02<00:08,  5.03it/s]\u001b[A\n",
            " 22%|██▏       | 12/54 [00:02<00:08,  5.07it/s]\u001b[A\n",
            " 24%|██▍       | 13/54 [00:02<00:08,  5.00it/s]\u001b[A\n",
            " 26%|██▌       | 14/54 [00:02<00:07,  5.15it/s]\u001b[A\n",
            " 28%|██▊       | 15/54 [00:03<00:07,  5.14it/s]\u001b[A\n",
            " 30%|██▉       | 16/54 [00:03<00:07,  4.92it/s]\u001b[A\n",
            " 31%|███▏      | 17/54 [00:03<00:07,  4.73it/s]\u001b[A\n",
            " 33%|███▎      | 18/54 [00:03<00:07,  4.68it/s]\u001b[A\n",
            " 35%|███▌      | 19/54 [00:04<00:07,  4.42it/s]\u001b[A\n",
            " 37%|███▋      | 20/54 [00:04<00:07,  4.80it/s]\u001b[A\n",
            " 39%|███▉      | 21/54 [00:04<00:06,  5.23it/s]\u001b[A\n",
            " 41%|████      | 22/54 [00:04<00:05,  5.41it/s]\u001b[A\n",
            " 43%|████▎     | 23/54 [00:04<00:06,  5.10it/s]\u001b[A\n",
            " 44%|████▍     | 24/54 [00:04<00:06,  4.96it/s]\u001b[A\n",
            " 46%|████▋     | 25/54 [00:05<00:06,  4.73it/s]\u001b[A\n",
            " 48%|████▊     | 26/54 [00:05<00:05,  4.82it/s]\u001b[A\n",
            " 50%|█████     | 27/54 [00:05<00:05,  4.80it/s]\u001b[A\n",
            " 52%|█████▏    | 28/54 [00:05<00:05,  4.73it/s]\u001b[A\n",
            " 54%|█████▎    | 29/54 [00:05<00:05,  4.89it/s]\u001b[A\n",
            " 56%|█████▌    | 30/54 [00:06<00:05,  4.78it/s]\u001b[A\n",
            " 57%|█████▋    | 31/54 [00:06<00:04,  4.66it/s]\u001b[A\n",
            " 59%|█████▉    | 32/54 [00:06<00:04,  4.57it/s]\u001b[A\n",
            " 61%|██████    | 33/54 [00:06<00:04,  4.99it/s]\u001b[A\n",
            " 63%|██████▎   | 34/54 [00:06<00:03,  5.42it/s]\u001b[A\n",
            " 65%|██████▍   | 35/54 [00:07<00:03,  5.75it/s]\u001b[A\n",
            " 67%|██████▋   | 36/54 [00:07<00:03,  5.28it/s]\u001b[A\n",
            " 69%|██████▊   | 37/54 [00:07<00:03,  5.16it/s]\u001b[A\n",
            " 70%|███████   | 38/54 [00:07<00:03,  5.13it/s]\u001b[A\n",
            " 72%|███████▏  | 39/54 [00:07<00:02,  5.32it/s]\u001b[A\n",
            " 74%|███████▍  | 40/54 [00:08<00:02,  5.10it/s]\u001b[A\n",
            " 76%|███████▌  | 41/54 [00:08<00:02,  5.00it/s]\u001b[A\n",
            " 78%|███████▊  | 42/54 [00:08<00:02,  5.06it/s]\u001b[A\n",
            " 80%|███████▉  | 43/54 [00:08<00:02,  4.57it/s]\u001b[A\n",
            " 81%|████████▏ | 44/54 [00:09<00:02,  4.28it/s]\u001b[A\n",
            " 83%|████████▎ | 45/54 [00:09<00:02,  4.03it/s]\u001b[A\n",
            " 85%|████████▌ | 46/54 [00:09<00:01,  4.42it/s]\u001b[A\n",
            " 87%|████████▋ | 47/54 [00:09<00:01,  4.32it/s]\u001b[A\n",
            " 89%|████████▉ | 48/54 [00:09<00:01,  4.54it/s]\u001b[A\n",
            " 91%|█████████ | 49/54 [00:10<00:01,  4.56it/s]\u001b[A\n",
            " 93%|█████████▎| 50/54 [00:10<00:00,  4.76it/s]\u001b[A\n",
            " 94%|█████████▍| 51/54 [00:10<00:00,  4.60it/s]\u001b[A\n",
            " 96%|█████████▋| 52/54 [00:10<00:00,  4.63it/s]\u001b[A\n",
            " 98%|█████████▊| 53/54 [00:10<00:00,  5.08it/s]\u001b[A\n",
            "100%|██████████| 54/54 [00:11<00:00,  4.82it/s]\n",
            "\n",
            "  0%|          | 0/54 [00:00<?, ?it/s]\u001b[A"
          ],
          "name": "stderr"
        },
        {
          "output_type": "stream",
          "text": [
            "{'ner': 125.31821701430616}\n"
          ],
          "name": "stdout"
        },
        {
          "output_type": "stream",
          "text": [
            "\n",
            "  2%|▏         | 1/54 [00:00<00:10,  4.96it/s]\u001b[A\n",
            "  4%|▎         | 2/54 [00:00<00:09,  5.23it/s]\u001b[A\n",
            "  6%|▌         | 3/54 [00:00<00:10,  4.68it/s]\u001b[A\n",
            "  7%|▋         | 4/54 [00:00<00:10,  4.55it/s]\u001b[A\n",
            "  9%|▉         | 5/54 [00:01<00:09,  4.98it/s]\u001b[A\n",
            " 11%|█         | 6/54 [00:01<00:09,  4.86it/s]\u001b[A\n",
            " 13%|█▎        | 7/54 [00:01<00:09,  4.87it/s]\u001b[A\n",
            " 15%|█▍        | 8/54 [00:01<00:09,  5.09it/s]\u001b[A\n",
            " 17%|█▋        | 9/54 [00:01<00:08,  5.23it/s]\u001b[A\n",
            " 19%|█▊        | 10/54 [00:02<00:08,  5.02it/s]\u001b[A\n",
            " 20%|██        | 11/54 [00:02<00:09,  4.72it/s]\u001b[A\n",
            " 22%|██▏       | 12/54 [00:02<00:08,  5.11it/s]\u001b[A\n",
            " 24%|██▍       | 13/54 [00:02<00:08,  4.73it/s]\u001b[A\n",
            " 26%|██▌       | 14/54 [00:02<00:08,  4.48it/s]\u001b[A\n",
            " 28%|██▊       | 15/54 [00:03<00:09,  4.14it/s]\u001b[A\n",
            " 30%|██▉       | 16/54 [00:03<00:09,  4.20it/s]\u001b[A\n",
            " 31%|███▏      | 17/54 [00:03<00:08,  4.53it/s]\u001b[A\n",
            " 33%|███▎      | 18/54 [00:03<00:07,  4.78it/s]\u001b[A\n",
            " 35%|███▌      | 19/54 [00:04<00:07,  4.60it/s]\u001b[A\n",
            " 37%|███▋      | 20/54 [00:04<00:07,  4.32it/s]\u001b[A\n",
            " 39%|███▉      | 21/54 [00:04<00:07,  4.32it/s]\u001b[A\n",
            " 41%|████      | 22/54 [00:04<00:06,  4.62it/s]\u001b[A\n",
            " 43%|████▎     | 23/54 [00:04<00:06,  4.73it/s]\u001b[A\n",
            " 44%|████▍     | 24/54 [00:05<00:06,  4.86it/s]\u001b[A\n",
            " 46%|████▋     | 25/54 [00:05<00:06,  4.66it/s]\u001b[A\n",
            " 48%|████▊     | 26/54 [00:05<00:05,  5.14it/s]\u001b[A\n",
            " 50%|█████     | 27/54 [00:05<00:04,  5.45it/s]\u001b[A\n",
            " 52%|█████▏    | 28/54 [00:05<00:04,  5.49it/s]\u001b[A\n",
            " 54%|█████▎    | 29/54 [00:06<00:04,  5.24it/s]\u001b[A\n",
            " 56%|█████▌    | 30/54 [00:06<00:04,  5.52it/s]\u001b[A\n",
            " 57%|█████▋    | 31/54 [00:06<00:04,  5.28it/s]\u001b[A\n",
            " 59%|█████▉    | 32/54 [00:06<00:04,  4.71it/s]\u001b[A\n",
            " 61%|██████    | 33/54 [00:06<00:04,  4.81it/s]\u001b[A\n",
            " 63%|██████▎   | 34/54 [00:07<00:04,  5.00it/s]\u001b[A\n",
            " 65%|██████▍   | 35/54 [00:07<00:03,  5.12it/s]\u001b[A\n",
            " 67%|██████▋   | 36/54 [00:07<00:03,  5.17it/s]\u001b[A\n",
            " 69%|██████▊   | 37/54 [00:07<00:03,  4.94it/s]\u001b[A\n",
            " 70%|███████   | 38/54 [00:07<00:03,  5.20it/s]\u001b[A\n",
            " 72%|███████▏  | 39/54 [00:07<00:02,  5.44it/s]\u001b[A\n",
            " 74%|███████▍  | 40/54 [00:08<00:02,  5.76it/s]\u001b[A\n",
            " 76%|███████▌  | 41/54 [00:08<00:02,  5.86it/s]\u001b[A\n",
            " 78%|███████▊  | 42/54 [00:08<00:02,  5.42it/s]\u001b[A\n",
            " 80%|███████▉  | 43/54 [00:08<00:02,  5.00it/s]\u001b[A\n",
            " 81%|████████▏ | 44/54 [00:08<00:02,  4.91it/s]\u001b[A\n",
            " 83%|████████▎ | 45/54 [00:09<00:01,  4.73it/s]\u001b[A\n",
            " 85%|████████▌ | 46/54 [00:09<00:01,  4.67it/s]\u001b[A\n",
            " 87%|████████▋ | 47/54 [00:09<00:01,  4.74it/s]\u001b[A\n",
            " 89%|████████▉ | 48/54 [00:09<00:01,  4.79it/s]\u001b[A\n",
            " 91%|█████████ | 49/54 [00:09<00:01,  4.94it/s]\u001b[A\n",
            " 93%|█████████▎| 50/54 [00:10<00:00,  4.52it/s]\u001b[A\n",
            " 94%|█████████▍| 51/54 [00:10<00:00,  4.37it/s]\u001b[A\n",
            " 96%|█████████▋| 52/54 [00:10<00:00,  4.53it/s]\u001b[A\n",
            " 98%|█████████▊| 53/54 [00:10<00:00,  4.77it/s]\u001b[A\n",
            "100%|██████████| 54/54 [00:11<00:00,  4.89it/s]\n",
            "\n",
            "  0%|          | 0/54 [00:00<?, ?it/s]\u001b[A"
          ],
          "name": "stderr"
        },
        {
          "output_type": "stream",
          "text": [
            "{'ner': 134.04229653167525}\n"
          ],
          "name": "stdout"
        },
        {
          "output_type": "stream",
          "text": [
            "\n",
            "  2%|▏         | 1/54 [00:00<00:11,  4.47it/s]\u001b[A\n",
            "  4%|▎         | 2/54 [00:00<00:11,  4.55it/s]\u001b[A\n",
            "  6%|▌         | 3/54 [00:00<00:11,  4.40it/s]\u001b[A\n",
            "  7%|▋         | 4/54 [00:00<00:10,  4.83it/s]\u001b[A\n",
            "  9%|▉         | 5/54 [00:01<00:10,  4.75it/s]\u001b[A\n",
            " 11%|█         | 6/54 [00:01<00:09,  4.91it/s]\u001b[A\n",
            " 13%|█▎        | 7/54 [00:01<00:09,  4.84it/s]\u001b[A\n",
            " 15%|█▍        | 8/54 [00:01<00:09,  5.02it/s]\u001b[A\n",
            " 17%|█▋        | 9/54 [00:01<00:09,  4.66it/s]\u001b[A\n",
            " 19%|█▊        | 10/54 [00:02<00:08,  5.04it/s]\u001b[A\n",
            " 20%|██        | 11/54 [00:02<00:08,  4.83it/s]\u001b[A\n",
            " 22%|██▏       | 12/54 [00:02<00:07,  5.25it/s]\u001b[A\n",
            " 24%|██▍       | 13/54 [00:02<00:08,  4.71it/s]\u001b[A\n",
            " 26%|██▌       | 14/54 [00:02<00:08,  4.65it/s]\u001b[A\n",
            " 28%|██▊       | 15/54 [00:03<00:07,  5.05it/s]\u001b[A\n",
            " 30%|██▉       | 16/54 [00:03<00:07,  4.90it/s]\u001b[A\n",
            " 31%|███▏      | 17/54 [00:03<00:07,  4.70it/s]\u001b[A\n",
            " 33%|███▎      | 18/54 [00:03<00:07,  4.65it/s]\u001b[A\n",
            " 35%|███▌      | 19/54 [00:03<00:07,  4.78it/s]\u001b[A\n",
            " 37%|███▋      | 20/54 [00:04<00:06,  5.16it/s]\u001b[A\n",
            " 39%|███▉      | 21/54 [00:04<00:06,  4.96it/s]\u001b[A\n",
            " 41%|████      | 22/54 [00:04<00:06,  4.89it/s]\u001b[A\n",
            " 43%|████▎     | 23/54 [00:04<00:06,  4.87it/s]\u001b[A\n",
            " 44%|████▍     | 24/54 [00:04<00:05,  5.12it/s]\u001b[A\n",
            " 46%|████▋     | 25/54 [00:05<00:05,  4.85it/s]\u001b[A\n",
            " 48%|████▊     | 26/54 [00:05<00:05,  4.78it/s]\u001b[A\n",
            " 50%|█████     | 27/54 [00:05<00:05,  4.80it/s]\u001b[A\n",
            " 52%|█████▏    | 28/54 [00:05<00:05,  5.12it/s]\u001b[A\n",
            " 54%|█████▎    | 29/54 [00:05<00:04,  5.20it/s]\u001b[A\n",
            " 56%|█████▌    | 30/54 [00:06<00:04,  5.09it/s]\u001b[A\n",
            " 57%|█████▋    | 31/54 [00:06<00:04,  5.39it/s]\u001b[A\n",
            " 59%|█████▉    | 32/54 [00:06<00:04,  5.29it/s]\u001b[A\n",
            " 61%|██████    | 33/54 [00:06<00:04,  4.92it/s]\u001b[A\n",
            " 63%|██████▎   | 34/54 [00:06<00:03,  5.01it/s]\u001b[A\n",
            " 65%|██████▍   | 35/54 [00:07<00:03,  4.81it/s]\u001b[A\n",
            " 67%|██████▋   | 36/54 [00:07<00:03,  4.57it/s]\u001b[A\n",
            " 69%|██████▊   | 37/54 [00:07<00:03,  4.75it/s]\u001b[A\n",
            " 70%|███████   | 38/54 [00:07<00:03,  4.67it/s]\u001b[A\n",
            " 72%|███████▏  | 39/54 [00:07<00:03,  4.71it/s]\u001b[A\n",
            " 74%|███████▍  | 40/54 [00:08<00:03,  4.51it/s]\u001b[A\n",
            " 76%|███████▌  | 41/54 [00:08<00:02,  4.78it/s]\u001b[A\n",
            " 78%|███████▊  | 42/54 [00:08<00:02,  4.99it/s]\u001b[A\n",
            " 80%|███████▉  | 43/54 [00:08<00:02,  4.92it/s]\u001b[A\n",
            " 81%|████████▏ | 44/54 [00:09<00:01,  5.01it/s]\u001b[A\n",
            " 83%|████████▎ | 45/54 [00:09<00:01,  4.65it/s]\u001b[A\n",
            " 85%|████████▌ | 46/54 [00:09<00:01,  4.45it/s]\u001b[A\n",
            " 87%|████████▋ | 47/54 [00:09<00:01,  4.38it/s]\u001b[A\n",
            " 89%|████████▉ | 48/54 [00:09<00:01,  4.34it/s]\u001b[A\n",
            " 91%|█████████ | 49/54 [00:10<00:01,  4.43it/s]\u001b[A\n",
            " 93%|█████████▎| 50/54 [00:10<00:00,  4.90it/s]\u001b[A\n",
            " 94%|█████████▍| 51/54 [00:10<00:00,  5.12it/s]\u001b[A\n",
            " 96%|█████████▋| 52/54 [00:10<00:00,  5.05it/s]\u001b[A\n",
            " 98%|█████████▊| 53/54 [00:10<00:00,  5.26it/s]\u001b[A\n",
            "100%|██████████| 54/54 [00:11<00:00,  4.86it/s]\n",
            "\n",
            "  0%|          | 0/54 [00:00<?, ?it/s]\u001b[A"
          ],
          "name": "stderr"
        },
        {
          "output_type": "stream",
          "text": [
            "{'ner': 110.40510249728554}\n"
          ],
          "name": "stdout"
        },
        {
          "output_type": "stream",
          "text": [
            "\n",
            "  2%|▏         | 1/54 [00:00<00:15,  3.41it/s]\u001b[A\n",
            "  4%|▎         | 2/54 [00:00<00:13,  3.89it/s]\u001b[A\n",
            "  6%|▌         | 3/54 [00:00<00:11,  4.35it/s]\u001b[A\n",
            "  7%|▋         | 4/54 [00:00<00:10,  4.64it/s]\u001b[A\n",
            "  9%|▉         | 5/54 [00:01<00:11,  4.38it/s]\u001b[A\n",
            " 11%|█         | 6/54 [00:01<00:10,  4.44it/s]\u001b[A\n",
            " 13%|█▎        | 7/54 [00:01<00:10,  4.63it/s]\u001b[A\n",
            " 15%|█▍        | 8/54 [00:01<00:09,  4.86it/s]\u001b[A\n",
            " 17%|█▋        | 9/54 [00:01<00:09,  4.98it/s]\u001b[A\n",
            " 19%|█▊        | 10/54 [00:02<00:08,  5.07it/s]\u001b[A\n",
            " 20%|██        | 11/54 [00:02<00:08,  4.91it/s]\u001b[A\n",
            " 22%|██▏       | 12/54 [00:02<00:08,  4.83it/s]\u001b[A\n",
            " 24%|██▍       | 13/54 [00:02<00:08,  4.77it/s]\u001b[A\n",
            " 26%|██▌       | 14/54 [00:02<00:09,  4.44it/s]\u001b[A\n",
            " 28%|██▊       | 15/54 [00:03<00:08,  4.36it/s]\u001b[A\n",
            " 30%|██▉       | 16/54 [00:03<00:08,  4.56it/s]\u001b[A\n",
            " 31%|███▏      | 17/54 [00:03<00:07,  4.96it/s]\u001b[A\n",
            " 33%|███▎      | 18/54 [00:03<00:06,  5.19it/s]\u001b[A\n",
            " 35%|███▌      | 19/54 [00:03<00:07,  5.00it/s]\u001b[A\n",
            " 37%|███▋      | 20/54 [00:04<00:06,  4.97it/s]\u001b[A\n",
            " 39%|███▉      | 21/54 [00:04<00:07,  4.67it/s]\u001b[A\n",
            " 41%|████      | 22/54 [00:04<00:06,  4.85it/s]\u001b[A\n",
            " 43%|████▎     | 23/54 [00:04<00:05,  5.26it/s]\u001b[A\n",
            " 44%|████▍     | 24/54 [00:04<00:05,  5.02it/s]\u001b[A\n",
            " 46%|████▋     | 25/54 [00:05<00:06,  4.48it/s]\u001b[A\n",
            " 48%|████▊     | 26/54 [00:05<00:06,  4.45it/s]\u001b[A\n",
            " 50%|█████     | 27/54 [00:05<00:05,  4.64it/s]\u001b[A\n",
            " 52%|█████▏    | 28/54 [00:05<00:05,  4.86it/s]\u001b[A\n",
            " 54%|█████▎    | 29/54 [00:06<00:05,  4.50it/s]\u001b[A\n",
            " 56%|█████▌    | 30/54 [00:06<00:05,  4.55it/s]\u001b[A\n",
            " 57%|█████▋    | 31/54 [00:06<00:04,  4.64it/s]\u001b[A\n",
            " 59%|█████▉    | 32/54 [00:06<00:04,  4.72it/s]\u001b[A\n",
            " 61%|██████    | 33/54 [00:06<00:04,  4.67it/s]\u001b[A\n",
            " 63%|██████▎   | 34/54 [00:07<00:04,  4.82it/s]\u001b[A\n",
            " 65%|██████▍   | 35/54 [00:07<00:03,  5.09it/s]\u001b[A\n",
            " 67%|██████▋   | 36/54 [00:07<00:03,  5.14it/s]\u001b[A\n",
            " 69%|██████▊   | 37/54 [00:07<00:03,  4.79it/s]\u001b[A\n",
            " 70%|███████   | 38/54 [00:07<00:03,  4.62it/s]\u001b[A\n",
            " 72%|███████▏  | 39/54 [00:08<00:03,  4.83it/s]\u001b[A\n",
            " 74%|███████▍  | 40/54 [00:08<00:03,  4.49it/s]\u001b[A\n",
            " 76%|███████▌  | 41/54 [00:08<00:02,  4.74it/s]\u001b[A\n",
            " 78%|███████▊  | 42/54 [00:08<00:02,  4.51it/s]\u001b[A\n",
            " 80%|███████▉  | 43/54 [00:09<00:02,  4.46it/s]\u001b[A\n",
            " 81%|████████▏ | 44/54 [00:09<00:02,  4.52it/s]\u001b[A\n",
            " 83%|████████▎ | 45/54 [00:09<00:01,  4.83it/s]\u001b[A\n",
            " 85%|████████▌ | 46/54 [00:09<00:01,  4.98it/s]\u001b[A\n",
            " 87%|████████▋ | 47/54 [00:09<00:01,  5.26it/s]\u001b[A\n",
            " 89%|████████▉ | 48/54 [00:09<00:01,  5.29it/s]\u001b[A\n",
            " 91%|█████████ | 49/54 [00:10<00:00,  5.13it/s]\u001b[A\n",
            " 93%|█████████▎| 50/54 [00:10<00:00,  5.18it/s]\u001b[A\n",
            " 94%|█████████▍| 51/54 [00:10<00:00,  5.02it/s]\u001b[A\n",
            " 96%|█████████▋| 52/54 [00:10<00:00,  5.03it/s]\u001b[A\n",
            " 98%|█████████▊| 53/54 [00:11<00:00,  4.68it/s]\u001b[A\n",
            "100%|██████████| 54/54 [00:11<00:00,  4.79it/s]\n",
            "\n",
            "  0%|          | 0/54 [00:00<?, ?it/s]\u001b[A"
          ],
          "name": "stderr"
        },
        {
          "output_type": "stream",
          "text": [
            "{'ner': 126.38307248796313}\n"
          ],
          "name": "stdout"
        },
        {
          "output_type": "stream",
          "text": [
            "\n",
            "  2%|▏         | 1/54 [00:00<00:10,  5.10it/s]\u001b[A\n",
            "  4%|▎         | 2/54 [00:00<00:10,  4.90it/s]\u001b[A\n",
            "  6%|▌         | 3/54 [00:00<00:09,  5.17it/s]\u001b[A\n",
            "  7%|▋         | 4/54 [00:00<00:10,  4.99it/s]\u001b[A\n",
            "  9%|▉         | 5/54 [00:01<00:10,  4.85it/s]\u001b[A\n",
            " 11%|█         | 6/54 [00:01<00:11,  4.32it/s]\u001b[A\n",
            " 13%|█▎        | 7/54 [00:01<00:10,  4.32it/s]\u001b[A\n",
            " 15%|█▍        | 8/54 [00:01<00:11,  4.10it/s]\u001b[A\n",
            " 17%|█▋        | 9/54 [00:02<00:10,  4.30it/s]\u001b[A\n",
            " 19%|█▊        | 10/54 [00:02<00:09,  4.73it/s]\u001b[A\n",
            " 20%|██        | 11/54 [00:02<00:08,  4.85it/s]\u001b[A\n",
            " 22%|██▏       | 12/54 [00:02<00:08,  5.24it/s]\u001b[A\n",
            " 24%|██▍       | 13/54 [00:02<00:08,  5.12it/s]\u001b[A\n",
            " 26%|██▌       | 14/54 [00:02<00:07,  5.12it/s]\u001b[A\n",
            " 28%|██▊       | 15/54 [00:03<00:07,  5.30it/s]\u001b[A\n",
            " 30%|██▉       | 16/54 [00:03<00:07,  5.23it/s]\u001b[A\n",
            " 31%|███▏      | 17/54 [00:03<00:06,  5.44it/s]\u001b[A\n",
            " 33%|███▎      | 18/54 [00:03<00:06,  5.22it/s]\u001b[A\n",
            " 35%|███▌      | 19/54 [00:03<00:07,  4.75it/s]\u001b[A\n",
            " 37%|███▋      | 20/54 [00:04<00:07,  4.80it/s]\u001b[A\n",
            " 39%|███▉      | 21/54 [00:04<00:07,  4.71it/s]\u001b[A\n",
            " 41%|████      | 22/54 [00:04<00:06,  4.79it/s]\u001b[A\n",
            " 43%|████▎     | 23/54 [00:04<00:06,  4.99it/s]\u001b[A\n",
            " 44%|████▍     | 24/54 [00:04<00:05,  5.29it/s]\u001b[A\n",
            " 46%|████▋     | 25/54 [00:05<00:05,  5.37it/s]\u001b[A\n",
            " 48%|████▊     | 26/54 [00:05<00:04,  5.61it/s]\u001b[A\n",
            " 50%|█████     | 27/54 [00:05<00:05,  4.91it/s]\u001b[A\n",
            " 52%|█████▏    | 28/54 [00:05<00:05,  4.70it/s]\u001b[A\n",
            " 54%|█████▎    | 29/54 [00:05<00:04,  5.14it/s]\u001b[A\n",
            " 56%|█████▌    | 30/54 [00:06<00:04,  5.37it/s]\u001b[A\n",
            " 57%|█████▋    | 31/54 [00:06<00:04,  5.60it/s]\u001b[A\n",
            " 59%|█████▉    | 32/54 [00:06<00:04,  5.32it/s]\u001b[A\n",
            " 61%|██████    | 33/54 [00:06<00:04,  4.77it/s]\u001b[A\n",
            " 63%|██████▎   | 34/54 [00:06<00:04,  4.83it/s]\u001b[A\n",
            " 65%|██████▍   | 35/54 [00:07<00:03,  4.85it/s]\u001b[A\n",
            " 67%|██████▋   | 36/54 [00:07<00:03,  4.56it/s]\u001b[A\n",
            " 69%|██████▊   | 37/54 [00:07<00:03,  4.55it/s]\u001b[A\n",
            " 70%|███████   | 38/54 [00:07<00:03,  4.54it/s]\u001b[A\n",
            " 72%|███████▏  | 39/54 [00:08<00:03,  4.40it/s]\u001b[A\n",
            " 74%|███████▍  | 40/54 [00:08<00:02,  4.76it/s]\u001b[A\n",
            " 76%|███████▌  | 41/54 [00:08<00:02,  4.70it/s]\u001b[A\n",
            " 78%|███████▊  | 42/54 [00:08<00:02,  4.71it/s]\u001b[A\n",
            " 80%|███████▉  | 43/54 [00:08<00:02,  5.05it/s]\u001b[A\n",
            " 81%|████████▏ | 44/54 [00:09<00:02,  4.55it/s]\u001b[A\n",
            " 83%|████████▎ | 45/54 [00:09<00:01,  4.78it/s]\u001b[A\n",
            " 85%|████████▌ | 46/54 [00:09<00:01,  4.78it/s]\u001b[A\n",
            " 87%|████████▋ | 47/54 [00:09<00:01,  4.46it/s]\u001b[A\n",
            " 89%|████████▉ | 48/54 [00:09<00:01,  4.93it/s]\u001b[A\n",
            " 91%|█████████ | 49/54 [00:10<00:01,  4.73it/s]\u001b[A\n",
            " 93%|█████████▎| 50/54 [00:10<00:00,  5.00it/s]\u001b[A\n",
            " 94%|█████████▍| 51/54 [00:10<00:00,  4.93it/s]\u001b[A\n",
            " 96%|█████████▋| 52/54 [00:10<00:00,  5.06it/s]\u001b[A\n",
            " 98%|█████████▊| 53/54 [00:10<00:00,  4.66it/s]\u001b[A\n",
            "100%|██████████| 54/54 [00:11<00:00,  4.85it/s]\n",
            "\n",
            "  0%|          | 0/54 [00:00<?, ?it/s]\u001b[A\n",
            "  2%|▏         | 1/54 [00:00<00:09,  5.65it/s]\u001b[A"
          ],
          "name": "stderr"
        },
        {
          "output_type": "stream",
          "text": [
            "{'ner': 136.83589327431682}\n"
          ],
          "name": "stdout"
        },
        {
          "output_type": "stream",
          "text": [
            "\n",
            "  4%|▎         | 2/54 [00:00<00:09,  5.35it/s]\u001b[A\n",
            "  6%|▌         | 3/54 [00:00<00:09,  5.51it/s]\u001b[A\n",
            "  7%|▋         | 4/54 [00:00<00:09,  5.28it/s]\u001b[A\n",
            "  9%|▉         | 5/54 [00:01<00:10,  4.82it/s]\u001b[A\n",
            " 11%|█         | 6/54 [00:01<00:10,  4.40it/s]\u001b[A\n",
            " 13%|█▎        | 7/54 [00:01<00:10,  4.69it/s]\u001b[A\n",
            " 15%|█▍        | 8/54 [00:01<00:09,  4.70it/s]\u001b[A\n",
            " 17%|█▋        | 9/54 [00:01<00:09,  4.70it/s]\u001b[A\n",
            " 19%|█▊        | 10/54 [00:02<00:08,  4.95it/s]\u001b[A\n",
            " 20%|██        | 11/54 [00:02<00:08,  5.00it/s]\u001b[A\n",
            " 22%|██▏       | 12/54 [00:02<00:07,  5.27it/s]\u001b[A\n",
            " 24%|██▍       | 13/54 [00:02<00:08,  5.07it/s]\u001b[A\n",
            " 26%|██▌       | 14/54 [00:02<00:07,  5.11it/s]\u001b[A\n",
            " 28%|██▊       | 15/54 [00:02<00:07,  5.43it/s]\u001b[A\n",
            " 30%|██▉       | 16/54 [00:03<00:08,  4.72it/s]\u001b[A\n",
            " 31%|███▏      | 17/54 [00:03<00:07,  5.07it/s]\u001b[A\n",
            " 33%|███▎      | 18/54 [00:03<00:07,  5.07it/s]\u001b[A\n",
            " 35%|███▌      | 19/54 [00:03<00:07,  4.74it/s]\u001b[A\n",
            " 37%|███▋      | 20/54 [00:04<00:07,  4.70it/s]\u001b[A\n",
            " 39%|███▉      | 21/54 [00:04<00:06,  5.05it/s]\u001b[A\n",
            " 41%|████      | 22/54 [00:04<00:06,  5.19it/s]\u001b[A\n",
            " 43%|████▎     | 23/54 [00:04<00:06,  5.14it/s]\u001b[A\n",
            " 44%|████▍     | 24/54 [00:04<00:06,  4.79it/s]\u001b[A\n",
            " 46%|████▋     | 25/54 [00:05<00:05,  4.89it/s]\u001b[A\n",
            " 48%|████▊     | 26/54 [00:05<00:05,  5.17it/s]\u001b[A\n",
            " 50%|█████     | 27/54 [00:05<00:05,  4.84it/s]\u001b[A\n",
            " 52%|█████▏    | 28/54 [00:05<00:05,  5.00it/s]\u001b[A\n",
            " 54%|█████▎    | 29/54 [00:05<00:05,  4.57it/s]\u001b[A\n",
            " 56%|█████▌    | 30/54 [00:06<00:05,  4.54it/s]\u001b[A\n",
            " 57%|█████▋    | 31/54 [00:06<00:05,  4.58it/s]\u001b[A\n",
            " 59%|█████▉    | 32/54 [00:06<00:04,  4.80it/s]\u001b[A\n",
            " 61%|██████    | 33/54 [00:06<00:04,  4.44it/s]\u001b[A\n",
            " 63%|██████▎   | 34/54 [00:07<00:04,  4.49it/s]\u001b[A\n",
            " 65%|██████▍   | 35/54 [00:07<00:04,  4.20it/s]\u001b[A\n",
            " 67%|██████▋   | 36/54 [00:07<00:04,  4.22it/s]\u001b[A\n",
            " 69%|██████▊   | 37/54 [00:07<00:03,  4.29it/s]\u001b[A\n",
            " 70%|███████   | 38/54 [00:07<00:03,  4.62it/s]\u001b[A\n",
            " 72%|███████▏  | 39/54 [00:08<00:03,  4.92it/s]\u001b[A\n",
            " 74%|███████▍  | 40/54 [00:08<00:02,  4.74it/s]\u001b[A\n",
            " 76%|███████▌  | 41/54 [00:08<00:02,  4.42it/s]\u001b[A\n",
            " 78%|███████▊  | 42/54 [00:08<00:02,  4.75it/s]\u001b[A\n",
            " 80%|███████▉  | 43/54 [00:08<00:02,  5.13it/s]\u001b[A\n",
            " 81%|████████▏ | 44/54 [00:09<00:01,  5.20it/s]\u001b[A\n",
            " 83%|████████▎ | 45/54 [00:09<00:01,  4.97it/s]\u001b[A\n",
            " 85%|████████▌ | 46/54 [00:09<00:01,  4.81it/s]\u001b[A\n",
            " 87%|████████▋ | 47/54 [00:09<00:01,  5.30it/s]\u001b[A\n",
            " 89%|████████▉ | 48/54 [00:09<00:01,  5.23it/s]\u001b[A\n",
            " 91%|█████████ | 49/54 [00:10<00:00,  5.63it/s]\u001b[A\n",
            " 93%|█████████▎| 50/54 [00:10<00:00,  5.88it/s]\u001b[A\n",
            " 94%|█████████▍| 51/54 [00:10<00:00,  5.71it/s]\u001b[A\n",
            " 96%|█████████▋| 52/54 [00:10<00:00,  5.29it/s]\u001b[A\n",
            " 98%|█████████▊| 53/54 [00:10<00:00,  5.55it/s]\u001b[A\n",
            "100%|██████████| 54/54 [00:10<00:00,  4.91it/s]\n",
            "\n",
            "  0%|          | 0/54 [00:00<?, ?it/s]\u001b[A\n"
          ],
          "name": "stderr"
        },
        {
          "output_type": "stream",
          "text": [
            "{'ner': 100.48194472785761}\n"
          ],
          "name": "stdout"
        },
        {
          "output_type": "stream",
          "text": [
            "  2%|▏         | 1/54 [00:00<00:10,  5.11it/s]\u001b[A\n",
            "  4%|▎         | 2/54 [00:00<00:09,  5.43it/s]\u001b[A\n",
            "  6%|▌         | 3/54 [00:00<00:10,  4.75it/s]\u001b[A\n",
            "  7%|▋         | 4/54 [00:00<00:10,  4.79it/s]\u001b[A\n",
            "  9%|▉         | 5/54 [00:00<00:09,  5.21it/s]\u001b[A\n",
            " 11%|█         | 6/54 [00:01<00:08,  5.43it/s]\u001b[A\n",
            " 13%|█▎        | 7/54 [00:01<00:09,  5.19it/s]\u001b[A\n",
            " 15%|█▍        | 8/54 [00:01<00:09,  5.09it/s]\u001b[A\n",
            " 17%|█▋        | 9/54 [00:01<00:09,  4.96it/s]\u001b[A\n",
            " 19%|█▊        | 10/54 [00:01<00:09,  4.86it/s]\u001b[A\n",
            " 20%|██        | 11/54 [00:02<00:08,  4.94it/s]\u001b[A\n",
            " 22%|██▏       | 12/54 [00:02<00:07,  5.34it/s]\u001b[A\n",
            " 24%|██▍       | 13/54 [00:02<00:07,  5.17it/s]\u001b[A\n",
            " 26%|██▌       | 14/54 [00:02<00:07,  5.40it/s]\u001b[A\n",
            " 28%|██▊       | 15/54 [00:02<00:07,  5.36it/s]\u001b[A\n",
            " 30%|██▉       | 16/54 [00:03<00:07,  5.11it/s]\u001b[A\n",
            " 31%|███▏      | 17/54 [00:03<00:06,  5.42it/s]\u001b[A\n",
            " 33%|███▎      | 18/54 [00:03<00:07,  5.05it/s]\u001b[A\n",
            " 35%|███▌      | 19/54 [00:03<00:07,  4.91it/s]\u001b[A\n",
            " 37%|███▋      | 20/54 [00:03<00:06,  4.91it/s]\u001b[A\n",
            " 39%|███▉      | 21/54 [00:04<00:06,  4.96it/s]\u001b[A\n",
            " 41%|████      | 22/54 [00:04<00:06,  4.61it/s]\u001b[A\n",
            " 43%|████▎     | 23/54 [00:04<00:06,  4.75it/s]\u001b[A\n",
            " 44%|████▍     | 24/54 [00:04<00:06,  4.75it/s]\u001b[A\n",
            " 46%|████▋     | 25/54 [00:04<00:05,  4.83it/s]\u001b[A\n",
            " 48%|████▊     | 26/54 [00:05<00:05,  5.15it/s]\u001b[A\n",
            " 50%|█████     | 27/54 [00:05<00:05,  5.31it/s]\u001b[A\n",
            " 52%|█████▏    | 28/54 [00:05<00:04,  5.32it/s]\u001b[A\n",
            " 54%|█████▎    | 29/54 [00:05<00:04,  5.56it/s]\u001b[A\n",
            " 56%|█████▌    | 30/54 [00:05<00:04,  5.17it/s]\u001b[A\n",
            " 57%|█████▋    | 31/54 [00:06<00:04,  4.75it/s]\u001b[A\n",
            " 59%|█████▉    | 32/54 [00:06<00:04,  4.70it/s]\u001b[A\n",
            " 61%|██████    | 33/54 [00:06<00:04,  4.26it/s]\u001b[A\n",
            " 63%|██████▎   | 34/54 [00:06<00:04,  4.68it/s]\u001b[A\n",
            " 65%|██████▍   | 35/54 [00:06<00:03,  4.91it/s]\u001b[A\n",
            " 67%|██████▋   | 36/54 [00:07<00:03,  4.82it/s]\u001b[A\n",
            " 69%|██████▊   | 37/54 [00:07<00:03,  4.46it/s]\u001b[A\n",
            " 70%|███████   | 38/54 [00:07<00:03,  4.72it/s]\u001b[A\n",
            " 72%|███████▏  | 39/54 [00:07<00:02,  5.11it/s]\u001b[A\n",
            " 74%|███████▍  | 40/54 [00:08<00:02,  4.89it/s]\u001b[A\n",
            " 76%|███████▌  | 41/54 [00:08<00:02,  4.96it/s]\u001b[A\n",
            " 78%|███████▊  | 42/54 [00:08<00:02,  4.89it/s]\u001b[A\n",
            " 80%|███████▉  | 43/54 [00:08<00:02,  4.69it/s]\u001b[A\n",
            " 81%|████████▏ | 44/54 [00:08<00:02,  4.94it/s]\u001b[A\n",
            " 83%|████████▎ | 45/54 [00:09<00:01,  4.71it/s]\u001b[A\n",
            " 85%|████████▌ | 46/54 [00:09<00:01,  4.52it/s]\u001b[A\n",
            " 87%|████████▋ | 47/54 [00:09<00:01,  4.40it/s]\u001b[A\n",
            " 89%|████████▉ | 48/54 [00:09<00:01,  4.12it/s]\u001b[A\n",
            " 91%|█████████ | 49/54 [00:10<00:01,  3.97it/s]\u001b[A\n",
            " 93%|█████████▎| 50/54 [00:10<00:00,  4.38it/s]\u001b[A\n",
            " 94%|█████████▍| 51/54 [00:10<00:00,  4.30it/s]\u001b[A\n",
            " 96%|█████████▋| 52/54 [00:10<00:00,  4.41it/s]\u001b[A\n",
            " 98%|█████████▊| 53/54 [00:10<00:00,  4.37it/s]\u001b[A\n",
            "100%|██████████| 54/54 [00:11<00:00,  4.83it/s]\n",
            "\n",
            "  0%|          | 0/54 [00:00<?, ?it/s]\u001b[A\n",
            "  2%|▏         | 1/54 [00:00<00:08,  6.06it/s]\u001b[A"
          ],
          "name": "stderr"
        },
        {
          "output_type": "stream",
          "text": [
            "{'ner': 119.88823929752023}\n"
          ],
          "name": "stdout"
        },
        {
          "output_type": "stream",
          "text": [
            "\n",
            "  4%|▎         | 2/54 [00:00<00:08,  6.09it/s]\u001b[A\n",
            "  6%|▌         | 3/54 [00:00<00:08,  5.68it/s]\u001b[A\n",
            "  7%|▋         | 4/54 [00:00<00:08,  5.73it/s]\u001b[A\n",
            "  9%|▉         | 5/54 [00:00<00:09,  5.28it/s]\u001b[A\n",
            " 11%|█         | 6/54 [00:01<00:09,  5.25it/s]\u001b[A\n",
            " 13%|█▎        | 7/54 [00:01<00:08,  5.38it/s]\u001b[A\n",
            " 15%|█▍        | 8/54 [00:01<00:08,  5.31it/s]\u001b[A\n",
            " 17%|█▋        | 9/54 [00:01<00:08,  5.59it/s]\u001b[A\n",
            " 19%|█▊        | 10/54 [00:01<00:08,  5.19it/s]\u001b[A\n",
            " 20%|██        | 11/54 [00:02<00:08,  4.79it/s]\u001b[A\n",
            " 22%|██▏       | 12/54 [00:02<00:08,  4.93it/s]\u001b[A\n",
            " 24%|██▍       | 13/54 [00:02<00:08,  4.83it/s]\u001b[A\n",
            " 26%|██▌       | 14/54 [00:02<00:07,  5.11it/s]\u001b[A\n",
            " 28%|██▊       | 15/54 [00:02<00:07,  4.88it/s]\u001b[A\n",
            " 30%|██▉       | 16/54 [00:03<00:07,  4.90it/s]\u001b[A\n",
            " 31%|███▏      | 17/54 [00:03<00:08,  4.54it/s]\u001b[A\n",
            " 33%|███▎      | 18/54 [00:03<00:07,  4.93it/s]\u001b[A\n",
            " 35%|███▌      | 19/54 [00:03<00:07,  4.89it/s]\u001b[A\n",
            " 37%|███▋      | 20/54 [00:03<00:06,  4.88it/s]\u001b[A\n",
            " 39%|███▉      | 21/54 [00:04<00:06,  5.21it/s]\u001b[A\n",
            " 41%|████      | 22/54 [00:04<00:06,  4.62it/s]\u001b[A\n",
            " 43%|████▎     | 23/54 [00:04<00:06,  4.91it/s]\u001b[A\n",
            " 44%|████▍     | 24/54 [00:04<00:06,  4.90it/s]\u001b[A\n",
            " 46%|████▋     | 25/54 [00:04<00:05,  5.02it/s]\u001b[A\n",
            " 48%|████▊     | 26/54 [00:05<00:05,  4.98it/s]\u001b[A\n",
            " 50%|█████     | 27/54 [00:05<00:05,  4.97it/s]\u001b[A\n",
            " 52%|█████▏    | 28/54 [00:05<00:05,  5.00it/s]\u001b[A\n",
            " 54%|█████▎    | 29/54 [00:05<00:05,  4.90it/s]\u001b[A\n",
            " 56%|█████▌    | 30/54 [00:05<00:04,  5.31it/s]\u001b[A\n",
            " 57%|█████▋    | 31/54 [00:06<00:04,  4.97it/s]\u001b[A\n",
            " 59%|█████▉    | 32/54 [00:06<00:04,  4.75it/s]\u001b[A\n",
            " 61%|██████    | 33/54 [00:06<00:04,  4.48it/s]\u001b[A\n",
            " 63%|██████▎   | 34/54 [00:06<00:04,  4.41it/s]\u001b[A\n",
            " 65%|██████▍   | 35/54 [00:07<00:03,  4.78it/s]\u001b[A\n",
            " 67%|██████▋   | 36/54 [00:07<00:03,  5.19it/s]\u001b[A\n",
            " 69%|██████▊   | 37/54 [00:07<00:03,  4.96it/s]\u001b[A\n",
            " 70%|███████   | 38/54 [00:07<00:03,  4.91it/s]\u001b[A\n",
            " 72%|███████▏  | 39/54 [00:07<00:03,  4.50it/s]\u001b[A\n",
            " 74%|███████▍  | 40/54 [00:08<00:03,  4.43it/s]\u001b[A\n",
            " 76%|███████▌  | 41/54 [00:08<00:03,  4.28it/s]\u001b[A\n",
            " 78%|███████▊  | 42/54 [00:08<00:02,  4.03it/s]\u001b[A\n",
            " 80%|███████▉  | 43/54 [00:08<00:02,  4.45it/s]\u001b[A\n",
            " 81%|████████▏ | 44/54 [00:09<00:02,  4.49it/s]\u001b[A\n",
            " 83%|████████▎ | 45/54 [00:09<00:02,  4.36it/s]\u001b[A\n",
            " 85%|████████▌ | 46/54 [00:09<00:01,  4.67it/s]\u001b[A\n",
            " 87%|████████▋ | 47/54 [00:09<00:01,  4.57it/s]\u001b[A\n",
            " 89%|████████▉ | 48/54 [00:09<00:01,  4.78it/s]\u001b[A\n",
            " 91%|█████████ | 49/54 [00:10<00:00,  5.02it/s]\u001b[A\n",
            " 93%|█████████▎| 50/54 [00:10<00:00,  4.99it/s]\u001b[A\n",
            " 94%|█████████▍| 51/54 [00:10<00:00,  4.57it/s]\u001b[A\n",
            " 96%|█████████▋| 52/54 [00:10<00:00,  4.75it/s]\u001b[A\n",
            " 98%|█████████▊| 53/54 [00:10<00:00,  4.35it/s]\u001b[A\n",
            "100%|██████████| 54/54 [00:11<00:00,  4.82it/s]\n",
            "\n",
            "  0%|          | 0/54 [00:00<?, ?it/s]\u001b[A"
          ],
          "name": "stderr"
        },
        {
          "output_type": "stream",
          "text": [
            "{'ner': 114.61039687109145}\n"
          ],
          "name": "stdout"
        },
        {
          "output_type": "stream",
          "text": [
            "\n",
            "  2%|▏         | 1/54 [00:00<00:13,  3.82it/s]\u001b[A\n",
            "  4%|▎         | 2/54 [00:00<00:12,  4.22it/s]\u001b[A\n",
            "  6%|▌         | 3/54 [00:00<00:12,  3.94it/s]\u001b[A\n",
            "  7%|▋         | 4/54 [00:00<00:12,  4.15it/s]\u001b[A\n",
            "  9%|▉         | 5/54 [00:01<00:11,  4.30it/s]\u001b[A\n",
            " 11%|█         | 6/54 [00:01<00:10,  4.57it/s]\u001b[A\n",
            " 13%|█▎        | 7/54 [00:01<00:09,  4.72it/s]\u001b[A\n",
            " 15%|█▍        | 8/54 [00:01<00:10,  4.56it/s]\u001b[A\n",
            " 17%|█▋        | 9/54 [00:02<00:10,  4.47it/s]\u001b[A\n",
            " 19%|█▊        | 10/54 [00:02<00:09,  4.70it/s]\u001b[A\n",
            " 20%|██        | 11/54 [00:02<00:09,  4.59it/s]\u001b[A\n",
            " 22%|██▏       | 12/54 [00:02<00:08,  4.97it/s]\u001b[A\n",
            " 24%|██▍       | 13/54 [00:02<00:08,  4.62it/s]\u001b[A\n",
            " 26%|██▌       | 14/54 [00:03<00:08,  4.82it/s]\u001b[A\n",
            " 28%|██▊       | 15/54 [00:03<00:08,  4.83it/s]\u001b[A\n",
            " 30%|██▉       | 16/54 [00:03<00:07,  4.96it/s]\u001b[A\n",
            " 31%|███▏      | 17/54 [00:03<00:07,  5.16it/s]\u001b[A\n",
            " 33%|███▎      | 18/54 [00:03<00:06,  5.19it/s]\u001b[A\n",
            " 35%|███▌      | 19/54 [00:04<00:07,  4.91it/s]\u001b[A\n",
            " 37%|███▋      | 20/54 [00:04<00:06,  5.02it/s]\u001b[A\n",
            " 39%|███▉      | 21/54 [00:04<00:06,  5.18it/s]\u001b[A\n",
            " 41%|████      | 22/54 [00:04<00:05,  5.43it/s]\u001b[A\n",
            " 43%|████▎     | 23/54 [00:04<00:05,  5.34it/s]\u001b[A\n",
            " 44%|████▍     | 24/54 [00:04<00:05,  5.27it/s]\u001b[A\n",
            " 46%|████▋     | 25/54 [00:05<00:05,  5.18it/s]\u001b[A\n",
            " 48%|████▊     | 26/54 [00:05<00:05,  5.40it/s]\u001b[A\n",
            " 50%|█████     | 27/54 [00:05<00:05,  5.18it/s]\u001b[A\n",
            " 52%|█████▏    | 28/54 [00:05<00:04,  5.49it/s]\u001b[A\n",
            " 54%|█████▎    | 29/54 [00:05<00:04,  5.72it/s]\u001b[A\n",
            " 56%|█████▌    | 30/54 [00:06<00:04,  5.46it/s]\u001b[A\n",
            " 57%|█████▋    | 31/54 [00:06<00:03,  5.76it/s]\u001b[A\n",
            " 59%|█████▉    | 32/54 [00:06<00:03,  5.99it/s]\u001b[A\n",
            " 61%|██████    | 33/54 [00:06<00:03,  5.56it/s]\u001b[A\n",
            " 63%|██████▎   | 34/54 [00:06<00:04,  4.79it/s]\u001b[A\n",
            " 65%|██████▍   | 35/54 [00:07<00:04,  4.59it/s]\u001b[A\n",
            " 67%|██████▋   | 36/54 [00:07<00:03,  5.08it/s]\u001b[A\n",
            " 69%|██████▊   | 37/54 [00:07<00:03,  4.66it/s]\u001b[A\n",
            " 70%|███████   | 38/54 [00:07<00:03,  4.54it/s]\u001b[A\n",
            " 72%|███████▏  | 39/54 [00:07<00:03,  4.32it/s]\u001b[A\n",
            " 74%|███████▍  | 40/54 [00:08<00:02,  4.74it/s]\u001b[A\n",
            " 76%|███████▌  | 41/54 [00:08<00:02,  4.51it/s]\u001b[A\n",
            " 78%|███████▊  | 42/54 [00:08<00:02,  4.96it/s]\u001b[A\n",
            " 80%|███████▉  | 43/54 [00:08<00:02,  4.55it/s]\u001b[A\n",
            " 81%|████████▏ | 44/54 [00:08<00:02,  4.63it/s]\u001b[A\n",
            " 83%|████████▎ | 45/54 [00:09<00:01,  4.83it/s]\u001b[A\n",
            " 85%|████████▌ | 46/54 [00:09<00:01,  4.56it/s]\u001b[A\n",
            " 87%|████████▋ | 47/54 [00:09<00:01,  4.51it/s]\u001b[A\n",
            " 89%|████████▉ | 48/54 [00:09<00:01,  4.76it/s]\u001b[A\n",
            " 91%|█████████ | 49/54 [00:10<00:01,  4.95it/s]\u001b[A\n",
            " 93%|█████████▎| 50/54 [00:10<00:00,  4.78it/s]\u001b[A\n",
            " 94%|█████████▍| 51/54 [00:10<00:00,  5.00it/s]\u001b[A\n",
            " 96%|█████████▋| 52/54 [00:10<00:00,  5.40it/s]\u001b[A\n",
            " 98%|█████████▊| 53/54 [00:10<00:00,  5.16it/s]\u001b[A\n",
            "100%|██████████| 54/54 [00:10<00:00,  4.91it/s]\n",
            "\n",
            "  0%|          | 0/54 [00:00<?, ?it/s]\u001b[A"
          ],
          "name": "stderr"
        },
        {
          "output_type": "stream",
          "text": [
            "{'ner': 74.87141051973398}\n"
          ],
          "name": "stdout"
        },
        {
          "output_type": "stream",
          "text": [
            "\n",
            "  2%|▏         | 1/54 [00:00<00:12,  4.24it/s]\u001b[A\n",
            "  4%|▎         | 2/54 [00:00<00:11,  4.59it/s]\u001b[A\n",
            "  6%|▌         | 3/54 [00:00<00:10,  4.96it/s]\u001b[A\n",
            "  7%|▋         | 4/54 [00:00<00:09,  5.41it/s]\u001b[A\n",
            "  9%|▉         | 5/54 [00:00<00:09,  5.11it/s]\u001b[A\n",
            " 11%|█         | 6/54 [00:01<00:10,  4.78it/s]\u001b[A\n",
            " 13%|█▎        | 7/54 [00:01<00:09,  4.74it/s]\u001b[A\n",
            " 15%|█▍        | 8/54 [00:01<00:08,  5.12it/s]\u001b[A\n",
            " 17%|█▋        | 9/54 [00:01<00:09,  4.99it/s]\u001b[A\n",
            " 19%|█▊        | 10/54 [00:01<00:09,  4.83it/s]\u001b[A\n",
            " 20%|██        | 11/54 [00:02<00:08,  4.97it/s]\u001b[A\n",
            " 22%|██▏       | 12/54 [00:02<00:09,  4.62it/s]\u001b[A\n",
            " 24%|██▍       | 13/54 [00:02<00:08,  5.05it/s]\u001b[A\n",
            " 26%|██▌       | 14/54 [00:02<00:08,  4.73it/s]\u001b[A\n",
            " 28%|██▊       | 15/54 [00:03<00:07,  4.92it/s]\u001b[A\n",
            " 30%|██▉       | 16/54 [00:03<00:07,  5.20it/s]\u001b[A\n",
            " 31%|███▏      | 17/54 [00:03<00:06,  5.44it/s]\u001b[A\n",
            " 33%|███▎      | 18/54 [00:03<00:07,  5.10it/s]\u001b[A\n",
            " 35%|███▌      | 19/54 [00:03<00:06,  5.31it/s]\u001b[A\n",
            " 37%|███▋      | 20/54 [00:03<00:06,  5.29it/s]\u001b[A\n",
            " 39%|███▉      | 21/54 [00:04<00:06,  5.01it/s]\u001b[A\n",
            " 41%|████      | 22/54 [00:04<00:06,  5.29it/s]\u001b[A\n",
            " 43%|████▎     | 23/54 [00:04<00:05,  5.21it/s]\u001b[A\n",
            " 44%|████▍     | 24/54 [00:04<00:05,  5.31it/s]\u001b[A\n",
            " 46%|████▋     | 25/54 [00:04<00:05,  5.11it/s]\u001b[A\n",
            " 48%|████▊     | 26/54 [00:05<00:05,  5.08it/s]\u001b[A\n",
            " 50%|█████     | 27/54 [00:05<00:05,  4.94it/s]\u001b[A\n",
            " 52%|█████▏    | 28/54 [00:05<00:05,  4.98it/s]\u001b[A\n",
            " 54%|█████▎    | 29/54 [00:05<00:05,  4.82it/s]\u001b[A\n",
            " 56%|█████▌    | 30/54 [00:06<00:05,  4.44it/s]\u001b[A\n",
            " 57%|█████▋    | 31/54 [00:06<00:05,  4.43it/s]\u001b[A\n",
            " 59%|█████▉    | 32/54 [00:06<00:04,  4.59it/s]\u001b[A\n",
            " 61%|██████    | 33/54 [00:06<00:04,  4.74it/s]\u001b[A\n",
            " 63%|██████▎   | 34/54 [00:06<00:04,  4.43it/s]\u001b[A\n",
            " 65%|██████▍   | 35/54 [00:07<00:03,  4.90it/s]\u001b[A\n",
            " 67%|██████▋   | 36/54 [00:07<00:03,  4.76it/s]\u001b[A\n",
            " 69%|██████▊   | 37/54 [00:07<00:03,  4.77it/s]\u001b[A\n",
            " 70%|███████   | 38/54 [00:07<00:03,  4.49it/s]\u001b[A\n",
            " 72%|███████▏  | 39/54 [00:07<00:03,  4.41it/s]\u001b[A\n",
            " 74%|███████▍  | 40/54 [00:08<00:03,  4.22it/s]\u001b[A\n",
            " 76%|███████▌  | 41/54 [00:08<00:03,  4.15it/s]\u001b[A\n",
            " 78%|███████▊  | 42/54 [00:08<00:02,  4.36it/s]\u001b[A\n",
            " 80%|███████▉  | 43/54 [00:08<00:02,  4.25it/s]\u001b[A\n",
            " 81%|████████▏ | 44/54 [00:09<00:02,  4.57it/s]\u001b[A\n",
            " 83%|████████▎ | 45/54 [00:09<00:01,  4.58it/s]\u001b[A\n",
            " 85%|████████▌ | 46/54 [00:09<00:01,  4.74it/s]\u001b[A\n",
            " 87%|████████▋ | 47/54 [00:09<00:01,  4.83it/s]\u001b[A\n",
            " 89%|████████▉ | 48/54 [00:09<00:01,  5.10it/s]\u001b[A\n",
            " 91%|█████████ | 49/54 [00:10<00:01,  4.95it/s]\u001b[A\n",
            " 93%|█████████▎| 50/54 [00:10<00:00,  4.98it/s]\u001b[A\n",
            " 94%|█████████▍| 51/54 [00:10<00:00,  5.34it/s]\u001b[A\n",
            " 96%|█████████▋| 52/54 [00:10<00:00,  5.38it/s]\u001b[A\n",
            " 98%|█████████▊| 53/54 [00:10<00:00,  5.12it/s]\u001b[A\n",
            "100%|██████████| 54/54 [00:11<00:00,  4.89it/s]\n",
            "\n",
            "  0%|          | 0/54 [00:00<?, ?it/s]\u001b[A"
          ],
          "name": "stderr"
        },
        {
          "output_type": "stream",
          "text": [
            "{'ner': 68.04300577907523}\n"
          ],
          "name": "stdout"
        },
        {
          "output_type": "stream",
          "text": [
            "\n",
            "  2%|▏         | 1/54 [00:00<00:11,  4.51it/s]\u001b[A\n",
            "  4%|▎         | 2/54 [00:00<00:10,  4.97it/s]\u001b[A\n",
            "  6%|▌         | 3/54 [00:00<00:10,  5.07it/s]\u001b[A\n",
            "  7%|▋         | 4/54 [00:00<00:09,  5.01it/s]\u001b[A\n",
            "  9%|▉         | 5/54 [00:00<00:09,  5.20it/s]\u001b[A\n",
            " 11%|█         | 6/54 [00:01<00:08,  5.54it/s]\u001b[A\n",
            " 13%|█▎        | 7/54 [00:01<00:09,  4.73it/s]\u001b[A\n",
            " 15%|█▍        | 8/54 [00:01<00:09,  4.83it/s]\u001b[A\n",
            " 17%|█▋        | 9/54 [00:01<00:08,  5.23it/s]\u001b[A\n",
            " 19%|█▊        | 10/54 [00:01<00:07,  5.58it/s]\u001b[A\n",
            " 20%|██        | 11/54 [00:02<00:08,  4.97it/s]\u001b[A\n",
            " 22%|██▏       | 12/54 [00:02<00:08,  5.20it/s]\u001b[A\n",
            " 24%|██▍       | 13/54 [00:02<00:08,  4.71it/s]\u001b[A\n",
            " 26%|██▌       | 14/54 [00:02<00:08,  4.51it/s]\u001b[A\n",
            " 28%|██▊       | 15/54 [00:03<00:09,  4.26it/s]\u001b[A\n",
            " 30%|██▉       | 16/54 [00:03<00:08,  4.54it/s]\u001b[A\n",
            " 31%|███▏      | 17/54 [00:03<00:08,  4.47it/s]\u001b[A\n",
            " 33%|███▎      | 18/54 [00:03<00:07,  4.86it/s]\u001b[A\n",
            " 35%|███▌      | 19/54 [00:03<00:07,  4.68it/s]\u001b[A\n",
            " 37%|███▋      | 20/54 [00:04<00:06,  5.09it/s]\u001b[A\n",
            " 39%|███▉      | 21/54 [00:04<00:07,  4.70it/s]\u001b[A\n",
            " 41%|████      | 22/54 [00:04<00:06,  4.64it/s]\u001b[A\n",
            " 43%|████▎     | 23/54 [00:04<00:06,  4.66it/s]\u001b[A\n",
            " 44%|████▍     | 24/54 [00:04<00:06,  4.63it/s]\u001b[A\n",
            " 46%|████▋     | 25/54 [00:05<00:06,  4.78it/s]\u001b[A\n",
            " 48%|████▊     | 26/54 [00:05<00:06,  4.32it/s]\u001b[A\n",
            " 50%|█████     | 27/54 [00:05<00:05,  4.75it/s]\u001b[A\n",
            " 52%|█████▏    | 28/54 [00:05<00:05,  4.69it/s]\u001b[A\n",
            " 54%|█████▎    | 29/54 [00:05<00:04,  5.02it/s]\u001b[A\n",
            " 56%|█████▌    | 30/54 [00:06<00:05,  4.79it/s]\u001b[A\n",
            " 57%|█████▋    | 31/54 [00:06<00:04,  5.07it/s]\u001b[A\n",
            " 59%|█████▉    | 32/54 [00:06<00:04,  4.93it/s]\u001b[A\n",
            " 61%|██████    | 33/54 [00:06<00:04,  4.75it/s]\u001b[A\n",
            " 63%|██████▎   | 34/54 [00:07<00:04,  4.92it/s]\u001b[A\n",
            " 65%|██████▍   | 35/54 [00:07<00:03,  5.26it/s]\u001b[A\n",
            " 67%|██████▋   | 36/54 [00:07<00:03,  4.82it/s]\u001b[A\n",
            " 69%|██████▊   | 37/54 [00:07<00:03,  4.77it/s]\u001b[A\n",
            " 70%|███████   | 38/54 [00:07<00:03,  4.82it/s]\u001b[A\n",
            " 72%|███████▏  | 39/54 [00:08<00:03,  4.63it/s]\u001b[A\n",
            " 74%|███████▍  | 40/54 [00:08<00:03,  4.65it/s]\u001b[A\n",
            " 76%|███████▌  | 41/54 [00:08<00:02,  5.01it/s]\u001b[A\n",
            " 78%|███████▊  | 42/54 [00:08<00:02,  5.00it/s]\u001b[A\n",
            " 80%|███████▉  | 43/54 [00:08<00:02,  4.86it/s]\u001b[A\n",
            " 81%|████████▏ | 44/54 [00:09<00:01,  5.09it/s]\u001b[A\n",
            " 83%|████████▎ | 45/54 [00:09<00:01,  4.90it/s]\u001b[A\n",
            " 85%|████████▌ | 46/54 [00:09<00:01,  4.99it/s]\u001b[A\n",
            " 87%|████████▋ | 47/54 [00:09<00:01,  5.18it/s]\u001b[A\n",
            " 89%|████████▉ | 48/54 [00:09<00:01,  4.94it/s]\u001b[A\n",
            " 91%|█████████ | 49/54 [00:10<00:01,  4.93it/s]\u001b[A\n",
            " 93%|█████████▎| 50/54 [00:10<00:00,  4.95it/s]\u001b[A\n",
            " 94%|█████████▍| 51/54 [00:10<00:00,  4.97it/s]\u001b[A\n",
            " 96%|█████████▋| 52/54 [00:10<00:00,  5.33it/s]\u001b[A\n",
            " 98%|█████████▊| 53/54 [00:10<00:00,  5.43it/s]\u001b[A\n",
            "100%|██████████| 54/54 [00:11<00:00,  4.88it/s]\n",
            "\n",
            "  0%|          | 0/54 [00:00<?, ?it/s]\u001b[A\n",
            "  2%|▏         | 1/54 [00:00<00:08,  6.09it/s]\u001b[A"
          ],
          "name": "stderr"
        },
        {
          "output_type": "stream",
          "text": [
            "{'ner': 62.35808173100833}\n"
          ],
          "name": "stdout"
        },
        {
          "output_type": "stream",
          "text": [
            "\n",
            "  4%|▎         | 2/54 [00:00<00:08,  5.83it/s]\u001b[A\n",
            "  6%|▌         | 3/54 [00:00<00:09,  5.46it/s]\u001b[A\n",
            "  7%|▋         | 4/54 [00:00<00:09,  5.33it/s]\u001b[A\n",
            "  9%|▉         | 5/54 [00:00<00:09,  5.23it/s]\u001b[A\n",
            " 11%|█         | 6/54 [00:01<00:09,  5.04it/s]\u001b[A\n",
            " 13%|█▎        | 7/54 [00:01<00:09,  4.76it/s]\u001b[A\n",
            " 15%|█▍        | 8/54 [00:01<00:09,  5.05it/s]\u001b[A\n",
            " 17%|█▋        | 9/54 [00:01<00:09,  4.93it/s]\u001b[A\n",
            " 19%|█▊        | 10/54 [00:02<00:08,  4.92it/s]\u001b[A\n",
            " 20%|██        | 11/54 [00:02<00:08,  5.17it/s]\u001b[A\n",
            " 22%|██▏       | 12/54 [00:02<00:08,  4.98it/s]\u001b[A\n",
            " 24%|██▍       | 13/54 [00:02<00:08,  4.90it/s]\u001b[A\n",
            " 26%|██▌       | 14/54 [00:02<00:07,  5.21it/s]\u001b[A\n",
            " 28%|██▊       | 15/54 [00:02<00:07,  5.06it/s]\u001b[A\n",
            " 30%|██▉       | 16/54 [00:03<00:07,  4.86it/s]\u001b[A\n",
            " 31%|███▏      | 17/54 [00:03<00:07,  4.91it/s]\u001b[A\n",
            " 33%|███▎      | 18/54 [00:03<00:07,  5.06it/s]\u001b[A\n",
            " 35%|███▌      | 19/54 [00:03<00:07,  4.50it/s]\u001b[A\n",
            " 37%|███▋      | 20/54 [00:04<00:07,  4.83it/s]\u001b[A\n",
            " 39%|███▉      | 21/54 [00:04<00:06,  4.80it/s]\u001b[A\n",
            " 41%|████      | 22/54 [00:04<00:06,  5.10it/s]\u001b[A\n",
            " 43%|████▎     | 23/54 [00:04<00:06,  4.72it/s]\u001b[A\n",
            " 44%|████▍     | 24/54 [00:04<00:06,  4.82it/s]\u001b[A\n",
            " 46%|████▋     | 25/54 [00:05<00:06,  4.81it/s]\u001b[A\n",
            " 48%|████▊     | 26/54 [00:05<00:06,  4.56it/s]\u001b[A\n",
            " 50%|█████     | 27/54 [00:05<00:06,  4.39it/s]\u001b[A\n",
            " 52%|█████▏    | 28/54 [00:05<00:06,  4.21it/s]\u001b[A\n",
            " 54%|█████▎    | 29/54 [00:06<00:05,  4.29it/s]\u001b[A\n",
            " 56%|█████▌    | 30/54 [00:06<00:05,  4.20it/s]\u001b[A\n",
            " 57%|█████▋    | 31/54 [00:06<00:05,  4.09it/s]\u001b[A\n",
            " 59%|█████▉    | 32/54 [00:06<00:05,  3.69it/s]\u001b[A\n",
            " 61%|██████    | 33/54 [00:07<00:05,  3.99it/s]\u001b[A\n",
            " 63%|██████▎   | 34/54 [00:07<00:04,  4.50it/s]\u001b[A\n",
            " 65%|██████▍   | 35/54 [00:07<00:04,  4.50it/s]\u001b[A\n",
            " 67%|██████▋   | 36/54 [00:07<00:03,  4.53it/s]\u001b[A\n",
            " 69%|██████▊   | 37/54 [00:07<00:03,  4.44it/s]\u001b[A\n",
            " 70%|███████   | 38/54 [00:08<00:03,  4.30it/s]\u001b[A\n",
            " 72%|███████▏  | 39/54 [00:08<00:03,  4.64it/s]\u001b[A\n",
            " 74%|███████▍  | 40/54 [00:08<00:03,  4.43it/s]\u001b[A\n",
            " 76%|███████▌  | 41/54 [00:08<00:03,  4.21it/s]\u001b[A\n",
            " 78%|███████▊  | 42/54 [00:09<00:02,  4.06it/s]\u001b[A\n",
            " 80%|███████▉  | 43/54 [00:09<00:02,  4.60it/s]\u001b[A\n",
            " 81%|████████▏ | 44/54 [00:09<00:02,  4.91it/s]\u001b[A\n",
            " 83%|████████▎ | 45/54 [00:09<00:01,  4.98it/s]\u001b[A\n",
            " 85%|████████▌ | 46/54 [00:09<00:01,  5.09it/s]\u001b[A\n",
            " 87%|████████▋ | 47/54 [00:10<00:01,  5.09it/s]\u001b[A\n",
            " 89%|████████▉ | 48/54 [00:10<00:01,  5.13it/s]\u001b[A\n",
            " 91%|█████████ | 49/54 [00:10<00:01,  4.87it/s]\u001b[A\n",
            " 93%|█████████▎| 50/54 [00:10<00:00,  5.25it/s]\u001b[A\n",
            " 94%|█████████▍| 51/54 [00:10<00:00,  5.35it/s]\u001b[A\n",
            " 96%|█████████▋| 52/54 [00:10<00:00,  5.60it/s]\u001b[A\n",
            " 98%|█████████▊| 53/54 [00:11<00:00,  5.18it/s]\u001b[A\n",
            "100%|██████████| 54/54 [00:11<00:00,  4.75it/s]\n",
            "\n",
            "  0%|          | 0/54 [00:00<?, ?it/s]\u001b[A"
          ],
          "name": "stderr"
        },
        {
          "output_type": "stream",
          "text": [
            "{'ner': 76.17085982859479}\n"
          ],
          "name": "stdout"
        },
        {
          "output_type": "stream",
          "text": [
            "\n",
            "  2%|▏         | 1/54 [00:00<00:11,  4.63it/s]\u001b[A\n",
            "  4%|▎         | 2/54 [00:00<00:10,  5.12it/s]\u001b[A\n",
            "  6%|▌         | 3/54 [00:00<00:10,  5.04it/s]\u001b[A\n",
            "  7%|▋         | 4/54 [00:00<00:10,  4.68it/s]\u001b[A\n",
            "  9%|▉         | 5/54 [00:01<00:10,  4.72it/s]\u001b[A\n",
            " 11%|█         | 6/54 [00:01<00:10,  4.73it/s]\u001b[A\n",
            " 13%|█▎        | 7/54 [00:01<00:09,  5.21it/s]\u001b[A\n",
            " 15%|█▍        | 8/54 [00:01<00:09,  4.94it/s]\u001b[A\n",
            " 17%|█▋        | 9/54 [00:01<00:08,  5.16it/s]\u001b[A\n",
            " 19%|█▊        | 10/54 [00:01<00:08,  5.42it/s]\u001b[A\n",
            " 20%|██        | 11/54 [00:02<00:08,  5.17it/s]\u001b[A\n",
            " 22%|██▏       | 12/54 [00:02<00:08,  4.98it/s]\u001b[A\n",
            " 24%|██▍       | 13/54 [00:02<00:08,  4.81it/s]\u001b[A\n",
            " 26%|██▌       | 14/54 [00:02<00:08,  4.80it/s]\u001b[A\n",
            " 28%|██▊       | 15/54 [00:03<00:08,  4.75it/s]\u001b[A\n",
            " 30%|██▉       | 16/54 [00:03<00:08,  4.45it/s]\u001b[A\n",
            " 31%|███▏      | 17/54 [00:03<00:08,  4.57it/s]\u001b[A\n",
            " 33%|███▎      | 18/54 [00:03<00:07,  4.88it/s]\u001b[A\n",
            " 35%|███▌      | 19/54 [00:03<00:07,  4.59it/s]\u001b[A\n",
            " 37%|███▋      | 20/54 [00:04<00:07,  4.40it/s]\u001b[A\n",
            " 39%|███▉      | 21/54 [00:04<00:06,  4.86it/s]\u001b[A\n",
            " 41%|████      | 22/54 [00:04<00:06,  4.99it/s]\u001b[A\n",
            " 43%|████▎     | 23/54 [00:04<00:06,  4.61it/s]\u001b[A\n",
            " 44%|████▍     | 24/54 [00:04<00:06,  4.86it/s]\u001b[A\n",
            " 46%|████▋     | 25/54 [00:05<00:05,  5.09it/s]\u001b[A\n",
            " 48%|████▊     | 26/54 [00:05<00:05,  4.84it/s]\u001b[A\n",
            " 50%|█████     | 27/54 [00:05<00:05,  4.86it/s]\u001b[A\n",
            " 52%|█████▏    | 28/54 [00:05<00:05,  4.75it/s]\u001b[A\n",
            " 54%|█████▎    | 29/54 [00:05<00:04,  5.10it/s]\u001b[A\n",
            " 56%|█████▌    | 30/54 [00:06<00:05,  4.57it/s]\u001b[A\n",
            " 57%|█████▋    | 31/54 [00:06<00:05,  4.50it/s]\u001b[A\n",
            " 59%|█████▉    | 32/54 [00:06<00:04,  4.90it/s]\u001b[A\n",
            " 61%|██████    | 33/54 [00:06<00:04,  4.82it/s]\u001b[A\n",
            " 63%|██████▎   | 34/54 [00:07<00:04,  4.94it/s]\u001b[A\n",
            " 65%|██████▍   | 35/54 [00:07<00:03,  5.22it/s]\u001b[A\n",
            " 67%|██████▋   | 36/54 [00:07<00:03,  4.62it/s]\u001b[A\n",
            " 69%|██████▊   | 37/54 [00:07<00:03,  4.84it/s]\u001b[A\n",
            " 70%|███████   | 38/54 [00:07<00:03,  4.90it/s]\u001b[A\n",
            " 72%|███████▏  | 39/54 [00:07<00:02,  5.31it/s]\u001b[A\n",
            " 74%|███████▍  | 40/54 [00:08<00:02,  4.78it/s]\u001b[A\n",
            " 76%|███████▌  | 41/54 [00:08<00:02,  5.20it/s]\u001b[A\n",
            " 78%|███████▊  | 42/54 [00:08<00:02,  4.78it/s]\u001b[A\n",
            " 80%|███████▉  | 43/54 [00:08<00:02,  4.68it/s]\u001b[A\n",
            " 81%|████████▏ | 44/54 [00:09<00:02,  4.56it/s]\u001b[A\n",
            " 83%|████████▎ | 45/54 [00:09<00:01,  4.83it/s]\u001b[A\n",
            " 85%|████████▌ | 46/54 [00:09<00:01,  4.79it/s]\u001b[A\n",
            " 87%|████████▋ | 47/54 [00:09<00:01,  4.87it/s]\u001b[A\n",
            " 89%|████████▉ | 48/54 [00:09<00:01,  4.55it/s]\u001b[A\n",
            " 91%|█████████ | 49/54 [00:10<00:01,  4.46it/s]\u001b[A\n",
            " 93%|█████████▎| 50/54 [00:10<00:00,  4.51it/s]\u001b[A\n",
            " 94%|█████████▍| 51/54 [00:10<00:00,  4.98it/s]\u001b[A\n",
            " 96%|█████████▋| 52/54 [00:10<00:00,  4.90it/s]\u001b[A\n",
            " 98%|█████████▊| 53/54 [00:10<00:00,  5.09it/s]\u001b[A\n",
            "100%|██████████| 54/54 [00:11<00:00,  4.82it/s]\n",
            "\n",
            "  0%|          | 0/54 [00:00<?, ?it/s]\u001b[A\n",
            "  2%|▏         | 1/54 [00:00<00:08,  6.25it/s]\u001b[A"
          ],
          "name": "stderr"
        },
        {
          "output_type": "stream",
          "text": [
            "{'ner': 109.16056379931459}\n"
          ],
          "name": "stdout"
        },
        {
          "output_type": "stream",
          "text": [
            "\n",
            "  4%|▎         | 2/54 [00:00<00:09,  5.64it/s]\u001b[A\n",
            "  6%|▌         | 3/54 [00:00<00:09,  5.47it/s]\u001b[A\n",
            "  7%|▋         | 4/54 [00:00<00:10,  4.73it/s]\u001b[A\n",
            "  9%|▉         | 5/54 [00:01<00:10,  4.74it/s]\u001b[A\n",
            " 11%|█         | 6/54 [00:01<00:09,  5.19it/s]\u001b[A\n",
            " 13%|█▎        | 7/54 [00:01<00:08,  5.28it/s]\u001b[A\n",
            " 15%|█▍        | 8/54 [00:01<00:08,  5.14it/s]\u001b[A\n",
            " 17%|█▋        | 9/54 [00:01<00:08,  5.05it/s]\u001b[A\n",
            " 19%|█▊        | 10/54 [00:02<00:09,  4.63it/s]\u001b[A\n",
            " 20%|██        | 11/54 [00:02<00:08,  5.03it/s]\u001b[A\n",
            " 22%|██▏       | 12/54 [00:02<00:08,  4.94it/s]\u001b[A\n",
            " 24%|██▍       | 13/54 [00:02<00:09,  4.50it/s]\u001b[A\n",
            " 26%|██▌       | 14/54 [00:02<00:08,  4.71it/s]\u001b[A\n",
            " 28%|██▊       | 15/54 [00:03<00:07,  5.05it/s]\u001b[A\n",
            " 30%|██▉       | 16/54 [00:03<00:08,  4.68it/s]\u001b[A\n",
            " 31%|███▏      | 17/54 [00:03<00:08,  4.28it/s]\u001b[A\n",
            " 33%|███▎      | 18/54 [00:03<00:08,  4.44it/s]\u001b[A\n",
            " 35%|███▌      | 19/54 [00:04<00:08,  4.32it/s]\u001b[A\n",
            " 37%|███▋      | 20/54 [00:04<00:07,  4.36it/s]\u001b[A\n",
            " 39%|███▉      | 21/54 [00:04<00:06,  4.79it/s]\u001b[A\n",
            " 41%|████      | 22/54 [00:04<00:07,  4.41it/s]\u001b[A\n",
            " 43%|████▎     | 23/54 [00:04<00:06,  4.55it/s]\u001b[A\n",
            " 44%|████▍     | 24/54 [00:05<00:06,  4.49it/s]\u001b[A\n",
            " 46%|████▋     | 25/54 [00:05<00:06,  4.37it/s]\u001b[A\n",
            " 48%|████▊     | 26/54 [00:05<00:06,  4.33it/s]\u001b[A\n",
            " 50%|█████     | 27/54 [00:05<00:06,  4.48it/s]\u001b[A\n",
            " 52%|█████▏    | 28/54 [00:06<00:05,  4.57it/s]\u001b[A\n",
            " 54%|█████▎    | 29/54 [00:06<00:05,  4.95it/s]\u001b[A\n",
            " 56%|█████▌    | 30/54 [00:06<00:05,  4.65it/s]\u001b[A\n",
            " 57%|█████▋    | 31/54 [00:06<00:04,  5.02it/s]\u001b[A\n",
            " 59%|█████▉    | 32/54 [00:06<00:04,  4.82it/s]\u001b[A\n",
            " 61%|██████    | 33/54 [00:06<00:04,  5.14it/s]\u001b[A\n",
            " 63%|██████▎   | 34/54 [00:07<00:03,  5.38it/s]\u001b[A\n",
            " 65%|██████▍   | 35/54 [00:07<00:03,  5.01it/s]\u001b[A\n",
            " 67%|██████▋   | 36/54 [00:07<00:03,  5.18it/s]\u001b[A\n",
            " 69%|██████▊   | 37/54 [00:07<00:03,  5.02it/s]\u001b[A\n",
            " 70%|███████   | 38/54 [00:08<00:03,  4.70it/s]\u001b[A\n",
            " 72%|███████▏  | 39/54 [00:08<00:03,  4.75it/s]\u001b[A\n",
            " 74%|███████▍  | 40/54 [00:08<00:02,  5.06it/s]\u001b[A\n",
            " 76%|███████▌  | 41/54 [00:08<00:02,  5.15it/s]\u001b[A\n",
            " 78%|███████▊  | 42/54 [00:08<00:02,  4.96it/s]\u001b[A\n",
            " 80%|███████▉  | 43/54 [00:08<00:02,  5.41it/s]\u001b[A\n",
            " 81%|████████▏ | 44/54 [00:09<00:01,  5.30it/s]\u001b[A\n",
            " 83%|████████▎ | 45/54 [00:09<00:01,  4.91it/s]\u001b[A\n",
            " 85%|████████▌ | 46/54 [00:09<00:01,  5.03it/s]\u001b[A\n",
            " 87%|████████▋ | 47/54 [00:09<00:01,  5.24it/s]\u001b[A\n",
            " 89%|████████▉ | 48/54 [00:09<00:01,  4.80it/s]\u001b[A\n",
            " 91%|█████████ | 49/54 [00:10<00:01,  4.47it/s]\u001b[A\n",
            " 93%|█████████▎| 50/54 [00:10<00:00,  4.66it/s]\u001b[A\n",
            " 94%|█████████▍| 51/54 [00:10<00:00,  4.92it/s]\u001b[A\n",
            " 96%|█████████▋| 52/54 [00:10<00:00,  4.96it/s]\u001b[A\n",
            " 98%|█████████▊| 53/54 [00:11<00:00,  4.70it/s]\u001b[A\n",
            "100%|██████████| 54/54 [00:11<00:00,  4.78it/s]\n",
            "\n",
            "  0%|          | 0/54 [00:00<?, ?it/s]\u001b[A"
          ],
          "name": "stderr"
        },
        {
          "output_type": "stream",
          "text": [
            "{'ner': 111.12459948561623}\n"
          ],
          "name": "stdout"
        },
        {
          "output_type": "stream",
          "text": [
            "\n",
            "  2%|▏         | 1/54 [00:00<00:11,  4.73it/s]\u001b[A\n",
            "  4%|▎         | 2/54 [00:00<00:11,  4.49it/s]\u001b[A\n",
            "  6%|▌         | 3/54 [00:00<00:11,  4.37it/s]\u001b[A\n",
            "  7%|▋         | 4/54 [00:00<00:10,  4.63it/s]\u001b[A\n",
            "  9%|▉         | 5/54 [00:01<00:11,  4.38it/s]\u001b[A\n",
            " 11%|█         | 6/54 [00:01<00:11,  4.14it/s]\u001b[A\n",
            " 13%|█▎        | 7/54 [00:01<00:10,  4.47it/s]\u001b[A\n",
            " 15%|█▍        | 8/54 [00:01<00:09,  4.79it/s]\u001b[A\n",
            " 17%|█▋        | 9/54 [00:01<00:08,  5.10it/s]\u001b[A\n",
            " 19%|█▊        | 10/54 [00:02<00:08,  5.16it/s]\u001b[A\n",
            " 20%|██        | 11/54 [00:02<00:07,  5.39it/s]\u001b[A\n",
            " 22%|██▏       | 12/54 [00:02<00:08,  5.23it/s]\u001b[A\n",
            " 24%|██▍       | 13/54 [00:02<00:08,  5.03it/s]\u001b[A\n",
            " 26%|██▌       | 14/54 [00:02<00:07,  5.33it/s]\u001b[A\n",
            " 28%|██▊       | 15/54 [00:03<00:07,  4.93it/s]\u001b[A\n",
            " 30%|██▉       | 16/54 [00:03<00:07,  4.93it/s]\u001b[A\n",
            " 31%|███▏      | 17/54 [00:03<00:07,  4.77it/s]\u001b[A\n",
            " 33%|███▎      | 18/54 [00:03<00:07,  4.73it/s]\u001b[A\n",
            " 35%|███▌      | 19/54 [00:04<00:07,  4.48it/s]\u001b[A\n",
            " 37%|███▋      | 20/54 [00:04<00:07,  4.43it/s]\u001b[A\n",
            " 39%|███▉      | 21/54 [00:04<00:07,  4.36it/s]\u001b[A\n",
            " 41%|████      | 22/54 [00:04<00:06,  4.78it/s]\u001b[A\n",
            " 43%|████▎     | 23/54 [00:04<00:06,  4.95it/s]\u001b[A\n",
            " 44%|████▍     | 24/54 [00:05<00:06,  4.41it/s]\u001b[A\n",
            " 46%|████▋     | 25/54 [00:05<00:06,  4.26it/s]\u001b[A\n",
            " 48%|████▊     | 26/54 [00:05<00:06,  4.53it/s]\u001b[A\n",
            " 50%|█████     | 27/54 [00:05<00:05,  4.81it/s]\u001b[A\n",
            " 52%|█████▏    | 28/54 [00:05<00:05,  4.92it/s]\u001b[A\n",
            " 54%|█████▎    | 29/54 [00:06<00:05,  4.68it/s]\u001b[A\n",
            " 56%|█████▌    | 30/54 [00:06<00:05,  4.40it/s]\u001b[A\n",
            " 57%|█████▋    | 31/54 [00:06<00:05,  4.13it/s]\u001b[A\n",
            " 59%|█████▉    | 32/54 [00:06<00:04,  4.60it/s]\u001b[A\n",
            " 61%|██████    | 33/54 [00:07<00:04,  4.65it/s]\u001b[A\n",
            " 63%|██████▎   | 34/54 [00:07<00:04,  4.96it/s]\u001b[A\n",
            " 65%|██████▍   | 35/54 [00:07<00:04,  4.54it/s]\u001b[A\n",
            " 67%|██████▋   | 36/54 [00:07<00:04,  4.49it/s]\u001b[A\n",
            " 69%|██████▊   | 37/54 [00:07<00:03,  4.59it/s]\u001b[A\n",
            " 70%|███████   | 38/54 [00:08<00:03,  4.99it/s]\u001b[A\n",
            " 72%|███████▏  | 39/54 [00:08<00:03,  4.97it/s]\u001b[A\n",
            " 74%|███████▍  | 40/54 [00:08<00:02,  5.28it/s]\u001b[A\n",
            " 76%|███████▌  | 41/54 [00:08<00:02,  4.84it/s]\u001b[A\n",
            " 78%|███████▊  | 42/54 [00:08<00:02,  4.82it/s]\u001b[A\n",
            " 80%|███████▉  | 43/54 [00:09<00:02,  4.94it/s]\u001b[A\n",
            " 81%|████████▏ | 44/54 [00:09<00:02,  4.76it/s]\u001b[A\n",
            " 83%|████████▎ | 45/54 [00:09<00:01,  4.63it/s]\u001b[A\n",
            " 85%|████████▌ | 46/54 [00:09<00:01,  4.53it/s]\u001b[A\n",
            " 87%|████████▋ | 47/54 [00:10<00:01,  4.24it/s]\u001b[A\n",
            " 89%|████████▉ | 48/54 [00:10<00:01,  4.50it/s]\u001b[A\n",
            " 91%|█████████ | 49/54 [00:10<00:01,  4.78it/s]\u001b[A\n",
            " 93%|█████████▎| 50/54 [00:10<00:00,  5.20it/s]\u001b[A\n",
            " 94%|█████████▍| 51/54 [00:10<00:00,  5.38it/s]\u001b[A\n",
            " 96%|█████████▋| 52/54 [00:10<00:00,  5.47it/s]\u001b[A\n",
            " 98%|█████████▊| 53/54 [00:11<00:00,  5.19it/s]\u001b[A\n",
            "100%|██████████| 54/54 [00:11<00:00,  4.75it/s]\n",
            "\n",
            "  0%|          | 0/54 [00:00<?, ?it/s]\u001b[A\n",
            "  2%|▏         | 1/54 [00:00<00:09,  5.74it/s]\u001b[A"
          ],
          "name": "stderr"
        },
        {
          "output_type": "stream",
          "text": [
            "{'ner': 56.85043191567455}\n"
          ],
          "name": "stdout"
        },
        {
          "output_type": "stream",
          "text": [
            "\n",
            "  4%|▎         | 2/54 [00:00<00:10,  4.89it/s]\u001b[A\n",
            "  6%|▌         | 3/54 [00:00<00:10,  4.96it/s]\u001b[A\n",
            "  7%|▋         | 4/54 [00:00<00:10,  4.89it/s]\u001b[A\n",
            "  9%|▉         | 5/54 [00:01<00:09,  5.24it/s]\u001b[A\n",
            " 11%|█         | 6/54 [00:01<00:10,  4.65it/s]\u001b[A\n",
            " 13%|█▎        | 7/54 [00:01<00:09,  5.11it/s]\u001b[A\n",
            " 15%|█▍        | 8/54 [00:01<00:09,  4.95it/s]\u001b[A\n",
            " 17%|█▋        | 9/54 [00:01<00:08,  5.05it/s]\u001b[A\n",
            " 19%|█▊        | 10/54 [00:02<00:08,  4.91it/s]\u001b[A\n",
            " 20%|██        | 11/54 [00:02<00:08,  5.21it/s]\u001b[A\n",
            " 22%|██▏       | 12/54 [00:02<00:07,  5.52it/s]\u001b[A\n",
            " 24%|██▍       | 13/54 [00:02<00:07,  5.62it/s]\u001b[A\n",
            " 26%|██▌       | 14/54 [00:02<00:07,  5.26it/s]\u001b[A\n",
            " 28%|██▊       | 15/54 [00:03<00:08,  4.64it/s]\u001b[A\n",
            " 30%|██▉       | 16/54 [00:03<00:07,  4.98it/s]\u001b[A\n",
            " 31%|███▏      | 17/54 [00:03<00:07,  4.85it/s]\u001b[A\n",
            " 33%|███▎      | 18/54 [00:03<00:07,  4.52it/s]\u001b[A\n",
            " 35%|███▌      | 19/54 [00:03<00:07,  4.51it/s]\u001b[A\n",
            " 37%|███▋      | 20/54 [00:04<00:07,  4.58it/s]\u001b[A\n",
            " 39%|███▉      | 21/54 [00:04<00:07,  4.34it/s]\u001b[A\n",
            " 41%|████      | 22/54 [00:04<00:07,  4.48it/s]\u001b[A\n",
            " 43%|████▎     | 23/54 [00:04<00:06,  4.81it/s]\u001b[A\n",
            " 44%|████▍     | 24/54 [00:04<00:06,  4.92it/s]\u001b[A\n",
            " 46%|████▋     | 25/54 [00:05<00:05,  4.88it/s]\u001b[A\n",
            " 48%|████▊     | 26/54 [00:05<00:06,  4.58it/s]\u001b[A\n",
            " 50%|█████     | 27/54 [00:05<00:05,  4.69it/s]\u001b[A\n",
            " 52%|█████▏    | 28/54 [00:05<00:05,  4.37it/s]\u001b[A\n",
            " 54%|█████▎    | 29/54 [00:06<00:05,  4.68it/s]\u001b[A\n",
            " 56%|█████▌    | 30/54 [00:06<00:05,  4.72it/s]\u001b[A\n",
            " 57%|█████▋    | 31/54 [00:06<00:05,  4.45it/s]\u001b[A\n",
            " 59%|█████▉    | 32/54 [00:06<00:05,  4.24it/s]\u001b[A\n",
            " 61%|██████    | 33/54 [00:06<00:04,  4.73it/s]\u001b[A\n",
            " 63%|██████▎   | 34/54 [00:07<00:03,  5.16it/s]\u001b[A\n",
            " 65%|██████▍   | 35/54 [00:07<00:03,  5.46it/s]\u001b[A\n",
            " 67%|██████▋   | 36/54 [00:07<00:03,  4.94it/s]\u001b[A\n",
            " 69%|██████▊   | 37/54 [00:07<00:03,  5.11it/s]\u001b[A\n",
            " 70%|███████   | 38/54 [00:07<00:03,  5.20it/s]\u001b[A\n",
            " 72%|███████▏  | 39/54 [00:08<00:02,  5.37it/s]\u001b[A\n",
            " 74%|███████▍  | 40/54 [00:08<00:02,  5.42it/s]\u001b[A\n",
            " 76%|███████▌  | 41/54 [00:08<00:02,  5.13it/s]\u001b[A\n",
            " 78%|███████▊  | 42/54 [00:08<00:02,  4.63it/s]\u001b[A\n",
            " 80%|███████▉  | 43/54 [00:08<00:02,  4.80it/s]\u001b[A\n",
            " 81%|████████▏ | 44/54 [00:09<00:02,  4.54it/s]\u001b[A\n",
            " 83%|████████▎ | 45/54 [00:09<00:01,  4.93it/s]\u001b[A\n",
            " 85%|████████▌ | 46/54 [00:09<00:01,  5.18it/s]\u001b[A\n",
            " 87%|████████▋ | 47/54 [00:09<00:01,  4.84it/s]\u001b[A\n",
            " 89%|████████▉ | 48/54 [00:09<00:01,  4.67it/s]\u001b[A\n",
            " 91%|█████████ | 49/54 [00:10<00:01,  4.54it/s]\u001b[A\n",
            " 93%|█████████▎| 50/54 [00:10<00:00,  4.62it/s]\u001b[A\n",
            " 94%|█████████▍| 51/54 [00:10<00:00,  4.24it/s]\u001b[A\n",
            " 96%|█████████▋| 52/54 [00:10<00:00,  4.71it/s]\u001b[A\n",
            " 98%|█████████▊| 53/54 [00:11<00:00,  4.88it/s]\u001b[A\n",
            "100%|██████████| 54/54 [00:11<00:00,  4.81it/s]\n",
            "\n",
            "  0%|          | 0/54 [00:00<?, ?it/s]\u001b[A"
          ],
          "name": "stderr"
        },
        {
          "output_type": "stream",
          "text": [
            "{'ner': 77.49098432335981}\n"
          ],
          "name": "stdout"
        },
        {
          "output_type": "stream",
          "text": [
            "\n",
            "  2%|▏         | 1/54 [00:00<00:13,  3.85it/s]\u001b[A\n",
            "  4%|▎         | 2/54 [00:00<00:13,  3.97it/s]\u001b[A\n",
            "  6%|▌         | 3/54 [00:00<00:12,  4.15it/s]\u001b[A\n",
            "  7%|▋         | 4/54 [00:00<00:11,  4.42it/s]\u001b[A\n",
            "  9%|▉         | 5/54 [00:01<00:10,  4.80it/s]\u001b[A\n",
            " 11%|█         | 6/54 [00:01<00:10,  4.59it/s]\u001b[A\n",
            " 13%|█▎        | 7/54 [00:01<00:09,  5.00it/s]\u001b[A\n",
            " 15%|█▍        | 8/54 [00:01<00:09,  4.80it/s]\u001b[A\n",
            " 17%|█▋        | 9/54 [00:01<00:09,  4.81it/s]\u001b[A\n",
            " 19%|█▊        | 10/54 [00:02<00:11,  3.71it/s]\u001b[A\n",
            " 20%|██        | 11/54 [00:02<00:10,  4.17it/s]\u001b[A\n",
            " 22%|██▏       | 12/54 [00:02<00:09,  4.61it/s]\u001b[A\n",
            " 24%|██▍       | 13/54 [00:02<00:09,  4.40it/s]\u001b[A\n",
            " 26%|██▌       | 14/54 [00:03<00:09,  4.05it/s]\u001b[A\n",
            " 28%|██▊       | 15/54 [00:03<00:09,  4.21it/s]\u001b[A\n",
            " 30%|██▉       | 16/54 [00:03<00:08,  4.38it/s]\u001b[A\n",
            " 31%|███▏      | 17/54 [00:03<00:07,  4.78it/s]\u001b[A\n",
            " 33%|███▎      | 18/54 [00:03<00:07,  5.07it/s]\u001b[A\n",
            " 35%|███▌      | 19/54 [00:04<00:06,  5.09it/s]\u001b[A\n",
            " 37%|███▋      | 20/54 [00:04<00:07,  4.83it/s]\u001b[A\n",
            " 39%|███▉      | 21/54 [00:04<00:07,  4.54it/s]\u001b[A\n",
            " 41%|████      | 22/54 [00:04<00:06,  4.67it/s]\u001b[A\n",
            " 43%|████▎     | 23/54 [00:05<00:07,  4.27it/s]\u001b[A\n",
            " 44%|████▍     | 24/54 [00:05<00:06,  4.67it/s]\u001b[A\n",
            " 46%|████▋     | 25/54 [00:05<00:06,  4.66it/s]\u001b[A\n",
            " 48%|████▊     | 26/54 [00:05<00:06,  4.32it/s]\u001b[A\n",
            " 50%|█████     | 27/54 [00:06<00:06,  4.14it/s]\u001b[A\n",
            " 52%|█████▏    | 28/54 [00:06<00:06,  4.28it/s]\u001b[A\n",
            " 54%|█████▎    | 29/54 [00:06<00:05,  4.37it/s]\u001b[A\n",
            " 56%|█████▌    | 30/54 [00:06<00:05,  4.48it/s]\u001b[A\n",
            " 57%|█████▋    | 31/54 [00:06<00:05,  4.48it/s]\u001b[A\n",
            " 59%|█████▉    | 32/54 [00:07<00:04,  4.82it/s]\u001b[A\n",
            " 61%|██████    | 33/54 [00:07<00:04,  4.90it/s]\u001b[A\n",
            " 63%|██████▎   | 34/54 [00:07<00:03,  5.24it/s]\u001b[A\n",
            " 65%|██████▍   | 35/54 [00:07<00:03,  5.01it/s]\u001b[A\n",
            " 67%|██████▋   | 36/54 [00:07<00:03,  5.09it/s]\u001b[A\n",
            " 69%|██████▊   | 37/54 [00:08<00:03,  5.00it/s]\u001b[A\n",
            " 70%|███████   | 38/54 [00:08<00:03,  4.89it/s]\u001b[A\n",
            " 72%|███████▏  | 39/54 [00:08<00:03,  4.71it/s]\u001b[A\n",
            " 74%|███████▍  | 40/54 [00:08<00:03,  4.41it/s]\u001b[A\n",
            " 76%|███████▌  | 41/54 [00:08<00:02,  4.82it/s]\u001b[A\n",
            " 78%|███████▊  | 42/54 [00:09<00:02,  4.42it/s]\u001b[A\n",
            " 80%|███████▉  | 43/54 [00:09<00:02,  4.50it/s]\u001b[A\n",
            " 81%|████████▏ | 44/54 [00:09<00:02,  4.52it/s]\u001b[A\n",
            " 83%|████████▎ | 45/54 [00:09<00:01,  4.61it/s]\u001b[A\n",
            " 85%|████████▌ | 46/54 [00:10<00:01,  4.77it/s]\u001b[A\n",
            " 87%|████████▋ | 47/54 [00:10<00:01,  4.73it/s]\u001b[A\n",
            " 89%|████████▉ | 48/54 [00:10<00:01,  4.65it/s]\u001b[A\n",
            " 91%|█████████ | 49/54 [00:10<00:01,  4.34it/s]\u001b[A\n",
            " 93%|█████████▎| 50/54 [00:10<00:00,  4.26it/s]\u001b[A\n",
            " 94%|█████████▍| 51/54 [00:11<00:00,  4.44it/s]\u001b[A\n",
            " 96%|█████████▋| 52/54 [00:11<00:00,  4.41it/s]\u001b[A\n",
            " 98%|█████████▊| 53/54 [00:11<00:00,  4.45it/s]\u001b[A\n",
            "100%|██████████| 54/54 [00:11<00:00,  4.58it/s]\n",
            "\n",
            "  0%|          | 0/54 [00:00<?, ?it/s]\u001b[A\n",
            "  2%|▏         | 1/54 [00:00<00:08,  6.28it/s]\u001b[A"
          ],
          "name": "stderr"
        },
        {
          "output_type": "stream",
          "text": [
            "{'ner': 68.01950142959713}\n"
          ],
          "name": "stdout"
        },
        {
          "output_type": "stream",
          "text": [
            "\n",
            "  4%|▎         | 2/54 [00:00<00:09,  5.66it/s]\u001b[A\n",
            "  6%|▌         | 3/54 [00:00<00:09,  5.23it/s]\u001b[A\n",
            "  7%|▋         | 4/54 [00:00<00:09,  5.04it/s]\u001b[A\n",
            "  9%|▉         | 5/54 [00:01<00:10,  4.59it/s]\u001b[A\n",
            " 11%|█         | 6/54 [00:01<00:09,  5.01it/s]\u001b[A\n",
            " 13%|█▎        | 7/54 [00:01<00:09,  5.20it/s]\u001b[A\n",
            " 15%|█▍        | 8/54 [00:01<00:09,  5.02it/s]\u001b[A\n",
            " 17%|█▋        | 9/54 [00:01<00:08,  5.14it/s]\u001b[A\n",
            " 19%|█▊        | 10/54 [00:01<00:08,  5.30it/s]\u001b[A\n",
            " 20%|██        | 11/54 [00:02<00:08,  5.05it/s]\u001b[A\n",
            " 22%|██▏       | 12/54 [00:02<00:08,  4.97it/s]\u001b[A\n",
            " 24%|██▍       | 13/54 [00:02<00:09,  4.50it/s]\u001b[A\n",
            " 26%|██▌       | 14/54 [00:02<00:08,  4.85it/s]\u001b[A\n",
            " 28%|██▊       | 15/54 [00:03<00:07,  5.13it/s]\u001b[A\n",
            " 30%|██▉       | 16/54 [00:03<00:07,  5.41it/s]\u001b[A\n",
            " 31%|███▏      | 17/54 [00:03<00:07,  5.26it/s]\u001b[A\n",
            " 33%|███▎      | 18/54 [00:03<00:07,  5.02it/s]\u001b[A\n",
            " 35%|███▌      | 19/54 [00:03<00:07,  4.90it/s]\u001b[A\n",
            " 37%|███▋      | 20/54 [00:04<00:06,  5.09it/s]\u001b[A\n",
            " 39%|███▉      | 21/54 [00:04<00:06,  5.02it/s]\u001b[A\n",
            " 41%|████      | 22/54 [00:04<00:06,  4.60it/s]\u001b[A\n",
            " 43%|████▎     | 23/54 [00:04<00:06,  5.04it/s]\u001b[A\n",
            " 44%|████▍     | 24/54 [00:04<00:05,  5.10it/s]\u001b[A\n",
            " 46%|████▋     | 25/54 [00:05<00:05,  4.96it/s]\u001b[A\n",
            " 48%|████▊     | 26/54 [00:05<00:06,  4.67it/s]\u001b[A\n",
            " 50%|█████     | 27/54 [00:05<00:05,  4.63it/s]\u001b[A\n",
            " 52%|█████▏    | 28/54 [00:05<00:05,  4.59it/s]\u001b[A\n",
            " 54%|█████▎    | 29/54 [00:05<00:05,  4.58it/s]\u001b[A\n",
            " 56%|█████▌    | 30/54 [00:06<00:05,  4.39it/s]\u001b[A\n",
            " 57%|█████▋    | 31/54 [00:06<00:05,  4.56it/s]\u001b[A\n",
            " 59%|█████▉    | 32/54 [00:06<00:04,  4.49it/s]\u001b[A\n",
            " 61%|██████    | 33/54 [00:06<00:04,  4.47it/s]\u001b[A\n",
            " 63%|██████▎   | 34/54 [00:07<00:04,  4.75it/s]\u001b[A\n",
            " 65%|██████▍   | 35/54 [00:07<00:04,  4.64it/s]\u001b[A\n",
            " 67%|██████▋   | 36/54 [00:07<00:03,  4.92it/s]\u001b[A\n",
            " 69%|██████▊   | 37/54 [00:07<00:03,  4.97it/s]\u001b[A\n",
            " 70%|███████   | 38/54 [00:07<00:03,  5.10it/s]\u001b[A\n",
            " 72%|███████▏  | 39/54 [00:07<00:02,  5.39it/s]\u001b[A\n",
            " 74%|███████▍  | 40/54 [00:08<00:02,  4.93it/s]\u001b[A\n",
            " 76%|███████▌  | 41/54 [00:08<00:02,  4.65it/s]\u001b[A\n",
            " 78%|███████▊  | 42/54 [00:08<00:02,  4.65it/s]\u001b[A\n",
            " 80%|███████▉  | 43/54 [00:08<00:02,  4.87it/s]\u001b[A\n",
            " 81%|████████▏ | 44/54 [00:09<00:02,  4.65it/s]\u001b[A\n",
            " 83%|████████▎ | 45/54 [00:09<00:01,  4.82it/s]\u001b[A\n",
            " 85%|████████▌ | 46/54 [00:09<00:01,  4.76it/s]\u001b[A\n",
            " 87%|████████▋ | 47/54 [00:09<00:01,  4.62it/s]\u001b[A\n",
            " 89%|████████▉ | 48/54 [00:09<00:01,  4.33it/s]\u001b[A\n",
            " 91%|█████████ | 49/54 [00:10<00:01,  4.56it/s]\u001b[A\n",
            " 93%|█████████▎| 50/54 [00:10<00:00,  4.77it/s]\u001b[A\n",
            " 94%|█████████▍| 51/54 [00:10<00:00,  4.73it/s]\u001b[A\n",
            " 96%|█████████▋| 52/54 [00:10<00:00,  4.69it/s]\u001b[A\n",
            " 98%|█████████▊| 53/54 [00:11<00:00,  4.51it/s]\u001b[A\n",
            "100%|██████████| 54/54 [00:11<00:00,  4.80it/s]\n",
            "\n",
            "  0%|          | 0/54 [00:00<?, ?it/s]\u001b[A"
          ],
          "name": "stderr"
        },
        {
          "output_type": "stream",
          "text": [
            "{'ner': 116.94592030324313}\n"
          ],
          "name": "stdout"
        },
        {
          "output_type": "stream",
          "text": [
            "\n",
            "  2%|▏         | 1/54 [00:00<00:10,  5.05it/s]\u001b[A\n",
            "  4%|▎         | 2/54 [00:00<00:10,  4.76it/s]\u001b[A\n",
            "  6%|▌         | 3/54 [00:00<00:09,  5.12it/s]\u001b[A\n",
            "  7%|▋         | 4/54 [00:00<00:09,  5.50it/s]\u001b[A\n",
            "  9%|▉         | 5/54 [00:00<00:09,  5.37it/s]\u001b[A\n",
            " 11%|█         | 6/54 [00:01<00:09,  4.81it/s]\u001b[A\n",
            " 13%|█▎        | 7/54 [00:01<00:10,  4.55it/s]\u001b[A\n",
            " 15%|█▍        | 8/54 [00:01<00:09,  4.61it/s]\u001b[A\n",
            " 17%|█▋        | 9/54 [00:01<00:09,  4.63it/s]\u001b[A\n",
            " 19%|█▊        | 10/54 [00:02<00:09,  4.78it/s]\u001b[A\n",
            " 20%|██        | 11/54 [00:02<00:08,  5.04it/s]\u001b[A\n",
            " 22%|██▏       | 12/54 [00:02<00:07,  5.30it/s]\u001b[A\n",
            " 24%|██▍       | 13/54 [00:02<00:07,  5.38it/s]\u001b[A\n",
            " 26%|██▌       | 14/54 [00:02<00:07,  5.18it/s]\u001b[A\n",
            " 28%|██▊       | 15/54 [00:02<00:07,  5.22it/s]\u001b[A\n",
            " 30%|██▉       | 16/54 [00:03<00:07,  4.95it/s]\u001b[A\n",
            " 31%|███▏      | 17/54 [00:03<00:08,  4.51it/s]\u001b[A\n",
            " 33%|███▎      | 18/54 [00:03<00:07,  4.54it/s]\u001b[A\n",
            " 35%|███▌      | 19/54 [00:03<00:07,  4.40it/s]\u001b[A\n",
            " 37%|███▋      | 20/54 [00:04<00:07,  4.42it/s]\u001b[A\n",
            " 39%|███▉      | 21/54 [00:04<00:07,  4.62it/s]\u001b[A\n",
            " 41%|████      | 22/54 [00:04<00:06,  4.90it/s]\u001b[A\n",
            " 43%|████▎     | 23/54 [00:04<00:06,  4.83it/s]\u001b[A\n",
            " 44%|████▍     | 24/54 [00:04<00:06,  4.91it/s]\u001b[A\n",
            " 46%|████▋     | 25/54 [00:05<00:05,  4.97it/s]\u001b[A\n",
            " 48%|████▊     | 26/54 [00:05<00:05,  4.96it/s]\u001b[A\n",
            " 50%|█████     | 27/54 [00:05<00:05,  4.95it/s]\u001b[A\n",
            " 52%|█████▏    | 28/54 [00:05<00:05,  4.94it/s]\u001b[A\n",
            " 54%|█████▎    | 29/54 [00:05<00:05,  4.79it/s]\u001b[A\n",
            " 56%|█████▌    | 30/54 [00:06<00:05,  4.53it/s]\u001b[A\n",
            " 57%|█████▋    | 31/54 [00:06<00:04,  5.01it/s]\u001b[A\n",
            " 59%|█████▉    | 32/54 [00:06<00:04,  5.24it/s]\u001b[A\n",
            " 61%|██████    | 33/54 [00:06<00:04,  4.70it/s]\u001b[A\n",
            " 63%|██████▎   | 34/54 [00:07<00:04,  4.59it/s]\u001b[A\n",
            " 65%|██████▍   | 35/54 [00:07<00:04,  4.35it/s]\u001b[A\n",
            " 67%|██████▋   | 36/54 [00:07<00:04,  4.43it/s]\u001b[A\n",
            " 69%|██████▊   | 37/54 [00:07<00:03,  4.89it/s]\u001b[A\n",
            " 70%|███████   | 38/54 [00:07<00:03,  4.56it/s]\u001b[A\n",
            " 72%|███████▏  | 39/54 [00:08<00:03,  4.73it/s]\u001b[A\n",
            " 74%|███████▍  | 40/54 [00:08<00:03,  4.49it/s]\u001b[A\n",
            " 76%|███████▌  | 41/54 [00:08<00:02,  4.37it/s]\u001b[A\n",
            " 78%|███████▊  | 42/54 [00:08<00:02,  4.32it/s]\u001b[A\n",
            " 80%|███████▉  | 43/54 [00:09<00:02,  4.73it/s]\u001b[A\n",
            " 81%|████████▏ | 44/54 [00:09<00:02,  4.82it/s]\u001b[A\n",
            " 83%|████████▎ | 45/54 [00:09<00:01,  4.79it/s]\u001b[A\n",
            " 85%|████████▌ | 46/54 [00:09<00:01,  5.13it/s]\u001b[A\n",
            " 87%|████████▋ | 47/54 [00:09<00:01,  5.04it/s]\u001b[A\n",
            " 89%|████████▉ | 48/54 [00:09<00:01,  5.01it/s]\u001b[A\n",
            " 91%|█████████ | 49/54 [00:10<00:01,  4.41it/s]\u001b[A\n",
            " 93%|█████████▎| 50/54 [00:10<00:00,  4.59it/s]\u001b[A\n",
            " 94%|█████████▍| 51/54 [00:10<00:00,  4.41it/s]\u001b[A\n",
            " 96%|█████████▋| 52/54 [00:10<00:00,  4.49it/s]\u001b[A\n",
            " 98%|█████████▊| 53/54 [00:11<00:00,  4.89it/s]\u001b[A\n",
            "100%|██████████| 54/54 [00:11<00:00,  4.80it/s]\n",
            "\n",
            "  0%|          | 0/54 [00:00<?, ?it/s]\u001b[A\n",
            "  2%|▏         | 1/54 [00:00<00:09,  5.45it/s]\u001b[A"
          ],
          "name": "stderr"
        },
        {
          "output_type": "stream",
          "text": [
            "{'ner': 89.14834218709137}\n"
          ],
          "name": "stdout"
        },
        {
          "output_type": "stream",
          "text": [
            "\n",
            "  4%|▎         | 2/54 [00:00<00:09,  5.67it/s]\u001b[A\n",
            "  6%|▌         | 3/54 [00:00<00:09,  5.17it/s]\u001b[A\n",
            "  7%|▋         | 4/54 [00:00<00:10,  4.69it/s]\u001b[A\n",
            "  9%|▉         | 5/54 [00:01<00:10,  4.85it/s]\u001b[A\n",
            " 11%|█         | 6/54 [00:01<00:09,  5.25it/s]\u001b[A\n",
            " 13%|█▎        | 7/54 [00:01<00:10,  4.59it/s]\u001b[A\n",
            " 15%|█▍        | 8/54 [00:01<00:09,  4.63it/s]\u001b[A\n",
            " 17%|█▋        | 9/54 [00:01<00:09,  4.78it/s]\u001b[A\n",
            " 19%|█▊        | 10/54 [00:02<00:09,  4.57it/s]\u001b[A\n",
            " 20%|██        | 11/54 [00:02<00:09,  4.55it/s]\u001b[A\n",
            " 22%|██▏       | 12/54 [00:02<00:09,  4.64it/s]\u001b[A\n",
            " 24%|██▍       | 13/54 [00:02<00:08,  4.72it/s]\u001b[A\n",
            " 26%|██▌       | 14/54 [00:02<00:08,  5.00it/s]\u001b[A\n",
            " 28%|██▊       | 15/54 [00:03<00:07,  4.91it/s]\u001b[A\n",
            " 30%|██▉       | 16/54 [00:03<00:07,  5.31it/s]\u001b[A\n",
            " 31%|███▏      | 17/54 [00:03<00:07,  4.67it/s]\u001b[A\n",
            " 33%|███▎      | 18/54 [00:03<00:08,  4.45it/s]\u001b[A\n",
            " 35%|███▌      | 19/54 [00:03<00:07,  4.76it/s]\u001b[A\n",
            " 37%|███▋      | 20/54 [00:04<00:07,  4.80it/s]\u001b[A\n",
            " 39%|███▉      | 21/54 [00:04<00:07,  4.69it/s]\u001b[A\n",
            " 41%|████      | 22/54 [00:04<00:06,  4.74it/s]\u001b[A\n",
            " 43%|████▎     | 23/54 [00:04<00:06,  4.69it/s]\u001b[A\n",
            " 44%|████▍     | 24/54 [00:04<00:05,  5.04it/s]\u001b[A\n",
            " 46%|████▋     | 25/54 [00:05<00:05,  4.92it/s]\u001b[A\n",
            " 48%|████▊     | 26/54 [00:05<00:05,  4.76it/s]\u001b[A\n",
            " 50%|█████     | 27/54 [00:05<00:05,  5.04it/s]\u001b[A\n",
            " 52%|█████▏    | 28/54 [00:05<00:05,  4.92it/s]\u001b[A\n",
            " 54%|█████▎    | 29/54 [00:06<00:05,  4.74it/s]\u001b[A\n",
            " 56%|█████▌    | 30/54 [00:06<00:04,  4.95it/s]\u001b[A\n",
            " 57%|█████▋    | 31/54 [00:06<00:04,  5.15it/s]\u001b[A\n",
            " 59%|█████▉    | 32/54 [00:06<00:04,  4.62it/s]\u001b[A\n",
            " 61%|██████    | 33/54 [00:06<00:04,  4.57it/s]\u001b[A\n",
            " 63%|██████▎   | 34/54 [00:07<00:04,  4.79it/s]\u001b[A\n",
            " 65%|██████▍   | 35/54 [00:07<00:04,  4.33it/s]\u001b[A\n",
            " 67%|██████▋   | 36/54 [00:07<00:03,  4.79it/s]\u001b[A\n",
            " 69%|██████▊   | 37/54 [00:07<00:03,  5.04it/s]\u001b[A\n",
            " 70%|███████   | 38/54 [00:07<00:02,  5.43it/s]\u001b[A\n",
            " 72%|███████▏  | 39/54 [00:08<00:02,  5.01it/s]\u001b[A\n",
            " 74%|███████▍  | 40/54 [00:08<00:02,  5.04it/s]\u001b[A\n",
            " 76%|███████▌  | 41/54 [00:08<00:02,  4.65it/s]\u001b[A\n",
            " 78%|███████▊  | 42/54 [00:08<00:02,  4.66it/s]\u001b[A\n",
            " 80%|███████▉  | 43/54 [00:09<00:02,  4.25it/s]\u001b[A\n",
            " 81%|████████▏ | 44/54 [00:09<00:02,  4.57it/s]\u001b[A\n",
            " 83%|████████▎ | 45/54 [00:09<00:01,  4.99it/s]\u001b[A\n",
            " 85%|████████▌ | 46/54 [00:09<00:01,  5.07it/s]\u001b[A\n",
            " 87%|████████▋ | 47/54 [00:09<00:01,  5.34it/s]\u001b[A\n",
            " 89%|████████▉ | 48/54 [00:09<00:01,  5.56it/s]\u001b[A\n",
            " 91%|█████████ | 49/54 [00:10<00:00,  5.33it/s]\u001b[A\n",
            " 93%|█████████▎| 50/54 [00:10<00:00,  5.48it/s]\u001b[A\n",
            " 94%|█████████▍| 51/54 [00:10<00:00,  5.45it/s]\u001b[A\n",
            " 96%|█████████▋| 52/54 [00:10<00:00,  4.95it/s]\u001b[A\n",
            " 98%|█████████▊| 53/54 [00:10<00:00,  4.85it/s]\u001b[A\n",
            "100%|██████████| 54/54 [00:11<00:00,  4.85it/s]\n",
            "\n",
            "  0%|          | 0/54 [00:00<?, ?it/s]\u001b[A"
          ],
          "name": "stderr"
        },
        {
          "output_type": "stream",
          "text": [
            "{'ner': 84.4918370646971}\n"
          ],
          "name": "stdout"
        },
        {
          "output_type": "stream",
          "text": [
            "\n",
            "  2%|▏         | 1/54 [00:00<00:12,  4.25it/s]\u001b[A\n",
            "  4%|▎         | 2/54 [00:00<00:11,  4.69it/s]\u001b[A\n",
            "  6%|▌         | 3/54 [00:00<00:11,  4.50it/s]\u001b[A\n",
            "  7%|▋         | 4/54 [00:00<00:11,  4.51it/s]\u001b[A\n",
            "  9%|▉         | 5/54 [00:01<00:11,  4.25it/s]\u001b[A\n",
            " 11%|█         | 6/54 [00:01<00:11,  4.31it/s]\u001b[A\n",
            " 13%|█▎        | 7/54 [00:01<00:09,  4.84it/s]\u001b[A\n",
            " 15%|█▍        | 8/54 [00:01<00:09,  5.02it/s]\u001b[A\n",
            " 17%|█▋        | 9/54 [00:01<00:08,  5.16it/s]\u001b[A\n",
            " 19%|█▊        | 10/54 [00:02<00:09,  4.76it/s]\u001b[A\n",
            " 20%|██        | 11/54 [00:02<00:08,  4.97it/s]\u001b[A\n",
            " 22%|██▏       | 12/54 [00:02<00:08,  4.75it/s]\u001b[A\n",
            " 24%|██▍       | 13/54 [00:02<00:08,  5.11it/s]\u001b[A\n",
            " 26%|██▌       | 14/54 [00:02<00:07,  5.40it/s]\u001b[A\n",
            " 28%|██▊       | 15/54 [00:03<00:07,  5.14it/s]\u001b[A\n",
            " 30%|██▉       | 16/54 [00:03<00:07,  4.98it/s]\u001b[A\n",
            " 31%|███▏      | 17/54 [00:03<00:07,  5.00it/s]\u001b[A\n",
            " 33%|███▎      | 18/54 [00:03<00:07,  4.99it/s]\u001b[A\n",
            " 35%|███▌      | 19/54 [00:03<00:06,  5.30it/s]\u001b[A\n",
            " 37%|███▋      | 20/54 [00:04<00:06,  5.22it/s]\u001b[A\n",
            " 39%|███▉      | 21/54 [00:04<00:06,  5.46it/s]\u001b[A\n",
            " 41%|████      | 22/54 [00:04<00:06,  5.31it/s]\u001b[A\n",
            " 43%|████▎     | 23/54 [00:04<00:06,  4.97it/s]\u001b[A\n",
            " 44%|████▍     | 24/54 [00:04<00:05,  5.32it/s]\u001b[A\n",
            " 46%|████▋     | 25/54 [00:05<00:05,  5.05it/s]\u001b[A\n",
            " 48%|████▊     | 26/54 [00:05<00:05,  5.06it/s]\u001b[A\n",
            " 50%|█████     | 27/54 [00:05<00:05,  5.03it/s]\u001b[A\n",
            " 52%|█████▏    | 28/54 [00:05<00:05,  4.88it/s]\u001b[A\n",
            " 54%|█████▎    | 29/54 [00:05<00:05,  4.89it/s]\u001b[A\n",
            " 56%|█████▌    | 30/54 [00:06<00:05,  4.78it/s]\u001b[A\n",
            " 57%|█████▋    | 31/54 [00:06<00:04,  5.18it/s]\u001b[A\n",
            " 59%|█████▉    | 32/54 [00:06<00:03,  5.54it/s]\u001b[A\n",
            " 61%|██████    | 33/54 [00:06<00:03,  5.29it/s]\u001b[A\n",
            " 63%|██████▎   | 34/54 [00:06<00:03,  5.61it/s]\u001b[A\n",
            " 65%|██████▍   | 35/54 [00:06<00:03,  5.15it/s]\u001b[A\n",
            " 67%|██████▋   | 36/54 [00:07<00:03,  5.41it/s]\u001b[A\n",
            " 69%|██████▊   | 37/54 [00:07<00:02,  5.67it/s]\u001b[A\n",
            " 70%|███████   | 38/54 [00:07<00:02,  5.48it/s]\u001b[A\n",
            " 72%|███████▏  | 39/54 [00:07<00:03,  4.84it/s]\u001b[A\n",
            " 74%|███████▍  | 40/54 [00:07<00:03,  4.48it/s]\u001b[A\n",
            " 76%|███████▌  | 41/54 [00:08<00:02,  4.69it/s]\u001b[A\n",
            " 78%|███████▊  | 42/54 [00:08<00:02,  5.18it/s]\u001b[A\n",
            " 80%|███████▉  | 43/54 [00:08<00:02,  4.67it/s]\u001b[A\n",
            " 81%|████████▏ | 44/54 [00:08<00:02,  4.30it/s]\u001b[A\n",
            " 83%|████████▎ | 45/54 [00:09<00:01,  4.81it/s]\u001b[A\n",
            " 85%|████████▌ | 46/54 [00:09<00:01,  4.40it/s]\u001b[A\n",
            " 87%|████████▋ | 47/54 [00:09<00:01,  4.12it/s]\u001b[A\n",
            " 89%|████████▉ | 48/54 [00:09<00:01,  4.13it/s]\u001b[A\n",
            " 91%|█████████ | 49/54 [00:10<00:01,  4.32it/s]\u001b[A\n",
            " 93%|█████████▎| 50/54 [00:10<00:00,  4.20it/s]\u001b[A\n",
            " 94%|█████████▍| 51/54 [00:10<00:00,  3.98it/s]\u001b[A\n",
            " 96%|█████████▋| 52/54 [00:10<00:00,  4.23it/s]\u001b[A\n",
            " 98%|█████████▊| 53/54 [00:10<00:00,  4.57it/s]\u001b[A\n",
            "100%|██████████| 54/54 [00:11<00:00,  4.84it/s]\n",
            "\n",
            "  0%|          | 0/54 [00:00<?, ?it/s]\u001b[A\n",
            "  2%|▏         | 1/54 [00:00<00:08,  6.46it/s]\u001b[A"
          ],
          "name": "stderr"
        },
        {
          "output_type": "stream",
          "text": [
            "{'ner': 99.02083171929402}\n"
          ],
          "name": "stdout"
        },
        {
          "output_type": "stream",
          "text": [
            "\n",
            "  4%|▎         | 2/54 [00:00<00:09,  5.25it/s]\u001b[A\n",
            "  6%|▌         | 3/54 [00:00<00:10,  4.86it/s]\u001b[A\n",
            "  7%|▋         | 4/54 [00:00<00:10,  4.85it/s]\u001b[A\n",
            "  9%|▉         | 5/54 [00:01<00:10,  4.51it/s]\u001b[A\n",
            " 11%|█         | 6/54 [00:01<00:10,  4.77it/s]\u001b[A\n",
            " 13%|█▎        | 7/54 [00:01<00:09,  4.89it/s]\u001b[A\n",
            " 15%|█▍        | 8/54 [00:01<00:10,  4.59it/s]\u001b[A\n",
            " 17%|█▋        | 9/54 [00:01<00:09,  4.64it/s]\u001b[A\n",
            " 19%|█▊        | 10/54 [00:02<00:08,  5.13it/s]\u001b[A\n",
            " 20%|██        | 11/54 [00:02<00:07,  5.38it/s]\u001b[A\n",
            " 22%|██▏       | 12/54 [00:02<00:08,  5.15it/s]\u001b[A\n",
            " 24%|██▍       | 13/54 [00:02<00:08,  5.05it/s]\u001b[A\n",
            " 26%|██▌       | 14/54 [00:02<00:08,  4.81it/s]\u001b[A\n",
            " 28%|██▊       | 15/54 [00:03<00:09,  4.33it/s]\u001b[A\n",
            " 30%|██▉       | 16/54 [00:03<00:08,  4.27it/s]\u001b[A\n",
            " 31%|███▏      | 17/54 [00:03<00:07,  4.66it/s]\u001b[A\n",
            " 33%|███▎      | 18/54 [00:03<00:07,  4.84it/s]\u001b[A\n",
            " 35%|███▌      | 19/54 [00:03<00:06,  5.20it/s]\u001b[A\n",
            " 37%|███▋      | 20/54 [00:04<00:06,  5.09it/s]\u001b[A\n",
            " 39%|███▉      | 21/54 [00:04<00:07,  4.59it/s]\u001b[A\n",
            " 41%|████      | 22/54 [00:04<00:06,  4.94it/s]\u001b[A\n",
            " 43%|████▎     | 23/54 [00:04<00:06,  4.73it/s]\u001b[A\n",
            " 44%|████▍     | 24/54 [00:05<00:06,  5.00it/s]\u001b[A\n",
            " 46%|████▋     | 25/54 [00:05<00:05,  5.12it/s]\u001b[A\n",
            " 48%|████▊     | 26/54 [00:05<00:06,  4.59it/s]\u001b[A\n",
            " 50%|█████     | 27/54 [00:05<00:05,  4.70it/s]\u001b[A\n",
            " 52%|█████▏    | 28/54 [00:05<00:05,  5.07it/s]\u001b[A\n",
            " 54%|█████▎    | 29/54 [00:06<00:04,  5.25it/s]\u001b[A\n",
            " 56%|█████▌    | 30/54 [00:06<00:05,  4.75it/s]\u001b[A\n",
            " 57%|█████▋    | 31/54 [00:06<00:04,  4.62it/s]\u001b[A\n",
            " 59%|█████▉    | 32/54 [00:06<00:05,  4.34it/s]\u001b[A\n",
            " 61%|██████    | 33/54 [00:06<00:04,  4.73it/s]\u001b[A\n",
            " 63%|██████▎   | 34/54 [00:07<00:04,  4.46it/s]\u001b[A\n",
            " 65%|██████▍   | 35/54 [00:07<00:03,  4.77it/s]\u001b[A\n",
            " 67%|██████▋   | 36/54 [00:07<00:03,  4.87it/s]\u001b[A\n",
            " 69%|██████▊   | 37/54 [00:07<00:03,  4.76it/s]\u001b[A\n",
            " 70%|███████   | 38/54 [00:07<00:03,  4.75it/s]\u001b[A\n",
            " 72%|███████▏  | 39/54 [00:08<00:03,  4.80it/s]\u001b[A\n",
            " 74%|███████▍  | 40/54 [00:08<00:02,  4.71it/s]\u001b[A\n",
            " 76%|███████▌  | 41/54 [00:08<00:02,  4.39it/s]\u001b[A\n",
            " 78%|███████▊  | 42/54 [00:08<00:02,  4.58it/s]\u001b[A\n",
            " 80%|███████▉  | 43/54 [00:09<00:02,  4.75it/s]\u001b[A\n",
            " 81%|████████▏ | 44/54 [00:09<00:02,  4.70it/s]\u001b[A\n",
            " 83%|████████▎ | 45/54 [00:09<00:01,  4.71it/s]\u001b[A\n",
            " 85%|████████▌ | 46/54 [00:09<00:01,  4.90it/s]\u001b[A\n",
            " 87%|████████▋ | 47/54 [00:09<00:01,  5.06it/s]\u001b[A\n",
            " 89%|████████▉ | 48/54 [00:10<00:01,  4.64it/s]\u001b[A\n",
            " 91%|█████████ | 49/54 [00:10<00:01,  4.62it/s]\u001b[A\n",
            " 93%|█████████▎| 50/54 [00:10<00:00,  4.63it/s]\u001b[A\n",
            " 94%|█████████▍| 51/54 [00:10<00:00,  4.61it/s]\u001b[A\n",
            " 96%|█████████▋| 52/54 [00:10<00:00,  4.59it/s]\u001b[A\n",
            " 98%|█████████▊| 53/54 [00:11<00:00,  4.81it/s]\u001b[A\n",
            "100%|██████████| 54/54 [00:11<00:00,  4.74it/s]\n",
            "\n",
            "  0%|          | 0/54 [00:00<?, ?it/s]\u001b[A\n",
            "  2%|▏         | 1/54 [00:00<00:09,  5.78it/s]\u001b[A"
          ],
          "name": "stderr"
        },
        {
          "output_type": "stream",
          "text": [
            "{'ner': 91.2308999031033}\n"
          ],
          "name": "stdout"
        },
        {
          "output_type": "stream",
          "text": [
            "\n",
            "  4%|▎         | 2/54 [00:00<00:10,  5.04it/s]\u001b[A\n",
            "  6%|▌         | 3/54 [00:00<00:11,  4.43it/s]\u001b[A\n",
            "  7%|▋         | 4/54 [00:00<00:10,  4.80it/s]\u001b[A\n",
            "  9%|▉         | 5/54 [00:01<00:10,  4.77it/s]\u001b[A\n",
            " 11%|█         | 6/54 [00:01<00:09,  4.99it/s]\u001b[A\n",
            " 13%|█▎        | 7/54 [00:01<00:09,  4.87it/s]\u001b[A\n",
            " 15%|█▍        | 8/54 [00:01<00:09,  4.84it/s]\u001b[A\n",
            " 17%|█▋        | 9/54 [00:01<00:08,  5.07it/s]\u001b[A\n",
            " 19%|█▊        | 10/54 [00:02<00:08,  5.42it/s]\u001b[A\n",
            " 20%|██        | 11/54 [00:02<00:07,  5.55it/s]\u001b[A\n",
            " 22%|██▏       | 12/54 [00:02<00:08,  5.08it/s]\u001b[A\n",
            " 24%|██▍       | 13/54 [00:02<00:07,  5.29it/s]\u001b[A\n",
            " 26%|██▌       | 14/54 [00:02<00:07,  5.52it/s]\u001b[A\n",
            " 28%|██▊       | 15/54 [00:03<00:07,  5.07it/s]\u001b[A\n",
            " 30%|██▉       | 16/54 [00:03<00:07,  4.90it/s]\u001b[A\n",
            " 31%|███▏      | 17/54 [00:03<00:08,  4.52it/s]\u001b[A\n",
            " 33%|███▎      | 18/54 [00:03<00:07,  4.87it/s]\u001b[A\n",
            " 35%|███▌      | 19/54 [00:03<00:06,  5.10it/s]\u001b[A\n",
            " 37%|███▋      | 20/54 [00:04<00:06,  5.31it/s]\u001b[A\n",
            " 39%|███▉      | 21/54 [00:04<00:06,  5.13it/s]\u001b[A\n",
            " 41%|████      | 22/54 [00:04<00:05,  5.50it/s]\u001b[A\n",
            " 43%|████▎     | 23/54 [00:04<00:06,  4.83it/s]\u001b[A\n",
            " 44%|████▍     | 24/54 [00:04<00:06,  4.44it/s]\u001b[A\n",
            " 46%|████▋     | 25/54 [00:05<00:06,  4.65it/s]\u001b[A\n",
            " 48%|████▊     | 26/54 [00:05<00:06,  4.64it/s]\u001b[A\n",
            " 50%|█████     | 27/54 [00:05<00:05,  4.93it/s]\u001b[A\n",
            " 52%|█████▏    | 28/54 [00:05<00:04,  5.27it/s]\u001b[A\n",
            " 54%|█████▎    | 29/54 [00:05<00:04,  5.03it/s]\u001b[A\n",
            " 56%|█████▌    | 30/54 [00:06<00:04,  5.43it/s]\u001b[A\n",
            " 57%|█████▋    | 31/54 [00:06<00:04,  5.41it/s]\u001b[A\n",
            " 59%|█████▉    | 32/54 [00:06<00:03,  5.51it/s]\u001b[A\n",
            " 61%|██████    | 33/54 [00:06<00:04,  5.12it/s]\u001b[A\n",
            " 63%|██████▎   | 34/54 [00:06<00:04,  4.87it/s]\u001b[A\n",
            " 65%|██████▍   | 35/54 [00:07<00:04,  4.60it/s]\u001b[A\n",
            " 67%|██████▋   | 36/54 [00:07<00:03,  4.60it/s]\u001b[A\n",
            " 69%|██████▊   | 37/54 [00:07<00:03,  4.49it/s]\u001b[A\n",
            " 70%|███████   | 38/54 [00:07<00:03,  4.17it/s]\u001b[A\n",
            " 72%|███████▏  | 39/54 [00:08<00:03,  4.37it/s]\u001b[A\n",
            " 74%|███████▍  | 40/54 [00:08<00:03,  4.32it/s]\u001b[A\n",
            " 76%|███████▌  | 41/54 [00:08<00:02,  4.36it/s]\u001b[A\n",
            " 78%|███████▊  | 42/54 [00:08<00:02,  4.25it/s]\u001b[A\n",
            " 80%|███████▉  | 43/54 [00:08<00:02,  4.46it/s]\u001b[A\n",
            " 81%|████████▏ | 44/54 [00:09<00:02,  4.37it/s]\u001b[A\n",
            " 83%|████████▎ | 45/54 [00:09<00:02,  4.21it/s]\u001b[A\n",
            " 85%|████████▌ | 46/54 [00:09<00:01,  4.64it/s]\u001b[A\n",
            " 87%|████████▋ | 47/54 [00:09<00:01,  4.75it/s]\u001b[A\n",
            " 89%|████████▉ | 48/54 [00:09<00:01,  4.77it/s]\u001b[A\n",
            " 91%|█████████ | 49/54 [00:10<00:01,  4.62it/s]\u001b[A\n",
            " 93%|█████████▎| 50/54 [00:10<00:00,  4.81it/s]\u001b[A\n",
            " 94%|█████████▍| 51/54 [00:10<00:00,  4.47it/s]\u001b[A\n",
            " 96%|█████████▋| 52/54 [00:10<00:00,  4.69it/s]\u001b[A\n",
            " 98%|█████████▊| 53/54 [00:11<00:00,  4.29it/s]\u001b[A\n",
            "100%|██████████| 54/54 [00:11<00:00,  4.78it/s]\n",
            "\n",
            "  0%|          | 0/54 [00:00<?, ?it/s]\u001b[A"
          ],
          "name": "stderr"
        },
        {
          "output_type": "stream",
          "text": [
            "{'ner': 81.8521964713569}\n"
          ],
          "name": "stdout"
        },
        {
          "output_type": "stream",
          "text": [
            "\n",
            "  2%|▏         | 1/54 [00:00<00:13,  4.02it/s]\u001b[A\n",
            "  4%|▎         | 2/54 [00:00<00:11,  4.35it/s]\u001b[A\n",
            "  6%|▌         | 3/54 [00:00<00:11,  4.60it/s]\u001b[A\n",
            "  7%|▋         | 4/54 [00:00<00:09,  5.02it/s]\u001b[A\n",
            "  9%|▉         | 5/54 [00:00<00:09,  5.42it/s]\u001b[A\n",
            " 11%|█         | 6/54 [00:01<00:09,  5.21it/s]\u001b[A\n",
            " 13%|█▎        | 7/54 [00:01<00:09,  4.73it/s]\u001b[A\n",
            " 15%|█▍        | 8/54 [00:01<00:09,  4.67it/s]\u001b[A\n",
            " 17%|█▋        | 9/54 [00:01<00:09,  4.55it/s]\u001b[A\n",
            " 19%|█▊        | 10/54 [00:02<00:09,  4.77it/s]\u001b[A\n",
            " 20%|██        | 11/54 [00:02<00:09,  4.46it/s]\u001b[A\n",
            " 22%|██▏       | 12/54 [00:02<00:09,  4.52it/s]\u001b[A\n",
            " 24%|██▍       | 13/54 [00:02<00:08,  4.83it/s]\u001b[A\n",
            " 26%|██▌       | 14/54 [00:02<00:08,  4.84it/s]\u001b[A\n",
            " 28%|██▊       | 15/54 [00:03<00:08,  4.79it/s]\u001b[A\n",
            " 30%|██▉       | 16/54 [00:03<00:07,  4.92it/s]\u001b[A\n",
            " 31%|███▏      | 17/54 [00:03<00:08,  4.51it/s]\u001b[A\n",
            " 33%|███▎      | 18/54 [00:03<00:07,  4.91it/s]\u001b[A\n",
            " 35%|███▌      | 19/54 [00:03<00:06,  5.29it/s]\u001b[A\n",
            " 37%|███▋      | 20/54 [00:04<00:06,  4.87it/s]\u001b[A\n",
            " 39%|███▉      | 21/54 [00:04<00:06,  4.97it/s]\u001b[A\n",
            " 41%|████      | 22/54 [00:04<00:06,  5.09it/s]\u001b[A\n",
            " 43%|████▎     | 23/54 [00:04<00:06,  4.81it/s]\u001b[A\n",
            " 44%|████▍     | 24/54 [00:04<00:06,  4.68it/s]\u001b[A\n",
            " 46%|████▋     | 25/54 [00:05<00:06,  4.52it/s]\u001b[A\n",
            " 48%|████▊     | 26/54 [00:05<00:05,  4.86it/s]\u001b[A\n",
            " 50%|█████     | 27/54 [00:05<00:05,  4.82it/s]\u001b[A\n",
            " 52%|█████▏    | 28/54 [00:05<00:05,  4.74it/s]\u001b[A\n",
            " 54%|█████▎    | 29/54 [00:05<00:04,  5.17it/s]\u001b[A\n",
            " 56%|█████▌    | 30/54 [00:06<00:05,  4.72it/s]\u001b[A\n",
            " 57%|█████▋    | 31/54 [00:06<00:04,  5.06it/s]\u001b[A\n",
            " 59%|█████▉    | 32/54 [00:06<00:04,  5.17it/s]\u001b[A\n",
            " 61%|██████    | 33/54 [00:06<00:03,  5.30it/s]\u001b[A\n",
            " 63%|██████▎   | 34/54 [00:06<00:03,  5.09it/s]\u001b[A\n",
            " 65%|██████▍   | 35/54 [00:07<00:03,  4.78it/s]\u001b[A\n",
            " 67%|██████▋   | 36/54 [00:07<00:03,  5.03it/s]\u001b[A\n",
            " 69%|██████▊   | 37/54 [00:07<00:03,  5.00it/s]\u001b[A\n",
            " 70%|███████   | 38/54 [00:07<00:03,  4.70it/s]\u001b[A\n",
            " 72%|███████▏  | 39/54 [00:07<00:03,  4.88it/s]\u001b[A\n",
            " 74%|███████▍  | 40/54 [00:08<00:02,  5.16it/s]\u001b[A\n",
            " 76%|███████▌  | 41/54 [00:08<00:02,  5.20it/s]\u001b[A\n",
            " 78%|███████▊  | 42/54 [00:08<00:02,  4.61it/s]\u001b[A\n",
            " 80%|███████▉  | 43/54 [00:08<00:02,  4.36it/s]\u001b[A\n",
            " 81%|████████▏ | 44/54 [00:09<00:02,  4.72it/s]\u001b[A\n",
            " 83%|████████▎ | 45/54 [00:09<00:01,  5.12it/s]\u001b[A\n",
            " 85%|████████▌ | 46/54 [00:09<00:01,  5.04it/s]\u001b[A\n",
            " 87%|████████▋ | 47/54 [00:09<00:01,  5.43it/s]\u001b[A\n",
            " 89%|████████▉ | 48/54 [00:09<00:01,  5.05it/s]\u001b[A\n",
            " 91%|█████████ | 49/54 [00:10<00:01,  4.67it/s]\u001b[A\n",
            " 93%|█████████▎| 50/54 [00:10<00:00,  4.44it/s]\u001b[A\n",
            " 94%|█████████▍| 51/54 [00:10<00:00,  4.65it/s]\u001b[A\n",
            " 96%|█████████▋| 52/54 [00:10<00:00,  4.90it/s]\u001b[A\n",
            " 98%|█████████▊| 53/54 [00:10<00:00,  5.05it/s]\u001b[A\n",
            "100%|██████████| 54/54 [00:11<00:00,  4.90it/s]\n",
            "\n",
            "  0%|          | 0/54 [00:00<?, ?it/s]\u001b[A"
          ],
          "name": "stderr"
        },
        {
          "output_type": "stream",
          "text": [
            "{'ner': 107.77695892101103}\n"
          ],
          "name": "stdout"
        },
        {
          "output_type": "stream",
          "text": [
            "\n",
            "  2%|▏         | 1/54 [00:00<00:13,  3.98it/s]\u001b[A\n",
            "  4%|▎         | 2/54 [00:00<00:12,  4.15it/s]\u001b[A\n",
            "  6%|▌         | 3/54 [00:00<00:11,  4.36it/s]\u001b[A\n",
            "  7%|▋         | 4/54 [00:00<00:10,  4.74it/s]\u001b[A\n",
            "  9%|▉         | 5/54 [00:01<00:10,  4.76it/s]\u001b[A\n",
            " 11%|█         | 6/54 [00:01<00:09,  4.97it/s]\u001b[A\n",
            " 13%|█▎        | 7/54 [00:01<00:08,  5.39it/s]\u001b[A\n",
            " 15%|█▍        | 8/54 [00:01<00:08,  5.56it/s]\u001b[A\n",
            " 17%|█▋        | 9/54 [00:01<00:08,  5.34it/s]\u001b[A\n",
            " 19%|█▊        | 10/54 [00:01<00:08,  5.20it/s]\u001b[A\n",
            " 20%|██        | 11/54 [00:02<00:08,  5.00it/s]\u001b[A\n",
            " 22%|██▏       | 12/54 [00:02<00:07,  5.30it/s]\u001b[A\n",
            " 24%|██▍       | 13/54 [00:02<00:07,  5.32it/s]\u001b[A\n",
            " 26%|██▌       | 14/54 [00:02<00:07,  5.21it/s]\u001b[A\n",
            " 28%|██▊       | 15/54 [00:02<00:07,  5.35it/s]\u001b[A\n",
            " 30%|██▉       | 16/54 [00:03<00:07,  5.33it/s]\u001b[A\n",
            " 31%|███▏      | 17/54 [00:03<00:07,  4.92it/s]\u001b[A\n",
            " 33%|███▎      | 18/54 [00:03<00:07,  4.81it/s]\u001b[A\n",
            " 35%|███▌      | 19/54 [00:03<00:07,  4.63it/s]\u001b[A\n",
            " 37%|███▋      | 20/54 [00:03<00:07,  4.64it/s]\u001b[A\n",
            " 39%|███▉      | 21/54 [00:04<00:06,  4.88it/s]\u001b[A\n",
            " 41%|████      | 22/54 [00:04<00:06,  5.05it/s]\u001b[A\n",
            " 43%|████▎     | 23/54 [00:04<00:06,  5.04it/s]\u001b[A\n",
            " 44%|████▍     | 24/54 [00:04<00:05,  5.36it/s]\u001b[A\n",
            " 46%|████▋     | 25/54 [00:04<00:05,  5.21it/s]\u001b[A\n",
            " 48%|████▊     | 26/54 [00:05<00:05,  4.72it/s]\u001b[A\n",
            " 50%|█████     | 27/54 [00:05<00:05,  4.92it/s]\u001b[A\n",
            " 52%|█████▏    | 28/54 [00:05<00:05,  4.82it/s]\u001b[A\n",
            " 54%|█████▎    | 29/54 [00:05<00:05,  4.83it/s]\u001b[A\n",
            " 56%|█████▌    | 30/54 [00:05<00:04,  4.82it/s]\u001b[A\n",
            " 57%|█████▋    | 31/54 [00:06<00:05,  4.35it/s]\u001b[A\n",
            " 59%|█████▉    | 32/54 [00:06<00:05,  4.20it/s]\u001b[A\n",
            " 61%|██████    | 33/54 [00:06<00:04,  4.27it/s]\u001b[A\n",
            " 63%|██████▎   | 34/54 [00:06<00:04,  4.33it/s]\u001b[A\n",
            " 65%|██████▍   | 35/54 [00:07<00:04,  4.20it/s]\u001b[A\n",
            " 67%|██████▋   | 36/54 [00:07<00:04,  4.36it/s]\u001b[A\n",
            " 69%|██████▊   | 37/54 [00:07<00:03,  4.53it/s]\u001b[A\n",
            " 70%|███████   | 38/54 [00:07<00:03,  4.48it/s]\u001b[A\n",
            " 72%|███████▏  | 39/54 [00:08<00:03,  4.51it/s]\u001b[A\n",
            " 74%|███████▍  | 40/54 [00:08<00:02,  4.86it/s]\u001b[A\n",
            " 76%|███████▌  | 41/54 [00:08<00:02,  4.67it/s]\u001b[A\n",
            " 78%|███████▊  | 42/54 [00:08<00:02,  5.13it/s]\u001b[A\n",
            " 80%|███████▉  | 43/54 [00:08<00:02,  4.67it/s]\u001b[A\n",
            " 81%|████████▏ | 44/54 [00:09<00:02,  4.68it/s]\u001b[A\n",
            " 83%|████████▎ | 45/54 [00:09<00:01,  4.58it/s]\u001b[A\n",
            " 85%|████████▌ | 46/54 [00:09<00:01,  4.39it/s]\u001b[A\n",
            " 87%|████████▋ | 47/54 [00:09<00:01,  4.43it/s]\u001b[A\n",
            " 89%|████████▉ | 48/54 [00:09<00:01,  4.74it/s]\u001b[A\n",
            " 91%|█████████ | 49/54 [00:10<00:00,  5.07it/s]\u001b[A\n",
            " 93%|█████████▎| 50/54 [00:10<00:00,  5.10it/s]\u001b[A\n",
            " 94%|█████████▍| 51/54 [00:10<00:00,  5.27it/s]\u001b[A\n",
            " 96%|█████████▋| 52/54 [00:10<00:00,  5.08it/s]\u001b[A\n",
            " 98%|█████████▊| 53/54 [00:10<00:00,  4.80it/s]\u001b[A\n",
            "100%|██████████| 54/54 [00:11<00:00,  4.84it/s]\n",
            "\n",
            "  0%|          | 0/54 [00:00<?, ?it/s]\u001b[A"
          ],
          "name": "stderr"
        },
        {
          "output_type": "stream",
          "text": [
            "{'ner': 80.6366155756134}\n"
          ],
          "name": "stdout"
        },
        {
          "output_type": "stream",
          "text": [
            "\n",
            "  2%|▏         | 1/54 [00:00<00:13,  3.95it/s]\u001b[A\n",
            "  4%|▎         | 2/54 [00:00<00:12,  4.19it/s]\u001b[A\n",
            "  6%|▌         | 3/54 [00:00<00:11,  4.29it/s]\u001b[A\n",
            "  7%|▋         | 4/54 [00:00<00:10,  4.80it/s]\u001b[A\n",
            "  9%|▉         | 5/54 [00:01<00:09,  5.00it/s]\u001b[A\n",
            " 11%|█         | 6/54 [00:01<00:09,  5.28it/s]\u001b[A\n",
            " 13%|█▎        | 7/54 [00:01<00:08,  5.22it/s]\u001b[A\n",
            " 15%|█▍        | 8/54 [00:01<00:08,  5.17it/s]\u001b[A\n",
            " 17%|█▋        | 9/54 [00:01<00:08,  5.22it/s]\u001b[A\n",
            " 19%|█▊        | 10/54 [00:01<00:08,  5.49it/s]\u001b[A\n",
            " 20%|██        | 11/54 [00:02<00:08,  5.36it/s]\u001b[A\n",
            " 22%|██▏       | 12/54 [00:02<00:08,  5.12it/s]\u001b[A\n",
            " 24%|██▍       | 13/54 [00:02<00:08,  4.78it/s]\u001b[A\n",
            " 26%|██▌       | 14/54 [00:02<00:08,  4.82it/s]\u001b[A\n",
            " 28%|██▊       | 15/54 [00:03<00:08,  4.62it/s]\u001b[A\n",
            " 30%|██▉       | 16/54 [00:03<00:07,  5.06it/s]\u001b[A\n",
            " 31%|███▏      | 17/54 [00:03<00:07,  5.21it/s]\u001b[A\n",
            " 33%|███▎      | 18/54 [00:03<00:07,  5.02it/s]\u001b[A\n",
            " 35%|███▌      | 19/54 [00:03<00:07,  4.77it/s]\u001b[A\n",
            " 37%|███▋      | 20/54 [00:03<00:06,  4.87it/s]\u001b[A\n",
            " 39%|███▉      | 21/54 [00:04<00:06,  5.29it/s]\u001b[A\n",
            " 41%|████      | 22/54 [00:04<00:06,  5.08it/s]\u001b[A\n",
            " 43%|████▎     | 23/54 [00:04<00:06,  4.82it/s]\u001b[A\n",
            " 44%|████▍     | 24/54 [00:04<00:05,  5.10it/s]\u001b[A\n",
            " 46%|████▋     | 25/54 [00:05<00:06,  4.49it/s]\u001b[A\n",
            " 48%|████▊     | 26/54 [00:05<00:06,  4.42it/s]\u001b[A\n",
            " 50%|█████     | 27/54 [00:05<00:05,  4.76it/s]\u001b[A\n",
            " 52%|█████▏    | 28/54 [00:05<00:05,  4.81it/s]\u001b[A\n",
            " 54%|█████▎    | 29/54 [00:05<00:04,  5.20it/s]\u001b[A\n",
            " 56%|█████▌    | 30/54 [00:05<00:04,  5.29it/s]\u001b[A\n",
            " 57%|█████▋    | 31/54 [00:06<00:04,  4.90it/s]\u001b[A\n",
            " 59%|█████▉    | 32/54 [00:06<00:04,  5.04it/s]\u001b[A\n",
            " 61%|██████    | 33/54 [00:06<00:04,  4.66it/s]\u001b[A\n",
            " 63%|██████▎   | 34/54 [00:06<00:04,  4.62it/s]\u001b[A\n",
            " 65%|██████▍   | 35/54 [00:07<00:04,  4.59it/s]\u001b[A\n",
            " 67%|██████▋   | 36/54 [00:07<00:04,  4.25it/s]\u001b[A\n",
            " 69%|██████▊   | 37/54 [00:07<00:03,  4.51it/s]\u001b[A\n",
            " 70%|███████   | 38/54 [00:07<00:03,  4.52it/s]\u001b[A\n",
            " 72%|███████▏  | 39/54 [00:08<00:03,  4.21it/s]\u001b[A\n",
            " 74%|███████▍  | 40/54 [00:08<00:03,  4.27it/s]\u001b[A\n",
            " 76%|███████▌  | 41/54 [00:08<00:02,  4.37it/s]\u001b[A\n",
            " 78%|███████▊  | 42/54 [00:08<00:02,  4.36it/s]\u001b[A\n",
            " 80%|███████▉  | 43/54 [00:09<00:02,  4.18it/s]\u001b[A\n",
            " 81%|████████▏ | 44/54 [00:09<00:02,  4.47it/s]\u001b[A\n",
            " 83%|████████▎ | 45/54 [00:09<00:02,  4.36it/s]\u001b[A\n",
            " 85%|████████▌ | 46/54 [00:09<00:01,  4.39it/s]\u001b[A\n",
            " 87%|████████▋ | 47/54 [00:09<00:01,  4.26it/s]\u001b[A\n",
            " 89%|████████▉ | 48/54 [00:10<00:01,  4.22it/s]\u001b[A\n",
            " 91%|█████████ | 49/54 [00:10<00:01,  4.66it/s]\u001b[A\n",
            " 93%|█████████▎| 50/54 [00:10<00:00,  4.68it/s]\u001b[A\n",
            " 94%|█████████▍| 51/54 [00:10<00:00,  4.65it/s]\u001b[A\n",
            " 96%|█████████▋| 52/54 [00:10<00:00,  4.66it/s]\u001b[A\n",
            " 98%|█████████▊| 53/54 [00:11<00:00,  4.95it/s]\u001b[A\n",
            "100%|██████████| 54/54 [00:11<00:00,  4.72it/s]\n",
            "\n",
            "  0%|          | 0/54 [00:00<?, ?it/s]\u001b[A"
          ],
          "name": "stderr"
        },
        {
          "output_type": "stream",
          "text": [
            "{'ner': 52.039941556782914}\n"
          ],
          "name": "stdout"
        },
        {
          "output_type": "stream",
          "text": [
            "\n",
            "  2%|▏         | 1/54 [00:00<00:12,  4.41it/s]\u001b[A\n",
            "  4%|▎         | 2/54 [00:00<00:11,  4.55it/s]\u001b[A\n",
            "  6%|▌         | 3/54 [00:00<00:11,  4.49it/s]\u001b[A\n",
            "  7%|▋         | 4/54 [00:00<00:12,  4.10it/s]\u001b[A\n",
            "  9%|▉         | 5/54 [00:01<00:11,  4.40it/s]\u001b[A\n",
            " 11%|█         | 6/54 [00:01<00:10,  4.71it/s]\u001b[A\n",
            " 13%|█▎        | 7/54 [00:01<00:09,  5.07it/s]\u001b[A\n",
            " 15%|█▍        | 8/54 [00:01<00:10,  4.44it/s]\u001b[A\n",
            " 17%|█▋        | 9/54 [00:02<00:10,  4.14it/s]\u001b[A\n",
            " 19%|█▊        | 10/54 [00:02<00:10,  4.36it/s]\u001b[A\n",
            " 20%|██        | 11/54 [00:02<00:09,  4.47it/s]\u001b[A\n",
            " 22%|██▏       | 12/54 [00:02<00:09,  4.55it/s]\u001b[A\n",
            " 24%|██▍       | 13/54 [00:02<00:09,  4.43it/s]\u001b[A\n",
            " 26%|██▌       | 14/54 [00:03<00:08,  4.62it/s]\u001b[A\n",
            " 28%|██▊       | 15/54 [00:03<00:08,  4.50it/s]\u001b[A\n",
            " 30%|██▉       | 16/54 [00:03<00:08,  4.64it/s]\u001b[A\n",
            " 31%|███▏      | 17/54 [00:03<00:07,  4.71it/s]\u001b[A\n",
            " 33%|███▎      | 18/54 [00:03<00:07,  4.77it/s]\u001b[A\n",
            " 35%|███▌      | 19/54 [00:04<00:07,  4.98it/s]\u001b[A\n",
            " 37%|███▋      | 20/54 [00:04<00:07,  4.40it/s]\u001b[A\n",
            " 39%|███▉      | 21/54 [00:04<00:07,  4.46it/s]\u001b[A\n",
            " 41%|████      | 22/54 [00:04<00:07,  4.55it/s]\u001b[A\n",
            " 43%|████▎     | 23/54 [00:05<00:06,  4.59it/s]\u001b[A\n",
            " 44%|████▍     | 24/54 [00:05<00:06,  4.90it/s]\u001b[A\n",
            " 46%|████▋     | 25/54 [00:05<00:06,  4.83it/s]\u001b[A\n",
            " 48%|████▊     | 26/54 [00:05<00:05,  5.07it/s]\u001b[A\n",
            " 50%|█████     | 27/54 [00:05<00:05,  4.62it/s]\u001b[A\n",
            " 52%|█████▏    | 28/54 [00:06<00:05,  4.89it/s]\u001b[A\n",
            " 54%|█████▎    | 29/54 [00:06<00:05,  4.67it/s]\u001b[A\n",
            " 56%|█████▌    | 30/54 [00:06<00:04,  4.92it/s]\u001b[A\n",
            " 57%|█████▋    | 31/54 [00:06<00:04,  5.02it/s]\u001b[A\n",
            " 59%|█████▉    | 32/54 [00:06<00:04,  4.86it/s]\u001b[A\n",
            " 61%|██████    | 33/54 [00:07<00:04,  5.11it/s]\u001b[A\n",
            " 63%|██████▎   | 34/54 [00:07<00:03,  5.35it/s]\u001b[A\n",
            " 65%|██████▍   | 35/54 [00:07<00:03,  5.15it/s]\u001b[A\n",
            " 67%|██████▋   | 36/54 [00:07<00:03,  4.65it/s]\u001b[A\n",
            " 69%|██████▊   | 37/54 [00:07<00:03,  4.69it/s]\u001b[A\n",
            " 70%|███████   | 38/54 [00:08<00:03,  4.91it/s]\u001b[A\n",
            " 72%|███████▏  | 39/54 [00:08<00:02,  5.04it/s]\u001b[A\n",
            " 74%|███████▍  | 40/54 [00:08<00:02,  5.07it/s]\u001b[A\n",
            " 76%|███████▌  | 41/54 [00:08<00:02,  4.55it/s]\u001b[A\n",
            " 78%|███████▊  | 42/54 [00:09<00:02,  4.19it/s]\u001b[A\n",
            " 80%|███████▉  | 43/54 [00:09<00:02,  4.51it/s]\u001b[A\n",
            " 81%|████████▏ | 44/54 [00:09<00:02,  4.72it/s]\u001b[A\n",
            " 83%|████████▎ | 45/54 [00:09<00:01,  4.94it/s]\u001b[A\n",
            " 85%|████████▌ | 46/54 [00:09<00:01,  4.93it/s]\u001b[A\n",
            " 87%|████████▋ | 47/54 [00:10<00:01,  4.78it/s]\u001b[A\n",
            " 89%|████████▉ | 48/54 [00:10<00:01,  4.87it/s]\u001b[A\n",
            " 91%|█████████ | 49/54 [00:10<00:00,  5.17it/s]\u001b[A\n",
            " 93%|█████████▎| 50/54 [00:10<00:00,  4.91it/s]\u001b[A\n",
            " 94%|█████████▍| 51/54 [00:10<00:00,  4.55it/s]\u001b[A\n",
            " 96%|█████████▋| 52/54 [00:11<00:00,  5.00it/s]\u001b[A\n",
            " 98%|█████████▊| 53/54 [00:11<00:00,  4.46it/s]\u001b[A\n",
            "100%|██████████| 54/54 [00:11<00:00,  4.71it/s]\n",
            "\n",
            "  0%|          | 0/54 [00:00<?, ?it/s]\u001b[A"
          ],
          "name": "stderr"
        },
        {
          "output_type": "stream",
          "text": [
            "{'ner': 56.233653001479446}\n"
          ],
          "name": "stdout"
        },
        {
          "output_type": "stream",
          "text": [
            "\n",
            "  2%|▏         | 1/54 [00:00<00:15,  3.52it/s]\u001b[A\n",
            "  4%|▎         | 2/54 [00:00<00:13,  3.78it/s]\u001b[A\n",
            "  6%|▌         | 3/54 [00:00<00:12,  4.03it/s]\u001b[A\n",
            "  7%|▋         | 4/54 [00:00<00:11,  4.31it/s]\u001b[A\n",
            "  9%|▉         | 5/54 [00:01<00:10,  4.46it/s]\u001b[A\n",
            " 11%|█         | 6/54 [00:01<00:11,  4.25it/s]\u001b[A\n",
            " 13%|█▎        | 7/54 [00:01<00:10,  4.67it/s]\u001b[A\n",
            " 15%|█▍        | 8/54 [00:01<00:09,  4.71it/s]\u001b[A\n",
            " 17%|█▋        | 9/54 [00:02<00:10,  4.34it/s]\u001b[A\n",
            " 19%|█▊        | 10/54 [00:02<00:09,  4.81it/s]\u001b[A\n",
            " 20%|██        | 11/54 [00:02<00:09,  4.43it/s]\u001b[A\n",
            " 22%|██▏       | 12/54 [00:02<00:09,  4.65it/s]\u001b[A\n",
            " 24%|██▍       | 13/54 [00:02<00:08,  5.03it/s]\u001b[A\n",
            " 26%|██▌       | 14/54 [00:02<00:07,  5.12it/s]\u001b[A\n",
            " 28%|██▊       | 15/54 [00:03<00:07,  5.27it/s]\u001b[A\n",
            " 30%|██▉       | 16/54 [00:03<00:07,  5.23it/s]\u001b[A\n",
            " 31%|███▏      | 17/54 [00:03<00:06,  5.48it/s]\u001b[A\n",
            " 33%|███▎      | 18/54 [00:03<00:07,  4.82it/s]\u001b[A\n",
            " 35%|███▌      | 19/54 [00:03<00:07,  4.83it/s]\u001b[A\n",
            " 37%|███▋      | 20/54 [00:04<00:07,  4.70it/s]\u001b[A\n",
            " 39%|███▉      | 21/54 [00:04<00:06,  5.06it/s]\u001b[A\n",
            " 41%|████      | 22/54 [00:04<00:06,  4.88it/s]\u001b[A\n",
            " 43%|████▎     | 23/54 [00:04<00:06,  4.46it/s]\u001b[A\n",
            " 44%|████▍     | 24/54 [00:05<00:06,  4.54it/s]\u001b[A\n",
            " 46%|████▋     | 25/54 [00:05<00:06,  4.57it/s]\u001b[A\n",
            " 48%|████▊     | 26/54 [00:05<00:06,  4.22it/s]\u001b[A\n",
            " 50%|█████     | 27/54 [00:05<00:06,  4.10it/s]\u001b[A\n",
            " 52%|█████▏    | 28/54 [00:06<00:06,  3.96it/s]\u001b[A\n",
            " 54%|█████▎    | 29/54 [00:06<00:05,  4.21it/s]\u001b[A\n",
            " 56%|█████▌    | 30/54 [00:06<00:05,  4.22it/s]\u001b[A\n",
            " 57%|█████▋    | 31/54 [00:06<00:04,  4.68it/s]\u001b[A\n",
            " 59%|█████▉    | 32/54 [00:06<00:04,  4.40it/s]\u001b[A\n",
            " 61%|██████    | 33/54 [00:07<00:04,  4.51it/s]\u001b[A\n",
            " 63%|██████▎   | 34/54 [00:07<00:04,  4.55it/s]\u001b[A\n",
            " 65%|██████▍   | 35/54 [00:07<00:03,  4.89it/s]\u001b[A\n",
            " 67%|██████▋   | 36/54 [00:07<00:03,  5.28it/s]\u001b[A\n",
            " 69%|██████▊   | 37/54 [00:07<00:03,  4.56it/s]\u001b[A\n",
            " 70%|███████   | 38/54 [00:08<00:03,  4.73it/s]\u001b[A\n",
            " 72%|███████▏  | 39/54 [00:08<00:03,  4.97it/s]\u001b[A\n",
            " 74%|███████▍  | 40/54 [00:08<00:03,  4.43it/s]\u001b[A\n",
            " 76%|███████▌  | 41/54 [00:08<00:02,  4.57it/s]\u001b[A\n",
            " 78%|███████▊  | 42/54 [00:09<00:02,  4.40it/s]\u001b[A\n",
            " 80%|███████▉  | 43/54 [00:09<00:02,  4.13it/s]\u001b[A\n",
            " 81%|████████▏ | 44/54 [00:09<00:02,  4.26it/s]\u001b[A\n",
            " 83%|████████▎ | 45/54 [00:09<00:02,  4.33it/s]\u001b[A\n",
            " 85%|████████▌ | 46/54 [00:09<00:01,  4.79it/s]\u001b[A\n",
            " 87%|████████▋ | 47/54 [00:10<00:01,  5.16it/s]\u001b[A\n",
            " 89%|████████▉ | 48/54 [00:10<00:01,  4.79it/s]\u001b[A\n",
            " 91%|█████████ | 49/54 [00:10<00:00,  5.25it/s]\u001b[A\n",
            " 93%|█████████▎| 50/54 [00:10<00:00,  4.94it/s]\u001b[A\n",
            " 94%|█████████▍| 51/54 [00:11<00:00,  4.64it/s]\u001b[A\n",
            " 96%|█████████▋| 52/54 [00:11<00:00,  4.89it/s]\u001b[A\n",
            " 98%|█████████▊| 53/54 [00:11<00:00,  4.84it/s]\u001b[A\n",
            "100%|██████████| 54/54 [00:11<00:00,  4.65it/s]\n",
            "\n",
            "  0%|          | 0/54 [00:00<?, ?it/s]\u001b[A\n",
            "  2%|▏         | 1/54 [00:00<00:09,  5.59it/s]\u001b[A"
          ],
          "name": "stderr"
        },
        {
          "output_type": "stream",
          "text": [
            "{'ner': 72.22204893290598}\n"
          ],
          "name": "stdout"
        },
        {
          "output_type": "stream",
          "text": [
            "\n",
            "  4%|▎         | 2/54 [00:00<00:09,  5.61it/s]\u001b[A\n",
            "  6%|▌         | 3/54 [00:00<00:10,  4.89it/s]\u001b[A\n",
            "  7%|▋         | 4/54 [00:00<00:11,  4.54it/s]\u001b[A\n",
            "  9%|▉         | 5/54 [00:01<00:10,  4.59it/s]\u001b[A\n",
            " 11%|█         | 6/54 [00:01<00:10,  4.41it/s]\u001b[A\n",
            " 13%|█▎        | 7/54 [00:01<00:09,  4.73it/s]\u001b[A\n",
            " 15%|█▍        | 8/54 [00:01<00:10,  4.38it/s]\u001b[A\n",
            " 17%|█▋        | 9/54 [00:01<00:09,  4.78it/s]\u001b[A\n",
            " 19%|█▊        | 10/54 [00:02<00:09,  4.72it/s]\u001b[A\n",
            " 20%|██        | 11/54 [00:02<00:09,  4.58it/s]\u001b[A\n",
            " 22%|██▏       | 12/54 [00:02<00:08,  4.92it/s]\u001b[A\n",
            " 24%|██▍       | 13/54 [00:02<00:08,  4.66it/s]\u001b[A\n",
            " 26%|██▌       | 14/54 [00:02<00:08,  4.99it/s]\u001b[A\n",
            " 28%|██▊       | 15/54 [00:03<00:07,  5.15it/s]\u001b[A\n",
            " 30%|██▉       | 16/54 [00:03<00:08,  4.62it/s]\u001b[A\n",
            " 31%|███▏      | 17/54 [00:03<00:08,  4.50it/s]\u001b[A\n",
            " 33%|███▎      | 18/54 [00:03<00:08,  4.47it/s]\u001b[A\n",
            " 35%|███▌      | 19/54 [00:04<00:07,  4.79it/s]\u001b[A\n",
            " 37%|███▋      | 20/54 [00:04<00:06,  5.10it/s]\u001b[A\n",
            " 39%|███▉      | 21/54 [00:04<00:06,  4.93it/s]\u001b[A\n",
            " 41%|████      | 22/54 [00:04<00:07,  4.53it/s]\u001b[A\n",
            " 43%|████▎     | 23/54 [00:04<00:07,  4.25it/s]\u001b[A\n",
            " 44%|████▍     | 24/54 [00:05<00:07,  4.04it/s]\u001b[A\n",
            " 46%|████▋     | 25/54 [00:05<00:06,  4.34it/s]\u001b[A\n",
            " 48%|████▊     | 26/54 [00:05<00:05,  4.69it/s]\u001b[A\n",
            " 50%|█████     | 27/54 [00:05<00:05,  4.64it/s]\u001b[A\n",
            " 52%|█████▏    | 28/54 [00:06<00:05,  4.79it/s]\u001b[A\n",
            " 54%|█████▎    | 29/54 [00:06<00:04,  5.00it/s]\u001b[A\n",
            " 56%|█████▌    | 30/54 [00:06<00:04,  5.20it/s]\u001b[A\n",
            " 57%|█████▋    | 31/54 [00:06<00:04,  5.55it/s]\u001b[A\n",
            " 59%|█████▉    | 32/54 [00:06<00:04,  5.17it/s]\u001b[A\n",
            " 61%|██████    | 33/54 [00:07<00:04,  4.75it/s]\u001b[A\n",
            " 63%|██████▎   | 34/54 [00:07<00:04,  4.65it/s]\u001b[A\n",
            " 65%|██████▍   | 35/54 [00:07<00:04,  4.33it/s]\u001b[A\n",
            " 67%|██████▋   | 36/54 [00:07<00:03,  4.76it/s]\u001b[A\n",
            " 69%|██████▊   | 37/54 [00:07<00:03,  4.53it/s]\u001b[A\n",
            " 70%|███████   | 38/54 [00:08<00:03,  4.84it/s]\u001b[A\n",
            " 72%|███████▏  | 39/54 [00:08<00:03,  4.79it/s]\u001b[A\n",
            " 74%|███████▍  | 40/54 [00:08<00:02,  5.16it/s]\u001b[A\n",
            " 76%|███████▌  | 41/54 [00:08<00:02,  4.74it/s]\u001b[A\n",
            " 78%|███████▊  | 42/54 [00:08<00:02,  5.13it/s]\u001b[A\n",
            " 80%|███████▉  | 43/54 [00:09<00:02,  4.59it/s]\u001b[A\n",
            " 81%|████████▏ | 44/54 [00:09<00:02,  4.96it/s]\u001b[A\n",
            " 83%|████████▎ | 45/54 [00:09<00:01,  4.77it/s]\u001b[A\n",
            " 85%|████████▌ | 46/54 [00:09<00:01,  5.16it/s]\u001b[A\n",
            " 87%|████████▋ | 47/54 [00:09<00:01,  4.47it/s]\u001b[A\n",
            " 89%|████████▉ | 48/54 [00:10<00:01,  4.46it/s]\u001b[A\n",
            " 91%|█████████ | 49/54 [00:10<00:01,  4.62it/s]\u001b[A\n",
            " 93%|█████████▎| 50/54 [00:10<00:00,  4.56it/s]\u001b[A\n",
            " 94%|█████████▍| 51/54 [00:10<00:00,  4.93it/s]\u001b[A\n",
            " 96%|█████████▋| 52/54 [00:11<00:00,  4.39it/s]\u001b[A\n",
            " 98%|█████████▊| 53/54 [00:11<00:00,  4.69it/s]\u001b[A\n",
            "100%|██████████| 54/54 [00:11<00:00,  4.71it/s]\n",
            "\n",
            "  0%|          | 0/54 [00:00<?, ?it/s]\u001b[A"
          ],
          "name": "stderr"
        },
        {
          "output_type": "stream",
          "text": [
            "{'ner': 44.70354157725394}\n"
          ],
          "name": "stdout"
        },
        {
          "output_type": "stream",
          "text": [
            "\n",
            "  2%|▏         | 1/54 [00:00<00:14,  3.74it/s]\u001b[A\n",
            "  4%|▎         | 2/54 [00:00<00:13,  3.92it/s]\u001b[A\n",
            "  6%|▌         | 3/54 [00:00<00:12,  4.25it/s]\u001b[A\n",
            "  7%|▋         | 4/54 [00:00<00:11,  4.35it/s]\u001b[A\n",
            "  9%|▉         | 5/54 [00:01<00:12,  4.03it/s]\u001b[A\n",
            " 11%|█         | 6/54 [00:01<00:11,  4.35it/s]\u001b[A\n",
            " 13%|█▎        | 7/54 [00:01<00:11,  4.11it/s]\u001b[A\n",
            " 15%|█▍        | 8/54 [00:01<00:11,  4.11it/s]\u001b[A\n",
            " 17%|█▋        | 9/54 [00:02<00:11,  4.01it/s]\u001b[A\n",
            " 19%|█▊        | 10/54 [00:02<00:10,  4.37it/s]\u001b[A\n",
            " 20%|██        | 11/54 [00:02<00:09,  4.72it/s]\u001b[A\n",
            " 22%|██▏       | 12/54 [00:02<00:08,  4.97it/s]\u001b[A\n",
            " 24%|██▍       | 13/54 [00:02<00:07,  5.20it/s]\u001b[A\n",
            " 26%|██▌       | 14/54 [00:03<00:08,  4.99it/s]\u001b[A\n",
            " 28%|██▊       | 15/54 [00:03<00:07,  5.17it/s]\u001b[A\n",
            " 30%|██▉       | 16/54 [00:03<00:07,  5.31it/s]\u001b[A\n",
            " 31%|███▏      | 17/54 [00:03<00:08,  4.59it/s]\u001b[A\n",
            " 33%|███▎      | 18/54 [00:03<00:07,  4.82it/s]\u001b[A\n",
            " 35%|███▌      | 19/54 [00:04<00:06,  5.10it/s]\u001b[A\n",
            " 37%|███▋      | 20/54 [00:04<00:06,  5.14it/s]\u001b[A\n",
            " 39%|███▉      | 21/54 [00:04<00:06,  5.25it/s]\u001b[A\n",
            " 41%|████      | 22/54 [00:04<00:06,  5.10it/s]\u001b[A\n",
            " 43%|████▎     | 23/54 [00:04<00:06,  4.98it/s]\u001b[A\n",
            " 44%|████▍     | 24/54 [00:05<00:06,  4.44it/s]\u001b[A\n",
            " 46%|████▋     | 25/54 [00:05<00:06,  4.72it/s]\u001b[A\n",
            " 48%|████▊     | 26/54 [00:05<00:05,  5.02it/s]\u001b[A\n",
            " 50%|█████     | 27/54 [00:05<00:05,  4.75it/s]\u001b[A\n",
            " 52%|█████▏    | 28/54 [00:05<00:05,  5.15it/s]\u001b[A\n",
            " 54%|█████▎    | 29/54 [00:06<00:05,  4.92it/s]\u001b[A\n",
            " 56%|█████▌    | 30/54 [00:06<00:05,  4.58it/s]\u001b[A\n",
            " 57%|█████▋    | 31/54 [00:06<00:04,  4.72it/s]\u001b[A\n",
            " 59%|█████▉    | 32/54 [00:06<00:04,  4.88it/s]\u001b[A\n",
            " 61%|██████    | 33/54 [00:06<00:03,  5.28it/s]\u001b[A\n",
            " 63%|██████▎   | 34/54 [00:07<00:03,  5.22it/s]\u001b[A\n",
            " 65%|██████▍   | 35/54 [00:07<00:03,  5.13it/s]\u001b[A\n",
            " 67%|██████▋   | 36/54 [00:07<00:03,  5.28it/s]\u001b[A\n",
            " 69%|██████▊   | 37/54 [00:07<00:03,  5.48it/s]\u001b[A\n",
            " 70%|███████   | 38/54 [00:07<00:03,  4.81it/s]\u001b[A\n",
            " 72%|███████▏  | 39/54 [00:08<00:02,  5.06it/s]\u001b[A\n",
            " 74%|███████▍  | 40/54 [00:08<00:02,  4.86it/s]\u001b[A\n",
            " 76%|███████▌  | 41/54 [00:08<00:02,  5.23it/s]\u001b[A\n",
            " 78%|███████▊  | 42/54 [00:08<00:02,  5.23it/s]\u001b[A\n",
            " 80%|███████▉  | 43/54 [00:08<00:02,  5.00it/s]\u001b[A\n",
            " 81%|████████▏ | 44/54 [00:09<00:02,  4.84it/s]\u001b[A\n",
            " 83%|████████▎ | 45/54 [00:09<00:01,  4.99it/s]\u001b[A\n",
            " 85%|████████▌ | 46/54 [00:09<00:01,  5.24it/s]\u001b[A\n",
            " 87%|████████▋ | 47/54 [00:09<00:01,  4.73it/s]\u001b[A\n",
            " 89%|████████▉ | 48/54 [00:09<00:01,  4.53it/s]\u001b[A\n",
            " 91%|█████████ | 49/54 [00:10<00:01,  4.53it/s]\u001b[A\n",
            " 93%|█████████▎| 50/54 [00:10<00:00,  4.30it/s]\u001b[A\n",
            " 94%|█████████▍| 51/54 [00:10<00:00,  4.23it/s]\u001b[A\n",
            " 96%|█████████▋| 52/54 [00:10<00:00,  4.35it/s]\u001b[A\n",
            " 98%|█████████▊| 53/54 [00:11<00:00,  4.77it/s]\u001b[A\n",
            "100%|██████████| 54/54 [00:11<00:00,  4.77it/s]\n",
            "\n",
            "  0%|          | 0/54 [00:00<?, ?it/s]\u001b[A\n",
            "  2%|▏         | 1/54 [00:00<00:09,  5.51it/s]\u001b[A"
          ],
          "name": "stderr"
        },
        {
          "output_type": "stream",
          "text": [
            "{'ner': 38.63828559372459}\n"
          ],
          "name": "stdout"
        },
        {
          "output_type": "stream",
          "text": [
            "\n",
            "  4%|▎         | 2/54 [00:00<00:09,  5.39it/s]\u001b[A\n",
            "  6%|▌         | 3/54 [00:00<00:09,  5.15it/s]\u001b[A\n",
            "  7%|▋         | 4/54 [00:00<00:09,  5.41it/s]\u001b[A\n",
            "  9%|▉         | 5/54 [00:00<00:08,  5.48it/s]\u001b[A\n",
            " 11%|█         | 6/54 [00:01<00:08,  5.67it/s]\u001b[A\n",
            " 13%|█▎        | 7/54 [00:01<00:08,  5.44it/s]\u001b[A\n",
            " 15%|█▍        | 8/54 [00:01<00:08,  5.23it/s]\u001b[A\n",
            " 17%|█▋        | 9/54 [00:01<00:08,  5.51it/s]\u001b[A\n",
            " 19%|█▊        | 10/54 [00:01<00:07,  5.75it/s]\u001b[A\n",
            " 20%|██        | 11/54 [00:01<00:07,  5.79it/s]\u001b[A\n",
            " 22%|██▏       | 12/54 [00:02<00:07,  5.43it/s]\u001b[A\n",
            " 24%|██▍       | 13/54 [00:02<00:07,  5.24it/s]\u001b[A\n",
            " 26%|██▌       | 14/54 [00:02<00:08,  4.51it/s]\u001b[A\n",
            " 28%|██▊       | 15/54 [00:02<00:08,  4.73it/s]\u001b[A\n",
            " 30%|██▉       | 16/54 [00:03<00:07,  4.87it/s]\u001b[A\n",
            " 31%|███▏      | 17/54 [00:03<00:07,  5.15it/s]\u001b[A\n",
            " 33%|███▎      | 18/54 [00:03<00:07,  5.03it/s]\u001b[A\n",
            " 35%|███▌      | 19/54 [00:03<00:07,  4.82it/s]\u001b[A\n",
            " 37%|███▋      | 20/54 [00:03<00:07,  4.80it/s]\u001b[A\n",
            " 39%|███▉      | 21/54 [00:04<00:06,  4.93it/s]\u001b[A\n",
            " 41%|████      | 22/54 [00:04<00:06,  5.00it/s]\u001b[A\n",
            " 43%|████▎     | 23/54 [00:04<00:06,  5.05it/s]\u001b[A\n",
            " 44%|████▍     | 24/54 [00:04<00:06,  4.75it/s]\u001b[A\n",
            " 46%|████▋     | 25/54 [00:04<00:06,  4.80it/s]\u001b[A\n",
            " 48%|████▊     | 26/54 [00:05<00:05,  4.77it/s]\u001b[A\n",
            " 50%|█████     | 27/54 [00:05<00:05,  5.19it/s]\u001b[A\n",
            " 52%|█████▏    | 28/54 [00:05<00:05,  4.98it/s]\u001b[A\n",
            " 54%|█████▎    | 29/54 [00:05<00:05,  4.59it/s]\u001b[A\n",
            " 56%|█████▌    | 30/54 [00:05<00:05,  4.44it/s]\u001b[A\n",
            " 57%|█████▋    | 31/54 [00:06<00:05,  4.50it/s]\u001b[A\n",
            " 59%|█████▉    | 32/54 [00:06<00:04,  4.45it/s]\u001b[A\n",
            " 61%|██████    | 33/54 [00:06<00:04,  4.21it/s]\u001b[A\n",
            " 63%|██████▎   | 34/54 [00:06<00:04,  4.50it/s]\u001b[A\n",
            " 65%|██████▍   | 35/54 [00:07<00:04,  4.47it/s]\u001b[A\n",
            " 67%|██████▋   | 36/54 [00:07<00:04,  4.46it/s]\u001b[A\n",
            " 69%|██████▊   | 37/54 [00:07<00:04,  4.24it/s]\u001b[A\n",
            " 70%|███████   | 38/54 [00:07<00:03,  4.10it/s]\u001b[A\n",
            " 72%|███████▏  | 39/54 [00:08<00:03,  4.00it/s]\u001b[A\n",
            " 74%|███████▍  | 40/54 [00:08<00:03,  4.43it/s]\u001b[A\n",
            " 76%|███████▌  | 41/54 [00:08<00:02,  4.76it/s]\u001b[A\n",
            " 78%|███████▊  | 42/54 [00:08<00:02,  4.97it/s]\u001b[A\n",
            " 80%|███████▉  | 43/54 [00:08<00:02,  5.18it/s]\u001b[A\n",
            " 81%|████████▏ | 44/54 [00:09<00:01,  5.39it/s]\u001b[A\n",
            " 83%|████████▎ | 45/54 [00:09<00:01,  4.72it/s]\u001b[A\n",
            " 85%|████████▌ | 46/54 [00:09<00:01,  5.03it/s]\u001b[A\n",
            " 87%|████████▋ | 47/54 [00:09<00:01,  5.31it/s]\u001b[A\n",
            " 89%|████████▉ | 48/54 [00:09<00:01,  4.73it/s]\u001b[A\n",
            " 91%|█████████ | 49/54 [00:10<00:01,  4.62it/s]\u001b[A\n",
            " 93%|█████████▎| 50/54 [00:10<00:00,  4.89it/s]\u001b[A\n",
            " 94%|█████████▍| 51/54 [00:10<00:00,  4.70it/s]\u001b[A\n",
            " 96%|█████████▋| 52/54 [00:10<00:00,  4.45it/s]\u001b[A\n",
            " 98%|█████████▊| 53/54 [00:10<00:00,  4.44it/s]\u001b[A\n",
            "100%|██████████| 54/54 [00:11<00:00,  4.81it/s]\n",
            "\n",
            "  0%|          | 0/54 [00:00<?, ?it/s]\u001b[A\n",
            "  2%|▏         | 1/54 [00:00<00:09,  5.88it/s]\u001b[A"
          ],
          "name": "stderr"
        },
        {
          "output_type": "stream",
          "text": [
            "{'ner': 47.27090109021627}\n"
          ],
          "name": "stdout"
        },
        {
          "output_type": "stream",
          "text": [
            "\n",
            "  4%|▎         | 2/54 [00:00<00:09,  5.71it/s]\u001b[A\n",
            "  6%|▌         | 3/54 [00:00<00:09,  5.28it/s]\u001b[A\n",
            "  7%|▋         | 4/54 [00:00<00:10,  4.99it/s]\u001b[A\n",
            "  9%|▉         | 5/54 [00:01<00:09,  4.98it/s]\u001b[A\n",
            " 11%|█         | 6/54 [00:01<00:10,  4.57it/s]\u001b[A\n",
            " 13%|█▎        | 7/54 [00:01<00:09,  5.01it/s]\u001b[A\n",
            " 15%|█▍        | 8/54 [00:01<00:09,  4.72it/s]\u001b[A\n",
            " 17%|█▋        | 9/54 [00:01<00:09,  4.61it/s]\u001b[A\n",
            " 19%|█▊        | 10/54 [00:02<00:09,  4.61it/s]\u001b[A\n",
            " 20%|██        | 11/54 [00:02<00:10,  4.24it/s]\u001b[A\n",
            " 22%|██▏       | 12/54 [00:02<00:09,  4.28it/s]\u001b[A\n",
            " 24%|██▍       | 13/54 [00:02<00:08,  4.62it/s]\u001b[A\n",
            " 26%|██▌       | 14/54 [00:03<00:08,  4.65it/s]\u001b[A\n",
            " 28%|██▊       | 15/54 [00:03<00:09,  4.32it/s]\u001b[A\n",
            " 30%|██▉       | 16/54 [00:03<00:09,  4.18it/s]\u001b[A\n",
            " 31%|███▏      | 17/54 [00:03<00:09,  4.04it/s]\u001b[A\n",
            " 33%|███▎      | 18/54 [00:03<00:08,  4.35it/s]\u001b[A\n",
            " 35%|███▌      | 19/54 [00:04<00:07,  4.55it/s]\u001b[A\n",
            " 37%|███▋      | 20/54 [00:04<00:07,  4.61it/s]\u001b[A\n",
            " 39%|███▉      | 21/54 [00:04<00:07,  4.56it/s]\u001b[A\n",
            " 41%|████      | 22/54 [00:04<00:07,  4.22it/s]\u001b[A\n",
            " 43%|████▎     | 23/54 [00:05<00:07,  4.27it/s]\u001b[A\n",
            " 44%|████▍     | 24/54 [00:05<00:06,  4.41it/s]\u001b[A\n",
            " 46%|████▋     | 25/54 [00:05<00:06,  4.70it/s]\u001b[A\n",
            " 48%|████▊     | 26/54 [00:05<00:05,  4.79it/s]\u001b[A\n",
            " 50%|█████     | 27/54 [00:05<00:06,  4.37it/s]\u001b[A\n",
            " 52%|█████▏    | 28/54 [00:06<00:05,  4.87it/s]\u001b[A\n",
            " 54%|█████▎    | 29/54 [00:06<00:05,  5.00it/s]\u001b[A\n",
            " 56%|█████▌    | 30/54 [00:06<00:04,  5.03it/s]\u001b[A\n",
            " 57%|█████▋    | 31/54 [00:06<00:04,  4.84it/s]\u001b[A\n",
            " 59%|█████▉    | 32/54 [00:06<00:04,  4.88it/s]\u001b[A\n",
            " 61%|██████    | 33/54 [00:07<00:04,  4.61it/s]\u001b[A\n",
            " 63%|██████▎   | 34/54 [00:07<00:04,  4.54it/s]\u001b[A\n",
            " 65%|██████▍   | 35/54 [00:07<00:04,  4.38it/s]\u001b[A\n",
            " 67%|██████▋   | 36/54 [00:07<00:04,  4.44it/s]\u001b[A\n",
            " 69%|██████▊   | 37/54 [00:08<00:03,  4.43it/s]\u001b[A\n",
            " 70%|███████   | 38/54 [00:08<00:03,  4.90it/s]\u001b[A\n",
            " 72%|███████▏  | 39/54 [00:08<00:03,  4.72it/s]\u001b[A\n",
            " 74%|███████▍  | 40/54 [00:08<00:02,  4.90it/s]\u001b[A\n",
            " 76%|███████▌  | 41/54 [00:08<00:02,  4.72it/s]\u001b[A\n",
            " 78%|███████▊  | 42/54 [00:09<00:02,  4.65it/s]\u001b[A\n",
            " 80%|███████▉  | 43/54 [00:09<00:02,  4.62it/s]\u001b[A\n",
            " 81%|████████▏ | 44/54 [00:09<00:02,  4.95it/s]\u001b[A\n",
            " 83%|████████▎ | 45/54 [00:09<00:01,  4.76it/s]\u001b[A\n",
            " 85%|████████▌ | 46/54 [00:09<00:01,  4.71it/s]\u001b[A\n",
            " 87%|████████▋ | 47/54 [00:10<00:01,  4.37it/s]\u001b[A\n",
            " 89%|████████▉ | 48/54 [00:10<00:01,  4.45it/s]\u001b[A\n",
            " 91%|█████████ | 49/54 [00:10<00:01,  4.57it/s]\u001b[A\n",
            " 93%|█████████▎| 50/54 [00:10<00:00,  4.51it/s]\u001b[A\n",
            " 94%|█████████▍| 51/54 [00:11<00:00,  4.22it/s]\u001b[A\n",
            " 96%|█████████▋| 52/54 [00:11<00:00,  4.65it/s]\u001b[A\n",
            " 98%|█████████▊| 53/54 [00:11<00:00,  4.39it/s]\u001b[A\n",
            "100%|██████████| 54/54 [00:11<00:00,  4.59it/s]\n",
            "\n",
            "  0%|          | 0/54 [00:00<?, ?it/s]\u001b[A\n",
            "  2%|▏         | 1/54 [00:00<00:09,  5.88it/s]\u001b[A"
          ],
          "name": "stderr"
        },
        {
          "output_type": "stream",
          "text": [
            "{'ner': 86.26648426397058}\n"
          ],
          "name": "stdout"
        },
        {
          "output_type": "stream",
          "text": [
            "\n",
            "  4%|▎         | 2/54 [00:00<00:08,  5.80it/s]\u001b[A\n",
            "  6%|▌         | 3/54 [00:00<00:08,  5.79it/s]\u001b[A\n",
            "  7%|▋         | 4/54 [00:00<00:09,  5.09it/s]\u001b[A\n",
            "  9%|▉         | 5/54 [00:00<00:09,  4.93it/s]\u001b[A\n",
            " 11%|█         | 6/54 [00:01<00:10,  4.80it/s]\u001b[A\n",
            " 13%|█▎        | 7/54 [00:01<00:09,  5.14it/s]\u001b[A\n",
            " 15%|█▍        | 8/54 [00:01<00:09,  4.71it/s]\u001b[A\n",
            " 17%|█▋        | 9/54 [00:01<00:10,  4.26it/s]\u001b[A\n",
            " 19%|█▊        | 10/54 [00:02<00:09,  4.42it/s]\u001b[A\n",
            " 20%|██        | 11/54 [00:02<00:09,  4.54it/s]\u001b[A\n",
            " 22%|██▏       | 12/54 [00:02<00:09,  4.28it/s]\u001b[A\n",
            " 24%|██▍       | 13/54 [00:02<00:09,  4.29it/s]\u001b[A\n",
            " 26%|██▌       | 14/54 [00:03<00:09,  4.14it/s]\u001b[A\n",
            " 28%|██▊       | 15/54 [00:03<00:08,  4.53it/s]\u001b[A\n",
            " 30%|██▉       | 16/54 [00:03<00:08,  4.37it/s]\u001b[A\n",
            " 31%|███▏      | 17/54 [00:03<00:07,  4.80it/s]\u001b[A\n",
            " 33%|███▎      | 18/54 [00:03<00:08,  4.48it/s]\u001b[A\n",
            " 35%|███▌      | 19/54 [00:04<00:07,  4.48it/s]\u001b[A\n",
            " 37%|███▋      | 20/54 [00:04<00:07,  4.64it/s]\u001b[A\n",
            " 39%|███▉      | 21/54 [00:04<00:07,  4.45it/s]\u001b[A\n",
            " 41%|████      | 22/54 [00:04<00:07,  4.43it/s]\u001b[A\n",
            " 43%|████▎     | 23/54 [00:05<00:06,  4.47it/s]\u001b[A\n",
            " 44%|████▍     | 24/54 [00:05<00:06,  4.42it/s]\u001b[A\n",
            " 46%|████▋     | 25/54 [00:05<00:06,  4.30it/s]\u001b[A\n",
            " 48%|████▊     | 26/54 [00:05<00:06,  4.15it/s]\u001b[A\n",
            " 50%|█████     | 27/54 [00:05<00:06,  4.40it/s]\u001b[A\n",
            " 52%|█████▏    | 28/54 [00:06<00:05,  4.92it/s]\u001b[A\n",
            " 54%|█████▎    | 29/54 [00:06<00:05,  4.97it/s]\u001b[A\n",
            " 56%|█████▌    | 30/54 [00:06<00:04,  5.16it/s]\u001b[A\n",
            " 57%|█████▋    | 31/54 [00:06<00:04,  5.13it/s]\u001b[A\n",
            " 59%|█████▉    | 32/54 [00:06<00:04,  5.38it/s]\u001b[A\n",
            " 61%|██████    | 33/54 [00:07<00:04,  4.89it/s]\u001b[A\n",
            " 63%|██████▎   | 34/54 [00:07<00:04,  4.55it/s]\u001b[A\n",
            " 65%|██████▍   | 35/54 [00:07<00:04,  4.55it/s]\u001b[A\n",
            " 67%|██████▋   | 36/54 [00:07<00:03,  4.82it/s]\u001b[A\n",
            " 69%|██████▊   | 37/54 [00:07<00:03,  5.20it/s]\u001b[A\n",
            " 70%|███████   | 38/54 [00:08<00:03,  5.17it/s]\u001b[A\n",
            " 72%|███████▏  | 39/54 [00:08<00:03,  4.98it/s]\u001b[A\n",
            " 74%|███████▍  | 40/54 [00:08<00:03,  4.51it/s]\u001b[A\n",
            " 76%|███████▌  | 41/54 [00:08<00:02,  4.88it/s]\u001b[A\n",
            " 78%|███████▊  | 42/54 [00:09<00:02,  4.60it/s]\u001b[A\n",
            " 80%|███████▉  | 43/54 [00:09<00:02,  5.01it/s]\u001b[A\n",
            " 81%|████████▏ | 44/54 [00:09<00:01,  5.18it/s]\u001b[A\n",
            " 83%|████████▎ | 45/54 [00:09<00:01,  5.00it/s]\u001b[A\n",
            " 85%|████████▌ | 46/54 [00:09<00:01,  5.31it/s]\u001b[A\n",
            " 87%|████████▋ | 47/54 [00:09<00:01,  5.04it/s]\u001b[A\n",
            " 89%|████████▉ | 48/54 [00:10<00:01,  5.23it/s]\u001b[A\n",
            " 91%|█████████ | 49/54 [00:10<00:00,  5.09it/s]\u001b[A\n",
            " 93%|█████████▎| 50/54 [00:10<00:00,  5.28it/s]\u001b[A\n",
            " 94%|█████████▍| 51/54 [00:10<00:00,  4.96it/s]\u001b[A\n",
            " 96%|█████████▋| 52/54 [00:10<00:00,  4.68it/s]\u001b[A\n",
            " 98%|█████████▊| 53/54 [00:11<00:00,  4.60it/s]\u001b[A\n",
            "100%|██████████| 54/54 [00:11<00:00,  4.74it/s]\n",
            "\n",
            "  0%|          | 0/54 [00:00<?, ?it/s]\u001b[A\n",
            "  2%|▏         | 1/54 [00:00<00:09,  5.66it/s]\u001b[A"
          ],
          "name": "stderr"
        },
        {
          "output_type": "stream",
          "text": [
            "{'ner': 59.36220173661252}\n"
          ],
          "name": "stdout"
        },
        {
          "output_type": "stream",
          "text": [
            "\n",
            "  4%|▎         | 2/54 [00:00<00:10,  4.86it/s]\u001b[A\n",
            "  6%|▌         | 3/54 [00:00<00:11,  4.56it/s]\u001b[A\n",
            "  7%|▋         | 4/54 [00:00<00:10,  4.95it/s]\u001b[A\n",
            "  9%|▉         | 5/54 [00:01<00:11,  4.43it/s]\u001b[A\n",
            " 11%|█         | 6/54 [00:01<00:10,  4.47it/s]\u001b[A\n",
            " 13%|█▎        | 7/54 [00:01<00:10,  4.42it/s]\u001b[A\n",
            " 15%|█▍        | 8/54 [00:01<00:10,  4.23it/s]\u001b[A\n",
            " 17%|█▋        | 9/54 [00:02<00:09,  4.57it/s]\u001b[A\n",
            " 19%|█▊        | 10/54 [00:02<00:08,  4.98it/s]\u001b[A\n",
            " 20%|██        | 11/54 [00:02<00:08,  4.99it/s]\u001b[A\n",
            " 22%|██▏       | 12/54 [00:02<00:08,  4.83it/s]\u001b[A\n",
            " 24%|██▍       | 13/54 [00:02<00:08,  4.72it/s]\u001b[A\n",
            " 26%|██▌       | 14/54 [00:03<00:08,  4.94it/s]\u001b[A\n",
            " 28%|██▊       | 15/54 [00:03<00:08,  4.50it/s]\u001b[A\n",
            " 30%|██▉       | 16/54 [00:03<00:07,  4.90it/s]\u001b[A\n",
            " 31%|███▏      | 17/54 [00:03<00:07,  5.12it/s]\u001b[A\n",
            " 33%|███▎      | 18/54 [00:03<00:07,  4.81it/s]\u001b[A\n",
            " 35%|███▌      | 19/54 [00:04<00:06,  5.01it/s]\u001b[A\n",
            " 37%|███▋      | 20/54 [00:04<00:06,  5.15it/s]\u001b[A\n",
            " 39%|███▉      | 21/54 [00:04<00:06,  4.73it/s]\u001b[A\n",
            " 41%|████      | 22/54 [00:04<00:06,  4.73it/s]\u001b[A\n",
            " 43%|████▎     | 23/54 [00:04<00:06,  4.95it/s]\u001b[A\n",
            " 44%|████▍     | 24/54 [00:05<00:05,  5.20it/s]\u001b[A\n",
            " 46%|████▋     | 25/54 [00:05<00:05,  5.49it/s]\u001b[A\n",
            " 48%|████▊     | 26/54 [00:05<00:05,  5.35it/s]\u001b[A\n",
            " 50%|█████     | 27/54 [00:05<00:04,  5.51it/s]\u001b[A\n",
            " 52%|█████▏    | 28/54 [00:05<00:05,  5.10it/s]\u001b[A\n",
            " 54%|█████▎    | 29/54 [00:05<00:04,  5.10it/s]\u001b[A\n",
            " 56%|█████▌    | 30/54 [00:06<00:04,  5.25it/s]\u001b[A\n",
            " 57%|█████▋    | 31/54 [00:06<00:04,  5.03it/s]\u001b[A\n",
            " 59%|█████▉    | 32/54 [00:06<00:04,  5.23it/s]\u001b[A\n",
            " 61%|██████    | 33/54 [00:06<00:04,  4.83it/s]\u001b[A\n",
            " 63%|██████▎   | 34/54 [00:06<00:03,  5.17it/s]\u001b[A\n",
            " 65%|██████▍   | 35/54 [00:07<00:03,  4.78it/s]\u001b[A\n",
            " 67%|██████▋   | 36/54 [00:07<00:03,  4.71it/s]\u001b[A\n",
            " 69%|██████▊   | 37/54 [00:07<00:03,  5.01it/s]\u001b[A\n",
            " 70%|███████   | 38/54 [00:07<00:03,  5.21it/s]\u001b[A\n",
            " 72%|███████▏  | 39/54 [00:08<00:03,  4.63it/s]\u001b[A\n",
            " 74%|███████▍  | 40/54 [00:08<00:02,  4.68it/s]\u001b[A\n",
            " 76%|███████▌  | 41/54 [00:08<00:02,  5.12it/s]\u001b[A\n",
            " 78%|███████▊  | 42/54 [00:08<00:02,  4.81it/s]\u001b[A\n",
            " 80%|███████▉  | 43/54 [00:08<00:02,  4.49it/s]\u001b[A\n",
            " 81%|████████▏ | 44/54 [00:09<00:02,  4.77it/s]\u001b[A\n",
            " 83%|████████▎ | 45/54 [00:09<00:01,  5.13it/s]\u001b[A\n",
            " 85%|████████▌ | 46/54 [00:09<00:01,  5.05it/s]\u001b[A\n",
            " 87%|████████▋ | 47/54 [00:09<00:01,  5.16it/s]\u001b[A\n",
            " 89%|████████▉ | 48/54 [00:09<00:01,  4.92it/s]\u001b[A\n",
            " 91%|█████████ | 49/54 [00:10<00:01,  4.74it/s]\u001b[A\n",
            " 93%|█████████▎| 50/54 [00:10<00:00,  4.87it/s]\u001b[A\n",
            " 94%|█████████▍| 51/54 [00:10<00:00,  4.44it/s]\u001b[A\n",
            " 96%|█████████▋| 52/54 [00:10<00:00,  4.35it/s]\u001b[A\n",
            " 98%|█████████▊| 53/54 [00:11<00:00,  4.33it/s]\u001b[A\n",
            "100%|██████████| 54/54 [00:11<00:00,  4.78it/s]\n",
            "\n",
            "  0%|          | 0/54 [00:00<?, ?it/s]\u001b[A"
          ],
          "name": "stderr"
        },
        {
          "output_type": "stream",
          "text": [
            "{'ner': 61.99374989576752}\n"
          ],
          "name": "stdout"
        },
        {
          "output_type": "stream",
          "text": [
            "\n",
            "  2%|▏         | 1/54 [00:00<00:11,  4.51it/s]\u001b[A\n",
            "  4%|▎         | 2/54 [00:00<00:11,  4.41it/s]\u001b[A\n",
            "  6%|▌         | 3/54 [00:00<00:11,  4.27it/s]\u001b[A\n",
            "  7%|▋         | 4/54 [00:00<00:11,  4.48it/s]\u001b[A\n",
            "  9%|▉         | 5/54 [00:01<00:10,  4.50it/s]\u001b[A\n",
            " 11%|█         | 6/54 [00:01<00:09,  4.88it/s]\u001b[A\n",
            " 13%|█▎        | 7/54 [00:01<00:08,  5.24it/s]\u001b[A\n",
            " 15%|█▍        | 8/54 [00:01<00:08,  5.23it/s]\u001b[A\n",
            " 17%|█▋        | 9/54 [00:01<00:09,  4.90it/s]\u001b[A\n",
            " 19%|█▊        | 10/54 [00:02<00:09,  4.88it/s]\u001b[A\n",
            " 20%|██        | 11/54 [00:02<00:09,  4.34it/s]\u001b[A\n",
            " 22%|██▏       | 12/54 [00:02<00:09,  4.43it/s]\u001b[A\n",
            " 24%|██▍       | 13/54 [00:02<00:08,  4.83it/s]\u001b[A\n",
            " 26%|██▌       | 14/54 [00:03<00:08,  4.49it/s]\u001b[A\n",
            " 28%|██▊       | 15/54 [00:03<00:08,  4.64it/s]\u001b[A\n",
            " 30%|██▉       | 16/54 [00:03<00:07,  5.01it/s]\u001b[A\n",
            " 31%|███▏      | 17/54 [00:03<00:07,  5.14it/s]\u001b[A\n",
            " 33%|███▎      | 18/54 [00:03<00:07,  4.52it/s]\u001b[A\n",
            " 35%|███▌      | 19/54 [00:04<00:07,  4.78it/s]\u001b[A\n",
            " 37%|███▋      | 20/54 [00:04<00:08,  4.18it/s]\u001b[A\n",
            " 39%|███▉      | 21/54 [00:04<00:07,  4.16it/s]\u001b[A\n",
            " 41%|████      | 22/54 [00:04<00:07,  4.29it/s]\u001b[A\n",
            " 43%|████▎     | 23/54 [00:04<00:06,  4.75it/s]\u001b[A\n",
            " 44%|████▍     | 24/54 [00:05<00:06,  4.86it/s]\u001b[A\n",
            " 46%|████▋     | 25/54 [00:05<00:05,  5.14it/s]\u001b[A\n",
            " 48%|████▊     | 26/54 [00:05<00:05,  5.31it/s]\u001b[A\n",
            " 50%|█████     | 27/54 [00:05<00:04,  5.52it/s]\u001b[A\n",
            " 52%|█████▏    | 28/54 [00:05<00:05,  5.11it/s]\u001b[A\n",
            " 54%|█████▎    | 29/54 [00:06<00:04,  5.27it/s]\u001b[A\n",
            " 56%|█████▌    | 30/54 [00:06<00:05,  4.73it/s]\u001b[A\n",
            " 57%|█████▋    | 31/54 [00:06<00:04,  4.78it/s]\u001b[A\n",
            " 59%|█████▉    | 32/54 [00:06<00:04,  4.88it/s]\u001b[A\n",
            " 61%|██████    | 33/54 [00:06<00:04,  5.13it/s]\u001b[A\n",
            " 63%|██████▎   | 34/54 [00:07<00:04,  4.84it/s]\u001b[A\n",
            " 65%|██████▍   | 35/54 [00:07<00:04,  4.71it/s]\u001b[A\n",
            " 67%|██████▋   | 36/54 [00:07<00:03,  4.64it/s]\u001b[A\n",
            " 69%|██████▊   | 37/54 [00:07<00:03,  4.93it/s]\u001b[A\n",
            " 70%|███████   | 38/54 [00:07<00:03,  5.14it/s]\u001b[A\n",
            " 72%|███████▏  | 39/54 [00:08<00:02,  5.41it/s]\u001b[A\n",
            " 74%|███████▍  | 40/54 [00:08<00:02,  5.27it/s]\u001b[A\n",
            " 76%|███████▌  | 41/54 [00:08<00:02,  5.00it/s]\u001b[A\n",
            " 78%|███████▊  | 42/54 [00:08<00:02,  4.58it/s]\u001b[A\n",
            " 80%|███████▉  | 43/54 [00:08<00:02,  4.54it/s]\u001b[A\n",
            " 81%|████████▏ | 44/54 [00:09<00:02,  4.73it/s]\u001b[A\n",
            " 83%|████████▎ | 45/54 [00:09<00:02,  4.49it/s]\u001b[A\n",
            " 85%|████████▌ | 46/54 [00:09<00:01,  4.65it/s]\u001b[A\n",
            " 87%|████████▋ | 47/54 [00:09<00:01,  4.44it/s]\u001b[A\n",
            " 89%|████████▉ | 48/54 [00:10<00:01,  4.01it/s]\u001b[A\n",
            " 91%|█████████ | 49/54 [00:10<00:01,  4.27it/s]\u001b[A\n",
            " 93%|█████████▎| 50/54 [00:10<00:00,  4.39it/s]\u001b[A\n",
            " 94%|█████████▍| 51/54 [00:10<00:00,  4.52it/s]\u001b[A\n",
            " 96%|█████████▋| 52/54 [00:11<00:00,  4.56it/s]\u001b[A\n",
            " 98%|█████████▊| 53/54 [00:11<00:00,  4.41it/s]\u001b[A\n",
            "100%|██████████| 54/54 [00:11<00:00,  4.69it/s]\n",
            "\n",
            "  0%|          | 0/54 [00:00<?, ?it/s]\u001b[A\n",
            "  2%|▏         | 1/54 [00:00<00:09,  5.83it/s]\u001b[A"
          ],
          "name": "stderr"
        },
        {
          "output_type": "stream",
          "text": [
            "{'ner': 72.95007861826481}\n"
          ],
          "name": "stdout"
        },
        {
          "output_type": "stream",
          "text": [
            "\n",
            "  4%|▎         | 2/54 [00:00<00:09,  5.45it/s]\u001b[A\n",
            "  6%|▌         | 3/54 [00:00<00:10,  4.99it/s]\u001b[A\n",
            "  7%|▋         | 4/54 [00:00<00:10,  4.78it/s]\u001b[A\n",
            "  9%|▉         | 5/54 [00:01<00:10,  4.59it/s]\u001b[A\n",
            " 11%|█         | 6/54 [00:01<00:10,  4.71it/s]\u001b[A\n",
            " 13%|█▎        | 7/54 [00:01<00:10,  4.42it/s]\u001b[A\n",
            " 15%|█▍        | 8/54 [00:01<00:09,  4.81it/s]\u001b[A\n",
            " 17%|█▋        | 9/54 [00:01<00:09,  4.98it/s]\u001b[A\n",
            " 19%|█▊        | 10/54 [00:02<00:08,  5.23it/s]\u001b[A\n",
            " 20%|██        | 11/54 [00:02<00:08,  4.93it/s]\u001b[A\n",
            " 22%|██▏       | 12/54 [00:02<00:09,  4.61it/s]\u001b[A\n",
            " 24%|██▍       | 13/54 [00:02<00:09,  4.22it/s]\u001b[A\n",
            " 26%|██▌       | 14/54 [00:03<00:09,  4.38it/s]\u001b[A\n",
            " 28%|██▊       | 15/54 [00:03<00:09,  4.31it/s]\u001b[A\n",
            " 30%|██▉       | 16/54 [00:03<00:08,  4.65it/s]\u001b[A\n",
            " 31%|███▏      | 17/54 [00:03<00:08,  4.50it/s]\u001b[A\n",
            " 33%|███▎      | 18/54 [00:03<00:07,  4.86it/s]\u001b[A\n",
            " 35%|███▌      | 19/54 [00:04<00:06,  5.01it/s]\u001b[A\n",
            " 37%|███▋      | 20/54 [00:04<00:06,  4.90it/s]\u001b[A\n",
            " 39%|███▉      | 21/54 [00:04<00:06,  4.96it/s]\u001b[A\n",
            " 41%|████      | 22/54 [00:04<00:07,  4.50it/s]\u001b[A\n",
            " 43%|████▎     | 23/54 [00:04<00:06,  4.72it/s]\u001b[A\n",
            " 44%|████▍     | 24/54 [00:05<00:05,  5.07it/s]\u001b[A\n",
            " 46%|████▋     | 25/54 [00:05<00:06,  4.83it/s]\u001b[A\n",
            " 48%|████▊     | 26/54 [00:05<00:05,  5.09it/s]\u001b[A\n",
            " 50%|█████     | 27/54 [00:05<00:05,  4.92it/s]\u001b[A\n",
            " 52%|█████▏    | 28/54 [00:05<00:05,  4.70it/s]\u001b[A\n",
            " 54%|█████▎    | 29/54 [00:06<00:05,  4.35it/s]\u001b[A\n",
            " 56%|█████▌    | 30/54 [00:06<00:05,  4.22it/s]\u001b[A\n",
            " 57%|█████▋    | 31/54 [00:06<00:05,  4.18it/s]\u001b[A\n",
            " 59%|█████▉    | 32/54 [00:06<00:05,  4.07it/s]\u001b[A\n",
            " 61%|██████    | 33/54 [00:07<00:04,  4.26it/s]\u001b[A\n",
            " 63%|██████▎   | 34/54 [00:07<00:04,  4.03it/s]\u001b[A\n",
            " 65%|██████▍   | 35/54 [00:07<00:04,  4.35it/s]\u001b[A\n",
            " 67%|██████▋   | 36/54 [00:07<00:03,  4.86it/s]\u001b[A\n",
            " 69%|██████▊   | 37/54 [00:07<00:03,  5.24it/s]\u001b[A\n",
            " 70%|███████   | 38/54 [00:08<00:03,  4.86it/s]\u001b[A\n",
            " 72%|███████▏  | 39/54 [00:08<00:03,  4.74it/s]\u001b[A\n",
            " 74%|███████▍  | 40/54 [00:08<00:02,  5.12it/s]\u001b[A\n",
            " 76%|███████▌  | 41/54 [00:08<00:02,  4.79it/s]\u001b[A\n",
            " 78%|███████▊  | 42/54 [00:09<00:02,  4.40it/s]\u001b[A\n",
            " 80%|███████▉  | 43/54 [00:09<00:02,  4.54it/s]\u001b[A\n",
            " 81%|████████▏ | 44/54 [00:09<00:02,  4.56it/s]\u001b[A\n",
            " 83%|████████▎ | 45/54 [00:09<00:02,  4.08it/s]\u001b[A\n",
            " 85%|████████▌ | 46/54 [00:09<00:01,  4.46it/s]\u001b[A\n",
            " 87%|████████▋ | 47/54 [00:10<00:01,  4.48it/s]\u001b[A\n",
            " 89%|████████▉ | 48/54 [00:10<00:01,  4.54it/s]\u001b[A\n",
            " 91%|█████████ | 49/54 [00:10<00:01,  4.77it/s]\u001b[A\n",
            " 93%|█████████▎| 50/54 [00:10<00:00,  4.88it/s]\u001b[A\n",
            " 94%|█████████▍| 51/54 [00:10<00:00,  4.96it/s]\u001b[A\n",
            " 96%|█████████▋| 52/54 [00:11<00:00,  4.63it/s]\u001b[A\n",
            " 98%|█████████▊| 53/54 [00:11<00:00,  4.57it/s]\u001b[A\n",
            "100%|██████████| 54/54 [00:11<00:00,  4.60it/s]\n",
            "\n",
            "  0%|          | 0/54 [00:00<?, ?it/s]\u001b[A"
          ],
          "name": "stderr"
        },
        {
          "output_type": "stream",
          "text": [
            "{'ner': 40.72339488959381}\n"
          ],
          "name": "stdout"
        },
        {
          "output_type": "stream",
          "text": [
            "\n",
            "  2%|▏         | 1/54 [00:00<00:14,  3.62it/s]\u001b[A\n",
            "  4%|▎         | 2/54 [00:00<00:13,  3.84it/s]\u001b[A\n",
            "  6%|▌         | 3/54 [00:00<00:12,  3.96it/s]\u001b[A\n",
            "  7%|▋         | 4/54 [00:00<00:11,  4.44it/s]\u001b[A\n",
            "  9%|▉         | 5/54 [00:01<00:10,  4.59it/s]\u001b[A\n",
            " 11%|█         | 6/54 [00:01<00:11,  4.35it/s]\u001b[A\n",
            " 13%|█▎        | 7/54 [00:01<00:10,  4.42it/s]\u001b[A\n",
            " 15%|█▍        | 8/54 [00:01<00:10,  4.48it/s]\u001b[A\n",
            " 17%|█▋        | 9/54 [00:02<00:09,  4.53it/s]\u001b[A\n",
            " 19%|█▊        | 10/54 [00:02<00:09,  4.87it/s]\u001b[A\n",
            " 20%|██        | 11/54 [00:02<00:08,  5.18it/s]\u001b[A\n",
            " 22%|██▏       | 12/54 [00:02<00:07,  5.30it/s]\u001b[A\n",
            " 24%|██▍       | 13/54 [00:02<00:07,  5.29it/s]\u001b[A\n",
            " 26%|██▌       | 14/54 [00:02<00:08,  5.00it/s]\u001b[A\n",
            " 28%|██▊       | 15/54 [00:03<00:08,  4.52it/s]\u001b[A\n",
            " 30%|██▉       | 16/54 [00:03<00:08,  4.68it/s]\u001b[A\n",
            " 31%|███▏      | 17/54 [00:03<00:07,  4.74it/s]\u001b[A\n",
            " 33%|███▎      | 18/54 [00:03<00:08,  4.22it/s]\u001b[A\n",
            " 35%|███▌      | 19/54 [00:04<00:08,  3.95it/s]\u001b[A\n",
            " 37%|███▋      | 20/54 [00:04<00:08,  4.10it/s]\u001b[A\n",
            " 39%|███▉      | 21/54 [00:04<00:08,  3.98it/s]\u001b[A\n",
            " 41%|████      | 22/54 [00:04<00:07,  4.25it/s]\u001b[A\n",
            " 43%|████▎     | 23/54 [00:05<00:07,  4.36it/s]\u001b[A\n",
            " 44%|████▍     | 24/54 [00:05<00:06,  4.49it/s]\u001b[A\n",
            " 46%|████▋     | 25/54 [00:05<00:06,  4.51it/s]\u001b[A\n",
            " 48%|████▊     | 26/54 [00:05<00:05,  4.94it/s]\u001b[A\n",
            " 50%|█████     | 27/54 [00:05<00:05,  5.11it/s]\u001b[A\n",
            " 52%|█████▏    | 28/54 [00:06<00:04,  5.38it/s]\u001b[A\n",
            " 54%|█████▎    | 29/54 [00:06<00:04,  5.19it/s]\u001b[A\n",
            " 56%|█████▌    | 30/54 [00:06<00:05,  4.78it/s]\u001b[A\n",
            " 57%|█████▋    | 31/54 [00:06<00:04,  4.61it/s]\u001b[A\n",
            " 59%|█████▉    | 32/54 [00:06<00:04,  4.40it/s]\u001b[A\n",
            " 61%|██████    | 33/54 [00:07<00:05,  4.14it/s]\u001b[A\n",
            " 63%|██████▎   | 34/54 [00:07<00:04,  4.17it/s]\u001b[A\n",
            " 65%|██████▍   | 35/54 [00:07<00:04,  4.56it/s]\u001b[A\n",
            " 67%|██████▋   | 36/54 [00:07<00:04,  4.20it/s]\u001b[A\n",
            " 69%|██████▊   | 37/54 [00:08<00:03,  4.41it/s]\u001b[A\n",
            " 70%|███████   | 38/54 [00:08<00:03,  4.36it/s]\u001b[A\n",
            " 72%|███████▏  | 39/54 [00:08<00:03,  4.47it/s]\u001b[A\n",
            " 74%|███████▍  | 40/54 [00:08<00:03,  4.57it/s]\u001b[A\n",
            " 76%|███████▌  | 41/54 [00:09<00:02,  4.45it/s]\u001b[A\n",
            " 78%|███████▊  | 42/54 [00:09<00:02,  4.47it/s]\u001b[A\n",
            " 80%|███████▉  | 43/54 [00:09<00:02,  4.49it/s]\u001b[A\n",
            " 81%|████████▏ | 44/54 [00:09<00:02,  4.35it/s]\u001b[A\n",
            " 83%|████████▎ | 45/54 [00:09<00:01,  4.67it/s]\u001b[A\n",
            " 85%|████████▌ | 46/54 [00:10<00:01,  5.02it/s]\u001b[A\n",
            " 87%|████████▋ | 47/54 [00:10<00:01,  4.48it/s]\u001b[A\n",
            " 89%|████████▉ | 48/54 [00:10<00:01,  4.29it/s]\u001b[A\n",
            " 91%|█████████ | 49/54 [00:10<00:01,  4.51it/s]\u001b[A\n",
            " 93%|█████████▎| 50/54 [00:10<00:00,  4.56it/s]\u001b[A\n",
            " 94%|█████████▍| 51/54 [00:11<00:00,  4.74it/s]\u001b[A\n",
            " 96%|█████████▋| 52/54 [00:11<00:00,  5.07it/s]\u001b[A\n",
            " 98%|█████████▊| 53/54 [00:11<00:00,  5.22it/s]\u001b[A\n",
            "100%|██████████| 54/54 [00:11<00:00,  4.61it/s]\n",
            "\n",
            "  0%|          | 0/54 [00:00<?, ?it/s]\u001b[A"
          ],
          "name": "stderr"
        },
        {
          "output_type": "stream",
          "text": [
            "{'ner': 71.7388373909095}\n"
          ],
          "name": "stdout"
        },
        {
          "output_type": "stream",
          "text": [
            "\n",
            "  2%|▏         | 1/54 [00:00<00:10,  4.86it/s]\u001b[A\n",
            "  4%|▎         | 2/54 [00:00<00:10,  4.78it/s]\u001b[A\n",
            "  6%|▌         | 3/54 [00:00<00:10,  4.92it/s]\u001b[A\n",
            "  7%|▋         | 4/54 [00:00<00:10,  4.79it/s]\u001b[A\n",
            "  9%|▉         | 5/54 [00:01<00:10,  4.61it/s]\u001b[A\n",
            " 11%|█         | 6/54 [00:01<00:09,  4.82it/s]\u001b[A\n",
            " 13%|█▎        | 7/54 [00:01<00:10,  4.68it/s]\u001b[A\n",
            " 15%|█▍        | 8/54 [00:01<00:09,  4.72it/s]\u001b[A\n",
            " 17%|█▋        | 9/54 [00:01<00:09,  4.63it/s]\u001b[A\n",
            " 19%|█▊        | 10/54 [00:02<00:10,  4.38it/s]\u001b[A\n",
            " 20%|██        | 11/54 [00:02<00:10,  3.99it/s]\u001b[A\n",
            " 22%|██▏       | 12/54 [00:02<00:10,  4.13it/s]\u001b[A\n",
            " 24%|██▍       | 13/54 [00:02<00:09,  4.47it/s]\u001b[A\n",
            " 26%|██▌       | 14/54 [00:03<00:08,  4.48it/s]\u001b[A\n",
            " 28%|██▊       | 15/54 [00:03<00:08,  4.66it/s]\u001b[A\n",
            " 30%|██▉       | 16/54 [00:03<00:08,  4.62it/s]\u001b[A\n",
            " 31%|███▏      | 17/54 [00:03<00:07,  4.94it/s]\u001b[A\n",
            " 33%|███▎      | 18/54 [00:03<00:06,  5.27it/s]\u001b[A\n",
            " 35%|███▌      | 19/54 [00:04<00:06,  5.35it/s]\u001b[A\n",
            " 37%|███▋      | 20/54 [00:04<00:06,  5.06it/s]\u001b[A\n",
            " 39%|███▉      | 21/54 [00:04<00:07,  4.69it/s]\u001b[A\n",
            " 41%|████      | 22/54 [00:04<00:07,  4.22it/s]\u001b[A\n",
            " 43%|████▎     | 23/54 [00:04<00:07,  4.38it/s]\u001b[A\n",
            " 44%|████▍     | 24/54 [00:05<00:06,  4.64it/s]\u001b[A\n",
            " 46%|████▋     | 25/54 [00:05<00:05,  5.00it/s]\u001b[A\n",
            " 48%|████▊     | 26/54 [00:05<00:06,  4.43it/s]\u001b[A\n",
            " 50%|█████     | 27/54 [00:05<00:06,  4.33it/s]\u001b[A\n",
            " 52%|█████▏    | 28/54 [00:06<00:05,  4.55it/s]\u001b[A\n",
            " 54%|█████▎    | 29/54 [00:06<00:05,  4.38it/s]\u001b[A\n",
            " 56%|█████▌    | 30/54 [00:06<00:05,  4.29it/s]\u001b[A\n",
            " 57%|█████▋    | 31/54 [00:06<00:04,  4.77it/s]\u001b[A\n",
            " 59%|█████▉    | 32/54 [00:06<00:04,  4.56it/s]\u001b[A\n",
            " 61%|██████    | 33/54 [00:07<00:04,  4.73it/s]\u001b[A\n",
            " 63%|██████▎   | 34/54 [00:07<00:04,  4.44it/s]\u001b[A\n",
            " 65%|██████▍   | 35/54 [00:07<00:04,  4.72it/s]\u001b[A\n",
            " 67%|██████▋   | 36/54 [00:07<00:03,  4.79it/s]\u001b[A\n",
            " 69%|██████▊   | 37/54 [00:08<00:03,  4.35it/s]\u001b[A\n",
            " 70%|███████   | 38/54 [00:08<00:04,  3.72it/s]\u001b[A\n",
            " 72%|███████▏  | 39/54 [00:08<00:04,  3.39it/s]\u001b[A\n",
            " 74%|███████▍  | 40/54 [00:09<00:03,  3.57it/s]\u001b[A\n",
            " 76%|███████▌  | 41/54 [00:09<00:03,  3.46it/s]\u001b[A\n",
            " 78%|███████▊  | 42/54 [00:09<00:03,  3.38it/s]\u001b[A\n",
            " 80%|███████▉  | 43/54 [00:09<00:03,  3.41it/s]\u001b[A\n",
            " 81%|████████▏ | 44/54 [00:10<00:03,  3.30it/s]\u001b[A\n",
            " 83%|████████▎ | 45/54 [00:10<00:02,  3.26it/s]\u001b[A\n",
            " 85%|████████▌ | 46/54 [00:10<00:02,  3.30it/s]\u001b[A\n",
            " 87%|████████▋ | 47/54 [00:11<00:01,  3.68it/s]\u001b[A\n",
            " 89%|████████▉ | 48/54 [00:11<00:01,  3.65it/s]\u001b[A\n",
            " 91%|█████████ | 49/54 [00:11<00:01,  3.84it/s]\u001b[A\n",
            " 93%|█████████▎| 50/54 [00:11<00:01,  3.94it/s]\u001b[A\n",
            " 94%|█████████▍| 51/54 [00:12<00:00,  4.19it/s]\u001b[A\n",
            " 96%|█████████▋| 52/54 [00:12<00:00,  4.58it/s]\u001b[A\n",
            " 98%|█████████▊| 53/54 [00:12<00:00,  4.39it/s]\u001b[A\n",
            "100%|██████████| 54/54 [00:12<00:00,  4.26it/s]\n",
            "\n",
            "  0%|          | 0/54 [00:00<?, ?it/s]\u001b[A\n"
          ],
          "name": "stderr"
        },
        {
          "output_type": "stream",
          "text": [
            "{'ner': 68.4587579351186}\n"
          ],
          "name": "stdout"
        },
        {
          "output_type": "stream",
          "text": [
            "  2%|▏         | 1/54 [00:00<00:10,  5.10it/s]\u001b[A\n",
            "  4%|▎         | 2/54 [00:00<00:10,  5.10it/s]\u001b[A\n",
            "  6%|▌         | 3/54 [00:00<00:11,  4.55it/s]\u001b[A\n",
            "  7%|▋         | 4/54 [00:00<00:10,  4.70it/s]\u001b[A\n",
            "  9%|▉         | 5/54 [00:01<00:11,  4.24it/s]\u001b[A\n",
            " 11%|█         | 6/54 [00:01<00:11,  4.06it/s]\u001b[A\n",
            " 13%|█▎        | 7/54 [00:01<00:10,  4.35it/s]\u001b[A\n",
            " 15%|█▍        | 8/54 [00:01<00:10,  4.48it/s]\u001b[A\n",
            " 17%|█▋        | 9/54 [00:02<00:09,  4.55it/s]\u001b[A\n",
            " 19%|█▊        | 10/54 [00:02<00:09,  4.46it/s]\u001b[A\n",
            " 20%|██        | 11/54 [00:02<00:08,  4.85it/s]\u001b[A\n",
            " 22%|██▏       | 12/54 [00:02<00:09,  4.43it/s]\u001b[A\n",
            " 24%|██▍       | 13/54 [00:02<00:09,  4.24it/s]\u001b[A\n",
            " 26%|██▌       | 14/54 [00:03<00:09,  4.22it/s]\u001b[A\n",
            " 28%|██▊       | 15/54 [00:03<00:09,  4.17it/s]\u001b[A\n",
            " 30%|██▉       | 16/54 [00:03<00:09,  4.19it/s]\u001b[A\n",
            " 31%|███▏      | 17/54 [00:03<00:08,  4.47it/s]\u001b[A\n",
            " 33%|███▎      | 18/54 [00:04<00:07,  4.72it/s]\u001b[A\n",
            " 35%|███▌      | 19/54 [00:04<00:07,  4.94it/s]\u001b[A\n",
            " 37%|███▋      | 20/54 [00:04<00:07,  4.71it/s]\u001b[A\n",
            " 39%|███▉      | 21/54 [00:04<00:07,  4.38it/s]\u001b[A\n",
            " 41%|████      | 22/54 [00:04<00:07,  4.45it/s]\u001b[A\n",
            " 43%|████▎     | 23/54 [00:05<00:07,  4.05it/s]\u001b[A\n",
            " 44%|████▍     | 24/54 [00:05<00:07,  4.19it/s]\u001b[A\n",
            " 46%|████▋     | 25/54 [00:05<00:06,  4.27it/s]\u001b[A\n",
            " 48%|████▊     | 26/54 [00:05<00:06,  4.40it/s]\u001b[A\n",
            " 50%|█████     | 27/54 [00:06<00:06,  4.35it/s]\u001b[A\n",
            " 52%|█████▏    | 28/54 [00:06<00:05,  4.67it/s]\u001b[A\n",
            " 54%|█████▎    | 29/54 [00:06<00:05,  4.83it/s]\u001b[A\n",
            " 56%|█████▌    | 30/54 [00:06<00:04,  5.10it/s]\u001b[A\n",
            " 57%|█████▋    | 31/54 [00:06<00:04,  5.11it/s]\u001b[A\n",
            " 59%|█████▉    | 32/54 [00:07<00:05,  4.33it/s]\u001b[A\n",
            " 61%|██████    | 33/54 [00:07<00:04,  4.56it/s]\u001b[A\n",
            " 63%|██████▎   | 34/54 [00:07<00:04,  4.83it/s]\u001b[A\n",
            " 65%|██████▍   | 35/54 [00:07<00:03,  4.91it/s]\u001b[A\n",
            " 67%|██████▋   | 36/54 [00:07<00:03,  5.13it/s]\u001b[A\n",
            " 69%|██████▊   | 37/54 [00:08<00:03,  4.40it/s]\u001b[A\n",
            " 70%|███████   | 38/54 [00:08<00:03,  4.79it/s]\u001b[A\n",
            " 72%|███████▏  | 39/54 [00:08<00:03,  4.26it/s]\u001b[A\n",
            " 74%|███████▍  | 40/54 [00:08<00:03,  4.56it/s]\u001b[A\n",
            " 76%|███████▌  | 41/54 [00:09<00:02,  4.71it/s]\u001b[A\n",
            " 78%|███████▊  | 42/54 [00:09<00:02,  4.53it/s]\u001b[A\n",
            " 80%|███████▉  | 43/54 [00:09<00:02,  4.02it/s]\u001b[A\n",
            " 81%|████████▏ | 44/54 [00:09<00:02,  4.10it/s]\u001b[A\n",
            " 83%|████████▎ | 45/54 [00:10<00:02,  4.02it/s]\u001b[A\n",
            " 85%|████████▌ | 46/54 [00:10<00:01,  4.23it/s]\u001b[A\n",
            " 87%|████████▋ | 47/54 [00:10<00:01,  4.55it/s]\u001b[A\n",
            " 89%|████████▉ | 48/54 [00:10<00:01,  4.38it/s]\u001b[A\n",
            " 91%|█████████ | 49/54 [00:10<00:01,  4.66it/s]\u001b[A\n",
            " 93%|█████████▎| 50/54 [00:11<00:00,  4.24it/s]\u001b[A\n",
            " 94%|█████████▍| 51/54 [00:11<00:00,  4.61it/s]\u001b[A\n",
            " 96%|█████████▋| 52/54 [00:11<00:00,  4.33it/s]\u001b[A\n",
            " 98%|█████████▊| 53/54 [00:11<00:00,  4.59it/s]\u001b[A\n",
            "100%|██████████| 54/54 [00:12<00:00,  4.49it/s]\n",
            "\n",
            "  0%|          | 0/54 [00:00<?, ?it/s]\u001b[A\n",
            "  2%|▏         | 1/54 [00:00<00:08,  6.03it/s]\u001b[A"
          ],
          "name": "stderr"
        },
        {
          "output_type": "stream",
          "text": [
            "{'ner': 67.26694390188507}\n"
          ],
          "name": "stdout"
        },
        {
          "output_type": "stream",
          "text": [
            "\n",
            "  4%|▎         | 2/54 [00:00<00:09,  5.75it/s]\u001b[A\n",
            "  6%|▌         | 3/54 [00:00<00:09,  5.53it/s]\u001b[A\n",
            "  7%|▋         | 4/54 [00:00<00:09,  5.40it/s]\u001b[A\n",
            "  9%|▉         | 5/54 [00:00<00:08,  5.49it/s]\u001b[A\n",
            " 11%|█         | 6/54 [00:01<00:08,  5.50it/s]\u001b[A\n",
            " 13%|█▎        | 7/54 [00:01<00:09,  5.06it/s]\u001b[A\n",
            " 15%|█▍        | 8/54 [00:01<00:10,  4.53it/s]\u001b[A\n",
            " 17%|█▋        | 9/54 [00:01<00:09,  4.52it/s]\u001b[A\n",
            " 19%|█▊        | 10/54 [00:02<00:09,  4.87it/s]\u001b[A\n",
            " 20%|██        | 11/54 [00:02<00:08,  5.25it/s]\u001b[A\n",
            " 22%|██▏       | 12/54 [00:02<00:08,  5.18it/s]\u001b[A\n",
            " 24%|██▍       | 13/54 [00:02<00:08,  4.59it/s]\u001b[A\n",
            " 26%|██▌       | 14/54 [00:02<00:08,  4.70it/s]\u001b[A\n",
            " 28%|██▊       | 15/54 [00:03<00:08,  4.80it/s]\u001b[A\n",
            " 30%|██▉       | 16/54 [00:03<00:08,  4.70it/s]\u001b[A\n",
            " 31%|███▏      | 17/54 [00:03<00:07,  5.04it/s]\u001b[A\n",
            " 33%|███▎      | 18/54 [00:03<00:07,  4.80it/s]\u001b[A\n",
            " 35%|███▌      | 19/54 [00:03<00:06,  5.01it/s]\u001b[A\n",
            " 37%|███▋      | 20/54 [00:04<00:07,  4.67it/s]\u001b[A\n",
            " 39%|███▉      | 21/54 [00:04<00:07,  4.27it/s]\u001b[A\n",
            " 41%|████      | 22/54 [00:04<00:06,  4.64it/s]\u001b[A\n",
            " 43%|████▎     | 23/54 [00:04<00:06,  4.99it/s]\u001b[A\n",
            " 44%|████▍     | 24/54 [00:04<00:05,  5.26it/s]\u001b[A\n",
            " 46%|████▋     | 25/54 [00:05<00:06,  4.73it/s]\u001b[A\n",
            " 48%|████▊     | 26/54 [00:05<00:05,  4.86it/s]\u001b[A\n",
            " 50%|█████     | 27/54 [00:05<00:05,  5.19it/s]\u001b[A\n",
            " 52%|█████▏    | 28/54 [00:05<00:05,  5.02it/s]\u001b[A\n",
            " 54%|█████▎    | 29/54 [00:05<00:05,  4.54it/s]\u001b[A\n",
            " 56%|█████▌    | 30/54 [00:06<00:04,  4.92it/s]\u001b[A\n",
            " 57%|█████▋    | 31/54 [00:06<00:05,  4.47it/s]\u001b[A\n",
            " 59%|█████▉    | 32/54 [00:06<00:04,  4.85it/s]\u001b[A\n",
            " 61%|██████    | 33/54 [00:06<00:04,  4.75it/s]\u001b[A\n",
            " 63%|██████▎   | 34/54 [00:07<00:04,  4.39it/s]\u001b[A\n",
            " 65%|██████▍   | 35/54 [00:07<00:04,  4.24it/s]\u001b[A\n",
            " 67%|██████▋   | 36/54 [00:07<00:04,  4.42it/s]\u001b[A\n",
            " 69%|██████▊   | 37/54 [00:07<00:03,  4.77it/s]\u001b[A\n",
            " 70%|███████   | 38/54 [00:07<00:03,  4.33it/s]\u001b[A\n",
            " 72%|███████▏  | 39/54 [00:08<00:03,  4.56it/s]\u001b[A\n",
            " 74%|███████▍  | 40/54 [00:08<00:03,  4.31it/s]\u001b[A\n",
            " 76%|███████▌  | 41/54 [00:08<00:03,  4.21it/s]\u001b[A\n",
            " 78%|███████▊  | 42/54 [00:08<00:02,  4.67it/s]\u001b[A\n",
            " 80%|███████▉  | 43/54 [00:09<00:02,  4.42it/s]\u001b[A\n",
            " 81%|████████▏ | 44/54 [00:09<00:02,  4.46it/s]\u001b[A\n",
            " 83%|████████▎ | 45/54 [00:09<00:01,  4.86it/s]\u001b[A\n",
            " 85%|████████▌ | 46/54 [00:09<00:01,  4.58it/s]\u001b[A\n",
            " 87%|████████▋ | 47/54 [00:09<00:01,  4.59it/s]\u001b[A\n",
            " 89%|████████▉ | 48/54 [00:10<00:01,  4.54it/s]\u001b[A\n",
            " 91%|█████████ | 49/54 [00:10<00:01,  4.46it/s]\u001b[A\n",
            " 93%|█████████▎| 50/54 [00:10<00:00,  4.53it/s]\u001b[A\n",
            " 94%|█████████▍| 51/54 [00:10<00:00,  4.97it/s]\u001b[A\n",
            " 96%|█████████▋| 52/54 [00:11<00:00,  4.49it/s]\u001b[A\n",
            " 98%|█████████▊| 53/54 [00:11<00:00,  4.14it/s]\u001b[A\n",
            "100%|██████████| 54/54 [00:11<00:00,  4.65it/s]\n",
            "\n",
            "  0%|          | 0/54 [00:00<?, ?it/s]\u001b[A"
          ],
          "name": "stderr"
        },
        {
          "output_type": "stream",
          "text": [
            "{'ner': 59.76008744748404}\n"
          ],
          "name": "stdout"
        },
        {
          "output_type": "stream",
          "text": [
            "\n",
            "  2%|▏         | 1/54 [00:00<00:12,  4.30it/s]\u001b[A\n",
            "  4%|▎         | 2/54 [00:00<00:11,  4.62it/s]\u001b[A\n",
            "  6%|▌         | 3/54 [00:00<00:11,  4.50it/s]\u001b[A\n",
            "  7%|▋         | 4/54 [00:00<00:11,  4.21it/s]\u001b[A\n",
            "  9%|▉         | 5/54 [00:01<00:11,  4.34it/s]\u001b[A\n",
            " 11%|█         | 6/54 [00:01<00:11,  4.24it/s]\u001b[A\n",
            " 13%|█▎        | 7/54 [00:01<00:11,  4.22it/s]\u001b[A\n",
            " 15%|█▍        | 8/54 [00:01<00:11,  4.15it/s]\u001b[A\n",
            " 17%|█▋        | 9/54 [00:02<00:09,  4.53it/s]\u001b[A\n",
            " 19%|█▊        | 10/54 [00:02<00:09,  4.47it/s]\u001b[A\n",
            " 20%|██        | 11/54 [00:02<00:09,  4.61it/s]\u001b[A\n",
            " 22%|██▏       | 12/54 [00:02<00:09,  4.47it/s]\u001b[A\n",
            " 24%|██▍       | 13/54 [00:02<00:08,  4.58it/s]\u001b[A\n",
            " 26%|██▌       | 14/54 [00:03<00:08,  4.50it/s]\u001b[A\n",
            " 28%|██▊       | 15/54 [00:03<00:07,  4.89it/s]\u001b[A\n",
            " 30%|██▉       | 16/54 [00:03<00:07,  4.92it/s]\u001b[A\n",
            " 31%|███▏      | 17/54 [00:03<00:08,  4.44it/s]\u001b[A\n",
            " 33%|███▎      | 18/54 [00:03<00:07,  4.67it/s]\u001b[A\n",
            " 35%|███▌      | 19/54 [00:04<00:06,  5.09it/s]\u001b[A\n",
            " 37%|███▋      | 20/54 [00:04<00:07,  4.47it/s]\u001b[A\n",
            " 39%|███▉      | 21/54 [00:04<00:06,  4.86it/s]\u001b[A\n",
            " 41%|████      | 22/54 [00:04<00:06,  5.03it/s]\u001b[A\n",
            " 43%|████▎     | 23/54 [00:05<00:06,  4.66it/s]\u001b[A\n",
            " 44%|████▍     | 24/54 [00:05<00:07,  4.26it/s]\u001b[A\n",
            " 46%|████▋     | 25/54 [00:05<00:07,  4.04it/s]\u001b[A\n",
            " 48%|████▊     | 26/54 [00:05<00:06,  4.22it/s]\u001b[A\n",
            " 50%|█████     | 27/54 [00:06<00:06,  4.11it/s]\u001b[A\n",
            " 52%|█████▏    | 28/54 [00:06<00:05,  4.42it/s]\u001b[A\n",
            " 54%|█████▎    | 29/54 [00:06<00:05,  4.63it/s]\u001b[A\n",
            " 56%|█████▌    | 30/54 [00:06<00:04,  4.91it/s]\u001b[A\n",
            " 57%|█████▋    | 31/54 [00:06<00:04,  4.74it/s]\u001b[A\n",
            " 59%|█████▉    | 32/54 [00:07<00:04,  4.92it/s]\u001b[A\n",
            " 61%|██████    | 33/54 [00:07<00:04,  5.10it/s]\u001b[A\n",
            " 63%|██████▎   | 34/54 [00:07<00:03,  5.33it/s]\u001b[A\n",
            " 65%|██████▍   | 35/54 [00:07<00:03,  5.18it/s]\u001b[A\n",
            " 67%|██████▋   | 36/54 [00:07<00:03,  5.26it/s]\u001b[A\n",
            " 69%|██████▊   | 37/54 [00:08<00:03,  4.51it/s]\u001b[A\n",
            " 70%|███████   | 38/54 [00:08<00:03,  4.86it/s]\u001b[A\n",
            " 72%|███████▏  | 39/54 [00:08<00:02,  5.09it/s]\u001b[A\n",
            " 74%|███████▍  | 40/54 [00:08<00:02,  5.35it/s]\u001b[A\n",
            " 76%|███████▌  | 41/54 [00:08<00:02,  5.19it/s]\u001b[A\n",
            " 78%|███████▊  | 42/54 [00:09<00:02,  4.61it/s]\u001b[A\n",
            " 80%|███████▉  | 43/54 [00:09<00:02,  4.22it/s]\u001b[A\n",
            " 81%|████████▏ | 44/54 [00:09<00:02,  4.14it/s]\u001b[A\n",
            " 83%|████████▎ | 45/54 [00:09<00:01,  4.51it/s]\u001b[A\n",
            " 85%|████████▌ | 46/54 [00:09<00:01,  4.60it/s]\u001b[A\n",
            " 87%|████████▋ | 47/54 [00:10<00:01,  4.27it/s]\u001b[A\n",
            " 89%|████████▉ | 48/54 [00:10<00:01,  4.17it/s]\u001b[A\n",
            " 91%|█████████ | 49/54 [00:10<00:01,  4.34it/s]\u001b[A\n",
            " 93%|█████████▎| 50/54 [00:10<00:00,  4.42it/s]\u001b[A\n",
            " 94%|█████████▍| 51/54 [00:11<00:00,  4.38it/s]\u001b[A\n",
            " 96%|█████████▋| 52/54 [00:11<00:00,  4.60it/s]\u001b[A\n",
            " 98%|█████████▊| 53/54 [00:11<00:00,  4.73it/s]\u001b[A\n",
            "100%|██████████| 54/54 [00:11<00:00,  4.58it/s]"
          ],
          "name": "stderr"
        },
        {
          "output_type": "stream",
          "text": [
            "{'ner': 45.091280310325836}\n"
          ],
          "name": "stdout"
        },
        {
          "output_type": "stream",
          "text": [
            "\n"
          ],
          "name": "stderr"
        }
      ]
    },
    {
      "cell_type": "code",
      "metadata": {
        "id": "pq_e5PIOi_ZE",
        "colab_type": "code",
        "outputId": "8a193945-942f-45e8-e28e-a01000c9c2d8",
        "colab": {
          "base_uri": "https://localhost:8080/",
          "height": 50
        }
      },
      "source": [
        "output_dir=os.getcwd()+'/model'\n",
        "print(output_dir)\n",
        "\n",
        "# save model to output directory\n",
        "if output_dir is not None:\n",
        "    output_dir = Path(output_dir)\n",
        "if not output_dir.exists():\n",
        "    output_dir.mkdir()\n",
        "nlp1.to_disk(output_dir)\n",
        "print(\"Saved model to\", output_dir)"
      ],
      "execution_count": 0,
      "outputs": [
        {
          "output_type": "stream",
          "text": [
            "/content/model\n",
            "Saved model to /content/model\n"
          ],
          "name": "stdout"
        }
      ]
    },
    {
      "cell_type": "code",
      "metadata": {
        "id": "AQl6DqzsnjB6",
        "colab_type": "code",
        "outputId": "398a2ab7-9ee1-4713-87b5-b652820b9857",
        "colab": {
          "base_uri": "https://localhost:8080/",
          "height": 34
        }
      },
      "source": [
        "# test the saved model\n",
        "print(\"Loading from\", output_dir)\n",
        "nlp2 = spacy.load(output_dir)\n",
        "\n",
        "def predict_entities(text, nlp2):\n",
        "    # test the trained model\n",
        "    doc = nlp2(text)\n",
        "    entities = []\n",
        "    for ent in doc.ents:\n",
        "        entities.append((ent.text, ent.label_))\n",
        "    return entities"
      ],
      "execution_count": 0,
      "outputs": [
        {
          "output_type": "stream",
          "text": [
            "Loading from /content/model\n"
          ],
          "name": "stdout"
        }
      ]
    },
    {
      "cell_type": "code",
      "metadata": {
        "id": "zuBPDWvhnlbn",
        "colab_type": "code",
        "colab": {}
      },
      "source": [
        "out = predict_entities(TEST_TEXTS[0], nlp2)"
      ],
      "execution_count": 0,
      "outputs": []
    },
    {
      "cell_type": "code",
      "metadata": {
        "id": "S8M9GbccnnmV",
        "colab_type": "code",
        "outputId": "0096ec56-69f8-41b1-a5cf-53b3ddc4419a",
        "colab": {
          "base_uri": "https://localhost:8080/",
          "height": 168
        }
      },
      "source": [
        "out"
      ],
      "execution_count": 0,
      "outputs": [
        {
          "output_type": "execute_result",
          "data": {
            "text/plain": [
              "[('Client Account Transfer Form', 'TITLE'),\n",
              " ('IRA', 'ACC_TYPE'),\n",
              " ('(541) 754-3010', 'PHONE'),\n",
              " ('280 Park Ave 12th Floor', 'ADDRESS'),\n",
              " ('New York, NY 10017', 'CITY'),\n",
              " ('25265454', 'ACC_NO'),\n",
              " ('383418383', 'SOCIAL_SECURITY_NO'),\n",
              " ('335-4412', 'RELATIONSHIP_NO'),\n",
              " ('alarcon@gmail.com', 'EMAIL')]"
            ]
          },
          "metadata": {
            "tags": []
          },
          "execution_count": 103
        }
      ]
    },
    {
      "cell_type": "code",
      "metadata": {
        "id": "31raYCUOnph8",
        "colab_type": "code",
        "outputId": "87a6ccc1-d1c1-47fe-ac6e-ea2461db6133",
        "colab": {
          "base_uri": "https://localhost:8080/",
          "height": 134
        }
      },
      "source": [
        "out = predict_entities(TEST_TEXTS[1], nlp2)\n",
        "out"
      ],
      "execution_count": 0,
      "outputs": [
        {
          "output_type": "execute_result",
          "data": {
            "text/plain": [
              "[('ACCOUNT TRANSFER FORM', 'TITLE'),\n",
              " ('Pamela e Byrd', 'CLIENT'),\n",
              " ('139394344', 'SOCIAL_SECURITY_NO'),\n",
              " ('IRA', 'ACC_TYPE'),\n",
              " ('875032122', 'ACC_NO'),\n",
              " ('514 Stutler Lane', 'ADDRESS'),\n",
              " ('(541) 754-3033', 'PHONE')]"
            ]
          },
          "metadata": {
            "tags": []
          },
          "execution_count": 104
        }
      ]
    },
    {
      "cell_type": "code",
      "metadata": {
        "id": "z0YH3cVXnrLy",
        "colab_type": "code",
        "outputId": "4126467b-ecc7-4386-cd09-cac71f139da4",
        "colab": {
          "base_uri": "https://localhost:8080/",
          "height": 134
        }
      },
      "source": [
        "out = predict_entities(TEST_TEXTS[2], nlp2)\n",
        "out"
      ],
      "execution_count": 0,
      "outputs": [
        {
          "output_type": "execute_result",
          "data": {
            "text/plain": [
              "[('ACCOUNT TRANSFER FORM', 'TITLE'),\n",
              " ('Joseph T Green', 'CLIENT'),\n",
              " ('517144644', 'SOCIAL_SECURITY_NO'),\n",
              " ('IRA', 'ACC_TYPE'),\n",
              " ('856901244', 'ACC_NO'),\n",
              " ('4481 Freshour Circle', 'ADDRESS'),\n",
              " ('(541) 754-3941', 'PHONE')]"
            ]
          },
          "metadata": {
            "tags": []
          },
          "execution_count": 105
        }
      ]
    },
    {
      "cell_type": "code",
      "metadata": {
        "id": "1ClkJueEnsp4",
        "colab_type": "code",
        "outputId": "1e7c2954-7d07-4945-fc74-eef1df581448",
        "colab": {
          "base_uri": "https://localhost:8080/",
          "height": 134
        }
      },
      "source": [
        "out = predict_entities(TEST_TEXTS[3], nlp2)\n",
        "out"
      ],
      "execution_count": 0,
      "outputs": [
        {
          "output_type": "execute_result",
          "data": {
            "text/plain": [
              "[('ACCOUNT TRANSFER FORM', 'TITLE'),\n",
              " ('Mary H Craven', 'CLIENT'),\n",
              " ('545401875', 'SOCIAL_SECURITY_NO'),\n",
              " ('IRA', 'ACC_TYPE'),\n",
              " ('987012322', 'ACC_NO'),\n",
              " ('2397 Deans Lane', 'ADDRESS'),\n",
              " ('(541) 754-3055', 'PHONE')]"
            ]
          },
          "metadata": {
            "tags": []
          },
          "execution_count": 106
        }
      ]
    },
    {
      "cell_type": "code",
      "metadata": {
        "id": "HsLMvRJNnuOY",
        "colab_type": "code",
        "outputId": "008852ef-17db-4a87-912e-b0e0de2e0541",
        "colab": {
          "base_uri": "https://localhost:8080/",
          "height": 134
        }
      },
      "source": [
        "out = predict_entities(TEST_TEXTS[4], nlp2)\n",
        "out"
      ],
      "execution_count": 0,
      "outputs": [
        {
          "output_type": "execute_result",
          "data": {
            "text/plain": [
              "[('Client Account Transfer Form', 'TITLE'),\n",
              " ('IRA', 'ACC_TYPE'),\n",
              " ('(541) 754-2589', 'PHONE'),\n",
              " ('04972333', 'ACC_NO'),\n",
              " ('617141155', 'SOCIAL_SECURITY_NO'),\n",
              " ('335-2546', 'RELATIONSHIP_NO'),\n",
              " ('harold@gmail.com', 'EMAIL')]"
            ]
          },
          "metadata": {
            "tags": []
          },
          "execution_count": 107
        }
      ]
    },
    {
      "cell_type": "code",
      "metadata": {
        "id": "pYDj5KsynwHZ",
        "colab_type": "code",
        "outputId": "32d77d49-30bd-4a89-fcab-d3abe63f0bef",
        "colab": {
          "base_uri": "https://localhost:8080/",
          "height": 101
        }
      },
      "source": [
        "out = predict_entities(TEST_TEXTS[5], nlp2)\n",
        "out"
      ],
      "execution_count": 0,
      "outputs": [
        {
          "output_type": "execute_result",
          "data": {
            "text/plain": [
              "[('ACCOUNT TRANSFER FORM', 'TITLE'),\n",
              " ('404711495', 'SOCIAL_SECURITY_NO'),\n",
              " ('IRA', 'ACC_TYPE'),\n",
              " ('587102360', 'ACC_NO'),\n",
              " ('(541) 754-3012', 'PHONE')]"
            ]
          },
          "metadata": {
            "tags": []
          },
          "execution_count": 108
        }
      ]
    },
    {
      "cell_type": "code",
      "metadata": {
        "id": "nVjr_wLanyDC",
        "colab_type": "code",
        "outputId": "95334f72-2319-45d7-a964-96c90e7d5b81",
        "colab": {
          "base_uri": "https://localhost:8080/",
          "height": 34
        }
      },
      "source": [
        "len(TEST_TEXTS)"
      ],
      "execution_count": 0,
      "outputs": [
        {
          "output_type": "execute_result",
          "data": {
            "text/plain": [
              "6"
            ]
          },
          "metadata": {
            "tags": []
          },
          "execution_count": 109
        }
      ]
    },
    {
      "cell_type": "code",
      "metadata": {
        "id": "k-48cEWun0B4",
        "colab_type": "code",
        "outputId": "9d8a5fc7-dad6-4f8a-93ac-0346ac78dcb5",
        "colab": {
          "base_uri": "https://localhost:8080/",
          "height": 54
        }
      },
      "source": [
        "TEST_TEXTS[5]"
      ],
      "execution_count": 0,
      "outputs": [
        {
          "output_type": "execute_result",
          "data": {
            "text/plain": [
              "'D Ameritrade Institutional Reset Form ACCOUNT TRANSFER FORM TO TRANSFER YOUR EXISTING ACCOUNT TO TD AMERITRADE Account # 587102360 Advisor Code 569702145 Case # 1 PLEASE ATTACH A COPY OF YOUR LATEST STATEMENT. TD AMERITRADE ACCOUNT INFORMATION Account Title/Registration: Allan A Cook Social Security Number Tax ID: Clearing Number 404711495 0188 Personal Trust Limited Liability Company Roth IRA Individual (Non-Qualified) Joint UTMA/UGMA Qualified Retirement Plan Employer Plan Type: Simple IRA SEP IRA Estate Corporate Partnership/Investment Club Traditional IRA/Rollover RA Coverdell ESA Beneficiary IRA Other: 2 INFORMATION ON THE ACCOUNT YOU ARE TRANSFERRING FROM Account Title Registration as shown on your statement: Account Number Allan A Cook 587102360 Name of Delivering Firm: NFLX Physical Address of Firm (no PO BOX): Telephone Number (required): 200 Crescent Ct #1200 (541) 754-3012 Individual Personal Trust Limited Liability Company Roth IRA Qualified Retirement Plan (Non-Qualified) Employer Plan Type: Joint Estate Partnership/Investment Club SEP IRA Simple IRA Has SIMPLE IRA been funded for at least two years? Yes No UTMA/UGMA Corporate Traditional IRA/Rollover RA Coverdell ESA Beneficiary IRA Other: LIST THE ASSETS YOU WANT TO TRANSFER A. Transfer from an ACAT eligible Brokerage Firm, Bank, Insurance/Annuity Co., Trust Co., or Transfer Agent - Check box for full or partial transfer. For partial transfers, list descriptions of assets and shares. Unless otherwise indicated, TD Ameritrade will transfer in full. Please note - The ACAT system does not allow for liquidation requests. To place trades, please contact your current custodian prior to submitting the transfer request. Most banks, insurance/annuity, and trust companies require original wet-ink signature mailed to TD Ameritrade. If transferring in Alternative Investments, please obtain a copy of the Transfer In Only Alternative Investment Client Custody Agreement from your Advisor, the terms of which will apply to our custody of your Alternative Investments. No signature is required. Full Transfer - To transfer entire account, check box and Partial Transfer - List specific security. If bonds are being transferred, skip to Section 4 (if applicable), then to the Signature Section. please supply the Bond CUSIP. Description of Asset (Partial transfers only) Quantity (Indicate # of shares or \"ALL\") Description of Asset (Partial transfers only) Quantity (Indicate # of shares or \"ALL\") NFLX 200 BA 150 LMT 200 MCD 300 For additional securities, see attached list. O Page 1 of 5 TDAI 9682 REV. 02/17 . Annuity/Life Insurance Policy: I have an annuity or life insurance policy I wish to liquidate and have the proceeds sent to TD Ameritrade. Please choose one option: Please redeem and terminate entire contract or policy on my behalf. I understand that penalties may apply. Please redeem and terminate entire contract or policy on my behalf. The entire contract or policy is penalty-free Please redeem only the penalty-free amount of $ Please withdraw a partial amount of $ The entire contract or policy is penalty-free. Certificates of Deposit (CDs): Redeem my CD immediately. I understand that penalties may apply for any withdrawals prior to maturity. Redeem my CD at maturity. Maturity date:_ Submit request at least 21 days prior to maturity. Please advise your bank not to roll over the CD to a new term. Dividend Reinvestment Plan: I am transferring positions in Book Entry form and liquidating accumulated fractional shares B. Transfer from a Mutual Fund company - Unless otherwise indicated, TD Ameritrade will transfer all shares in kind and reinvest your dividends and capital gains. I acknowledge that ineligible proprietary mutual funds and all no-load money market funds cannot be transferred in kind and must be liquidated by the mutual fund company. Fund Name or Symbol Fund Account Number (Indicate # of shares or \"AN) Quantity Credit Gains and Dividends as (Check one if transferring shares) NFLX 200 Reinvested shares Cash LMT 200 Reinvested shares Cash Handling (Check one) Transfer my shares Sell my shares, transfer cash Transfer my shares Sell my shares, transfer cash Transfer my shares Sell my shares, transfer cash Transfer my shares Sell my shares, transfer cash Transfer my shares Sell my shares transfer cash BA 150 Reinvested shares Cash MCD 300 Reinvested shares Cash Reinvested shares Cash For additional mutual funds, see attached list. O To transfer Money Markets, please indicate the Money Market name or symbol if available: Liquidate Money Market: All Only: $ 262,300 Page 2 of 5 TDAI 9682 REV. 02/17 '"
            ]
          },
          "metadata": {
            "tags": []
          },
          "execution_count": 110
        }
      ]
    },
    {
      "cell_type": "markdown",
      "metadata": {
        "id": "9x8nmM5TW44_",
        "colab_type": "text"
      },
      "source": [
        "### **CSV GENERATION**"
      ]
    },
    {
      "cell_type": "code",
      "metadata": {
        "id": "rsAHvqx9XB7b",
        "colab_type": "code",
        "outputId": "397eccb4-67c5-42db-e895-3b6fe0a7fafc",
        "colab": {
          "base_uri": "https://localhost:8080/",
          "height": 170
        }
      },
      "source": [
        "ner_dict = dict(out)\n",
        "ner_dict"
      ],
      "execution_count": 0,
      "outputs": [
        {
          "output_type": "execute_result",
          "data": {
            "text/plain": [
              "{'(541) 754-3010': 'PHONE',\n",
              " '25265454': 'ACC_NO',\n",
              " '280 Park Ave 12th Floor': 'ADDRESS',\n",
              " '335-4412': 'RELATIONSHIP_NO',\n",
              " '383418383': 'SOCIAL_SECURITY_NO',\n",
              " 'Client Account Transfer Form': 'TITLE',\n",
              " 'IRA': 'ACC_TYPE',\n",
              " 'New York, NY 10017': 'CITY',\n",
              " 'alarcon@gmail.com': 'EMAIL'}"
            ]
          },
          "metadata": {
            "tags": []
          },
          "execution_count": 31
        }
      ]
    },
    {
      "cell_type": "code",
      "metadata": {
        "id": "AnvOjYEEX3WN",
        "colab_type": "code",
        "colab": {}
      },
      "source": [
        "new_dict = {} \n",
        "for key, value in ner_dict.items(): \n",
        "   if value in new_dict: \n",
        "       new_dict[value].append(key) \n",
        "   else: \n",
        "       new_dict[value]=[key] "
      ],
      "execution_count": 0,
      "outputs": []
    },
    {
      "cell_type": "code",
      "metadata": {
        "id": "WlrCstFzXJNv",
        "colab_type": "code",
        "outputId": "f3a3fd0e-8885-4912-ee98-b03681d34eff",
        "colab": {
          "base_uri": "https://localhost:8080/",
          "height": 97
        }
      },
      "source": [
        "import pandas as pd\n",
        "df = pd.DataFrame(new_dict)\n",
        "df"
      ],
      "execution_count": 0,
      "outputs": [
        {
          "output_type": "execute_result",
          "data": {
            "text/html": [
              "<div>\n",
              "<style scoped>\n",
              "    .dataframe tbody tr th:only-of-type {\n",
              "        vertical-align: middle;\n",
              "    }\n",
              "\n",
              "    .dataframe tbody tr th {\n",
              "        vertical-align: top;\n",
              "    }\n",
              "\n",
              "    .dataframe thead th {\n",
              "        text-align: right;\n",
              "    }\n",
              "</style>\n",
              "<table border=\"1\" class=\"dataframe\">\n",
              "  <thead>\n",
              "    <tr style=\"text-align: right;\">\n",
              "      <th></th>\n",
              "      <th>TITLE</th>\n",
              "      <th>ACC_TYPE</th>\n",
              "      <th>PHONE</th>\n",
              "      <th>ADDRESS</th>\n",
              "      <th>CITY</th>\n",
              "      <th>ACC_NO</th>\n",
              "      <th>SOCIAL_SECURITY_NO</th>\n",
              "      <th>RELATIONSHIP_NO</th>\n",
              "      <th>EMAIL</th>\n",
              "    </tr>\n",
              "  </thead>\n",
              "  <tbody>\n",
              "    <tr>\n",
              "      <th>0</th>\n",
              "      <td>Client Account Transfer Form</td>\n",
              "      <td>IRA</td>\n",
              "      <td>(541) 754-3010</td>\n",
              "      <td>280 Park Ave 12th Floor</td>\n",
              "      <td>New York, NY 10017</td>\n",
              "      <td>25265454</td>\n",
              "      <td>383418383</td>\n",
              "      <td>335-4412</td>\n",
              "      <td>alarcon@gmail.com</td>\n",
              "    </tr>\n",
              "  </tbody>\n",
              "</table>\n",
              "</div>"
            ],
            "text/plain": [
              "                          TITLE ACC_TYPE  ... RELATIONSHIP_NO              EMAIL\n",
              "0  Client Account Transfer Form      IRA  ...        335-4412  alarcon@gmail.com\n",
              "\n",
              "[1 rows x 9 columns]"
            ]
          },
          "metadata": {
            "tags": []
          },
          "execution_count": 33
        }
      ]
    },
    {
      "cell_type": "code",
      "metadata": {
        "id": "wAKDwHa5XI-q",
        "colab_type": "code",
        "colab": {}
      },
      "source": [
        "df.to_csv('results1.csv', mode ='a', index = False, header=False)"
      ],
      "execution_count": 0,
      "outputs": []
    },
    {
      "cell_type": "code",
      "metadata": {
        "id": "qRqd4Iw_YWlT",
        "colab_type": "code",
        "outputId": "646ff9fa-b3f1-4dc4-a1a9-85423b163ea5",
        "colab": {
          "base_uri": "https://localhost:8080/",
          "height": 145
        }
      },
      "source": [
        "df1 = pd.read_csv('results1.csv')\n",
        "df1"
      ],
      "execution_count": 0,
      "outputs": [
        {
          "output_type": "execute_result",
          "data": {
            "text/html": [
              "<div>\n",
              "<style scoped>\n",
              "    .dataframe tbody tr th:only-of-type {\n",
              "        vertical-align: middle;\n",
              "    }\n",
              "\n",
              "    .dataframe tbody tr th {\n",
              "        vertical-align: top;\n",
              "    }\n",
              "\n",
              "    .dataframe thead th {\n",
              "        text-align: right;\n",
              "    }\n",
              "</style>\n",
              "<table border=\"1\" class=\"dataframe\">\n",
              "  <thead>\n",
              "    <tr style=\"text-align: right;\">\n",
              "      <th></th>\n",
              "      <th>TITLE</th>\n",
              "      <th>ACC_TYPE</th>\n",
              "      <th>PHONE</th>\n",
              "      <th>ADDRESS</th>\n",
              "      <th>CITY</th>\n",
              "      <th>ACC_NO</th>\n",
              "      <th>SOCIAL_SECURITY_NO</th>\n",
              "      <th>RELATIONSHIP_NO</th>\n",
              "      <th>EMAIL</th>\n",
              "    </tr>\n",
              "  </thead>\n",
              "  <tbody>\n",
              "    <tr>\n",
              "      <th>0</th>\n",
              "      <td>Client Account Transfer Form</td>\n",
              "      <td>IRA</td>\n",
              "      <td>(541) 754-3010</td>\n",
              "      <td>280 Park Ave 12th Floor</td>\n",
              "      <td>New York, NY 10017</td>\n",
              "      <td>25265454</td>\n",
              "      <td>383418383</td>\n",
              "      <td>335-4412</td>\n",
              "      <td>alarcon@gmail.com</td>\n",
              "    </tr>\n",
              "    <tr>\n",
              "      <th>1</th>\n",
              "      <td>Client Account Transfer Form</td>\n",
              "      <td>IRA</td>\n",
              "      <td>(541) 754-3010</td>\n",
              "      <td>280 Park Ave 12th Floor</td>\n",
              "      <td>New York, NY 10017</td>\n",
              "      <td>25265454</td>\n",
              "      <td>383418383</td>\n",
              "      <td>335-4412</td>\n",
              "      <td>alarcon@gmail.com</td>\n",
              "    </tr>\n",
              "  </tbody>\n",
              "</table>\n",
              "</div>"
            ],
            "text/plain": [
              "                          TITLE ACC_TYPE  ... RELATIONSHIP_NO              EMAIL\n",
              "0  Client Account Transfer Form      IRA  ...        335-4412  alarcon@gmail.com\n",
              "1  Client Account Transfer Form      IRA  ...        335-4412  alarcon@gmail.com\n",
              "\n",
              "[2 rows x 9 columns]"
            ]
          },
          "metadata": {
            "tags": []
          },
          "execution_count": 36
        }
      ]
    },
    {
      "cell_type": "code",
      "metadata": {
        "id": "E3dm4gLgYnf3",
        "colab_type": "code",
        "outputId": "de304c11-4ea8-44a7-8987-d7d8bf7b0c62",
        "colab": {
          "base_uri": "https://localhost:8080/",
          "height": 284
        }
      },
      "source": [
        "a = pd.read_csv('results.csv')\n",
        "b = pd.read_csv('results1.csv')\n",
        "merged = a.merge(b, right_index=True, left_index=True)\n",
        "merged.to_csv('FinalResults.csv', index = False)\n",
        "merged\n"
      ],
      "execution_count": 0,
      "outputs": [
        {
          "output_type": "execute_result",
          "data": {
            "text/html": [
              "<div>\n",
              "<style scoped>\n",
              "    .dataframe tbody tr th:only-of-type {\n",
              "        vertical-align: middle;\n",
              "    }\n",
              "\n",
              "    .dataframe tbody tr th {\n",
              "        vertical-align: top;\n",
              "    }\n",
              "\n",
              "    .dataframe thead th {\n",
              "        text-align: right;\n",
              "    }\n",
              "</style>\n",
              "<table border=\"1\" class=\"dataframe\">\n",
              "  <thead>\n",
              "    <tr style=\"text-align: right;\">\n",
              "      <th></th>\n",
              "      <th>Company Name[OD]</th>\n",
              "      <th>Type of Form[OD]</th>\n",
              "      <th>CheckBox Field[OD]</th>\n",
              "      <th>TITLE</th>\n",
              "      <th>ACC_TYPE</th>\n",
              "      <th>PHONE</th>\n",
              "      <th>ADDRESS</th>\n",
              "      <th>CITY</th>\n",
              "      <th>ACC_NO</th>\n",
              "      <th>SOCIAL_SECURITY_NO</th>\n",
              "      <th>RELATIONSHIP_NO</th>\n",
              "      <th>EMAIL</th>\n",
              "    </tr>\n",
              "  </thead>\n",
              "  <tbody>\n",
              "    <tr>\n",
              "      <th>0</th>\n",
              "      <td>Merrill Lynch</td>\n",
              "      <td>Client Account Transfer Form</td>\n",
              "      <td>IRA</td>\n",
              "      <td>Client Account Transfer Form</td>\n",
              "      <td>IRA</td>\n",
              "      <td>(541) 754-3010</td>\n",
              "      <td>280 Park Ave 12th Floor</td>\n",
              "      <td>New York, NY 10017</td>\n",
              "      <td>25265454</td>\n",
              "      <td>383418383</td>\n",
              "      <td>335-4412</td>\n",
              "      <td>alarcon@gmail.com</td>\n",
              "    </tr>\n",
              "    <tr>\n",
              "      <th>1</th>\n",
              "      <td>Charles Schwab</td>\n",
              "      <td>IRA Account Application</td>\n",
              "      <td>No checkbox field is present in the form</td>\n",
              "      <td>Client Account Transfer Form</td>\n",
              "      <td>IRA</td>\n",
              "      <td>(541) 754-3010</td>\n",
              "      <td>280 Park Ave 12th Floor</td>\n",
              "      <td>New York, NY 10017</td>\n",
              "      <td>25265454</td>\n",
              "      <td>383418383</td>\n",
              "      <td>335-4412</td>\n",
              "      <td>alarcon@gmail.com</td>\n",
              "    </tr>\n",
              "  </tbody>\n",
              "</table>\n",
              "</div>"
            ],
            "text/plain": [
              "  Company Name[OD]  ...              EMAIL\n",
              "0    Merrill Lynch  ...  alarcon@gmail.com\n",
              "1   Charles Schwab  ...  alarcon@gmail.com\n",
              "\n",
              "[2 rows x 12 columns]"
            ]
          },
          "metadata": {
            "tags": []
          },
          "execution_count": 38
        }
      ]
    },
    {
      "cell_type": "markdown",
      "metadata": {
        "id": "PpX3D2PUoCyJ",
        "colab_type": "text"
      },
      "source": [
        "### **Prediction - OCR then NER**"
      ]
    },
    {
      "cell_type": "code",
      "metadata": {
        "id": "IJspzXnnn1qi",
        "colab_type": "code",
        "outputId": "2d7f8cd3-5a83-4b5b-a0d3-ea88a1c7595a",
        "colab": {
          "base_uri": "https://localhost:8080/",
          "height": 34
        }
      },
      "source": [
        "print(\"Loading from\", output_dir)\n",
        "nlp2 = spacy.load(output_dir)\n",
        "\n",
        "def predict_entities(text, nlp2):\n",
        "    # test the trained model\n",
        "    doc = nlp2(text)\n",
        "    entities = []\n",
        "    for ent in doc.ents:\n",
        "        entities.append((ent.text, ent.label_))\n",
        "    return entities"
      ],
      "execution_count": 0,
      "outputs": [
        {
          "output_type": "stream",
          "text": [
            "Loading from /content/model\n"
          ],
          "name": "stdout"
        }
      ]
    },
    {
      "cell_type": "code",
      "metadata": {
        "id": "sIJC0duLoFDb",
        "colab_type": "code",
        "colab": {}
      },
      "source": [
        "def predict_ocr_ner(path_): \n",
        "    print(path_)\n",
        "    file_name = path_.split('/')[-1]\n",
        "    print(file_name)\n",
        "    if Path(file_name).suffix == '.pdf':\n",
        "        extracted_text = detect_text_from_pdf(pdf_path = path_, num_of_pages = 2)\n",
        "        return predict_entities(extracted_text, nlp2)\n",
        "    elif Path(file_name).suffix == '.png' or 'jpg':\n",
        "        extracted_text = detect_text_from_image(path_)\n",
        "        return predict_entities(extracted_text, nlp2)\n",
        "    else:\n",
        "        pass"
      ],
      "execution_count": 0,
      "outputs": []
    },
    {
      "cell_type": "markdown",
      "metadata": {
        "id": "1XuGmWadoLRC",
        "colab_type": "text"
      },
      "source": [
        "**FOR PNG FILES**"
      ]
    },
    {
      "cell_type": "code",
      "metadata": {
        "id": "visOspWPoH27",
        "colab_type": "code",
        "cellView": "both",
        "colab": {}
      },
      "source": [
        "result_text = detect_text_from_image('/content/drive/My Drive/DOC-NER/Merrilllynch_CRA/Adrian Clemens.png')\n",
        "\n",
        "print(result_text)\n",
        "\n",
        "#for path in path_list:\n",
        "#    text_ = detect_text_from_image(path)\n",
        "#    # write to file "
      ],
      "execution_count": 0,
      "outputs": []
    },
    {
      "cell_type": "code",
      "metadata": {
        "id": "iCGq1kJ5oNo8",
        "colab_type": "code",
        "outputId": "991b7ff9-1dcf-4cc4-d069-b9a154d67b18",
        "colab": {
          "base_uri": "https://localhost:8080/",
          "height": 235
        }
      },
      "source": [
        "new_pdf = '/content/drive/My Drive/DOC-NER/Merrilllynch_CRA/Adrian Clemens.png'\n",
        "result = predict_ocr_ner(new_pdf)\n",
        "result"
      ],
      "execution_count": 0,
      "outputs": [
        {
          "output_type": "stream",
          "text": [
            "/content/drive/My Drive/DOC-NER/Merrilllynch_CRA/Adrian Clemens.png\n",
            "Adrian Clemens.png\n",
            "Texts:\n"
          ],
          "name": "stdout"
        },
        {
          "output_type": "execute_result",
          "data": {
            "text/plain": [
              "[('Client Account Transfer Form', 'TITLE'),\n",
              " ('IRA', 'ACC_TYPE'),\n",
              " ('2 Seaport Ln', 'ADDRESS'),\n",
              " ('89101454', 'ACC_NO'),\n",
              " ('(541) 754-2545', 'PHONE'),\n",
              " ('Daniel C Paul', 'CLIENT'),\n",
              " ('Boston, MA,02210', 'CITY'),\n",
              " ('545401875', 'SOCIAL_SECURITY_NO'),\n",
              " ('335-0012', 'RELATIONSHIP_NO'),\n",
              " ('Adrian@gmail.com', 'EMAIL')]"
            ]
          },
          "metadata": {
            "tags": []
          },
          "execution_count": 74
        }
      ]
    },
    {
      "cell_type": "code",
      "metadata": {
        "id": "td9zXnKDoTih",
        "colab_type": "code",
        "colab": {}
      },
      "source": [
        "def extract_category(text):\n",
        "    if 'Merrill Lynch'.lower() in text.lower():\n",
        "        CATEGORY = 'Merrill Lynch'.replace(' ', '_')\n",
        "    elif 'Ameritrade'.lower() in text.lower():\n",
        "        CATEGORY = 'Ameritrade'.replace(' ', '_')\n",
        "    elif ('Schwab'.lower() in text.lower()):\n",
        "        CATEGORY = 'Schwab'\n",
        "    return CATEGORY"
      ],
      "execution_count": 0,
      "outputs": []
    },
    {
      "cell_type": "code",
      "metadata": {
        "id": "lO4h-wRtoV7x",
        "colab_type": "code",
        "outputId": "057cafad-ea10-4c2e-f24e-1ca98d62a628",
        "colab": {
          "base_uri": "https://localhost:8080/",
          "height": 34
        }
      },
      "source": [
        "extract_category('another financial institution to your Merrill Lynch, Pierce, Fenner & Smith Incorporated (“Merrill Lynch”) account For best results, please complete the information requested below in parts 1 to 4 using ALL CAPITAL letters and')\n"
      ],
      "execution_count": 0,
      "outputs": [
        {
          "output_type": "execute_result",
          "data": {
            "text/plain": [
              "'Merrill_Lynch'"
            ]
          },
          "metadata": {
            "tags": []
          },
          "execution_count": 76
        }
      ]
    },
    {
      "cell_type": "markdown",
      "metadata": {
        "id": "uWDVZM4EoblZ",
        "colab_type": "text"
      },
      "source": [
        "**FOR PDF FILES**"
      ]
    },
    {
      "cell_type": "code",
      "metadata": {
        "id": "i37AfVwxojy4",
        "colab_type": "code",
        "outputId": "99024b20-80d2-4978-b54b-ceaaa70fa3fc",
        "colab": {
          "base_uri": "https://localhost:8080/",
          "height": 1000
        }
      },
      "source": [
        "pdf_file_path = '/content/drive/My Drive/DOC-NER/Merrilllynch_CRA/Candy T Lee.pdf'\n",
        "pages = convert_from_path(pdf_file_path, 200)\n",
        "pdf_file_path_ = pdf_file_path.replace(' ', '_')\n",
        "pdf_file_path_ = Path(pdf_file_path_).stem\n",
        "for page in pages[0:1]:\n",
        "    #print(pdf_file_path_+ '_'+page+'.jpg', 'JPEG')\n",
        "\n",
        "    #page.save(pdf_file_path_+ '_'+page+'.jpg', 'JPEG')\n",
        "    page.save(pdf_file_path_ + '.jpg')\n",
        "page.save(pdf_file_path_ + '.jpg')\n",
        "result_text = detect_text_from_image(pdf_file_path_ + '.jpg')\n",
        "\n",
        "print(result_text)"
      ],
      "execution_count": 0,
      "outputs": [
        {
          "output_type": "stream",
          "text": [
            "Texts:\n",
            "DTC8862\n",
            "ACAT0671\n",
            "A BANK OF AMERICA COMPANY\n",
            "Client Account Transfer Form\n",
            "Use this form to transfer all or a portion of your account from\n",
            "MERRILLD.\n",
            "another financial institution to your Merrill Lynch, Pierce, Fenner &\n",
            "Smith Incorporated (“Merrill Lynch”) account.\n",
            "For best results, please complete the information requested below in parts 1 to 4 using ALL CAPITAL letters and\n",
            "black ink. If you need more room for information or signatures, use a copy of the relevant page or a blank sheet. Use\n",
            "one form for each account that you're transferring.\n",
            "Things to know before you begin:\n",
            "Many firms transfer assets using an automated transfer process, which typically takes 5 to 6 business days. Other\n",
            "firms either don't use the automated process or must process some assets manually, which takes more time. The\n",
            "following estimated time frames for manual transfers are from the date of receipt of instructions by the deliv\n",
            "firm and may vary greatly:\n",
            "- Equities, bonds and options, approximately 15 business days\n",
            "Restricted securities, approximately 15 to 20 business days\n",
            "Mutual funds, up to 30 business days\n",
            "- Foreign securities, 4 to 6 weeks\n",
            "Note: Annuities are not transferred using this form. Please use the Merrill Lynch Annuity Transfer Form.\n",
            "Remember to update any automatic deposits or withdrawals you've set up on the account you're transferring to\n",
            "Merrill Lynch.\n",
            "Some transfers may result in tax consequences, penalties or financial risk. Consult your tax and financial\n",
            "professionals before requesting this transfer.\n",
            "If you're rolling over assets from a 401(k) or other employer-sponsored plan, consider all of your choices. You may\n",
            "be able to roll over to an IRA, roll over an old 401(k) to a 401(k) at a new employer, take a distribution or leave the\n",
            "account where it is, depending on your unique financial needs and retirement goals. Each choice may offer different\n",
            "benefits and limitations including investment options and services, fees and expenses, withdrawal options, required\n",
            "minimum distributions, tax treatment and protection from creditors and legal judgments. Additionally, there are\n",
            "limits to how often and when you can roll over your account. Please contact your 401(k) or other employer-sponsored\n",
            "plan administrator for help with the transfer.\n",
            "Part 1\n",
            "Where\n",
            "your account\n",
            "is now\n",
            "Attach all pages\n",
            "FIRM NAME\n",
            "FIRM PHONE\n",
            "CONTACT NAME\n",
            "First Quadrant\n",
            "(541) 754-3021\n",
            "Pamela B Boyd\n",
            "FIRM ADDRESS\n",
            "CITY, STATE, ZIP\n",
            "800 E Colorado Blvd # 900\n",
            "Pasadena, CA,91101\n",
            "ACCOUNT NUMBER\n",
            "ACCOUNT TITLE\n",
            "18944787\n",
            "Candy T Lee\n",
            "ACCOUNT TYPE (RETAIL/IRA etc.) SOCIAL SECURITY NUMBER (If used for tax reporting) EMPLOYER ID NUMBER (If used for tax reporting)\n",
            "IRA\n",
            "204842467\n",
            "of your most recent\n",
            "statement for this\n",
            "account to avoid\n",
            "any delays.\n",
            "Account holders (individual accounts) or authorized signers (for business, trust, estate, etc.)\n",
            "List all names exactly as they appear on this account.\n",
            "NAME 1\n",
            "TITLE (If an authorized signer)\n",
            "Candy T Lee\n",
            "NAME 2\n",
            "TITLE (If an authorized signer)\n",
            "Roth\n",
            "OSEP\n",
            "Other (Please specify)\n",
            "Part 2\n",
            "Merrill Lynch account\n",
            "receiving your\n",
            "transferred assets\n",
            "MERRILL LYNCH ACCOUNT NUMBER ACCOUNT TYPE (Choose one)\n",
            "335-4444\n",
            "OCMA IRA\n",
            "ACCOUNT TITLE (Here at Merrill Lynch)\n",
            "Candy T Lee\n",
            "SOCIAL SECURITY NUMBER (If used for tax reporting)\n",
            "204842467\n",
            "EMPLOYER ID NUMBER (If used for tax reporting)\n",
            "This can include a\n",
            "Merrill Lynch account\n",
            "on which you receive\n",
            "fiduciary services\n",
            "from U.S. Trust\n",
            "Account holders (individual accounts) or authorized signers (for business, trust, estate, etc.)\n",
            "List all names exactly as they appear on this account. This account must have at least one owner in common with\n",
            "your transferring account, otherwise this process will be delayed.\n",
            "TITLE (If an authorized signer)\n",
            "NAME 1\n",
            "Candy T Lee\n",
            "NAME 2\n",
            "TITLE (If an authorized signer)\n",
            "DAYTIME PHONE\n",
            "EVENING PHONE\n",
            "EMAIL\n",
            "(541) 754-4564\n",
            "Candy@gmail.com\n",
            "BRANCH CONTACT NAME\n",
            "NICK LANE\n",
            "BRANCH CONTACT NUMBER\n",
            "866.848.6554\n",
            "CODE 1566 MLPFS - 03/2018\n",
            "\n"
          ],
          "name": "stdout"
        }
      ]
    },
    {
      "cell_type": "code",
      "metadata": {
        "id": "jsKEV20doogR",
        "colab_type": "code",
        "outputId": "6ed2ff7a-d2f7-4f75-b88a-46f46980baea",
        "colab": {
          "base_uri": "https://localhost:8080/",
          "height": 151
        }
      },
      "source": [
        "new_pdf = '/content/Bobby_J_Cole_.jpg'\n",
        "result = predict_ocr_ner(new_pdf)\n",
        "result"
      ],
      "execution_count": 0,
      "outputs": [
        {
          "output_type": "stream",
          "text": [
            "/content/Bobby_J_Cole_.jpg\n",
            "Bobby_J_Cole_.jpg\n",
            "Texts:\n"
          ],
          "name": "stdout"
        },
        {
          "output_type": "execute_result",
          "data": {
            "text/plain": [
              "[('Thomas L Dodds', 'CLIENT'),\n",
              " ('3977 Hillview Drive', 'ADDRESS'),\n",
              " ('(541) 754-1100', 'PHONE'),\n",
              " ('360-80-6429', 'SOCIAL_SECURITY_NO'),\n",
              " ('(541) 754-2211', 'PHONE')]"
            ]
          },
          "metadata": {
            "tags": []
          },
          "execution_count": 120
        }
      ]
    },
    {
      "cell_type": "markdown",
      "metadata": {
        "id": "iiY0sGtWwbdO",
        "colab_type": "text"
      },
      "source": [
        " **LSTM**"
      ]
    },
    {
      "cell_type": "code",
      "metadata": {
        "id": "RTHbWFCqwbA8",
        "colab_type": "code",
        "colab": {}
      },
      "source": [
        "import pandas as pd\n",
        "import numpy as np\n"
      ],
      "execution_count": 0,
      "outputs": []
    },
    {
      "cell_type": "code",
      "metadata": {
        "id": "mx43A0HD1G0K",
        "colab_type": "code",
        "outputId": "b82705f1-31d9-4456-bc95-7fa3e2bc76b5",
        "colab": {
          "resources": {
            "http://localhost:8080/nbextensions/google.colab/files.js": {
              "data": "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",
              "ok": true,
              "headers": [
                [
                  "content-type",
                  "application/javascript"
                ]
              ],
              "status": 200,
              "status_text": ""
            }
          },
          "base_uri": "https://localhost:8080/",
          "height": 74
        }
      },
      "source": [
        "from io import StringIO\n",
        "import json\n",
        "from google.colab import files\n",
        "uploaded = files.upload()"
      ],
      "execution_count": 0,
      "outputs": [
        {
          "output_type": "display_data",
          "data": {
            "text/html": [
              "\n",
              "     <input type=\"file\" id=\"files-f750c579-d0e8-4184-bcca-4e7f53c59af2\" name=\"files[]\" multiple disabled />\n",
              "     <output id=\"result-f750c579-d0e8-4184-bcca-4e7f53c59af2\">\n",
              "      Upload widget is only available when the cell has been executed in the\n",
              "      current browser session. Please rerun this cell to enable.\n",
              "      </output>\n",
              "      <script src=\"/nbextensions/google.colab/files.js\"></script> "
            ],
            "text/plain": [
              "<IPython.core.display.HTML object>"
            ]
          },
          "metadata": {
            "tags": []
          }
        },
        {
          "output_type": "stream",
          "text": [
            "Saving final.json to final.json\n"
          ],
          "name": "stdout"
        }
      ]
    },
    {
      "cell_type": "code",
      "metadata": {
        "id": "8foC-8HF2G_2",
        "colab_type": "code",
        "colab": {}
      },
      "source": [
        "import torch\n",
        "from torchtext import data"
      ],
      "execution_count": 0,
      "outputs": []
    },
    {
      "cell_type": "code",
      "metadata": {
        "id": "Dyc6LPMw2Jmx",
        "colab_type": "code",
        "colab": {}
      },
      "source": [
        "TEXT = data.Field(tokenize = 'spacy', lower = True)\n",
        "LABEL = data.LabelField()"
      ],
      "execution_count": 0,
      "outputs": []
    },
    {
      "cell_type": "code",
      "metadata": {
        "id": "o2FqECBV2LjG",
        "colab_type": "code",
        "colab": {}
      },
      "source": [
        "news = data.TabularDataset(\n",
        "    path='final.json', format='json',\n",
        "    fields={'description' : ('desc', TEXT),\n",
        "             'category': ('category', LABEL)})"
      ],
      "execution_count": 0,
      "outputs": []
    },
    {
      "cell_type": "code",
      "metadata": {
        "id": "u4hpvNn_2NqX",
        "colab_type": "code",
        "colab": {}
      },
      "source": [
        "import random\n",
        "SEED = 1234\n",
        "\n",
        "trn, vld, tst = news.split(split_ratio=[0.7, 0.1, 0.1], random_state = random.seed(SEED))"
      ],
      "execution_count": 0,
      "outputs": []
    },
    {
      "cell_type": "code",
      "metadata": {
        "id": "8xlGw9ib2Qq_",
        "colab_type": "code",
        "outputId": "76193d03-3f28-4501-b299-93ec63c9e7f4",
        "colab": {
          "base_uri": "https://localhost:8080/",
          "height": 756
        }
      },
      "source": [
        "vars(trn[0])     "
      ],
      "execution_count": 0,
      "outputs": [
        {
          "output_type": "execute_result",
          "data": {
            "text/plain": [
              "{'category': 'Ameritrade Institutional',\n",
              " 'desc': ['get',\n",
              "  'access',\n",
              "  'to',\n",
              "  'stocks',\n",
              "  ',',\n",
              "  'bonds',\n",
              "  '&',\n",
              "  'cds',\n",
              "  ',',\n",
              "  'options',\n",
              "  ',',\n",
              "  'non',\n",
              "  '-',\n",
              "  'proprietary',\n",
              "  'mutual',\n",
              "  'funds',\n",
              "  ',',\n",
              "  'futures',\n",
              "  ',',\n",
              "  'forex',\n",
              "  ',',\n",
              "  'commission',\n",
              "  '-',\n",
              "  'free',\n",
              "  'etfs',\n",
              "  '*',\n",
              "  ',',\n",
              "  'and',\n",
              "  'more',\n",
              "  'to',\n",
              "  'stay',\n",
              "  'diversified',\n",
              "  'and',\n",
              "  'ready',\n",
              "  'to',\n",
              "  'take',\n",
              "  'advantage',\n",
              "  'of',\n",
              "  'a',\n",
              "  'wider',\n",
              "  'range',\n",
              "  'of',\n",
              "  'opportunities']}"
            ]
          },
          "metadata": {
            "tags": []
          },
          "execution_count": 126
        }
      ]
    },
    {
      "cell_type": "code",
      "metadata": {
        "id": "vNPKccEa2VnK",
        "colab_type": "code",
        "colab": {}
      },
      "source": [
        "TEXT.build_vocab(trn, \n",
        "                 vectors = \"glove.6B.100d\", \n",
        "                 unk_init = torch.Tensor.normal_)\n",
        "\n",
        "LABEL.build_vocab(trn)"
      ],
      "execution_count": 0,
      "outputs": []
    },
    {
      "cell_type": "code",
      "metadata": {
        "id": "wgyDkI3A5dmb",
        "colab_type": "code",
        "outputId": "40051757-ea9b-41c2-e7c3-2127674fe1bd",
        "colab": {
          "base_uri": "https://localhost:8080/",
          "height": 50
        }
      },
      "source": [
        "print(len(TEXT.vocab))\n",
        "print(len(LABEL.vocab))"
      ],
      "execution_count": 0,
      "outputs": [
        {
          "output_type": "stream",
          "text": [
            "893\n",
            "3\n"
          ],
          "name": "stdout"
        }
      ]
    },
    {
      "cell_type": "code",
      "metadata": {
        "id": "HInxWVLM5fu9",
        "colab_type": "code",
        "outputId": "c058ea85-f821-456b-eb1d-b2e2ea4daeb4",
        "colab": {
          "base_uri": "https://localhost:8080/",
          "height": 34
        }
      },
      "source": [
        "print(LABEL.vocab.stoi)"
      ],
      "execution_count": 0,
      "outputs": [
        {
          "output_type": "stream",
          "text": [
            "defaultdict(<function _default_unk_index at 0x7fe904ef1510>, {'Schwab_IRA': 0, 'Ameritrade Institutional': 1, 'Merrilllynch_CRA': 2})\n"
          ],
          "name": "stdout"
        }
      ]
    },
    {
      "cell_type": "code",
      "metadata": {
        "id": "-Fsbmr7-5hcy",
        "colab_type": "code",
        "colab": {}
      },
      "source": [
        "BATCH_SIZE = 64\n",
        "\n",
        "device = torch.device('cuda' if torch.cuda.is_available() else 'cpu')\n",
        "\n",
        "train_iterator, valid_iterator, test_iterator = data.BucketIterator.splits(\n",
        "    (trn, vld, tst), \n",
        "    batch_size = BATCH_SIZE, \n",
        "    device = device,\n",
        "    sort_key= lambda x: len(x.headline), \n",
        "    sort_within_batch= False\n",
        "    )"
      ],
      "execution_count": 0,
      "outputs": []
    },
    {
      "cell_type": "code",
      "metadata": {
        "id": "-OEB1rDb5ij9",
        "colab_type": "code",
        "colab": {}
      },
      "source": [
        "import torch.nn as nn\n",
        "\n",
        "class RNN(nn.Module):\n",
        "    def __init__(self, vocab_size, embedding_dim, hidden_dim, output_dim, n_layers, bidirectional, dropout):\n",
        "        \n",
        "        super().__init__()\n",
        "                \n",
        "        self.embedding = nn.Embedding(vocab_size, embedding_dim)\n",
        "                \n",
        "        self.lstm_desc = nn.LSTM(embedding_dim, hidden_dim, num_layers = n_layers, bidirectional = bidirectional, dropout = dropout)\n",
        "               \n",
        "        self.fc_desc = nn.Linear(hidden_dim * 2, 100)\n",
        "        \n",
        "        self.fc_total = nn.Linear(100, output_dim)\n",
        "        \n",
        "        self.dropout = nn.Dropout(dropout)\n",
        "                \n",
        "    def forward(self, description):\n",
        "                              \n",
        "        embedded_desc = self.dropout(self.embedding(description))\n",
        "                                           \n",
        "        output_desc, (hidden_desc, cell_desc) = self.lstm_desc(embedded_desc)\n",
        "               \n",
        "        hidden_desc = self.dropout(torch.cat((hidden_desc[-2, :, :], hidden_desc[-1, :, :]), dim = 1))\n",
        "               \n",
        "        full_desc = self.fc_desc(hidden_desc)\n",
        "        \n",
        "        hidden_total = torch.cat((full_desc), 1)\n",
        "        \n",
        "        return self.fc_total(hidden_total)"
      ],
      "execution_count": 0,
      "outputs": []
    },
    {
      "cell_type": "code",
      "metadata": {
        "id": "QdtcMoF_5mLv",
        "colab_type": "code",
        "colab": {}
      },
      "source": [
        "INPUT_DIM = len(TEXT.vocab)\n",
        "EMBEDDING_DIM = 100\n",
        "HIDDEN_DIM = 256\n",
        "OUTPUT_DIM = 2\n",
        "N_LAYERS = 2\n",
        "BIDIRECTIONAL = True\n",
        "DROPOUT = 0.2\n",
        "\n",
        "model = RNN(INPUT_DIM, EMBEDDING_DIM, HIDDEN_DIM, OUTPUT_DIM, N_LAYERS, BIDIRECTIONAL, DROPOUT)"
      ],
      "execution_count": 0,
      "outputs": []
    },
    {
      "cell_type": "code",
      "metadata": {
        "id": "Ghw8cMYc5oST",
        "colab_type": "code",
        "outputId": "cb2ac833-9e95-486c-d334-ba90b1a73347",
        "colab": {
          "base_uri": "https://localhost:8080/",
          "height": 34
        }
      },
      "source": [
        "def count_parameters(model):\n",
        "    return sum(p.numel() for p in model.parameters() if p.requires_grad)\n",
        "\n",
        "print(f'The model has {count_parameters(model):,} trainable parameters')"
      ],
      "execution_count": 0,
      "outputs": [
        {
          "output_type": "stream",
          "text": [
            "The model has 2,450,946 trainable parameters\n"
          ],
          "name": "stdout"
        }
      ]
    },
    {
      "cell_type": "code",
      "metadata": {
        "id": "XTV3lI4D5pME",
        "colab_type": "code",
        "outputId": "5eda45c1-4631-4d0b-ff86-5adcd67f2a3f",
        "colab": {
          "base_uri": "https://localhost:8080/",
          "height": 34
        }
      },
      "source": [
        "pretrained_embeddings = TEXT.vocab.vectors\n",
        "\n",
        "print(pretrained_embeddings.shape)"
      ],
      "execution_count": 0,
      "outputs": [
        {
          "output_type": "stream",
          "text": [
            "torch.Size([893, 100])\n"
          ],
          "name": "stdout"
        }
      ]
    },
    {
      "cell_type": "code",
      "metadata": {
        "id": "SBy6Vhrn5sn-",
        "colab_type": "code",
        "outputId": "34bc1086-8545-46b1-d644-2684f1acf71f",
        "colab": {
          "base_uri": "https://localhost:8080/",
          "height": 134
        }
      },
      "source": [
        "model.embedding.weight.data.copy_(pretrained_embeddings)"
      ],
      "execution_count": 0,
      "outputs": [
        {
          "output_type": "execute_result",
          "data": {
            "text/plain": [
              "tensor([[-1.6930,  0.1669, -2.0647,  ...,  0.0746, -1.9374, -1.3475],\n",
              "        [-0.6644, -0.2491,  0.1677,  ...,  1.2584, -0.7264,  1.9968],\n",
              "        [-0.1077,  0.1105,  0.5981,  ..., -0.8316,  0.4529,  0.0826],\n",
              "        ...,\n",
              "        [ 0.0079,  0.8056, -0.2273,  ..., -0.1895,  0.5263, -0.3043],\n",
              "        [-0.0699,  0.5935, -0.5001,  ..., -0.2506, -0.6202,  0.3498],\n",
              "        [ 0.4244,  0.6004, -0.1528,  ...,  0.2536, -0.4969,  0.8964]])"
            ]
          },
          "metadata": {
            "tags": []
          },
          "execution_count": 136
        }
      ]
    },
    {
      "cell_type": "code",
      "metadata": {
        "id": "0fj9gQGD5t5V",
        "colab_type": "code",
        "colab": {}
      },
      "source": [
        "import torch.optim as optim\n",
        "\n",
        "optimizer = optim.Adam(model.parameters())"
      ],
      "execution_count": 0,
      "outputs": []
    },
    {
      "cell_type": "code",
      "metadata": {
        "id": "Ij3fynWj5vwN",
        "colab_type": "code",
        "colab": {}
      },
      "source": [
        "criterion = nn.CrossEntropyLoss()\n",
        "\n",
        "model = model.to(device)\n",
        "criterion = criterion.to(device)"
      ],
      "execution_count": 0,
      "outputs": []
    },
    {
      "cell_type": "code",
      "metadata": {
        "id": "cytO__Ka5xlr",
        "colab_type": "code",
        "colab": {}
      },
      "source": [
        "def categorical_accuracy(preds, y):\n",
        "    max_preds = preds.argmax(dim = 1, keepdim = True)\n",
        "    correct = max_preds.squeeze(1).eq(y)\n",
        "    return correct.sum() / torch.FloatTensor([y.shape[0]])"
      ],
      "execution_count": 0,
      "outputs": []
    },
    {
      "cell_type": "code",
      "metadata": {
        "id": "fe4bEMau5z2H",
        "colab_type": "code",
        "colab": {}
      },
      "source": [
        "def train(model, iterator, optimizer, criterion):\n",
        "    \n",
        "    epoch_loss = 0\n",
        "    epoch_acc = 0\n",
        "    \n",
        "    model.train()\n",
        "    \n",
        "    for batch in iterator:\n",
        "        \n",
        "        optimizer.zero_grad()\n",
        "                        \n",
        "        predictions = model(batch.desc).squeeze(1)\n",
        "        \n",
        "        loss = criterion(predictions, batch.category)\n",
        "        \n",
        "        acc = categorical_accuracy(predictions, batch.category)\n",
        "        \n",
        "        loss.backward()\n",
        "        \n",
        "        optimizer.step()\n",
        "        \n",
        "        epoch_loss += loss.item()\n",
        "        epoch_acc += acc.item()\n",
        "        \n",
        "    return epoch_loss / len(iterator), epoch_acc / len(iterator)"
      ],
      "execution_count": 0,
      "outputs": []
    },
    {
      "cell_type": "code",
      "metadata": {
        "id": "Q68JTPbV510p",
        "colab_type": "code",
        "colab": {}
      },
      "source": [
        "def evaluate(model, iterator, criterion):\n",
        "    \n",
        "    epoch_loss = 0\n",
        "    epoch_acc = 0\n",
        "    \n",
        "    model.eval()\n",
        "    \n",
        "    with torch.no_grad():\n",
        "    \n",
        "        for batch in iterator:\n",
        "            \n",
        "            predictions = model(batch.desc).squeeze(1) \n",
        "            \n",
        "            loss = criterion(predictions, batch.category)\n",
        "            \n",
        "            acc = categorical_accuracy(predictions, batch.category)\n",
        "\n",
        "            epoch_loss += loss.item()\n",
        "            epoch_acc += acc.item()\n",
        "        \n",
        "    return epoch_loss / len(iterator), epoch_acc / len(iterator)\n"
      ],
      "execution_count": 0,
      "outputs": []
    },
    {
      "cell_type": "code",
      "metadata": {
        "id": "hGAlohr_52dJ",
        "colab_type": "code",
        "colab": {}
      },
      "source": [
        "import time\n",
        "\n",
        "def epoch_time(start_time, end_time):\n",
        "    elapsed_time = end_time - start_time\n",
        "    elapsed_mins = int(elapsed_time / 60)\n",
        "    elapsed_secs = int(elapsed_time - (elapsed_mins * 60))\n",
        "    return elapsed_mins, elapsed_secs\n"
      ],
      "execution_count": 0,
      "outputs": []
    },
    {
      "cell_type": "code",
      "metadata": {
        "id": "aAnC-Vh6oq-X",
        "colab_type": "code",
        "cellView": "form",
        "colab": {}
      },
      "source": [
        "#@title PREDICT CATEGORY BASED ON DESCRIPTION\n",
        "def extract_category(text):\n",
        "    if 'Merrill Lynch'.lower() in text.lower():\n",
        "        CATEGORY = 'Merrill Lynch'.replace(' ', '_')\n",
        "    elif 'Ameritrade'.lower() in text.lower():\n",
        "        CATEGORY = 'Ameritrade'.replace(' ', '_')\n",
        "    elif ('Schwab'.lower() in text.lower()):\n",
        "        CATEGORY = 'Schwab'\n",
        "    return CATEGORY"
      ],
      "execution_count": 0,
      "outputs": []
    },
    {
      "cell_type": "code",
      "metadata": {
        "id": "g0uTQ2YlotL1",
        "colab_type": "code",
        "outputId": "c29b1ad9-59a5-466a-975d-fc91b2ddfecf",
        "colab": {
          "base_uri": "https://localhost:8080/",
          "height": 34
        }
      },
      "source": [
        "extract_category('Schwab will notify you in writing of changes to the terms of the Cash Features, changes  to the Cash Features we make available, or changes to the Cash Features Program prior to the effective date of the proposed change')"
      ],
      "execution_count": 0,
      "outputs": [
        {
          "output_type": "execute_result",
          "data": {
            "text/plain": [
              "'Schwab'"
            ]
          },
          "metadata": {
            "tags": []
          },
          "execution_count": 144
        }
      ]
    },
    {
      "cell_type": "code",
      "metadata": {
        "id": "6jhzi6hI3r6G",
        "colab_type": "code",
        "colab": {
          "base_uri": "https://localhost:8080/",
          "height": 80
        },
        "outputId": "46777c83-e836-4675-eb61-2a1e00e9df4d"
      },
      "source": [
        "import pandas as pd\n",
        "\n",
        "t = ['Schwab']\n",
        "label = ['Category[LSTM]']\n",
        "dict1 ={}\n",
        "dict1 = dict(zip(label, t))\n",
        "dict1\n",
        "df = pd.DataFrame(dict1, index = [0])\n",
        "df"
      ],
      "execution_count": 6,
      "outputs": [
        {
          "output_type": "execute_result",
          "data": {
            "text/html": [
              "<div>\n",
              "<style scoped>\n",
              "    .dataframe tbody tr th:only-of-type {\n",
              "        vertical-align: middle;\n",
              "    }\n",
              "\n",
              "    .dataframe tbody tr th {\n",
              "        vertical-align: top;\n",
              "    }\n",
              "\n",
              "    .dataframe thead th {\n",
              "        text-align: right;\n",
              "    }\n",
              "</style>\n",
              "<table border=\"1\" class=\"dataframe\">\n",
              "  <thead>\n",
              "    <tr style=\"text-align: right;\">\n",
              "      <th></th>\n",
              "      <th>Category[LSTM]</th>\n",
              "    </tr>\n",
              "  </thead>\n",
              "  <tbody>\n",
              "    <tr>\n",
              "      <th>0</th>\n",
              "      <td>Schwab</td>\n",
              "    </tr>\n",
              "  </tbody>\n",
              "</table>\n",
              "</div>"
            ],
            "text/plain": [
              "  Category[LSTM]\n",
              "0         Schwab"
            ]
          },
          "metadata": {
            "tags": []
          },
          "execution_count": 6
        }
      ]
    },
    {
      "cell_type": "code",
      "metadata": {
        "id": "nmOoaYG94PNt",
        "colab_type": "code",
        "colab": {
          "base_uri": "https://localhost:8080/",
          "height": 168
        },
        "outputId": "46e18e1c-40d0-4c22-b8e7-98a14f3654d0"
      },
      "source": [
        "df.to_csv(\"results2.csv\", index=False)\n",
        "df1 = pd.read_csv('results2.csv')\n",
        "df1\n",
        "a = pd.read_csv('results1.csv')\n",
        "b = pd.read_csv('results2.csv')\n",
        "merged = a.merge(b, right_index=True, left_index=True)\n",
        "merged.to_csv('results3.csv', index = False)\n",
        "merged\n"
      ],
      "execution_count": 11,
      "outputs": [
        {
          "output_type": "execute_result",
          "data": {
            "text/html": [
              "<div>\n",
              "<style scoped>\n",
              "    .dataframe tbody tr th:only-of-type {\n",
              "        vertical-align: middle;\n",
              "    }\n",
              "\n",
              "    .dataframe tbody tr th {\n",
              "        vertical-align: top;\n",
              "    }\n",
              "\n",
              "    .dataframe thead th {\n",
              "        text-align: right;\n",
              "    }\n",
              "</style>\n",
              "<table border=\"1\" class=\"dataframe\">\n",
              "  <thead>\n",
              "    <tr style=\"text-align: right;\">\n",
              "      <th></th>\n",
              "      <th>TITLE</th>\n",
              "      <th>ACC_TYPE</th>\n",
              "      <th>PHONE</th>\n",
              "      <th>ADDRESS</th>\n",
              "      <th>CITY</th>\n",
              "      <th>ACC_NO</th>\n",
              "      <th>SOCIAL_SECURITY_NO</th>\n",
              "      <th>RELATIONSHIP_NO</th>\n",
              "      <th>EMAIL</th>\n",
              "      <th>Category[LSTM]</th>\n",
              "    </tr>\n",
              "  </thead>\n",
              "  <tbody>\n",
              "    <tr>\n",
              "      <th>0</th>\n",
              "      <td>Client Account Transfer Form</td>\n",
              "      <td>IRA</td>\n",
              "      <td>(541) 754-3010</td>\n",
              "      <td>280 Park Ave 12th Floor</td>\n",
              "      <td>New York, NY 10017</td>\n",
              "      <td>25265454</td>\n",
              "      <td>383418383</td>\n",
              "      <td>335-4412</td>\n",
              "      <td>alarcon@gmail.com</td>\n",
              "      <td>Schwab</td>\n",
              "    </tr>\n",
              "  </tbody>\n",
              "</table>\n",
              "</div>"
            ],
            "text/plain": [
              "                          TITLE ACC_TYPE  ...              EMAIL Category[LSTM]\n",
              "0  Client Account Transfer Form      IRA  ...  alarcon@gmail.com         Schwab\n",
              "\n",
              "[1 rows x 10 columns]"
            ]
          },
          "metadata": {
            "tags": []
          },
          "execution_count": 11
        }
      ]
    },
    {
      "cell_type": "code",
      "metadata": {
        "id": "o6JdLzsB5L-3",
        "colab_type": "code",
        "colab": {
          "base_uri": "https://localhost:8080/",
          "height": 185
        },
        "outputId": "0b0fcb12-a700-4bc7-8f78-2f7baed8259c"
      },
      "source": [
        "a = pd.read_csv('results.csv')\n",
        "b = pd.read_csv('results3.csv')\n",
        "merged = a.merge(b, right_index=True, left_index=True)\n",
        "merged.to_csv('FinalResults.csv', index = False)\n",
        "merged"
      ],
      "execution_count": 12,
      "outputs": [
        {
          "output_type": "execute_result",
          "data": {
            "text/html": [
              "<div>\n",
              "<style scoped>\n",
              "    .dataframe tbody tr th:only-of-type {\n",
              "        vertical-align: middle;\n",
              "    }\n",
              "\n",
              "    .dataframe tbody tr th {\n",
              "        vertical-align: top;\n",
              "    }\n",
              "\n",
              "    .dataframe thead th {\n",
              "        text-align: right;\n",
              "    }\n",
              "</style>\n",
              "<table border=\"1\" class=\"dataframe\">\n",
              "  <thead>\n",
              "    <tr style=\"text-align: right;\">\n",
              "      <th></th>\n",
              "      <th>Company Name[OD]</th>\n",
              "      <th>Type of Form[OD]</th>\n",
              "      <th>CheckBox Field[OD]</th>\n",
              "      <th>TITLE</th>\n",
              "      <th>ACC_TYPE</th>\n",
              "      <th>PHONE</th>\n",
              "      <th>ADDRESS</th>\n",
              "      <th>CITY</th>\n",
              "      <th>ACC_NO</th>\n",
              "      <th>SOCIAL_SECURITY_NO</th>\n",
              "      <th>RELATIONSHIP_NO</th>\n",
              "      <th>EMAIL</th>\n",
              "      <th>Category[LSTM]</th>\n",
              "    </tr>\n",
              "  </thead>\n",
              "  <tbody>\n",
              "    <tr>\n",
              "      <th>0</th>\n",
              "      <td>Merrill Lynch</td>\n",
              "      <td>Client Account Transfer Form</td>\n",
              "      <td>IRA</td>\n",
              "      <td>Client Account Transfer Form</td>\n",
              "      <td>IRA</td>\n",
              "      <td>(541) 754-3010</td>\n",
              "      <td>280 Park Ave 12th Floor</td>\n",
              "      <td>New York, NY 10017</td>\n",
              "      <td>25265454</td>\n",
              "      <td>383418383</td>\n",
              "      <td>335-4412</td>\n",
              "      <td>alarcon@gmail.com</td>\n",
              "      <td>Schwab</td>\n",
              "    </tr>\n",
              "  </tbody>\n",
              "</table>\n",
              "</div>"
            ],
            "text/plain": [
              "  Company Name[OD]  ... Category[LSTM]\n",
              "0    Merrill Lynch  ...         Schwab\n",
              "\n",
              "[1 rows x 13 columns]"
            ]
          },
          "metadata": {
            "tags": []
          },
          "execution_count": 12
        }
      ]
    },
    {
      "cell_type": "markdown",
      "metadata": {
        "id": "rOfHWC6W6-y0",
        "colab_type": "text"
      },
      "source": [
        "**NOT REQUIRED**"
      ]
    },
    {
      "cell_type": "markdown",
      "metadata": {
        "id": "eTRQs-lmpB0j",
        "colab_type": "text"
      },
      "source": [
        "## **TEXT CLASSIFICATION/ ANALYSIS USING [LSTM (Long Short Term Memory)]**\n",
        "In this final step we perform, sentiment analysis over the text, saved in an CSV File, using the LSTM Architecture to predict the category of the form (i.e the company to which the form belongs).\n",
        "\n",
        "**Input:-** Results from NER\n",
        "\n",
        "**Output:-** *Category* ['Merrill Lynch', 'Charles Schwab'.......] \n"
      ]
    },
    {
      "cell_type": "code",
      "metadata": {
        "id": "kI4i3F1eou-_",
        "colab_type": "code",
        "colab": {}
      },
      "source": [
        "import pandas as pd\n",
        "import numpy as np\n"
      ],
      "execution_count": 0,
      "outputs": []
    },
    {
      "cell_type": "code",
      "metadata": {
        "id": "44G5WYfPpJOT",
        "colab_type": "code",
        "colab": {}
      },
      "source": [
        "path = '/content/drive/My Drive/UPDATED_IRA.csv'"
      ],
      "execution_count": 0,
      "outputs": []
    },
    {
      "cell_type": "code",
      "metadata": {
        "id": "hOWQYDfipKoQ",
        "colab_type": "code",
        "colab": {}
      },
      "source": [
        "df = pd.read_csv(path, encoding = 'unicode_escape')"
      ],
      "execution_count": 0,
      "outputs": []
    },
    {
      "cell_type": "code",
      "metadata": {
        "id": "3KsxkqQ9pNB0",
        "colab_type": "code",
        "colab": {}
      },
      "source": [
        "import torch\n",
        "from torchtext import data"
      ],
      "execution_count": 0,
      "outputs": []
    },
    {
      "cell_type": "code",
      "metadata": {
        "id": "Lk3WHrCRpOeL",
        "colab_type": "code",
        "colab": {}
      },
      "source": [
        "TEXT = data.Field(tokenize = 'spacy', lower = True)\n",
        "LABEL = data.LabelField()"
      ],
      "execution_count": 0,
      "outputs": []
    },
    {
      "cell_type": "code",
      "metadata": {
        "id": "3bi44J8npQjl",
        "colab_type": "code",
        "colab": {}
      },
      "source": [
        "fields = [('sl', TEXT), ('category', LABEL), ('title', TEXT), ('social_number', TEXT), ('acc_type', TEXT), ('city', TEXT)]"
      ],
      "execution_count": 0,
      "outputs": []
    },
    {
      "cell_type": "code",
      "metadata": {
        "id": "CPFZLEp_pR6F",
        "colab_type": "code",
        "colab": {}
      },
      "source": [
        "news = data.TabularDataset(\n",
        "    path=path, format='csv',\n",
        "    fields = fields,\n",
        "    skip_header= True)\n"
      ],
      "execution_count": 0,
      "outputs": []
    },
    {
      "cell_type": "code",
      "metadata": {
        "id": "fCTwvT9hpTdY",
        "colab_type": "code",
        "colab": {}
      },
      "source": [
        "import random\n",
        "SEED = 1234\n",
        "\n",
        "trn, vld, tst = news.split(split_ratio=[0.7, 0.2, 0.1], random_state = random.seed(SEED))"
      ],
      "execution_count": 0,
      "outputs": []
    },
    {
      "cell_type": "code",
      "metadata": {
        "id": "bjjZFSTYpVBL",
        "colab_type": "code",
        "outputId": "967ec62e-1616-4d88-a92b-599830313381",
        "colab": {
          "base_uri": "https://localhost:8080/",
          "height": 118
        }
      },
      "source": [
        "vars(trn[0])     "
      ],
      "execution_count": 0,
      "outputs": [
        {
          "output_type": "execute_result",
          "data": {
            "text/plain": [
              "{'acc_type': ['cost'],\n",
              " 'category': 'Ameritrade Institutional',\n",
              " 'city': [],\n",
              " 'sl': ['56'],\n",
              " 'social_number': ['404711411'],\n",
              " 'title': ['account', 'transfer', 'form']}"
            ]
          },
          "metadata": {
            "tags": []
          },
          "execution_count": 93
        }
      ]
    },
    {
      "cell_type": "code",
      "metadata": {
        "id": "W6CIrXRmpX3v",
        "colab_type": "code",
        "outputId": "bfee632a-c5cd-4cd8-8e1f-d66dc010cdd1",
        "colab": {
          "base_uri": "https://localhost:8080/",
          "height": 50
        }
      },
      "source": [
        "TEXT.build_vocab(trn, \n",
        "                 vectors = \"glove.6B.100d\", \n",
        "                 unk_init = torch.Tensor.normal_)\n",
        "\n",
        "LABEL.build_vocab(trn)"
      ],
      "execution_count": 0,
      "outputs": [
        {
          "output_type": "stream",
          "text": [
            ".vector_cache/glove.6B.zip: 862MB [06:28, 2.22MB/s]                           \n",
            "100%|█████████▉| 399833/400000 [00:17<00:00, 23182.63it/s]"
          ],
          "name": "stderr"
        }
      ]
    },
    {
      "cell_type": "code",
      "metadata": {
        "id": "nEsxjKFCpaA8",
        "colab_type": "code",
        "outputId": "a71bbc3a-0abb-4b48-ea98-fa5a5196565e",
        "colab": {
          "base_uri": "https://localhost:8080/",
          "height": 50
        }
      },
      "source": [
        "print(len(TEXT.vocab))\n",
        "print(len(LABEL.vocab))"
      ],
      "execution_count": 0,
      "outputs": [
        {
          "output_type": "stream",
          "text": [
            "161\n",
            "3\n"
          ],
          "name": "stdout"
        }
      ]
    },
    {
      "cell_type": "code",
      "metadata": {
        "id": "Rf7_BhOArQsE",
        "colab_type": "code",
        "outputId": "1c8e5300-acf3-4405-eab2-59dfbcac5dc6",
        "colab": {
          "base_uri": "https://localhost:8080/",
          "height": 34
        }
      },
      "source": [
        "print(LABEL.vocab.stoi)"
      ],
      "execution_count": 0,
      "outputs": [
        {
          "output_type": "stream",
          "text": [
            "defaultdict(<function _default_unk_index at 0x7fb044560620>, {'Ameritrade Institutional': 0, 'Merrilllynch_CRA': 1, 'Schwab_IRA': 2})\n"
          ],
          "name": "stdout"
        }
      ]
    },
    {
      "cell_type": "code",
      "metadata": {
        "id": "WRT-JEQ9rSb3",
        "colab_type": "code",
        "colab": {}
      },
      "source": [
        "BATCH_SIZE = 64\n",
        "\n",
        "device = torch.device('cuda' if torch.cuda.is_available() else 'cpu')\n",
        "\n",
        "train_iterator, valid_iterator, test_iterator = data.BucketIterator.splits(\n",
        "    (trn, vld, tst), \n",
        "    batch_size = BATCH_SIZE, \n",
        "    device = device,\n",
        "    sort_key= lambda x:x.title, \n",
        "    sort_within_batch= False\n",
        "    )"
      ],
      "execution_count": 0,
      "outputs": []
    },
    {
      "cell_type": "code",
      "metadata": {
        "id": "qwPB-HLRrUib",
        "colab_type": "code",
        "colab": {}
      },
      "source": [
        "import torch.nn as nn\n",
        "\n",
        "class RNN(nn.Module):\n",
        "    def __init__(self, vocab_size, embedding_dim, hidden_dim, output_dim, n_layers, bidirectional, dropout):\n",
        "        \n",
        "        super().__init__()\n",
        "                \n",
        "        self.embedding = nn.Embedding(vocab_size, embedding_dim)\n",
        "        \n",
        "        \n",
        "        self.lstm_title = nn.LSTM(embedding_dim, hidden_dim, num_layers = n_layers, bidirectional = bidirectional, dropout = dropout)\n",
        "        self.lstm_social_number = nn.LSTM(embedding_dim, hidden_dim, num_layers = n_layers, bidirectional = bidirectional, dropout = dropout)\n",
        "        self.lstm_account_type = nn.LSTM(embedding_dim, hidden_dim, num_layers = n_layers, bidirectional = bidirectional, dropout = dropout)\n",
        "        self.lstm_city = nn.LSTM(embedding_dim, hidden_dim, num_layers = n_layers, bidirectional = bidirectional, dropout = dropout)\n",
        "\n",
        "\n",
        "        self.fc_title = nn.Linear(hidden_dim * 2, 100)\n",
        "        self.fc_social_number = nn.Linear(hidden_dim * 2, 100)\n",
        "        self.fc_account_type = nn.Linear(hidden_dim * 2, 100)\n",
        "        self.fc_city = nn.Linear(hidden_dim * 2, 100)\n",
        "\n",
        "        self.fc_total = nn.Linear(400, output_dim)\n",
        "\n",
        "        self.dropout = nn.Dropout(dropout)\n",
        "    def forward(self, title, social_number, acc_type, city):\n",
        "      embedded_title = self.dropout(self.embedding(title))\n",
        "      embedded_social_number = self.dropout(self.embedding(social_number))\n",
        "      embedded_acc_type = self.dropout(self.embedding(acc_type))\n",
        "      embedded_city = self.dropout(self.embedding(city))\n",
        "\n",
        "      output_title, (hidden_title, cell_title) = self.lstm_title(embedded_title)\n",
        "      output_social_number, (hidden_social_number, cell_social_number) = self.lstm_social_number(embedded_social_number)\n",
        "      output_account_type, (hidden_account_type, cell_account_type) = self.lstm_account_type(embedded_acc_type)\n",
        "      output_city, (hidden_city, cell_city) = self.lstm_city(embedded_city)\n",
        "\n",
        "      hidden_title = self.dropout(torch.cat((hidden_title[-2, :, :], hidden_title[-1, :, :]), dim = 1))\n",
        "      hidden_social_number = self.dropout(torch.cat((hidden_social_number[-2, :, :], hidden_social_number[-1, :, :]), dim = 1))\n",
        "      hidden_account_type = self.dropout(torch.cat((hidden_account_type[-2, :, :], hidden_account_type[-1, :, :]), dim = 1))\n",
        "      hidden_city = self.dropout(torch.cat((hidden_city[-2, :, :], hidden_city[-1, :, :]), dim = 1))\n",
        "\n",
        "      full_title = self.fc_title(hidden_title)\n",
        "      full_social_number = self.fc_social_number(hidden_social_number)\n",
        "      full_account_type = self.fc_city(hidden_account_type)\n",
        "      full_city = self.fc_city(hidden_city)\n",
        "\n",
        "      hidden_total = torch.cat((full_title, full_social_number, full_account_type, full_city), 1)\n",
        "        \n",
        "      return self.fc_total(hidden_total)\n",
        "        ############################################################################################################################        \n",
        "\n",
        "     "
      ],
      "execution_count": 0,
      "outputs": []
    },
    {
      "cell_type": "code",
      "metadata": {
        "id": "w2fTfK0trWcU",
        "colab_type": "code",
        "colab": {}
      },
      "source": [
        "INPUT_DIM = len(TEXT.vocab)\n",
        "EMBEDDING_DIM = 100\n",
        "HIDDEN_DIM = 256\n",
        "OUTPUT_DIM = 3\n",
        "N_LAYERS = 2\n",
        "BIDIRECTIONAL = True\n",
        "DROPOUT = 0.2\n",
        "\n",
        "model = RNN(INPUT_DIM, EMBEDDING_DIM, HIDDEN_DIM, OUTPUT_DIM, N_LAYERS, BIDIRECTIONAL, DROPOUT)"
      ],
      "execution_count": 0,
      "outputs": []
    },
    {
      "cell_type": "code",
      "metadata": {
        "id": "W3Fh_ABqrYd4",
        "colab_type": "code",
        "outputId": "6a16dc60-39a5-41ed-93d2-9493d4329477",
        "colab": {
          "base_uri": "https://localhost:8080/",
          "height": 34
        }
      },
      "source": [
        "def count_parameters(model):\n",
        "    return sum(p.numel() for p in model.parameters() if p.requires_grad)\n",
        "\n",
        "print(f'The model has {count_parameters(model):,} trainable parameters')"
      ],
      "execution_count": 0,
      "outputs": [
        {
          "output_type": "stream",
          "text": [
            "The model has 9,463,079 trainable parameters\n"
          ],
          "name": "stdout"
        }
      ]
    },
    {
      "cell_type": "code",
      "metadata": {
        "id": "xjNMgNUnraRC",
        "colab_type": "code",
        "outputId": "b33f50ae-6690-4c34-c665-2210704f4737",
        "colab": {
          "base_uri": "https://localhost:8080/",
          "height": 34
        }
      },
      "source": [
        "pretrained_embeddings = TEXT.vocab.vectors\n",
        "\n",
        "print(pretrained_embeddings.shape)"
      ],
      "execution_count": 0,
      "outputs": [
        {
          "output_type": "stream",
          "text": [
            "torch.Size([161, 100])\n"
          ],
          "name": "stdout"
        }
      ]
    },
    {
      "cell_type": "code",
      "metadata": {
        "id": "RTYbhx8CrcTm",
        "colab_type": "code",
        "outputId": "2f932469-3ab4-4739-8893-2b62c9bf4c68",
        "colab": {
          "base_uri": "https://localhost:8080/",
          "height": 134
        }
      },
      "source": [
        "model.embedding.weight.data.copy_(pretrained_embeddings)"
      ],
      "execution_count": 0,
      "outputs": [
        {
          "output_type": "execute_result",
          "data": {
            "text/plain": [
              "tensor([[ 2.1616, -0.4299,  0.5180,  ...,  0.3033, -0.8801,  2.3416],\n",
              "        [ 1.3974,  0.6581, -0.8651,  ...,  1.8473,  0.7218,  1.3600],\n",
              "        [-0.0435,  0.0862,  0.4374,  ..., -0.7887,  0.1349,  0.0740],\n",
              "        ...,\n",
              "        [-0.2205, -0.1132,  0.9428,  ..., -0.3273,  0.6302,  0.3625],\n",
              "        [ 0.8752, -0.3354, -0.1811,  ...,  0.0128,  0.1501,  0.7170],\n",
              "        [ 0.4839, -0.1108,  0.1670,  ...,  0.2057,  1.0885, -0.3995]])"
            ]
          },
          "metadata": {
            "tags": []
          },
          "execution_count": 102
        }
      ]
    },
    {
      "cell_type": "code",
      "metadata": {
        "id": "O_zwnCDcreVc",
        "colab_type": "code",
        "colab": {}
      },
      "source": [
        "import torch.optim as optim\n",
        "\n",
        "optimizer = optim.Adam(model.parameters())"
      ],
      "execution_count": 0,
      "outputs": []
    },
    {
      "cell_type": "code",
      "metadata": {
        "id": "sRvkXanfriAS",
        "colab_type": "code",
        "colab": {}
      },
      "source": [
        "criterion = nn.CrossEntropyLoss()\n",
        "\n",
        "model = model.to(device)\n",
        "criterion = criterion.to(device)"
      ],
      "execution_count": 0,
      "outputs": []
    },
    {
      "cell_type": "code",
      "metadata": {
        "id": "-c2AI1R8rjiz",
        "colab_type": "code",
        "colab": {}
      },
      "source": [
        "def categorical_accuracy(preds, y):\n",
        "    max_preds = preds.argmax(dim = 1, keepdim = True)\n",
        "    correct = max_preds.squeeze(1).eq(y)\n",
        "    return correct.sum() / torch.FloatTensor([y.shape[0]])"
      ],
      "execution_count": 0,
      "outputs": []
    },
    {
      "cell_type": "code",
      "metadata": {
        "id": "ZB0nSriurlEs",
        "colab_type": "code",
        "colab": {}
      },
      "source": [
        "def train(model, iterator, optimizer, criterion):\n",
        "    \n",
        "    epoch_loss = 0\n",
        "    epoch_acc = 0\n",
        "    \n",
        "    model.train()\n",
        "    \n",
        "    for batch in iterator:\n",
        "        \n",
        "        optimizer.zero_grad()\n",
        "                        \n",
        "        predictions = model(batch.title, batch.social_number, batch.acc_type, batch.city).squeeze(1)\n",
        "        \n",
        "        loss = criterion(predictions, batch.category)\n",
        "        \n",
        "        acc = categorical_accuracy(predictions, batch.category)\n",
        "        \n",
        "        loss.backward()\n",
        "        \n",
        "        optimizer.step()\n",
        "        \n",
        "        epoch_loss += loss.item()\n",
        "        epoch_acc += acc.item()\n",
        "        \n",
        "    return epoch_loss / len(iterator), epoch_acc / len(iterator)"
      ],
      "execution_count": 0,
      "outputs": []
    },
    {
      "cell_type": "code",
      "metadata": {
        "id": "mD0rwsZPrnBB",
        "colab_type": "code",
        "colab": {}
      },
      "source": [
        "def evaluate(model, iterator, criterion):\n",
        "    \n",
        "    epoch_loss = 0\n",
        "    epoch_acc = 0\n",
        "    \n",
        "    model.eval()\n",
        "    \n",
        "    with torch.no_grad():\n",
        "    \n",
        "        for batch in iterator:\n",
        "            \n",
        "            predictions = model(batch.title, batch.social_number, batch.acc_type, batch.city).squeeze(1) \n",
        "            \n",
        "            loss = criterion(predictions, batch.category)\n",
        "            \n",
        "            acc = categorical_accuracy(predictions, batch.title)\n",
        "\n",
        "            epoch_loss += loss.item()\n",
        "            epoch_acc += acc.item()\n",
        "        \n",
        "    return epoch_loss / len(iterator), epoch_acc / len(iterator)\n"
      ],
      "execution_count": 0,
      "outputs": []
    },
    {
      "cell_type": "code",
      "metadata": {
        "id": "UpNaZRpErpFJ",
        "colab_type": "code",
        "colab": {}
      },
      "source": [
        "import time\n",
        "\n",
        "def epoch_time(start_time, end_time):\n",
        "    elapsed_time = end_time - start_time\n",
        "    elapsed_mins = int(elapsed_time / 60)\n",
        "    elapsed_secs = int(elapsed_time - (elapsed_mins * 60))\n",
        "    return elapsed_mins, elapsed_secs\n"
      ],
      "execution_count": 0,
      "outputs": []
    },
    {
      "cell_type": "code",
      "metadata": {
        "id": "0dFNIWGHrqeg",
        "colab_type": "code",
        "outputId": "08458fae-c88f-43de-dd77-daf0f078326f",
        "colab": {
          "base_uri": "https://localhost:8080/",
          "height": 269
        }
      },
      "source": [
        "N_EPOCHS = 5\n",
        "\n",
        "best_valid_loss = float('inf')\n",
        "\n",
        "for epoch in range(N_EPOCHS):\n",
        "\n",
        "    start_time = time.time()\n",
        "    \n",
        "    train_loss, train_acc = train(model, train_iterator, optimizer, criterion)\n",
        "    valid_loss, valid_acc = evaluate(model, valid_iterator, criterion)\n",
        "    \n",
        "    end_time = time.time()\n",
        "\n",
        "    epoch_mins, epoch_secs = epoch_time(start_time, end_time)\n",
        "    \n",
        "    if valid_loss < best_valid_loss:\n",
        "        best_valid_loss = valid_loss\n",
        "        torch.save(model.state_dict(), 'news_classification_model.pt')\n",
        "    \n",
        "    print(f'Epoch: {epoch+1:02} | Epoch Time: {epoch_mins}m {epoch_secs}s')\n",
        "    print(f'\\tTrain Loss: {train_loss:.3f} | Train Acc: {train_acc*100:.2f}%')\n",
        "    print(f'\\t Val. Loss: {valid_loss:.3f} |  Val. Acc: {valid_acc*100:.2f}%')"
      ],
      "execution_count": 0,
      "outputs": [
        {
          "output_type": "stream",
          "text": [
            "Epoch: 01 | Epoch Time: 0m 0s\n",
            "\tTrain Loss: 1.106 | Train Acc: 16.00%\n",
            "\t Val. Loss: 0.906 |  Val. Acc: 0.00%\n",
            "Epoch: 02 | Epoch Time: 0m 0s\n",
            "\tTrain Loss: 0.928 | Train Acc: 52.00%\n",
            "\t Val. Loss: 0.668 |  Val. Acc: 0.00%\n",
            "Epoch: 03 | Epoch Time: 0m 0s\n",
            "\tTrain Loss: 0.760 | Train Acc: 52.00%\n",
            "\t Val. Loss: 0.445 |  Val. Acc: 0.00%\n",
            "Epoch: 04 | Epoch Time: 0m 0s\n",
            "\tTrain Loss: 0.624 | Train Acc: 52.00%\n",
            "\t Val. Loss: 0.313 |  Val. Acc: 0.00%\n",
            "Epoch: 05 | Epoch Time: 0m 0s\n",
            "\tTrain Loss: 0.443 | Train Acc: 74.00%\n",
            "\t Val. Loss: 0.214 |  Val. Acc: 0.00%\n"
          ],
          "name": "stdout"
        }
      ]
    },
    {
      "cell_type": "code",
      "metadata": {
        "id": "5cj1nNaSrr_l",
        "colab_type": "code",
        "outputId": "b2575758-b224-4fa5-9e09-5a4c65bb8f25",
        "colab": {
          "base_uri": "https://localhost:8080/",
          "height": 34
        }
      },
      "source": [
        "test_loss, test_acc = evaluate(model, test_iterator, criterion)\n",
        "\n",
        "print(f'Test Loss: {test_loss:.3f} | Test Acc: {test_acc*100:.2f}%')"
      ],
      "execution_count": 0,
      "outputs": [
        {
          "output_type": "stream",
          "text": [
            "Test Loss: 0.235 | Test Acc: 75.00%\n"
          ],
          "name": "stdout"
        }
      ]
    },
    {
      "cell_type": "code",
      "metadata": {
        "id": "Xr1TZXV2rvOo",
        "colab_type": "code",
        "colab": {}
      },
      "source": [
        "import spacy\n",
        "nlp = spacy.load('en')\n",
        "\n",
        "def predict_category(model, title, social_security_number, account_type, city):\n",
        "    model.eval()\n",
        "    title = title.lower()\n",
        "    social_security_number = social_security_number.lower()\n",
        "    account_type = account_type.lower()\n",
        "    city = city.lower()\n",
        "   \n",
        "\n",
        "    tokenized_title = [tok.text for tok in nlp.tokenizer(title)]\n",
        "    tokenized_social_security_number = [tok.text for tok in nlp.tokenizer(social_security_number)]\n",
        "    tokenized_account_type = [tok.text for tok in nlp.tokenizer(account_type)]\n",
        "    tokenized_city = [tok.text for tok in nlp.tokenizer(city)]\n",
        "\n",
        "   \n",
        "    indexed_title = [TEXT.vocab.stoi[t] for t in tokenized_title]\n",
        "    indexed_social_security_number = [TEXT.vocab.stoi[t] for t in tokenized_social_security_number]\n",
        "    indexed_account_type = [TEXT.vocab.stoi[t] for t in tokenized_account_type]\n",
        "    indexed_city = [TEXT.vocab.stoi[t] for t in tokenized_city]\n",
        "    \n",
        "    \n",
        "  \n",
        "    tensor_title = torch.LongTensor(indexed_title).to(device)\n",
        "    tensor_social_security_number = torch.LongTensor(indexed_social_security_number).to(device)\n",
        "    tensor_account_type = torch.LongTensor(indexed_account_type).to(device)\n",
        "    tensor_city = torch.LongTensor(indexed_city).to(device)\n",
        "  \n",
        "    \n",
        "    \n",
        "    tensor_title = tensor_title.unsqueeze(1)\n",
        "    tensor_social_security_number = tensor_social_security_number.unsqueeze(1)\n",
        "    tensor_account_type = tensor_account_type.unsqueeze(1)\n",
        "    tensor_city = tensor_city.unsqueeze(1)\n",
        "\n",
        "    prediction = model(tensor_title, tensor_social_security_number, tensor_account_type, tensor_city)\n",
        "    max_pred = prediction.argmax(dim=1)\n",
        "    return max_pred.item()"
      ],
      "execution_count": 0,
      "outputs": []
    },
    {
      "cell_type": "code",
      "metadata": {
        "id": "87aDMoHOrw-S",
        "colab_type": "code",
        "outputId": "d689c4a8-f43b-4233-cffc-0a85f5d8fef8",
        "colab": {
          "base_uri": "https://localhost:8080/",
          "height": 34
        }
      },
      "source": [
        "pred = predict_category(model, \"Client Account Transfer Form\", \"545401875\", \"IRA\", \"Boston, MA,02210\")\n",
        "print(f'Predicted category is: {pred} = {LABEL.vocab.itos[pred]}')"
      ],
      "execution_count": 0,
      "outputs": [
        {
          "output_type": "stream",
          "text": [
            "Predicted category is: 1 = Merrilllynch_CRA\n"
          ],
          "name": "stdout"
        }
      ]
    },
    {
      "cell_type": "code",
      "metadata": {
        "id": "EYdLSCl0ry6Y",
        "colab_type": "code",
        "outputId": "199c5d33-4af4-425a-c6e4-2c3c12243b40",
        "colab": {
          "base_uri": "https://localhost:8080/",
          "height": 34
        }
      },
      "source": [
        "pred = predict_category(model, \"Account Application\", \"360-80-6429\", \"IRA\", \"Appling, Georgia\")\n",
        "print(f'Predicted category is: {pred} = {LABEL.vocab.itos[pred]}')"
      ],
      "execution_count": 0,
      "outputs": [
        {
          "output_type": "stream",
          "text": [
            "Predicted category is: 2 = Schwab_IRA\n"
          ],
          "name": "stdout"
        }
      ]
    },
    {
      "cell_type": "code",
      "metadata": {
        "id": "kRE1EBSWv-mM",
        "colab_type": "code",
        "colab": {}
      },
      "source": [
        ""
      ],
      "execution_count": 0,
      "outputs": []
    },
    {
      "cell_type": "markdown",
      "metadata": {
        "id": "gdWSjeQlF_6V",
        "colab_type": "text"
      },
      "source": [
        "# By:- Saksham Dubey and Satish Patnaik, \n",
        "# Under the guidance and supervision of **Mr. Sheik Dawood**"
      ]
    }
  ]
}