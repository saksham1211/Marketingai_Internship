{
  "nbformat": 4,
  "nbformat_minor": 0,
  "metadata": {
    "colab": {
      "name": "Logo and Type Detection [ALL COMPANIES].ipynb",
      "provenance": [],
      "collapsed_sections": [],
      "toc_visible": true,
      "authorship_tag": "ABX9TyNpCRyKV8OjuP8KEQMhFf2Y",
      "include_colab_link": true
    },
    "kernelspec": {
      "name": "python3",
      "display_name": "Python 3"
    }
  },
  "cells": [
    {
      "cell_type": "markdown",
      "metadata": {
        "id": "view-in-github",
        "colab_type": "text"
      },
      "source": [
        "<a href=\"https://colab.research.google.com/github/saksham1211/Marketingai_Internship/blob/master/Logo_and_Type_Detection_%5BALL_COMPANIES%5D.ipynb\" target=\"_parent\"><img src=\"https://colab.research.google.com/assets/colab-badge.svg\" alt=\"Open In Colab\"/></a>"
      ]
    },
    {
      "cell_type": "markdown",
      "metadata": {
        "id": "CtAsXxOYgYTA",
        "colab_type": "text"
      },
      "source": [
        "# **'LOGO' AND 'TYPE OF FORM' DETECTION**\n",
        "In this notebook I have implemented the concepts of object detection and loaded the already trained model (YoloV3), which has been trained on the custom dataset(401 K investment companies logo and type of form).\n",
        "\n",
        "I annotated the images using \"LabellImg\", and then train the model. In this part of the notebook, we have focussed on the 'detection' part and not on the 'training' part.\n",
        "\n",
        "*The following notebook contains code only of the detection of logo and the type of form.*\n",
        "\n",
        "**Input:-** IMAGE [*JPEG*]\n",
        "\n",
        "**Output:-** *Company Name* [Merrill Lynch, Charles Schwab, Fidelity, American Trade] and  *Type of Form* [IRA, Client Account Transfer Form.....]"
      ]
    },
    {
      "cell_type": "markdown",
      "metadata": {
        "id": "TZOd97x7i8wi",
        "colab_type": "text"
      },
      "source": [
        "**MOUNT YOUR GOOGLE DRIVE HERE**"
      ]
    },
    {
      "cell_type": "code",
      "metadata": {
        "id": "OiPgCbIYhq--",
        "colab_type": "code",
        "outputId": "f2ab7cad-9d8e-4404-ecd8-9ddabea17a81",
        "colab": {
          "base_uri": "https://localhost:8080/",
          "height": 122
        }
      },
      "source": [
        "from google.colab import drive\n",
        "drive.mount('/content/drive')"
      ],
      "execution_count": 0,
      "outputs": [
        {
          "output_type": "stream",
          "text": [
            "Go to this URL in a browser: https://accounts.google.com/o/oauth2/auth?client_id=947318989803-6bn6qk8qdgf4n4g3pfee6491hc0brc4i.apps.googleusercontent.com&redirect_uri=urn%3aietf%3awg%3aoauth%3a2.0%3aoob&response_type=code&scope=email%20https%3a%2f%2fwww.googleapis.com%2fauth%2fdocs.test%20https%3a%2f%2fwww.googleapis.com%2fauth%2fdrive%20https%3a%2f%2fwww.googleapis.com%2fauth%2fdrive.photos.readonly%20https%3a%2f%2fwww.googleapis.com%2fauth%2fpeopleapi.readonly\n",
            "\n",
            "Enter your authorization code:\n",
            "··········\n",
            "Mounted at /content/drive\n"
          ],
          "name": "stdout"
        }
      ]
    },
    {
      "cell_type": "code",
      "metadata": {
        "id": "G8VTYkN6gILE",
        "colab_type": "code",
        "outputId": "b2cd1583-e462-495a-c8f1-6c8fd84aecdd",
        "colab": {
          "base_uri": "https://localhost:8080/",
          "height": 394
        }
      },
      "source": [
        "!pip3 install tensorflow-gpu==1.13.1"
      ],
      "execution_count": 12,
      "outputs": [
        {
          "output_type": "stream",
          "text": [
            "Requirement already satisfied: tensorflow-gpu==1.13.1 in /usr/local/lib/python3.6/dist-packages (1.13.1)\n",
            "Requirement already satisfied: astor>=0.6.0 in /usr/local/lib/python3.6/dist-packages (from tensorflow-gpu==1.13.1) (0.8.1)\n",
            "Requirement already satisfied: termcolor>=1.1.0 in /usr/local/lib/python3.6/dist-packages (from tensorflow-gpu==1.13.1) (1.1.0)\n",
            "Requirement already satisfied: grpcio>=1.8.6 in /usr/local/lib/python3.6/dist-packages (from tensorflow-gpu==1.13.1) (1.29.0)\n",
            "Requirement already satisfied: protobuf>=3.6.1 in /usr/local/lib/python3.6/dist-packages (from tensorflow-gpu==1.13.1) (3.10.0)\n",
            "Requirement already satisfied: keras-applications>=1.0.6 in /usr/local/lib/python3.6/dist-packages (from tensorflow-gpu==1.13.1) (1.0.8)\n",
            "Requirement already satisfied: tensorboard<1.14.0,>=1.13.0 in /usr/local/lib/python3.6/dist-packages (from tensorflow-gpu==1.13.1) (1.13.1)\n",
            "Requirement already satisfied: numpy>=1.13.3 in /usr/local/lib/python3.6/dist-packages (from tensorflow-gpu==1.13.1) (1.18.4)\n",
            "Requirement already satisfied: wheel>=0.26 in /usr/local/lib/python3.6/dist-packages (from tensorflow-gpu==1.13.1) (0.34.2)\n",
            "Requirement already satisfied: keras-preprocessing>=1.0.5 in /usr/local/lib/python3.6/dist-packages (from tensorflow-gpu==1.13.1) (1.1.2)\n",
            "Requirement already satisfied: absl-py>=0.1.6 in /usr/local/lib/python3.6/dist-packages (from tensorflow-gpu==1.13.1) (0.9.0)\n",
            "Requirement already satisfied: gast>=0.2.0 in /usr/local/lib/python3.6/dist-packages (from tensorflow-gpu==1.13.1) (0.3.3)\n",
            "Requirement already satisfied: six>=1.10.0 in /usr/local/lib/python3.6/dist-packages (from tensorflow-gpu==1.13.1) (1.12.0)\n",
            "Requirement already satisfied: tensorflow-estimator<1.14.0rc0,>=1.13.0 in /usr/local/lib/python3.6/dist-packages (from tensorflow-gpu==1.13.1) (1.13.0)\n",
            "Requirement already satisfied: setuptools in /usr/local/lib/python3.6/dist-packages (from protobuf>=3.6.1->tensorflow-gpu==1.13.1) (46.3.0)\n",
            "Requirement already satisfied: h5py in /usr/local/lib/python3.6/dist-packages (from keras-applications>=1.0.6->tensorflow-gpu==1.13.1) (2.10.0)\n",
            "Requirement already satisfied: markdown>=2.6.8 in /usr/local/lib/python3.6/dist-packages (from tensorboard<1.14.0,>=1.13.0->tensorflow-gpu==1.13.1) (3.2.2)\n",
            "Requirement already satisfied: werkzeug>=0.11.15 in /usr/local/lib/python3.6/dist-packages (from tensorboard<1.14.0,>=1.13.0->tensorflow-gpu==1.13.1) (1.0.1)\n",
            "Requirement already satisfied: mock>=2.0.0 in /usr/local/lib/python3.6/dist-packages (from tensorflow-estimator<1.14.0rc0,>=1.13.0->tensorflow-gpu==1.13.1) (4.0.2)\n",
            "Requirement already satisfied: importlib-metadata; python_version < \"3.8\" in /usr/local/lib/python3.6/dist-packages (from markdown>=2.6.8->tensorboard<1.14.0,>=1.13.0->tensorflow-gpu==1.13.1) (1.6.0)\n",
            "Requirement already satisfied: zipp>=0.5 in /usr/local/lib/python3.6/dist-packages (from importlib-metadata; python_version < \"3.8\"->markdown>=2.6.8->tensorboard<1.14.0,>=1.13.0->tensorflow-gpu==1.13.1) (3.1.0)\n"
          ],
          "name": "stdout"
        }
      ]
    },
    {
      "cell_type": "code",
      "metadata": {
        "id": "YXN9CCNMh04Q",
        "colab_type": "code",
        "outputId": "8b4980a2-5aff-4959-b140-c74ec8eb4f72",
        "colab": {
          "base_uri": "https://localhost:8080/",
          "height": 224
        }
      },
      "source": [
        "!pip3 install imageai --upgrade"
      ],
      "execution_count": 13,
      "outputs": [
        {
          "output_type": "stream",
          "text": [
            "Requirement already up-to-date: imageai in /usr/local/lib/python3.6/dist-packages (2.1.5)\n",
            "Requirement already satisfied, skipping upgrade: scipy in /usr/local/lib/python3.6/dist-packages (from imageai) (1.4.1)\n",
            "Requirement already satisfied, skipping upgrade: numpy in /usr/local/lib/python3.6/dist-packages (from imageai) (1.18.4)\n",
            "Requirement already satisfied, skipping upgrade: h5py in /usr/local/lib/python3.6/dist-packages (from imageai) (2.10.0)\n",
            "Requirement already satisfied, skipping upgrade: matplotlib in /usr/local/lib/python3.6/dist-packages (from imageai) (3.2.1)\n",
            "Requirement already satisfied, skipping upgrade: pillow in /usr/local/lib/python3.6/dist-packages (from imageai) (7.0.0)\n",
            "Requirement already satisfied, skipping upgrade: six in /usr/local/lib/python3.6/dist-packages (from h5py->imageai) (1.12.0)\n",
            "Requirement already satisfied, skipping upgrade: python-dateutil>=2.1 in /usr/local/lib/python3.6/dist-packages (from matplotlib->imageai) (2.8.1)\n",
            "Requirement already satisfied, skipping upgrade: pyparsing!=2.0.4,!=2.1.2,!=2.1.6,>=2.0.1 in /usr/local/lib/python3.6/dist-packages (from matplotlib->imageai) (2.4.7)\n",
            "Requirement already satisfied, skipping upgrade: cycler>=0.10 in /usr/local/lib/python3.6/dist-packages (from matplotlib->imageai) (0.10.0)\n",
            "Requirement already satisfied, skipping upgrade: kiwisolver>=1.0.1 in /usr/local/lib/python3.6/dist-packages (from matplotlib->imageai) (1.2.0)\n"
          ],
          "name": "stdout"
        }
      ]
    },
    {
      "cell_type": "markdown",
      "metadata": {
        "id": "PQLHEDOnjD1a",
        "colab_type": "text"
      },
      "source": [
        "**Upload your image and copy the path below**"
      ]
    },
    {
      "cell_type": "code",
      "metadata": {
        "id": "MBcSf_igibeo",
        "colab_type": "code",
        "colab": {}
      },
      "source": [
        "IMAGE_PATH = \"/content/charles_edited.jpg\""
      ],
      "execution_count": 0,
      "outputs": []
    },
    {
      "cell_type": "markdown",
      "metadata": {
        "id": "zKNFZWfMjPGT",
        "colab_type": "text"
      },
      "source": [
        "**In the below cell, you can see** \n",
        "\n",
        "detector.setModelPath(copy the model path saved in your G- Drive)\n",
        "\n",
        "detector.setJsonPath(copy the Json config path saved in your G-Drive)"
      ]
    },
    {
      "cell_type": "code",
      "metadata": {
        "id": "BNVe_Esch4wZ",
        "colab_type": "code",
        "colab": {}
      },
      "source": [
        "from imageai.Detection.Custom import CustomObjectDetection\n",
        "\n",
        "detector = CustomObjectDetection()\n",
        "\n",
        "detector.setModelTypeAsYOLOv3()\n",
        "\n",
        "prediction_dictionary= {}\n",
        "prediction_name=[]\n",
        "prediction_probab=[]\n",
        "tick_box_field = []\n",
        "\n",
        "detector.setModelPath(\"/content/drive/My Drive/PASCAL_DATASET/models/detection_model-ex-027--loss-0007.398.h5\") \n",
        "detector.setJsonPath(\"/content/drive/My Drive/PASCAL_DATASET/json/detection_config.json\")\n",
        "detector.loadModel()\n",
        "detections = detector.detectObjectsFromImage(input_image=IMAGE_PATH, output_image_path=\"logo_detected_image.jpg\")\n",
        "for detection in detections:\n",
        "    # print(detection[\"name\"], \" : \", detection[\"percentage_probability\"], \" : \", detection[\"box_points\"])\n",
        "    prediction_name.append(detection[\"name\"])\n",
        "    prediction_probab.append(detection[\"percentage_probability\"])\n",
        "prediction_dictionary = dict(zip(prediction_probab, prediction_name))\n",
        "index1 = sorted(prediction_dictionary.keys())[-1]\n",
        "index2 = sorted(prediction_dictionary.keys())[-2]\n",
        "\n",
        "if(prediction_dictionary[index1] == \"Merrill Lynch\" or prediction_dictionary[index2] == \"Merrill Lynch\"):\n",
        "  tick_detector = CustomObjectDetection()\n",
        "\n",
        "  tick_detector.setModelTypeAsYOLOv3()\n",
        "\n",
        "  tick_detector.setModelPath(\"/content/drive/My Drive/tick_folder/models/detection_model-ex-034--loss-0009.293.h5\") \n",
        "  tick_detector.setJsonPath(\"/content/drive/My Drive/tick_folder/json/detection_config.json\")\n",
        "  tick_detector.loadModel()\n",
        "  tick_detections = tick_detector.detectObjectsFromImage(input_image=IMAGE_PATH, output_image_path=\"logo_detected_image.jpg\")\n",
        "  for detection in tick_detections:\n",
        "    # print(detection[\"name\"], \" : \", detection[\"percentage_probability\"], \" : \", detection[\"box_points\"])\n",
        "    tick_box_field.append(detection[\"name\"])\n",
        "else:\n",
        "  tick_box_field.append(\"No checkbox field is present in the form\")"
      ],
      "execution_count": 0,
      "outputs": []
    },
    {
      "cell_type": "code",
      "metadata": {
        "id": "gjuua5aWq32v",
        "colab_type": "code",
        "outputId": "dd75da79-5bcc-4579-a91a-fee672896034",
        "colab": {
          "base_uri": "https://localhost:8080/",
          "height": 320
        }
      },
      "source": [
        "import numpy as np\n",
        "import cv2\n",
        "from matplotlib import pyplot as plt\n",
        "\n",
        "img = cv2.imread('/content/logo_detected_image.jpg',0)\n",
        "plt.imshow(img, cmap = 'gray', interpolation = 'bicubic')\n",
        "plt.xticks([]), plt.yticks([])\n",
        "plt.show()\n",
        "print()\n",
        "if prediction_dictionary[index1] in ['Charles Schwab', 'Merrill Lynch', 'Fidelity', 'American Funds']:\n",
        "  print(\"The company name is \", prediction_dictionary[index1])\n",
        "  print(\"Type of Form is \", prediction_dictionary[index2])\n",
        "  print(\"CheckBox Field:- \", tick_box_field[0])\n",
        "else:\n",
        "  print(\"The company name is \", prediction_dictionary[index2])\n",
        "  print(\"Type of form is \", prediction_dictionary[index1])\n",
        "  print(\"CheckBox Field:- \", tick_box_field[0])"
      ],
      "execution_count": 50,
      "outputs": [
        {
          "output_type": "display_data",
          "data": {
            "image/png": "[encoded data removed]",
            "text/plain": [
              "<Figure size 432x288 with 1 Axes>"
            ]
          },
          "metadata": {
            "tags": []
          }
        },
        {
          "output_type": "stream",
          "text": [
            "\n",
            "The company name is  Charles Schwab\n",
            "Type of Form is  IRA Account Application\n",
            "CheckBox Field:-  No checkbox field is present in the form\n"
          ],
          "name": "stdout"
        }
      ]
    },
    {
      "cell_type": "code",
      "metadata": {
        "id": "xL5zBy1lwZnu",
        "colab_type": "code",
        "colab": {}
      },
      "source": [
        ""
      ],
      "execution_count": 0,
      "outputs": []
    }
  ]
}