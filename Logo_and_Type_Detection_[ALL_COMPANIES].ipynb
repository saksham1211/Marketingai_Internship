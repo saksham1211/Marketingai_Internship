{
  "nbformat": 4,
  "nbformat_minor": 0,
  "metadata": {
    "colab": {
      "name": "Logo and Type Detection [ALL COMPANIES].ipynb",
      "provenance": [],
      "collapsed_sections": [],
      "authorship_tag": "ABX9TyOa+PedNZAdB8op0ZOYx2TN",
      "include_colab_link": true
    },
    "kernelspec": {
      "name": "python3",
      "display_name": "Python 3"
    }
  },
  "cells": [
    {
      "cell_type": "markdown",
      "metadata": {
        "id": "view-in-github",
        "colab_type": "text"
      },
      "source": [
        "<a href=\"https://colab.research.google.com/github/saksham1211/Marketingai_Internship/blob/master/Logo_and_Type_Detection_%5BALL_COMPANIES%5D.ipynb\" target=\"_parent\"><img src=\"https://colab.research.google.com/assets/colab-badge.svg\" alt=\"Open In Colab\"/></a>"
      ]
    },
    {
      "cell_type": "markdown",
      "metadata": {
        "id": "CtAsXxOYgYTA",
        "colab_type": "text"
      },
      "source": [
        "# LOGO AND TYPE OF FORM DETECTION\n",
        "In this notebook I have implemented the concepts of object detection and loaded the already trained model (YoloV3), which has been trained on the custom dataset(401 K investment companies logo and type of form).\n",
        "\n",
        "I annotated the images using \"LabellImg\", and then train the model. In this part of the notebook, we have focussed on the 'detection' part and not on the 'training' part.\n",
        "\n",
        "*The following notebook contains code only of the detection of logo and the type of form.*\n",
        "\n",
        "**Input:-** IMAGE [*JPEG*]\n",
        "\n",
        "**Output:-** *Company Name* [Merrill Lynch, Charles Schwab, Fidelity, American Trade] and  *Type of Form* [IRA, Client Account Transfer Form.....]"
      ]
    },
    {
      "cell_type": "code",
      "metadata": {
        "id": "OiPgCbIYhq--",
        "colab_type": "code",
        "colab": {}
      },
      "source": [
        "from google.colab import drive\n",
        "drive.mount('/content/drive')"
      ],
      "execution_count": 0,
      "outputs": []
    },
    {
      "cell_type": "code",
      "metadata": {
        "id": "G8VTYkN6gILE",
        "colab_type": "code",
        "colab": {}
      },
      "source": [
        "!pip3 install tensorflow-gpu==1.13.1"
      ],
      "execution_count": 0,
      "outputs": []
    },
    {
      "cell_type": "code",
      "metadata": {
        "id": "YXN9CCNMh04Q",
        "colab_type": "code",
        "colab": {}
      },
      "source": [
        "!pip3 install imageai --upgrade"
      ],
      "execution_count": 0,
      "outputs": []
    },
    {
      "cell_type": "code",
      "metadata": {
        "id": "MBcSf_igibeo",
        "colab_type": "code",
        "colab": {}
      },
      "source": [
        "IMAGE_PATH = \"/content/3.jpg\""
      ],
      "execution_count": 0,
      "outputs": []
    },
    {
      "cell_type": "code",
      "metadata": {
        "id": "BNVe_Esch4wZ",
        "colab_type": "code",
        "colab": {
          "base_uri": "https://localhost:8080/",
          "height": 68
        },
        "outputId": "576d70e6-cabe-45d4-f656-bcb1bd85749c"
      },
      "source": [
        "from imageai.Detection.Custom import CustomObjectDetection\n",
        "\n",
        "detector = CustomObjectDetection()\n",
        "\n",
        "detector.setModelTypeAsYOLOv3()\n",
        "\n",
        "prediction_dictionary= {}\n",
        "prediction_name=[]\n",
        "prediction_probab=[]\n",
        "\n",
        "detector.setModelPath(\"/content/drive/My Drive/PASCAL_DATASET/models/detection_model-ex-027--loss-0007.398.h5\") \n",
        "detector.setJsonPath(\"/content/drive/My Drive/PASCAL_DATASET/json/detection_config.json\")\n",
        "detector.loadModel()\n",
        "detections = detector.detectObjectsFromImage(input_image=IMAGE_PATH, output_image_path=\"logo_detected_image.jpg\")\n",
        "for detection in detections:\n",
        "    print(detection[\"name\"], \" : \", detection[\"percentage_probability\"], \" : \", detection[\"box_points\"])\n",
        "    prediction_name.append(detection[\"name\"])\n",
        "    prediction_probab.append(detection[\"percentage_probability\"])\n",
        "prediction_dictionary = dict(zip(prediction_probab, prediction_name))\n",
        "index1 = sorted(prediction_dictionary.keys())[-1]\n",
        "index2 = sorted(prediction_dictionary.keys())[-2]\n",
        "  "
      ],
      "execution_count": 52,
      "outputs": [
        {
          "output_type": "stream",
          "text": [
            "Client Account Transfer Form  :  98.4982967376709  :  [375, 35, 989, 109]\n",
            "Merrill Lynch  :  99.04277920722961  :  [1247, 38, 1644, 190]\n",
            "Client Account Transfer Form  :  51.70887112617493  :  [1271, 56, 1630, 170]\n"
          ],
          "name": "stdout"
        }
      ]
    },
    {
      "cell_type": "code",
      "metadata": {
        "id": "gjuua5aWq32v",
        "colab_type": "code",
        "colab": {
          "base_uri": "https://localhost:8080/",
          "height": 303
        },
        "outputId": "68c34c99-1f86-40e7-d015-11bfa1fa3841"
      },
      "source": [
        "import numpy as np\n",
        "import cv2\n",
        "from matplotlib import pyplot as plt\n",
        "\n",
        "img = cv2.imread('/content/logo_detected_image.jpg',0)\n",
        "plt.imshow(img, cmap = 'gray', interpolation = 'bicubic')\n",
        "plt.xticks([]), plt.yticks([])\n",
        "plt.show()\n",
        "print()\n",
        "if prediction_dictionary[index1] in ['Charles Schwab', 'Merrill Lynch', 'Fidelity', 'American Funds']:\n",
        "  print(\"The company name is \", prediction_dictionary[index1])\n",
        "  print(\"Type of Form is \", prediction_dictionary[index2])\n",
        "else:\n",
        "  print(\"The company name is \", prediction_dictionary[index2])\n",
        "  print(\"Type of form is \", prediction_dictionary[index1])"
      ],
      "execution_count": 53,
      "outputs": [
        {
          "output_type": "display_data",
          "data": {
            "image/png": "[encoded data removed]",
            "text/plain": [
              "<Figure size 432x288 with 1 Axes>"
            ]
          },
          "metadata": {
            "tags": []
          }
        },
        {
          "output_type": "stream",
          "text": [
            "\n",
            "The company name is  Merrill Lynch\n",
            "Type of Form is  Client Account Transfer Form\n"
          ],
          "name": "stdout"
        }
      ]
    },
    {
      "cell_type": "code",
      "metadata": {
        "id": "xL5zBy1lwZnu",
        "colab_type": "code",
        "colab": {}
      },
      "source": [
        ""
      ],
      "execution_count": 0,
      "outputs": []
    }
  ]
}