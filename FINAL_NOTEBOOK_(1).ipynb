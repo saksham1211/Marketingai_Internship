{
  "nbformat": 4,
  "nbformat_minor": 0,
  "metadata": {
    "colab": {
      "name": "FINAL_NOTEBOOK_(1).ipynb",
      "provenance": [],
      "collapsed_sections": [
        "yLIxRUcs2zTn",
        "_mb2r0PR0mYm",
        "4HCVq_B573wJ",
        "n1qmp1ba-Wwp"
      ],
      "include_colab_link": true
    },
    "kernelspec": {
      "name": "python3",
      "display_name": "Python 3"
    },
    "accelerator": "GPU"
  },
  "cells": [
    {
      "cell_type": "markdown",
      "metadata": {
        "id": "view-in-github",
        "colab_type": "text"
      },
      "source": [
        "<a href=\"https://colab.research.google.com/github/saksham1211/Marketingai_Internship/blob/master/FINAL_NOTEBOOK_(1).ipynb\" target=\"_parent\"><img src=\"https://colab.research.google.com/assets/colab-badge.svg\" alt=\"Open In Colab\"/></a>"
      ]
    },
    {
      "cell_type": "markdown",
      "metadata": {
        "id": "DDSMwgTuFldy",
        "colab_type": "text"
      },
      "source": [
        "# **FINAL PROJECT NOTEBOOK**\n",
        "This notebook is a collection of three different components which are aimed to predict the category of a 401(K) investment company, based on the form given as the input.\n",
        "\n",
        "**Input:-** Form of the investment company (*PDF FORMAT*)\n",
        "\n",
        "**Output:-** *Category* ['Charles Schwab', 'Merrill Lynch', 'American Trade'..........]\n"
      ]
    },
    {
      "cell_type": "markdown",
      "metadata": {
        "id": "yLIxRUcs2zTn",
        "colab_type": "text"
      },
      "source": [
        "### **<------------------Upload PDF------------------>**"
      ]
    },
    {
      "cell_type": "markdown",
      "metadata": {
        "id": "kbxwCtHXA9tx",
        "colab_type": "text"
      },
      "source": [
        "**Make sure you name your PDF as \"form.pdf\" before uploading.**"
      ]
    },
    {
      "cell_type": "code",
      "metadata": {
        "id": "eEDwkI4vJVLy",
        "colab_type": "code",
        "outputId": "5cf81098-4b2e-4c17-b31a-fae0def16c12",
        "colab": {
          "base_uri": "https://localhost:8080/",
          "height": 326
        }
      },
      "source": [
        "pip install pdf2jpg"
      ],
      "execution_count": 1,
      "outputs": [
        {
          "output_type": "stream",
          "text": [
            "Collecting pdf2jpg\n",
            "\u001b[?25l  Downloading https://files.pythonhosted.org/packages/c8/73/36611a5b4fe56570faf386df294483d6e0f115664f458b4e4979359fcb56/pdf2jpg-1.0.tar.gz (4.3MB)\n",
            "\u001b[K     |████████████████████████████████| 4.3MB 6.2MB/s \n",
            "\u001b[?25hCollecting img2pdf\n",
            "\u001b[?25l  Downloading https://files.pythonhosted.org/packages/65/12/6ee1a77614df6decefd88f781cf95b73acf93f0cc9eb03bd5042d116b85d/img2pdf-0.3.6.tar.gz (91kB)\n",
            "\u001b[K     |████████████████████████████████| 92kB 9.9MB/s \n",
            "\u001b[?25hRequirement already satisfied: Pillow in /usr/local/lib/python3.6/dist-packages (from img2pdf->pdf2jpg) (7.0.0)\n",
            "Building wheels for collected packages: pdf2jpg, img2pdf\n",
            "  Building wheel for pdf2jpg (setup.py) ... \u001b[?25l\u001b[?25hdone\n",
            "  Created wheel for pdf2jpg: filename=pdf2jpg-1.0-cp36-none-any.whl size=4287419 sha256=05b6e6476354c0890c0f9d70b1ccd8a893d461218e90644532ea1025c62b1ff4\n",
            "  Stored in directory: /root/.cache/pip/wheels/bd/dc/72/17e98df36aef90f761a81a74f84414ef16db83fdaa69739909\n",
            "  Building wheel for img2pdf (setup.py) ... \u001b[?25l\u001b[?25hdone\n",
            "  Created wheel for img2pdf: filename=img2pdf-0.3.6-cp36-none-any.whl size=39048 sha256=d4d7779080ad96031c2ff270466bde292f9fb8ae5bcfb889355a9de9a7e75217\n",
            "  Stored in directory: /root/.cache/pip/wheels/8c/1c/68/d8764ed7988b469446ed181a656166170ec45b6b1f974f0236\n",
            "Successfully built pdf2jpg img2pdf\n",
            "Installing collected packages: img2pdf, pdf2jpg\n",
            "Successfully installed img2pdf-0.3.6 pdf2jpg-1.0\n"
          ],
          "name": "stdout"
        }
      ]
    },
    {
      "cell_type": "code",
      "metadata": {
        "id": "VSlXAklyFf-H",
        "colab_type": "code",
        "outputId": "dd202d1f-45b3-45b3-837e-b5eda45d830a",
        "colab": {
          "resources": {
            "http://localhost:8080/nbextensions/google.colab/files.js": {
              "data": "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",
              "ok": true,
              "headers": [
                [
                  "content-type",
                  "application/javascript"
                ]
              ],
              "status": 200,
              "status_text": ""
            }
          },
          "base_uri": "https://localhost:8080/",
          "height": 74
        }
      },
      "source": [
        "from io import StringIO\n",
        "from google.colab import files\n",
        "uploaded = files.upload()\n"
      ],
      "execution_count": 18,
      "outputs": [
        {
          "output_type": "display_data",
          "data": {
            "text/html": [
              "\n",
              "     <input type=\"file\" id=\"files-d40fc06a-38ec-418b-b0a9-4249487110d5\" name=\"files[]\" multiple disabled />\n",
              "     <output id=\"result-d40fc06a-38ec-418b-b0a9-4249487110d5\">\n",
              "      Upload widget is only available when the cell has been executed in the\n",
              "      current browser session. Please rerun this cell to enable.\n",
              "      </output>\n",
              "      <script src=\"/nbextensions/google.colab/files.js\"></script> "
            ],
            "text/plain": [
              "<IPython.core.display.HTML object>"
            ]
          },
          "metadata": {
            "tags": []
          }
        },
        {
          "output_type": "stream",
          "text": [
            "Saving form.pdf to form.pdf\n"
          ],
          "name": "stdout"
        }
      ]
    },
    {
      "cell_type": "markdown",
      "metadata": {
        "id": "8-VaPTwtrDse",
        "colab_type": "text"
      },
      "source": [
        "**PDF PATH**"
      ]
    },
    {
      "cell_type": "code",
      "metadata": {
        "id": "nds5lC4dpTgN",
        "colab_type": "code",
        "colab": {}
      },
      "source": [
        "PDF_PATH = '/content/form.pdf'"
      ],
      "execution_count": 0,
      "outputs": []
    },
    {
      "cell_type": "code",
      "metadata": {
        "id": "xQIu28gwIa9J",
        "colab_type": "code",
        "colab": {}
      },
      "source": [
        "from pdf2jpg import pdf2jpg\n",
        "inputpath = PDF_PATH\n",
        "outputpath = \"/content\"\n",
        "# To convert single page\n",
        "result = pdf2jpg.convert_pdf2jpg(inputpath, outputpath, pages=\"0\")\n"
      ],
      "execution_count": 0,
      "outputs": []
    },
    {
      "cell_type": "markdown",
      "metadata": {
        "id": "0pnqCHctrJdc",
        "colab_type": "text"
      },
      "source": [
        "**IMAGE PATH**"
      ]
    },
    {
      "cell_type": "code",
      "metadata": {
        "id": "M9lgy_uToT75",
        "colab_type": "code",
        "colab": {}
      },
      "source": [
        "IMAGE_PATH = '/content/form.pdf_dir/0_form.pdf.jpg'"
      ],
      "execution_count": 0,
      "outputs": []
    },
    {
      "cell_type": "code",
      "metadata": {
        "id": "qkl1jSbncPbn",
        "colab_type": "code",
        "outputId": "024786c8-ab18-4e8c-bb46-3dabc3c0ef19",
        "colab": {
          "base_uri": "https://localhost:8080/",
          "height": 299
        }
      },
      "source": [
        "%pylab inline\n",
        "import matplotlib.pyplot as plt\n",
        "import matplotlib.image as mpimg\n",
        "img=mpimg.imread(IMAGE_PATH)\n",
        "imgplot = plt.imshow(img)\n",
        "axis('off')\n",
        "plt.show()\n",
        "\n",
        "print()\n",
        "print(\"SUCCESSFULLY CONVERTED PDF INTO JPG !\")"
      ],
      "execution_count": 23,
      "outputs": [
        {
          "output_type": "stream",
          "text": [
            "Populating the interactive namespace from numpy and matplotlib\n"
          ],
          "name": "stdout"
        },
        {
          "output_type": "display_data",
          "data": {
            "image/png": "[encoded data removed]",
            "text/plain": [
              "<Figure size 432x288 with 1 Axes>"
            ]
          },
          "metadata": {
            "tags": [],
            "needs_background": "light"
          }
        },
        {
          "output_type": "stream",
          "text": [
            "\n",
            "SUCCESSFULLY CONVERTED PDF INTO JPG !\n"
          ],
          "name": "stdout"
        }
      ]
    },
    {
      "cell_type": "markdown",
      "metadata": {
        "id": "_mb2r0PR0mYm",
        "colab_type": "text"
      },
      "source": [
        "## **LOGO AND TYPE DETECTION (*OBJECT DETECTION*)**\n",
        "In this part of the Notebook, the converted JPEG file is given as the input and using the principles of object detection and using the YOLOV3 Framework, we predict the *name of the company* and the *type of form*.\n",
        "\n",
        "**Input:-** JPEG FILE\n",
        "\n",
        "**Output:-** *Category* ['Merrill Lynch', 'Charles Schwab'.......]  *Type* ['IRA, Client Account Transfer Form'] "
      ]
    },
    {
      "cell_type": "code",
      "metadata": {
        "id": "RdybxqFvcgxr",
        "colab_type": "code",
        "colab": {}
      },
      "source": [
        "from models import *\n",
        "from utils import *\n",
        "import os, sys, time, datetime, random\n",
        "import torch\n",
        "from torch.utils.data import DataLoader\n",
        "from torchvision import datasets, transforms\n",
        "from torch.autograd import Variable\n",
        "import matplotlib.pyplot as plt\n",
        "import matplotlib.patches as patches\n",
        "from PIL import Image\n",
        "import utils"
      ],
      "execution_count": 0,
      "outputs": []
    },
    {
      "cell_type": "code",
      "metadata": {
        "id": "_MH_5cBs0gw3",
        "colab_type": "code",
        "outputId": "61c88c03-049f-4c33-e674-50f9665aebcd",
        "colab": {
          "base_uri": "https://localhost:8080/",
          "height": 71
        }
      },
      "source": [
        "config_path='/content/drive/My Drive/config/yolov3.cfg'\n",
        "weights_path='/content/drive/My Drive/config/checkpoints19.weights'\n",
        "class_path='/content/drive/My Drive/config/coco.names'\n",
        "img_size=416\n",
        "conf_thres=0.8\n",
        "nms_thres=0.4\n",
        "\n",
        "# Load model and weights\n",
        "model = Darknet(config_path, img_size=img_size)\n",
        "model.load_weights(weights_path)\n",
        "model.cuda()\n",
        "model.eval()\n",
        "classes = utils.load_classes(class_path)\n",
        "Tensor = torch.cuda.FloatTensor"
      ],
      "execution_count": 33,
      "outputs": [
        {
          "output_type": "stream",
          "text": [
            "/usr/local/lib/python3.6/dist-packages/torch/nn/_reduction.py:43: UserWarning: size_average and reduce args will be deprecated, please use reduction='mean' instead.\n",
            "  warnings.warn(warning.format(ret))\n"
          ],
          "name": "stderr"
        }
      ]
    },
    {
      "cell_type": "code",
      "metadata": {
        "id": "8rWzixxJ4I_F",
        "colab_type": "code",
        "colab": {}
      },
      "source": [
        "def detect_image(img):\n",
        "    # scale and pad image\n",
        "    ratio = min(img_size/img.size[0], img_size/img.size[1])\n",
        "    imw = round(img.size[0] * ratio)\n",
        "    imh = round(img.size[1] * ratio)\n",
        "    img_transforms = transforms.Compose([ transforms.Resize((imh, imw)),\n",
        "         transforms.Pad((max(int((imh-imw)/2),0), max(int((imw-imh)/2),0), max(int((imh-imw)/2),0), max(int((imw-imh)/2),0)),\n",
        "                        (128,128,128)),\n",
        "         transforms.ToTensor(),\n",
        "         ])\n",
        "    # convert image to Tensor\n",
        "    image_tensor = img_transforms(img).float()\n",
        "    image_tensor = image_tensor.unsqueeze_(0)\n",
        "    input_img = Variable(image_tensor.type(Tensor))\n",
        "    # run inference on the model and get detections\n",
        "    with torch.no_grad():\n",
        "        detections = model(input_img)\n",
        "        detections = utils.non_max_suppression(detections, 80, conf_thres, nms_thres)\n",
        "    return detections[0]"
      ],
      "execution_count": 0,
      "outputs": []
    },
    {
      "cell_type": "code",
      "metadata": {
        "id": "HuPZCTCA5CP1",
        "colab_type": "code",
        "outputId": "beda91a6-70d4-43c1-b449-b54af2495d58",
        "colab": {
          "base_uri": "https://localhost:8080/",
          "height": 605
        }
      },
      "source": [
        "# load image and get detections\n",
        "img_path = IMAGE_PATH\n",
        "prev_time = time.time()\n",
        "img = Image.open(img_path)\n",
        "detections = detect_image(img)\n",
        "inference_time = datetime.timedelta(seconds=time.time() - prev_time)\n",
        "print ('Inference Time: %s' % (inference_time))\n",
        "\n",
        "# Get bounding-box colors\n",
        "cmap = plt.get_cmap('tab20b')\n",
        "colors = [cmap(i) for i in np.linspace(0, 1, 20)]\n",
        "\n",
        "img = np.array(img)\n",
        "plt.figure()\n",
        "fig, ax = plt.subplots(1, figsize=(12,9))\n",
        "ax.imshow(img)\n",
        "\n",
        "pad_x = max(img.shape[0] - img.shape[1], 0) * (img_size / max(img.shape))\n",
        "pad_y = max(img.shape[1] - img.shape[0], 0) * (img_size / max(img.shape))\n",
        "unpad_h = img_size - pad_y\n",
        "unpad_w = img_size - pad_x\n",
        "k=[]\n",
        "if detections is not None:\n",
        "    unique_labels = detections[:, -1].cpu().unique()\n",
        "    n_cls_preds = len(unique_labels)\n",
        "    bbox_colors = random.sample(colors, n_cls_preds)\n",
        "    # browse detections and draw bounding boxes\n",
        "    for x1, y1, x2, y2, conf, cls_conf, cls_pred in detections:\n",
        "        box_h = ((y2 - y1) / unpad_h) * img.shape[0]\n",
        "        box_w = ((x2 - x1) / unpad_w) * img.shape[1]\n",
        "        y1 = ((y1 - pad_y // 2) / unpad_h) * img.shape[0]\n",
        "        x1 = ((x1 - pad_x // 2) / unpad_w) * img.shape[1]\n",
        "        color = bbox_colors[int(np.where(unique_labels == int(cls_pred))[0])]\n",
        "        bbox = patches.Rectangle((x1, y1), box_w, box_h, linewidth=2, edgecolor=color, facecolor='none')\n",
        "        ax.add_patch(bbox)\n",
        "        k.append(classes[int(cls_pred)])\n",
        "        plt.text(x1, y1, s=classes[int(cls_pred)], color='white', verticalalignment='top',\n",
        "                bbox={'color': color, 'pad': 0})\n",
        "plt.axis('off')\n",
        "# save image\n",
        "plt.savefig(img_path.replace(\".jpg\", \"-det.jpg\"), bbox_inches='tight', pad_inches=0.0)\n",
        "plt.show()\n",
        "if len(k)==5:\n",
        "  if(k[2] == 'Merrill Lynch' and k[3]== 'Merrill Lynch'):\n",
        "\n",
        "    print()\n",
        "    print(\"Company Name:- \", k[2])\n",
        "    print(\"Type of Form:- \", k[4])\n",
        "else:\n",
        "  print(\"Company Name:- \", k[0])\n",
        "  print(\"Type of Form:- \", k[1])"
      ],
      "execution_count": 43,
      "outputs": [
        {
          "output_type": "stream",
          "text": [
            "Inference Time: 0:00:00.183957\n"
          ],
          "name": "stdout"
        },
        {
          "output_type": "display_data",
          "data": {
            "text/plain": [
              "<Figure size 432x288 with 0 Axes>"
            ]
          },
          "metadata": {
            "tags": []
          }
        },
        {
          "output_type": "display_data",
          "data": {
            "image/png": "[encoded data removed]",
            "text/plain": [
              "<Figure size 864x648 with 1 Axes>"
            ]
          },
          "metadata": {
            "tags": [],
            "needs_background": "light"
          }
        },
        {
          "output_type": "stream",
          "text": [
            "\n",
            "Company Name:-  Merrill Lynch\n",
            "Type of Form:-  Client Account Transfer Form\n"
          ],
          "name": "stdout"
        }
      ]
    },
    {
      "cell_type": "markdown",
      "metadata": {
        "id": "4HCVq_B573wJ",
        "colab_type": "text"
      },
      "source": [
        "## **Named Entity Recognition [NER]**\n",
        "Using the concepts of NER and OCR, we detect the text element fields in the form and then predict the category, type, and various other fields which are filled in the form.\n",
        "\n",
        "**Input:-** *FORM* [PDF/JPEG/PNG]\n",
        "\n",
        "**Output:-** *Category* ['Merrill Lynch', 'Charles Schwab'.......] *Type* ['IRA, Client Account Transfer Form'].......*Name*['Jacobs'....], *City*['New York'....]"
      ]
    },
    {
      "cell_type": "code",
      "metadata": {
        "id": "dSfXOPz35OSj",
        "colab_type": "code",
        "outputId": "691087ed-e59d-4d3c-a197-399aecea80da",
        "colab": {
          "base_uri": "https://localhost:8080/",
          "height": 185
        }
      },
      "source": [
        "!pip install pytesseract"
      ],
      "execution_count": 0,
      "outputs": [
        {
          "output_type": "stream",
          "text": [
            "Collecting pytesseract\n",
            "  Downloading https://files.pythonhosted.org/packages/1d/d8/521db389ff0aae32035bfda6ed39cb2c2e28521c47015f6431f07460c50a/pytesseract-0.3.4.tar.gz\n",
            "Requirement already satisfied: Pillow in /usr/local/lib/python3.6/dist-packages (from pytesseract) (7.0.0)\n",
            "Building wheels for collected packages: pytesseract\n",
            "  Building wheel for pytesseract (setup.py) ... \u001b[?25l\u001b[?25hdone\n",
            "  Created wheel for pytesseract: filename=pytesseract-0.3.4-py2.py3-none-any.whl size=13431 sha256=cf1f995031cc9e5fa3f3bec04eea3c3a4936ee29c962c272931e1df16141ecd9\n",
            "  Stored in directory: /root/.cache/pip/wheels/63/2a/a0/7596d2e0a73cf0aeffd6f6170862c4e73f3763b7827e48691a\n",
            "Successfully built pytesseract\n",
            "Installing collected packages: pytesseract\n",
            "Successfully installed pytesseract-0.3.4\n"
          ],
          "name": "stdout"
        }
      ]
    },
    {
      "cell_type": "code",
      "metadata": {
        "id": "TQoLpdqc9QHm",
        "colab_type": "code",
        "outputId": "96668d59-5aca-4780-803f-535d2eee697d",
        "colab": {
          "base_uri": "https://localhost:8080/",
          "height": 185
        }
      },
      "source": [
        "!pip install tesseract"
      ],
      "execution_count": 0,
      "outputs": [
        {
          "output_type": "stream",
          "text": [
            "Collecting tesseract\n",
            "\u001b[?25l  Downloading https://files.pythonhosted.org/packages/8d/b7/c4fae9af5842f69d9c45bf1195a94aec090628535c102894552a7a7dbe6c/tesseract-0.1.3.tar.gz (45.6MB)\n",
            "\u001b[K     |████████████████████████████████| 45.6MB 73kB/s \n",
            "\u001b[?25hBuilding wheels for collected packages: tesseract\n",
            "  Building wheel for tesseract (setup.py) ... \u001b[?25l\u001b[?25hdone\n",
            "  Created wheel for tesseract: filename=tesseract-0.1.3-cp36-none-any.whl size=45562571 sha256=3e00aaa372ae6ea91a65d63865ef916151864e56c4538ddc3efcafd80d9d2344\n",
            "  Stored in directory: /root/.cache/pip/wheels/82/1f/d9/24797b123379e4ea9511cf660835468b62dad609634cad2aba\n",
            "Successfully built tesseract\n",
            "Installing collected packages: tesseract\n",
            "Successfully installed tesseract-0.1.3\n"
          ],
          "name": "stdout"
        }
      ]
    },
    {
      "cell_type": "code",
      "metadata": {
        "id": "1U29sJ6d9SPk",
        "colab_type": "code",
        "outputId": "9b9532f1-fd87-41bf-c6cc-e25ef4c584db",
        "colab": {
          "base_uri": "https://localhost:8080/",
          "height": 34
        }
      },
      "source": [
        "!pip install Pillow"
      ],
      "execution_count": 0,
      "outputs": [
        {
          "output_type": "stream",
          "text": [
            "Requirement already satisfied: Pillow in /usr/local/lib/python3.6/dist-packages (7.0.0)\n"
          ],
          "name": "stdout"
        }
      ]
    },
    {
      "cell_type": "code",
      "metadata": {
        "id": "x-PEjI1G9WD5",
        "colab_type": "code",
        "outputId": "6087d9cc-9b6e-4f71-a4b6-faec2e937c11",
        "colab": {
          "base_uri": "https://localhost:8080/",
          "height": 605
        }
      },
      "source": [
        "!sudo apt-get install tesseract-ocr"
      ],
      "execution_count": 0,
      "outputs": [
        {
          "output_type": "stream",
          "text": [
            "Reading package lists... Done\n",
            "Building dependency tree       \n",
            "Reading state information... Done\n",
            "The following additional packages will be installed:\n",
            "  tesseract-ocr-eng tesseract-ocr-osd\n",
            "The following NEW packages will be installed:\n",
            "  tesseract-ocr tesseract-ocr-eng tesseract-ocr-osd\n",
            "0 upgraded, 3 newly installed, 0 to remove and 29 not upgraded.\n",
            "Need to get 4,795 kB of archives.\n",
            "After this operation, 15.8 MB of additional disk space will be used.\n",
            "Get:1 http://archive.ubuntu.com/ubuntu bionic/universe amd64 tesseract-ocr-eng all 4.00~git24-0e00fe6-1.2 [1,588 kB]\n",
            "Get:2 http://archive.ubuntu.com/ubuntu bionic/universe amd64 tesseract-ocr-osd all 4.00~git24-0e00fe6-1.2 [2,989 kB]\n",
            "Get:3 http://archive.ubuntu.com/ubuntu bionic/universe amd64 tesseract-ocr amd64 4.00~git2288-10f4998a-2 [218 kB]\n",
            "Fetched 4,795 kB in 0s (13.9 MB/s)\n",
            "debconf: unable to initialize frontend: Dialog\n",
            "debconf: (No usable dialog-like program is installed, so the dialog based frontend cannot be used. at /usr/share/perl5/Debconf/FrontEnd/Dialog.pm line 76, <> line 3.)\n",
            "debconf: falling back to frontend: Readline\n",
            "debconf: unable to initialize frontend: Readline\n",
            "debconf: (This frontend requires a controlling tty.)\n",
            "debconf: falling back to frontend: Teletype\n",
            "dpkg-preconfigure: unable to re-open stdin: \n",
            "Selecting previously unselected package tesseract-ocr-eng.\n",
            "(Reading database ... 144429 files and directories currently installed.)\n",
            "Preparing to unpack .../tesseract-ocr-eng_4.00~git24-0e00fe6-1.2_all.deb ...\n",
            "Unpacking tesseract-ocr-eng (4.00~git24-0e00fe6-1.2) ...\n",
            "Selecting previously unselected package tesseract-ocr-osd.\n",
            "Preparing to unpack .../tesseract-ocr-osd_4.00~git24-0e00fe6-1.2_all.deb ...\n",
            "Unpacking tesseract-ocr-osd (4.00~git24-0e00fe6-1.2) ...\n",
            "Selecting previously unselected package tesseract-ocr.\n",
            "Preparing to unpack .../tesseract-ocr_4.00~git2288-10f4998a-2_amd64.deb ...\n",
            "Unpacking tesseract-ocr (4.00~git2288-10f4998a-2) ...\n",
            "Setting up tesseract-ocr-osd (4.00~git24-0e00fe6-1.2) ...\n",
            "Setting up tesseract-ocr-eng (4.00~git24-0e00fe6-1.2) ...\n",
            "Setting up tesseract-ocr (4.00~git2288-10f4998a-2) ...\n",
            "Processing triggers for man-db (2.8.3-2ubuntu0.1) ...\n"
          ],
          "name": "stdout"
        }
      ]
    },
    {
      "cell_type": "code",
      "metadata": {
        "id": "Zxx1XC0u9WT_",
        "colab_type": "code",
        "outputId": "2cded8e7-df15-4250-fd67-0f30cb521427",
        "colab": {
          "base_uri": "https://localhost:8080/",
          "height": 689
        }
      },
      "source": [
        "!sudo apt install build-essential libpoppler-cpp-dev pkg-config python3-dev"
      ],
      "execution_count": 0,
      "outputs": [
        {
          "output_type": "stream",
          "text": [
            "\rReading package lists... 0%\r\rReading package lists... 0%\r\rReading package lists... 0%\r\rReading package lists... 6%\r\rReading package lists... 6%\r\rReading package lists... 7%\r\rReading package lists... 7%\r\rReading package lists... 63%\r\rReading package lists... 63%\r\rReading package lists... 63%\r\rReading package lists... 64%\r\rReading package lists... 64%\r\rReading package lists... 71%\r\rReading package lists... 71%\r\rReading package lists... 72%\r\rReading package lists... 72%\r\rReading package lists... 81%\r\rReading package lists... 81%\r\rReading package lists... 81%\r\rReading package lists... 81%\r\rReading package lists... 81%\r\rReading package lists... 81%\r\rReading package lists... 81%\r\rReading package lists... 81%\r\rReading package lists... 87%\r\rReading package lists... 87%\r\rReading package lists... 87%\r\rReading package lists... 87%\r\rReading package lists... 93%\r\rReading package lists... 93%\r\rReading package lists... 93%\r\rReading package lists... 93%\r\rReading package lists... 93%\r\rReading package lists... 93%\r\rReading package lists... 94%\r\rReading package lists... 94%\r\rReading package lists... 95%\r\rReading package lists... 95%\r\rReading package lists... 98%\r\rReading package lists... 98%\r\rReading package lists... 98%\r\rReading package lists... 98%\r\rReading package lists... Done\r\n",
            "\rBuilding dependency tree... 0%\r\rBuilding dependency tree... 0%\r\rBuilding dependency tree... 50%\r\rBuilding dependency tree... 50%\r\rBuilding dependency tree       \r\n",
            "\rReading state information... 0%\r\rReading state information... 0%\r\rReading state information... Done\r\n",
            "build-essential is already the newest version (12.4ubuntu1).\n",
            "pkg-config is already the newest version (0.29.1-0ubuntu2).\n",
            "python3-dev is already the newest version (3.6.7-1~18.04).\n",
            "The following additional packages will be installed:\n",
            "  libpoppler-cpp0v5 libpoppler-dev\n",
            "The following NEW packages will be installed:\n",
            "  libpoppler-cpp-dev libpoppler-cpp0v5 libpoppler-dev\n",
            "0 upgraded, 3 newly installed, 0 to remove and 29 not upgraded.\n",
            "Need to get 41.3 kB of archives.\n",
            "After this operation, 233 kB of additional disk space will be used.\n",
            "\u001b[33m\r0% [Working]\u001b[0m\r            \rGet:1 http://archive.ubuntu.com/ubuntu bionic-updates/main amd64 libpoppler-cpp0v5 amd64 0.62.0-2ubuntu2.10 [28.0 kB]\n",
            "\u001b[33m\r5% [1 libpoppler-cpp0v5 2,615 B/28.0 kB 9%]\u001b[0m\u001b[33m\r                                           \r61% [Working]\u001b[0m\r             \rGet:2 http://archive.ubuntu.com/ubuntu bionic-updates/main amd64 libpoppler-dev amd64 0.62.0-2ubuntu2.10 [4,608 B]\n",
            "\u001b[33m\r69% [2 libpoppler-dev 4,064 B/4,608 B 88%]\u001b[0m\u001b[33m\r                                          \r77% [Waiting for headers]\u001b[0m\r                         \rGet:3 http://archive.ubuntu.com/ubuntu bionic-updates/main amd64 libpoppler-cpp-dev amd64 0.62.0-2ubuntu2.10 [8,684 B]\n",
            "\u001b[33m\r92% [3 libpoppler-cpp-dev 7,864 B/8,684 B 91%]\u001b[0m\u001b[33m\r                                              \r100% [Working]\u001b[0m\r              \rFetched 41.3 kB in 0s (740 kB/s)\n",
            "debconf: unable to initialize frontend: Dialog\n",
            "debconf: (No usable dialog-like program is installed, so the dialog based frontend cannot be used. at /usr/share/perl5/Debconf/FrontEnd/Dialog.pm line 76, <> line 3.)\n",
            "debconf: falling back to frontend: Readline\n",
            "debconf: unable to initialize frontend: Readline\n",
            "debconf: (This frontend requires a controlling tty.)\n",
            "debconf: falling back to frontend: Teletype\n",
            "dpkg-preconfigure: unable to re-open stdin: \n",
            "Selecting previously unselected package libpoppler-cpp0v5:amd64.\n",
            "(Reading database ... 144476 files and directories currently installed.)\n",
            "Preparing to unpack .../libpoppler-cpp0v5_0.62.0-2ubuntu2.10_amd64.deb ...\n",
            "Unpacking libpoppler-cpp0v5:amd64 (0.62.0-2ubuntu2.10) ...\n",
            "Selecting previously unselected package libpoppler-dev:amd64.\n",
            "Preparing to unpack .../libpoppler-dev_0.62.0-2ubuntu2.10_amd64.deb ...\n",
            "Unpacking libpoppler-dev:amd64 (0.62.0-2ubuntu2.10) ...\n",
            "Selecting previously unselected package libpoppler-cpp-dev:amd64.\n",
            "Preparing to unpack .../libpoppler-cpp-dev_0.62.0-2ubuntu2.10_amd64.deb ...\n",
            "Unpacking libpoppler-cpp-dev:amd64 (0.62.0-2ubuntu2.10) ...\n",
            "Setting up libpoppler-dev:amd64 (0.62.0-2ubuntu2.10) ...\n",
            "Setting up libpoppler-cpp0v5:amd64 (0.62.0-2ubuntu2.10) ...\n",
            "Setting up libpoppler-cpp-dev:amd64 (0.62.0-2ubuntu2.10) ...\n",
            "Processing triggers for libc-bin (2.27-3ubuntu1) ...\n",
            "/sbin/ldconfig.real: /usr/local/lib/python3.6/dist-packages/ideep4py/lib/libmkldnn.so.0 is not a symbolic link\n",
            "\n"
          ],
          "name": "stdout"
        }
      ]
    },
    {
      "cell_type": "code",
      "metadata": {
        "id": "184AVKEg9Wkv",
        "colab_type": "code",
        "outputId": "2c46f286-e1a3-4fd7-c194-4472cfedd41e",
        "colab": {
          "base_uri": "https://localhost:8080/",
          "height": 185
        }
      },
      "source": [
        "!pip install pdftotext"
      ],
      "execution_count": 0,
      "outputs": [
        {
          "output_type": "stream",
          "text": [
            "Collecting pdftotext\n",
            "\u001b[?25l  Downloading https://files.pythonhosted.org/packages/58/38/f04c252f4cb2d10af9abcde0a2db1bcd38288a76a99e88333f2a434e0c40/pdftotext-2.1.4.tar.gz (113kB)\n",
            "\r\u001b[K     |██▉                             | 10kB 15.1MB/s eta 0:00:01\r\u001b[K     |█████▊                          | 20kB 4.1MB/s eta 0:00:01\r\u001b[K     |████████▋                       | 30kB 5.5MB/s eta 0:00:01\r\u001b[K     |███████████▌                    | 40kB 5.5MB/s eta 0:00:01\r\u001b[K     |██████████████▍                 | 51kB 4.8MB/s eta 0:00:01\r\u001b[K     |█████████████████▎              | 61kB 5.4MB/s eta 0:00:01\r\u001b[K     |████████████████████▏           | 71kB 5.6MB/s eta 0:00:01\r\u001b[K     |███████████████████████         | 81kB 6.2MB/s eta 0:00:01\r\u001b[K     |██████████████████████████      | 92kB 6.6MB/s eta 0:00:01\r\u001b[K     |████████████████████████████▉   | 102kB 6.6MB/s eta 0:00:01\r\u001b[K     |███████████████████████████████▋| 112kB 6.6MB/s eta 0:00:01\r\u001b[K     |████████████████████████████████| 122kB 6.6MB/s \n",
            "\u001b[?25hBuilding wheels for collected packages: pdftotext\n",
            "  Building wheel for pdftotext (setup.py) ... \u001b[?25l\u001b[?25hdone\n",
            "  Created wheel for pdftotext: filename=pdftotext-2.1.4-cp36-cp36m-linux_x86_64.whl size=54094 sha256=557cdffa9bcb9a5a91a776ff18f5a81b92afa8b20ad266e288732364f2fe84de\n",
            "  Stored in directory: /root/.cache/pip/wheels/88/c3/62/c1ef7f738f8c0c1ac67cbe63786cae734d555c5077088036f0\n",
            "Successfully built pdftotext\n",
            "Installing collected packages: pdftotext\n",
            "Successfully installed pdftotext-2.1.4\n"
          ],
          "name": "stdout"
        }
      ]
    },
    {
      "cell_type": "code",
      "metadata": {
        "id": "-9YSAHGm9WvX",
        "colab_type": "code",
        "colab": {}
      },
      "source": [
        "import pdftotext\n",
        "import re\n",
        "import pandas as pd\n",
        "import os\n",
        "import glob\n",
        "import json"
      ],
      "execution_count": 0,
      "outputs": []
    },
    {
      "cell_type": "code",
      "metadata": {
        "id": "i7JhN3K99W3t",
        "colab_type": "code",
        "colab": {}
      },
      "source": [
        "try:\n",
        "    from PIL import Image\n",
        "except ImportError:\n",
        "    import Image\n",
        "import pytesseract\n",
        "\n",
        "def ocr_core(filename):\n",
        "    \"\"\"\n",
        "    This function will handle the core OCR processing of images.\n",
        "    \"\"\"\n",
        "    text = pytesseract.image_to_string(Image.open(filename))  # We'll use Pillow's Image class to open the image and pytesseract to detect the string in the image\n",
        "    return text\n"
      ],
      "execution_count": 0,
      "outputs": []
    },
    {
      "cell_type": "code",
      "metadata": {
        "id": "4ThLhn-_9W_z",
        "colab_type": "code",
        "colab": {}
      },
      "source": [
        "def pdf_core(filename):\n",
        "    \n",
        "    with open(filename, \"rb\") as f:\n",
        "        pdf = pdftotext.PDF(f)\n",
        "    return \"\\n\\n\".join(pdf)\n",
        "    "
      ],
      "execution_count": 0,
      "outputs": []
    },
    {
      "cell_type": "markdown",
      "metadata": {
        "id": "EnCYMtSl9h33",
        "colab_type": "text"
      },
      "source": [
        "**Creating NER Tags**"
      ]
    },
    {
      "cell_type": "code",
      "metadata": {
        "id": "reEqe0Qc9XHV",
        "colab_type": "code",
        "colab": {}
      },
      "source": [
        "def extension_type_process(extension,f):\n",
        "  if extension == 'pdf':\n",
        "    return pdf_core(f)\n",
        "  elif extension == 'png':\n",
        "    return ocr_core(f)"
      ],
      "execution_count": 0,
      "outputs": []
    },
    {
      "cell_type": "code",
      "metadata": {
        "id": "3j2-ql7Z9XON",
        "colab_type": "code",
        "colab": {}
      },
      "source": [
        "def find_start_end(labelcontent,text,label,category):\n",
        "  annolist = []\n",
        "\n",
        "  \n",
        "  if label == 'CATEGORY':\n",
        "    if category == 'Merrilllynch_CRA':\n",
        "      text = 'Merrill Lynch'\n",
        "    elif category == 'Schwab_IRA':\n",
        "      text = 'Schwab'\n",
        "    for match in re.finditer(text, labelcontent):\n",
        "      annolist.append({\"label\":[label],\"points\":[{\"start\":match.start(),\"end\":match.end(),\"text\":text}]})\n",
        "  elif label == 'PHONE':\n",
        "    num = \"(\"+text[0:3]+\") \"+text[3:6]+\"-\"+text[6:10]\n",
        "    for match in re.finditer(r'\\(\\w{3}\\) \\w{3}-\\w{4}', labelcontent):\n",
        "      if labelcontent[match.start():match.end()] == num:\n",
        "        annolist.append({\"label\":[label],\"points\":[{\"start\":match.start(),\"end\":match.end(),\"text\":num}]})\n",
        "  elif label == 'CITY':\n",
        "    city = text.split(',')[0]\n",
        "    for match in re.finditer(city, labelcontent):\n",
        "      annolist.append({\"label\":[label],\"points\":[{\"start\":match.start(),\"end\":match.end(),\"text\":city}]})\n",
        "  elif label == 'EMAIL':\n",
        "    for match in re.finditer(r'[\\w\\.-]+@[\\w\\.-]+', labelcontent):\n",
        "      if labelcontent[match.start():match.end()] == text:\n",
        "        annolist.append({\"label\":[label],\"points\":[{\"start\":match.start(),\"end\":match.end(),\"text\":text}]})\n",
        "  else:\n",
        "    for match in re.finditer(text, labelcontent):\n",
        "      annolist.append({\"label\":[label],\"points\":[{\"start\":match.start(),\"end\":match.end(),\"text\":text}]})\n",
        "  return annolist"
      ],
      "execution_count": 0,
      "outputs": []
    },
    {
      "cell_type": "code",
      "metadata": {
        "id": "XA9bk_ME9sVJ",
        "colab_type": "code",
        "colab": {}
      },
      "source": [
        "def pdf_tag(file,category,filename,df):\n",
        "    if category == 'Ameritrade Institutional':\n",
        "      labels = ['CATEGORY','TITLE','CLIENT','ADDRESS','SOCIAL SECURITY NO','RELATIONSHIP NO.','ACC NO','ACC TYPE','PHONE']\n",
        "    else:\n",
        "      labels = ['CATEGORY','TITLE','CLIENT','ADDRESS','SOCIAL SECURITY NO','RELATIONSHIP NO.','ACC NO','ACC TYPE','PHONE','CITY','EMAIL']\n",
        "    dict={}\n",
        "    annolist = []\n",
        "    content = pdf_core(file)\n",
        "    \n",
        "    dict['content'] = content\n",
        "    for label in labels:\n",
        "      result = df[(df['CATEGORY']==category) & (df['FILE NAME']==filename)][label]\n",
        "      if (list(result) == []):\n",
        "        continue\n",
        "      else:\n",
        "        text=str(result.values[0]).strip()\n",
        "        annolist = annolist + find_start_end(content,text,label,category)\n",
        "     \n",
        "    dict['annotation'] = annolist\n",
        "    \n",
        "    return json.dumps(dict)\n"
      ],
      "execution_count": 0,
      "outputs": []
    },
    {
      "cell_type": "code",
      "metadata": {
        "id": "tyMeJkPK9sye",
        "colab_type": "code",
        "colab": {}
      },
      "source": [
        "def png_tag(file,category,filename,df):\n",
        "    labels = ['CATEGORY','TITLE','CLIENT','ADDRESS','SOCIAL SECURITY NO','RELATIONSHIP NO.','ACC NO','ACC TYPE','PHONE','CITY','EMAIL']\n",
        "    dict={}\n",
        "    annolist = []\n",
        "    content = ocr_core(file)\n",
        "    dict['content'] = content\n",
        "    for label in labels:\n",
        "      result = df[(df['CATEGORY']==category) & (df['FILE NAME']==filename)][label]\n",
        "      if (list(result) == []):\n",
        "        continue\n",
        "      else:\n",
        "        text=str(result.values[0]).strip()\n",
        "        annolist = annolist + find_start_end(content,text,label,category)\n",
        "    dict['annotation'] = annolist\n",
        "    \n",
        "    return json.dumps(dict)\n"
      ],
      "execution_count": 0,
      "outputs": []
    },
    {
      "cell_type": "code",
      "metadata": {
        "id": "xk5GoCq29s92",
        "colab_type": "code",
        "colab": {}
      },
      "source": [
        "df = pd.read_csv(\"/content/drive/My Drive/DOC-NER/IRA.csv\")"
      ],
      "execution_count": 0,
      "outputs": []
    },
    {
      "cell_type": "code",
      "metadata": {
        "id": "tTFEVBHh9tQv",
        "colab_type": "code",
        "colab": {}
      },
      "source": [
        "categories = ['Merrilllynch_CRA','Schwab_IRA','Ameritrade Institutional']\n",
        "pdf_doc_dict={}\n",
        "png_doc_dict={}\n",
        "for company in categories:\n",
        "  fullpath = \"/content/drive/My Drive/DOC-NER/\"+company\n",
        "  os.chdir(fullpath)\n",
        "  all_filenames = [i for i in glob.glob('*.{}'.format('pdf'))]\n",
        "  pdf_doc_dict[company] = [pdf_tag(f,company,f.split('.')[0],df) for f in all_filenames ]\n",
        "  all_filenames = [i for i in glob.glob('*.{}'.format('png'))]\n",
        "  png_doc_dict[company] = [png_tag(f,company,f.split('.')[0],df) for f in all_filenames ]\n"
      ],
      "execution_count": 0,
      "outputs": []
    },
    {
      "cell_type": "code",
      "metadata": {
        "id": "BS8_s9K89tZc",
        "colab_type": "code",
        "outputId": "2052b5ae-61d4-42b5-f55a-5c5236a55902",
        "colab": {
          "base_uri": "https://localhost:8080/",
          "height": 188
        }
      },
      "source": [
        "list(png_doc_dict.values())[0]"
      ],
      "execution_count": 0,
      "outputs": [
        {
          "output_type": "execute_result",
          "data": {
            "text/plain": [
              "['{\"content\": \"DTC8862\\\\nACATO671\\\\n\\\\nClient Account Transfer Form\\\\n\\\\nUse this form to transfer all or a portion of your account from\\\\nanother financial institution to your Merrill Lynch, Pierce, Fenner &\\\\nSmith Incorporated (\\\\u201cMerrill Lynch\\\\u201d) account.\\\\n\\\\nMERRILL bos\\\\n\\\\nA BANK OF AMERICA COMPANY\\\\n\\\\nFor best results, please complete the information requested below in parts 1 to 4 using ALL CAPITAL letters and\\\\nblack ink. If you need more room for information or signatures, use a copy of the relevant page or a blank sheet. Use\\\\none form for each account that you\\'re transferring.\\\\n\\\\nThings to know before you begin:\\\\n\\\\nMany firms transfer assets using an automated transfer process, which typically takes 5 to 6 business days. Other\\\\nfirms either don\\\\u2019t use the automated process or must process some assets manually, which takes more time. The\\\\nfollowing estimated time frames for manual transfers are from the date of receipt of instructions by the delivering\\\\nfirm and may vary greatly:\\\\n\\\\u2014 Equities, bonds and options, approximately 15 business days\\\\n\\\\u2014 Restricted securities, approximately 15 to 20 business days\\\\n\\\\u2014 Mutual funds, up to 30 business days\\\\n\\\\u2014 Foreign securities, 4 to 6 weeks\\\\n\\\\nNote: Annuities are not transferred using this form. Please use the Merrill Lynch Annuity Transfer Form.\\\\n\\\\nRemember to update any automatic deposits or withdrawals you\\'ve set up on the account you\\'re transferring to\\\\nMerrill Lynch\\\\n\\\\nSome transfers may result in tax consequences, penalties or financial risk. Consult your tax and financial\\\\nprofessionals before requesting this transfer.\\\\n\\\\nIf you\\'re rolling over assets from a 401(k) or other employer-sponsored plan, consider all of your choices. You may\\\\n\\\\nbe able to roll over to an IRA, roll over an old 401(k) to a 401(k) at a new employer, take a distribution or leave the\\\\naccount where it is, depending on your unique financial needs and retirement goals. Each choice may offer different\\\\nbenefits and limitations including investment options and services, fees and expenses, withdrawal options, required\\\\nminimum distributions, tax treatment and protection from creditors and legal judgments. Additionally, there are\\\\nlimits to how often and when you can roll over your account. Please contact your 401(k) or other employer-sponsored\\\\nplan administrator for help with the transfer.\\\\n\\\\n \\\\n\\\\nPart 1\\\\nWhere your account\\\\nis now\\\\n\\\\nAttach all pages\\\\n\\\\n  \\\\n  \\\\n \\\\n\\\\nrecent\\\\n\\\\naccount to\\\\n\\\\nany delays.\\\\n\\\\nFIRM NAME FIRM PHONE\\\\n\\\\nWestwood Management Corp. i (541) 666-3010\\\\n\\\\nFIRM ADDRESS CITY, STATE, ZIP\\\\n200 Crescent Ct #1200 : Dallas, TX,75201\\\\n\\\\nACCOUNTNUMBER SS ACCOUNTTITLE\\\\n71457554 : Angelica E Senn\\\\n\\\\nSOCIAL SECURITY NUMBER (If used for tax reporting)\\\\nIRA \\'404711495\\\\n\\\\nAccount holders (individual accounts) or authorized signers (for business, trust, estate, etc.)\\\\nList all names exactly as they appear on this account.\\\\n\\\\nCONTACT NAME\\\\n| Isabel J Haller\\\\n\\\\n \\\\n\\\\n \\\\n\\\\n \\\\n\\\\nPart 2\\\\n\\\\nMerrill Lynch account\\\\nreceiving your\\\\ntransferred assets\\\\n\\\\nThis can include a\\\\n\\\\nM,\\\\n\\\\n   \\\\n\\\\nLynch account\\\\n\\\\n  \\\\n\\\\nvh\\\\nfiduciary services\\\\nfrom U.S. Trust.\\\\n\\\\nlich you receive\\\\n\\\\nCODE 1566 MLPFS - 03/2018\\\\n\\\\nMERRILL LYNCH ACCOUNT NUMBER\\\\n335-1254 CMA\\\\n\\\\nACCOUNT TITLE (Here at Merrill Lynch)\\\\nAngelica E Senn\\\\n\\\\nSOCIAL SECURITY NUMBER ([If used for tax reporting)\\\\n404711495\\\\n\\\\nAccount holders (individual accounts) or authorized signers (for business, trust, estate, etc.)\\\\nList all names exactly as they appear on this account. This account must have at least one owner in common with\\\\nyour transferring account, otherwise this process will be delayed.\\\\n\\\\n \\\\n\\\\n \\\\n\\\\nDAYTIME PHONE\\\\n(541) 666-2215\\\\n\\\\nEVENING PHONE\\\\ni : Angelica@gmail.com\\\\n\\\\n \\\\n\\\\nBRANCH CONTACT NAME\\\\nNICK LANE\\\\n\\\\n \\\\n\\\\nNCH CONTACT NUMBER\\\\n} 866.848.6554\", \"annotation\": []}',\n",
              " '{\"content\": \"DTC8862 .\\\\n\\\\nacATOR Client Account Transfer Form GS\\\\nUse this form to transfer all or a portion of your account from MERRILL .\\\\n\\\\n. co . , A BANK OF AMERICA COMPANY\\\\nanother financial institution to your Merrill Lynch, Pierce, Fenner &\\\\nSmith Incorporated (\\\\u201cMerrill Lynch\\\\u201d) account.\\\\nFor best results, please complete the information requested below in parts 1 to 4 using ALL CAPITAL letters and\\\\nblack ink. If you need more room for information or signatures, use a copy of the relevant page or a blank sheet. Use\\\\none form for each account that you\\'re transferring.\\\\nThings to know before you begin:\\\\nMany firms transfer assets using an automated transfer process, which typically takes 5 to 6 business days. Other\\\\nfirms either don\\\\u2019t use the automated process or must process some assets manually, which takes more time. The\\\\nfollowing estimated time frames for manual transfers are from the date of receipt of instructions by the delivering\\\\nfirm and may vary greatly:\\\\n\\\\u2014 Equities, bonds and options, approximately 15 business days\\\\n\\\\u2014 Restricted securities, approximately 15 to 20 business days\\\\n\\\\u2014 Mutual funds, up to 30 business days\\\\n\\\\u2014 Foreign securities, 4 to 6 weeks\\\\nNote: Annuities are not transferred using this form. Please use the Merrill Lynch Annuity Transfer Form.\\\\n\\\\nRemember to update any automatic deposits or withdrawals you\\'ve set up on the account you\\'re transferring to\\\\nMerrill Lynch\\\\nSome transfers may result in tax consequences, penalties or financial risk. Consult your tax and financial\\\\nprofessionals before requesting this transfer.\\\\nIf you\\'re rolling over assets from a 401(k) or other employer-sponsored plan, consider all of your choices. You may\\\\nbe able to roll over to an IRA, roll over an old 401(k) to a 401(k) at a new employer, take a distribution or leave the\\\\naccount where it is, depending on your unique financial needs and retirement goals. Each choice may offer different\\\\nbenefits and limitations including investment options and services, fees and expenses, withdrawal options, required\\\\nminimum distributions, tax treatment and protection from creditors and legal judgments. Additionally, there are\\\\nlimits to how often and when you can roll over your account. Please contact your 401(k) or other employer-sponsored\\\\nplan administrator for help with the transfer.\\\\n\\\\nPart 1 FIRM NAME FIRM PHONE CONTACT NAME\\\\n\\\\nWhere your account Los Angeles CM and Equity Research : (541) 754-5879 \\' Donald S Cordova\\\\n\\\\nis now FIRM ADDRESS CITY, STATE, ZIP\\\\nVU150 CA 1200 ceccccaesececneenenaeeeseenseessenns {Los Angeles, CA,90025 eee\\\\n\\\\nAttach all pages ACCOUNT NUMBER ACCOUNT TITLE\\\\n\\\\nrecent 22560564 \\\\u2018Rose R Webb\\\\n- ACCOUNT TYPE (RETAIL/IRA etc.) SOCIAL SECURITY NUMBER (If used for tax reporting)\\\\n\\\\na \\\\u00b0 IRA 1539236318\\\\n\\\\nany delays\\\\nAccount holders (individual accounts) or authorized signers (for business, trust, estate, etc.)\\\\nList all names exactly as they appear on this account.\\\\nWager nnn anaes aaa eee\\\\nRose R Webb\\\\nwagner cence nena sane\\\\n\\\\nPart 2 MERRILL LYNCH ACCOUNT NUMBER ACCOUNT TYPE (Choose one)\\\\n\\\\nMerrill Lynch account 335-4587 CMA\\\\n\\\\nwe ACCOUNT TITLE (Here at Merrill Lynch)\\\\nreceiving your Rose R Webb\\\\n\\\\ntransferred assets\\\\n\\\\nThis can include a\\\\n\\\\n  \\\\n \\\\n\\\\nLynch account\\\\non which you receive\\\\nfiduciary services\\\\n\\\\nfrom U.S. Trust.\\\\n\\\\nCODE 1566 MLPFS - 03/2018\\\\n\\\\nSOCIAL SECURITY NUMBER ([If used for tax reporting)\\\\n539236318\\\\n\\\\nAccount holders (individual accounts) or authorized signers (for business, trust, estate, etc.)\\\\nList all names exactly as they appear on this account. This account must have at least one owner in common with\\\\nyour transferring account, otherwise this process will be delayed.\\\\n\\\\n \\\\n\\\\n \\\\n\\\\nDAYTIME PHONE\\\\n(541) 754-1544\\\\n\\\\nEVENING PHONE\\\\ni : Rose@gmail.com\\\\n\\\\n \\\\n\\\\nBRANCH CONTACT NAME\\\\nNICK LANE\\\\n\\\\n \\\\n\\\\nNCH CONTACT NUMBER\\\\n1 866.848.6554\", \"annotation\": [{\"label\": [\"CATEGORY\"], \"points\": [{\"start\": 198, \"end\": 211, \"text\": \"Merrill Lynch\"}]}, {\"label\": [\"CATEGORY\"], \"points\": [{\"start\": 251, \"end\": 264, \"text\": \"Merrill Lynch\"}]}, {\"label\": [\"CATEGORY\"], \"points\": [{\"start\": 1224, \"end\": 1237, \"text\": \"Merrill Lynch\"}]}, {\"label\": [\"CATEGORY\"], \"points\": [{\"start\": 1371, \"end\": 1384, \"text\": \"Merrill Lynch\"}]}, {\"label\": [\"CATEGORY\"], \"points\": [{\"start\": 2998, \"end\": 3011, \"text\": \"Merrill Lynch\"}]}, {\"label\": [\"CATEGORY\"], \"points\": [{\"start\": 3060, \"end\": 3073, \"text\": \"Merrill Lynch\"}]}, {\"label\": [\"TITLE\"], \"points\": [{\"start\": 18, \"end\": 46, \"text\": \"Client Account Transfer Form\"}]}, {\"label\": [\"CLIENT\"], \"points\": [{\"start\": 2398, \"end\": 2414, \"text\": \"Donald S Cordova\"}]}, {\"label\": [\"SOCIAL SECURITY NO\"], \"points\": [{\"start\": 2702, \"end\": 2711, \"text\": \"539236318\"}]}, {\"label\": [\"SOCIAL SECURITY NO\"], \"points\": [{\"start\": 3301, \"end\": 3310, \"text\": \"539236318\"}]}, {\"label\": [\"RELATIONSHIP NO.\"], \"points\": [{\"start\": 3020, \"end\": 3028, \"text\": \"335-4587\"}]}, {\"label\": [\"ACC NO\"], \"points\": [{\"start\": 2586, \"end\": 2594, \"text\": \"22560564\"}]}, {\"label\": [\"ACC TYPE\"], \"points\": [{\"start\": 1682, \"end\": 1685, \"text\": \"IRA\"}]}, {\"label\": [\"ACC TYPE\"], \"points\": [{\"start\": 2631, \"end\": 2634, \"text\": \"IRA\"}]}, {\"label\": [\"ACC TYPE\"], \"points\": [{\"start\": 2697, \"end\": 2700, \"text\": \"IRA\"}]}, {\"label\": [\"PHONE\"], \"points\": [{\"start\": 2381, \"end\": 2395, \"text\": \"(541) 754-5879\"}]}, {\"label\": [\"CITY\"], \"points\": [{\"start\": 2344, \"end\": 2355, \"text\": \"Los Angeles\"}]}, {\"label\": [\"CITY\"], \"points\": [{\"start\": 2505, \"end\": 2516, \"text\": \"Los Angeles\"}]}, {\"label\": [\"EMAIL\"], \"points\": [{\"start\": 3642, \"end\": 3656, \"text\": \"Rose@gmail.com\"}]}]}',\n",
              " '{\"content\": \"DTC8862\\\\nACATO671\\\\n\\\\nClient Account Transfer Form\\\\n\\\\nUse this form to transfer all or a portion of your account from\\\\nanother financial institution to your Merrill Lynch, Pierce, Fenner &\\\\nSmith Incorporated (\\\\u201cMerrill Lynch\\\\u201d) account.\\\\n\\\\nMERRILL box\\\\n\\\\nA BANK OF AMERICA COMPANY\\\\n\\\\nFor best results, please complete the information requested below in parts 1 to 4 using ALL CAPITAL letters and\\\\nblack ink. If you need more room for information or signatures, use a copy of the relevant page or a blank sheet. Use\\\\none form for each account that you\\'re transferring.\\\\n\\\\nThings to know before you begin:\\\\n\\\\nMany firms transfer assets using an automated transfer process, which typically takes 5 to 6 business days. Other\\\\nfirms either don\\\\u2019t use the automated process or must process some assets manually, which takes more time. The\\\\nfollowing estimated time frames for manual transfers are from the date of receipt of instructions by the delivering\\\\nfirm and may vary greatly:\\\\n\\\\u2014 Equities, bonds and options, approximately 15 business days\\\\n\\\\u2014 Restricted securities, approximately 15 to 20 business days\\\\n\\\\u2014 Mutual funds, up to 30 business days\\\\n\\\\u2014 Foreign securities, 4 to 6 weeks\\\\n\\\\nNote: Annuities are not transferred using this form. Please use the Merrill Lynch Annuity Transfer Form.\\\\n\\\\nRemember to update any automatic deposits or withdrawals you\\'ve set up on the account you\\'re transferring to\\\\nMerrill Lynch\\\\n\\\\nSome transfers may result in tax consequences, penalties or financial risk. Consult your tax and financial\\\\nprofessionals before requesting this transfer.\\\\n\\\\nIf you\\'re rolling over assets from a 401(k) or other employer-sponsored plan, consider all of your choices. You may\\\\n\\\\nbe able to roll over to an IRA, roll over an old 401(k) to a 401(k) at a new employer, take a distribution or leave the\\\\naccount where it is, depending on your unique financial needs and retirement goals. Each choice may offer different\\\\nbenefits and limitations including investment options and services, fees and expenses, withdrawal options, required\\\\nminimum distributions, tax treatment and protection from creditors and legal judgments. Additionally, there are\\\\nlimits to how often and when you can roll over your account. Please contact your 401(k) or other employer-sponsored\\\\nplan administrator for help with the transfer.\\\\n\\\\n \\\\n\\\\nPart 1\\\\nWhere your account\\\\nis now\\\\n\\\\nAttach all pages\\\\n\\\\n \\\\n \\\\n  \\\\n \\\\n\\\\nrecent\\\\n\\\\naccount to\\\\n\\\\nany delays.\\\\n\\\\nFIRM NAME\\\\nEagle Asset Management\\\\n\\\\nFIRM PHONE\\\\n\\\\n\\' (541) 754-3010\\\\n\\\\nFIRM ADDRESS CITY, STATE, ZIP\\\\n1345 6th Ave \\' New York, NY,10105\\\\n\\\\nACCOUNTNUMBERSSSS\\\\u2122S~CS ACCOUNTTITLE =SSS\\\\u2122S~CS~s\\\\u2018\\\\u201c\\\\u2014s*S*~*~*~*~<S~S~S~S~S\\\\n66654445 \\\\u2018Robert N Sanford\\\\n\\\\nSOCIAL SECURITY NUMBER (If used for tax reporting)\\\\nIRA \\\\u2018402115260\\\\n\\\\nAccount holders (individual accounts) or authorized signers (for business, trust, estate, etc.)\\\\nList all names exactly as they appear on this account.\\\\n\\\\nCONTACT NAME\\\\n| Lynne M Palmer\\\\n\\\\n \\\\n\\\\n \\\\n\\\\n \\\\n\\\\nPart 2\\\\n\\\\nMerrill Lynch account\\\\nreceiving your\\\\ntransferred assets\\\\n\\\\nThis can include a\\\\n\\\\nM,\\\\n\\\\n   \\\\n\\\\nLynch account\\\\n\\\\n \\\\n\\\\n  \\\\n\\\\nvh\\\\nfiduciary services\\\\nfrom U.S. Trust.\\\\n\\\\nlich you receive\\\\n\\\\nCODE 1566 MLPFS - 03/2018\\\\n\\\\nMERRILL LYNCH ACCOUNT NUMBER\\\\n335-5545 CMA\\\\nACCOUNT TITLE (Here at Merrill Lynch)\\\\nRobert N Sanford\\\\nSOCIAL SECURITY NUMBER ([If used for tax reporting)\\\\n\\\\n402115260\\\\n\\\\nAccount holders (individual accounts) or authorized signers (for business, trust, estate, etc.)\\\\nList all names exactly as they appear on this account. This account must have at least one owner in common with\\\\nyour transferring account, otherwise this process will be delayed.\\\\n\\\\n \\\\n\\\\n \\\\n\\\\nDAYTIME PHONE\\\\n(554) 754-3055\\\\n\\\\nEVENING PHONE\\\\ni : Robert@gmail.com\\\\n\\\\n \\\\n\\\\nBRANCH CONTACT NAME\\\\nNICK LANE\\\\n\\\\n \\\\n\\\\nNCH CONTACT NUMBER\\\\n1 866.848.6554\", \"annotation\": [{\"label\": [\"CATEGORY\"], \"points\": [{\"start\": 150, \"end\": 163, \"text\": \"Merrill Lynch\"}]}, {\"label\": [\"CATEGORY\"], \"points\": [{\"start\": 203, \"end\": 216, \"text\": \"Merrill Lynch\"}]}, {\"label\": [\"CATEGORY\"], \"points\": [{\"start\": 1220, \"end\": 1233, \"text\": \"Merrill Lynch\"}]}, {\"label\": [\"CATEGORY\"], \"points\": [{\"start\": 1367, \"end\": 1380, \"text\": \"Merrill Lynch\"}]}, {\"label\": [\"CATEGORY\"], \"points\": [{\"start\": 2876, \"end\": 2889, \"text\": \"Merrill Lynch\"}]}, {\"label\": [\"CATEGORY\"], \"points\": [{\"start\": 3134, \"end\": 3147, \"text\": \"Merrill Lynch\"}]}, {\"label\": [\"TITLE\"], \"points\": [{\"start\": 18, \"end\": 46, \"text\": \"Client Account Transfer Form\"}]}, {\"label\": [\"CLIENT\"], \"points\": [{\"start\": 2843, \"end\": 2857, \"text\": \"Lynne M Palmer\"}]}, {\"label\": [\"ADDRESS\"], \"points\": [{\"start\": 2474, \"end\": 2486, \"text\": \"1345 6th Ave\"}]}, {\"label\": [\"SOCIAL SECURITY NO\"], \"points\": [{\"start\": 2665, \"end\": 2674, \"text\": \"402115260\"}]}, {\"label\": [\"SOCIAL SECURITY NO\"], \"points\": [{\"start\": 3219, \"end\": 3228, \"text\": \"402115260\"}]}, {\"label\": [\"RELATIONSHIP NO.\"], \"points\": [{\"start\": 3098, \"end\": 3106, \"text\": \"335-5545\"}]}, {\"label\": [\"ACC NO\"], \"points\": [{\"start\": 2581, \"end\": 2589, \"text\": \"66654445\"}]}, {\"label\": [\"ACC TYPE\"], \"points\": [{\"start\": 1681, \"end\": 1684, \"text\": \"IRA\"}]}, {\"label\": [\"ACC TYPE\"], \"points\": [{\"start\": 2660, \"end\": 2663, \"text\": \"IRA\"}]}, {\"label\": [\"PHONE\"], \"points\": [{\"start\": 2428, \"end\": 2442, \"text\": \"(541) 754-3010\"}]}, {\"label\": [\"CITY\"], \"points\": [{\"start\": 2489, \"end\": 2497, \"text\": \"New York\"}]}, {\"label\": [\"EMAIL\"], \"points\": [{\"start\": 3560, \"end\": 3576, \"text\": \"Robert@gmail.com\"}]}]}',\n",
              " '{\"content\": \"ncaToe7 Client Account Transfer Form BS\\\\n\\\\nUse this form to transfer all or a portion of your account from MERRILL .\\\\n. Ce . . A BANK OF AMERICA COMPANY\\\\nanother financial institution to your Merrill Lynch, Pierce, Fenner &\\\\nSmith Incorporated (\\\\u201cMerrill Lynch\\\\u201d) account.\\\\nFor best results, please complete the information requested below in parts 1 to 4 using ALL CAPITAL letters and\\\\nblack ink. If you need more room for information or signatures, use a copy of the relevant page or a blank sheet. Use\\\\none form for each account that you\\'re transferring.\\\\nThings to know before you begin:\\\\nMany firms transfer assets using an automated transfer process, which typically takes 5 to 6 business days. Other\\\\nfirms either don\\\\u2019t use the automated process or must process some assets manually, which takes more time. The\\\\nfollowing estimated time frames for manual transfers are from the date of receipt of instructions by the delivering\\\\nfirm and may vary greatly:\\\\n\\\\u2014 Equities, bonds and options, approximately 15 business days\\\\n\\\\u2014 Restricted securities, approximately 15 to 20 business days\\\\n\\\\u2014 Mutual funds, up to 30 business days\\\\n\\\\u2014 Foreign securities, 4 to 6 weeks\\\\nNote: Annuities are not transferred using this form. Please use the Merrill Lynch Annuity Transfer Form.\\\\n\\\\nRemember to update any automatic deposits or withdrawals you\\'ve set up on the account you\\'re transferring to\\\\nMerrill Lynch\\\\nSome transfers may result in tax consequences, penalties or financial risk. Consult your tax and financial\\\\nprofessionals before requesting this transfer.\\\\nIf you\\'re rolling over assets from a 401(k) or other employer-sponsored plan, consider all of your choices. You may\\\\nbe able to roll over to an IRA, roll over an old 401(k) to a 401(k) at a new employer, take a distribution or leave the\\\\naccount where it is, depending on your unique financial needs and retirement goals. Each choice may offer different\\\\nbenefits and limitations including investment options and services, fees and expenses, withdrawal options, required\\\\nminimum distributions, tax treatment and protection from creditors and legal judgments. Additionally, there are\\\\nlimits to how often and when you can roll over your account. Please contact your 401(k) or other employer-sponsored\\\\nplan administrator for help with the transfer.\\\\n\\\\nPart 1 FIRM NAME FIRM PHONE CONTACT NAME\\\\n\\\\nWhere your account Brandes Investment Partners i (541) 754-3010 | Grace M Garcia\\\\n\\\\nis now FIRM ADDRESS CITY, STATE, ZIP\\\\nSearch Results 11988 El Camino Real #600 \\' San Diego, CA,92130\\\\n\\\\nAttach all pages ACCOUNTNUMBER SS ACCOUNTTITLE\\\\n\\\\n \\\\n\\\\nany delays.\\\\n\\\\nRobert E Regan\\\\n\\\\n\\\\u2018Robert E Regan\\\\nSOCIAL SECURITY NUMBER (If used for tax reporting)\\\\nIRA 1417414892\\\\n\\\\nAccount holders (individual accounts) or authorized signers (for business, trust, estate, etc.)\\\\nList all names exactly as they appear on this account.\\\\n\\\\n \\\\n\\\\nNAME 1 TITLE (If an authorized signer)\\\\nRobert E Regan \\'\\\\n\\\\n \\\\n\\\\nPart 2\\\\n\\\\nMerrill Lynch account\\\\nreceiving your\\\\ntransferred assets\\\\n\\\\nThis can include a\\\\n\\\\n    \\\\n\\\\nich you\\\\nfiduciary services\\\\nfrom U.S. Trust.\\\\n\\\\n \\\\n\\\\ni\\\\n\\\\nCODE 1566 MLPFS - 03/2018\\\\n\\\\nMERRILL LYNCH ACCOUNT NUMBER\\\\n335-0021 CMA\\\\n\\\\n \\\\n\\\\nO Roth O SEP O Other (Please specify)\\\\n\\\\n \\\\n\\\\nACCOUNT TITLE (Here at Merrill Lynch)\\\\nRobert E Regan\\\\n\\\\n  \\\\n \\\\n\\\\nSOCIAL SECURITY NUMBER ([If used for tax reporting)\\\\n417414892\\\\n\\\\nAccount holders (individual accounts) or authorized signers (for business, trust, estate, etc.)\\\\nList all names exactly as they appear on this account. This account must have at least one owner in common with\\\\nyour transferring account, otherwise this process will be delayed.\\\\n\\\\n \\\\n\\\\nDAYTIME PHONE\\\\n(541) 754-3222\\\\n\\\\nEVENING PHONE\\\\ni : Robert@gmail.com\\\\n\\\\n \\\\n\\\\nBRANCH CONTACT NAME\\\\nNICK LANE\\\\n\\\\n \\\\n\\\\nNCH CONTACT NUMBER\\\\n1 866.848.6554\", \"annotation\": [{\"label\": [\"CATEGORY\"], \"points\": [{\"start\": 188, \"end\": 201, \"text\": \"Merrill Lynch\"}]}, {\"label\": [\"CATEGORY\"], \"points\": [{\"start\": 241, \"end\": 254, \"text\": \"Merrill Lynch\"}]}, {\"label\": [\"CATEGORY\"], \"points\": [{\"start\": 1214, \"end\": 1227, \"text\": \"Merrill Lynch\"}]}, {\"label\": [\"CATEGORY\"], \"points\": [{\"start\": 1361, \"end\": 1374, \"text\": \"Merrill Lynch\"}]}, {\"label\": [\"CATEGORY\"], \"points\": [{\"start\": 2884, \"end\": 2897, \"text\": \"Merrill Lynch\"}]}, {\"label\": [\"CATEGORY\"], \"points\": [{\"start\": 3156, \"end\": 3169, \"text\": \"Merrill Lynch\"}]}, {\"label\": [\"TITLE\"], \"points\": [{\"start\": 8, \"end\": 36, \"text\": \"Client Account Transfer Form\"}]}, {\"label\": [\"ADDRESS\"], \"points\": [{\"start\": 2434, \"end\": 2474, \"text\": \"Search Results 11988 El Camino Real #600\"}]}, {\"label\": [\"SOCIAL SECURITY NO\"], \"points\": [{\"start\": 2650, \"end\": 2659, \"text\": \"417414892\"}]}, {\"label\": [\"SOCIAL SECURITY NO\"], \"points\": [{\"start\": 3245, \"end\": 3254, \"text\": \"417414892\"}]}, {\"label\": [\"RELATIONSHIP NO.\"], \"points\": [{\"start\": 3074, \"end\": 3082, \"text\": \"335-0021\"}]}, {\"label\": [\"ACC NO\"], \"points\": [{\"start\": 160, \"end\": 163, \"text\": \"nan\"}]}, {\"label\": [\"ACC NO\"], \"points\": [{\"start\": 1437, \"end\": 1440, \"text\": \"nan\"}]}, {\"label\": [\"ACC NO\"], \"points\": [{\"start\": 1474, \"end\": 1477, \"text\": \"nan\"}]}, {\"label\": [\"ACC NO\"], \"points\": [{\"start\": 1813, \"end\": 1816, \"text\": \"nan\"}]}, {\"label\": [\"ACC TYPE\"], \"points\": [{\"start\": 1672, \"end\": 1675, \"text\": \"IRA\"}]}, {\"label\": [\"ACC TYPE\"], \"points\": [{\"start\": 2645, \"end\": 2648, \"text\": \"IRA\"}]}, {\"label\": [\"PHONE\"], \"points\": [{\"start\": 2364, \"end\": 2378, \"text\": \"(541) 754-3010\"}]}, {\"label\": [\"CITY\"], \"points\": [{\"start\": 2477, \"end\": 2486, \"text\": \"San Diego\"}]}, {\"label\": [\"EMAIL\"], \"points\": [{\"start\": 3583, \"end\": 3599, \"text\": \"Robert@gmail.com\"}]}]}',\n",
              " '{\"content\": \"DTC8862 .\\\\nacaTOR Client Account Transfer Form GS\\\\nUse this form to transfer all or a portion of your account from MERRILL .\\\\n. . , A BANK OF AMERICA COMPANY\\\\nanother financial institution to your Merrill Lynch, Pierce, Fenner &\\\\nSmith Incorporated (\\\\u201cMerrill Lynch\\\\u201d) account.\\\\nFor best results, please complete the information requested below in parts 1 to 4 using ALL CAPITAL letters and\\\\nblack ink. If you need more room for information or signatures, use a copy of the relevant page or a blank sheet. Use\\\\none form for each account that you\\'re transferring.\\\\nThings to know before you begin:\\\\nMany firms transfer assets using an automated transfer process, which typically takes 5 to 6 business days. Other\\\\nfirms either don\\\\u2019t use the automated process or must process some assets manually, which takes more time. The\\\\nfollowing estimated time frames for manual transfers are from the date of receipt of instructions by the delivering\\\\nfirm and may vary greatly:\\\\n\\\\u2014 Equities, bonds and options, approximately 15 business days\\\\n\\\\u2014 Restricted securities, approximately 15 to 20 business days\\\\n\\\\u2014 Mutual funds, up to 30 business days\\\\n\\\\u2014 Foreign securities, 4 to 6 weeks\\\\nNote: Annuities are not transferred using this form. Please use the Merrill Lynch Annuity Transfer Form.\\\\nRemember to update any automatic deposits or withdrawals you\\'ve set up on the account you\\'re transferring to\\\\nMerrill Lynch\\\\nSome transfers may result in tax consequences, penalties or financial risk. Consult your tax and financial\\\\nprofessionals before requesting this transfer.\\\\nIf you\\'re rolling over assets from a 401(k) or other employer-sponsored plan, consider all of your choices. You may\\\\nbe able to roll over to an IRA, roll over an old 401(k) to a 401(k) at a new employer, take a distribution or leave the\\\\naccount where it is, depending on your unique financial needs and retirement goals. Each choice may offer different\\\\nbenefits and limitations including investment options and services, fees and expenses, withdrawal options, required\\\\nminimum distributions, tax treatment and protection from creditors and legal judgments. Additionally, there are\\\\nlimits to how often and when you can roll over your account. Please contact your 401(k) or other employer-sponsored\\\\nplan administrator for help with the transfer.\\\\nPart 1 FIRM NAME FIRM PHONE CONTACT NAME\\\\nWhere your account Adams Street Partners (541) 754-3888 : Jeanette B Hughes\\\\nis now FIRM ADDRESS CITY, STATE, ZIP\\\\n340 Madison AVG oo cccccveeeeeeeeeeeeeeccccecnneeeee iNew York, NYj1O173 nc cccccnnneeeeeeeeeee\\\\nAttach all pages ACCOUNT NUMBER ACCOUNT TITLE\\\\nrecent 79703212 \\\\u2018Richard K Kral\\\\n. ACCOUNT TYPE (RETAIL/IRA etc.) SOCIAL SECURITY NUMBER (If used for tax reporting)\\\\na \\\\u00b0 IRA 1344466775\\\\nany delays\\\\nAccount holders (individual accounts) or authorized signers (for business, trust, estate, etc.)\\\\nList all names exactly as they appear on this account.\\\\nNAMED ENTITLE (Ifn authorized signer) == SSSSS~S\\\\nRichard K Kral \\'\\\\nNAMEZ SSS TLE Ifa authorized signer) SSS\\\\nPart 2 MERRILL LYNCH ACCOUNT NUMBER ACCOUNT TYPE (Choose one)\\\\nMerrill Lynch account 335-2125 pene eeeeeeeeeeeeeeneeeees OCMA __OIRA weeeeeeenee R \\\\u2018oth EI SEP an O Other (Please specify) wee ee ee ene ne ee eee eeeeeee ee eeee\\\\nee ACCOUNT TITLE (Here at Merrill Lynch)\\\\nreceiving your Richard K Kral\\\\ntransferred assets\\\\nSOCIAL SECURITY NUMBER ([If used for tax reporting)\\\\n\\\\nThis can include a\\\\n\\\\nM,\\\\n\\\\n   \\\\n\\\\nint\\\\nich you receive\\\\n\\\\nLynch a\\\\n\\\\n \\\\n\\\\n  \\\\n\\\\nvh\\\\nfiduciary services\\\\nfrom U.S. Trust.\\\\n\\\\nCODE 1566 MLPFS - 03/2018\\\\n\\\\n \\\\n \\\\n\\\\n344466775\\\\n\\\\n  \\\\n\\\\nAccount holders (individual accounts) or authorized signers (for business, trust, estate, etc.)\\\\nList all names exactly as they appear on this account. This account must have at least one owner in common with\\\\nyour transferring account, otherwise this process will be delayed.\\\\n\\\\n \\\\n\\\\nDAYTIME PHONE\\\\n(541) 666-3888\\\\n\\\\nEVENING PHONE\\\\ni : Richard@gmail.com\\\\n\\\\n \\\\n\\\\nBRANCH CONTACT NAME\\\\nNICK LANE\\\\n\\\\n \\\\n\\\\nNCH CONTACT NUMBER\\\\n} 866.848.6554\", \"annotation\": [{\"label\": [\"CATEGORY\"], \"points\": [{\"start\": 193, \"end\": 206, \"text\": \"Merrill Lynch\"}]}, {\"label\": [\"CATEGORY\"], \"points\": [{\"start\": 246, \"end\": 259, \"text\": \"Merrill Lynch\"}]}, {\"label\": [\"CATEGORY\"], \"points\": [{\"start\": 1219, \"end\": 1232, \"text\": \"Merrill Lynch\"}]}, {\"label\": [\"CATEGORY\"], \"points\": [{\"start\": 1365, \"end\": 1378, \"text\": \"Merrill Lynch\"}]}, {\"label\": [\"CATEGORY\"], \"points\": [{\"start\": 3038, \"end\": 3051, \"text\": \"Merrill Lynch\"}]}, {\"label\": [\"CATEGORY\"], \"points\": [{\"start\": 3228, \"end\": 3241, \"text\": \"Merrill Lynch\"}]}, {\"label\": [\"TITLE\"], \"points\": [{\"start\": 17, \"end\": 45, \"text\": \"Client Account Transfer Form\"}]}, {\"label\": [\"CLIENT\"], \"points\": [{\"start\": 2375, \"end\": 2392, \"text\": \"Jeanette B Hughes\"}]}, {\"label\": [\"SOCIAL SECURITY NO\"], \"points\": [{\"start\": 2697, \"end\": 2706, \"text\": \"344466775\"}]}, {\"label\": [\"SOCIAL SECURITY NO\"], \"points\": [{\"start\": 3483, \"end\": 3492, \"text\": \"344466775\"}]}, {\"label\": [\"RELATIONSHIP NO.\"], \"points\": [{\"start\": 3060, \"end\": 3068, \"text\": \"335-2125\"}]}, {\"label\": [\"ACC NO\"], \"points\": [{\"start\": 2579, \"end\": 2587, \"text\": \"79703212\"}]}, {\"label\": [\"ACC TYPE\"], \"points\": [{\"start\": 1676, \"end\": 1679, \"text\": \"IRA\"}]}, {\"label\": [\"ACC TYPE\"], \"points\": [{\"start\": 2627, \"end\": 2630, \"text\": \"IRA\"}]}, {\"label\": [\"ACC TYPE\"], \"points\": [{\"start\": 2692, \"end\": 2695, \"text\": \"IRA\"}]}, {\"label\": [\"ACC TYPE\"], \"points\": [{\"start\": 3104, \"end\": 3107, \"text\": \"IRA\"}]}, {\"label\": [\"PHONE\"], \"points\": [{\"start\": 2358, \"end\": 2372, \"text\": \"(541) 754-3888\"}]}, {\"label\": [\"CITY\"], \"points\": [{\"start\": 2484, \"end\": 2492, \"text\": \"New York\"}]}, {\"label\": [\"EMAIL\"], \"points\": [{\"start\": 3825, \"end\": 3842, \"text\": \"Richard@gmail.com\"}]}]}',\n",
              " '{\"content\": \"DTC8862 :\\\\nacATOR Client Account Transfer Form GS\\\\nUse this form to transfer all or a portion of your account from MERRILL .\\\\n. re . , A BANK OF AMERICA COMPANY\\\\nanother financial institution to your Merrill Lynch, Pierce, Fenner &\\\\nSmith Incorporated (\\\\u201cMerrill Lynch\\\\u201d) account.\\\\nFor best results, please complete the information requested below in parts 1 to 4 using ALL CAPITAL letters and\\\\nblack ink. If you need more room for information or signatures, use a copy of the relevant page or a blank sheet. Use\\\\none form for each account that you\\'re transferring.\\\\nThings to know before you begin:\\\\nMany firms transfer assets using an automated transfer process, which typically takes 5 to 6 business days. Other\\\\nfirms either don\\\\u2019t use the automated process or must process some assets manually, which takes more time. The\\\\nfollowing estimated time frames for manual transfers are from the date of receipt of instructions by the delivering\\\\nfirm and may vary greatly:\\\\n\\\\u2014 Equities, bonds and options, approximately 15 business days\\\\n\\\\u2014 Restricted securities, approximately 15 to 20 business days\\\\n\\\\u2014 Mutual funds, up to 30 business days\\\\n\\\\u2014 Foreign securities, 4 to 6 weeks\\\\nNote: Annuities are not transferred using this form. Please use the Merrill Lynch Annuity Transfer Form.\\\\nRemember to update any automatic deposits or withdrawals you\\'ve set up on the account you\\'re transferring to\\\\nMerrill Lynch\\\\nSome transfers may result in tax consequences, penalties or financial risk. Consult your tax and financial\\\\nprofessionals before requesting this transfer.\\\\nIf you\\'re rolling over assets from a 401(k) or other employer-sponsored plan, consider all of your choices. You may\\\\nbe able to roll over to an IRA, roll over an old 401(k) to a 401(k) at a new employer, take a distribution or leave the\\\\naccount where it is, depending on your unique financial needs and retirement goals. Each choice may offer different\\\\nbenefits and limitations including investment options and services, fees and expenses, withdrawal options, required\\\\nminimum distributions, tax treatment and protection from creditors and legal judgments. Additionally, there are\\\\nlimits to how often and when you can roll over your account. Please contact your 401(k) or other employer-sponsored\\\\nplan administrator for help with the transfer.\\\\nPart 1 FIRM NAME FIRM PHONE CONTACT NAME\\\\nWhere your account Muzinich & Co i (541) 754-3022 | Grace P Lane\\\\nis now FIRM ADDRESS CITY, STATE, ZIP\\\\n450 Park Ave #08 oe eeeeeccccsneeeeeeeecnnneteeee iNew York, NYj10022 ne cccccceeeeeeeeeeee\\\\nAttach all pages ACCOUNT NUMBER ACCOUNT TITLE\\\\nof your most recent 66667894 | Peter E Trosper\\\\nstatemer ACCOUNT TYPE (RETAIL/IRA etc.) SOCIAL SECURITY NUMBER (If used for tax reporting)\\\\noo clove IRA 1593746465\\\\nany delays\\\\nAccount holders (individual accounts) or authorized signers (for business, trust, estate, etc.)\\\\nList all names exactly as they appear on this account.\\\\nNAMED EN\\'YITLE (Ifn authorized signer) == SSSSS~S\\\\nPeter E Trosper \\'\\\\nNAMEZ SSS TLE Ife authorized signer) SSS\\\\nPart 2 MERRILL LYNCH ACCOUNT NUMBER ACCOUNT TYPE (Choose one)\\\\nMerrill Lynch account 335-8978 penne ee eeeeeeeeeeee nee ees OCMA __OIRA weneeeeenee R \\\\u2018oth __. EI SEP an O Other (Please specify) wee ee ee eee ee ee eee eeeeeee ee eeee\\\\nee ACCOUNT TITLE (Here at Merrill Lynch)\\\\nreceiving your\\\\n\\\\ntransferred assets\\\\n\\\\nThis can include a\\\\n\\\\n \\\\n \\\\n\\\\nLynch account\\\\nich you receive\\\\nfiduciary services\\\\nfrom U.S. Trust.\\\\n\\\\nCODE 1566 MLPFS ~ 03/2018\\\\n\\\\nPeter E Trosper\\\\nSOCIAL SECURITY NUMBER ([If used for tax reporting)\\\\n593746465\\\\n\\\\n  \\\\n   \\\\n\\\\nAccount holders (individual accounts) or authorized signers (for business, trust, estate, etc.)\\\\nList all names exactly as they appear on this account. This account must have at least one owner in common with\\\\nyour transferring account, otherwise this process will be delayed.\\\\n\\\\n \\\\n\\\\nDAYTIME PHONE\\\\n(541) 754-3111\\\\n\\\\nEVENING PHONE\\\\ni } peter@gmail.com\\\\n\\\\n \\\\n\\\\nBRANCH CONTACT NAME\\\\nNICK LANE\\\\n\\\\n \\\\n\\\\nNCH CONTACT NUMBER\\\\n1 866.848.6554\", \"annotation\": [{\"label\": [\"CATEGORY\"], \"points\": [{\"start\": 196, \"end\": 209, \"text\": \"Merrill Lynch\"}]}, {\"label\": [\"CATEGORY\"], \"points\": [{\"start\": 249, \"end\": 262, \"text\": \"Merrill Lynch\"}]}, {\"label\": [\"CATEGORY\"], \"points\": [{\"start\": 1222, \"end\": 1235, \"text\": \"Merrill Lynch\"}]}, {\"label\": [\"CATEGORY\"], \"points\": [{\"start\": 1368, \"end\": 1381, \"text\": \"Merrill Lynch\"}]}, {\"label\": [\"CATEGORY\"], \"points\": [{\"start\": 3055, \"end\": 3068, \"text\": \"Merrill Lynch\"}]}, {\"label\": [\"CATEGORY\"], \"points\": [{\"start\": 3252, \"end\": 3265, \"text\": \"Merrill Lynch\"}]}, {\"label\": [\"TITLE\"], \"points\": [{\"start\": 17, \"end\": 45, \"text\": \"Client Account Transfer Form\"}]}, {\"label\": [\"CLIENT\"], \"points\": [{\"start\": 2372, \"end\": 2384, \"text\": \"Grace P Lane\"}]}, {\"label\": [\"SOCIAL SECURITY NO\"], \"points\": [{\"start\": 2712, \"end\": 2721, \"text\": \"593746465\"}]}, {\"label\": [\"SOCIAL SECURITY NO\"], \"points\": [{\"start\": 3490, \"end\": 3499, \"text\": \"593746465\"}]}, {\"label\": [\"RELATIONSHIP NO.\"], \"points\": [{\"start\": 3077, \"end\": 3085, \"text\": \"335-8978\"}]}, {\"label\": [\"ACC NO\"], \"points\": [{\"start\": 2580, \"end\": 2588, \"text\": \"66667894\"}]}, {\"label\": [\"ACC TYPE\"], \"points\": [{\"start\": 1679, \"end\": 1682, \"text\": \"IRA\"}]}, {\"label\": [\"ACC TYPE\"], \"points\": [{\"start\": 2637, \"end\": 2640, \"text\": \"IRA\"}]}, {\"label\": [\"ACC TYPE\"], \"points\": [{\"start\": 2707, \"end\": 2710, \"text\": \"IRA\"}]}, {\"label\": [\"ACC TYPE\"], \"points\": [{\"start\": 3124, \"end\": 3127, \"text\": \"IRA\"}]}, {\"label\": [\"PHONE\"], \"points\": [{\"start\": 2355, \"end\": 2369, \"text\": \"(541) 754-3022\"}]}, {\"label\": [\"CITY\"], \"points\": [{\"start\": 2473, \"end\": 2481, \"text\": \"New York\"}]}]}',\n",
              " '{\"content\": \"DTC8862 .\\\\nacaTO6 Client Account Transfer Form GS\\\\nUse this form to transfer all or a portion of your account from MERRILL .\\\\n. . . A BANK OF AMERICA COMPANY\\\\nanother financial institution to your Merrill Lynch, Pierce, Fenner &\\\\nSmith Incorporated (\\\\u201cMerrill Lynch\\\\u201d) account.\\\\nFor best results, please complete the information requested below in parts 1 to 4 using ALL CAPITAL letters and\\\\nblack ink. If you need more room for information or signatures, use a copy of the relevant page or a blank sheet. Use\\\\none form for each account that you\\'re transferring.\\\\nThings to know before you begin:\\\\nMany firms transfer assets using an automated transfer process, which typically takes 5 to 6 business days. Other\\\\nfirms either don\\\\u2019t use the automated process or must process some assets manually, which takes more time. The\\\\nfollowing estimated time frames for manual transfers are from the date of receipt of instructions by the delivering\\\\nfirm and may vary greatly:\\\\n\\\\u2014 Equities, bonds and options, approximately 15 business days\\\\n\\\\u2014 Restricted securities, approximately 15 to 20 business days\\\\n\\\\u2014 Mutual funds, up to 30 business days\\\\n\\\\u2014 Foreign securities, 4 to 6 weeks\\\\nNote: Annuities are not transferred using this form. Please use the Merrill Lynch Annuity Transfer Form.\\\\nRemember to update any automatic deposits or withdrawals you\\'ve set up on the account you\\'re transferring to\\\\nMerrill Lynch\\\\nSome transfers may result in tax consequences, penalties or financial risk. Consult your tax and financial\\\\nprofessionals before requesting this transfer.\\\\nIf you\\'re rolling over assets from a 401(k) or other employer-sponsored plan, consider all of your choices. You may\\\\nbe able to roll over to an IRA, roll over an old 401(k) to a 401(k) at a new employer, take a distribution or leave the\\\\naccount where it is, depending on your unique financial needs and retirement goals. Each choice may offer different\\\\nbenefits and limitations including investment options and services, fees and expenses, withdrawal options, required\\\\nminimum distributions, tax treatment and protection from creditors and legal judgments. Additionally, there are\\\\nlimits to how often and when you can roll over your account. Please contact your 401(k) or other employer-sponsored\\\\nplan administrator for help with the transfer.\\\\nPart 1 FIRM NAME FIRM PHONE CONTACT NAME\\\\nWhere your account BlueMountain Capital Management i (541) 754-1111 : Sabrina J McKenzie\\\\nis now FIRM ADDRESS CITY, STATE, ZIP\\\\nSearch Results 280 Park Ave 12th Floor iNew York, NYj1OOU 7 cc ccceeeeeeeeeeee\\\\nAttach all pages ACCOUNT NUMBER ACCOUNT TITLE\\\\nrecent 60610454 : Allan A Cook\\\\n. ACCOUNT TYPE (RETAIL/IRA etc.) SOCIAL SECURITY NUMBER (If used for tax reporting)\\\\notc IRA 1353752495\\\\nany delays\\\\nAccount holders (individual accounts) or authorized signers (for business, trust, estate, etc.)\\\\nList all names exactly as they appear on this account.\\\\nNAMED ENTITLE (Ifen authorized signer) = ===SSSSSS~S\\\\nAllan A Cook \\'\\\\nNAMES TLE Ife cuthorized signer) SSS\\\\nPart 2 MERRILL LYNCH ACCOUNT NUMBER ACCOUNT TYPE (Choose one)\\\\nMerrill Lynch account 335-0212 penne ee eeeneeeeeeee nee ee OCMA __OIRA weeeeeeenee R \\\\u2018oth __. EI SEP an O Other (Please specify) wee ee ee ene ne ee eee eeeeeee ee eeee\\\\nee ACCOUNT TITLE (Here at Merrill Lynch)\\\\nreceiving your \\\\u2018Allan A Cook\\\\ntransferred assets\\\\nSOCIAL SECURITY NUMBER (If used for tax reporting)\\\\n\\\\nThis can include a\\\\n\\\\nM,\\\\n\\\\n   \\\\n\\\\nint\\\\nich you receive\\\\n\\\\nLynch a\\\\n\\\\n \\\\n\\\\n  \\\\n\\\\nvh\\\\nfiduciary services\\\\nfrom U.S. Trust.\\\\n\\\\nCODE 1566 MLPFS - 03/2018\\\\n\\\\n \\\\n   \\\\n\\\\n353752495\\\\n\\\\nAccount holders (individual accounts) or authorized signers (for business, trust, estate, etc.)\\\\nList all names exactly as they appear on this account. This account must have at least one owner in common with\\\\nyour transferring account, otherwise this process will be delayed.\\\\n\\\\n \\\\n\\\\nDAYTIME PHONE\\\\n(541) 754-1221\\\\n\\\\nEVENING PHONE\\\\ni : Allan@gmail.com\\\\n\\\\n \\\\n\\\\nBRANCH CONTACT NAME\\\\nNICK LANE\\\\n\\\\n \\\\n\\\\nNCH CONTACT NUMBER\\\\n} 866.848.6554\", \"annotation\": [{\"label\": [\"CATEGORY\"], \"points\": [{\"start\": 193, \"end\": 206, \"text\": \"Merrill Lynch\"}]}, {\"label\": [\"CATEGORY\"], \"points\": [{\"start\": 246, \"end\": 259, \"text\": \"Merrill Lynch\"}]}, {\"label\": [\"CATEGORY\"], \"points\": [{\"start\": 1219, \"end\": 1232, \"text\": \"Merrill Lynch\"}]}, {\"label\": [\"CATEGORY\"], \"points\": [{\"start\": 1365, \"end\": 1378, \"text\": \"Merrill Lynch\"}]}, {\"label\": [\"CATEGORY\"], \"points\": [{\"start\": 3031, \"end\": 3044, \"text\": \"Merrill Lynch\"}]}, {\"label\": [\"CATEGORY\"], \"points\": [{\"start\": 3227, \"end\": 3240, \"text\": \"Merrill Lynch\"}]}, {\"label\": [\"TITLE\"], \"points\": [{\"start\": 17, \"end\": 45, \"text\": \"Client Account Transfer Form\"}]}, {\"label\": [\"CLIENT\"], \"points\": [{\"start\": 2387, \"end\": 2405, \"text\": \"Sabrina J McKenzie\"}]}, {\"label\": [\"ADDRESS\"], \"points\": [{\"start\": 2443, \"end\": 2481, \"text\": \"Search Results 280 Park Ave 12th Floor\"}]}, {\"label\": [\"SOCIAL SECURITY NO\"], \"points\": [{\"start\": 2692, \"end\": 2701, \"text\": \"353752495\"}]}, {\"label\": [\"SOCIAL SECURITY NO\"], \"points\": [{\"start\": 3482, \"end\": 3491, \"text\": \"353752495\"}]}, {\"label\": [\"RELATIONSHIP NO.\"], \"points\": [{\"start\": 3053, \"end\": 3061, \"text\": \"335-0212\"}]}, {\"label\": [\"ACC NO\"], \"points\": [{\"start\": 2575, \"end\": 2583, \"text\": \"60610454\"}]}, {\"label\": [\"ACC TYPE\"], \"points\": [{\"start\": 1676, \"end\": 1679, \"text\": \"IRA\"}]}, {\"label\": [\"ACC TYPE\"], \"points\": [{\"start\": 2622, \"end\": 2625, \"text\": \"IRA\"}]}, {\"label\": [\"ACC TYPE\"], \"points\": [{\"start\": 2687, \"end\": 2690, \"text\": \"IRA\"}]}, {\"label\": [\"ACC TYPE\"], \"points\": [{\"start\": 3099, \"end\": 3102, \"text\": \"IRA\"}]}, {\"label\": [\"PHONE\"], \"points\": [{\"start\": 2370, \"end\": 2384, \"text\": \"(541) 754-1111\"}]}, {\"label\": [\"CITY\"], \"points\": [{\"start\": 2483, \"end\": 2491, \"text\": \"New York\"}]}, {\"label\": [\"EMAIL\"], \"points\": [{\"start\": 3820, \"end\": 3835, \"text\": \"Allan@gmail.com\"}]}]}',\n",
              " '{\"content\": \"DTC8862 .\\\\nacaTO6 Client Account Transfer Form GS\\\\nUse this form to transfer all or a portion of your account from MERRILL .\\\\n. . . A BANK OF AMERICA COMPANY\\\\nanother financial institution to your Merrill Lynch, Pierce, Fenner &\\\\nSmith Incorporated (\\\\u201cMerrill Lynch\\\\u201d) account.\\\\nFor best results, please complete the information requested below in parts 1 to 4 using ALL CAPITAL letters and\\\\nblack ink. If you need more room for information or signatures, use a copy of the relevant page or a blank sheet. Use\\\\none form for each account that you\\'re transferring.\\\\nThings to know before you begin:\\\\nMany firms transfer assets using an automated transfer process, which typically takes 5 to 6 business days. Other\\\\nfirms either don\\\\u2019t use the automated process or must process some assets manually, which takes more time. The\\\\nfollowing estimated time frames for manual transfers are from the date of receipt of instructions by the delivering\\\\nfirm and may vary greatly:\\\\n\\\\u2014 Equities, bonds and options, approximately 15 business days\\\\n\\\\u2014 Restricted securities, approximately 15 to 20 business days\\\\n\\\\u2014 Mutual funds, up to 30 business days\\\\n\\\\u2014 Foreign securities, 4 to 6 weeks\\\\nNote: Annuities are not transferred using this form. Please use the Merrill Lynch Annuity Transfer Form.\\\\nRemember to update any automatic deposits or withdrawals you\\'ve set up on the account you\\'re transferring to\\\\nMerrill Lynch\\\\nSome transfers may result in tax consequences, penalties or financial risk. Consult your tax and financial\\\\nprofessionals before requesting this transfer.\\\\nIf you\\'re rolling over assets from a 401(k) or other employer-sponsored plan, consider all of your choices. You may\\\\nbe able to roll over to an IRA, roll over an old 401(k) to a 401(k) at a new employer, take a distribution or leave the\\\\naccount where it is, depending on your unique financial needs and retirement goals. Each choice may offer different\\\\nbenefits and limitations including investment options and services, fees and expenses, withdrawal options, required\\\\nminimum distributions, tax treatment and protection from creditors and legal judgments. Additionally, there are\\\\nlimits to how often and when you can roll over your account. Please contact your 401(k) or other employer-sponsored\\\\nplan administrator for help with the transfer.\\\\nPart 1 FIRM NAME FIRM PHONE CONTACT NAME\\\\nWhere your account BlueMountain Capital Management i (541) 754-1111 : Sabrina J McKenzie\\\\nis now FIRM ADDRESS CITY, STATE, ZIP\\\\nSearch Results 280 Park Ave 12th Floor iNew York, NYj1OOU 7 cc ccceeeeeeeeeeee\\\\nAttach all pages ACCOUNT NUMBER ACCOUNT TITLE\\\\nrecent 60610454 : Allan A Cook\\\\n. ACCOUNT TYPE (RETAIL/IRA etc.) SOCIAL SECURITY NUMBER (If used for tax reporting)\\\\notc IRA 1353752495\\\\nany delays\\\\nAccount holders (individual accounts) or authorized signers (for business, trust, estate, etc.)\\\\nList all names exactly as they appear on this account.\\\\nNAMED ENTITLE (Ifen authorized signer) = ===SSSSSS~S\\\\nAllan A Cook \\'\\\\nNAMES TLE Ife cuthorized signer) SSS\\\\nPart 2 MERRILL LYNCH ACCOUNT NUMBER ACCOUNT TYPE (Choose one)\\\\nMerrill Lynch account 335-0212 penne ee eeeneeeeeeee nee ee OCMA __OIRA weeeeeeenee R \\\\u2018oth __. EI SEP an O Other (Please specify) wee ee ee ene ne ee eee eeeeeee ee eeee\\\\nee ACCOUNT TITLE (Here at Merrill Lynch)\\\\nreceiving your \\\\u2018Allan A Cook\\\\ntransferred assets\\\\nSOCIAL SECURITY NUMBER (If used for tax reporting)\\\\n\\\\nThis can include a\\\\n\\\\nM,\\\\n\\\\n   \\\\n\\\\nint\\\\nich you receive\\\\n\\\\nLynch a\\\\n\\\\n \\\\n\\\\n  \\\\n\\\\nvh\\\\nfiduciary services\\\\nfrom U.S. Trust.\\\\n\\\\nCODE 1566 MLPFS - 03/2018\\\\n\\\\n \\\\n   \\\\n\\\\n353752495\\\\n\\\\nAccount holders (individual accounts) or authorized signers (for business, trust, estate, etc.)\\\\nList all names exactly as they appear on this account. This account must have at least one owner in common with\\\\nyour transferring account, otherwise this process will be delayed.\\\\n\\\\n \\\\n\\\\nDAYTIME PHONE\\\\n(541) 754-1221\\\\n\\\\nEVENING PHONE\\\\ni : Allan@gmail.com\\\\n\\\\n \\\\n\\\\nBRANCH CONTACT NAME\\\\nNICK LANE\\\\n\\\\n \\\\n\\\\nNCH CONTACT NUMBER\\\\n} 866.848.6554\", \"annotation\": []}',\n",
              " '{\"content\": \"DTC8862 .\\\\n\\\\nacaTOR Client Account Transfer Form GS\\\\nUse this form to transfer all or a portion of your account from MERRILL .\\\\n\\\\n. rn . , A BANK OF AMERICA COMPANY\\\\nanother financial institution to your Merrill Lynch, Pierce, Fenner &\\\\nSmith Incorporated (\\\\u201cMerrill Lynch\\\\u201d) account.\\\\nFor best results, please complete the information requested below in parts 1 to 4 using ALL CAPITAL letters and\\\\nblack ink. If you need more room for information or signatures, use a copy of the relevant page or a blank sheet. Use\\\\none form for each account that you\\'re transferring.\\\\nThings to know before you begin:\\\\nMany firms transfer assets using an automated transfer process, which typically takes 5 to 6 business days. Other\\\\nfirms either don\\\\u2019t use the automated process or must process some assets manually, which takes more time. The\\\\nfollowing estimated time frames for manual transfers are from the date of receipt of instructions by the delivering\\\\nfirm and may vary greatly:\\\\n\\\\u2014 Equities, bonds and options, approximately 15 business days\\\\n\\\\u2014 Restricted securities, approximately 15 to 20 business days\\\\n\\\\u2014 Mutual funds, up to 30 business days\\\\n\\\\u2014 Foreign securities, 4 to 6 weeks\\\\nNote: Annuities are not transferred using this form. Please use the Merrill Lynch Annuity Transfer Form.\\\\n\\\\nRemember to update any automatic deposits or withdrawals you\\'ve set up on the account you\\'re transferring to\\\\nMerrill Lynch\\\\nSome transfers may result in tax consequences, penalties or financial risk. Consult your tax and financial\\\\nprofessionals before requesting this transfer.\\\\nIf you\\'re rolling over assets from a 401(k) or other employer-sponsored plan, consider all of your choices. You may\\\\nbe able to roll over to an IRA, roll over an old 401(k) to a 401(k) at a new employer, take a distribution or leave the\\\\naccount where it is, depending on your unique financial needs and retirement goals. Each choice may offer different\\\\nbenefits and limitations including investment options and services, fees and expenses, withdrawal options, required\\\\nminimum distributions, tax treatment and protection from creditors and legal judgments. Additionally, there are\\\\nlimits to how often and when you can roll over your account. Please contact your 401(k) or other employer-sponsored\\\\nplan administrator for help with the transfer.\\\\n\\\\nPart 1 FIRM NAME FIRM PHONE CONTACT NAME\\\\n\\\\nWhere your account AEW Capital i (541) 754-2545 : Daniel C Paul\\\\n\\\\nis now FIRM ADDRESS CITY, STATE, ZIP\\\\n2 Seaport ee ecceeeesonneeeeeeessssneeeeesseennnes | Boston, MA02210 nc eccccccnneeeneeeee\\\\n\\\\nAttach all pages ACCOUNT NUMBER ACCOUNT TITLE\\\\n\\\\nof your most recent 89101454 : Adrian T Clemens\\\\n\\\\nstatemer ACCOUNT TYPE (RETAIL/IRA etc.) SOCIAL SECURITY NUMBER (If used for tax reporting)\\\\n\\\\nne IRA 1545401875\\\\n\\\\nany delays\\\\nAccount holders (individual accounts) or authorized signers (for business, trust, estate, etc.)\\\\nList all names exactly as they appear on this account.\\\\nWagoneer aac aaa aca eee\\\\nAdrian T Clemens\\\\nWagener cence cence acne\\\\n\\\\nPart 2 MERRILL LYNCH ACCOUNT NUMBER ACCOUNT TYPE (Choose one)\\\\n\\\\nMerrill Lynch account 335-0012 OCMA\\\\n\\\\nee ACCOUNT TITLE (Here at Merrill Lynch)\\\\nreceiving your\\\\n\\\\ntransferred assets\\\\n\\\\nThis can include a\\\\n\\\\n \\\\n \\\\n\\\\nLynch account\\\\nich you receive\\\\nfiduciary services\\\\nfrom U.S. Trust.\\\\n\\\\nCODE 1566 MLPFS - 03/2018\\\\n\\\\nAdrian T Clemens\\\\nSOCIAL SECURITY NUMBER ([If used for tax reporting)\\\\n545401875\\\\n\\\\nAccount holders (individual accounts) or authorized signers (for business, trust, estate, etc.)\\\\nList all names exactly as they appear on this account. This account must have at least one owner in common with\\\\nyour transferring account, otherwise this process will be delayed.\\\\n\\\\n \\\\n\\\\n \\\\n\\\\nDAYTIME PHONE\\\\n(541) 754-3254\\\\n\\\\nEVENING PHONE\\\\ni : Adrian@gmail.com\\\\n\\\\n \\\\n\\\\nBRANCH CONTACT NAME\\\\nNICK LANE\\\\n\\\\n \\\\n\\\\nNCH CONTACT NUMBER\\\\n1 866.848.6554\", \"annotation\": [{\"label\": [\"CATEGORY\"], \"points\": [{\"start\": 198, \"end\": 211, \"text\": \"Merrill Lynch\"}]}, {\"label\": [\"CATEGORY\"], \"points\": [{\"start\": 251, \"end\": 264, \"text\": \"Merrill Lynch\"}]}, {\"label\": [\"CATEGORY\"], \"points\": [{\"start\": 1224, \"end\": 1237, \"text\": \"Merrill Lynch\"}]}, {\"label\": [\"CATEGORY\"], \"points\": [{\"start\": 1371, \"end\": 1384, \"text\": \"Merrill Lynch\"}]}, {\"label\": [\"CATEGORY\"], \"points\": [{\"start\": 3019, \"end\": 3032, \"text\": \"Merrill Lynch\"}]}, {\"label\": [\"CATEGORY\"], \"points\": [{\"start\": 3082, \"end\": 3095, \"text\": \"Merrill Lynch\"}]}, {\"label\": [\"TITLE\"], \"points\": [{\"start\": 18, \"end\": 46, \"text\": \"Client Account Transfer Form\"}]}, {\"label\": [\"CLIENT\"], \"points\": [{\"start\": 2375, \"end\": 2388, \"text\": \"Daniel C Paul\"}]}, {\"label\": [\"SOCIAL SECURITY NO\"], \"points\": [{\"start\": 2715, \"end\": 2724, \"text\": \"545401875\"}]}, {\"label\": [\"SOCIAL SECURITY NO\"], \"points\": [{\"start\": 3321, \"end\": 3330, \"text\": \"545401875\"}]}, {\"label\": [\"RELATIONSHIP NO.\"], \"points\": [{\"start\": 3041, \"end\": 3049, \"text\": \"335-0012\"}]}, {\"label\": [\"ACC NO\"], \"points\": [{\"start\": 2586, \"end\": 2594, \"text\": \"89101454\"}]}, {\"label\": [\"ACC TYPE\"], \"points\": [{\"start\": 1682, \"end\": 1685, \"text\": \"IRA\"}]}, {\"label\": [\"ACC TYPE\"], \"points\": [{\"start\": 2645, \"end\": 2648, \"text\": \"IRA\"}]}, {\"label\": [\"ACC TYPE\"], \"points\": [{\"start\": 2710, \"end\": 2713, \"text\": \"IRA\"}]}, {\"label\": [\"PHONE\"], \"points\": [{\"start\": 2358, \"end\": 2372, \"text\": \"(541) 754-2545\"}]}, {\"label\": [\"CITY\"], \"points\": [{\"start\": 2480, \"end\": 2486, \"text\": \"Boston\"}]}, {\"label\": [\"EMAIL\"], \"points\": [{\"start\": 3662, \"end\": 3678, \"text\": \"Adrian@gmail.com\"}]}]}']"
            ]
          },
          "metadata": {
            "tags": []
          },
          "execution_count": 19
        }
      ]
    },
    {
      "cell_type": "code",
      "metadata": {
        "id": "-ITh-dRa9tio",
        "colab_type": "code",
        "colab": {}
      },
      "source": [
        "os.chdir(\"/content/drive/My Drive/DOC-NER/\")\n",
        "with open('testfile.txt', 'w') as filehandle:\n",
        "  for category, tagtext in png_doc_dict.items():\n",
        "    if len(tagtext) != 0:\n",
        "      for listitem in tagtext:\n",
        "        filehandle.write('%s\\n' % listitem)\n",
        "  for category, tagtext in pdf_doc_dict.items():\n",
        "    if len(tagtext) != 0:\n",
        "      for listitem in tagtext:\n",
        "        filehandle.write('%s\\n' % listitem)      "
      ],
      "execution_count": 0,
      "outputs": []
    },
    {
      "cell_type": "markdown",
      "metadata": {
        "id": "jVGqeJ8U973h",
        "colab_type": "text"
      },
      "source": [
        "**Model Training**"
      ]
    },
    {
      "cell_type": "code",
      "metadata": {
        "id": "84C4xEpQ9trd",
        "colab_type": "code",
        "colab": {}
      },
      "source": [
        "import json\n",
        "import random\n",
        "import logging\n",
        "from sklearn.metrics import classification_report\n",
        "from sklearn.metrics import precision_recall_fscore_support\n",
        "from spacy.gold import GoldParse\n",
        "from spacy.scorer import Scorer\n",
        "from sklearn.metrics import accuracy_score\n",
        "def convert_dataturks_to_spacy(dataturks_JSON_FilePath):\n",
        "    try:\n",
        "        training_data = []\n",
        "        lines=[]\n",
        "        with open(dataturks_JSON_FilePath, 'r') as f:\n",
        "            lines = f.readlines()\n",
        "\n",
        "        for line in lines:\n",
        "            data = json.loads(line)\n",
        "            text = data['content']\n",
        "            entities = []\n",
        "            for annotation in data['annotation']:\n",
        "                point = annotation['points'][0]\n",
        "                labels = annotation['label']\n",
        "                if not isinstance(labels, list):\n",
        "                    labels = [labels]\n",
        "\n",
        "                for label in labels:\n",
        "                    entities.append((point['start'], point['end'] + 1 ,label))\n",
        "\n",
        "\n",
        "            training_data.append((text, {\"entities\" : entities}))\n",
        "\n",
        "        return training_data\n",
        "    except Exception as e:\n",
        "        logging.exception(\"Unable to process \" + dataturks_JSON_FilePath + \"\\n\" + \"error = \" + str(e))\n",
        "        return None\n"
      ],
      "execution_count": 0,
      "outputs": []
    },
    {
      "cell_type": "code",
      "metadata": {
        "id": "vf3h_zq5-A0H",
        "colab_type": "code",
        "outputId": "f40480f3-6a80-4bfe-8730-ef843a9a9251",
        "colab": {
          "base_uri": "https://localhost:8080/",
          "height": 353
        }
      },
      "source": [
        "import spacy\n",
        "def train_spacy():\n",
        "\n",
        "    TRAIN_DATA = convert_dataturks_to_spacy(\"/content/drive/My Drive/DOC-NER/train.txt\")\n",
        "    nlp = spacy.blank('en')  \n",
        "    if 'ner' not in nlp.pipe_names:\n",
        "        ner = nlp.create_pipe('ner')\n",
        "        nlp.add_pipe(ner, last=True)\n",
        "       \n",
        "\n",
        "    for _, annotations in TRAIN_DATA:\n",
        "         for ent in annotations.get('entities'):\n",
        "            ner.add_label(ent[2])\n",
        "\n",
        "    other_pipes = [pipe for pipe in nlp.pipe_names if pipe != 'ner']\n",
        "    with nlp.disable_pipes(*other_pipes):  \n",
        "        optimizer = nlp.begin_training()\n",
        "        for itn in range(10):\n",
        "            print(\"Statring iteration \" + str(itn))\n",
        "            random.shuffle(TRAIN_DATA)\n",
        "            losses = {}\n",
        "            for text, annotations in TRAIN_DATA:\n",
        "                nlp.update(\n",
        "                    [text],  \n",
        "                    [annotations],  \n",
        "                    drop=0.2,  \n",
        "                    sgd=optimizer,  \n",
        "                    losses=losses)\n",
        "            print(losses)\n",
        "    return nlp\n",
        "\n",
        "nlp = train_spacy()"
      ],
      "execution_count": 0,
      "outputs": [
        {
          "output_type": "stream",
          "text": [
            "Statring iteration 0\n",
            "{'ner': 45155.568088177475}\n",
            "Statring iteration 1\n",
            "{'ner': 1829.322497351121}\n",
            "Statring iteration 2\n",
            "{'ner': 650.0923811116176}\n",
            "Statring iteration 3\n",
            "{'ner': 340.113577579009}\n",
            "Statring iteration 4\n",
            "{'ner': 1777.2373904834485}\n",
            "Statring iteration 5\n",
            "{'ner': 446.10207919392286}\n",
            "Statring iteration 6\n",
            "{'ner': 126.00262658055118}\n",
            "Statring iteration 7\n",
            "{'ner': 94.10545449465042}\n",
            "Statring iteration 8\n",
            "{'ner': 129.58241146364597}\n",
            "Statring iteration 9\n",
            "{'ner': 87.88116474044567}\n"
          ],
          "name": "stdout"
        }
      ]
    },
    {
      "cell_type": "code",
      "metadata": {
        "id": "nGNHrs09-A99",
        "colab_type": "code",
        "outputId": "047c0614-231d-4fb8-ee37-55aca3d3f9e0",
        "colab": {
          "base_uri": "https://localhost:8080/",
          "height": 423
        }
      },
      "source": [
        "    examples = convert_dataturks_to_spacy(\"/content/drive/My Drive/DOC-NER/validate.txt\")\n",
        "    tp=0\n",
        "    tr=0\n",
        "    tf=0\n",
        "\n",
        "    ta=0\n",
        "    c=0        \n",
        "    for text,annot in examples:\n",
        "\n",
        "        f=open(\"doc\"+str(c)+\".txt\",\"w\")\n",
        "        doc_to_test=nlp(text)\n",
        "        \n",
        "        d={}\n",
        "        for ent in doc_to_test.ents:\n",
        "            d[ent.label_]=[]\n",
        "        for ent in doc_to_test.ents:\n",
        "            d[ent.label_].append(ent.text)\n",
        "\n",
        "        for i in set(d.keys()):\n",
        "            f.write(\"\\n\\n\")\n",
        "            f.write(i +\":\"+\"\\n\")\n",
        "            for j in set(d[i]):\n",
        "                f.write(j.replace('\\n','')+\"\\n\")\n",
        "        d={}\n",
        "        for ent in doc_to_test.ents:\n",
        "            d[ent.label_]=[0,0,0,0,0,0]\n",
        "        for ent in doc_to_test.ents:\n",
        "            doc_gold_text= nlp.make_doc(text)\n",
        "            gold = GoldParse(doc_gold_text, entities=annot.get(\"entities\"))\n",
        "            y_true = [ent.label_ if ent.label_ in x else 'Not '+ent.label_ for x in gold.ner]\n",
        "            y_pred = [x.ent_type_ if x.ent_type_ ==ent.label_ else 'Not '+ent.label_ for x in doc_to_test]  \n",
        "            if(d[ent.label_][0]==0):\n",
        "                \n",
        "                (p,r,f,s)= precision_recall_fscore_support(y_true,y_pred,average='weighted')\n",
        "                a=accuracy_score(y_true,y_pred)\n",
        "                d[ent.label_][0]=1\n",
        "                d[ent.label_][1]+=p\n",
        "                d[ent.label_][2]+=r\n",
        "                d[ent.label_][3]+=f\n",
        "                d[ent.label_][4]+=a\n",
        "                d[ent.label_][5]+=1\n",
        "        c+=1\n",
        "    \n",
        "    for i in d:\n",
        "        print(\"\\n For Entity \"+i+\"\\n\")\n",
        "        print(\"Accuracy : \"+str((d[i][4]/d[i][5])*100)+\"%\")\n",
        "        print(\"Precision : \"+str(d[i][1]/d[i][5]))\n",
        "        print(\"Recall : \"+str(d[i][2]/d[i][5]))\n",
        "        print(\"F-score : \"+str(d[i][3]/d[i][5]))"
      ],
      "execution_count": 0,
      "outputs": [
        {
          "output_type": "stream",
          "text": [
            "/usr/local/lib/python3.6/dist-packages/sklearn/metrics/_classification.py:1272: UndefinedMetricWarning: Recall and F-score are ill-defined and being set to 0.0 in labels with no true samples. Use `zero_division` parameter to control this behavior.\n",
            "  _warn_prf(average, modifier, msg_start, len(result))\n"
          ],
          "name": "stderr"
        },
        {
          "output_type": "stream",
          "text": [
            "\n",
            " For Entity ACC TYPE\n",
            "\n",
            "Accuracy : 99.88586429264396%\n",
            "Precision : 0.9995108469684741\n",
            "Recall : 0.9988586429264396\n",
            "F-score : 0.9990865882018577\n",
            "\n",
            " For Entity CATEGORY\n",
            "\n",
            "Accuracy : 98.49340866290018%\n",
            "Precision : 0.9959824231010671\n",
            "Recall : 0.9849340866290018\n",
            "F-score : 0.9892377785669381\n",
            "\n",
            " For Entity TITLE\n",
            "\n",
            "Accuracy : 100.0%\n",
            "Precision : 1.0\n",
            "Recall : 1.0\n",
            "F-score : 1.0\n"
          ],
          "name": "stdout"
        }
      ]
    },
    {
      "cell_type": "code",
      "metadata": {
        "id": "50D9gapA-BGd",
        "colab_type": "code",
        "outputId": "0a827c2b-86e0-412e-b08c-c88debe46a26",
        "colab": {
          "base_uri": "https://localhost:8080/",
          "height": 1000
        }
      },
      "source": [
        "def predict(filepath,type,output_filename,nlp):\n",
        "        f=open(output_filename,\"w\")\n",
        "        doc_to_test=\"\"\n",
        "        if type=='pdf':\n",
        "          doc_to_test=nlp(pdf_core(filepath))\n",
        "        elif type=='png':\n",
        "          doc_to_test=nlp(ocr_core(filepath))\n",
        "        d={}\n",
        "        for ent in doc_to_test.ents:\n",
        "            d[ent.label_]=[]\n",
        "        for ent in doc_to_test.ents:\n",
        "            d[ent.label_].append(ent.text)\n",
        "\n",
        "        for i in set(d.keys()):\n",
        "            print(\"\\n\\n\")\n",
        "            print(i +\":\"+\"\\n\")\n",
        "            for j in set(d[i]):\n",
        "                print(j.replace('\\n','')+\"\\n\")\n",
        "\n",
        "predict('/content/drive/My Drive/DOC-NER/Schwab_IRA/Jonathan_K_Sanchez_.pdf','pdf','predict.txt',nlp)"
      ],
      "execution_count": 0,
      "outputs": [
        {
          "output_type": "stream",
          "text": [
            "\n",
            "\n",
            "\n",
            "ACC TYPE:\n",
            "\n",
            "IRA until\n",
            "\n",
            "IRA     \n",
            "\n",
            "IRA to\n",
            "\n",
            "IRA                 \n",
            "\n",
            "IRA.\n",
            "\n",
            "IRA    \n",
            "\n",
            "IRA)\n",
            "\n",
            "IRA;\n",
            "\n",
            "IRA established\n",
            "\n",
            "IRA is\n",
            "\n",
            "IRA\t\t\n",
            "\n",
            "IRA assets\n",
            "\n",
            "IRAs\n",
            "\n",
            "\n",
            "\n",
            "\n",
            "CATEGORY:\n",
            "\n",
            "Schwab Individual\n",
            "\n",
            "Schwab in\n",
            "\n",
            "Schwab:\n",
            "\n",
            "Schwab                     \n",
            "\n",
            "Schwab Account\n",
            "\n",
            "Schwab One\n",
            "\n",
            "Schwab Private\n",
            "\n",
            "Schwab harmless\n",
            "\n",
            "Schwab Advisor\n",
            "\n",
            "Schwab brokerage\n",
            "\n",
            "Schwab,\n",
            "\n",
            "Schwab Corporation\n",
            "\n",
            "Schwab receives\n",
            "\n",
            "Schwab MoneyLink\n",
            "\n",
            "Schwab will\n",
            "\n",
            "Schwab           \n",
            "\n",
            "Schwab                                                             \n",
            "\n",
            "Schwab)\n",
            "\n",
            "Schwab Paperless\n",
            "\n",
            "Schwab Traditional\n",
            "\n",
            "Schwab fees\n",
            "\n",
            "Schwab shall\n",
            "\n",
            "Schwab                         \n",
            "\n",
            "Schwab                                                         \n",
            "\n",
            "Schwab Bank\n",
            "\n",
            "Schwab                            \n",
            "\n",
            "Schwab is\n",
            "\n",
            "Schwab representative\n",
            "\n",
            "Schwab website\n",
            "\n",
            "Schwab deems\n",
            "\n",
            "Schwab (\n",
            "\n",
            "Schwab on\n",
            "\n",
            "Schwab IRA\n",
            "\n",
            "Schwab site\n",
            "\n",
            "Schwab    \n",
            "\n",
            "Schwab respects\n",
            "\n",
            "Schwab Alliance\n",
            "\n",
            "Schwab.\n",
            "\n",
            "Schwab or\n",
            "\n",
            "Schwab accounts\n",
            "\n",
            "Schwab Managed\n",
            "\n",
            "Schwab retail\n",
            "\n",
            "Schwab makes\n",
            "\n",
            "Schwab based\n",
            "\n",
            "Schwab can\n",
            "\n",
            "Schwab disclose\n",
            "\n",
            "Schwab agrees\n",
            "\n",
            "Schwab determines\n",
            "\n",
            "Schwab;\n",
            "\n",
            "Schwab terminates\n",
            "\n",
            "Schwab to\n",
            "\n",
            "Schwab any\n",
            "\n",
            "Schwab recommends\n",
            "\n",
            "Schwab has\n",
            "\n",
            "Schwab research\n",
            "\n",
            "Schwab may\n",
            "\n",
            "Schwab          \n",
            "\n",
            "Schwab”\n",
            "\n",
            "Schwab changes\n",
            "\n",
            "Schwab             \n",
            "\n",
            "Schwab                                                                     \n",
            "\n",
            "Schwab reserves\n",
            "\n",
            "Schwab representatives\n",
            "\n",
            "Schwab                \n",
            "\n",
            "Schwab’s\n",
            "\n",
            "Schwab fails\n",
            "\n",
            "Schwab are\n",
            "\n",
            "Schwab and\n",
            "\n",
            "Schwab         \n",
            "\n",
            "Schwab\n",
            "\n",
            "\n",
            "\n",
            "\n",
            "TITLE:\n",
            "\n",
            "Account Application.\n",
            "\n",
            "\n",
            "\n",
            "\n",
            "CITY:\n",
            "\n",
            "New York                \n",
            "\n"
          ],
          "name": "stdout"
        }
      ]
    },
    {
      "cell_type": "code",
      "metadata": {
        "id": "OCkM4I8cZbd9",
        "colab_type": "code",
        "outputId": "55493ba6-c39d-4bc9-d786-069a63488fef",
        "colab": {
          "base_uri": "https://localhost:8080/",
          "height": 1000
        }
      },
      "source": [
        "def predict(filepath,type,output_filename,nlp):\n",
        "        f=open(output_filename,\"w\")\n",
        "        doc_to_test=\"\"\n",
        "        if type=='pdf':\n",
        "          doc_to_test=nlp(pdf_core(filepath))\n",
        "        elif type=='png':\n",
        "          doc_to_test=nlp(ocr_core(filepath))\n",
        "        d={}\n",
        "        for ent in doc_to_test.ents:\n",
        "            d[ent.label_]=[]\n",
        "        for ent in doc_to_test.ents:\n",
        "            d[ent.label_].append(ent.text)\n",
        "\n",
        "        for i in set(d.keys()):\n",
        "            print(\"\\n\\n\")\n",
        "            print(i +\":\"+\"\\n\")\n",
        "            for j in set(d[i]):\n",
        "                print(j.replace('\\n','')+\"\\n\")\n",
        "\n",
        "predict('/content/drive/My Drive/DOC-NER/Schwab_IRA/James_B_Adams_.pdf','pdf','predict.txt',nlp)"
      ],
      "execution_count": 0,
      "outputs": [
        {
          "output_type": "stream",
          "text": [
            "\n",
            "\n",
            "\n",
            "ACC TYPE:\n",
            "\n",
            "IRA until\n",
            "\n",
            "IRA     \n",
            "\n",
            "IRA to\n",
            "\n",
            "IRA                 \n",
            "\n",
            "IRA.\n",
            "\n",
            "IRA    \n",
            "\n",
            "IRA)\n",
            "\n",
            "IRA;\n",
            "\n",
            "IRA established\n",
            "\n",
            "IRA is\n",
            "\n",
            "IRA\t\t\n",
            "\n",
            "IRA assets\n",
            "\n",
            "IRAs\n",
            "\n",
            "\n",
            "\n",
            "\n",
            "CATEGORY:\n",
            "\n",
            "Schwab Individual\n",
            "\n",
            "Schwab in\n",
            "\n",
            "Schwab:\n",
            "\n",
            "Schwab                     \n",
            "\n",
            "Schwab Account\n",
            "\n",
            "Schwab One\n",
            "\n",
            "Schwab Private\n",
            "\n",
            "Schwab harmless\n",
            "\n",
            "Schwab Advisor\n",
            "\n",
            "Schwab brokerage\n",
            "\n",
            "Schwab,\n",
            "\n",
            "Schwab Corporation\n",
            "\n",
            "Schwab receives\n",
            "\n",
            "Schwab MoneyLink\n",
            "\n",
            "Schwab will\n",
            "\n",
            "Schwab           \n",
            "\n",
            "Schwab                                                             \n",
            "\n",
            "Schwab)\n",
            "\n",
            "Schwab Paperless\n",
            "\n",
            "Schwab Traditional\n",
            "\n",
            "Schwab fees\n",
            "\n",
            "Schwab shall\n",
            "\n",
            "Schwab                         \n",
            "\n",
            "Schwab                                                         \n",
            "\n",
            "Schwab Bank\n",
            "\n",
            "Schwab                            \n",
            "\n",
            "Schwab is\n",
            "\n",
            "Schwab representative\n",
            "\n",
            "Schwab website\n",
            "\n",
            "Schwab deems\n",
            "\n",
            "Schwab (\n",
            "\n",
            "Schwab on\n",
            "\n",
            "Schwab IRA\n",
            "\n",
            "Schwab site\n",
            "\n",
            "Schwab    \n",
            "\n",
            "Schwab respects\n",
            "\n",
            "Schwab Alliance\n",
            "\n",
            "Schwab.\n",
            "\n",
            "Schwab or\n",
            "\n",
            "Schwab accounts\n",
            "\n",
            "Schwab Managed\n",
            "\n",
            "Schwab retail\n",
            "\n",
            "Schwab makes\n",
            "\n",
            "Schwab based\n",
            "\n",
            "Schwab can\n",
            "\n",
            "Schwab disclose\n",
            "\n",
            "Schwab agrees\n",
            "\n",
            "Schwab determines\n",
            "\n",
            "Schwab;\n",
            "\n",
            "Schwab terminates\n",
            "\n",
            "Schwab to\n",
            "\n",
            "Schwab any\n",
            "\n",
            "Schwab recommends\n",
            "\n",
            "Schwab has\n",
            "\n",
            "Schwab research\n",
            "\n",
            "Schwab may\n",
            "\n",
            "Schwab          \n",
            "\n",
            "Schwab”\n",
            "\n",
            "Schwab changes\n",
            "\n",
            "Schwab             \n",
            "\n",
            "Schwab                                                                     \n",
            "\n",
            "Schwab reserves\n",
            "\n",
            "Schwab representatives\n",
            "\n",
            "Schwab                \n",
            "\n",
            "Schwab’s\n",
            "\n",
            "Schwab fails\n",
            "\n",
            "Schwab are\n",
            "\n",
            "Schwab and\n",
            "\n",
            "Schwab         \n",
            "\n",
            "Schwab\n",
            "\n",
            "\n",
            "\n",
            "\n",
            "TITLE:\n",
            "\n",
            "Account Application.\n",
            "\n",
            "\n",
            "\n",
            "\n",
            "CITY:\n",
            "\n",
            "New York                \n",
            "\n"
          ],
          "name": "stdout"
        }
      ]
    },
    {
      "cell_type": "markdown",
      "metadata": {
        "id": "n1qmp1ba-Wwp",
        "colab_type": "text"
      },
      "source": [
        "## **TEXT CLASSIFICATION/ ANALYSIS USING [LSTM (Long Short Term Memory)]**\n",
        "In this final step we perform, sentiment analysis over the text, saved in an CSV File, using the LSTM Architecture to predict the category of the form (i.e the company to which the form belongs).\n",
        "\n",
        "**Input:-** Results from NER\n",
        "\n",
        "**Output:-** *Category* ['Merrill Lynch', 'Charles Schwab'.......] "
      ]
    },
    {
      "cell_type": "code",
      "metadata": {
        "id": "QQ5_4VX2-BQd",
        "colab_type": "code",
        "colab": {}
      },
      "source": [
        "import pandas as pd\n",
        "import numpy as np\n"
      ],
      "execution_count": 0,
      "outputs": []
    },
    {
      "cell_type": "code",
      "metadata": {
        "id": "RlV0LRAF_jhC",
        "colab_type": "code",
        "colab": {}
      },
      "source": [
        "from io import StringIO\n",
        "from google.colab import files\n",
        "uploaded = files.upload()"
      ],
      "execution_count": 0,
      "outputs": []
    },
    {
      "cell_type": "code",
      "metadata": {
        "id": "UeNrq48B_jp-",
        "colab_type": "code",
        "colab": {}
      },
      "source": [
        "path = '/content/IRA.csv'"
      ],
      "execution_count": 0,
      "outputs": []
    },
    {
      "cell_type": "code",
      "metadata": {
        "id": "8A3FJ8cz_jyV",
        "colab_type": "code",
        "colab": {}
      },
      "source": [
        "df = pd.read_csv(path, encoding = 'unicode_escape')"
      ],
      "execution_count": 0,
      "outputs": []
    },
    {
      "cell_type": "code",
      "metadata": {
        "id": "qNMkMBGp_j5_",
        "colab_type": "code",
        "colab": {}
      },
      "source": [
        "df = pd.read_csv(path, encoding = 'unicode_escape')"
      ],
      "execution_count": 0,
      "outputs": []
    },
    {
      "cell_type": "code",
      "metadata": {
        "id": "0gs1Smyj_kB5",
        "colab_type": "code",
        "colab": {}
      },
      "source": [
        "import torch\n",
        "from torchtext import data"
      ],
      "execution_count": 0,
      "outputs": []
    },
    {
      "cell_type": "code",
      "metadata": {
        "id": "Y7e4Voif_kJh",
        "colab_type": "code",
        "colab": {}
      },
      "source": [
        "TEXT = data.Field(tokenize = 'spacy', lower = True)\n",
        "LABEL = data.LabelField()"
      ],
      "execution_count": 0,
      "outputs": []
    },
    {
      "cell_type": "code",
      "metadata": {
        "id": "LyuCqpyj_kRQ",
        "colab_type": "code",
        "colab": {}
      },
      "source": [
        "fields = [('sl', TEXT), ('category', LABEL), ('file_name', TEXT), ('file_size', TEXT), ('title', TEXT), ('file_desc', TEXT), ('client', TEXT), ('address', TEXT), ('social_number', TEXT), ('merrill_no', TEXT), ('acc_no', TEXT), ('acc_type', TEXT), ('phone', TEXT), ('city', TEXT), ('email', TEXT)]"
      ],
      "execution_count": 0,
      "outputs": []
    },
    {
      "cell_type": "code",
      "metadata": {
        "id": "fLFNHJdp_kZu",
        "colab_type": "code",
        "colab": {}
      },
      "source": [
        "news = data.TabularDataset(\n",
        "    path='IRA.csv', format='csv',\n",
        "    fields = fields,\n",
        "    skip_header= True)\n"
      ],
      "execution_count": 0,
      "outputs": []
    },
    {
      "cell_type": "code",
      "metadata": {
        "id": "zm5Wrr_R_khf",
        "colab_type": "code",
        "colab": {}
      },
      "source": [
        "import random\n",
        "SEED = 1234\n",
        "\n",
        "trn, vld, tst = news.split(split_ratio=[0.7, 0.2, 0.1], random_state = random.seed(SEED))"
      ],
      "execution_count": 0,
      "outputs": []
    },
    {
      "cell_type": "code",
      "metadata": {
        "id": "p5wrRfB2_kpW",
        "colab_type": "code",
        "colab": {}
      },
      "source": [
        "vars(trn[0])     "
      ],
      "execution_count": 0,
      "outputs": []
    },
    {
      "cell_type": "code",
      "metadata": {
        "id": "dVhk04op_kxr",
        "colab_type": "code",
        "colab": {}
      },
      "source": [
        "TEXT.build_vocab(trn, \n",
        "                 vectors = \"glove.6B.100d\", \n",
        "                 unk_init = torch.Tensor.normal_)\n",
        "\n",
        "LABEL.build_vocab(trn)"
      ],
      "execution_count": 0,
      "outputs": []
    },
    {
      "cell_type": "code",
      "metadata": {
        "id": "qs6hy6fS_k5t",
        "colab_type": "code",
        "colab": {}
      },
      "source": [
        "print(len(TEXT.vocab))\n",
        "print(len(LABEL.vocab))"
      ],
      "execution_count": 0,
      "outputs": []
    },
    {
      "cell_type": "code",
      "metadata": {
        "id": "e5gE6pqO_lCI",
        "colab_type": "code",
        "colab": {}
      },
      "source": [
        "print(LABEL.vocab.stoi)"
      ],
      "execution_count": 0,
      "outputs": []
    },
    {
      "cell_type": "code",
      "metadata": {
        "id": "96GPgNha_lKN",
        "colab_type": "code",
        "colab": {}
      },
      "source": [
        "BATCH_SIZE = 64\n",
        "\n",
        "device = torch.device('cuda' if torch.cuda.is_available() else 'cpu')\n",
        "\n",
        "train_iterator, valid_iterator, test_iterator = data.BucketIterator.splits(\n",
        "    (trn, vld, tst), \n",
        "    batch_size = BATCH_SIZE, \n",
        "    device = device,\n",
        "    sort_key= lambda x:x.client, \n",
        "    sort_within_batch= False\n",
        "    )"
      ],
      "execution_count": 0,
      "outputs": []
    },
    {
      "cell_type": "code",
      "metadata": {
        "id": "JD3SQyHIAMVL",
        "colab_type": "code",
        "colab": {}
      },
      "source": [
        "import torch.nn as nn\n",
        "\n",
        "class RNN(nn.Module):\n",
        "    def __init__(self, vocab_size, embedding_dim, hidden_dim, output_dim, n_layers, bidirectional, dropout):\n",
        "        \n",
        "        super().__init__()\n",
        "                \n",
        "        self.embedding = nn.Embedding(vocab_size, embedding_dim)\n",
        "        \n",
        "        self.lstm_fn = nn.LSTM(embedding_dim, hidden_dim, num_layers = n_layers, bidirectional = bidirectional, dropout = dropout)\n",
        "        self.lstm_fs = nn.LSTM(embedding_dim, hidden_dim, num_layers = n_layers, bidirectional = bidirectional, dropout = dropout)\n",
        "        self.lstm_title = nn.LSTM(embedding_dim, hidden_dim, num_layers = n_layers, bidirectional = bidirectional, dropout = dropout)\n",
        "        self.lstm_fdesc = nn.LSTM(embedding_dim, hidden_dim, num_layers = n_layers, bidirectional = bidirectional, dropout = dropout)\n",
        "        self.lstm_head = nn.LSTM(embedding_dim, hidden_dim, num_layers = n_layers, bidirectional = bidirectional, dropout = dropout)\n",
        "        self.lstm_desc = nn.LSTM(embedding_dim, hidden_dim, num_layers = n_layers, bidirectional = bidirectional, dropout = dropout)\n",
        "\n",
        "       ## Social security number(ssn)\n",
        "        ## Relationship NUmber\n",
        "        self.lstm_ssn = nn.LSTM(embedding_dim, hidden_dim, num_layers = n_layers, bidirectional = bidirectional, dropout = dropout)\n",
        "        self.lstm_mn = nn.LSTM(embedding_dim, hidden_dim, num_layers = n_layers, bidirectional = bidirectional, dropout = dropout)\n",
        "        self.lstm_acn = nn.LSTM(embedding_dim, hidden_dim, num_layers = n_layers, bidirectional = bidirectional, dropout = dropout)\n",
        "        self.lstm_act = nn.LSTM(embedding_dim, hidden_dim, num_layers = n_layers, bidirectional = bidirectional, dropout = dropout)\n",
        "        self.lstm_phone = nn.LSTM(embedding_dim, hidden_dim, num_layers = n_layers, bidirectional = bidirectional, dropout = dropout)\n",
        "        self.lstm_city = nn.LSTM(embedding_dim, hidden_dim, num_layers = n_layers, bidirectional = bidirectional, dropout = dropout)\n",
        "        self.lstm_email = nn.LSTM(embedding_dim, hidden_dim, num_layers = n_layers, bidirectional = bidirectional, dropout = dropout)\n",
        "\n",
        "        self.fc_fn = nn.Linear(hidden_dim * 2, 100)\n",
        "        self.fc_fs = nn.Linear(hidden_dim * 2, 100)\n",
        "        self.fc_title = nn.Linear(hidden_dim * 2, 100)\n",
        "        self.fc_fdesc = nn.Linear(hidden_dim * 2, 100)\n",
        "        self.fc_head = nn.Linear(hidden_dim * 2, 100)\n",
        "        self.fc_desc = nn.Linear(hidden_dim * 2, 100)\n",
        "        self.fc_ssn = nn.Linear(hidden_dim * 2, 100)\n",
        "        self.fc_mn = nn.Linear(hidden_dim * 2, 100)\n",
        "        self.fc_acn = nn.Linear(hidden_dim * 2, 100)\n",
        "        self.fc_act = nn.Linear(hidden_dim * 2, 100)\n",
        "        self.fc_phone = nn.Linear(hidden_dim * 2, 100)\n",
        "        self.fc_city = nn.Linear(hidden_dim * 2, 100)\n",
        "        self.fc_email = nn.Linear(hidden_dim * 2, 100)\n",
        "\n",
        "        self.fc_total = nn.Linear(1300, output_dim)\n",
        "        \n",
        "        self.dropout = nn.Dropout(dropout)\n",
        "                \n",
        "    def forward(self, file_name, file_size, title, file_desc, headline, description, social_number, merrill_no, acc_no, acc_type, phone, city, email):\n",
        "                        \n",
        "        embedded_fn = self.dropout(self.embedding(file_name))\n",
        "        embedded_fs = self.dropout(self.embedding(file_size))\n",
        "        embedded_title = self.dropout(self.embedding(title))\n",
        "        embedded_fdesc = self.dropout(self.embedding(file_desc))\n",
        "        embedded_head = self.dropout(self.embedding(headline))\n",
        "        embedded_desc= self.dropout(self.embedding(description))\n",
        "        embedded_ssn = self.dropout(self.embedding(social_number))\n",
        "        embedded_mn = self.dropout(self.embedding(merrill_no))\n",
        "        embedded_acn = self.dropout(self.embedding(acc_no))\n",
        "        embedded_act = self.dropout(self.embedding(acc_type))\n",
        "        embedded_phone = self.dropout(self.embedding(phone))\n",
        "        embedded_city = self.dropout(self.embedding(city))\n",
        "        embedded_email = self.dropout(self.embedding(email))\n",
        "                                    \n",
        "        output_fn, (hidden_fn, cell_fn) = self.lstm_fn(embedded_fn)\n",
        "        output_fs, (hidden_fs, cell_fs) = self.lstm_fs(embedded_fs)\n",
        "        output_title, (hidden_title, cell_title) = self.lstm_title(embedded_title)\n",
        "        output_fdesc, (hidden_fdesc, cell_fdesc) = self.lstm_fdesc(embedded_fdesc)\n",
        "        output_head, (hidden_head, cell_head) = self.lstm_head(embedded_head)\n",
        "        output_desc, (hidden_desc, cell_desc) = self.lstm_desc(embedded_desc)\n",
        "        output_ssn, (hidden_ssn, cell_ssn) = self.lstm_ssn(embedded_ssn)\n",
        "        output_mn, (hidden_mn, cell_mn) = self.lstm_mn(embedded_mn)\n",
        "        output_acn, (hidden_acn, cell_acn) = self.lstm_acn(embedded_acn)\n",
        "        output_act, (hidden_act, cell_act) = self.lstm_act(embedded_act)\n",
        "        output_phone, (hidden_phone, cell_phone) = self.lstm_phone(embedded_phone)\n",
        "        output_city, (hidden_city, cell_city) = self.lstm_city(embedded_city)\n",
        "        output_email, (hidden_email, cell_email) = self.lstm_email(embedded_email)\n",
        "   \n",
        "        hidden_fn = self.dropout(torch.cat((hidden_fn[-2, :, :], hidden_fn[-1, :, :]), dim = 1))\n",
        "        hidden_fs = self.dropout(torch.cat((hidden_fs[-2, :, :], hidden_fs[-1, :, :]), dim = 1))\n",
        "        hidden_title = self.dropout(torch.cat((hidden_title[-2, :, :], hidden_title[-1, :, :]), dim = 1))\n",
        "        hidden_fdesc = self.dropout(torch.cat((hidden_fdesc[-2, :, :], hidden_fdesc[-1, :, :]), dim = 1))\n",
        "        hidden_head = self.dropout(torch.cat((hidden_head[-2, :, :], hidden_head[-1, :, :]), dim = 1))\n",
        "        hidden_desc = self.dropout(torch.cat((hidden_desc[-2, :, :], hidden_desc[-1, :, :]), dim = 1))\n",
        "        hidden_ssn = self.dropout(torch.cat((hidden_ssn[-2, :, :], hidden_ssn[-1, :, :]), dim = 1))\n",
        "        hidden_mn = self.dropout(torch.cat((hidden_mn[-2, :, :], hidden_mn[-1, :, :]), dim = 1))\n",
        "        hidden_acn = self.dropout(torch.cat((hidden_acn[-2, :, :], hidden_acn[-1, :, :]), dim = 1))\n",
        "        hidden_act = self.dropout(torch.cat((hidden_act[-2, :, :], hidden_act[-1, :, :]), dim = 1))\n",
        "        hidden_phone = self.dropout(torch.cat((hidden_phone[-2, :, :], hidden_phone[-1, :, :]), dim = 1))\n",
        "        hidden_city = self.dropout(torch.cat((hidden_city[-2, :, :], hidden_city[-1, :, :]), dim = 1))\n",
        "        hidden_email = self.dropout(torch.cat((hidden_email[-2, :, :], hidden_email[-1, :, :]), dim = 1))\n",
        "\n",
        "        \n",
        "               \n",
        "        full_fn = self.fc_fn(hidden_fn)\n",
        "        full_fs = self.fc_fs(hidden_fs)\n",
        "        full_title = self.fc_title(hidden_title)\n",
        "        full_fdesc = self.fc_fdesc(hidden_fdesc)\n",
        "        full_head = self.fc_head(hidden_head)\n",
        "        full_desc = self.fc_desc(hidden_desc)\n",
        "        full_ssn = self.fc_ssn(hidden_ssn)\n",
        "        full_mn = self.fc_mn(hidden_mn)\n",
        "        full_acn = self.fc_acn(hidden_acn)\n",
        "        full_act = self.fc_act(hidden_act)\n",
        "        full_phone = self.fc_phone(hidden_phone)\n",
        "        full_city = self.fc_city(hidden_city)\n",
        "        full_email = self.fc_email(hidden_email)\n",
        "\n",
        "               \n",
        "        hidden_total = torch.cat((full_fn, full_fs, full_title, full_fdesc, full_head, full_desc, full_ssn, full_mn, full_acn, full_act, full_phone, full_city, full_email), 1)\n",
        "        \n",
        "        return self.fc_total(hidden_total)"
      ],
      "execution_count": 0,
      "outputs": []
    },
    {
      "cell_type": "code",
      "metadata": {
        "id": "ZzrEaxCoAMeF",
        "colab_type": "code",
        "colab": {}
      },
      "source": [
        "INPUT_DIM = len(TEXT.vocab)\n",
        "EMBEDDING_DIM = 100\n",
        "HIDDEN_DIM = 256\n",
        "OUTPUT_DIM = 3\n",
        "N_LAYERS = 2\n",
        "BIDIRECTIONAL = True\n",
        "DROPOUT = 0.2\n",
        "\n",
        "model = RNN(INPUT_DIM, EMBEDDING_DIM, HIDDEN_DIM, OUTPUT_DIM, N_LAYERS, BIDIRECTIONAL, DROPOUT)"
      ],
      "execution_count": 0,
      "outputs": []
    },
    {
      "cell_type": "code",
      "metadata": {
        "id": "7SFnm0cQAMlb",
        "colab_type": "code",
        "colab": {}
      },
      "source": [
        "def count_parameters(model):\n",
        "    return sum(p.numel() for p in model.parameters() if p.requires_grad)\n",
        "\n",
        "print(f'The model has {count_parameters(model):,} trainable parameters')"
      ],
      "execution_count": 0,
      "outputs": []
    },
    {
      "cell_type": "code",
      "metadata": {
        "id": "GhyrwIdxAMtJ",
        "colab_type": "code",
        "colab": {}
      },
      "source": [
        "pretrained_embeddings = TEXT.vocab.vectors\n",
        "\n",
        "print(pretrained_embeddings.shape)"
      ],
      "execution_count": 0,
      "outputs": []
    },
    {
      "cell_type": "code",
      "metadata": {
        "id": "QSPK8LjoAM1M",
        "colab_type": "code",
        "colab": {}
      },
      "source": [
        "model.embedding.weight.data.copy_(pretrained_embeddings)"
      ],
      "execution_count": 0,
      "outputs": []
    },
    {
      "cell_type": "code",
      "metadata": {
        "id": "U94TQlHJAM9E",
        "colab_type": "code",
        "colab": {}
      },
      "source": [
        "import torch.optim as optim\n",
        "\n",
        "optimizer = optim.Adam(model.parameters())"
      ],
      "execution_count": 0,
      "outputs": []
    },
    {
      "cell_type": "code",
      "metadata": {
        "id": "QtG11dsa_lSw",
        "colab_type": "code",
        "colab": {}
      },
      "source": [
        "criterion = nn.CrossEntropyLoss()\n",
        "\n",
        "model = model.to(device)\n",
        "criterion = criterion.to(device)"
      ],
      "execution_count": 0,
      "outputs": []
    },
    {
      "cell_type": "code",
      "metadata": {
        "id": "U0LYkSpfAaLW",
        "colab_type": "code",
        "colab": {}
      },
      "source": [
        "def categorical_accuracy(preds, y):\n",
        "    max_preds = preds.argmax(dim = 1, keepdim = True)\n",
        "    correct = max_preds.squeeze(1).eq(y)\n",
        "    return correct.sum() / torch.FloatTensor([y.shape[0]])"
      ],
      "execution_count": 0,
      "outputs": []
    },
    {
      "cell_type": "code",
      "metadata": {
        "id": "ZlcRWaaXAaTr",
        "colab_type": "code",
        "colab": {}
      },
      "source": [
        "def train(model, iterator, optimizer, criterion):\n",
        "    \n",
        "    epoch_loss = 0\n",
        "    epoch_acc = 0\n",
        "    \n",
        "    model.train()\n",
        "    \n",
        "    for batch in iterator:\n",
        "        \n",
        "        optimizer.zero_grad()\n",
        "                        \n",
        "        predictions = model(batch.file_name, batch.file_size, batch.title, batch.file_desc, batch.client, batch.address, batch.social_number, batch.merrill_no, batch.acc_no, batch.acc_type, batch.phone, batch.city, batch.email).squeeze(1)\n",
        "        \n",
        "        loss = criterion(predictions, batch.category)\n",
        "        \n",
        "        acc = categorical_accuracy(predictions, batch.category)\n",
        "        \n",
        "        loss.backward()\n",
        "        \n",
        "        optimizer.step()\n",
        "        \n",
        "        epoch_loss += loss.item()\n",
        "        epoch_acc += acc.item()\n",
        "        \n",
        "    return epoch_loss / len(iterator), epoch_acc / len(iterator)"
      ],
      "execution_count": 0,
      "outputs": []
    },
    {
      "cell_type": "code",
      "metadata": {
        "id": "z0BxA2tOAaa6",
        "colab_type": "code",
        "colab": {}
      },
      "source": [
        "def evaluate(model, iterator, criterion):\n",
        "    \n",
        "    epoch_loss = 0\n",
        "    epoch_acc = 0\n",
        "    \n",
        "    model.eval()\n",
        "    \n",
        "    with torch.no_grad():\n",
        "    \n",
        "        for batch in iterator:\n",
        "            \n",
        "            predictions = model(batch.file_name, batch.file_size, batch.title, batch.file_desc, batch.client, batch.address, batch.social_number, batch.merrill_no, batch.acc_no, batch.acc_type, batch.phone, batch.city, batch.email).squeeze(1) \n",
        "            \n",
        "            loss = criterion(predictions, batch.category)\n",
        "            \n",
        "            acc = categorical_accuracy(predictions, batch.client)\n",
        "\n",
        "            epoch_loss += loss.item()\n",
        "            epoch_acc += acc.item()\n",
        "        \n",
        "    return epoch_loss / len(iterator), epoch_acc / len(iterator)\n"
      ],
      "execution_count": 0,
      "outputs": []
    },
    {
      "cell_type": "code",
      "metadata": {
        "id": "vd0vD9v0Aaij",
        "colab_type": "code",
        "colab": {}
      },
      "source": [
        "import time\n",
        "\n",
        "def epoch_time(start_time, end_time):\n",
        "    elapsed_time = end_time - start_time\n",
        "    elapsed_mins = int(elapsed_time / 60)\n",
        "    elapsed_secs = int(elapsed_time - (elapsed_mins * 60))\n",
        "    return elapsed_mins, elapsed_secs\n"
      ],
      "execution_count": 0,
      "outputs": []
    },
    {
      "cell_type": "code",
      "metadata": {
        "id": "ptxjbWwGAapV",
        "colab_type": "code",
        "colab": {}
      },
      "source": [
        "N_EPOCHS = 5\n",
        "\n",
        "best_valid_loss = float('inf')\n",
        "\n",
        "for epoch in range(N_EPOCHS):\n",
        "\n",
        "    start_time = time.time()\n",
        "    \n",
        "    train_loss, train_acc = train(model, train_iterator, optimizer, criterion)\n",
        "    valid_loss, valid_acc = evaluate(model, valid_iterator, criterion)\n",
        "    \n",
        "    end_time = time.time()\n",
        "\n",
        "    epoch_mins, epoch_secs = epoch_time(start_time, end_time)\n",
        "    \n",
        "    if valid_loss < best_valid_loss:\n",
        "        best_valid_loss = valid_loss\n",
        "        torch.save(model.state_dict(), 'news_classification_model.pt')\n",
        "    \n",
        "    print(f'Epoch: {epoch+1:02} | Epoch Time: {epoch_mins}m {epoch_secs}s')\n",
        "    print(f'\\tTrain Loss: {train_loss:.3f} | Train Acc: {train_acc*100:.2f}%')\n",
        "    print(f'\\t Val. Loss: {valid_loss:.3f} |  Val. Acc: {valid_acc*100:.2f}%')"
      ],
      "execution_count": 0,
      "outputs": []
    },
    {
      "cell_type": "code",
      "metadata": {
        "id": "nAnKRF85Aaw5",
        "colab_type": "code",
        "colab": {}
      },
      "source": [
        "test_loss, test_acc = evaluate(model, test_iterator, criterion)\n",
        "\n",
        "print(f'Test Loss: {test_loss:.3f} | Test Acc: {test_acc*100:.2f}%')"
      ],
      "execution_count": 0,
      "outputs": []
    },
    {
      "cell_type": "code",
      "metadata": {
        "id": "q2pbkVf-Aa3X",
        "colab_type": "code",
        "colab": {}
      },
      "source": [
        "import spacy\n",
        "nlp = spacy.load('en')\n",
        "\n",
        "def predict_category(model, file_name, file_size, title, file_desc, head, desc, ssn, mn, acn, act, phone, city, email):\n",
        "    model.eval()\n",
        "    file_name = file_name.lower()\n",
        "    file_size = file_size.lower()\n",
        "    title = title.lower()\n",
        "    file_desc = file_desc.lower()\n",
        "    head = head.lower()\n",
        "    desc = desc.lower()\n",
        "    ssn = ssn.lower()\n",
        "    mn = mn.lower()\n",
        "    acn = acn.lower()\n",
        "    act = act.lower()\n",
        "    phone = phone.lower()\n",
        "    city = city.lower()\n",
        "    email = email.lower()\n",
        "   \n",
        "\n",
        "    tokenized_file_name = [tok.text for tok in nlp.tokenizer(file_name)]\n",
        "    tokenized_file_size = [tok.text for tok in nlp.tokenizer(file_size)]\n",
        "    tokenized_title = [tok.text for tok in nlp.tokenizer(title)]\n",
        "    tokenized_file_desc = [tok.text for tok in nlp.tokenizer(file_desc)]\n",
        "    tokenized_head = [tok.text for tok in nlp.tokenizer(head)]\n",
        "    tokenized_desc = [tok.text for tok in nlp.tokenizer(desc)]\n",
        "    tokenized_ssn = [tok.text for tok in nlp.tokenizer(ssn)]\n",
        "    tokenized_mn = [tok.text for tok in nlp.tokenizer(mn)]\n",
        "    tokenized_acn = [tok.text for tok in nlp.tokenizer(acn)]\n",
        "    tokenized_act = [tok.text for tok in nlp.tokenizer(act)]\n",
        "    tokenized_phone = [tok.text for tok in nlp.tokenizer(phone)]\n",
        "    tokenized_city = [tok.text for tok in nlp.tokenizer(city)]\n",
        "    tokenized_email = [tok.text for tok in nlp.tokenizer(email)]\n",
        "   \n",
        "    indexed_file_name = [TEXT.vocab.stoi[t] for t in tokenized_file_name]\n",
        "    indexed_file_size = [TEXT.vocab.stoi[t] for t in tokenized_file_size]\n",
        "    indexed_title = [TEXT.vocab.stoi[t] for t in tokenized_title]\n",
        "    indexed_file_desc = [TEXT.vocab.stoi[t] for t in tokenized_file_desc]\n",
        "    indexed_head = [TEXT.vocab.stoi[t] for t in tokenized_head]\n",
        "    indexed_desc = [TEXT.vocab.stoi[t] for t in tokenized_desc]\n",
        "    indexed_ssn = [TEXT.vocab.stoi[t] for t in tokenized_ssn]\n",
        "    indexed_mn = [TEXT.vocab.stoi[t] for t in tokenized_mn]\n",
        "    indexed_acn = [TEXT.vocab.stoi[t] for t in tokenized_acn]\n",
        "    indexed_act = [TEXT.vocab.stoi[t] for t in tokenized_act]\n",
        "    indexed_phone = [TEXT.vocab.stoi[t] for t in tokenized_phone]\n",
        "    indexed_city = [TEXT.vocab.stoi[t] for t in tokenized_city]\n",
        "    indexed_email = [TEXT.vocab.stoi[t] for t in tokenized_email]\n",
        "\n",
        "    \n",
        "    tensor_file_name = torch.LongTensor(indexed_file_name).to(device)\n",
        "    tensor_file_size = torch.LongTensor(indexed_file_size).to(device)\n",
        "    tensor_title = torch.LongTensor(indexed_title).to(device)\n",
        "    tensor_file_desc= torch.LongTensor(indexed_file_desc).to(device)\n",
        "    tensor_head = torch.LongTensor(indexed_head).to(device)\n",
        "    tensor_desc = torch.LongTensor(indexed_desc).to(device)\n",
        "    tensor_ssn = torch.LongTensor(indexed_ssn).to(device)\n",
        "    tensor_mn = torch.LongTensor(indexed_mn).to(device)\n",
        "    tensor_acn = torch.LongTensor(indexed_acn).to(device)\n",
        "    tensor_act = torch.LongTensor(indexed_act).to(device)\n",
        "    tensor_phone = torch.LongTensor(indexed_phone).to(device)\n",
        "    tensor_city = torch.LongTensor(indexed_city).to(device)\n",
        "    tensor_email = torch.LongTensor(indexed_email).to(device)\n",
        "\n",
        "    \n",
        "    tensor_file_name = tensor_file_name.unsqueeze(1)\n",
        "    tensor_file_size = tensor_file_size.unsqueeze(1)\n",
        "    tensor_title = tensor_title.unsqueeze(1)\n",
        "    tensor_file_desc = tensor_file_desc.unsqueeze(1)\n",
        "    tensor_head = tensor_head.unsqueeze(1)\n",
        "    tensor_desc = tensor_desc.unsqueeze(1)\n",
        "    tensor_ssn = tensor_ssn.unsqueeze(1)\n",
        "    tensor_mn = tensor_mn.unsqueeze(1)\n",
        "    tensor_acn = tensor_acn.unsqueeze(1)\n",
        "    tensor_act = tensor_act.unsqueeze(1)\n",
        "    tensor_phone = tensor_phone.unsqueeze(1)\n",
        "    tensor_city = tensor_city.unsqueeze(1)\n",
        "    tensor_email = tensor_email.unsqueeze(1)\n",
        "\n",
        "    prediction = model(tensor_file_name, tensor_file_size, tensor_title, tensor_file_desc, tensor_head, tensor_desc, tensor_ssn, tensor_mn, tensor_acn, tensor_act, tensor_phone, tensor_city, tensor_email)\n",
        "    max_pred = prediction.argmax(dim=1)\n",
        "    return max_pred.item()"
      ],
      "execution_count": 0,
      "outputs": []
    },
    {
      "cell_type": "code",
      "metadata": {
        "id": "KQj2JyOKAa-K",
        "colab_type": "code",
        "colab": {}
      },
      "source": [
        "pred = predict_category(model, \"Adrian Clemens\", \"298 KB\", \"Client Account Transfer Form\", \"Use this form to transfer all or a portion of your account from another financial institution to your Merrill Lynch, Pierce, Fenner & Smith Incorporated (“Merrill Lynch”) account.\", \"Daniel C Paul\", \"2 Seaport Ln\", \"545401875\", \"3350012\", \"89101454\", \"IRA\", \"5417542545\", \"Boston, MA,02210\", \"Adrian@gmail.com\" )\n",
        "print(f'Predicted category is: {pred} = {LABEL.vocab.itos[pred]}')"
      ],
      "execution_count": 0,
      "outputs": []
    },
    {
      "cell_type": "markdown",
      "metadata": {
        "id": "ajOKZCCBEnlf",
        "colab_type": "text"
      },
      "source": [
        "# By:- Saksham Dubey and Satish Patnaik, \n",
        "# Under the guidance and supervision of **Mr. Sheik Dawood**"
      ]
    }
  ]
}